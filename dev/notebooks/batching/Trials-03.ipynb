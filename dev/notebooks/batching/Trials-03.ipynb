{
 "cells": [
  {
   "cell_type": "markdown",
   "metadata": {},
   "source": [
    "```@meta\n",
    "CurrentModule = LaplaceRedux\n",
    "```\n",
    "## Batched Jacobians\n",
    "As applied to a multi-class classification task.\n",
    "\n",
    "### Multi-class problem"
   ]
  },
  {
   "cell_type": "code",
   "execution_count": 1,
   "metadata": {
    "tags": []
   },
   "outputs": [
    {
     "name": "stderr",
     "output_type": "stream",
     "text": [
      "\u001b[32m\u001b[1m  Activating\u001b[22m\u001b[39m project at `~/Builds/navimakarov/LaplaceRedux.jl/dev/notebooks/batching`\n"
     ]
    }
   ],
   "source": [
    "using Pkg\n",
    "Pkg.activate(\".\")\n",
    "using LaplaceRedux\n",
    "using LaplaceRedux.Curvature\n",
    "using LaplaceRedux.Data\n",
    "using Flux\n",
    "using Flux.Optimise: update!, Adam\n",
    "using Plots\n",
    "using Statistics\n",
    "using MLUtils\n",
    "using Zygote\n",
    "using Printf\n",
    "using NNlib\n",
    "using BenchmarkTools\n",
    "using Tullio"
   ]
  },
  {
   "cell_type": "code",
   "execution_count": 2,
   "metadata": {},
   "outputs": [
    {
     "data": {
      "text/plain": [
       "100-element Vector{Vector{Bool}}:\n",
       " [1, 0, 0, 0]\n",
       " [1, 0, 0, 0]\n",
       " [1, 0, 0, 0]\n",
       " [1, 0, 0, 0]\n",
       " [1, 0, 0, 0]\n",
       " [1, 0, 0, 0]\n",
       " [1, 0, 0, 0]\n",
       " [1, 0, 0, 0]\n",
       " [1, 0, 0, 0]\n",
       " [1, 0, 0, 0]\n",
       " [1, 0, 0, 0]\n",
       " [1, 0, 0, 0]\n",
       " [1, 0, 0, 0]\n",
       " ⋮\n",
       " [0, 0, 0, 1]\n",
       " [0, 0, 0, 1]\n",
       " [0, 0, 0, 1]\n",
       " [0, 0, 0, 1]\n",
       " [0, 0, 0, 1]\n",
       " [0, 0, 0, 1]\n",
       " [0, 0, 0, 1]\n",
       " [0, 0, 0, 1]\n",
       " [0, 0, 0, 1]\n",
       " [0, 0, 0, 1]\n",
       " [0, 0, 0, 1]\n",
       " [0, 0, 0, 1]"
      ]
     },
     "execution_count": 2,
     "metadata": {},
     "output_type": "execute_result"
    }
   ],
   "source": [
    "x, y = Data.toy_data_multi()\n",
    "X = hcat(x...)\n",
    "y_train = Flux.onehotbatch(y, unique(y))\n",
    "y_train = Flux.unstack(y_train',1)"
   ]
  },
  {
   "cell_type": "code",
   "execution_count": 3,
   "metadata": {},
   "outputs": [
    {
     "data": {
      "text/plain": [
       "loss (generic function with 1 method)"
      ]
     },
     "execution_count": 3,
     "metadata": {},
     "output_type": "execute_result"
    }
   ],
   "source": [
    "data = zip(x,y_train)\n",
    "n_hidden = 3\n",
    "D = size(X,1)\n",
    "out_dim = length(unique(y))\n",
    "nn = Chain(\n",
    "    Dense(D, n_hidden, σ),\n",
    "    Dense(n_hidden, out_dim)\n",
    ")  \n",
    "loss(x, y) = Flux.Losses.logitcrossentropy(nn(x), y)"
   ]
  },
  {
   "cell_type": "code",
   "execution_count": 4,
   "metadata": {},
   "outputs": [
    {
     "name": "stderr",
     "output_type": "stream",
     "text": [
      "\u001b[33m\u001b[1m┌ \u001b[22m\u001b[39m\u001b[33m\u001b[1mWarning: \u001b[22m\u001b[39mLayer with Float32 parameters got Float64 input.\n",
      "\u001b[33m\u001b[1m│ \u001b[22m\u001b[39m  The input will be converted, but any earlier layers may be very slow.\n",
      "\u001b[33m\u001b[1m│ \u001b[22m\u001b[39m  layer = Dense(2 => 3, σ)    \u001b[90m# 9 parameters\u001b[39m\n",
      "\u001b[33m\u001b[1m│ \u001b[22m\u001b[39m  summary(x) = \"2-element Vector{Float64}\"\n",
      "\u001b[33m\u001b[1m└ \u001b[22m\u001b[39m\u001b[90m@ Flux ~/.julia/packages/Flux/EHgZm/src/layers/stateless.jl:60\u001b[39m\n"
     ]
    },
    {
     "name": "stdout",
     "output_type": "stream",
     "text": [
      "Epoch 10\n",
      "avg_loss(data) = 0.85723996f0\n",
      "Epoch 20\n",
      "avg_loss(data) = 0.5992859f0\n",
      "Epoch 30\n",
      "avg_loss(data) = 0.43424362f0\n",
      "Epoch 40\n",
      "avg_loss(data) = 0.3196775f0\n",
      "Epoch 50\n",
      "avg_loss(data) = 0.23693909f0\n",
      "Epoch 60\n",
      "avg_loss(data) = 0.17637047f0\n",
      "Epoch 70\n",
      "avg_loss(data) = 0.13184537f0\n",
      "Epoch 80\n",
      "avg_loss(data) = 0.09902897f0\n",
      "Epoch 90\n",
      "avg_loss(data) = 0.07476296f0\n",
      "Epoch 100\n",
      "avg_loss(data) = 0.056746498f0\n"
     ]
    }
   ],
   "source": [
    "using Flux.Optimise: update!, Adam\n",
    "opt = Adam()\n",
    "epochs = 100\n",
    "avg_loss(data) = mean(map(d -> loss(d[1],d[2]), data))\n",
    "show_every = epochs/10\n",
    "\n",
    "for epoch = 1:epochs\n",
    "    for d in data\n",
    "        gs = gradient(Flux.params(nn)) do\n",
    "            l = loss(d...)\n",
    "        end\n",
    "        update!(opt, Flux.params(nn), gs)\n",
    "    end\n",
    "    if epoch % show_every == 0\n",
    "        println(\"Epoch \" * string(epoch))\n",
    "        @show avg_loss(data)\n",
    "    end\n",
    "end"
   ]
  },
  {
   "cell_type": "code",
   "execution_count": 14,
   "metadata": {
    "tags": []
   },
   "outputs": [
    {
     "data": {
      "text/plain": [
       "4×100 Matrix{Bool}:\n",
       " 1  1  1  1  1  1  1  1  1  1  1  1  1  …  0  0  0  0  0  0  0  0  0  0  0  0\n",
       " 0  0  0  0  0  0  0  0  0  0  0  0  0     0  0  0  0  0  0  0  0  0  0  0  0\n",
       " 0  0  0  0  0  0  0  0  0  0  0  0  0     0  0  0  0  0  0  0  0  0  0  0  0\n",
       " 0  0  0  0  0  0  0  0  0  0  0  0  0     1  1  1  1  1  1  1  1  1  1  1  1"
      ]
     },
     "execution_count": 14,
     "metadata": {},
     "output_type": "execute_result"
    }
   ],
   "source": [
    "Y = reduce(hcat, y_train)"
   ]
  },
  {
   "cell_type": "code",
   "execution_count": 15,
   "metadata": {
    "tags": []
   },
   "outputs": [
    {
     "data": {
      "text/plain": [
       "2×100 Matrix{Float64}:\n",
       " 3.45212  4.03781  3.85089  3.41911  5.31203  …  -2.64932  -6.52157  -6.3513\n",
       " 4.11912  1.88961  2.18114  1.31315  2.84395      2.88045   1.02894   4.07211"
      ]
     },
     "execution_count": 15,
     "metadata": {},
     "output_type": "execute_result"
    }
   ],
   "source": [
    "X"
   ]
  },
  {
   "cell_type": "code",
   "execution_count": 18,
   "metadata": {
    "tags": []
   },
   "outputs": [
    {
     "data": {
      "text/plain": [
       "(Bool[1, 0, 0, 0], [3.452124036821634, 4.119117743595139])"
      ]
     },
     "execution_count": 18,
     "metadata": {},
     "output_type": "execute_result"
    }
   ],
   "source": [
    "Y[:, 1], X[:, 1]"
   ]
  },
  {
   "cell_type": "markdown",
   "metadata": {
    "tags": []
   },
   "source": [
    "### Jacobians, non-batched"
   ]
  },
  {
   "cell_type": "code",
   "execution_count": 19,
   "metadata": {
    "tags": []
   },
   "outputs": [
    {
     "data": {
      "text/plain": [
       "2-element Vector{Float64}:\n",
       " 4.0378059584920205\n",
       " 1.8896085919713759"
      ]
     },
     "execution_count": 19,
     "metadata": {},
     "output_type": "execute_result"
    }
   ],
   "source": [
    "x_1 = X[:, 1]\n",
    "x_2 = X[:, 2]"
   ]
  },
  {
   "cell_type": "code",
   "execution_count": 20,
   "metadata": {
    "tags": []
   },
   "outputs": [
    {
     "data": {
      "text/plain": [
       "Grads(...)"
      ]
     },
     "execution_count": 20,
     "metadata": {},
     "output_type": "execute_result"
    }
   ],
   "source": [
    "jgrads_1 = jacobian(() -> nn(x_1), Flux.params(nn))"
   ]
  },
  {
   "cell_type": "code",
   "execution_count": 21,
   "metadata": {
    "tags": []
   },
   "outputs": [
    {
     "data": {
      "text/plain": [
       "IdDict{Any, Any} with 4 entries:\n",
       "  Float32[2.53876 -0.09505… => Float32[0.000218209 0.109107 … 0.130188 -8.41697…\n",
       "  Float32[-2.56515, 2.3463… => Float32[1.0 0.0 0.0 0.0; 0.0 1.0 0.0 0.0; 0.0 0.…\n",
       "  Float32[0.507228, -2.065… => Float32[6.32101f-5 0.0316058 -2.04339f-7; -0.000…\n",
       "  Float32[0.454429 2.25833… => Float32[0.999861 0.0 … 0.0 0.0; 0.0 0.999861 … 0…"
      ]
     },
     "execution_count": 21,
     "metadata": {},
     "output_type": "execute_result"
    }
   ],
   "source": [
    "jgrads_1.grads"
   ]
  },
  {
   "cell_type": "code",
   "execution_count": 25,
   "metadata": {
    "tags": []
   },
   "outputs": [
    {
     "data": {
      "text/plain": [
       "25"
      ]
     },
     "execution_count": 25,
     "metadata": {},
     "output_type": "execute_result"
    }
   ],
   "source": [
    "sum(length, jgrads_1.params)"
   ]
  },
  {
   "cell_type": "code",
   "execution_count": 26,
   "metadata": {
    "tags": []
   },
   "outputs": [
    {
     "data": {
      "text/plain": [
       "Chain(\n",
       "  Dense(2 => 3, σ),                     \u001b[90m# 9 parameters\u001b[39m\n",
       "  Dense(3 => 4),                        \u001b[90m# 16 parameters\u001b[39m\n",
       ") \u001b[90m                  # Total: 4 arrays, \u001b[39m25 parameters, 356 bytes."
      ]
     },
     "execution_count": 26,
     "metadata": {},
     "output_type": "execute_result"
    }
   ],
   "source": [
    "nn"
   ]
  },
  {
   "cell_type": "code",
   "execution_count": 27,
   "metadata": {
    "tags": []
   },
   "outputs": [
    {
     "data": {
      "text/plain": [
       "100"
      ]
     },
     "execution_count": 27,
     "metadata": {},
     "output_type": "execute_result"
    }
   ],
   "source": [
    "sum(length, jgrads_1)"
   ]
  },
  {
   "cell_type": "code",
   "execution_count": 29,
   "metadata": {
    "tags": []
   },
   "outputs": [
    {
     "name": "stdout",
     "output_type": "stream",
     "text": [
      "size(jac) = (4, 6)\n",
      "size(jac) = (4, 3)\n",
      "size(jac) = (4, 12)\n",
      "size(jac) = (4, 4)\n"
     ]
    }
   ],
   "source": [
    "foreach(jac -> @show(size(jac)), jgrads_1)"
   ]
  },
  {
   "cell_type": "code",
   "execution_count": 24,
   "metadata": {
    "tags": []
   },
   "outputs": [
    {
     "data": {
      "text/plain": [
       "(:layers,)"
      ]
     },
     "execution_count": 24,
     "metadata": {},
     "output_type": "execute_result"
    }
   ],
   "source": [
    "fieldnames(Chain)"
   ]
  },
  {
   "cell_type": "code",
   "execution_count": 30,
   "metadata": {
    "tags": []
   },
   "outputs": [
    {
     "data": {
      "text/plain": [
       "Grads(...)"
      ]
     },
     "execution_count": 30,
     "metadata": {},
     "output_type": "execute_result"
    }
   ],
   "source": [
    "jgrads_2 = jacobian(() -> nn(x_2), Flux.params(nn))"
   ]
  },
  {
   "cell_type": "code",
   "execution_count": 37,
   "metadata": {
    "tags": []
   },
   "outputs": [
    {
     "data": {
      "text/plain": [
       "4×25 Matrix{Float32}:\n",
       "  0.000218209   0.109107   -7.05404f-7  …  0.0       1.0  0.0  0.0  0.0\n",
       " -0.00193867   -0.182956   -8.0478f-5      0.0       0.0  1.0  0.0  0.0\n",
       "  0.00134268   -0.0728651  -8.56164f-5     0.0       0.0  0.0  1.0  0.0\n",
       " -0.00233176   -0.0644499   3.5387f-5      0.999995  0.0  0.0  0.0  1.0"
      ]
     },
     "execution_count": 37,
     "metadata": {},
     "output_type": "execute_result"
    }
   ],
   "source": [
    "J_2 = reduce(hcat, jgrads_2)\n",
    "J_1 = reduce(hcat, jgrads_1)"
   ]
  },
  {
   "cell_type": "code",
   "execution_count": 32,
   "metadata": {
    "tags": []
   },
   "outputs": [
    {
     "data": {
      "text/plain": [
       "Params([Float32[2.5387568 -0.09505186; 0.82812595 0.8368814; -0.120450914 2.838133], Float32[0.5072278, -2.0655606, 0.940312], Float32[0.4544287 2.258334 -0.040812615; -4.0373597 -3.7868693 -4.6562204; 2.7961922 -1.5081825 -4.953516; -4.855989 -1.3340013 2.0473907], Float32[-2.5651526, 2.3463519, -0.6851924, -0.514734]])"
      ]
     },
     "execution_count": 32,
     "metadata": {},
     "output_type": "execute_result"
    }
   ],
   "source": [
    "th = jgrads_1.params"
   ]
  },
  {
   "cell_type": "code",
   "execution_count": 33,
   "metadata": {
    "tags": []
   },
   "outputs": [
    {
     "data": {
      "text/plain": [
       "4×6 Matrix{Float32}:\n",
       "  0.000218209   0.109107   -7.05404f-7   0.00026037   0.130188   -8.41697f-7\n",
       " -0.00193867   -0.182956   -8.0478f-5   -0.00231325  -0.218305   -9.60274f-5\n",
       "  0.00134268   -0.0728651  -8.56164f-5   0.00160211  -0.0869436  -0.000102159\n",
       " -0.00233176   -0.0644499   3.5387f-5   -0.00278229  -0.0769024   4.22243f-5"
      ]
     },
     "execution_count": 33,
     "metadata": {},
     "output_type": "execute_result"
    }
   ],
   "source": [
    "jgrads_1[th[1]]"
   ]
  },
  {
   "cell_type": "code",
   "execution_count": 36,
   "metadata": {
    "tags": []
   },
   "outputs": [
    {
     "data": {
      "text/plain": [
       "4×12 Matrix{Float32}:\n",
       " 0.999861  0.0       0.0       0.0       …  0.0       0.0       0.0\n",
       " 0.0       0.999861  0.0       0.0          0.999995  0.0       0.0\n",
       " 0.0       0.0       0.999861  0.0          0.0       0.999995  0.0\n",
       " 0.0       0.0       0.0       0.999861     0.0       0.0       0.999995"
      ]
     },
     "execution_count": 36,
     "metadata": {},
     "output_type": "execute_result"
    }
   ],
   "source": [
    "jgrads_1[th[length(th) - 1]]"
   ]
  },
  {
   "cell_type": "code",
   "execution_count": 35,
   "metadata": {
    "tags": []
   },
   "outputs": [
    {
     "data": {
      "text/plain": [
       "4×4 Matrix{Float32}:\n",
       " 1.0  0.0  0.0  0.0\n",
       " 0.0  1.0  0.0  0.0\n",
       " 0.0  0.0  1.0  0.0\n",
       " 0.0  0.0  0.0  1.0"
      ]
     },
     "execution_count": 35,
     "metadata": {},
     "output_type": "execute_result"
    }
   ],
   "source": [
    "jgrads_1[th[length(th)]]"
   ]
  },
  {
   "cell_type": "code",
   "execution_count": 42,
   "metadata": {
    "tags": []
   },
   "outputs": [
    {
     "data": {
      "text/plain": [
       "4×25 Matrix{Float32}:\n",
       "  0.000218209   0.109107   -7.05404f-7  …  0.0       1.0  0.0  0.0  0.0\n",
       " -0.00193867   -0.182956   -8.0478f-5      0.0       0.0  1.0  0.0  0.0\n",
       "  0.00134268   -0.0728651  -8.56164f-5     0.0       0.0  0.0  1.0  0.0\n",
       " -0.00233176   -0.0644499   3.5387f-5      0.999995  0.0  0.0  0.0  1.0"
      ]
     },
     "execution_count": 42,
     "metadata": {},
     "output_type": "execute_result"
    }
   ],
   "source": [
    "J_1"
   ]
  },
  {
   "cell_type": "code",
   "execution_count": 39,
   "metadata": {
    "tags": []
   },
   "outputs": [
    {
     "data": {
      "text/plain": [
       "4×25 Matrix{Float32}:\n",
       "  4.68084f-5    0.46733   -0.000487648  …  0.0       1.0  0.0  0.0  0.0\n",
       " -0.000415868  -0.783639  -0.0556346       0.0       0.0  1.0  0.0  0.0\n",
       "  0.000288022  -0.312097  -0.0591869       0.0       0.0  0.0  1.0  0.0\n",
       " -0.000500191  -0.276053   0.0244632       0.997032  0.0  0.0  0.0  1.0"
      ]
     },
     "execution_count": 39,
     "metadata": {},
     "output_type": "execute_result"
    }
   ],
   "source": [
    "J_2"
   ]
  },
  {
   "cell_type": "markdown",
   "metadata": {},
   "source": [
    "### Jacobians, batched"
   ]
  },
  {
   "cell_type": "code",
   "execution_count": 43,
   "metadata": {
    "tags": []
   },
   "outputs": [
    {
     "data": {
      "text/plain": [
       "50-element DataLoader(::Tuple{Matrix{Float64}, Matrix{Bool}}, batchsize=2)\n",
       "  with first element:\n",
       "  (2×2 Matrix{Float64}, 4×2 Matrix{Bool},)"
      ]
     },
     "execution_count": 43,
     "metadata": {},
     "output_type": "execute_result"
    }
   ],
   "source": [
    "dataloader_2 = DataLoader((X, Y), batchsize=2)"
   ]
  },
  {
   "cell_type": "code",
   "execution_count": 44,
   "metadata": {
    "tags": []
   },
   "outputs": [
    {
     "data": {
      "text/plain": [
       "([3.452124036821634 4.0378059584920205; 4.119117743595139 1.8896085919713759], Bool[1 1; 0 0; 0 0; 0 0])"
      ]
     },
     "execution_count": 44,
     "metadata": {},
     "output_type": "execute_result"
    }
   ],
   "source": [
    "x_b, y_b = popfirst!(Iterators.Stateful(dataloader_2))"
   ]
  },
  {
   "cell_type": "code",
   "execution_count": 47,
   "metadata": {
    "tags": []
   },
   "outputs": [
    {
     "data": {
      "text/plain": [
       "2×2 Matrix{Float64}:\n",
       " 3.45212  4.03781\n",
       " 4.11912  1.88961"
      ]
     },
     "execution_count": 47,
     "metadata": {},
     "output_type": "execute_result"
    }
   ],
   "source": [
    "x_b"
   ]
  },
  {
   "cell_type": "code",
   "execution_count": 48,
   "metadata": {
    "tags": []
   },
   "outputs": [
    {
     "data": {
      "text/plain": [
       "2-element Vector{Float64}:\n",
       " 3.452124036821634\n",
       " 4.119117743595139"
      ]
     },
     "execution_count": 48,
     "metadata": {},
     "output_type": "execute_result"
    }
   ],
   "source": [
    "x_1"
   ]
  },
  {
   "cell_type": "code",
   "execution_count": 51,
   "metadata": {
    "tags": []
   },
   "outputs": [
    {
     "data": {
      "text/plain": [
       "Grads(...)"
      ]
     },
     "execution_count": 51,
     "metadata": {},
     "output_type": "execute_result"
    }
   ],
   "source": [
    "jgrads = jgrads_b = jacobian(() -> nn(x_b), Flux.params(nn))"
   ]
  },
  {
   "cell_type": "code",
   "execution_count": 50,
   "metadata": {
    "tags": []
   },
   "outputs": [
    {
     "name": "stdout",
     "output_type": "stream",
     "text": [
      "size(jac) = (8, 6)\n",
      "size(jac) = (8, 3)\n",
      "size(jac) = (8, 12)\n",
      "size(jac) = (8, 4)\n"
     ]
    }
   ],
   "source": [
    "foreach(jac -> @show(size(jac)), jgrads_b)"
   ]
  },
  {
   "cell_type": "code",
   "execution_count": 52,
   "metadata": {
    "tags": []
   },
   "outputs": [
    {
     "data": {
      "text/plain": [
       "8×25 Matrix{Float32}:\n",
       "  0.000218209   0.109107   -7.05404f-7   …  0.0       1.0  0.0  0.0  0.0\n",
       " -0.00193867   -0.182956   -8.0478f-5       0.0       0.0  1.0  0.0  0.0\n",
       "  0.00134268   -0.0728651  -8.56164f-5      0.0       0.0  0.0  1.0  0.0\n",
       " -0.00233176   -0.0644499   3.5387f-5       0.999995  0.0  0.0  0.0  1.0\n",
       "  4.68084f-5    0.46733    -0.000487648     0.0       1.0  0.0  0.0  0.0\n",
       " -0.000415868  -0.783639   -0.0556346    …  0.0       0.0  1.0  0.0  0.0\n",
       "  0.000288022  -0.312097   -0.0591869       0.0       0.0  0.0  1.0  0.0\n",
       " -0.000500191  -0.276053    0.0244632       0.997032  0.0  0.0  0.0  1.0"
      ]
     },
     "execution_count": 52,
     "metadata": {},
     "output_type": "execute_result"
    }
   ],
   "source": [
    "jtmp = reduce(hcat, jgrads)"
   ]
  },
  {
   "cell_type": "code",
   "execution_count": 59,
   "metadata": {
    "tags": []
   },
   "outputs": [
    {
     "data": {
      "text/plain": [
       "4×25 view(::Matrix{Float32}, 5:8, :) with eltype Float32:\n",
       "  4.68084f-5    0.46733   -0.000487648  …  0.0       1.0  0.0  0.0  0.0\n",
       " -0.000415868  -0.783639  -0.0556346       0.0       0.0  1.0  0.0  0.0\n",
       "  0.000288022  -0.312097  -0.0591869       0.0       0.0  0.0  1.0  0.0\n",
       " -0.000500191  -0.276053   0.0244632       0.997032  0.0  0.0  0.0  1.0"
      ]
     },
     "execution_count": 59,
     "metadata": {},
     "output_type": "execute_result"
    }
   ],
   "source": [
    "jtmp_1 = @view jtmp[1:4, :]\n",
    "jtmp_2 = @view jtmp[5:8, :]\n",
    "# use views to avoid allocations"
   ]
  },
  {
   "cell_type": "code",
   "execution_count": 63,
   "metadata": {
    "tags": []
   },
   "outputs": [
    {
     "data": {
      "text/plain": [
       "4×25×2 Array{Float32, 3}:\n",
       "[:, :, 1] =\n",
       "  0.000218209   0.109107   -7.05404f-7  …  0.0       1.0  0.0  0.0  0.0\n",
       " -0.00193867   -0.182956   -8.0478f-5      0.0       0.0  1.0  0.0  0.0\n",
       "  0.00134268   -0.0728651  -8.56164f-5     0.0       0.0  0.0  1.0  0.0\n",
       " -0.00233176   -0.0644499   3.5387f-5      0.999995  0.0  0.0  0.0  1.0\n",
       "\n",
       "[:, :, 2] =\n",
       "  4.68084f-5    0.46733   -0.000487648  …  0.0       1.0  0.0  0.0  0.0\n",
       " -0.000415868  -0.783639  -0.0556346       0.0       0.0  1.0  0.0  0.0\n",
       "  0.000288022  -0.312097  -0.0591869       0.0       0.0  0.0  1.0  0.0\n",
       " -0.000500191  -0.276053   0.0244632       0.997032  0.0  0.0  0.0  1.0"
      ]
     },
     "execution_count": 63,
     "metadata": {},
     "output_type": "execute_result"
    }
   ],
   "source": [
    "J = cat(jtmp_1, jtmp_2, dims=3)\n",
    "# this is expensive, but there is no way around it"
   ]
  },
  {
   "cell_type": "code",
   "execution_count": 72,
   "metadata": {
    "tags": []
   },
   "outputs": [
    {
     "data": {
      "text/plain": [
       "4×25 view(::Matrix{Float32}, 5:8, :) with eltype Float32:\n",
       "  4.68084f-5    0.46733   -0.000487648  …  0.0       1.0  0.0  0.0  0.0\n",
       " -0.000415868  -0.783639  -0.0556346       0.0       0.0  1.0  0.0  0.0\n",
       "  0.000288022  -0.312097  -0.0591869       0.0       0.0  0.0  1.0  0.0\n",
       " -0.000500191  -0.276053   0.0244632       0.997032  0.0  0.0  0.0  1.0"
      ]
     },
     "metadata": {},
     "output_type": "display_data"
    },
    {
     "data": {
      "text/plain": [
       "4×25 view(::Matrix{Float32}, 5:8, :) with eltype Float32:\n",
       "  4.68084f-5    0.46733   -0.000487648  …  0.0       1.0  0.0  0.0  0.0\n",
       " -0.000415868  -0.783639  -0.0556346       0.0       0.0  1.0  0.0  0.0\n",
       "  0.000288022  -0.312097  -0.0591869       0.0       0.0  0.0  1.0  0.0\n",
       " -0.000500191  -0.276053   0.0244632       0.997032  0.0  0.0  0.0  1.0"
      ]
     },
     "metadata": {},
     "output_type": "display_data"
    }
   ],
   "source": [
    "b = 2\n",
    "outdim = 4\n",
    "for batch_index in 1:b\n",
    "    \n",
    "end"
   ]
  },
  {
   "cell_type": "code",
   "execution_count": 64,
   "metadata": {
    "tags": []
   },
   "outputs": [],
   "source": [
    "@assert isapprox(J[:, :, 1], J_1, atol=.0005)\n",
    "@assert isapprox(J[:, :, 2], J_2, atol=.0005)"
   ]
  },
  {
   "cell_type": "markdown",
   "metadata": {},
   "source": [
    "### Laplace Approximation (not yet supported)"
   ]
  },
  {
   "cell_type": "code",
   "execution_count": 5,
   "metadata": {},
   "outputs": [
    {
     "ename": "LoadError",
     "evalue": "AssertionError: Support for multi-class output still lacking, sorry. Currently only regression and binary classification models are supported.",
     "output_type": "error",
     "traceback": [
      "AssertionError: Support for multi-class output still lacking, sorry. Currently only regression and binary classification models are supported.",
      "",
      "Stacktrace:",
      " [1] Laplace(model::Chain{Tuple{Dense{typeof(σ), Matrix{Float32}, Vector{Float32}}, Dense{typeof(identity), Matrix{Float32}, Vector{Float32}}}}; likelihood::Symbol, kwargs::Base.Pairs{Symbol, Union{}, Tuple{}, NamedTuple{(), Tuple{}}})",
      "   @ LaplaceRedux ~/Builds/navimakarov/LaplaceRedux.jl/src/laplace.jl:80",
      " [2] top-level scope",
      "   @ In[5]:1"
     ]
    }
   ],
   "source": [
    "# la = Laplace(nn; likelihood=:classification)\n",
    "# fit!(la, data)\n",
    "# optimize_prior!(la; verbose=true, n_steps=1000)"
   ]
  },
  {
   "cell_type": "code",
   "execution_count": null,
   "metadata": {},
   "outputs": [],
   "source": [
    "#| output: true\n",
    "\n",
    "# _labels = sort(unique(y))\n",
    "# plt_list = []\n",
    "# for target in _labels\n",
    "#     plt = plot(la, X, y; target=target, clim=(0,1))\n",
    "#     push!(plt_list, plt)\n",
    "# end\n",
    "# plot(plt_list...)"
   ]
  },
  {
   "cell_type": "code",
   "execution_count": null,
   "metadata": {},
   "outputs": [],
   "source": [
    "#| output: true\n",
    "\n",
    "# _labels = sort(unique(y))\n",
    "# plt_list = []\n",
    "# for target in _labels\n",
    "#     plt = plot(la, X, y; target=target, clim=(0,1), link_approx=:plugin)\n",
    "#     push!(plt_list, plt)\n",
    "# end\n",
    "# plot(plt_list...)"
   ]
  }
 ],
 "metadata": {
  "kernelspec": {
   "display_name": "Julia 1.9.0",
   "language": "julia",
   "name": "julia-1.9"
  },
  "language_info": {
   "file_extension": ".jl",
   "mimetype": "application/julia",
   "name": "julia",
   "version": "1.9.0"
  }
 },
 "nbformat": 4,
 "nbformat_minor": 4
}
