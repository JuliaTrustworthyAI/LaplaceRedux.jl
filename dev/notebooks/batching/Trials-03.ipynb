{
 "cells": [
  {
   "attachments": {},
   "cell_type": "markdown",
   "metadata": {},
   "source": [
    "```@meta\n",
    "CurrentModule = LaplaceRedux\n",
    "```\n",
    "## Batched Jacobians\n",
    "As applied to a multi-class classification task.\n",
    "\n",
    "### Multi-class problem"
   ]
  },
  {
   "cell_type": "code",
   "execution_count": 1,
   "metadata": {
    "tags": []
   },
   "outputs": [
    {
     "name": "stderr",
     "output_type": "stream",
     "text": [
      "\u001b[32m\u001b[1m  Activating\u001b[22m\u001b[39m new project at `c:\\Users\\Andrei\\LaplaceRedux.jl\\src`\n"
     ]
    }
   ],
   "source": [
    "using Pkg\n",
    "Pkg.activate(\".\")\n",
    "using LaplaceRedux\n",
    "using LaplaceRedux.Curvature\n",
    "using LaplaceRedux.Data\n",
    "using Flux\n",
    "using Flux.Optimise: update!, Adam\n",
    "using Plots\n",
    "using Statistics\n",
    "using MLUtils\n",
    "using Zygote\n",
    "using Printf\n",
    "using NNlib\n",
    "using BenchmarkTools\n",
    "using Tullio"
   ]
  },
  {
   "cell_type": "code",
   "execution_count": 2,
   "metadata": {},
   "outputs": [
    {
     "data": {
      "text/plain": [
       "2000-element Vector{Vector{Bool}}:\n",
       " [1, 0, 0, 0]\n",
       " [1, 0, 0, 0]\n",
       " [1, 0, 0, 0]\n",
       " [1, 0, 0, 0]\n",
       " [1, 0, 0, 0]\n",
       " [1, 0, 0, 0]\n",
       " [1, 0, 0, 0]\n",
       " [1, 0, 0, 0]\n",
       " [1, 0, 0, 0]\n",
       " [1, 0, 0, 0]\n",
       " ⋮\n",
       " [0, 0, 0, 1]\n",
       " [0, 0, 0, 1]\n",
       " [0, 0, 0, 1]\n",
       " [0, 0, 0, 1]\n",
       " [0, 0, 0, 1]\n",
       " [0, 0, 0, 1]\n",
       " [0, 0, 0, 1]\n",
       " [0, 0, 0, 1]\n",
       " [0, 0, 0, 1]"
      ]
     },
     "metadata": {},
     "output_type": "display_data"
    }
   ],
   "source": [
    "x, y = Data.toy_data_multi(2000)\n",
    "X = hcat(x...)\n",
    "y_train = Flux.onehotbatch(y, unique(y))\n",
    "y_train = Flux.unstack(y_train',1)"
   ]
  },
  {
   "cell_type": "code",
   "execution_count": 3,
   "metadata": {},
   "outputs": [
    {
     "data": {
      "text/plain": [
       "loss (generic function with 1 method)"
      ]
     },
     "metadata": {},
     "output_type": "display_data"
    }
   ],
   "source": [
    "data = zip(x,y_train)\n",
    "n_hidden = 3\n",
    "D = size(X,1)\n",
    "out_dim = length(unique(y))\n",
    "nn = Chain(\n",
    "    Dense(D, n_hidden, σ),\n",
    "    Dense(n_hidden, out_dim)\n",
    ")  \n",
    "loss(x, y) = Flux.Losses.logitcrossentropy(nn(x), y)"
   ]
  },
  {
   "cell_type": "code",
   "execution_count": 4,
   "metadata": {},
   "outputs": [
    {
     "name": "stdout",
     "output_type": "stream",
     "text": [
      "Epoch 10"
     ]
    },
    {
     "name": "stderr",
     "output_type": "stream",
     "text": [
      "┌ Warning: Layer with Float32 parameters got Float64 input.\n",
      "│   The input will be converted, but any earlier layers may be very slow.\n",
      "│   layer = Dense(2 => 3, σ)\n",
      "│   summary(x) = 2-element Vector{Float64}\n",
      "└ @ Flux C:\\Users\\Andrei\\.julia\\packages\\Flux\\EHgZm\\src\\layers\\stateless.jl:60\n"
     ]
    },
    {
     "name": "stdout",
     "output_type": "stream",
     "text": [
      "\n",
      "avg_loss(data) = 0.009490322f0"
     ]
    },
    {
     "name": "stdout",
     "output_type": "stream",
     "text": [
      "\n",
      "Epoch 20\n",
      "avg_loss(data) = 8.6731576f-5\n"
     ]
    },
    {
     "name": "stdout",
     "output_type": "stream",
     "text": [
      "Epoch 30\n",
      "avg_loss(data) = 7.357594f-7\n"
     ]
    },
    {
     "name": "stdout",
     "output_type": "stream",
     "text": [
      "Epoch 40\n",
      "avg_loss(data) = 9.536743f-10"
     ]
    },
    {
     "name": "stdout",
     "output_type": "stream",
     "text": [
      "\n",
      "Epoch 50\n",
      "avg_loss(data) = 1.1324881f-9\n"
     ]
    },
    {
     "name": "stdout",
     "output_type": "stream",
     "text": [
      "Epoch 60\n",
      "avg_loss(data) = 2.2649762f-9\n"
     ]
    },
    {
     "name": "stdout",
     "output_type": "stream",
     "text": [
      "Epoch 70\n",
      "avg_loss(data) = 1.3709067f-9"
     ]
    },
    {
     "name": "stdout",
     "output_type": "stream",
     "text": [
      "\n",
      "Epoch 80\n",
      "avg_loss(data) = 8.9406954f-10"
     ]
    },
    {
     "name": "stdout",
     "output_type": "stream",
     "text": [
      "\n",
      "Epoch 90\n",
      "avg_loss(data) = 7.152557f-10"
     ]
    },
    {
     "name": "stdout",
     "output_type": "stream",
     "text": [
      "\n",
      "Epoch 100\n",
      "avg_loss(data) = 7.7486034f-10\n"
     ]
    }
   ],
   "source": [
    "using Flux.Optimise: update!, Adam\n",
    "opt = Adam()\n",
    "epochs = 100\n",
    "avg_loss(data) = mean(map(d -> loss(d[1],d[2]), data))\n",
    "show_every = epochs/10\n",
    "\n",
    "for epoch = 1:epochs\n",
    "    for d in data\n",
    "        gs = gradient(Flux.params(nn)) do\n",
    "            l = loss(d...)\n",
    "        end\n",
    "        update!(opt, Flux.params(nn), gs)\n",
    "    end\n",
    "    if epoch % show_every == 0\n",
    "        println(\"Epoch \" * string(epoch))\n",
    "        @show avg_loss(data)\n",
    "    end\n",
    "end"
   ]
  },
  {
   "cell_type": "code",
   "execution_count": 5,
   "metadata": {
    "tags": []
   },
   "outputs": [
    {
     "data": {
      "text/plain": [
       "4×2000 Matrix{Bool}:\n",
       " 1  1  1  1  1  1  1  1  1  1  1  1  1  …  0  0  0  0  0  0  0  0  0  0  0  0\n",
       " 0  0  0  0  0  0  0  0  0  0  0  0  0     0  0  0  0  0  0  0  0  0  0  0  0\n",
       " 0  0  0  0  0  0  0  0  0  0  0  0  0     0  0  0  0  0  0  0  0  0  0  0  0\n",
       " 0  0  0  0  0  0  0  0  0  0  0  0  0     1  1  1  1  1  1  1  1  1  1  1  1"
      ]
     },
     "metadata": {},
     "output_type": "display_data"
    }
   ],
   "source": [
    "Y = reduce(hcat, y_train)"
   ]
  },
  {
   "cell_type": "code",
   "execution_count": 6,
   "metadata": {
    "tags": []
   },
   "outputs": [
    {
     "data": {
      "text/plain": [
       "2×2000 Matrix{Float64}:\n",
       " 2.15895  3.57961  4.66783  1.60082  3.00085  …  -4.66207  -2.61483  -6.6308\n",
       " 1.5807   5.39027  4.58806  2.82622  3.89678      5.12095   2.62973   4.58499"
      ]
     },
     "metadata": {},
     "output_type": "display_data"
    }
   ],
   "source": [
    "X"
   ]
  },
  {
   "cell_type": "code",
   "execution_count": 7,
   "metadata": {
    "tags": []
   },
   "outputs": [
    {
     "data": {
      "text/plain": [
       "(Bool[1, 0, 0, 0], [2.1589545269914048, 1.5807007219814284])"
      ]
     },
     "metadata": {},
     "output_type": "display_data"
    }
   ],
   "source": [
    "Y[:, 1], X[:, 1]"
   ]
  },
  {
   "attachments": {},
   "cell_type": "markdown",
   "metadata": {
    "tags": []
   },
   "source": [
    "### Jacobians, non-batched"
   ]
  },
  {
   "cell_type": "code",
   "execution_count": 8,
   "metadata": {
    "tags": []
   },
   "outputs": [
    {
     "data": {
      "text/plain": [
       "2-element Vector{Float64}:\n",
       " 3.579606460511134\n",
       " 5.390268461925427"
      ]
     },
     "metadata": {},
     "output_type": "display_data"
    }
   ],
   "source": [
    "x_1 = X[:, 1]\n",
    "x_2 = X[:, 2]"
   ]
  },
  {
   "cell_type": "code",
   "execution_count": 9,
   "metadata": {
    "tags": []
   },
   "outputs": [
    {
     "data": {
      "text/plain": [
       "Grads(...)"
      ]
     },
     "metadata": {},
     "output_type": "display_data"
    }
   ],
   "source": [
    "jgrads_1 = jacobian(() -> nn(x_1), Flux.params(nn))"
   ]
  },
  {
   "cell_type": "code",
   "execution_count": 10,
   "metadata": {
    "tags": []
   },
   "outputs": [
    {
     "data": {
      "text/plain": [
       "IdDict{Any, Any} with 4 entries:\n",
       "  Float32[-38.628, -26.060… => Float32[1.0 0.0 0.0 0.0; 0.0 1.0 0.0 0.0; 0.0 0.…\n",
       "  Float32[-22.4144 -36.416… => Float32[0.997183 0.0 … 0.0 0.0; 0.0 0.997183 … 0…\n",
       "  Float32[3.19916, -2.5561… => Float32[-0.0629575 -0.000201889 -0.0; -0.0974679…\n",
       "  Float32[-0.0361987 1.738… => Float32[-0.135922 -0.000435868 … -0.000319126 -0…"
      ]
     },
     "metadata": {},
     "output_type": "display_data"
    }
   ],
   "source": [
    "jgrads_1.grads"
   ]
  },
  {
   "cell_type": "code",
   "execution_count": 11,
   "metadata": {
    "tags": []
   },
   "outputs": [
    {
     "data": {
      "text/plain": [
       "25"
      ]
     },
     "metadata": {},
     "output_type": "display_data"
    }
   ],
   "source": [
    "sum(length, jgrads_1.params)"
   ]
  },
  {
   "cell_type": "code",
   "execution_count": 12,
   "metadata": {
    "tags": []
   },
   "outputs": [
    {
     "data": {
      "text/plain": [
       "Chain(\n",
       "  Dense(2 => 3, σ),                     \u001b[90m# 9 parameters\u001b[39m\n",
       "  Dense(3 => 4),                        \u001b[90m# 16 parameters\u001b[39m\n",
       ") \u001b[90m                  # Total: 4 arrays, \u001b[39m25 parameters, 356 bytes."
      ]
     },
     "metadata": {},
     "output_type": "display_data"
    }
   ],
   "source": [
    "nn"
   ]
  },
  {
   "cell_type": "code",
   "execution_count": 13,
   "metadata": {
    "tags": []
   },
   "outputs": [
    {
     "data": {
      "text/plain": [
       "100"
      ]
     },
     "metadata": {},
     "output_type": "display_data"
    }
   ],
   "source": [
    "sum(length, jgrads_1)"
   ]
  },
  {
   "cell_type": "code",
   "execution_count": 14,
   "metadata": {
    "tags": []
   },
   "outputs": [
    {
     "name": "stdout",
     "output_type": "stream",
     "text": [
      "size(jac) = (4, 6)\n",
      "size(jac) = (4, 3)\n",
      "size(jac) = (4, 12)\n",
      "size(jac) = (4, 4)\n"
     ]
    }
   ],
   "source": [
    "foreach(jac -> @show(size(jac)), jgrads_1)"
   ]
  },
  {
   "cell_type": "code",
   "execution_count": 15,
   "metadata": {
    "tags": []
   },
   "outputs": [
    {
     "data": {
      "text/plain": [
       "(:layers,)"
      ]
     },
     "metadata": {},
     "output_type": "display_data"
    }
   ],
   "source": [
    "fieldnames(Chain)"
   ]
  },
  {
   "cell_type": "code",
   "execution_count": 16,
   "metadata": {
    "tags": []
   },
   "outputs": [
    {
     "data": {
      "text/plain": [
       "Grads(...)"
      ]
     },
     "metadata": {},
     "output_type": "display_data"
    }
   ],
   "source": [
    "jgrads_2 = jacobian(() -> nn(x_2), Flux.params(nn))"
   ]
  },
  {
   "cell_type": "code",
   "execution_count": 17,
   "metadata": {
    "tags": []
   },
   "outputs": [
    {
     "data": {
      "text/plain": [
       "4×25 Matrix{Float32}:\n",
       " -0.135922   -0.000435868  -0.0  …  0.0  0.0  0.0  1.0  0.0  0.0  0.0\n",
       " -0.210429   -0.000103633  -0.0     1.0  0.0  0.0  0.0  1.0  0.0  0.0\n",
       " -0.257459   -0.000196603  -0.0     0.0  1.0  0.0  0.0  0.0  1.0  0.0\n",
       " -0.0922676  -0.000355282  -0.0     0.0  0.0  1.0  0.0  0.0  0.0  1.0"
      ]
     },
     "metadata": {},
     "output_type": "display_data"
    }
   ],
   "source": [
    "J_2 = reduce(hcat, jgrads_2)\n",
    "J_1 = reduce(hcat, jgrads_1)"
   ]
  },
  {
   "cell_type": "code",
   "execution_count": 18,
   "metadata": {
    "tags": []
   },
   "outputs": [
    {
     "data": {
      "text/plain": [
       "Params([Float32[-0.03619867 1.7386854; -0.84552133 -4.8846498; 6.613449 -0.03254935], Float32[3.1991556, -2.5561907, 3.662587], Float32[-22.41437 -36.416393 -2.334856; -34.700882 -8.658449 -41.25319; -42.456375 -16.425999 -2.4271576; -15.21544 -29.683495 -40.88694], Float32[-38.62803, -26.060854, -37.017788, -26.423927]])"
      ]
     },
     "metadata": {},
     "output_type": "display_data"
    }
   ],
   "source": [
    "th = jgrads_1.params"
   ]
  },
  {
   "cell_type": "code",
   "execution_count": 19,
   "metadata": {
    "tags": []
   },
   "outputs": [
    {
     "data": {
      "text/plain": [
       "4×6 Matrix{Float32}:\n",
       " -0.135922   -0.000435868  -0.0  -0.099517   -0.000319126  -0.0\n",
       " -0.210429   -0.000103633  -0.0  -0.154068   -7.58761f-5   -0.0\n",
       " -0.257459   -0.000196603  -0.0  -0.188501   -0.000143945  -0.0\n",
       " -0.0922676  -0.000355282  -0.0  -0.0675547  -0.000260124  -0.0"
      ]
     },
     "metadata": {},
     "output_type": "display_data"
    }
   ],
   "source": [
    "jgrads_1[th[1]]"
   ]
  },
  {
   "cell_type": "code",
   "execution_count": 20,
   "metadata": {
    "tags": []
   },
   "outputs": [
    {
     "data": {
      "text/plain": [
       "4×12 Matrix{Float32}:\n",
       " 0.997183  0.0       0.0       0.0       …  0.0         1.0  0.0  0.0  0.0\n",
       " 0.0       0.997183  0.0       0.0          0.0         0.0  1.0  0.0  0.0\n",
       " 0.0       0.0       0.997183  0.0          0.0         0.0  0.0  1.0  0.0\n",
       " 0.0       0.0       0.0       0.997183     5.54392f-6  0.0  0.0  0.0  1.0"
      ]
     },
     "metadata": {},
     "output_type": "display_data"
    }
   ],
   "source": [
    "jgrads_1[th[length(th) - 1]]"
   ]
  },
  {
   "cell_type": "code",
   "execution_count": 21,
   "metadata": {
    "tags": []
   },
   "outputs": [
    {
     "data": {
      "text/plain": [
       "4×4 Matrix{Float32}:\n",
       " 1.0  0.0  0.0  0.0\n",
       " 0.0  1.0  0.0  0.0\n",
       " 0.0  0.0  1.0  0.0\n",
       " 0.0  0.0  0.0  1.0"
      ]
     },
     "metadata": {},
     "output_type": "display_data"
    }
   ],
   "source": [
    "jgrads_1[th[length(th)]]"
   ]
  },
  {
   "cell_type": "code",
   "execution_count": 22,
   "metadata": {
    "tags": []
   },
   "outputs": [
    {
     "data": {
      "text/plain": [
       "4×25 Matrix{Float32}:\n",
       " -0.135922   -0.000435868  -0.0  …  0.0  0.0  0.0  1.0  0.0  0.0  0.0\n",
       " -0.210429   -0.000103633  -0.0     1.0  0.0  0.0  0.0  1.0  0.0  0.0\n",
       " -0.257459   -0.000196603  -0.0     0.0  1.0  0.0  0.0  0.0  1.0  0.0\n",
       " -0.0922676  -0.000355282  -0.0     0.0  0.0  1.0  0.0  0.0  0.0  1.0"
      ]
     },
     "metadata": {},
     "output_type": "display_data"
    }
   ],
   "source": [
    "J_1"
   ]
  },
  {
   "cell_type": "code",
   "execution_count": 23,
   "metadata": {
    "tags": []
   },
   "outputs": [
    {
     "data": {
      "text/plain": [
       "4×25 Matrix{Float32}:\n",
       " -0.000315634  -1.802f-12    -0.0  …  0.0  0.0  0.0  1.0  0.0  0.0  0.0\n",
       " -0.00048865   -4.28447f-13  -0.0     1.0  0.0  0.0  0.0  1.0  0.0  0.0\n",
       " -0.000597861  -8.1281f-13   -0.0     0.0  1.0  0.0  0.0  0.0  1.0  0.0\n",
       " -0.000214261  -1.46883f-12  -0.0     0.0  0.0  1.0  0.0  0.0  0.0  1.0"
      ]
     },
     "metadata": {},
     "output_type": "display_data"
    }
   ],
   "source": [
    "J_2"
   ]
  },
  {
   "attachments": {},
   "cell_type": "markdown",
   "metadata": {},
   "source": [
    "### Jacobians, batched"
   ]
  },
  {
   "cell_type": "code",
   "execution_count": 24,
   "metadata": {
    "tags": []
   },
   "outputs": [
    {
     "data": {
      "text/plain": [
       "1000-element DataLoader(::Tuple{Matrix{Float64}, Matrix{Bool}}, batchsize=2)\n",
       "  with first element:\n",
       "  (2×2 Matrix{Float64}, 4×2 Matrix{Bool},)"
      ]
     },
     "metadata": {},
     "output_type": "display_data"
    }
   ],
   "source": [
    "dataloader_2 = DataLoader((X, Y), batchsize=2)"
   ]
  },
  {
   "cell_type": "code",
   "execution_count": 25,
   "metadata": {
    "tags": []
   },
   "outputs": [
    {
     "data": {
      "text/plain": [
       "([2.1589545269914048 3.579606460511134; 1.5807007219814284 5.390268461925427], Bool[1 1; 0 0; 0 0; 0 0])"
      ]
     },
     "metadata": {},
     "output_type": "display_data"
    }
   ],
   "source": [
    "x_b, y_b = popfirst!(Iterators.Stateful(dataloader_2))"
   ]
  },
  {
   "cell_type": "code",
   "execution_count": 26,
   "metadata": {
    "tags": []
   },
   "outputs": [
    {
     "data": {
      "text/plain": [
       "2×2 Matrix{Float64}:\n",
       " 2.15895  3.57961\n",
       " 1.5807   5.39027"
      ]
     },
     "metadata": {},
     "output_type": "display_data"
    }
   ],
   "source": [
    "x_b"
   ]
  },
  {
   "cell_type": "code",
   "execution_count": 27,
   "metadata": {
    "tags": []
   },
   "outputs": [
    {
     "data": {
      "text/plain": [
       "2-element Vector{Float64}:\n",
       " 2.1589545269914048\n",
       " 1.5807007219814284"
      ]
     },
     "metadata": {},
     "output_type": "display_data"
    }
   ],
   "source": [
    "x_1"
   ]
  },
  {
   "cell_type": "code",
   "execution_count": 28,
   "metadata": {
    "tags": []
   },
   "outputs": [
    {
     "data": {
      "text/plain": [
       "Grads(...)"
      ]
     },
     "metadata": {},
     "output_type": "display_data"
    }
   ],
   "source": [
    "jgrads = jgrads_b = jacobian(() -> nn(x_b), Flux.params(nn))"
   ]
  },
  {
   "cell_type": "code",
   "execution_count": 29,
   "metadata": {
    "tags": []
   },
   "outputs": [
    {
     "name": "stdout",
     "output_type": "stream",
     "text": [
      "size(jac) = (8, 6)\n",
      "size(jac) = (8, 3)\n",
      "size(jac) = (8, 12)\n",
      "size(jac) = (8, 4)\n"
     ]
    }
   ],
   "source": [
    "foreach(jac -> @show(size(jac)), jgrads_b)"
   ]
  },
  {
   "cell_type": "code",
   "execution_count": 30,
   "metadata": {
    "tags": []
   },
   "outputs": [
    {
     "data": {
      "text/plain": [
       "8×25 Matrix{Float32}:\n",
       " -0.135922     -0.000435868  0.0  …  0.0  0.0  0.0  1.0  0.0  0.0  0.0\n",
       " -0.210429     -0.000103633  0.0     1.0  0.0  0.0  0.0  1.0  0.0  0.0\n",
       " -0.257459     -0.000196603  0.0     0.0  1.0  0.0  0.0  0.0  1.0  0.0\n",
       " -0.0922676    -0.000355282  0.0     0.0  0.0  1.0  0.0  0.0  0.0  1.0\n",
       " -0.000315634  -1.802f-12    0.0     0.0  0.0  0.0  1.0  0.0  0.0  0.0\n",
       " -0.00048865   -4.28447f-13  0.0  …  1.0  0.0  0.0  0.0  1.0  0.0  0.0\n",
       " -0.000597861  -8.1281f-13   0.0     0.0  1.0  0.0  0.0  0.0  1.0  0.0\n",
       " -0.000214261  -1.46883f-12  0.0     0.0  0.0  1.0  0.0  0.0  0.0  1.0"
      ]
     },
     "metadata": {},
     "output_type": "display_data"
    }
   ],
   "source": [
    "jtmp = reduce(hcat, jgrads)"
   ]
  },
  {
   "cell_type": "code",
   "execution_count": 31,
   "metadata": {
    "tags": []
   },
   "outputs": [
    {
     "data": {
      "text/plain": [
       "4×25 view(::Matrix{Float32}, 1:4, :) with eltype Float32:\n",
       " -0.135922   -0.000435868  0.0  …  0.0  0.0  0.0  1.0  0.0  0.0  0.0\n",
       " -0.210429   -0.000103633  0.0     1.0  0.0  0.0  0.0  1.0  0.0  0.0\n",
       " -0.257459   -0.000196603  0.0     0.0  1.0  0.0  0.0  0.0  1.0  0.0\n",
       " -0.0922676  -0.000355282  0.0     0.0  0.0  1.0  0.0  0.0  0.0  1.0"
      ]
     },
     "metadata": {},
     "output_type": "display_data"
    },
    {
     "data": {
      "text/plain": [
       "4×25 view(::Matrix{Float32}, 5:8, :) with eltype Float32:\n",
       " -0.000315634  -1.802f-12    0.0  …  0.0  0.0  0.0  1.0  0.0  0.0  0.0\n",
       " -0.00048865   -4.28447f-13  0.0     1.0  0.0  0.0  0.0  1.0  0.0  0.0\n",
       " -0.000597861  -8.1281f-13   0.0     0.0  1.0  0.0  0.0  0.0  1.0  0.0\n",
       " -0.000214261  -1.46883f-12  0.0     0.0  0.0  1.0  0.0  0.0  0.0  1.0"
      ]
     },
     "metadata": {},
     "output_type": "display_data"
    }
   ],
   "source": [
    "jtmp_1 = @view jtmp[1:4, :]\n",
    "jtmp_2 = @view jtmp[5:8, :]\n",
    "display(jtmp_1)\n",
    "display(jtmp_2)\n",
    "# use views to avoid allocations"
   ]
  },
  {
   "cell_type": "code",
   "execution_count": 32,
   "metadata": {
    "tags": []
   },
   "outputs": [
    {
     "data": {
      "text/plain": [
       "4×25×2 Array{Float32, 3}:\n",
       "[:, :, 1] =\n",
       " -0.135922   -0.000435868  0.0  …  0.0  0.0  0.0  1.0  0.0  0.0  0.0\n",
       " -0.210429   -0.000103633  0.0     1.0  0.0  0.0  0.0  1.0  0.0  0.0\n",
       " -0.257459   -0.000196603  0.0     0.0  1.0  0.0  0.0  0.0  1.0  0.0\n",
       " -0.0922676  -0.000355282  0.0     0.0  0.0  1.0  0.0  0.0  0.0  1.0\n",
       "\n",
       "[:, :, 2] =\n",
       " -0.000315634  -1.802f-12    0.0  …  0.0  0.0  0.0  1.0  0.0  0.0  0.0\n",
       " -0.00048865   -4.28447f-13  0.0     1.0  0.0  0.0  0.0  1.0  0.0  0.0\n",
       " -0.000597861  -8.1281f-13   0.0     0.0  1.0  0.0  0.0  0.0  1.0  0.0\n",
       " -0.000214261  -1.46883f-12  0.0     0.0  0.0  1.0  0.0  0.0  0.0  1.0"
      ]
     },
     "metadata": {},
     "output_type": "display_data"
    }
   ],
   "source": [
    "J = cat(jtmp_1, jtmp_2, dims=3)\n",
    "# this is expensive, but there is no way around it"
   ]
  },
  {
   "cell_type": "code",
   "execution_count": 33,
   "metadata": {
    "tags": []
   },
   "outputs": [
    {
     "data": {
      "text/plain": [
       "4×25×2 Array{Float32, 3}:\n",
       "[:, :, 1] =\n",
       " -0.135922   -0.000435868  0.0  …  0.0  0.0  0.0  1.0  0.0  0.0  0.0\n",
       " -0.210429   -0.000103633  0.0     1.0  0.0  0.0  0.0  1.0  0.0  0.0\n",
       " -0.257459   -0.000196603  0.0     0.0  1.0  0.0  0.0  0.0  1.0  0.0\n",
       " -0.0922676  -0.000355282  0.0     0.0  0.0  1.0  0.0  0.0  0.0  1.0\n",
       "\n",
       "[:, :, 2] =\n",
       " -0.000315634  -1.802f-12    0.0  …  0.0  0.0  0.0  1.0  0.0  0.0  0.0\n",
       " -0.00048865   -4.28447f-13  0.0     1.0  0.0  0.0  0.0  1.0  0.0  0.0\n",
       " -0.000597861  -8.1281f-13   0.0     0.0  1.0  0.0  0.0  0.0  1.0  0.0\n",
       " -0.000214261  -1.46883f-12  0.0     0.0  0.0  1.0  0.0  0.0  0.0  1.0"
      ]
     },
     "metadata": {},
     "output_type": "display_data"
    }
   ],
   "source": [
    "stack([jtmp_1, jtmp_2])"
   ]
  },
  {
   "cell_type": "code",
   "execution_count": 34,
   "metadata": {
    "tags": []
   },
   "outputs": [
    {
     "name": "stdout",
     "output_type": "stream",
     "text": [
      "i = 1\n",
      "j = 4\n",
      "i = 3\n",
      "j = 6\n"
     ]
    }
   ],
   "source": [
    "batch_size = 2\n",
    "outdim = 4\n",
    "for batch_index in 1:batch_size\n",
    "    i = (batch_index - 1) * batch_size + 1\n",
    "    j = i + outdim - 1\n",
    "    @show i\n",
    "    @show j\n",
    "end"
   ]
  },
  {
   "cell_type": "code",
   "execution_count": 35,
   "metadata": {
    "tags": []
   },
   "outputs": [
    {
     "name": "stdout",
     "output_type": "stream",
     "text": [
      "i = 1\n",
      "(i + outdim) - 1 = 4\n",
      "i = 5\n",
      "(i + outdim) - 1 = 8\n"
     ]
    }
   ],
   "source": [
    "for i in 1:outdim:(batch_size * outdim)\n",
    "    @show i\n",
    "    @show i + outdim - 1\n",
    "end"
   ]
  },
  {
   "cell_type": "code",
   "execution_count": 36,
   "metadata": {
    "tags": []
   },
   "outputs": [
    {
     "data": {
      "text/plain": [
       "2-element Vector{Matrix{Float32}}:\n",
       " [-0.13592248 -0.0004358684 … 0.0 0.0; -0.21042885 -0.000103633116 … 0.0 0.0; -0.25745878 -0.00019660302 … 1.0 0.0; -0.09226761 -0.00035528222 … 0.0 1.0]\n",
       " [-0.00031563427 -1.8019975f-12 … 0.0 0.0; -0.0004886503 -4.284472f-13 … 0.0 0.0; -0.0005978615 -8.1280994f-13 … 1.0 0.0; -0.00021426051 -1.4688323f-12 … 0.0 1.0]"
      ]
     },
     "metadata": {},
     "output_type": "display_data"
    }
   ],
   "source": [
    "#jviews = [(batch_start, batch_start + outdim - 1) for batch_start in 1 : outdim : batch_size * outdim]\n",
    "jviews = [jtmp[batch_start : (batch_start + outdim - 1), :] for batch_start in 1 : outdim : batch_size * outdim]\n",
    "#display(jviews)\n",
    "# jviews = [@view J[batch_start:batch_start + outdim - 1, :] for batch_start in 1:outdim:batch_size]"
   ]
  },
  {
   "cell_type": "code",
   "execution_count": 37,
   "metadata": {
    "tags": []
   },
   "outputs": [
    {
     "data": {
      "text/plain": [
       "4×25 Matrix{Float32}:\n",
       " -0.135922   -0.000435868  0.0  …  0.0  0.0  0.0  1.0  0.0  0.0  0.0\n",
       " -0.210429   -0.000103633  0.0     1.0  0.0  0.0  0.0  1.0  0.0  0.0\n",
       " -0.257459   -0.000196603  0.0     0.0  1.0  0.0  0.0  0.0  1.0  0.0\n",
       " -0.0922676  -0.000355282  0.0     0.0  0.0  1.0  0.0  0.0  0.0  1.0"
      ]
     },
     "metadata": {},
     "output_type": "display_data"
    },
    {
     "data": {
      "text/plain": [
       "4×25 Matrix{Float32}:\n",
       " -0.000315634  -1.802f-12    0.0  …  0.0  0.0  0.0  1.0  0.0  0.0  0.0\n",
       " -0.00048865   -4.28447f-13  0.0     1.0  0.0  0.0  0.0  1.0  0.0  0.0\n",
       " -0.000597861  -8.1281f-13   0.0     0.0  1.0  0.0  0.0  0.0  1.0  0.0\n",
       " -0.000214261  -1.46883f-12  0.0     0.0  0.0  1.0  0.0  0.0  0.0  1.0"
      ]
     },
     "metadata": {},
     "output_type": "display_data"
    }
   ],
   "source": [
    "display(jviews[1])\n",
    "display(jviews[2])"
   ]
  },
  {
   "cell_type": "code",
   "execution_count": 38,
   "metadata": {
    "tags": []
   },
   "outputs": [
    {
     "data": {
      "text/plain": [
       "2×1×1 Array{Matrix{Float32}, 3}:\n",
       "[:, :, 1] =\n",
       " [-0.13592248 -0.0004358684 … 0.0 0.0; -0.21042885 -0.000103633116 … 0.0 0.0; -0.25745878 -0.00019660302 … 1.0 0.0; -0.09226761 -0.00035528222 … 0.0 1.0]\n",
       " [-0.00031563427 -1.8019975f-12 … 0.0 0.0; -0.0004886503 -4.284472f-13 … 0.0 0.0; -0.0005978615 -8.1280994f-13 … 1.0 0.0; -0.00021426051 -1.4688323f-12 … 0.0 1.0]"
      ]
     },
     "metadata": {},
     "output_type": "display_data"
    }
   ],
   "source": [
    "cat(jviews, dims=3)"
   ]
  },
  {
   "cell_type": "code",
   "execution_count": 39,
   "metadata": {
    "tags": []
   },
   "outputs": [
    {
     "data": {
      "text/plain": [
       "4×25×2 Array{Float32, 3}:\n",
       "[:, :, 1] =\n",
       " -0.135922   -0.000435868  0.0  …  0.0  0.0  0.0  1.0  0.0  0.0  0.0\n",
       " -0.210429   -0.000103633  0.0     1.0  0.0  0.0  0.0  1.0  0.0  0.0\n",
       " -0.257459   -0.000196603  0.0     0.0  1.0  0.0  0.0  0.0  1.0  0.0\n",
       " -0.0922676  -0.000355282  0.0     0.0  0.0  1.0  0.0  0.0  0.0  1.0\n",
       "\n",
       "[:, :, 2] =\n",
       " -0.000315634  -1.802f-12    0.0  …  0.0  0.0  0.0  1.0  0.0  0.0  0.0\n",
       " -0.00048865   -4.28447f-13  0.0     1.0  0.0  0.0  0.0  1.0  0.0  0.0\n",
       " -0.000597861  -8.1281f-13   0.0     0.0  1.0  0.0  0.0  0.0  1.0  0.0\n",
       " -0.000214261  -1.46883f-12  0.0     0.0  0.0  1.0  0.0  0.0  0.0  1.0"
      ]
     },
     "metadata": {},
     "output_type": "display_data"
    }
   ],
   "source": [
    "Jt = reduce((a, b) -> cat(a, b, dims=3), jviews)"
   ]
  },
  {
   "cell_type": "code",
   "execution_count": 40,
   "metadata": {
    "tags": []
   },
   "outputs": [
    {
     "ename": "MethodError",
     "evalue": "MethodError: objects of type Vector{Any} are not callable\nUse square brackets [] for indexing an Array.",
     "output_type": "error",
     "traceback": [
      "MethodError: objects of type Vector{Any} are not callable\n",
      "Use square brackets [] for indexing an Array.\n",
      "\n",
      "Stacktrace:\n",
      " [1] _mapreduce\n",
      "   @ .\\reduce.jl:435 [inlined]\n",
      " [2] _mapreduce_dim\n",
      "   @ .\\reducedim.jl:365 [inlined]\n",
      " [3] #mapreduce#800\n",
      "   @ .\\reducedim.jl:357 [inlined]\n",
      " [4] mapreduce\n",
      "   @ .\\reducedim.jl:357 [inlined]\n",
      " [5] #reduce#802\n",
      "   @ .\\reducedim.jl:406 [inlined]\n",
      " [6] reduce(op::Vector{Any}, A::Vector{Matrix{Float32}})\n",
      "   @ Base .\\reducedim.jl:406\n",
      " [7] top-level scope\n",
      "   @ c:\\Users\\Andrei\\LaplaceRedux.jl\\src\\Trials-03.ipynb:1"
     ]
    }
   ],
   "source": [
    "reduce(cat(dims=3), jviews)"
   ]
  },
  {
   "cell_type": "code",
   "execution_count": 41,
   "metadata": {
    "tags": []
   },
   "outputs": [
    {
     "data": {
      "text/plain": [
       "4×25×2 Array{Float32, 3}:\n",
       "[:, :, 1] =\n",
       " -0.135922   -0.000435868  0.0  …  0.0  0.0  0.0  1.0  0.0  0.0  0.0\n",
       " -0.210429   -0.000103633  0.0     1.0  0.0  0.0  0.0  1.0  0.0  0.0\n",
       " -0.257459   -0.000196603  0.0     0.0  1.0  0.0  0.0  0.0  1.0  0.0\n",
       " -0.0922676  -0.000355282  0.0     0.0  0.0  1.0  0.0  0.0  0.0  1.0\n",
       "\n",
       "[:, :, 2] =\n",
       " -0.000315634  -1.802f-12    0.0  …  0.0  0.0  0.0  1.0  0.0  0.0  0.0\n",
       " -0.00048865   -4.28447f-13  0.0     1.0  0.0  0.0  0.0  1.0  0.0  0.0\n",
       " -0.000597861  -8.1281f-13   0.0     0.0  1.0  0.0  0.0  0.0  1.0  0.0\n",
       " -0.000214261  -1.46883f-12  0.0     0.0  0.0  1.0  0.0  0.0  0.0  1.0"
      ]
     },
     "metadata": {},
     "output_type": "display_data"
    }
   ],
   "source": [
    "Js = stack(jviews)"
   ]
  },
  {
   "cell_type": "code",
   "execution_count": 42,
   "metadata": {
    "tags": []
   },
   "outputs": [
    {
     "data": {
      "text/plain": [
       "true"
      ]
     },
     "metadata": {},
     "output_type": "display_data"
    }
   ],
   "source": [
    "Js == J"
   ]
  },
  {
   "cell_type": "code",
   "execution_count": 43,
   "metadata": {
    "tags": []
   },
   "outputs": [
    {
     "data": {
      "text/plain": [
       "true"
      ]
     },
     "metadata": {},
     "output_type": "display_data"
    }
   ],
   "source": [
    "J == Jt"
   ]
  },
  {
   "cell_type": "code",
   "execution_count": 44,
   "metadata": {
    "tags": []
   },
   "outputs": [],
   "source": [
    "@assert isapprox(J[:, :, 1], J_1, atol=.0005)\n",
    "@assert isapprox(J[:, :, 2], J_2, atol=.0005)"
   ]
  },
  {
   "attachments": {},
   "cell_type": "markdown",
   "metadata": {},
   "source": [
    "### Laplace Approximation (not yet supported)"
   ]
  },
  {
   "cell_type": "code",
   "execution_count": 45,
   "metadata": {},
   "outputs": [],
   "source": [
    "# la = Laplace(nn; likelihood=:classification)\n",
    "# fit!(la, data)\n",
    "# optimize_prior!(la; verbose=true, n_steps=1000)"
   ]
  },
  {
   "cell_type": "code",
   "execution_count": 46,
   "metadata": {},
   "outputs": [],
   "source": [
    "#| output: true\n",
    "\n",
    "# _labels = sort(unique(y))\n",
    "# plt_list = []\n",
    "# for target in _labels\n",
    "#     plt = plot(la, X, y; target=target, clim=(0,1))\n",
    "#     push!(plt_list, plt)\n",
    "# end\n",
    "# plot(plt_list...)"
   ]
  },
  {
   "cell_type": "code",
   "execution_count": 47,
   "metadata": {},
   "outputs": [],
   "source": [
    "#| output: true\n",
    "\n",
    "# _labels = sort(unique(y))\n",
    "# plt_list = []\n",
    "# for target in _labels\n",
    "#     plt = plot(la, X, y; target=target, clim=(0,1), link_approx=:plugin)\n",
    "#     push!(plt_list, plt)\n",
    "# end\n",
    "# plot(plt_list...)"
   ]
  },
  {
   "attachments": {},
   "cell_type": "markdown",
   "metadata": {},
   "source": [
    "# Checking the implementation of Jacobians batched"
   ]
  },
  {
   "cell_type": "code",
   "execution_count": 48,
   "metadata": {},
   "outputs": [
    {
     "data": {
      "text/plain": [
       "jacobians (generic function with 1 method)"
      ]
     },
     "metadata": {},
     "output_type": "display_data"
    }
   ],
   "source": [
    "function jacobians_batched(nn, X::AbstractArray)\n",
    "    # Output:\n",
    "    ŷ = nn(X)\n",
    "    batch_size = size(X)[end]\n",
    "    K = get_outdim(nn)\n",
    "    # Jacobian:\n",
    "    grads = jacobian(() -> nn(X), Flux.params(nn))\n",
    "    grads_joint = reduce(hcat, grads)\n",
    "    views = [grads_joint[batch_start : (batch_start + K - 1), :] for batch_start in 1 : K : batch_size * K]\n",
    "    𝐉 = stack(views)\n",
    "    return 𝐉, ŷ\n",
    "end\n",
    "\n",
    " function get_outdim(model::Chain)\n",
    "     return [size(p) for p in Flux.params(model)][end][1]\n",
    " end\n",
    "\n",
    "function jacobians(nn, X::AbstractArray)\n",
    "    # Output:\n",
    "    ŷ = nn(X)\n",
    "    # Jacobian:\n",
    "    𝐉 = jacobian(() -> nn(X), Flux.params(nn))\n",
    "    𝐉 = permutedims(reduce(hcat, [𝐉[θ] for θ in Flux.params(nn)]))\n",
    "    return 𝐉, ŷ\n",
    "end"
   ]
  },
  {
   "cell_type": "code",
   "execution_count": 49,
   "metadata": {},
   "outputs": [
    {
     "data": {
      "text/plain": [
       "2-element Vector{Float64}:\n",
       " 2.1589545269914048\n",
       " 1.5807007219814284"
      ]
     },
     "metadata": {},
     "output_type": "display_data"
    }
   ],
   "source": [
    "x[1]"
   ]
  },
  {
   "cell_type": "code",
   "execution_count": 50,
   "metadata": {},
   "outputs": [
    {
     "data": {
      "text/plain": [
       "25×4 Matrix{Float32}:\n",
       " -0.135922     -0.210429     -0.257459     -0.0922676\n",
       " -0.000435868  -0.000103633  -0.000196603  -0.000355282\n",
       " -0.0          -0.0          -0.0          -0.0\n",
       " -0.099517     -0.154068     -0.188501     -0.0675547\n",
       " -0.000319126  -7.58761f-5   -0.000143945  -0.000260124\n",
       " -0.0          -0.0          -0.0          -0.0\n",
       " -0.0629575    -0.0974679    -0.119252     -0.0427372\n",
       " -0.000201889  -4.80015f-5   -9.1064f-5    -0.000164562\n",
       " -0.0          -0.0          -0.0          -0.0\n",
       "  0.997183      0.0           0.0           0.0\n",
       "  ⋮                                        \n",
       "  0.0           0.0           0.0           5.54392f-6\n",
       "  1.0           0.0           0.0           0.0\n",
       "  0.0           1.0           0.0           0.0\n",
       "  0.0           0.0           1.0           0.0\n",
       "  0.0           0.0           0.0           1.0\n",
       "  1.0           0.0           0.0           0.0\n",
       "  0.0           1.0           0.0           0.0\n",
       "  0.0           0.0           1.0           0.0\n",
       "  0.0           0.0           0.0           1.0"
      ]
     },
     "metadata": {},
     "output_type": "display_data"
    },
    {
     "data": {
      "text/plain": [
       "4-element Vector{Float32}:\n",
       "  -63.314323\n",
       " -101.91723\n",
       "  -81.78183\n",
       "  -82.48361"
      ]
     },
     "metadata": {},
     "output_type": "display_data"
    }
   ],
   "source": [
    "J_1, yhat_1 = jacobians(nn, x[1])\n",
    "display(J_1)\n",
    "display(yhat_1)"
   ]
  },
  {
   "cell_type": "code",
   "execution_count": 51,
   "metadata": {},
   "outputs": [
    {
     "data": {
      "text/plain": [
       "4×25×2000 Array{Float32, 3}:\n",
       "[:, :, 1] =\n",
       " -0.135922   -0.000435868  0.0  …  0.0  0.0  0.0  1.0  0.0  0.0  0.0\n",
       " -0.210429   -0.000103633  0.0     1.0  0.0  0.0  0.0  1.0  0.0  0.0\n",
       " -0.257459   -0.000196603  0.0     0.0  1.0  0.0  0.0  0.0  1.0  0.0\n",
       " -0.0922676  -0.000355282  0.0     0.0  0.0  1.0  0.0  0.0  0.0  1.0\n",
       "\n",
       "[:, :, 2] =\n",
       " -0.000315634  -1.802f-12    0.0  …  0.0  0.0  0.0  1.0  0.0  0.0  0.0\n",
       " -0.00048865   -4.28447f-13  0.0     1.0  0.0  0.0  0.0  1.0  0.0  0.0\n",
       " -0.000597861  -8.1281f-13   0.0     0.0  1.0  0.0  0.0  0.0  1.0  0.0\n",
       " -0.000214261  -1.46883f-12  0.0     0.0  0.0  1.0  0.0  0.0  0.0  1.0\n",
       "\n",
       "[:, :, 3] =\n",
       " -0.00173364  -4.71217f-11  0.0  …  0.0  0.0  0.0  1.0  0.0  0.0  0.0\n",
       " -0.00268394  -1.12038f-11  0.0     1.0  0.0  0.0  0.0  1.0  0.0  0.0\n",
       " -0.00328379  -2.12547f-11  0.0     0.0  1.0  0.0  0.0  0.0  1.0  0.0\n",
       " -0.00117684  -3.84095f-11  0.0     0.0  0.0  1.0  0.0  0.0  0.0  1.0\n",
       "\n",
       ";;; … \n",
       "\n",
       "[:, :, 1998] =\n",
       " 0.000485823  9.29418f-9  1.46142f-11  …  0.0          1.0  0.0  0.0  0.0\n",
       " 0.000752128  2.20981f-9  2.5821f-10      0.0          0.0  1.0  0.0  0.0\n",
       " 0.000920225  4.19224f-9  1.5192f-11      0.0          0.0  0.0  1.0  0.0\n",
       " 0.000329789  7.57581f-9  2.55918f-10     1.34257f-12  0.0  0.0  0.0  1.0\n",
       "\n",
       "[:, :, 1999] =\n",
       " 0.022461   0.000177878  6.74373f-6   …  0.0         1.0  0.0  0.0  0.0\n",
       " 0.0347731  4.22927f-5   0.000119151     0.0         0.0  1.0  0.0  0.0\n",
       " 0.0425447  8.02337f-5   7.01032f-6      0.0         0.0  0.0  1.0  0.0\n",
       " 0.0152471  0.000144991  0.000118093     1.10458f-6  0.0  0.0  0.0  1.0\n",
       "\n",
       "[:, :, 2000] =\n",
       " 0.00164771  9.57434f-7  4.68552f-17  …  0.0          1.0  0.0  0.0  0.0\n",
       " 0.00255091  2.27642f-7  8.27857f-16     0.0          0.0  1.0  0.0  0.0\n",
       " 0.00312103  4.31861f-7  4.87075f-17     0.0          0.0  0.0  1.0  0.0\n",
       " 0.00111851  7.80417f-7  8.20507f-16     3.02644f-18  0.0  0.0  0.0  1.0"
      ]
     },
     "metadata": {},
     "output_type": "display_data"
    },
    {
     "data": {
      "text/plain": [
       "4×2000 Matrix{Float32}:\n",
       "  -63.3143   -63.3772   -63.3769   -63.3701  …  -61.0423  -61.0339  -61.0422\n",
       " -101.917   -102.015   -102.014   -102.004      -60.7616  -60.7485  -60.7614\n",
       "  -81.7818   -81.9012   -81.9006   -81.8878     -79.474   -79.4579  -79.4737\n",
       "  -82.4836   -82.5262   -82.5261   -82.5215     -41.6393  -41.6336  -41.6392"
      ]
     },
     "metadata": {},
     "output_type": "display_data"
    }
   ],
   "source": [
    "J_b, yhat_b = jacobians_batched(nn, X)\n",
    "display(J_b)\n",
    "display(yhat_b)"
   ]
  },
  {
   "cell_type": "code",
   "execution_count": 52,
   "metadata": {},
   "outputs": [
    {
     "data": {
      "text/plain": [
       "method_unbatched (generic function with 1 method)"
      ]
     },
     "metadata": {},
     "output_type": "display_data"
    }
   ],
   "source": [
    "function method_batched()\n",
    "    jacobians_batched(nn, X)\n",
    "end\n",
    "\n",
    "function method_unbatched()\n",
    "    for x in eachcol(X)\n",
    "        jacobians(nn, x)\n",
    "    end\n",
    "end"
   ]
  },
  {
   "cell_type": "code",
   "execution_count": 53,
   "metadata": {},
   "outputs": [
    {
     "data": {
      "text/plain": [
       "BenchmarkTools.Trial: 10 samples with 1 evaluation.\n",
       " Range \u001b[90m(\u001b[39m\u001b[36m\u001b[1mmin\u001b[22m\u001b[39m … \u001b[35mmax\u001b[39m\u001b[90m):  \u001b[39m\u001b[36m\u001b[1m504.703 ms\u001b[22m\u001b[39m … \u001b[35m564.012 ms\u001b[39m  \u001b[90m┊\u001b[39m GC \u001b[90m(\u001b[39mmin … max\u001b[90m): \u001b[39m6.69% … 7.00%\n",
       " Time  \u001b[90m(\u001b[39m\u001b[34m\u001b[1mmedian\u001b[22m\u001b[39m\u001b[90m):     \u001b[39m\u001b[34m\u001b[1m530.400 ms               \u001b[22m\u001b[39m\u001b[90m┊\u001b[39m GC \u001b[90m(\u001b[39mmedian\u001b[90m):    \u001b[39m7.01%\n",
       " Time  \u001b[90m(\u001b[39m\u001b[32m\u001b[1mmean\u001b[22m\u001b[39m ± \u001b[32mσ\u001b[39m\u001b[90m):   \u001b[39m\u001b[32m\u001b[1m529.960 ms\u001b[22m\u001b[39m ± \u001b[32m 19.483 ms\u001b[39m  \u001b[90m┊\u001b[39m GC \u001b[90m(\u001b[39mmean ± σ\u001b[90m):  \u001b[39m6.93% ± 0.38%\n",
       "\n",
       "  \u001b[39m█\u001b[39m \u001b[39m \u001b[39m \u001b[39m \u001b[39m \u001b[39m \u001b[39m \u001b[39m \u001b[39m▁\u001b[39m \u001b[39m \u001b[39m \u001b[39m \u001b[39m \u001b[39m \u001b[39m▁\u001b[39m \u001b[39m \u001b[39m \u001b[39m \u001b[39m \u001b[39m \u001b[39m \u001b[39m \u001b[39m▁\u001b[34m \u001b[39m\u001b[39m▁\u001b[39m \u001b[39m \u001b[39m \u001b[39m \u001b[39m▁\u001b[39m \u001b[39m \u001b[39m \u001b[39m \u001b[39m \u001b[39m▁\u001b[39m \u001b[39m \u001b[39m \u001b[39m \u001b[39m \u001b[39m \u001b[39m \u001b[39m \u001b[39m \u001b[39m▁\u001b[39m \u001b[39m \u001b[39m \u001b[39m \u001b[39m \u001b[39m \u001b[39m \u001b[39m \u001b[39m \u001b[39m \u001b[39m \u001b[39m▁\u001b[39m \u001b[39m \n",
       "  \u001b[39m█\u001b[39m▁\u001b[39m▁\u001b[39m▁\u001b[39m▁\u001b[39m▁\u001b[39m▁\u001b[39m▁\u001b[39m▁\u001b[39m█\u001b[39m▁\u001b[39m▁\u001b[39m▁\u001b[39m▁\u001b[39m▁\u001b[39m▁\u001b[39m█\u001b[39m▁\u001b[39m▁\u001b[39m▁\u001b[39m▁\u001b[39m▁\u001b[39m▁\u001b[39m▁\u001b[39m▁\u001b[39m█\u001b[34m▁\u001b[39m\u001b[39m█\u001b[39m▁\u001b[39m▁\u001b[39m▁\u001b[39m▁\u001b[39m█\u001b[39m▁\u001b[39m▁\u001b[39m▁\u001b[39m▁\u001b[39m▁\u001b[39m█\u001b[39m▁\u001b[39m▁\u001b[39m▁\u001b[39m▁\u001b[39m▁\u001b[39m▁\u001b[39m▁\u001b[39m▁\u001b[39m▁\u001b[39m█\u001b[39m▁\u001b[39m▁\u001b[39m▁\u001b[39m▁\u001b[39m▁\u001b[39m▁\u001b[39m▁\u001b[39m▁\u001b[39m▁\u001b[39m▁\u001b[39m▁\u001b[39m█\u001b[39m \u001b[39m▁\n",
       "  505 ms\u001b[90m           Histogram: frequency by time\u001b[39m          564 ms \u001b[0m\u001b[1m<\u001b[22m\n",
       "\n",
       " Memory estimate\u001b[90m: \u001b[39m\u001b[33m1003.50 MiB\u001b[39m, allocs estimate\u001b[90m: \u001b[39m\u001b[33m796053\u001b[39m."
      ]
     },
     "metadata": {},
     "output_type": "display_data"
    }
   ],
   "source": [
    "@benchmark method_batched()"
   ]
  },
  {
   "cell_type": "code",
   "execution_count": 54,
   "metadata": {},
   "outputs": [
    {
     "data": {
      "text/plain": [
       "BenchmarkTools.Trial: 78 samples with 1 evaluation.\n",
       " Range \u001b[90m(\u001b[39m\u001b[36m\u001b[1mmin\u001b[22m\u001b[39m … \u001b[35mmax\u001b[39m\u001b[90m):  \u001b[39m\u001b[36m\u001b[1m57.296 ms\u001b[22m\u001b[39m … \u001b[35m79.891 ms\u001b[39m  \u001b[90m┊\u001b[39m GC \u001b[90m(\u001b[39mmin … max\u001b[90m): \u001b[39m0.00% … 6.25%\n",
       " Time  \u001b[90m(\u001b[39m\u001b[34m\u001b[1mmedian\u001b[22m\u001b[39m\u001b[90m):     \u001b[39m\u001b[34m\u001b[1m65.176 ms              \u001b[22m\u001b[39m\u001b[90m┊\u001b[39m GC \u001b[90m(\u001b[39mmedian\u001b[90m):    \u001b[39m5.87%\n",
       " Time  \u001b[90m(\u001b[39m\u001b[32m\u001b[1mmean\u001b[22m\u001b[39m ± \u001b[32mσ\u001b[39m\u001b[90m):   \u001b[39m\u001b[32m\u001b[1m64.810 ms\u001b[22m\u001b[39m ± \u001b[32m 3.934 ms\u001b[39m  \u001b[90m┊\u001b[39m GC \u001b[90m(\u001b[39mmean ± σ\u001b[90m):  \u001b[39m5.84% ± 1.54%\n",
       "\n",
       "  \u001b[39m \u001b[39m \u001b[39m \u001b[39m \u001b[39m \u001b[39m \u001b[39m \u001b[39m \u001b[39m \u001b[39m \u001b[39m \u001b[39m \u001b[39m \u001b[39m \u001b[39m \u001b[39m▃\u001b[39m \u001b[39m \u001b[39m▃\u001b[39m \u001b[39m▁\u001b[39m \u001b[39m \u001b[39m \u001b[39m \u001b[39m \u001b[39m \u001b[39m \u001b[39m \u001b[32m \u001b[39m\u001b[34m \u001b[39m\u001b[39m \u001b[39m \u001b[39m \u001b[39m█\u001b[39m \u001b[39m \u001b[39m \u001b[39m▃\u001b[39m▁\u001b[39m \u001b[39m \u001b[39m \u001b[39m \u001b[39m \u001b[39m \u001b[39m \u001b[39m \u001b[39m \u001b[39m \u001b[39m \u001b[39m \u001b[39m \u001b[39m \u001b[39m \u001b[39m \u001b[39m \u001b[39m \u001b[39m \u001b[39m \u001b[39m \n",
       "  \u001b[39m▇\u001b[39m▁\u001b[39m▁\u001b[39m▁\u001b[39m▁\u001b[39m▁\u001b[39m▁\u001b[39m▁\u001b[39m▇\u001b[39m▇\u001b[39m▇\u001b[39m▇\u001b[39m▁\u001b[39m▇\u001b[39m▇\u001b[39m█\u001b[39m▇\u001b[39m▇\u001b[39m█\u001b[39m▇\u001b[39m█\u001b[39m▁\u001b[39m▁\u001b[39m▄\u001b[39m▄\u001b[39m▁\u001b[39m▄\u001b[39m▇\u001b[39m▄\u001b[32m▄\u001b[39m\u001b[34m▇\u001b[39m\u001b[39m▇\u001b[39m▄\u001b[39m▇\u001b[39m█\u001b[39m▄\u001b[39m▄\u001b[39m▇\u001b[39m█\u001b[39m█\u001b[39m▁\u001b[39m▇\u001b[39m▇\u001b[39m▁\u001b[39m▄\u001b[39m▁\u001b[39m▇\u001b[39m▇\u001b[39m▄\u001b[39m▁\u001b[39m▁\u001b[39m▄\u001b[39m▄\u001b[39m▄\u001b[39m▁\u001b[39m▄\u001b[39m▁\u001b[39m▁\u001b[39m▄\u001b[39m \u001b[39m▁\n",
       "  57.3 ms\u001b[90m         Histogram: frequency by time\u001b[39m        72.4 ms \u001b[0m\u001b[1m<\u001b[22m\n",
       "\n",
       " Memory estimate\u001b[90m: \u001b[39m\u001b[33m42.05 MiB\u001b[39m, allocs estimate\u001b[90m: \u001b[39m\u001b[33m808001\u001b[39m."
      ]
     },
     "metadata": {},
     "output_type": "display_data"
    }
   ],
   "source": [
    "@benchmark method_unbatched()"
   ]
  },
  {
   "cell_type": "code",
   "execution_count": 55,
   "metadata": {},
   "outputs": [
    {
     "data": {
      "text/plain": [
       "jacobianStacking_Loop (generic function with 1 method)"
      ]
     },
     "metadata": {},
     "output_type": "display_data"
    }
   ],
   "source": [
    "function jacobianStacking_Loop()\n",
    "    function jacobians_batched_aux(nn, X::AbstractArray)\n",
    "        # Output:\n",
    "        #ŷ = nn(X)\n",
    "        batch_size = size(X)[end]\n",
    "        K = get_outdim(nn)\n",
    "        # Jacobian:\n",
    "        grads = jacobian(() -> nn(X), Flux.params(nn))\n",
    "        #grads_joint = reduce(hcat, grads)\n",
    "        #views = [grads_joint[batch_start : (batch_start + K - 1), :] for batch_start in 1 : K : batch_size * K]\n",
    "        #𝐉 = stack(views)\n",
    "        return grads\n",
    "    end\n",
    "\n",
    "    for x in eachcol(X)\n",
    "        jacobians_batched_aux(nn,x)\n",
    "    end\n",
    "    \n",
    "end"
   ]
  },
  {
   "cell_type": "code",
   "execution_count": 56,
   "metadata": {},
   "outputs": [
    {
     "data": {
      "text/plain": [
       "jacobianStacking (generic function with 1 method)"
      ]
     },
     "metadata": {},
     "output_type": "display_data"
    }
   ],
   "source": [
    "function jacobianStacking()\n",
    "    function jacobians_batched_aux(nn, X::AbstractArray)\n",
    "        # Output:\n",
    "        #ŷ = nn(X)\n",
    "        batch_size = size(X)[end]\n",
    "        K = get_outdim(nn)\n",
    "        # Jacobian:\n",
    "        grads = jacobian(() -> nn(X), Flux.params(nn))\n",
    "        #grads_joint = reduce(hcat, grads)\n",
    "        #views = [grads_joint[batch_start : (batch_start + K - 1), :] for batch_start in 1 : K : batch_size * K]\n",
    "        #𝐉 = stack(views)\n",
    "        return grads\n",
    "    end\n",
    "    \n",
    "    jacobians_batched_aux(nn,X)\n",
    "    \n",
    "end"
   ]
  },
  {
   "cell_type": "code",
   "execution_count": 57,
   "metadata": {},
   "outputs": [
    {
     "data": {
      "text/plain": [
       "BenchmarkTools.Trial: 75 samples with 1 evaluation.\n",
       " Range \u001b[90m(\u001b[39m\u001b[36m\u001b[1mmin\u001b[22m\u001b[39m … \u001b[35mmax\u001b[39m\u001b[90m):  \u001b[39m\u001b[36m\u001b[1m59.999 ms\u001b[22m\u001b[39m … \u001b[35m86.614 ms\u001b[39m  \u001b[90m┊\u001b[39m GC \u001b[90m(\u001b[39mmin … max\u001b[90m): \u001b[39m0.00% … 4.59%\n",
       " Time  \u001b[90m(\u001b[39m\u001b[34m\u001b[1mmedian\u001b[22m\u001b[39m\u001b[90m):     \u001b[39m\u001b[34m\u001b[1m66.474 ms              \u001b[22m\u001b[39m\u001b[90m┊\u001b[39m GC \u001b[90m(\u001b[39mmedian\u001b[90m):    \u001b[39m6.08%\n",
       " Time  \u001b[90m(\u001b[39m\u001b[32m\u001b[1mmean\u001b[22m\u001b[39m ± \u001b[32mσ\u001b[39m\u001b[90m):   \u001b[39m\u001b[32m\u001b[1m67.433 ms\u001b[22m\u001b[39m ± \u001b[32m 4.543 ms\u001b[39m  \u001b[90m┊\u001b[39m GC \u001b[90m(\u001b[39mmean ± σ\u001b[90m):  \u001b[39m5.73% ± 2.05%\n",
       "\n",
       "  \u001b[39m \u001b[39m \u001b[39m \u001b[39m \u001b[39m \u001b[39m \u001b[39m \u001b[39m \u001b[39m \u001b[39m▁\u001b[39m \u001b[39m█\u001b[39m \u001b[39m \u001b[39m \u001b[39m \u001b[39m \u001b[39m \u001b[39m▃\u001b[39m▃\u001b[39m \u001b[34m \u001b[39m\u001b[39m \u001b[39m \u001b[39m \u001b[32m \u001b[39m\u001b[39m \u001b[39m \u001b[39m \u001b[39m \u001b[39m▁\u001b[39m \u001b[39m▁\u001b[39m \u001b[39m▁\u001b[39m \u001b[39m \u001b[39m \u001b[39m \u001b[39m \u001b[39m▁\u001b[39m \u001b[39m \u001b[39m \u001b[39m \u001b[39m \u001b[39m \u001b[39m \u001b[39m \u001b[39m \u001b[39m \u001b[39m \u001b[39m \u001b[39m \u001b[39m \u001b[39m \u001b[39m \u001b[39m \u001b[39m \u001b[39m \u001b[39m \n",
       "  \u001b[39m▄\u001b[39m▄\u001b[39m▄\u001b[39m▁\u001b[39m▁\u001b[39m▁\u001b[39m▄\u001b[39m▄\u001b[39m▇\u001b[39m█\u001b[39m▇\u001b[39m█\u001b[39m▇\u001b[39m▇\u001b[39m▇\u001b[39m▇\u001b[39m▄\u001b[39m▄\u001b[39m█\u001b[39m█\u001b[39m▄\u001b[34m▄\u001b[39m\u001b[39m▄\u001b[39m▄\u001b[39m▇\u001b[32m▄\u001b[39m\u001b[39m▄\u001b[39m▄\u001b[39m▄\u001b[39m▇\u001b[39m█\u001b[39m▄\u001b[39m█\u001b[39m▄\u001b[39m█\u001b[39m▁\u001b[39m▇\u001b[39m▇\u001b[39m▁\u001b[39m▄\u001b[39m█\u001b[39m▄\u001b[39m▄\u001b[39m▁\u001b[39m▁\u001b[39m▇\u001b[39m▁\u001b[39m▁\u001b[39m▁\u001b[39m▄\u001b[39m▁\u001b[39m▁\u001b[39m▁\u001b[39m▁\u001b[39m▁\u001b[39m▄\u001b[39m▁\u001b[39m▁\u001b[39m▄\u001b[39m \u001b[39m▁\n",
       "  60 ms\u001b[90m           Histogram: frequency by time\u001b[39m        77.7 ms \u001b[0m\u001b[1m<\u001b[22m\n",
       "\n",
       " Memory estimate\u001b[90m: \u001b[39m\u001b[33m39.92 MiB\u001b[39m, allocs estimate\u001b[90m: \u001b[39m\u001b[33m802001\u001b[39m."
      ]
     },
     "metadata": {},
     "output_type": "display_data"
    }
   ],
   "source": [
    "@benchmark jacobianStacking_Loop()"
   ]
  },
  {
   "cell_type": "code",
   "execution_count": 58,
   "metadata": {},
   "outputs": [
    {
     "data": {
      "text/plain": [
       "BenchmarkTools.Trial: 10 samples with 1 evaluation.\n",
       " Range \u001b[90m(\u001b[39m\u001b[36m\u001b[1mmin\u001b[22m\u001b[39m … \u001b[35mmax\u001b[39m\u001b[90m):  \u001b[39m\u001b[36m\u001b[1m506.045 ms\u001b[22m\u001b[39m … \u001b[35m553.887 ms\u001b[39m  \u001b[90m┊\u001b[39m GC \u001b[90m(\u001b[39mmin … max\u001b[90m): \u001b[39m6.81% … 7.78%\n",
       " Time  \u001b[90m(\u001b[39m\u001b[34m\u001b[1mmedian\u001b[22m\u001b[39m\u001b[90m):     \u001b[39m\u001b[34m\u001b[1m540.004 ms               \u001b[22m\u001b[39m\u001b[90m┊\u001b[39m GC \u001b[90m(\u001b[39mmedian\u001b[90m):    \u001b[39m7.18%\n",
       " Time  \u001b[90m(\u001b[39m\u001b[32m\u001b[1mmean\u001b[22m\u001b[39m ± \u001b[32mσ\u001b[39m\u001b[90m):   \u001b[39m\u001b[32m\u001b[1m534.986 ms\u001b[22m\u001b[39m ± \u001b[32m 15.579 ms\u001b[39m  \u001b[90m┊\u001b[39m GC \u001b[90m(\u001b[39mmean ± σ\u001b[90m):  \u001b[39m7.25% ± 0.40%\n",
       "\n",
       "  \u001b[39m█\u001b[39m \u001b[39m \u001b[39m \u001b[39m \u001b[39m \u001b[39m \u001b[39m \u001b[39m \u001b[39m \u001b[39m \u001b[39m \u001b[39m \u001b[39m \u001b[39m█\u001b[39m \u001b[39m \u001b[39m \u001b[39m█\u001b[39m \u001b[39m \u001b[39m \u001b[39m \u001b[39m \u001b[39m \u001b[39m \u001b[39m \u001b[39m \u001b[39m \u001b[39m \u001b[39m \u001b[39m \u001b[39m \u001b[39m \u001b[39m█\u001b[39m \u001b[39m \u001b[32m \u001b[39m\u001b[39m \u001b[39m█\u001b[34m \u001b[39m\u001b[39m \u001b[39m \u001b[39m \u001b[39m \u001b[39m \u001b[39m█\u001b[39m \u001b[39m█\u001b[39m \u001b[39m \u001b[39m█\u001b[39m \u001b[39m█\u001b[39m \u001b[39m \u001b[39m \u001b[39m \u001b[39m \u001b[39m \u001b[39m█\u001b[39m \u001b[39m \n",
       "  \u001b[39m█\u001b[39m▁\u001b[39m▁\u001b[39m▁\u001b[39m▁\u001b[39m▁\u001b[39m▁\u001b[39m▁\u001b[39m▁\u001b[39m▁\u001b[39m▁\u001b[39m▁\u001b[39m▁\u001b[39m▁\u001b[39m█\u001b[39m▁\u001b[39m▁\u001b[39m▁\u001b[39m█\u001b[39m▁\u001b[39m▁\u001b[39m▁\u001b[39m▁\u001b[39m▁\u001b[39m▁\u001b[39m▁\u001b[39m▁\u001b[39m▁\u001b[39m▁\u001b[39m▁\u001b[39m▁\u001b[39m▁\u001b[39m▁\u001b[39m▁\u001b[39m█\u001b[39m▁\u001b[39m▁\u001b[32m▁\u001b[39m\u001b[39m▁\u001b[39m█\u001b[34m▁\u001b[39m\u001b[39m▁\u001b[39m▁\u001b[39m▁\u001b[39m▁\u001b[39m▁\u001b[39m█\u001b[39m▁\u001b[39m█\u001b[39m▁\u001b[39m▁\u001b[39m█\u001b[39m▁\u001b[39m█\u001b[39m▁\u001b[39m▁\u001b[39m▁\u001b[39m▁\u001b[39m▁\u001b[39m▁\u001b[39m█\u001b[39m \u001b[39m▁\n",
       "  506 ms\u001b[90m           Histogram: frequency by time\u001b[39m          554 ms \u001b[0m\u001b[1m<\u001b[22m\n",
       "\n",
       " Memory estimate\u001b[90m: \u001b[39m\u001b[33m999.97 MiB\u001b[39m, allocs estimate\u001b[90m: \u001b[39m\u001b[33m794002\u001b[39m."
      ]
     },
     "metadata": {},
     "output_type": "display_data"
    }
   ],
   "source": [
    "@benchmark jacobianStacking()"
   ]
  }
 ],
 "metadata": {
  "kernelspec": {
   "display_name": "Julia 1.8.5",
   "language": "julia",
   "name": "julia-1.8"
  },
  "language_info": {
   "file_extension": ".jl",
   "mimetype": "application/julia",
   "name": "julia",
   "version": "1.8.5"
  }
 },
 "nbformat": 4,
 "nbformat_minor": 4
}
