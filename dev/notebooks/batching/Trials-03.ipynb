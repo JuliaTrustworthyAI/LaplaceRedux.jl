{
 "cells": [
  {
   "cell_type": "markdown",
   "metadata": {},
   "source": [
    "```@meta\n",
    "CurrentModule = LaplaceRedux\n",
    "```\n",
    "## Batched Jacobians\n",
    "As applied to a multi-class classification task.\n",
    "\n",
    "### Multi-class problem"
   ]
  },
  {
   "cell_type": "code",
   "execution_count": 1,
   "metadata": {
    "tags": []
   },
   "outputs": [
    {
     "name": "stderr",
     "output_type": "stream",
     "text": [
      "\u001b[32m\u001b[1m  Activating\u001b[22m\u001b[39m project at `~/Builds/navimakarov/LaplaceRedux.jl/dev/notebooks/batching`\n"
     ]
    }
   ],
   "source": [
    "using Pkg\n",
    "Pkg.activate(\".\")\n",
    "using LaplaceRedux\n",
    "using LaplaceRedux.Curvature\n",
    "using LaplaceRedux.Data\n",
    "using Flux\n",
    "using Flux.Optimise: update!, Adam\n",
    "using Plots\n",
    "using Statistics\n",
    "using MLUtils\n",
    "using Zygote\n",
    "using Printf\n",
    "using NNlib\n",
    "using BenchmarkTools\n",
    "using Tullio"
   ]
  },
  {
   "cell_type": "code",
   "execution_count": 2,
   "metadata": {},
   "outputs": [
    {
     "data": {
      "text/plain": [
       "100-element Vector{Vector{Bool}}:\n",
       " [1, 0, 0, 0]\n",
       " [1, 0, 0, 0]\n",
       " [1, 0, 0, 0]\n",
       " [1, 0, 0, 0]\n",
       " [1, 0, 0, 0]\n",
       " [1, 0, 0, 0]\n",
       " [1, 0, 0, 0]\n",
       " [1, 0, 0, 0]\n",
       " [1, 0, 0, 0]\n",
       " [1, 0, 0, 0]\n",
       " [1, 0, 0, 0]\n",
       " [1, 0, 0, 0]\n",
       " [1, 0, 0, 0]\n",
       " ⋮\n",
       " [0, 0, 0, 1]\n",
       " [0, 0, 0, 1]\n",
       " [0, 0, 0, 1]\n",
       " [0, 0, 0, 1]\n",
       " [0, 0, 0, 1]\n",
       " [0, 0, 0, 1]\n",
       " [0, 0, 0, 1]\n",
       " [0, 0, 0, 1]\n",
       " [0, 0, 0, 1]\n",
       " [0, 0, 0, 1]\n",
       " [0, 0, 0, 1]\n",
       " [0, 0, 0, 1]"
      ]
     },
     "execution_count": 2,
     "metadata": {},
     "output_type": "execute_result"
    }
   ],
   "source": [
    "x, y = Data.toy_data_multi()\n",
    "X = hcat(x...)\n",
    "y_train = Flux.onehotbatch(y, unique(y))\n",
    "y_train = Flux.unstack(y_train',1)"
   ]
  },
  {
   "cell_type": "code",
   "execution_count": 3,
   "metadata": {},
   "outputs": [
    {
     "data": {
      "text/plain": [
       "loss (generic function with 1 method)"
      ]
     },
     "execution_count": 3,
     "metadata": {},
     "output_type": "execute_result"
    }
   ],
   "source": [
    "data = zip(x,y_train)\n",
    "n_hidden = 3\n",
    "D = size(X,1)\n",
    "out_dim = length(unique(y))\n",
    "nn = Chain(\n",
    "    Dense(D, n_hidden, σ),\n",
    "    Dense(n_hidden, out_dim)\n",
    ")  \n",
    "loss(x, y) = Flux.Losses.logitcrossentropy(nn(x), y)"
   ]
  },
  {
   "cell_type": "code",
   "execution_count": 4,
   "metadata": {},
   "outputs": [
    {
     "name": "stderr",
     "output_type": "stream",
     "text": [
      "\u001b[33m\u001b[1m┌ \u001b[22m\u001b[39m\u001b[33m\u001b[1mWarning: \u001b[22m\u001b[39mLayer with Float32 parameters got Float64 input.\n",
      "\u001b[33m\u001b[1m│ \u001b[22m\u001b[39m  The input will be converted, but any earlier layers may be very slow.\n",
      "\u001b[33m\u001b[1m│ \u001b[22m\u001b[39m  layer = Dense(2 => 3, σ)    \u001b[90m# 9 parameters\u001b[39m\n",
      "\u001b[33m\u001b[1m│ \u001b[22m\u001b[39m  summary(x) = \"2-element Vector{Float64}\"\n",
      "\u001b[33m\u001b[1m└ \u001b[22m\u001b[39m\u001b[90m@ Flux ~/.julia/packages/Flux/EHgZm/src/layers/stateless.jl:60\u001b[39m\n"
     ]
    },
    {
     "name": "stdout",
     "output_type": "stream",
     "text": [
      "Epoch 10\n",
      "avg_loss(data) = 0.9327189f0\n",
      "Epoch 20\n",
      "avg_loss(data) = 0.6260527f0\n",
      "Epoch 30\n",
      "avg_loss(data) = 0.4192539f0\n",
      "Epoch 40\n",
      "avg_loss(data) = 0.29381973f0\n",
      "Epoch 50\n",
      "avg_loss(data) = 0.21203795f0\n",
      "Epoch 60\n",
      "avg_loss(data) = 0.15556468f0\n",
      "Epoch 70\n",
      "avg_loss(data) = 0.11524396f0\n",
      "Epoch 80\n",
      "avg_loss(data) = 0.08588406f0\n",
      "Epoch 90\n",
      "avg_loss(data) = 0.06424693f0\n",
      "Epoch 100\n",
      "avg_loss(data) = 0.048179574f0\n"
     ]
    }
   ],
   "source": [
    "using Flux.Optimise: update!, Adam\n",
    "opt = Adam()\n",
    "epochs = 100\n",
    "avg_loss(data) = mean(map(d -> loss(d[1],d[2]), data))\n",
    "show_every = epochs/10\n",
    "\n",
    "for epoch = 1:epochs\n",
    "    for d in data\n",
    "        gs = gradient(Flux.params(nn)) do\n",
    "            l = loss(d...)\n",
    "        end\n",
    "        update!(opt, Flux.params(nn), gs)\n",
    "    end\n",
    "    if epoch % show_every == 0\n",
    "        println(\"Epoch \" * string(epoch))\n",
    "        @show avg_loss(data)\n",
    "    end\n",
    "end"
   ]
  },
  {
   "cell_type": "code",
   "execution_count": 5,
   "metadata": {
    "tags": []
   },
   "outputs": [
    {
     "data": {
      "text/plain": [
       "4×100 Matrix{Bool}:\n",
       " 1  1  1  1  1  1  1  1  1  1  1  1  1  …  0  0  0  0  0  0  0  0  0  0  0  0\n",
       " 0  0  0  0  0  0  0  0  0  0  0  0  0     0  0  0  0  0  0  0  0  0  0  0  0\n",
       " 0  0  0  0  0  0  0  0  0  0  0  0  0     0  0  0  0  0  0  0  0  0  0  0  0\n",
       " 0  0  0  0  0  0  0  0  0  0  0  0  0     1  1  1  1  1  1  1  1  1  1  1  1"
      ]
     },
     "execution_count": 5,
     "metadata": {},
     "output_type": "execute_result"
    }
   ],
   "source": [
    "Y = reduce(hcat, y_train)"
   ]
  },
  {
   "cell_type": "code",
   "execution_count": 6,
   "metadata": {
    "tags": []
   },
   "outputs": [
    {
     "data": {
      "text/plain": [
       "2×100 Matrix{Float64}:\n",
       " 5.10701  1.61325  5.13842  1.42374  4.80034  …  -3.48668  -4.20696  -5.90665\n",
       " 2.42447  2.48575  2.11091  1.93559  2.32837      1.31256   2.79496   1.81608"
      ]
     },
     "execution_count": 6,
     "metadata": {},
     "output_type": "execute_result"
    }
   ],
   "source": [
    "X"
   ]
  },
  {
   "cell_type": "code",
   "execution_count": 7,
   "metadata": {
    "tags": []
   },
   "outputs": [
    {
     "data": {
      "text/plain": [
       "(Bool[1, 0, 0, 0], [5.107007423372803, 2.4244711420805967])"
      ]
     },
     "execution_count": 7,
     "metadata": {},
     "output_type": "execute_result"
    }
   ],
   "source": [
    "Y[:, 1], X[:, 1]"
   ]
  },
  {
   "cell_type": "markdown",
   "metadata": {
    "tags": []
   },
   "source": [
    "### Jacobians, non-batched"
   ]
  },
  {
   "cell_type": "code",
   "execution_count": 8,
   "metadata": {
    "tags": []
   },
   "outputs": [
    {
     "data": {
      "text/plain": [
       "2-element Vector{Float64}:\n",
       " 1.6132470587112007\n",
       " 2.4857489228284155"
      ]
     },
     "execution_count": 8,
     "metadata": {},
     "output_type": "execute_result"
    }
   ],
   "source": [
    "x_1 = X[:, 1]\n",
    "x_2 = X[:, 2]"
   ]
  },
  {
   "cell_type": "code",
   "execution_count": 9,
   "metadata": {
    "tags": []
   },
   "outputs": [
    {
     "data": {
      "text/plain": [
       "Grads(...)"
      ]
     },
     "execution_count": 9,
     "metadata": {},
     "output_type": "execute_result"
    }
   ],
   "source": [
    "jgrads_1 = jacobian(() -> nn(x_1), Flux.params(nn))"
   ]
  },
  {
   "cell_type": "code",
   "execution_count": 10,
   "metadata": {
    "tags": []
   },
   "outputs": [
    {
     "data": {
      "text/plain": [
       "IdDict{Any, Any} with 4 entries:\n",
       "  Float32[2.42897 -0.14302… => Float32[3.07355f-5 -0.000129027 … -6.12534f-5 -0…\n",
       "  Float32[1.74088 -4.06614… => Float32[0.999997 0.0 … 0.0 0.0; 0.0 0.999997 … 0…\n",
       "  Float32[1.48922, -1.0898… => Float32[1.0 0.0 0.0 0.0; 0.0 1.0 0.0 0.0; 0.0 0.…\n",
       "  Float32[0.514042, -0.832… => Float32[6.01831f-6 -2.52647f-5 -0.00236856; -1.1…"
      ]
     },
     "execution_count": 10,
     "metadata": {},
     "output_type": "execute_result"
    }
   ],
   "source": [
    "jgrads_1.grads"
   ]
  },
  {
   "cell_type": "code",
   "execution_count": 11,
   "metadata": {
    "tags": []
   },
   "outputs": [
    {
     "data": {
      "text/plain": [
       "25"
      ]
     },
     "execution_count": 11,
     "metadata": {},
     "output_type": "execute_result"
    }
   ],
   "source": [
    "sum(length, jgrads_1.params)"
   ]
  },
  {
   "cell_type": "code",
   "execution_count": 12,
   "metadata": {
    "tags": []
   },
   "outputs": [
    {
     "data": {
      "text/plain": [
       "Chain(\n",
       "  Dense(2 => 3, σ),                     \u001b[90m# 9 parameters\u001b[39m\n",
       "  Dense(3 => 4),                        \u001b[90m# 16 parameters\u001b[39m\n",
       ") \u001b[90m                  # Total: 4 arrays, \u001b[39m25 parameters, 356 bytes."
      ]
     },
     "execution_count": 12,
     "metadata": {},
     "output_type": "execute_result"
    }
   ],
   "source": [
    "nn"
   ]
  },
  {
   "cell_type": "code",
   "execution_count": 13,
   "metadata": {
    "tags": []
   },
   "outputs": [
    {
     "data": {
      "text/plain": [
       "100"
      ]
     },
     "execution_count": 13,
     "metadata": {},
     "output_type": "execute_result"
    }
   ],
   "source": [
    "sum(length, jgrads_1)"
   ]
  },
  {
   "cell_type": "code",
   "execution_count": 14,
   "metadata": {
    "tags": []
   },
   "outputs": [
    {
     "name": "stdout",
     "output_type": "stream",
     "text": [
      "size(jac) = (4, 6)\n",
      "size(jac) = (4, 3)\n",
      "size(jac) = (4, 12)\n",
      "size(jac) = (4, 4)\n"
     ]
    }
   ],
   "source": [
    "foreach(jac -> @show(size(jac)), jgrads_1)"
   ]
  },
  {
   "cell_type": "code",
   "execution_count": 15,
   "metadata": {
    "tags": []
   },
   "outputs": [
    {
     "data": {
      "text/plain": [
       "(:layers,)"
      ]
     },
     "execution_count": 15,
     "metadata": {},
     "output_type": "execute_result"
    }
   ],
   "source": [
    "fieldnames(Chain)"
   ]
  },
  {
   "cell_type": "code",
   "execution_count": 16,
   "metadata": {
    "tags": []
   },
   "outputs": [
    {
     "data": {
      "text/plain": [
       "Grads(...)"
      ]
     },
     "execution_count": 16,
     "metadata": {},
     "output_type": "execute_result"
    }
   ],
   "source": [
    "jgrads_2 = jacobian(() -> nn(x_2), Flux.params(nn))"
   ]
  },
  {
   "cell_type": "code",
   "execution_count": 17,
   "metadata": {
    "tags": []
   },
   "outputs": [
    {
     "data": {
      "text/plain": [
       "4×25 Matrix{Float32}:\n",
       "  3.07355f-5  -0.000129027  -0.0120963   …  0.0          1.0  0.0  0.0  0.0\n",
       " -5.75227f-5   2.45904f-5    0.00462227     0.0          0.0  1.0  0.0  0.0\n",
       "  1.82142f-5  -9.86657f-5    0.00402219     0.0          0.0  0.0  1.0  0.0\n",
       " -5.62777f-5   6.15856f-5   -0.00942432     0.000444655  0.0  0.0  0.0  1.0"
      ]
     },
     "execution_count": 17,
     "metadata": {},
     "output_type": "execute_result"
    }
   ],
   "source": [
    "J_2 = reduce(hcat, jgrads_2)\n",
    "J_1 = reduce(hcat, jgrads_1)"
   ]
  },
  {
   "cell_type": "code",
   "execution_count": 18,
   "metadata": {
    "tags": []
   },
   "outputs": [
    {
     "data": {
      "text/plain": [
       "Params([Float32[2.4289665 -0.14302832; -2.2368581 0.110216156; 0.08029391 -2.6969676], Float32[0.5140422, -0.83235115, -1.5891083], Float32[1.7408757 -4.066143 -5.329109; -3.258112 0.77494115 2.0363786; 1.0316626 -3.1093464 1.7720069; -3.1875958 1.940807 -4.1519613], Float32[1.489223, -1.0898395, -1.0472586, 0.6869783]])"
      ]
     },
     "execution_count": 18,
     "metadata": {},
     "output_type": "execute_result"
    }
   ],
   "source": [
    "th = jgrads_1.params"
   ]
  },
  {
   "cell_type": "code",
   "execution_count": 19,
   "metadata": {
    "tags": []
   },
   "outputs": [
    {
     "data": {
      "text/plain": [
       "4×6 Matrix{Float32}:\n",
       "  3.07355f-5  -0.000129027  -0.0120963   …  -6.12534f-5  -0.00574251\n",
       " -5.75227f-5   2.45904f-5    0.00462227      1.16739f-5   0.00219435\n",
       "  1.82142f-5  -9.86657f-5    0.00402219     -4.684f-5     0.00190947\n",
       " -5.62777f-5   6.15856f-5   -0.00942432      2.92368f-5  -0.00447405"
      ]
     },
     "execution_count": 19,
     "metadata": {},
     "output_type": "execute_result"
    }
   ],
   "source": [
    "jgrads_1[th[1]]"
   ]
  },
  {
   "cell_type": "code",
   "execution_count": 20,
   "metadata": {
    "tags": []
   },
   "outputs": [
    {
     "data": {
      "text/plain": [
       "4×12 Matrix{Float32}:\n",
       " 0.999997  0.0       0.0       0.0       …  0.0          0.0\n",
       " 0.0       0.999997  0.0       0.0          0.0          0.0\n",
       " 0.0       0.0       0.999997  0.0          0.000444655  0.0\n",
       " 0.0       0.0       0.0       0.999997     0.0          0.000444655"
      ]
     },
     "execution_count": 20,
     "metadata": {},
     "output_type": "execute_result"
    }
   ],
   "source": [
    "jgrads_1[th[length(th) - 1]]"
   ]
  },
  {
   "cell_type": "code",
   "execution_count": 21,
   "metadata": {
    "tags": []
   },
   "outputs": [
    {
     "data": {
      "text/plain": [
       "4×4 Matrix{Float32}:\n",
       " 1.0  0.0  0.0  0.0\n",
       " 0.0  1.0  0.0  0.0\n",
       " 0.0  0.0  1.0  0.0\n",
       " 0.0  0.0  0.0  1.0"
      ]
     },
     "execution_count": 21,
     "metadata": {},
     "output_type": "execute_result"
    }
   ],
   "source": [
    "jgrads_1[th[length(th)]]"
   ]
  },
  {
   "cell_type": "code",
   "execution_count": 22,
   "metadata": {
    "tags": []
   },
   "outputs": [
    {
     "data": {
      "text/plain": [
       "4×25 Matrix{Float32}:\n",
       "  3.07355f-5  -0.000129027  -0.0120963   …  0.0          1.0  0.0  0.0  0.0\n",
       " -5.75227f-5   2.45904f-5    0.00462227     0.0          0.0  1.0  0.0  0.0\n",
       "  1.82142f-5  -9.86657f-5    0.00402219     0.0          0.0  0.0  1.0  0.0\n",
       " -5.62777f-5   6.15856f-5   -0.00942432     0.000444655  0.0  0.0  0.0  1.0"
      ]
     },
     "execution_count": 22,
     "metadata": {},
     "output_type": "execute_result"
    }
   ],
   "source": [
    "J_1"
   ]
  },
  {
   "cell_type": "code",
   "execution_count": 23,
   "metadata": {
    "tags": []
   },
   "outputs": [
    {
     "data": {
      "text/plain": [
       "4×25 Matrix{Float32}:\n",
       "  0.0460502  -0.0985883  -0.00244748   …  0.0          1.0  0.0  0.0  0.0\n",
       " -0.0861846   0.0187893   0.000935241     0.0          0.0  1.0  0.0  0.0\n",
       "  0.0272899  -0.0753897   0.000813824     0.0          0.0  0.0  1.0  0.0\n",
       " -0.0843193   0.0470571  -0.00190686      0.000284766  0.0  0.0  0.0  1.0"
      ]
     },
     "execution_count": 23,
     "metadata": {},
     "output_type": "execute_result"
    }
   ],
   "source": [
    "J_2"
   ]
  },
  {
   "cell_type": "markdown",
   "metadata": {},
   "source": [
    "### Jacobians, batched"
   ]
  },
  {
   "cell_type": "code",
   "execution_count": 24,
   "metadata": {
    "tags": []
   },
   "outputs": [
    {
     "data": {
      "text/plain": [
       "50-element DataLoader(::Tuple{Matrix{Float64}, Matrix{Bool}}, batchsize=2)\n",
       "  with first element:\n",
       "  (2×2 Matrix{Float64}, 4×2 Matrix{Bool},)"
      ]
     },
     "execution_count": 24,
     "metadata": {},
     "output_type": "execute_result"
    }
   ],
   "source": [
    "dataloader_2 = DataLoader((X, Y), batchsize=2)"
   ]
  },
  {
   "cell_type": "code",
   "execution_count": 25,
   "metadata": {
    "tags": []
   },
   "outputs": [
    {
     "data": {
      "text/plain": [
       "([5.107007423372803 1.6132470587112007; 2.4244711420805967 2.4857489228284155], Bool[1 1; 0 0; 0 0; 0 0])"
      ]
     },
     "execution_count": 25,
     "metadata": {},
     "output_type": "execute_result"
    }
   ],
   "source": [
    "x_b, y_b = popfirst!(Iterators.Stateful(dataloader_2))"
   ]
  },
  {
   "cell_type": "code",
   "execution_count": 26,
   "metadata": {
    "tags": []
   },
   "outputs": [
    {
     "data": {
      "text/plain": [
       "2×2 Matrix{Float64}:\n",
       " 5.10701  1.61325\n",
       " 2.42447  2.48575"
      ]
     },
     "execution_count": 26,
     "metadata": {},
     "output_type": "execute_result"
    }
   ],
   "source": [
    "x_b"
   ]
  },
  {
   "cell_type": "code",
   "execution_count": 27,
   "metadata": {
    "tags": []
   },
   "outputs": [
    {
     "data": {
      "text/plain": [
       "2-element Vector{Float64}:\n",
       " 5.107007423372803\n",
       " 2.4244711420805967"
      ]
     },
     "execution_count": 27,
     "metadata": {},
     "output_type": "execute_result"
    }
   ],
   "source": [
    "x_1"
   ]
  },
  {
   "cell_type": "code",
   "execution_count": 28,
   "metadata": {
    "tags": []
   },
   "outputs": [
    {
     "data": {
      "text/plain": [
       "Grads(...)"
      ]
     },
     "execution_count": 28,
     "metadata": {},
     "output_type": "execute_result"
    }
   ],
   "source": [
    "jgrads = jgrads_b = jacobian(() -> nn(x_b), Flux.params(nn))"
   ]
  },
  {
   "cell_type": "code",
   "execution_count": 29,
   "metadata": {
    "tags": []
   },
   "outputs": [
    {
     "name": "stdout",
     "output_type": "stream",
     "text": [
      "size(jac) = (8, 6)\n",
      "size(jac) = (8, 3)\n",
      "size(jac) = (8, 12)\n",
      "size(jac) = (8, 4)\n"
     ]
    }
   ],
   "source": [
    "foreach(jac -> @show(size(jac)), jgrads_b)"
   ]
  },
  {
   "cell_type": "code",
   "execution_count": null,
   "metadata": {},
   "outputs": [],
   "source": []
  },
  {
   "cell_type": "code",
   "execution_count": 30,
   "metadata": {
    "tags": []
   },
   "outputs": [
    {
     "data": {
      "text/plain": [
       "8×25 Matrix{Float32}:\n",
       "  3.07355f-5  -0.000129027  -0.0120963    …  0.0          1.0  0.0  0.0  0.0\n",
       " -5.75227f-5   2.45904f-5    0.00462227      0.0          0.0  1.0  0.0  0.0\n",
       "  1.82142f-5  -9.86657f-5    0.00402219      0.0          0.0  0.0  1.0  0.0\n",
       " -5.62777f-5   6.15856f-5   -0.00942432      0.000444655  0.0  0.0  0.0  1.0\n",
       "  0.0460502   -0.0985883    -0.00244748      0.0          1.0  0.0  0.0  0.0\n",
       " -0.0861846    0.0187893     0.000935241  …  0.0          0.0  1.0  0.0  0.0\n",
       "  0.0272899   -0.0753897     0.000813824     0.0          0.0  0.0  1.0  0.0\n",
       " -0.0843193    0.0470571    -0.00190686      0.000284766  0.0  0.0  0.0  1.0"
      ]
     },
     "execution_count": 30,
     "metadata": {},
     "output_type": "execute_result"
    }
   ],
   "source": [
    "jtmp = reduce(hcat, jgrads)"
   ]
  },
  {
   "cell_type": "code",
   "execution_count": 38,
   "metadata": {
    "tags": []
   },
   "outputs": [
    {
     "data": {
      "text/plain": [
       "4×25 view(::Matrix{Float32}, 1:4, :) with eltype Float32:\n",
       "  3.07355f-5  -0.000129027  -0.0120963   …  0.0          1.0  0.0  0.0  0.0\n",
       " -5.75227f-5   2.45904f-5    0.00462227     0.0          0.0  1.0  0.0  0.0\n",
       "  1.82142f-5  -9.86657f-5    0.00402219     0.0          0.0  0.0  1.0  0.0\n",
       " -5.62777f-5   6.15856f-5   -0.00942432     0.000444655  0.0  0.0  0.0  1.0"
      ]
     },
     "metadata": {},
     "output_type": "display_data"
    },
    {
     "data": {
      "text/plain": [
       "4×25 view(::Matrix{Float32}, 5:8, :) with eltype Float32:\n",
       "  0.0460502  -0.0985883  -0.00244748   …  0.0          1.0  0.0  0.0  0.0\n",
       " -0.0861846   0.0187893   0.000935241     0.0          0.0  1.0  0.0  0.0\n",
       "  0.0272899  -0.0753897   0.000813824     0.0          0.0  0.0  1.0  0.0\n",
       " -0.0843193   0.0470571  -0.00190686      0.000284766  0.0  0.0  0.0  1.0"
      ]
     },
     "metadata": {},
     "output_type": "display_data"
    }
   ],
   "source": [
    "jtmp_1 = @view jtmp[1:4, :]\n",
    "jtmp_2 = @view jtmp[5:8, :]\n",
    "display(jtmp_1)\n",
    "display(jtmp_2)\n",
    "# use views to avoid allocations"
   ]
  },
  {
   "cell_type": "code",
   "execution_count": 32,
   "metadata": {
    "tags": []
   },
   "outputs": [
    {
     "data": {
      "text/plain": [
       "4×25×2 Array{Float32, 3}:\n",
       "[:, :, 1] =\n",
       "  3.07355f-5  -0.000129027  -0.0120963   …  0.0          1.0  0.0  0.0  0.0\n",
       " -5.75227f-5   2.45904f-5    0.00462227     0.0          0.0  1.0  0.0  0.0\n",
       "  1.82142f-5  -9.86657f-5    0.00402219     0.0          0.0  0.0  1.0  0.0\n",
       " -5.62777f-5   6.15856f-5   -0.00942432     0.000444655  0.0  0.0  0.0  1.0\n",
       "\n",
       "[:, :, 2] =\n",
       "  0.0460502  -0.0985883  -0.00244748   …  0.0          1.0  0.0  0.0  0.0\n",
       " -0.0861846   0.0187893   0.000935241     0.0          0.0  1.0  0.0  0.0\n",
       "  0.0272899  -0.0753897   0.000813824     0.0          0.0  0.0  1.0  0.0\n",
       " -0.0843193   0.0470571  -0.00190686      0.000284766  0.0  0.0  0.0  1.0"
      ]
     },
     "execution_count": 32,
     "metadata": {},
     "output_type": "execute_result"
    }
   ],
   "source": [
    "J = cat(jtmp_1, jtmp_2, dims=3)\n",
    "# this is expensive, but there is no way around it"
   ]
  },
  {
   "cell_type": "code",
   "execution_count": 68,
   "metadata": {
    "tags": []
   },
   "outputs": [
    {
     "data": {
      "text/plain": [
       "4×25×2 Array{Float32, 3}:\n",
       "[:, :, 1] =\n",
       "  3.07355f-5  -0.000129027  -0.0120963   …  0.0          1.0  0.0  0.0  0.0\n",
       " -5.75227f-5   2.45904f-5    0.00462227     0.0          0.0  1.0  0.0  0.0\n",
       "  1.82142f-5  -9.86657f-5    0.00402219     0.0          0.0  0.0  1.0  0.0\n",
       " -5.62777f-5   6.15856f-5   -0.00942432     0.000444655  0.0  0.0  0.0  1.0\n",
       "\n",
       "[:, :, 2] =\n",
       "  0.0460502  -0.0985883  -0.00244748   …  0.0          1.0  0.0  0.0  0.0\n",
       " -0.0861846   0.0187893   0.000935241     0.0          0.0  1.0  0.0  0.0\n",
       "  0.0272899  -0.0753897   0.000813824     0.0          0.0  0.0  1.0  0.0\n",
       " -0.0843193   0.0470571  -0.00190686      0.000284766  0.0  0.0  0.0  1.0"
      ]
     },
     "execution_count": 68,
     "metadata": {},
     "output_type": "execute_result"
    }
   ],
   "source": [
    "stack([jtmp_1, jtmp_2])"
   ]
  },
  {
   "cell_type": "code",
   "execution_count": 41,
   "metadata": {
    "tags": []
   },
   "outputs": [
    {
     "name": "stdout",
     "output_type": "stream",
     "text": [
      "i = 1\n",
      "j = 4\n",
      "i = 3\n",
      "j = 6\n"
     ]
    }
   ],
   "source": [
    "batch_size = 2\n",
    "outdim = 4\n",
    "for batch_index in 1:batch_size\n",
    "    i = (batch_index - 1) * batch_size + 1\n",
    "    j = i + outdim - 1\n",
    "    @show i\n",
    "    @show j\n",
    "end"
   ]
  },
  {
   "cell_type": "code",
   "execution_count": 45,
   "metadata": {
    "tags": []
   },
   "outputs": [
    {
     "name": "stdout",
     "output_type": "stream",
     "text": [
      "i = 1\n",
      "(i + outdim) - 1 = 4\n",
      "i = 5\n",
      "(i + outdim) - 1 = 8\n"
     ]
    }
   ],
   "source": [
    "for i in 1:outdim:(batch_size * outdim)\n",
    "    @show i\n",
    "    @show i + outdim - 1\n",
    "end"
   ]
  },
  {
   "cell_type": "code",
   "execution_count": 69,
   "metadata": {
    "tags": []
   },
   "outputs": [
    {
     "data": {
      "text/plain": [
       "2-element Vector{Matrix{Float32}}:\n",
       " [3.073554f-5 -0.00012902677 … 0.0 0.0; -5.7522677f-5 2.4590418f-5 … 0.0 0.0; 1.8214227f-5 -9.866572f-5 … 1.0 0.0; -5.62777f-5 6.158565f-5 … 0.0 1.0]\n",
       " [0.046050195 -0.09858835 … 0.0 0.0; -0.086184606 0.018789345 … 0.0 0.0; 0.027289864 -0.075389706 … 1.0 0.0; -0.084319286 0.047057115 … 0.0 1.0]"
      ]
     },
     "execution_count": 69,
     "metadata": {},
     "output_type": "execute_result"
    }
   ],
   "source": [
    "#jviews = [(batch_start, batch_start + outdim - 1) for batch_start in 1 : outdim : batch_size * outdim]\n",
    "jviews = [jtmp[batch_start : (batch_start + outdim - 1), :] for batch_start in 1 : outdim : batch_size * outdim]\n",
    "#display(jviews)\n",
    "# jviews = [@view J[batch_start:batch_start + outdim - 1, :] for batch_start in 1:outdim:batch_size]"
   ]
  },
  {
   "cell_type": "code",
   "execution_count": 70,
   "metadata": {
    "tags": []
   },
   "outputs": [
    {
     "data": {
      "text/plain": [
       "4×25 Matrix{Float32}:\n",
       "  3.07355f-5  -0.000129027  -0.0120963   …  0.0          1.0  0.0  0.0  0.0\n",
       " -5.75227f-5   2.45904f-5    0.00462227     0.0          0.0  1.0  0.0  0.0\n",
       "  1.82142f-5  -9.86657f-5    0.00402219     0.0          0.0  0.0  1.0  0.0\n",
       " -5.62777f-5   6.15856f-5   -0.00942432     0.000444655  0.0  0.0  0.0  1.0"
      ]
     },
     "metadata": {},
     "output_type": "display_data"
    },
    {
     "data": {
      "text/plain": [
       "4×25 Matrix{Float32}:\n",
       "  0.0460502  -0.0985883  -0.00244748   …  0.0          1.0  0.0  0.0  0.0\n",
       " -0.0861846   0.0187893   0.000935241     0.0          0.0  1.0  0.0  0.0\n",
       "  0.0272899  -0.0753897   0.000813824     0.0          0.0  0.0  1.0  0.0\n",
       " -0.0843193   0.0470571  -0.00190686      0.000284766  0.0  0.0  0.0  1.0"
      ]
     },
     "metadata": {},
     "output_type": "display_data"
    }
   ],
   "source": [
    "display(jviews[1])\n",
    "display(jviews[2])"
   ]
  },
  {
   "cell_type": "code",
   "execution_count": 56,
   "metadata": {
    "tags": []
   },
   "outputs": [
    {
     "data": {
      "text/plain": [
       "2×1×1 Array{Matrix{Float32}, 3}:\n",
       "[:, :, 1] =\n",
       " [3.073554f-5 -0.00012902677 … 0.0 0.0; -5.7522677f-5 2.4590418f-5 … 0.0 0.0; 1.8214227f-5 -9.866572f-5 … 1.0 0.0; -5.62777f-5 6.158565f-5 … 0.0 1.0]\n",
       " [0.046050195 -0.09858835 … 0.0 0.0; -0.086184606 0.018789345 … 0.0 0.0; 0.027289864 -0.075389706 … 1.0 0.0; -0.084319286 0.047057115 … 0.0 1.0]"
      ]
     },
     "execution_count": 56,
     "metadata": {},
     "output_type": "execute_result"
    }
   ],
   "source": [
    "cat(jviews, dims=3)"
   ]
  },
  {
   "cell_type": "code",
   "execution_count": 58,
   "metadata": {
    "tags": []
   },
   "outputs": [
    {
     "data": {
      "text/plain": [
       "4×25×2 Array{Float32, 3}:\n",
       "[:, :, 1] =\n",
       "  3.07355f-5  -0.000129027  -0.0120963   …  0.0          1.0  0.0  0.0  0.0\n",
       " -5.75227f-5   2.45904f-5    0.00462227     0.0          0.0  1.0  0.0  0.0\n",
       "  1.82142f-5  -9.86657f-5    0.00402219     0.0          0.0  0.0  1.0  0.0\n",
       " -5.62777f-5   6.15856f-5   -0.00942432     0.000444655  0.0  0.0  0.0  1.0\n",
       "\n",
       "[:, :, 2] =\n",
       "  0.0460502  -0.0985883  -0.00244748   …  0.0          1.0  0.0  0.0  0.0\n",
       " -0.0861846   0.0187893   0.000935241     0.0          0.0  1.0  0.0  0.0\n",
       "  0.0272899  -0.0753897   0.000813824     0.0          0.0  0.0  1.0  0.0\n",
       " -0.0843193   0.0470571  -0.00190686      0.000284766  0.0  0.0  0.0  1.0"
      ]
     },
     "execution_count": 58,
     "metadata": {},
     "output_type": "execute_result"
    }
   ],
   "source": [
    "Jt = reduce((a, b) -> cat(a, b, dims=3), jviews)"
   ]
  },
  {
   "cell_type": "code",
   "execution_count": 61,
   "metadata": {
    "tags": []
   },
   "outputs": [
    {
     "ename": "LoadError",
     "evalue": "MethodError: objects of type Vector{Any} are not callable\nUse square brackets [] for indexing an Array.",
     "output_type": "error",
     "traceback": [
      "MethodError: objects of type Vector{Any} are not callable\nUse square brackets [] for indexing an Array.",
      "",
      "Stacktrace:",
      " [1] _mapreduce",
      "   @ ./reduce.jl:435 [inlined]",
      " [2] _mapreduce_dim",
      "   @ ./reducedim.jl:365 [inlined]",
      " [3] #mapreduce#800",
      "   @ ./reducedim.jl:357 [inlined]",
      " [4] mapreduce",
      "   @ ./reducedim.jl:357 [inlined]",
      " [5] #reduce#802",
      "   @ ./reducedim.jl:406 [inlined]",
      " [6] reduce(op::Vector{Any}, A::Vector{Matrix{Float32}})",
      "   @ Base ./reducedim.jl:406",
      " [7] top-level scope",
      "   @ In[61]:1"
     ]
    }
   ],
   "source": [
    "reduce(cat(dims=3), jviews)"
   ]
  },
  {
   "cell_type": "code",
   "execution_count": 65,
   "metadata": {
    "tags": []
   },
   "outputs": [
    {
     "data": {
      "text/plain": [
       "4×25×2 Array{Float32, 3}:\n",
       "[:, :, 1] =\n",
       "  3.07355f-5  -0.000129027  -0.0120963   …  0.0          1.0  0.0  0.0  0.0\n",
       " -5.75227f-5   2.45904f-5    0.00462227     0.0          0.0  1.0  0.0  0.0\n",
       "  1.82142f-5  -9.86657f-5    0.00402219     0.0          0.0  0.0  1.0  0.0\n",
       " -5.62777f-5   6.15856f-5   -0.00942432     0.000444655  0.0  0.0  0.0  1.0\n",
       "\n",
       "[:, :, 2] =\n",
       "  0.0460502  -0.0985883  -0.00244748   …  0.0          1.0  0.0  0.0  0.0\n",
       " -0.0861846   0.0187893   0.000935241     0.0          0.0  1.0  0.0  0.0\n",
       "  0.0272899  -0.0753897   0.000813824     0.0          0.0  0.0  1.0  0.0\n",
       " -0.0843193   0.0470571  -0.00190686      0.000284766  0.0  0.0  0.0  1.0"
      ]
     },
     "execution_count": 65,
     "metadata": {},
     "output_type": "execute_result"
    }
   ],
   "source": [
    "Js = stack(jviews)"
   ]
  },
  {
   "cell_type": "code",
   "execution_count": 67,
   "metadata": {
    "tags": []
   },
   "outputs": [
    {
     "data": {
      "text/plain": [
       "true"
      ]
     },
     "execution_count": 67,
     "metadata": {},
     "output_type": "execute_result"
    }
   ],
   "source": [
    "Js == J"
   ]
  },
  {
   "cell_type": "code",
   "execution_count": 59,
   "metadata": {
    "tags": []
   },
   "outputs": [
    {
     "data": {
      "text/plain": [
       "true"
      ]
     },
     "execution_count": 59,
     "metadata": {},
     "output_type": "execute_result"
    }
   ],
   "source": [
    "J == Jt"
   ]
  },
  {
   "cell_type": "code",
   "execution_count": 34,
   "metadata": {
    "tags": []
   },
   "outputs": [],
   "source": [
    "@assert isapprox(J[:, :, 1], J_1, atol=.0005)\n",
    "@assert isapprox(J[:, :, 2], J_2, atol=.0005)"
   ]
  },
  {
   "cell_type": "code",
   "execution_count": null,
   "metadata": {},
   "outputs": [],
   "source": []
  },
  {
   "cell_type": "markdown",
   "metadata": {},
   "source": [
    "### Laplace Approximation (not yet supported)"
   ]
  },
  {
   "cell_type": "code",
   "execution_count": 35,
   "metadata": {},
   "outputs": [],
   "source": [
    "# la = Laplace(nn; likelihood=:classification)\n",
    "# fit!(la, data)\n",
    "# optimize_prior!(la; verbose=true, n_steps=1000)"
   ]
  },
  {
   "cell_type": "code",
   "execution_count": 36,
   "metadata": {},
   "outputs": [],
   "source": [
    "#| output: true\n",
    "\n",
    "# _labels = sort(unique(y))\n",
    "# plt_list = []\n",
    "# for target in _labels\n",
    "#     plt = plot(la, X, y; target=target, clim=(0,1))\n",
    "#     push!(plt_list, plt)\n",
    "# end\n",
    "# plot(plt_list...)"
   ]
  },
  {
   "cell_type": "code",
   "execution_count": 37,
   "metadata": {},
   "outputs": [],
   "source": [
    "#| output: true\n",
    "\n",
    "# _labels = sort(unique(y))\n",
    "# plt_list = []\n",
    "# for target in _labels\n",
    "#     plt = plot(la, X, y; target=target, clim=(0,1), link_approx=:plugin)\n",
    "#     push!(plt_list, plt)\n",
    "# end\n",
    "# plot(plt_list...)"
   ]
  }
 ],
 "metadata": {
  "kernelspec": {
   "display_name": "Julia 1.9.0",
   "language": "julia",
   "name": "julia-1.9"
  },
  "language_info": {
   "file_extension": ".jl",
   "mimetype": "application/julia",
   "name": "julia",
   "version": "1.9.0"
  }
 },
 "nbformat": 4,
 "nbformat_minor": 4
}
