{
 "cells": [
  {
   "attachments": {},
   "cell_type": "markdown",
   "id": "c2e41919-b5ab-4ad3-b75a-d59633975520",
   "metadata": {
    "tags": []
   },
   "source": [
    "## Batched Gradients"
   ]
  },
  {
   "cell_type": "code",
   "execution_count": 1,
   "id": "8d97b782-b965-4dcb-848c-2bbcb12d30ce",
   "metadata": {
    "tags": []
   },
   "outputs": [
    {
     "name": "stderr",
     "output_type": "stream",
     "text": [
      "\u001b[32m\u001b[1m  Activating\u001b[22m\u001b[39m new project at `c:\\Users\\Andrei\\LaplaceRedux.jl\\src`\n"
     ]
    }
   ],
   "source": [
    "using Pkg\n",
    "Pkg.activate(\".\")\n",
    "using LaplaceRedux\n",
    "using LaplaceRedux.Curvature\n",
    "using LaplaceRedux.Data\n",
    "using Flux\n",
    "using Flux.Optimise: update!, Adam\n",
    "using Plots\n",
    "using Statistics\n",
    "using MLUtils\n",
    "using Zygote\n",
    "using Printf\n",
    "using NNlib\n",
    "using BenchmarkTools\n",
    "using Tullio"
   ]
  },
  {
   "cell_type": "code",
   "execution_count": 2,
   "id": "300a3e06-70d7-4118-96a4-81091d044b20",
   "metadata": {
    "tags": []
   },
   "outputs": [
    {
     "data": {
      "text/plain": [
       "Dict{Symbol, Any} with 6 entries:\n",
       "  :loss_fun   => :mse\n",
       "  :y          => [0.0154858, 0.0650503, -0.466806, 1.06432, 0.80842, 0.369409, …\n",
       "  :likelihood => :regression\n",
       "  :X          => [6.89082 0.26044 … 6.6274 6.56329]\n",
       "  :outdim     => 1\n",
       "  :data       => zip([[6.89082], [0.26044], [3.53151], [1.10064], [7.44497], [6…"
      ]
     },
     "metadata": {},
     "output_type": "display_data"
    }
   ],
   "source": [
    "# Setup some dummy data, like in tests\n",
    "\n",
    "n = 128 * 128\n",
    "data_dict = Dict()\n",
    "bsize = 2\n",
    "\n",
    "x, y = LaplaceRedux.Data.toy_data_regression(n)\n",
    "xs = [[x] for x in x]\n",
    "X, Y = reduce(hcat, x), reduce(hcat, y)\n",
    "\n",
    "dataloader = DataLoader((X, Y), batchsize=bsize)\n",
    "data = zip(xs, y)\n",
    "data_dict[:regression] = Dict(\n",
    "    :data => data,\n",
    "    :X => X,\n",
    "    :y => y,\n",
    "    :outdim => 1,\n",
    "    :loss_fun => :mse,\n",
    "    :likelihood => :regression,\n",
    ")"
   ]
  },
  {
   "cell_type": "code",
   "execution_count": 3,
   "id": "e1b6f661-e7c6-41ad-a77f-40e00e4e2afa",
   "metadata": {
    "tags": []
   },
   "outputs": [
    {
     "data": {
      "text/plain": [
       "16384"
      ]
     },
     "metadata": {},
     "output_type": "display_data"
    }
   ],
   "source": [
    "n"
   ]
  },
  {
   "cell_type": "code",
   "execution_count": 4,
   "id": "560843c0-d17b-419a-b21b-d7875bfe8ab2",
   "metadata": {
    "tags": []
   },
   "outputs": [
    {
     "name": "stdout",
     "output_type": "stream",
     "text": [
      "Epoch 20"
     ]
    },
    {
     "name": "stderr",
     "output_type": "stream",
     "text": [
      "┌ Warning: Layer with Float32 parameters got Float64 input.\n",
      "│   The input will be converted, but any earlier layers may be very slow.\n",
      "│   layer = Dense(1 => 32, σ)\n",
      "│   summary(x) = 1-element Vector{Float64}\n",
      "└ @ Flux C:\\Users\\Andrei\\.julia\\packages\\Flux\\EHgZm\\src\\layers\\stateless.jl:60\n"
     ]
    },
    {
     "name": "stdout",
     "output_type": "stream",
     "text": [
      "\n",
      "avg_loss(data) = 0.09968076230125669"
     ]
    },
    {
     "name": "stdout",
     "output_type": "stream",
     "text": [
      "\n",
      "Epoch 40\n",
      "avg_loss(data) = 0.09893657241923182\n"
     ]
    },
    {
     "name": "stdout",
     "output_type": "stream",
     "text": [
      "Epoch 60\n",
      "avg_loss(data) = 0.09873215264137986\n"
     ]
    },
    {
     "name": "stdout",
     "output_type": "stream",
     "text": [
      "Epoch 80\n",
      "avg_loss(data) = 0.098570424924625"
     ]
    },
    {
     "name": "stdout",
     "output_type": "stream",
     "text": [
      "\n",
      "Epoch 100\n",
      "avg_loss(data) = 0.09843579397679747\n"
     ]
    },
    {
     "name": "stdout",
     "output_type": "stream",
     "text": [
      "Epoch 120\n",
      "avg_loss(data) = 0.09837301508460453\n"
     ]
    },
    {
     "name": "stdout",
     "output_type": "stream",
     "text": [
      "Epoch 140\n",
      "avg_loss(data) = 0.0984010883063332\n"
     ]
    },
    {
     "name": "stdout",
     "output_type": "stream",
     "text": [
      "Epoch 160\n",
      "avg_loss(data) = 0.09845822254666581\n"
     ]
    },
    {
     "name": "stdout",
     "output_type": "stream",
     "text": [
      "Epoch 180\n",
      "avg_loss(data) = 0.09849405293357148"
     ]
    },
    {
     "name": "stdout",
     "output_type": "stream",
     "text": [
      "\n",
      "Epoch 200\n",
      "avg_loss(data) = 0.09848949786115607\n"
     ]
    }
   ],
   "source": [
    "# Train a NN model\n",
    "\n",
    "val = data_dict[:regression]\n",
    "\n",
    "# Unpack:\n",
    "data = val[:data]\n",
    "X = val[:X]\n",
    "y = val[:y]\n",
    "outdim = val[:outdim]\n",
    "loss_fun = val[:loss_fun]\n",
    "likelihood = val[:likelihood]\n",
    "\n",
    "# Neural network:\n",
    "n_hidden = 32\n",
    "D = size(X, 1)\n",
    "nn = Chain(Dense(D, n_hidden, σ), Dense(n_hidden, outdim))\n",
    "λ = 0.01\n",
    "sqnorm(x) = sum(abs2, x)\n",
    "weight_regularization(λ=λ) = 1 / 2 * λ^2 * sum(sqnorm, Flux.params(nn))\n",
    "loss(x, y) = getfield(Flux.Losses, loss_fun)(nn(x), y) + weight_regularization()\n",
    "\n",
    "\n",
    "opt = Adam()\n",
    "epochs = 200\n",
    "avg_loss(data) = mean(map(d -> loss(d[1], d[2]), data))\n",
    "show_every = epochs / 10\n",
    "\n",
    "for epoch in 1:epochs\n",
    "    for d in data\n",
    "        gs = gradient(Flux.params(nn)) do\n",
    "            l = loss(d...)\n",
    "        end\n",
    "        update!(opt, Flux.params(nn), gs)\n",
    "    end\n",
    "    if epoch % show_every == 0\n",
    "        println(\"Epoch \" * string(epoch))\n",
    "        @show avg_loss(data)\n",
    "    end\n",
    "end\n"
   ]
  },
  {
   "cell_type": "code",
   "execution_count": 5,
   "id": "9445d613-4d96-496d-9789-3de845d9c745",
   "metadata": {
    "tags": []
   },
   "outputs": [
    {
     "data": {
      "text/plain": [
       "Chain(\n",
       "  Dense(1 => 32, σ),                    \u001b[90m# 64 parameters\u001b[39m\n",
       "  Dense(32 => 1),                       \u001b[90m# 33 parameters\u001b[39m\n",
       ") \u001b[90m                  # Total: 4 arrays, \u001b[39m97 parameters, 644 bytes."
      ]
     },
     "metadata": {},
     "output_type": "display_data"
    }
   ],
   "source": [
    "model = nn"
   ]
  },
  {
   "cell_type": "code",
   "execution_count": 6,
   "id": "972038e1-82cc-4451-9eb3-23ecc89a2445",
   "metadata": {
    "tags": []
   },
   "outputs": [
    {
     "data": {
      "text/plain": [
       "loss_fn (generic function with 1 method)"
      ]
     },
     "metadata": {},
     "output_type": "display_data"
    }
   ],
   "source": [
    "# Loss fun for regression\n",
    "loss_fn(x, ytrue; agg=sum) = Flux.Losses.mse(model(x), ytrue, agg=agg)"
   ]
  },
  {
   "cell_type": "code",
   "execution_count": 7,
   "id": "8b66904c-29ec-4b44-876e-0f4b891ad9da",
   "metadata": {
    "tags": []
   },
   "outputs": [
    {
     "data": {
      "text/plain": [
       "8192-element DataLoader(::Tuple{Matrix{Float64}, Matrix{Float64}}, batchsize=2)\n",
       "  with first element:\n",
       "  (1×2 Matrix{Float64}, 1×2 Matrix{Float64},)"
      ]
     },
     "metadata": {},
     "output_type": "display_data"
    }
   ],
   "source": [
    "dataloader"
   ]
  },
  {
   "cell_type": "code",
   "execution_count": 8,
   "id": "8cd567c6-e9f4-4bf3-b21c-ca78e9fd3750",
   "metadata": {
    "tags": []
   },
   "outputs": [
    {
     "data": {
      "text/plain": [
       "0.01548584004498288"
      ]
     },
     "metadata": {},
     "output_type": "display_data"
    }
   ],
   "source": [
    "# Take one datapoint of the dataset\n",
    "x_1 = xs[1]\n",
    "y_1 = y[1]"
   ]
  },
  {
   "cell_type": "code",
   "execution_count": 9,
   "id": "afb27e9b-e999-4722-b553-ab6f97dfede9",
   "metadata": {
    "tags": []
   },
   "outputs": [
    {
     "data": {
      "text/plain": [
       "Grads(...)"
      ]
     },
     "metadata": {},
     "output_type": "display_data"
    }
   ],
   "source": [
    "grads_1 = gradient(() -> loss_fn(x_1, y_1), Flux.params(model))\n",
    "grads = grads_1"
   ]
  },
  {
   "cell_type": "code",
   "execution_count": 10,
   "id": "1c9a8364-2ec4-4e90-837a-ec1c5df3b4d1",
   "metadata": {
    "tags": []
   },
   "outputs": [
    {
     "data": {
      "text/plain": [
       "IdDict{Any, Any} with 6 entries:\n",
       "  Float32[-1.86301; 0.5380… => Float32[-8.32705f-5; 1.67715; … ; -0.880106; -0.…\n",
       "  Float32[1.07408, -2.6962… => Float32[-1.20843f-5, 0.243389, -0.0682107, 0.219…\n",
       "  Float32[-1.69082 1.35515… => Float32[7.14703f-6 0.67339 … 0.144992 0.110392]\n",
       "  :(Main.x_1)               => Float32[0.709215]\n",
       "  Float32[-0.437689]        => Float32[0.91832]\n",
       "  :(Main.y_1)               => -0.91832"
      ]
     },
     "metadata": {},
     "output_type": "display_data"
    }
   ],
   "source": [
    "grads.grads"
   ]
  },
  {
   "cell_type": "code",
   "execution_count": 11,
   "id": "e0ac8865-6825-40e0-8cd4-a4f7303bd0b6",
   "metadata": {
    "tags": []
   },
   "outputs": [
    {
     "data": {
      "text/plain": [
       "Params([Float32[-1.8630121; 0.53805554; … ; -0.40431502; -0.39164895;;], Float32[1.0740811, -2.696294, 0.56854427, -2.529265, 0.028561326, -1.7896606, -1.3546953, -1.3722371, -1.0168822, -2.1914685  …  -0.8684253, -1.4725244, -2.3014822, -0.34306574, -1.7645233, 0.17289999, 5.812564, -0.34634212, 1.1120374, 0.7083484], Float32[-1.6908232 1.355146 … -1.0460447 -0.84596074], Float32[-0.4376891]])"
      ]
     },
     "metadata": {},
     "output_type": "display_data"
    }
   ],
   "source": [
    "grads.params"
   ]
  },
  {
   "cell_type": "code",
   "execution_count": 12,
   "id": "4715e4dc-7635-4fd6-a177-b79e2ce63d07",
   "metadata": {
    "tags": []
   },
   "outputs": [
    {
     "data": {
      "text/plain": [
       "4"
      ]
     },
     "metadata": {},
     "output_type": "display_data"
    }
   ],
   "source": [
    "length(grads.params)"
   ]
  },
  {
   "cell_type": "code",
   "execution_count": 13,
   "id": "c1c7ca4a-3886-42bc-8e22-7526ec1286cd",
   "metadata": {
    "tags": []
   },
   "outputs": [
    {
     "data": {
      "text/plain": [
       "97"
      ]
     },
     "metadata": {},
     "output_type": "display_data"
    }
   ],
   "source": [
    "sum(length, grads.params) # 97 params total"
   ]
  },
  {
   "cell_type": "code",
   "execution_count": 14,
   "id": "04a05823-2afb-4a63-91f8-efac5d61d5c5",
   "metadata": {
    "tags": []
   },
   "outputs": [
    {
     "data": {
      "text/plain": [
       "(:order, :params)"
      ]
     },
     "metadata": {},
     "output_type": "display_data"
    }
   ],
   "source": [
    "fieldnames(Params)"
   ]
  },
  {
   "cell_type": "code",
   "execution_count": 15,
   "id": "16470cba-7405-4360-aa3c-a288ef903bac",
   "metadata": {
    "tags": []
   },
   "outputs": [
    {
     "data": {
      "text/plain": [
       "Zygote.Buffer{Any, Vector{Any}}(Any[Float32[-1.8630121; 0.53805554; … ; -0.40431502; -0.39164895;;], Float32[1.0740811, -2.696294, 0.56854427, -2.529265, 0.028561326, -1.7896606, -1.3546953, -1.3722371, -1.0168822, -2.1914685  …  -0.8684253, -1.4725244, -2.3014822, -0.34306574, -1.7645233, 0.17289999, 5.812564, -0.34634212, 1.1120374, 0.7083484], Float32[-1.6908232 1.355146 … -1.0460447 -0.84596074], Float32[-0.4376891]], false)"
      ]
     },
     "metadata": {},
     "output_type": "display_data"
    }
   ],
   "source": [
    "grads.params.order"
   ]
  },
  {
   "cell_type": "code",
   "execution_count": 16,
   "id": "e9b8e10e-78e9-4ecb-9712-b4107f62c22b",
   "metadata": {
    "tags": []
   },
   "outputs": [
    {
     "data": {
      "text/plain": [
       "32×1 Matrix{Float32}:\n",
       " -1.8630121\n",
       "  0.53805554\n",
       " -0.39032742\n",
       "  0.5150949\n",
       "  0.5423486\n",
       "  0.41597626\n",
       "  0.35198945\n",
       "  0.35496658\n",
       "  0.26668763\n",
       "  0.46952686\n",
       "  ⋮\n",
       "  0.3709763\n",
       "  1.1276038\n",
       " -0.45483503\n",
       "  0.4125146\n",
       " -0.39623737\n",
       " -1.611097\n",
       " -0.4577712\n",
       " -0.40431502\n",
       " -0.39164895"
      ]
     },
     "metadata": {},
     "output_type": "display_data"
    }
   ],
   "source": [
    "th_1 = grads.params[1]"
   ]
  },
  {
   "cell_type": "code",
   "execution_count": 17,
   "id": "32d26965-a800-479e-beb0-19d27b5c6fee",
   "metadata": {
    "tags": []
   },
   "outputs": [
    {
     "data": {
      "text/plain": [
       "32×1 Matrix{Float32}:\n",
       " -8.3270534f-5\n",
       "  1.6771513\n",
       " -0.4700276\n",
       "  1.513821\n",
       " -0.02774583\n",
       "  0.85494155\n",
       "  0.5385639\n",
       "  0.55021006\n",
       "  0.32691005\n",
       "  1.1954195\n",
       "  ⋮\n",
       "  0.6180835\n",
       " -0.040892553\n",
       " -0.03335479\n",
       "  0.8333848\n",
       " -0.24627012\n",
       "  0.12060051\n",
       " -0.030416934\n",
       " -0.8801061\n",
       " -0.5661583"
      ]
     },
     "metadata": {},
     "output_type": "display_data"
    }
   ],
   "source": [
    "# This is the gradient of the loss function value at (x_1, y_1) for th_1\n",
    "# Size 32\n",
    "grads.grads[th_1]"
   ]
  },
  {
   "cell_type": "code",
   "execution_count": 18,
   "id": "610a1885-2337-45d1-988d-a1d5f97f756c",
   "metadata": {
    "tags": []
   },
   "outputs": [
    {
     "data": {
      "text/plain": [
       "32×1 Matrix{Float32}:\n",
       " -0.038889773\n",
       "  0.009075242\n",
       " -0.0184421\n",
       "  0.009423961\n",
       " -0.0049317447\n",
       "  0.009449902\n",
       "  0.007710292\n",
       "  0.007814531\n",
       "  0.0049118726\n",
       "  0.009786163\n",
       "  ⋮\n",
       "  0.008342939\n",
       " -0.016162949\n",
       " -0.004309263\n",
       "  0.009371281\n",
       " -0.0145887155\n",
       "  0.0017233177\n",
       " -0.004013892\n",
       " -0.020545674\n",
       " -0.01935912"
      ]
     },
     "metadata": {},
     "output_type": "display_data"
    }
   ],
   "source": [
    "# The same for x_2, y_2\n",
    "x_2 = xs[2]\n",
    "y_2 = y[2]\n",
    "grads_2 = gradient(() -> loss_fn(x_2, y_2), Flux.params(model))\n",
    "grads_2.grads[th_1]"
   ]
  },
  {
   "cell_type": "code",
   "execution_count": 19,
   "id": "50a6efc5-addf-4463-bab3-077ef2056d35",
   "metadata": {
    "tags": []
   },
   "outputs": [
    {
     "data": {
      "text/plain": [
       "([6.890818797403573 0.26043975403126574], [0.01548584004498288 0.0650502542475323])"
      ]
     },
     "metadata": {},
     "output_type": "display_data"
    }
   ],
   "source": [
    "# Now take one batch combining the two\n",
    "x_b, y_b = popfirst!(Iterators.Stateful(dataloader))"
   ]
  },
  {
   "cell_type": "code",
   "execution_count": 20,
   "id": "119b42bf-cca6-4476-8ae9-d611118cb6d3",
   "metadata": {
    "tags": []
   },
   "outputs": [
    {
     "name": "stdout",
     "output_type": "stream",
     "text": [
      "x_1 = [6.890818797403573]\n",
      "x_2 = [0.26043975403126574]\n",
      "y_1 = 0.01548584004498288\n",
      "y_2 = 0.0650502542475323\n"
     ]
    },
    {
     "data": {
      "text/plain": [
       "0.0650502542475323"
      ]
     },
     "metadata": {},
     "output_type": "display_data"
    }
   ],
   "source": [
    "@show x_1\n",
    "@show x_2\n",
    "@show y_1\n",
    "@show y_2"
   ]
  },
  {
   "cell_type": "code",
   "execution_count": 21,
   "id": "042c770d-f73c-4fee-aa17-f6c965cb076c",
   "metadata": {
    "tags": []
   },
   "outputs": [
    {
     "data": {
      "text/plain": [
       "Grads(...)"
      ]
     },
     "metadata": {},
     "output_type": "display_data"
    }
   ],
   "source": [
    "# Take the *Jacobian* to obtain the gradients for the batch parts\n",
    "grads_b = jacobian(() -> loss_fn(x_b, y_b, agg=identity), Flux.params(model))"
   ]
  },
  {
   "cell_type": "code",
   "execution_count": 22,
   "id": "c2079c31-056e-48e3-a7f9-02c3744a7198",
   "metadata": {
    "tags": []
   },
   "outputs": [
    {
     "data": {
      "text/plain": [
       "2×32 Matrix{Float64}:\n",
       " -8.32704e-5  1.67715     -0.470027   …  -0.0304169  -0.880105   -0.566157\n",
       " -0.0388899   0.00907526  -0.0184421     -0.0040139  -0.0205457  -0.0193592"
      ]
     },
     "metadata": {},
     "output_type": "display_data"
    }
   ],
   "source": [
    "grads_b.grads[th_1]"
   ]
  },
  {
   "cell_type": "code",
   "execution_count": 23,
   "id": "bb88cb06-2672-40bf-afd6-45a8284d2788",
   "metadata": {
    "tags": []
   },
   "outputs": [
    {
     "data": {
      "text/plain": [
       "Params([Float32[-1.8630121; 0.53805554; … ; -0.40431502; -0.39164895;;], Float32[1.0740811, -2.696294, 0.56854427, -2.529265, 0.028561326, -1.7896606, -1.3546953, -1.3722371, -1.0168822, -2.1914685  …  -0.8684253, -1.4725244, -2.3014822, -0.34306574, -1.7645233, 0.17289999, 5.812564, -0.34634212, 1.1120374, 0.7083484], Float32[-1.6908232 1.355146 … -1.0460447 -0.84596074], Float32[-0.4376891]])"
      ]
     },
     "metadata": {},
     "output_type": "display_data"
    }
   ],
   "source": [
    "th = grads_b.params"
   ]
  },
  {
   "cell_type": "code",
   "execution_count": 24,
   "id": "0e8d5167-5189-4ed0-826d-4c9694364b13",
   "metadata": {
    "tags": []
   },
   "outputs": [
    {
     "data": {
      "text/plain": [
       "true"
      ]
     },
     "metadata": {},
     "output_type": "display_data"
    }
   ],
   "source": [
    "grads_b.params == grads_1.params == grads_2.params"
   ]
  },
  {
   "cell_type": "code",
   "execution_count": 25,
   "id": "63830c97-e3b7-4f92-ac7a-32d50ca7c46d",
   "metadata": {
    "tags": []
   },
   "outputs": [
    {
     "data": {
      "text/plain": [
       "2×32 Matrix{Float64}:\n",
       " -8.32704e-5  1.67715     -0.470027   …  -0.0304169  -0.880105   -0.566157\n",
       " -0.0388899   0.00907526  -0.0184421     -0.0040139  -0.0205457  -0.0193592"
      ]
     },
     "metadata": {},
     "output_type": "display_data"
    }
   ],
   "source": [
    "grads_b[th_1]"
   ]
  },
  {
   "cell_type": "code",
   "execution_count": 26,
   "id": "25338ccd-8236-42b5-bac0-b493f004599c",
   "metadata": {},
   "outputs": [
    {
     "data": {
      "text/plain": [
       "Grads(...)"
      ]
     },
     "metadata": {},
     "output_type": "display_data"
    }
   ],
   "source": [
    "grads"
   ]
  },
  {
   "cell_type": "code",
   "execution_count": 27,
   "id": "13efa991-22b2-44d8-96d5-284d3e051246",
   "metadata": {
    "tags": []
   },
   "outputs": [
    {
     "data": {
      "text/plain": [
       "1×32 adjoint(::Matrix{Float32}) with eltype Float32:\n",
       " -8.32705f-5  1.67715  -0.470028  …  -0.0304169  -0.880106  -0.566158"
      ]
     },
     "metadata": {},
     "output_type": "display_data"
    }
   ],
   "source": [
    "grads_1[th_1]'"
   ]
  },
  {
   "cell_type": "code",
   "execution_count": 28,
   "id": "4c5e26df-9a10-4d30-94b5-fc7c824a1139",
   "metadata": {
    "tags": []
   },
   "outputs": [
    {
     "data": {
      "text/plain": [
       "1×32 adjoint(::Matrix{Float32}) with eltype Float32:\n",
       " -0.0388898  0.00907524  -0.0184421  …  -0.00401389  -0.0205457  -0.0193591"
      ]
     },
     "metadata": {},
     "output_type": "display_data"
    }
   ],
   "source": [
    "grads_2[th_1]'"
   ]
  },
  {
   "cell_type": "code",
   "execution_count": 29,
   "id": "38365237-ad93-40d0-b987-634ed14b2241",
   "metadata": {
    "tags": []
   },
   "outputs": [],
   "source": [
    "# grads_1 .* transpose.(grads_1)"
   ]
  },
  {
   "cell_type": "code",
   "execution_count": 30,
   "id": "b95bf90d-89a5-4816-936f-aa933c64fab7",
   "metadata": {
    "tags": []
   },
   "outputs": [
    {
     "data": {
      "text/plain": [
       "97"
      ]
     },
     "metadata": {},
     "output_type": "display_data"
    }
   ],
   "source": [
    "sum(length, grads_1)"
   ]
  },
  {
   "cell_type": "code",
   "execution_count": 31,
   "id": "ad2a9c99-c6c4-42e9-80f4-838037ab33ed",
   "metadata": {
    "tags": []
   },
   "outputs": [
    {
     "data": {
      "text/plain": [
       "97"
      ]
     },
     "metadata": {},
     "output_type": "display_data"
    }
   ],
   "source": [
    "sum(length, grads_1.params)"
   ]
  },
  {
   "cell_type": "code",
   "execution_count": 32,
   "id": "a37f6d67-4514-40b4-b14a-017f0451d9fd",
   "metadata": {
    "tags": []
   },
   "outputs": [
    {
     "data": {
      "text/plain": [
       "194"
      ]
     },
     "metadata": {},
     "output_type": "display_data"
    }
   ],
   "source": [
    "sum(length, grads_b)"
   ]
  },
  {
   "cell_type": "code",
   "execution_count": 33,
   "id": "dd390839-b4e3-4d5e-829b-e8e18097dc3b",
   "metadata": {
    "tags": []
   },
   "outputs": [
    {
     "data": {
      "text/plain": [
       "97×2 Matrix{Float64}:\n",
       " -8.32704e-5  -0.0388899\n",
       "  1.67715      0.00907526\n",
       " -0.470027    -0.0184421\n",
       "  1.51382      0.00942398\n",
       " -0.0277458   -0.00493176\n",
       "  0.85494      0.00944993\n",
       "  0.538563     0.00771031\n",
       "  0.550209     0.00781455\n",
       "  0.326909     0.00491189\n",
       "  1.19542      0.00978619\n",
       "  ⋮           \n",
       "  0.914462     0.0455521\n",
       "  0.0275188    0.148765\n",
       "  0.685179     0.0616235\n",
       "  0.0660494    0.199091\n",
       "  0.00461032   0.383036\n",
       "  0.0268981    0.148396\n",
       "  0.144992     0.281804\n",
       "  0.110392     0.248993\n",
       "  0.918319     0.384778"
      ]
     },
     "metadata": {},
     "output_type": "display_data"
    }
   ],
   "source": [
    "# We would like to obtain g as a 97x2 matrix\n",
    "# containing as the first column the gradient for loss_fn(x_1, y_1) wrt theta (of size 97)\n",
    "# and as the second column, one for loss_fn(x_2, y_2)\n",
    "g = permutedims(reduce(hcat, grads_b))"
   ]
  },
  {
   "cell_type": "code",
   "execution_count": 34,
   "id": "c283e348-c5ec-4422-9789-89b3281408b6",
   "metadata": {
    "tags": []
   },
   "outputs": [
    {
     "data": {
      "text/plain": [
       "gradient_helper (generic function with 1 method)"
      ]
     },
     "metadata": {},
     "output_type": "display_data"
    }
   ],
   "source": [
    "function gradient_helper(model, x, y)\n",
    "    grads = jacobian(() -> loss_fn(x, y, agg=identity), Flux.params(model))\n",
    "    g = permutedims(reduce(hcat, grads))\n",
    "end"
   ]
  },
  {
   "cell_type": "code",
   "execution_count": 35,
   "id": "e4d9456b-0a63-4fca-ac62-432b597894b0",
   "metadata": {
    "tags": []
   },
   "outputs": [
    {
     "data": {
      "text/plain": [
       "2×32 Matrix{Float64}:\n",
       " -8.32704e-5  1.67715     -0.470027   …  -0.0304169  -0.880105   -0.566157\n",
       " -0.0388899   0.00907526  -0.0184421     -0.0040139  -0.0205457  -0.0193592"
      ]
     },
     "metadata": {},
     "output_type": "display_data"
    }
   ],
   "source": [
    "# sanity check\n",
    "grads_b[th[1]]"
   ]
  },
  {
   "cell_type": "code",
   "execution_count": 36,
   "id": "9344fd68-0453-4ad0-b2e7-944f8a73ec45",
   "metadata": {
    "tags": []
   },
   "outputs": [
    {
     "data": {
      "text/plain": [
       "2×32 Matrix{Float64}:\n",
       " 7.14702e-6  0.673388   0.0983151  …  0.0268981  0.144992  0.110392\n",
       " 0.247454    0.0277092  0.236503      0.148396   0.281804  0.248993"
      ]
     },
     "metadata": {},
     "output_type": "display_data"
    }
   ],
   "source": [
    "grads_b[th[length(th)-1]]"
   ]
  },
  {
   "cell_type": "code",
   "execution_count": 37,
   "id": "8c9a1f72-694a-45df-ac59-d2fbdacb7d33",
   "metadata": {
    "tags": []
   },
   "outputs": [
    {
     "data": {
      "text/plain": [
       "2×1 Matrix{Float64}:\n",
       " 0.9183186292648315\n",
       " 0.3847779333591461"
      ]
     },
     "metadata": {},
     "output_type": "display_data"
    }
   ],
   "source": [
    "grads_b[th[length(th)]] # sanity: checked"
   ]
  },
  {
   "cell_type": "code",
   "execution_count": 38,
   "id": "10462059-0f7a-4282-8351-4b1a04f4a84b",
   "metadata": {
    "tags": []
   },
   "outputs": [
    {
     "data": {
      "text/plain": [
       "97×97 Matrix{Float64}:\n",
       "  0.00151243   -0.000492593  …  -0.0109714  -0.00969248  -0.0150404\n",
       " -0.000492593   2.81291          0.24573     0.187403     1.54365\n",
       "  0.000756352  -0.788472        -0.0733471  -0.0564792   -0.43873\n",
       " -0.000492554   2.53898          0.222147    0.16946      1.39379\n",
       "  0.000194106  -0.0465786       -0.0054127  -0.00429088  -0.0273771\n",
       " -0.000438698   1.43395      …   0.126622    0.0967315    0.788744\n",
       " -0.000344699   0.90332          0.0802601   0.0613729    0.497539\n",
       " -0.000349723   0.922853         0.081978    0.0626845    0.508274\n",
       " -0.000218244   0.54832          0.0487834   0.0373112    0.302097\n",
       " -0.000480126   2.00498          0.176084    0.134401     1.10154\n",
       "  ⋮                          ⋱               ⋮           \n",
       " -0.00184766    1.5341           0.145426    0.112291     0.857295\n",
       " -0.00578773    0.0475031        0.0459125   0.0400791    0.0825123\n",
       " -0.00245358    1.14971      …   0.116711    0.090982     0.652924\n",
       " -0.00774814    0.112581         0.0656814   0.0568636    0.13726\n",
       " -0.0148966     0.0112083        0.10861     0.095882     0.151617\n",
       " -0.00577334    0.0464588        0.0457186   0.0399189    0.0818006\n",
       " -0.0109714     0.24573          0.100436    0.0861731    0.241581\n",
       " -0.00969248    0.187403     …   0.0861731   0.0741837    0.197182\n",
       " -0.0150404     1.54365          0.241581    0.197182     0.991363"
      ]
     },
     "metadata": {},
     "output_type": "display_data"
    }
   ],
   "source": [
    "vg = g * transpose(g)"
   ]
  },
  {
   "cell_type": "code",
   "execution_count": 39,
   "id": "c5e24a92-c8f6-4db0-8088-bf788470b774",
   "metadata": {
    "tags": []
   },
   "outputs": [
    {
     "name": "stdout",
     "output_type": "stream",
     "text": [
      "size(x) = (32, 1)\n",
      "size(x) = (32,)\n",
      "size(x) = (1, 32)\n",
      "size(x) = (1,)\n"
     ]
    }
   ],
   "source": [
    "foreach(x -> @show(size(x)), grads)"
   ]
  },
  {
   "cell_type": "code",
   "execution_count": 40,
   "id": "72d5f879-b630-48ac-b295-985f230a0660",
   "metadata": {
    "tags": []
   },
   "outputs": [
    {
     "data": {
      "text/plain": [
       "97×97 Matrix{Float32}:\n",
       "  0.00151241   -0.000352934   0.000717209  …  -0.00968324  -0.0149639\n",
       " -0.000352934   8.236f-5     -0.000167367      0.00225966   0.00349194\n",
       "  0.000717209  -0.000167367   0.000340111     -0.00459193  -0.0070961\n",
       " -0.000366496   8.55247f-5   -0.000173798      0.00234649   0.00362612\n",
       "  0.000191794  -4.47568f-5    9.09517f-5      -0.00122796  -0.00189762\n",
       " -0.000367505   8.57601f-5   -0.000174276  …   0.00235295   0.0036361\n",
       " -0.000299851   6.99728f-5   -0.000142194      0.0019198    0.00296674\n",
       " -0.000303905   7.09188f-5   -0.000144116      0.00194576   0.00300685\n",
       " -0.000191022   4.45764f-5   -9.05852f-5       0.00122302   0.00188998\n",
       " -0.000380582   8.88118f-5   -0.000180477      0.00243668   0.00376549\n",
       "  ⋮                                        ⋱   ⋮           \n",
       " -0.00177151    0.000413395  -0.000840074      0.0113421    0.0175274\n",
       " -0.00578541    0.00135007   -0.00274353       0.0370411    0.0572411\n",
       " -0.00239652    0.000559246  -0.00113646   …   0.0153437    0.0237112\n",
       " -0.0077426     0.0018068    -0.00367165       0.049572     0.0766056\n",
       " -0.0148961     0.00347613   -0.00706397       0.0953726    0.147383\n",
       " -0.00577107    0.00134673   -0.00273673       0.0369493    0.0570992\n",
       " -0.0109593     0.00255743   -0.00519705       0.0701668    0.108431\n",
       " -0.00968324    0.00225966   -0.00459193   …   0.061997     0.0958064\n",
       " -0.0149639     0.00349194   -0.0070961        0.0958064    0.148053"
      ]
     },
     "metadata": {},
     "output_type": "display_data"
    }
   ],
   "source": [
    "g_1 = reduce(vcat, [vec(grads_1[th]) for th in grads_1.params])\n",
    "g_2 = reduce(vcat, [vec(grads_2[th]) for th in grads_2.params])\n",
    "# let v(g) denote gg'\n",
    "vg_1 = g_1 * transpose(g_1)\n",
    "vg_2 = g_2 * transpose(g_2)"
   ]
  },
  {
   "cell_type": "code",
   "execution_count": 41,
   "id": "c5b0a0a9-7f62-47e1-b33f-f4b5cbe3a17f",
   "metadata": {
    "tags": []
   },
   "outputs": [
    {
     "data": {
      "text/plain": [
       "true"
      ]
     },
     "metadata": {},
     "output_type": "display_data"
    }
   ],
   "source": [
    "isapprox(vg_1 + vg_2, vg, atol=.0005) \n",
    "# This is not it.\n",
    "# We want a 97x97x2 matrix"
   ]
  },
  {
   "cell_type": "code",
   "execution_count": 42,
   "id": "3c62c7fd-7d60-4686-a358-93b0f02d2475",
   "metadata": {
    "tags": []
   },
   "outputs": [
    {
     "data": {
      "text/plain": [
       "97×1×2 Array{Float64, 3}:\n",
       "[:, :, 1] =\n",
       " -8.327038813149557e-5\n",
       "  1.677148461341858\n",
       " -0.47002679109573364\n",
       "  1.513818383216858\n",
       " -0.02774578519165516\n",
       "  0.8549401164054871\n",
       "  0.5385630130767822\n",
       "  0.5502091646194458\n",
       "  0.32690948247909546\n",
       "  1.1954176425933838\n",
       "  ⋮\n",
       "  0.9144623279571533\n",
       "  0.027518773451447487\n",
       "  0.6851785778999329\n",
       "  0.06604937463998795\n",
       "  0.004610323812812567\n",
       "  0.026898102834820747\n",
       "  0.14499185979366302\n",
       "  0.1103919968008995\n",
       "  0.9183186292648315\n",
       "\n",
       "[:, :, 2] =\n",
       " -0.038889866322278976\n",
       "  0.009075264446437359\n",
       " -0.018442144617438316\n",
       "  0.009423984214663506\n",
       " -0.0049317567609250546\n",
       "  0.00944992620497942\n",
       "  0.007710311561822891\n",
       "  0.007814550772309303\n",
       "  0.004911885131150484\n",
       "  0.009786187671124935\n",
       "  ⋮\n",
       "  0.045552100986242294\n",
       "  0.14876462519168854\n",
       "  0.06162345036864281\n",
       "  0.19909138977527618\n",
       "  0.38303571939468384\n",
       "  0.1483960598707199\n",
       "  0.2818041443824768\n",
       "  0.24899256229400635\n",
       "  0.3847779333591461"
      ]
     },
     "metadata": {},
     "output_type": "display_data"
    }
   ],
   "source": [
    "# Reshape g as 97x1x2 since MLUtils expects 3-d arrays\n",
    "gm = reshape(g, size(g, 1), 1, size(g, 2))"
   ]
  },
  {
   "cell_type": "code",
   "execution_count": 43,
   "id": "d75d0ca5-d1d2-4362-95a6-4e549b78707a",
   "metadata": {
    "tags": []
   },
   "outputs": [
    {
     "data": {
      "text/plain": [
       "97×97×2 Array{Float64, 3}:\n",
       "[:, :, 1] =\n",
       "  6.93396e-9   -0.000139657   3.91393e-5  …  -9.19238e-6   -7.64687e-5\n",
       " -0.000139657   2.81283      -0.788305        0.185144      1.54016\n",
       "  3.91393e-5   -0.788305      0.220925       -0.0518872    -0.431634\n",
       " -0.000126056   2.5389       -0.711535        0.167113      1.39017\n",
       "  2.3104e-6    -0.0465338     0.0130413      -0.00306291   -0.0254795\n",
       " -7.11912e-5    1.43386      -0.401845    …   0.0943785     0.785107\n",
       " -4.48464e-5    0.90325      -0.253139        0.059453      0.494572\n",
       " -4.58161e-5    0.922782     -0.258613        0.0607387     0.505267\n",
       " -2.72219e-5    0.548276     -0.153656        0.0360882     0.300207\n",
       " -9.95429e-5    2.00489      -0.561878        0.131965      1.09777\n",
       "  ⋮                                       ⋱   ⋮            \n",
       " -7.61476e-5    1.53369      -0.429822        0.100949      0.839768\n",
       " -2.2915e-6     0.0461531    -0.0129346       0.00303785    0.025271\n",
       " -5.70551e-5    1.14915      -0.322052    …   0.0756382     0.629212\n",
       " -5.49996e-6    0.110775     -0.031045        0.00729132    0.0606544\n",
       " -3.83903e-7    0.0077322    -0.00216698      0.000508943   0.00423375\n",
       " -2.23982e-6    0.0451121    -0.0126428       0.00296934    0.024701\n",
       " -1.20735e-5    0.243173     -0.0681501       0.0160059     0.133149\n",
       " -9.19238e-6    0.185144     -0.0518872   …   0.0121864     0.101375\n",
       " -7.64687e-5    1.54016      -0.431634        0.101375      0.843309\n",
       "\n",
       "[:, :, 2] =\n",
       "  0.00151242   -0.000352936   0.000717213  …  -0.00968329  -0.014964\n",
       " -0.000352936   8.23604e-5   -0.000167367      0.00225967   0.00349196\n",
       "  0.000717213  -0.000167367   0.000340113     -0.00459196  -0.00709613\n",
       " -0.000366497   8.55251e-5   -0.000173798      0.0023465    0.00362614\n",
       "  0.000191795  -4.4757e-5     9.09522e-5      -0.00122797  -0.00189763\n",
       " -0.000367506   8.57606e-5   -0.000174277  …   0.00235296   0.00363612\n",
       " -0.000299853   6.99731e-5   -0.000142195      0.00191981   0.00296676\n",
       " -0.000303907   7.09191e-5   -0.000144117      0.00194577   0.00300687\n",
       " -0.000191023   4.45767e-5   -9.05857e-5       0.00122302   0.00188999\n",
       " -0.000380584   8.88122e-5   -0.000180478      0.00243669   0.00376551\n",
       "  ⋮                                        ⋱   ⋮           \n",
       " -0.00177152    0.000413397  -0.000840078      0.0113421    0.0175274\n",
       " -0.00578544    0.00135008   -0.00274354       0.0370413    0.0572413\n",
       " -0.00239653    0.000559249  -0.00113647   …   0.0153438    0.0237113\n",
       " -0.00774264    0.00180681   -0.00367167       0.0495723    0.076606\n",
       " -0.0148962     0.00347615   -0.007064         0.095373     0.147384\n",
       " -0.0057711     0.00134673   -0.00273674       0.0369495    0.0570995\n",
       " -0.0109593     0.00255745   -0.00519707       0.0701671    0.108432\n",
       " -0.00968329    0.00225967   -0.00459196   …   0.0619973    0.0958068\n",
       " -0.014964      0.00349196   -0.00709613       0.0958068    0.148054"
      ]
     },
     "metadata": {},
     "output_type": "display_data"
    }
   ],
   "source": [
    "vgm = batched_mul(gm, batched_transpose(gm))"
   ]
  },
  {
   "cell_type": "code",
   "execution_count": 44,
   "id": "b151cac1-d351-4b5e-a2d3-040a48273e9b",
   "metadata": {
    "tags": []
   },
   "outputs": [],
   "source": [
    "@assert isapprox(vgm[:,:,1], vg_1, atol=.0005)\n",
    "@assert isapprox(vgm[:,:,2], vg_2, atol=.0005)"
   ]
  },
  {
   "cell_type": "code",
   "execution_count": 45,
   "id": "d9b64d85-c4bb-4ba8-ba8a-89cbb6bfa582",
   "metadata": {
    "tags": []
   },
   "outputs": [
    {
     "data": {
      "text/plain": [
       "97×97 Matrix{Float32}:\n",
       "  0.00151241   -0.000352934   0.000717209  …  -0.00968324  -0.0149639\n",
       " -0.000352934   8.236f-5     -0.000167367      0.00225966   0.00349194\n",
       "  0.000717209  -0.000167367   0.000340111     -0.00459193  -0.0070961\n",
       " -0.000366496   8.55247f-5   -0.000173798      0.00234649   0.00362612\n",
       "  0.000191794  -4.47568f-5    9.09517f-5      -0.00122796  -0.00189762\n",
       " -0.000367505   8.57601f-5   -0.000174276  …   0.00235295   0.0036361\n",
       " -0.000299851   6.99728f-5   -0.000142194      0.0019198    0.00296674\n",
       " -0.000303905   7.09188f-5   -0.000144116      0.00194576   0.00300685\n",
       " -0.000191022   4.45764f-5   -9.05852f-5       0.00122302   0.00188998\n",
       " -0.000380582   8.88118f-5   -0.000180477      0.00243668   0.00376549\n",
       "  ⋮                                        ⋱   ⋮           \n",
       " -0.00177151    0.000413395  -0.000840074      0.0113421    0.0175274\n",
       " -0.00578541    0.00135007   -0.00274353       0.0370411    0.0572411\n",
       " -0.00239652    0.000559246  -0.00113646   …   0.0153437    0.0237112\n",
       " -0.0077426     0.0018068    -0.00367165       0.049572     0.0766056\n",
       " -0.0148961     0.00347613   -0.00706397       0.0953726    0.147383\n",
       " -0.00577107    0.00134673   -0.00273673       0.0369493    0.0570992\n",
       " -0.0109593     0.00255743   -0.00519705       0.0701668    0.108431\n",
       " -0.00968324    0.00225966   -0.00459193   …   0.061997     0.0958064\n",
       " -0.0149639     0.00349194   -0.0070961        0.0958064    0.148053"
      ]
     },
     "metadata": {},
     "output_type": "display_data"
    }
   ],
   "source": [
    "vg_2"
   ]
  },
  {
   "cell_type": "code",
   "execution_count": 46,
   "id": "d8d18f47-c18f-41af-b376-1b8ed882b433",
   "metadata": {
    "tags": []
   },
   "outputs": [
    {
     "data": {
      "text/plain": [
       "97×2 Matrix{Float64}:\n",
       " -8.32704e-5  -0.0388899\n",
       "  1.67715      0.00907526\n",
       " -0.470027    -0.0184421\n",
       "  1.51382      0.00942398\n",
       " -0.0277458   -0.00493176\n",
       "  0.85494      0.00944993\n",
       "  0.538563     0.00771031\n",
       "  0.550209     0.00781455\n",
       "  0.326909     0.00491189\n",
       "  1.19542      0.00978619\n",
       "  ⋮           \n",
       "  0.914462     0.0455521\n",
       "  0.0275188    0.148765\n",
       "  0.685179     0.0616235\n",
       "  0.0660494    0.199091\n",
       "  0.00461032   0.383036\n",
       "  0.0268981    0.148396\n",
       "  0.144992     0.281804\n",
       "  0.110392     0.248993\n",
       "  0.918319     0.384778"
      ]
     },
     "metadata": {},
     "output_type": "display_data"
    }
   ],
   "source": [
    "g"
   ]
  },
  {
   "cell_type": "code",
   "execution_count": 47,
   "id": "62965a45-f41b-4cf9-ad05-a1f3fe38097d",
   "metadata": {
    "tags": []
   },
   "outputs": [],
   "source": [
    "# Now try einsums\n",
    "using Tullio"
   ]
  },
  {
   "cell_type": "code",
   "execution_count": 48,
   "id": "405da2db-8741-4266-86d7-a12a933675da",
   "metadata": {
    "tags": []
   },
   "outputs": [
    {
     "data": {
      "text/plain": [
       "97×97×2 Array{Float64, 3}:\n",
       "[:, :, 1] =\n",
       "  6.93396e-9   -0.000139657   3.91393e-5  …  -9.19238e-6   -7.64687e-5\n",
       " -0.000139657   2.81283      -0.788305        0.185144      1.54016\n",
       "  3.91393e-5   -0.788305      0.220925       -0.0518872    -0.431634\n",
       " -0.000126056   2.5389       -0.711535        0.167113      1.39017\n",
       "  2.3104e-6    -0.0465338     0.0130413      -0.00306291   -0.0254795\n",
       " -7.11912e-5    1.43386      -0.401845    …   0.0943785     0.785107\n",
       " -4.48464e-5    0.90325      -0.253139        0.059453      0.494572\n",
       " -4.58161e-5    0.922782     -0.258613        0.0607387     0.505267\n",
       " -2.72219e-5    0.548276     -0.153656        0.0360882     0.300207\n",
       " -9.95429e-5    2.00489      -0.561878        0.131965      1.09777\n",
       "  ⋮                                       ⋱   ⋮            \n",
       " -7.61476e-5    1.53369      -0.429822        0.100949      0.839768\n",
       " -2.2915e-6     0.0461531    -0.0129346       0.00303785    0.025271\n",
       " -5.70551e-5    1.14915      -0.322052    …   0.0756382     0.629212\n",
       " -5.49996e-6    0.110775     -0.031045        0.00729132    0.0606544\n",
       " -3.83903e-7    0.0077322    -0.00216698      0.000508943   0.00423375\n",
       " -2.23982e-6    0.0451121    -0.0126428       0.00296934    0.024701\n",
       " -1.20735e-5    0.243173     -0.0681501       0.0160059     0.133149\n",
       " -9.19238e-6    0.185144     -0.0518872   …   0.0121864     0.101375\n",
       " -7.64687e-5    1.54016      -0.431634        0.101375      0.843309\n",
       "\n",
       "[:, :, 2] =\n",
       "  0.00151242   -0.000352936   0.000717213  …  -0.00968329  -0.014964\n",
       " -0.000352936   8.23604e-5   -0.000167367      0.00225967   0.00349196\n",
       "  0.000717213  -0.000167367   0.000340113     -0.00459196  -0.00709613\n",
       " -0.000366497   8.55251e-5   -0.000173798      0.0023465    0.00362614\n",
       "  0.000191795  -4.4757e-5     9.09522e-5      -0.00122797  -0.00189763\n",
       " -0.000367506   8.57606e-5   -0.000174277  …   0.00235296   0.00363612\n",
       " -0.000299853   6.99731e-5   -0.000142195      0.00191981   0.00296676\n",
       " -0.000303907   7.09191e-5   -0.000144117      0.00194577   0.00300687\n",
       " -0.000191023   4.45767e-5   -9.05857e-5       0.00122302   0.00188999\n",
       " -0.000380584   8.88122e-5   -0.000180478      0.00243669   0.00376551\n",
       "  ⋮                                        ⋱   ⋮           \n",
       " -0.00177152    0.000413397  -0.000840078      0.0113421    0.0175274\n",
       " -0.00578544    0.00135008   -0.00274354       0.0370413    0.0572413\n",
       " -0.00239653    0.000559249  -0.00113647   …   0.0153438    0.0237113\n",
       " -0.00774264    0.00180681   -0.00367167       0.0495723    0.076606\n",
       " -0.0148962     0.00347615   -0.007064         0.095373     0.147384\n",
       " -0.0057711     0.00134673   -0.00273674       0.0369495    0.0570995\n",
       " -0.0109593     0.00255745   -0.00519707       0.0701671    0.108432\n",
       " -0.00968329    0.00225967   -0.00459196   …   0.0619973    0.0958068\n",
       " -0.014964      0.00349196   -0.00709613       0.0958068    0.148054"
      ]
     },
     "metadata": {},
     "output_type": "display_data"
    }
   ],
   "source": [
    "@tullio H[i, j, b] := g[i, b] * g[j, b]"
   ]
  },
  {
   "cell_type": "code",
   "execution_count": 49,
   "id": "61b678de-d640-4ed3-af7f-2e0e5dc75875",
   "metadata": {
    "tags": []
   },
   "outputs": [],
   "source": [
    "@assert isapprox(vgm, H, atol=eps())"
   ]
  },
  {
   "cell_type": "code",
   "execution_count": 50,
   "id": "2c53fa76-aa71-4741-8e42-ffbe988bca9f",
   "metadata": {
    "tags": []
   },
   "outputs": [
    {
     "data": {
      "text/plain": [
       "2.220446049250313e-16"
      ]
     },
     "metadata": {},
     "output_type": "display_data"
    }
   ],
   "source": [
    "eps()"
   ]
  },
  {
   "attachments": {},
   "cell_type": "markdown",
   "id": "f662185d-adf9-442c-8639-699070e083c2",
   "metadata": {},
   "source": [
    "## Benchmarks for batched computation of H = 𝐠 * 𝐠'"
   ]
  },
  {
   "cell_type": "code",
   "execution_count": 51,
   "id": "fdf341c0-6455-4f3d-a33e-c9f740602a84",
   "metadata": {
    "tags": []
   },
   "outputs": [],
   "source": [
    "using BenchmarkTools"
   ]
  },
  {
   "cell_type": "code",
   "execution_count": 52,
   "id": "6a6e9c79-bb74-4432-b36b-d723a3b2e743",
   "metadata": {
    "tags": []
   },
   "outputs": [
    {
     "data": {
      "text/plain": [
       "method_1 (generic function with 1 method)"
      ]
     },
     "metadata": {},
     "output_type": "display_data"
    }
   ],
   "source": [
    "# Method 1: reshape + MLUtils\n",
    "function method_1(g)\n",
    "    gm = reshape(g, size(g, 1), 1, size(g, 2))\n",
    "    vgm = batched_mul(gm, batched_transpose(gm))\n",
    "end"
   ]
  },
  {
   "cell_type": "code",
   "execution_count": 53,
   "id": "6933f713-29be-4793-a9b8-95df1511c9b3",
   "metadata": {
    "tags": []
   },
   "outputs": [
    {
     "data": {
      "text/plain": [
       "method_2 (generic function with 1 method)"
      ]
     },
     "metadata": {},
     "output_type": "display_data"
    }
   ],
   "source": [
    "# Method 2: Tullio Einstein summation\n",
    "function method_2(g)\n",
    "    @tullio H[i, j, b] := g[i, b] * g[j, b]\n",
    "end"
   ]
  },
  {
   "cell_type": "code",
   "execution_count": 54,
   "id": "9546664a-3c29-4f53-8183-495d9be7e73e",
   "metadata": {
    "tags": []
   },
   "outputs": [
    {
     "data": {
      "text/plain": [
       "BenchmarkTools.Trial: 10000 samples with 1 evaluation.\n",
       " Range \u001b[90m(\u001b[39m\u001b[36m\u001b[1mmin\u001b[22m\u001b[39m … \u001b[35mmax\u001b[39m\u001b[90m):  \u001b[39m\u001b[36m\u001b[1m13.100 μs\u001b[22m\u001b[39m … \u001b[35m  6.498 ms\u001b[39m  \u001b[90m┊\u001b[39m GC \u001b[90m(\u001b[39mmin … max\u001b[90m): \u001b[39m 0.00% … 97.79%\n",
       " Time  \u001b[90m(\u001b[39m\u001b[34m\u001b[1mmedian\u001b[22m\u001b[39m\u001b[90m):     \u001b[39m\u001b[34m\u001b[1m22.400 μs               \u001b[22m\u001b[39m\u001b[90m┊\u001b[39m GC \u001b[90m(\u001b[39mmedian\u001b[90m):    \u001b[39m 0.00%\n",
       " Time  \u001b[90m(\u001b[39m\u001b[32m\u001b[1mmean\u001b[22m\u001b[39m ± \u001b[32mσ\u001b[39m\u001b[90m):   \u001b[39m\u001b[32m\u001b[1m53.724 μs\u001b[22m\u001b[39m ± \u001b[32m172.483 μs\u001b[39m  \u001b[90m┊\u001b[39m GC \u001b[90m(\u001b[39mmean ± σ\u001b[90m):  \u001b[39m16.11% ±  5.39%\n",
       "\n",
       "  \u001b[39m█\u001b[39m█\u001b[34m▆\u001b[39m\u001b[39m▄\u001b[39m▃\u001b[39m▃\u001b[39m▂\u001b[39m▂\u001b[39m▁\u001b[39m▁\u001b[32m▂\u001b[39m\u001b[39m▃\u001b[39m▃\u001b[39m▆\u001b[39m▅\u001b[39m▄\u001b[39m▃\u001b[39m▃\u001b[39m▃\u001b[39m▃\u001b[39m▂\u001b[39m▂\u001b[39m▂\u001b[39m▂\u001b[39m▁\u001b[39m▁\u001b[39m▁\u001b[39m \u001b[39m \u001b[39m \u001b[39m \u001b[39m \u001b[39m \u001b[39m \u001b[39m \u001b[39m \u001b[39m \u001b[39m \u001b[39m \u001b[39m \u001b[39m \u001b[39m \u001b[39m \u001b[39m \u001b[39m \u001b[39m \u001b[39m \u001b[39m \u001b[39m \u001b[39m \u001b[39m \u001b[39m \u001b[39m \u001b[39m \u001b[39m \u001b[39m \u001b[39m \u001b[39m \u001b[39m \u001b[39m \u001b[39m \u001b[39m▂\n",
       "  \u001b[39m█\u001b[39m█\u001b[34m█\u001b[39m\u001b[39m█\u001b[39m█\u001b[39m█\u001b[39m█\u001b[39m█\u001b[39m█\u001b[39m█\u001b[32m█\u001b[39m\u001b[39m█\u001b[39m█\u001b[39m█\u001b[39m█\u001b[39m█\u001b[39m█\u001b[39m█\u001b[39m█\u001b[39m█\u001b[39m█\u001b[39m█\u001b[39m█\u001b[39m█\u001b[39m█\u001b[39m█\u001b[39m█\u001b[39m█\u001b[39m█\u001b[39m█\u001b[39m█\u001b[39m█\u001b[39m█\u001b[39m█\u001b[39m█\u001b[39m▇\u001b[39m▇\u001b[39m▇\u001b[39m▆\u001b[39m▆\u001b[39m▅\u001b[39m▆\u001b[39m▃\u001b[39m▅\u001b[39m▆\u001b[39m▆\u001b[39m▄\u001b[39m▅\u001b[39m▅\u001b[39m▅\u001b[39m▅\u001b[39m▆\u001b[39m▄\u001b[39m▅\u001b[39m▆\u001b[39m▁\u001b[39m▅\u001b[39m▆\u001b[39m▄\u001b[39m▃\u001b[39m \u001b[39m█\n",
       "  13.1 μs\u001b[90m       \u001b[39m\u001b[90mHistogram: \u001b[39m\u001b[90m\u001b[1mlog(\u001b[22m\u001b[39m\u001b[90mfrequency\u001b[39m\u001b[90m\u001b[1m)\u001b[22m\u001b[39m\u001b[90m by time\u001b[39m       247 μs \u001b[0m\u001b[1m<\u001b[22m\n",
       "\n",
       " Memory estimate\u001b[90m: \u001b[39m\u001b[33m147.23 KiB\u001b[39m, allocs estimate\u001b[90m: \u001b[39m\u001b[33m5\u001b[39m."
      ]
     },
     "metadata": {},
     "output_type": "display_data"
    }
   ],
   "source": [
    "@benchmark method_1($g)"
   ]
  },
  {
   "cell_type": "code",
   "execution_count": 55,
   "id": "a0b975d8-ba7c-4a21-b643-a800d473ba92",
   "metadata": {
    "tags": []
   },
   "outputs": [
    {
     "data": {
      "text/plain": [
       "BenchmarkTools.Trial: 10000 samples with 1 evaluation.\n",
       " Range \u001b[90m(\u001b[39m\u001b[36m\u001b[1mmin\u001b[22m\u001b[39m … \u001b[35mmax\u001b[39m\u001b[90m):  \u001b[39m\u001b[36m\u001b[1m11.500 μs\u001b[22m\u001b[39m … \u001b[35m  4.994 ms\u001b[39m  \u001b[90m┊\u001b[39m GC \u001b[90m(\u001b[39mmin … max\u001b[90m): \u001b[39m 0.00% … 97.87%\n",
       " Time  \u001b[90m(\u001b[39m\u001b[34m\u001b[1mmedian\u001b[22m\u001b[39m\u001b[90m):     \u001b[39m\u001b[34m\u001b[1m17.000 μs               \u001b[22m\u001b[39m\u001b[90m┊\u001b[39m GC \u001b[90m(\u001b[39mmedian\u001b[90m):    \u001b[39m 0.00%\n",
       " Time  \u001b[90m(\u001b[39m\u001b[32m\u001b[1mmean\u001b[22m\u001b[39m ± \u001b[32mσ\u001b[39m\u001b[90m):   \u001b[39m\u001b[32m\u001b[1m31.683 μs\u001b[22m\u001b[39m ± \u001b[32m111.664 μs\u001b[39m  \u001b[90m┊\u001b[39m GC \u001b[90m(\u001b[39mmean ± σ\u001b[90m):  \u001b[39m17.02% ±  5.26%\n",
       "\n",
       "  \u001b[39m▆\u001b[39m█\u001b[34m▇\u001b[39m\u001b[39m▅\u001b[39m▄\u001b[39m▄\u001b[39m▃\u001b[32m▃\u001b[39m\u001b[39m▃\u001b[39m▂\u001b[39m▂\u001b[39m▁\u001b[39m▁\u001b[39m \u001b[39m▁\u001b[39m▁\u001b[39m▁\u001b[39m▂\u001b[39m▁\u001b[39m▁\u001b[39m \u001b[39m \u001b[39m \u001b[39m \u001b[39m \u001b[39m \u001b[39m \u001b[39m \u001b[39m \u001b[39m \u001b[39m \u001b[39m \u001b[39m \u001b[39m \u001b[39m \u001b[39m \u001b[39m \u001b[39m \u001b[39m \u001b[39m \u001b[39m \u001b[39m \u001b[39m \u001b[39m \u001b[39m \u001b[39m \u001b[39m \u001b[39m \u001b[39m \u001b[39m \u001b[39m \u001b[39m \u001b[39m \u001b[39m \u001b[39m \u001b[39m \u001b[39m \u001b[39m \u001b[39m \u001b[39m \u001b[39m \u001b[39m▂\n",
       "  \u001b[39m█\u001b[39m█\u001b[34m█\u001b[39m\u001b[39m█\u001b[39m█\u001b[39m█\u001b[39m█\u001b[32m█\u001b[39m\u001b[39m█\u001b[39m█\u001b[39m█\u001b[39m█\u001b[39m█\u001b[39m█\u001b[39m█\u001b[39m█\u001b[39m█\u001b[39m█\u001b[39m█\u001b[39m█\u001b[39m█\u001b[39m█\u001b[39m█\u001b[39m█\u001b[39m▇\u001b[39m▇\u001b[39m█\u001b[39m▇\u001b[39m▇\u001b[39m▇\u001b[39m▇\u001b[39m▇\u001b[39m▇\u001b[39m▆\u001b[39m▇\u001b[39m▆\u001b[39m▆\u001b[39m▆\u001b[39m▆\u001b[39m▅\u001b[39m▆\u001b[39m▅\u001b[39m▅\u001b[39m▆\u001b[39m▅\u001b[39m▅\u001b[39m▄\u001b[39m▄\u001b[39m▅\u001b[39m▃\u001b[39m▅\u001b[39m▁\u001b[39m▅\u001b[39m▄\u001b[39m▄\u001b[39m▃\u001b[39m▃\u001b[39m▄\u001b[39m▁\u001b[39m▄\u001b[39m \u001b[39m█\n",
       "  11.5 μs\u001b[90m       \u001b[39m\u001b[90mHistogram: \u001b[39m\u001b[90m\u001b[1mlog(\u001b[22m\u001b[39m\u001b[90mfrequency\u001b[39m\u001b[90m\u001b[1m)\u001b[22m\u001b[39m\u001b[90m by time\u001b[39m       180 μs \u001b[0m\u001b[1m<\u001b[22m\n",
       "\n",
       " Memory estimate\u001b[90m: \u001b[39m\u001b[33m147.12 KiB\u001b[39m, allocs estimate\u001b[90m: \u001b[39m\u001b[33m2\u001b[39m."
      ]
     },
     "metadata": {},
     "output_type": "display_data"
    }
   ],
   "source": [
    "@benchmark method_2($g)"
   ]
  },
  {
   "cell_type": "code",
   "execution_count": 56,
   "id": "d905b837-5cd9-4a18-bff4-dc95467db505",
   "metadata": {
    "tags": []
   },
   "outputs": [
    {
     "data": {
      "text/plain": [
       "97×128 Matrix{Float64}:\n",
       " -8.32704e-5  -0.0388899   -0.00291601  …  -2.4884e-8    -0.0213082\n",
       "  1.67715      0.00907526   0.124145        0.00171719    0.00496514\n",
       " -0.470027    -0.0184421   -0.0708067      -0.000471961  -0.00985723\n",
       "  1.51382      0.00942398   0.116051        0.00156517    0.00514572\n",
       " -0.0277458   -0.00493176  -0.00928818     -2.37233e-5   -0.00261334\n",
       "  0.85494      0.00944993   0.0742789   …   0.000920082   0.00511361\n",
       "  0.538563     0.00771031   0.0477155       0.000597577   0.00414917\n",
       "  0.550209     0.00781455   0.0487987       0.000609484   0.00420624\n",
       "  0.326909     0.00491189   0.0259904       0.000384619   0.00263024\n",
       "  1.19542      0.00978619   0.0977518       0.00125914    0.00532181\n",
       "  ⋮                                     ⋱                \n",
       "  0.914462     0.0455521    0.10208         0.0010599     0.020767\n",
       "  0.0275188    0.148765     0.0150914       2.24747e-5    0.0626304\n",
       "  0.685179     0.0616235    0.0513032   …   0.000851968   0.0269822\n",
       "  0.0660494    0.199091     0.0274649       5.70677e-5    0.0842821\n",
       "  0.00461032   0.383036     0.0642639       1.51253e-6    0.164041\n",
       "  0.0268981    0.148396     0.0149121       2.19139e-5    0.0624664\n",
       "  0.144992     0.281804     0.0510645       0.000127565   0.119921\n",
       "  0.110392     0.248993     0.0408603   …   9.69677e-5    0.105759\n",
       "  0.918319     0.384778     0.121092        0.00106175    0.164866"
      ]
     },
     "metadata": {},
     "output_type": "display_data"
    }
   ],
   "source": [
    "# More benchmarks:\n",
    "# batchsize = 128\n",
    "dataloader_128 = DataLoader((X, Y), batchsize=128)\n",
    "x_128, y_128 = popfirst!(Iterators.Stateful(dataloader_128))\n",
    "g_128 = gradient_helper(model, x_128, y_128)"
   ]
  },
  {
   "cell_type": "code",
   "execution_count": 57,
   "id": "8b58c01f-6685-4212-ae6e-af23020da52e",
   "metadata": {
    "tags": []
   },
   "outputs": [
    {
     "data": {
      "text/plain": [
       "BenchmarkTools.Trial: 1268 samples with 1 evaluation.\n",
       " Range \u001b[90m(\u001b[39m\u001b[36m\u001b[1mmin\u001b[22m\u001b[39m … \u001b[35mmax\u001b[39m\u001b[90m):  \u001b[39m\u001b[36m\u001b[1m2.408 ms\u001b[22m\u001b[39m … \u001b[35m9.986 ms\u001b[39m  \u001b[90m┊\u001b[39m GC \u001b[90m(\u001b[39mmin … max\u001b[90m): \u001b[39m 0.00% … 50.55%\n",
       " Time  \u001b[90m(\u001b[39m\u001b[34m\u001b[1mmedian\u001b[22m\u001b[39m\u001b[90m):     \u001b[39m\u001b[34m\u001b[1m3.132 ms             \u001b[22m\u001b[39m\u001b[90m┊\u001b[39m GC \u001b[90m(\u001b[39mmedian\u001b[90m):    \u001b[39m 0.00%\n",
       " Time  \u001b[90m(\u001b[39m\u001b[32m\u001b[1mmean\u001b[22m\u001b[39m ± \u001b[32mσ\u001b[39m\u001b[90m):   \u001b[39m\u001b[32m\u001b[1m3.915 ms\u001b[22m\u001b[39m ± \u001b[32m1.714 ms\u001b[39m  \u001b[90m┊\u001b[39m GC \u001b[90m(\u001b[39mmean ± σ\u001b[90m):  \u001b[39m20.17% ± 22.10%\n",
       "\n",
       "  \u001b[39m \u001b[39m▁\u001b[39m▆\u001b[39m█\u001b[39m▆\u001b[39m▄\u001b[39m▂\u001b[34m▁\u001b[39m\u001b[39m▁\u001b[39m \u001b[39m \u001b[39m \u001b[39m \u001b[39m \u001b[32m \u001b[39m\u001b[39m \u001b[39m \u001b[39m \u001b[39m \u001b[39m \u001b[39m \u001b[39m \u001b[39m \u001b[39m \u001b[39m \u001b[39m \u001b[39m \u001b[39m \u001b[39m \u001b[39m \u001b[39m \u001b[39m \u001b[39m \u001b[39m \u001b[39m \u001b[39m \u001b[39m \u001b[39m \u001b[39m \u001b[39m \u001b[39m \u001b[39m \u001b[39m \u001b[39m \u001b[39m \u001b[39m \u001b[39m \u001b[39m \u001b[39m \u001b[39m \u001b[39m \u001b[39m \u001b[39m \u001b[39m \u001b[39m \u001b[39m \u001b[39m \u001b[39m \u001b[39m \n",
       "  \u001b[39m▄\u001b[39m█\u001b[39m█\u001b[39m█\u001b[39m█\u001b[39m█\u001b[39m█\u001b[34m█\u001b[39m\u001b[39m█\u001b[39m▇\u001b[39m▆\u001b[39m▆\u001b[39m▄\u001b[39m▄\u001b[32m▄\u001b[39m\u001b[39m▃\u001b[39m▃\u001b[39m▃\u001b[39m▃\u001b[39m▃\u001b[39m▃\u001b[39m▂\u001b[39m▂\u001b[39m▂\u001b[39m▂\u001b[39m▁\u001b[39m▁\u001b[39m▁\u001b[39m▁\u001b[39m▂\u001b[39m▁\u001b[39m▁\u001b[39m▁\u001b[39m▁\u001b[39m▂\u001b[39m▂\u001b[39m▂\u001b[39m▃\u001b[39m▃\u001b[39m▃\u001b[39m▄\u001b[39m▄\u001b[39m▄\u001b[39m▄\u001b[39m▄\u001b[39m▃\u001b[39m▄\u001b[39m▃\u001b[39m▃\u001b[39m▃\u001b[39m▃\u001b[39m▃\u001b[39m▃\u001b[39m▂\u001b[39m▃\u001b[39m▃\u001b[39m▂\u001b[39m \u001b[39m▃\n",
       "  2.41 ms\u001b[90m        Histogram: frequency by time\u001b[39m       8.37 ms \u001b[0m\u001b[1m<\u001b[22m\n",
       "\n",
       " Memory estimate\u001b[90m: \u001b[39m\u001b[33m9.19 MiB\u001b[39m, allocs estimate\u001b[90m: \u001b[39m\u001b[33m5\u001b[39m."
      ]
     },
     "metadata": {},
     "output_type": "display_data"
    }
   ],
   "source": [
    "@benchmark method_1($g_128) "
   ]
  },
  {
   "cell_type": "code",
   "execution_count": 58,
   "id": "d0b14ce4-50d0-4f99-b452-2c00eca18e69",
   "metadata": {
    "tags": []
   },
   "outputs": [
    {
     "data": {
      "text/plain": [
       "BenchmarkTools.Trial: 851 samples with 1 evaluation.\n",
       " Range \u001b[90m(\u001b[39m\u001b[36m\u001b[1mmin\u001b[22m\u001b[39m … \u001b[35mmax\u001b[39m\u001b[90m):  \u001b[39m\u001b[36m\u001b[1m3.126 ms\u001b[22m\u001b[39m … \u001b[35m15.410 ms\u001b[39m  \u001b[90m┊\u001b[39m GC \u001b[90m(\u001b[39mmin … max\u001b[90m): \u001b[39m 0.00% … 54.25%\n",
       " Time  \u001b[90m(\u001b[39m\u001b[34m\u001b[1mmedian\u001b[22m\u001b[39m\u001b[90m):     \u001b[39m\u001b[34m\u001b[1m4.918 ms              \u001b[22m\u001b[39m\u001b[90m┊\u001b[39m GC \u001b[90m(\u001b[39mmedian\u001b[90m):    \u001b[39m 0.00%\n",
       " Time  \u001b[90m(\u001b[39m\u001b[32m\u001b[1mmean\u001b[22m\u001b[39m ± \u001b[32mσ\u001b[39m\u001b[90m):   \u001b[39m\u001b[32m\u001b[1m5.848 ms\u001b[22m\u001b[39m ± \u001b[32m 2.364 ms\u001b[39m  \u001b[90m┊\u001b[39m GC \u001b[90m(\u001b[39mmean ± σ\u001b[90m):  \u001b[39m18.60% ± 21.46%\n",
       "\n",
       "  \u001b[39m \u001b[39m \u001b[39m \u001b[39m \u001b[39m \u001b[39m▅\u001b[39m▄\u001b[39m█\u001b[39m▇\u001b[39m▇\u001b[39m▇\u001b[34m▄\u001b[39m\u001b[39m▃\u001b[39m \u001b[39m▂\u001b[39m \u001b[32m \u001b[39m\u001b[39m \u001b[39m \u001b[39m \u001b[39m \u001b[39m \u001b[39m \u001b[39m \u001b[39m \u001b[39m \u001b[39m \u001b[39m \u001b[39m \u001b[39m \u001b[39m \u001b[39m \u001b[39m \u001b[39m \u001b[39m \u001b[39m \u001b[39m \u001b[39m \u001b[39m \u001b[39m \u001b[39m \u001b[39m \u001b[39m \u001b[39m \u001b[39m \u001b[39m \u001b[39m \u001b[39m \u001b[39m \u001b[39m \u001b[39m \u001b[39m \u001b[39m \u001b[39m \u001b[39m \u001b[39m \u001b[39m \u001b[39m \u001b[39m \u001b[39m \n",
       "  \u001b[39m▂\u001b[39m▄\u001b[39m▅\u001b[39m█\u001b[39m█\u001b[39m█\u001b[39m█\u001b[39m█\u001b[39m█\u001b[39m█\u001b[39m█\u001b[34m█\u001b[39m\u001b[39m█\u001b[39m█\u001b[39m█\u001b[39m▇\u001b[32m▅\u001b[39m\u001b[39m▄\u001b[39m▄\u001b[39m▃\u001b[39m▂\u001b[39m▃\u001b[39m▃\u001b[39m▃\u001b[39m▂\u001b[39m▂\u001b[39m▂\u001b[39m▃\u001b[39m▂\u001b[39m▃\u001b[39m▃\u001b[39m▃\u001b[39m▃\u001b[39m▃\u001b[39m▃\u001b[39m▃\u001b[39m▃\u001b[39m▄\u001b[39m▄\u001b[39m▅\u001b[39m▂\u001b[39m▃\u001b[39m▃\u001b[39m▄\u001b[39m▄\u001b[39m▄\u001b[39m▄\u001b[39m▃\u001b[39m▂\u001b[39m▃\u001b[39m▃\u001b[39m▂\u001b[39m▃\u001b[39m▂\u001b[39m▂\u001b[39m▃\u001b[39m▁\u001b[39m▃\u001b[39m \u001b[39m▄\n",
       "  3.13 ms\u001b[90m        Histogram: frequency by time\u001b[39m        12.8 ms \u001b[0m\u001b[1m<\u001b[22m\n",
       "\n",
       " Memory estimate\u001b[90m: \u001b[39m\u001b[33m9.19 MiB\u001b[39m, allocs estimate\u001b[90m: \u001b[39m\u001b[33m2\u001b[39m."
      ]
     },
     "metadata": {},
     "output_type": "display_data"
    }
   ],
   "source": [
    "@benchmark method_2($g_128) "
   ]
  },
  {
   "cell_type": "code",
   "execution_count": 59,
   "id": "184e4804-3065-4817-8cc7-cc4f928bc898",
   "metadata": {
    "tags": []
   },
   "outputs": [
    {
     "data": {
      "text/plain": [
       "BenchmarkTools.Trial: 1284 samples with 1 evaluation.\n",
       " Range \u001b[90m(\u001b[39m\u001b[36m\u001b[1mmin\u001b[22m\u001b[39m … \u001b[35mmax\u001b[39m\u001b[90m):  \u001b[39m\u001b[36m\u001b[1m2.125 ms\u001b[22m\u001b[39m … \u001b[35m10.474 ms\u001b[39m  \u001b[90m┊\u001b[39m GC \u001b[90m(\u001b[39mmin … max\u001b[90m): \u001b[39m 0.00% … 62.47%\n",
       " Time  \u001b[90m(\u001b[39m\u001b[34m\u001b[1mmedian\u001b[22m\u001b[39m\u001b[90m):     \u001b[39m\u001b[34m\u001b[1m3.128 ms              \u001b[22m\u001b[39m\u001b[90m┊\u001b[39m GC \u001b[90m(\u001b[39mmedian\u001b[90m):    \u001b[39m 0.00%\n",
       " Time  \u001b[90m(\u001b[39m\u001b[32m\u001b[1mmean\u001b[22m\u001b[39m ± \u001b[32mσ\u001b[39m\u001b[90m):   \u001b[39m\u001b[32m\u001b[1m3.866 ms\u001b[22m\u001b[39m ± \u001b[32m 1.737 ms\u001b[39m  \u001b[90m┊\u001b[39m GC \u001b[90m(\u001b[39mmean ± σ\u001b[90m):  \u001b[39m20.06% ± 22.29%\n",
       "\n",
       "  \u001b[39m \u001b[39m▄\u001b[39m▄\u001b[39m▃\u001b[39m▄\u001b[39m█\u001b[39m█\u001b[39m▆\u001b[39m▅\u001b[34m▄\u001b[39m\u001b[39m▁\u001b[39m \u001b[39m \u001b[39m \u001b[39m \u001b[32m \u001b[39m\u001b[39m \u001b[39m \u001b[39m \u001b[39m \u001b[39m \u001b[39m \u001b[39m \u001b[39m \u001b[39m \u001b[39m \u001b[39m \u001b[39m \u001b[39m \u001b[39m \u001b[39m \u001b[39m \u001b[39m \u001b[39m \u001b[39m \u001b[39m \u001b[39m \u001b[39m \u001b[39m \u001b[39m \u001b[39m \u001b[39m \u001b[39m \u001b[39m \u001b[39m \u001b[39m \u001b[39m \u001b[39m \u001b[39m \u001b[39m \u001b[39m \u001b[39m \u001b[39m \u001b[39m \u001b[39m \u001b[39m \u001b[39m \u001b[39m \u001b[39m \u001b[39m \n",
       "  \u001b[39m▂\u001b[39m█\u001b[39m█\u001b[39m█\u001b[39m█\u001b[39m█\u001b[39m█\u001b[39m█\u001b[39m█\u001b[34m█\u001b[39m\u001b[39m█\u001b[39m▇\u001b[39m▄\u001b[39m▅\u001b[39m▅\u001b[32m▄\u001b[39m\u001b[39m▃\u001b[39m▃\u001b[39m▃\u001b[39m▂\u001b[39m▃\u001b[39m▁\u001b[39m▂\u001b[39m▂\u001b[39m▂\u001b[39m▂\u001b[39m▂\u001b[39m▁\u001b[39m▂\u001b[39m▂\u001b[39m▁\u001b[39m▂\u001b[39m▂\u001b[39m▂\u001b[39m▂\u001b[39m▂\u001b[39m▃\u001b[39m▃\u001b[39m▃\u001b[39m▂\u001b[39m▃\u001b[39m▃\u001b[39m▃\u001b[39m▂\u001b[39m▃\u001b[39m▃\u001b[39m▃\u001b[39m▂\u001b[39m▁\u001b[39m▂\u001b[39m▂\u001b[39m▁\u001b[39m▂\u001b[39m▁\u001b[39m▁\u001b[39m▂\u001b[39m▁\u001b[39m▂\u001b[39m \u001b[39m▃\n",
       "  2.12 ms\u001b[90m        Histogram: frequency by time\u001b[39m        8.84 ms \u001b[0m\u001b[1m<\u001b[22m\n",
       "\n",
       " Memory estimate\u001b[90m: \u001b[39m\u001b[33m9.19 MiB\u001b[39m, allocs estimate\u001b[90m: \u001b[39m\u001b[33m5\u001b[39m."
      ]
     },
     "metadata": {},
     "output_type": "display_data"
    }
   ],
   "source": [
    "@benchmark method_1($g_128) samples=10_000"
   ]
  },
  {
   "cell_type": "code",
   "execution_count": 60,
   "id": "0164f97e-89c1-42fb-988a-9939d9bd2353",
   "metadata": {
    "tags": []
   },
   "outputs": [
    {
     "data": {
      "text/plain": [
       "BenchmarkTools.Trial: 813 samples with 1 evaluation.\n",
       " Range \u001b[90m(\u001b[39m\u001b[36m\u001b[1mmin\u001b[22m\u001b[39m … \u001b[35mmax\u001b[39m\u001b[90m):  \u001b[39m\u001b[36m\u001b[1m3.131 ms\u001b[22m\u001b[39m … \u001b[35m16.548 ms\u001b[39m  \u001b[90m┊\u001b[39m GC \u001b[90m(\u001b[39mmin … max\u001b[90m): \u001b[39m 0.00% … 57.13%\n",
       " Time  \u001b[90m(\u001b[39m\u001b[34m\u001b[1mmedian\u001b[22m\u001b[39m\u001b[90m):     \u001b[39m\u001b[34m\u001b[1m5.115 ms              \u001b[22m\u001b[39m\u001b[90m┊\u001b[39m GC \u001b[90m(\u001b[39mmedian\u001b[90m):    \u001b[39m 0.00%\n",
       " Time  \u001b[90m(\u001b[39m\u001b[32m\u001b[1mmean\u001b[22m\u001b[39m ± \u001b[32mσ\u001b[39m\u001b[90m):   \u001b[39m\u001b[32m\u001b[1m6.127 ms\u001b[22m\u001b[39m ± \u001b[32m 2.667 ms\u001b[39m  \u001b[90m┊\u001b[39m GC \u001b[90m(\u001b[39mmean ± σ\u001b[90m):  \u001b[39m18.36% ± 21.39%\n",
       "\n",
       "  \u001b[39m \u001b[39m \u001b[39m▇\u001b[39m█\u001b[39m▄\u001b[39m▂\u001b[39m▂\u001b[39m▁\u001b[39m▅\u001b[39m▃\u001b[39m▃\u001b[34m▄\u001b[39m\u001b[39m \u001b[39m \u001b[39m \u001b[39m \u001b[32m \u001b[39m\u001b[39m \u001b[39m \u001b[39m \u001b[39m \u001b[39m \u001b[39m \u001b[39m \u001b[39m \u001b[39m \u001b[39m \u001b[39m \u001b[39m \u001b[39m \u001b[39m \u001b[39m \u001b[39m \u001b[39m \u001b[39m \u001b[39m \u001b[39m \u001b[39m \u001b[39m \u001b[39m \u001b[39m \u001b[39m \u001b[39m \u001b[39m \u001b[39m \u001b[39m \u001b[39m \u001b[39m \u001b[39m \u001b[39m \u001b[39m \u001b[39m \u001b[39m \u001b[39m \u001b[39m \u001b[39m \u001b[39m \u001b[39m \u001b[39m \u001b[39m \n",
       "  \u001b[39m▁\u001b[39m▄\u001b[39m█\u001b[39m█\u001b[39m█\u001b[39m█\u001b[39m█\u001b[39m█\u001b[39m█\u001b[39m█\u001b[39m█\u001b[34m█\u001b[39m\u001b[39m▆\u001b[39m▅\u001b[39m▆\u001b[39m▅\u001b[32m▄\u001b[39m\u001b[39m▃\u001b[39m▃\u001b[39m▃\u001b[39m▃\u001b[39m▃\u001b[39m▄\u001b[39m▃\u001b[39m▄\u001b[39m▄\u001b[39m▃\u001b[39m▃\u001b[39m▃\u001b[39m▃\u001b[39m▂\u001b[39m▃\u001b[39m▂\u001b[39m▁\u001b[39m▄\u001b[39m▂\u001b[39m▂\u001b[39m▁\u001b[39m▃\u001b[39m▃\u001b[39m▁\u001b[39m▃\u001b[39m▃\u001b[39m▃\u001b[39m▂\u001b[39m▃\u001b[39m▂\u001b[39m▃\u001b[39m▁\u001b[39m▂\u001b[39m▂\u001b[39m▂\u001b[39m▂\u001b[39m▂\u001b[39m▁\u001b[39m▁\u001b[39m▂\u001b[39m▁\u001b[39m \u001b[39m▃\n",
       "  3.13 ms\u001b[90m        Histogram: frequency by time\u001b[39m        13.8 ms \u001b[0m\u001b[1m<\u001b[22m\n",
       "\n",
       " Memory estimate\u001b[90m: \u001b[39m\u001b[33m9.19 MiB\u001b[39m, allocs estimate\u001b[90m: \u001b[39m\u001b[33m2\u001b[39m."
      ]
     },
     "metadata": {},
     "output_type": "display_data"
    }
   ],
   "source": [
    "@benchmark method_2($g_128) samples=10_000"
   ]
  },
  {
   "attachments": {},
   "cell_type": "markdown",
   "id": "7caa9d18-9937-4c40-ac79-56821eb235a3",
   "metadata": {},
   "source": [
    "### Benchmark conclusions\n",
    "Method 2, with Tullio, is faster, probably since it makes less allocations. The effect is lesser for larger batchsizes -- compare the almost two-fold difference for batchsize 2, and the ~16% difference for batchsize 128.\n",
    "Tullio would also employ multi-threading for large-enough matrices.\n",
    "\n",
    "Machine: Thinkpad X1 Gen 6, Intel i7 8th Gen, Intel GPU"
   ]
  },
  {
   "attachments": {},
   "cell_type": "markdown",
   "id": "36700f26-7708-4f01-961f-1fd2f4047390",
   "metadata": {},
   "source": [
    "## Summary"
   ]
  },
  {
   "cell_type": "code",
   "execution_count": 61,
   "id": "e7585116-9f58-4da3-86dd-b918b9322546",
   "metadata": {
    "tags": []
   },
   "outputs": [
    {
     "data": {
      "text/plain": [
       "97×97 Matrix{Float64}:\n",
       "  0.00151243   -0.000492593  …  -0.0109714  -0.00969248  -0.0150404\n",
       " -0.000492593   2.81291          0.24573     0.187403     1.54365\n",
       "  0.000756352  -0.788472        -0.0733471  -0.0564792   -0.43873\n",
       " -0.000492554   2.53898          0.222147    0.16946      1.39379\n",
       "  0.000194106  -0.0465786       -0.0054127  -0.00429088  -0.0273771\n",
       " -0.000438698   1.43395      …   0.126622    0.0967315    0.788744\n",
       " -0.000344699   0.90332          0.0802601   0.0613729    0.497539\n",
       " -0.000349723   0.922853         0.081978    0.0626845    0.508274\n",
       " -0.000218244   0.54832          0.0487834   0.0373112    0.302097\n",
       " -0.000480126   2.00498          0.176084    0.134401     1.10154\n",
       "  ⋮                          ⋱               ⋮           \n",
       " -0.00184766    1.5341           0.145426    0.112291     0.857295\n",
       " -0.00578773    0.0475031        0.0459125   0.0400791    0.0825123\n",
       " -0.00245358    1.14971      …   0.116711    0.090982     0.652924\n",
       " -0.00774814    0.112581         0.0656814   0.0568636    0.13726\n",
       " -0.0148966     0.0112083        0.10861     0.095882     0.151617\n",
       " -0.00577334    0.0464588        0.0457186   0.0399189    0.0818006\n",
       " -0.0109714     0.24573          0.100436    0.0861731    0.241581\n",
       " -0.00969248    0.187403     …   0.0861731   0.0741837    0.197182\n",
       " -0.0150404     1.54365          0.241581    0.197182     0.991363"
      ]
     },
     "metadata": {},
     "output_type": "display_data"
    }
   ],
   "source": [
    "x_b, y_b = popfirst!(Iterators.Stateful(dataloader))\n",
    "grads_b = jacobian(() -> loss_fn(x_b, y_b, agg=identity), Flux.params(model))\n",
    "g = transpose(reduce(hcat, grads_b))  # Q: could using permutedims make the next computation faster, because of BLAS-optimised multiplication, at a cost of an allocation?\n",
    "@tullio H_b[i, j, b] := g[i, b] * g[j, b]\n",
    "@tullio H[i, j] := g[i, b] * g[j, b]"
   ]
  },
  {
   "cell_type": "code",
   "execution_count": 62,
   "id": "62843fec-8b07-4478-918f-a1562949fdea",
   "metadata": {
    "tags": []
   },
   "outputs": [
    {
     "data": {
      "text/plain": [
       "97×97×2 Array{Float64, 3}:\n",
       "[:, :, 1] =\n",
       "  6.93396e-9   -0.000139657   3.91393e-5  …  -9.19238e-6   -7.64687e-5\n",
       " -0.000139657   2.81283      -0.788305        0.185144      1.54016\n",
       "  3.91393e-5   -0.788305      0.220925       -0.0518872    -0.431634\n",
       " -0.000126056   2.5389       -0.711535        0.167113      1.39017\n",
       "  2.3104e-6    -0.0465338     0.0130413      -0.00306291   -0.0254795\n",
       " -7.11912e-5    1.43386      -0.401845    …   0.0943785     0.785107\n",
       " -4.48464e-5    0.90325      -0.253139        0.059453      0.494572\n",
       " -4.58161e-5    0.922782     -0.258613        0.0607387     0.505267\n",
       " -2.72219e-5    0.548276     -0.153656        0.0360882     0.300207\n",
       " -9.95429e-5    2.00489      -0.561878        0.131965      1.09777\n",
       "  ⋮                                       ⋱   ⋮            \n",
       " -7.61476e-5    1.53369      -0.429822        0.100949      0.839768\n",
       " -2.2915e-6     0.0461531    -0.0129346       0.00303785    0.025271\n",
       " -5.70551e-5    1.14915      -0.322052    …   0.0756382     0.629212\n",
       " -5.49996e-6    0.110775     -0.031045        0.00729132    0.0606544\n",
       " -3.83903e-7    0.0077322    -0.00216698      0.000508943   0.00423375\n",
       " -2.23982e-6    0.0451121    -0.0126428       0.00296934    0.024701\n",
       " -1.20735e-5    0.243173     -0.0681501       0.0160059     0.133149\n",
       " -9.19238e-6    0.185144     -0.0518872   …   0.0121864     0.101375\n",
       " -7.64687e-5    1.54016      -0.431634        0.101375      0.843309\n",
       "\n",
       "[:, :, 2] =\n",
       "  0.00151242   -0.000352936   0.000717213  …  -0.00968329  -0.014964\n",
       " -0.000352936   8.23604e-5   -0.000167367      0.00225967   0.00349196\n",
       "  0.000717213  -0.000167367   0.000340113     -0.00459196  -0.00709613\n",
       " -0.000366497   8.55251e-5   -0.000173798      0.0023465    0.00362614\n",
       "  0.000191795  -4.4757e-5     9.09522e-5      -0.00122797  -0.00189763\n",
       " -0.000367506   8.57606e-5   -0.000174277  …   0.00235296   0.00363612\n",
       " -0.000299853   6.99731e-5   -0.000142195      0.00191981   0.00296676\n",
       " -0.000303907   7.09191e-5   -0.000144117      0.00194577   0.00300687\n",
       " -0.000191023   4.45767e-5   -9.05857e-5       0.00122302   0.00188999\n",
       " -0.000380584   8.88122e-5   -0.000180478      0.00243669   0.00376551\n",
       "  ⋮                                        ⋱   ⋮           \n",
       " -0.00177152    0.000413397  -0.000840078      0.0113421    0.0175274\n",
       " -0.00578544    0.00135008   -0.00274354       0.0370413    0.0572413\n",
       " -0.00239653    0.000559249  -0.00113647   …   0.0153438    0.0237113\n",
       " -0.00774264    0.00180681   -0.00367167       0.0495723    0.076606\n",
       " -0.0148962     0.00347615   -0.007064         0.095373     0.147384\n",
       " -0.0057711     0.00134673   -0.00273674       0.0369495    0.0570995\n",
       " -0.0109593     0.00255745   -0.00519707       0.0701671    0.108432\n",
       " -0.00968329    0.00225967   -0.00459196   …   0.0619973    0.0958068\n",
       " -0.014964      0.00349196   -0.00709613       0.0958068    0.148054"
      ]
     },
     "metadata": {},
     "output_type": "display_data"
    }
   ],
   "source": [
    "H_b"
   ]
  },
  {
   "cell_type": "code",
   "execution_count": 63,
   "id": "6f4bcd9c-4167-4b07-863d-afd1e7b88fa8",
   "metadata": {
    "tags": []
   },
   "outputs": [],
   "source": [
    "@assert isapprox(H, H_b[:, :, 1] + H_b[:, :, 2], atol=.05)"
   ]
  },
  {
   "attachments": {},
   "cell_type": "markdown",
   "id": "5e2dd4c7-3d01-4080-976b-ef3286eec6e9",
   "metadata": {},
   "source": [
    "## Sanity check"
   ]
  },
  {
   "cell_type": "code",
   "execution_count": 64,
   "id": "0c869ea6-6d66-49de-b649-2b7b127858bb",
   "metadata": {
    "tags": []
   },
   "outputs": [
    {
     "data": {
      "text/plain": [
       "zip([[6.890818797403573], [0.26043975403126574], [3.531508829900008], [1.1006431286934388], [7.444971612833461], [6.9055480307075765], [7.096606595920804], [7.49290808338976], [7.886053029307477], [1.9954021528253456]  …  [1.0126553374571472], [3.1642602669955346], [5.1392679687161955], [2.308002086996864], [7.878664260943012], [6.128956950142811], [2.8510610517270507], [2.500786700142399], [6.627403099097526], [6.563289310410638]], [0.01548584004498288, 0.0650502542475323, -0.466806016348434, 1.0643227230458363, 0.8084199374169351, 0.3694085963699799, 0.8605000431231095, 1.217079975762081, 0.8372465451682657, 1.0274790781864027  …  0.616120436749096, 0.3727942823307355, -1.245267664673427, 0.6760783565161077, 1.5992073824265285, -0.9113091145217157, 0.11834121182959989, 0.3930714012847796, 0.2987255761617808, 0.9730906195136584])"
      ]
     },
     "metadata": {},
     "output_type": "display_data"
    }
   ],
   "source": [
    "data"
   ]
  },
  {
   "cell_type": "code",
   "execution_count": 65,
   "id": "9ac2845b-1642-4394-b261-9e3908988049",
   "metadata": {
    "tags": []
   },
   "outputs": [
    {
     "data": {
      "text/plain": [
       "fit_la_unbatched (generic function with 1 method)"
      ]
     },
     "metadata": {},
     "output_type": "display_data"
    }
   ],
   "source": [
    "function fit_la_unbatched(nn, data, X, y)\n",
    "    la = Laplace(nn; likelihood=:regression, λ=λ, subset_of_weights=:all)\n",
    "    fit!(la, data)\n",
    "    plot(la, X, y)\n",
    "end"
   ]
  },
  {
   "cell_type": "code",
   "execution_count": 66,
   "id": "bd1ff431-bd9e-4587-8ac1-50e73bc33cf4",
   "metadata": {
    "tags": []
   },
   "outputs": [
    {
     "data": {
      "text/plain": [
       "128-element DataLoader(::Tuple{Matrix{Float64}, Matrix{Float64}}, batchsize=128)\n",
       "  with first element:\n",
       "  (1×128 Matrix{Float64}, 1×128 Matrix{Float64},)"
      ]
     },
     "metadata": {},
     "output_type": "display_data"
    }
   ],
   "source": [
    "dataloader_128 = DataLoader((X, Y), batchsize=128)"
   ]
  },
  {
   "cell_type": "code",
   "execution_count": 67,
   "id": "1ca15c9a-0fd0-4e2c-b558-bee83e585787",
   "metadata": {
    "tags": []
   },
   "outputs": [
    {
     "data": {
      "text/plain": [
       "16384-element DataLoader(::Tuple{Matrix{Float64}, Matrix{Float64}})\n",
       "  with first element:\n",
       "  (1×1 Matrix{Float64}, 1×1 Matrix{Float64},)"
      ]
     },
     "metadata": {},
     "output_type": "display_data"
    }
   ],
   "source": [
    "dataloader_1 = DataLoader((X, Y), batchsize=1)"
   ]
  },
  {
   "cell_type": "code",
   "execution_count": 68,
   "id": "3e5cdf7f-7e0d-4f46-a81f-f1f9ef8a3c26",
   "metadata": {
    "tags": []
   },
   "outputs": [
    {
     "data": {
      "text/plain": [
       "8192-element DataLoader(::Tuple{Matrix{Float64}, Matrix{Float64}}, batchsize=2)\n",
       "  with first element:\n",
       "  (1×2 Matrix{Float64}, 1×2 Matrix{Float64},)"
      ]
     },
     "metadata": {},
     "output_type": "display_data"
    }
   ],
   "source": [
    "dataloader_2 = DataLoader((X, Y), batchsize=2)"
   ]
  },
  {
   "cell_type": "code",
   "execution_count": 69,
   "id": "20aa6f70-69da-49e1-97b9-1edca9d00ce8",
   "metadata": {
    "tags": []
   },
   "outputs": [
    {
     "data": {
      "text/plain": [
       "fit_la_batched (generic function with 1 method)"
      ]
     },
     "metadata": {},
     "output_type": "display_data"
    }
   ],
   "source": [
    "function fit_la_batched(nn, dataloader, X, y)\n",
    "    la_b = Laplace(nn; likelihood=:regression, λ=λ, subset_of_weights=:all)\n",
    "    fit!(la_b, dataloader)\n",
    "    plot(la_b, X, y)\n",
    "end"
   ]
  },
  {
   "cell_type": "code",
   "execution_count": 70,
   "id": "a383df86-8d1e-4f51-97aa-29d2d653ed15",
   "metadata": {
    "tags": []
   },
   "outputs": [
    {
     "ename": "UndefVarError",
     "evalue": "UndefVarError: `la_b` not defined",
     "output_type": "error",
     "traceback": [
      "UndefVarError: `la_b` not defined\n",
      "\n",
      "Stacktrace:\n",
      " [1] top-level scope\n",
      "   @ c:\\Users\\Andrei\\LaplaceRedux.jl\\src\\Trials-02.ipynb:1"
     ]
    }
   ],
   "source": [
    "isapprox(la_b.H, la.H, atol=.005)"
   ]
  },
  {
   "cell_type": "code",
   "execution_count": 71,
   "id": "c68c1f18-2d98-4d79-8a11-a1920707000b",
   "metadata": {
    "tags": []
   },
   "outputs": [
    {
     "data": {
      "text/plain": [
       "8192"
      ]
     },
     "metadata": {},
     "output_type": "display_data"
    }
   ],
   "source": [
    "length(dataloader)"
   ]
  },
  {
   "cell_type": "code",
   "execution_count": 72,
   "id": "92b3ee16-ee78-44be-9407-c369c26f3b70",
   "metadata": {
    "tags": []
   },
   "outputs": [
    {
     "data": {
      "text/plain": [
       "BenchmarkTools.Trial: 6 samples with 1 evaluation.\n",
       " Range \u001b[90m(\u001b[39m\u001b[36m\u001b[1mmin\u001b[22m\u001b[39m … \u001b[35mmax\u001b[39m\u001b[90m):  \u001b[39m\u001b[36m\u001b[1m761.406 ms\u001b[22m\u001b[39m … \u001b[35m948.132 ms\u001b[39m  \u001b[90m┊\u001b[39m GC \u001b[90m(\u001b[39mmin … max\u001b[90m): \u001b[39m14.65% … 14.59%\n",
       " Time  \u001b[90m(\u001b[39m\u001b[34m\u001b[1mmedian\u001b[22m\u001b[39m\u001b[90m):     \u001b[39m\u001b[34m\u001b[1m855.867 ms               \u001b[22m\u001b[39m\u001b[90m┊\u001b[39m GC \u001b[90m(\u001b[39mmedian\u001b[90m):    \u001b[39m14.76%\n",
       " Time  \u001b[90m(\u001b[39m\u001b[32m\u001b[1mmean\u001b[22m\u001b[39m ± \u001b[32mσ\u001b[39m\u001b[90m):   \u001b[39m\u001b[32m\u001b[1m853.590 ms\u001b[22m\u001b[39m ± \u001b[32m 59.339 ms\u001b[39m  \u001b[90m┊\u001b[39m GC \u001b[90m(\u001b[39mmean ± σ\u001b[90m):  \u001b[39m14.74% ±  0.36%\n",
       "\n",
       "  \u001b[39m▁\u001b[39m \u001b[39m \u001b[39m \u001b[39m \u001b[39m \u001b[39m \u001b[39m \u001b[39m \u001b[39m \u001b[39m \u001b[39m \u001b[39m \u001b[39m \u001b[39m \u001b[39m \u001b[39m \u001b[39m \u001b[39m \u001b[39m \u001b[39m \u001b[39m \u001b[39m \u001b[39m \u001b[39m \u001b[39m \u001b[39m▁\u001b[39m \u001b[39m \u001b[39m \u001b[32m▁\u001b[39m\u001b[34m█\u001b[39m\u001b[39m \u001b[39m \u001b[39m \u001b[39m \u001b[39m \u001b[39m \u001b[39m \u001b[39m \u001b[39m \u001b[39m \u001b[39m \u001b[39m \u001b[39m \u001b[39m \u001b[39m \u001b[39m \u001b[39m \u001b[39m \u001b[39m \u001b[39m \u001b[39m \u001b[39m \u001b[39m \u001b[39m \u001b[39m \u001b[39m \u001b[39m \u001b[39m \u001b[39m▁\u001b[39m \u001b[39m \n",
       "  \u001b[39m█\u001b[39m▁\u001b[39m▁\u001b[39m▁\u001b[39m▁\u001b[39m▁\u001b[39m▁\u001b[39m▁\u001b[39m▁\u001b[39m▁\u001b[39m▁\u001b[39m▁\u001b[39m▁\u001b[39m▁\u001b[39m▁\u001b[39m▁\u001b[39m▁\u001b[39m▁\u001b[39m▁\u001b[39m▁\u001b[39m▁\u001b[39m▁\u001b[39m▁\u001b[39m▁\u001b[39m▁\u001b[39m▁\u001b[39m█\u001b[39m▁\u001b[39m▁\u001b[39m▁\u001b[32m█\u001b[39m\u001b[34m█\u001b[39m\u001b[39m▁\u001b[39m▁\u001b[39m▁\u001b[39m▁\u001b[39m▁\u001b[39m▁\u001b[39m▁\u001b[39m▁\u001b[39m▁\u001b[39m▁\u001b[39m▁\u001b[39m▁\u001b[39m▁\u001b[39m▁\u001b[39m▁\u001b[39m▁\u001b[39m▁\u001b[39m▁\u001b[39m▁\u001b[39m▁\u001b[39m▁\u001b[39m▁\u001b[39m▁\u001b[39m▁\u001b[39m▁\u001b[39m▁\u001b[39m▁\u001b[39m▁\u001b[39m█\u001b[39m \u001b[39m▁\n",
       "  761 ms\u001b[90m           Histogram: frequency by time\u001b[39m          948 ms \u001b[0m\u001b[1m<\u001b[22m\n",
       "\n",
       " Memory estimate\u001b[90m: \u001b[39m\u001b[33m1.95 GiB\u001b[39m, allocs estimate\u001b[90m: \u001b[39m\u001b[33m2779292\u001b[39m."
      ]
     },
     "metadata": {},
     "output_type": "display_data"
    }
   ],
   "source": [
    "@benchmark fit_la_unbatched($nn, $data, $X, $y)"
   ]
  },
  {
   "cell_type": "code",
   "execution_count": 73,
   "id": "0bfbd90e-a6ce-4bc5-a526-3dc7e6ee67dd",
   "metadata": {
    "tags": []
   },
   "outputs": [
    {
     "data": {
      "text/plain": [
       "BenchmarkTools.Trial: 137 samples with 1 evaluation.\n",
       " Range \u001b[90m(\u001b[39m\u001b[36m\u001b[1mmin\u001b[22m\u001b[39m … \u001b[35mmax\u001b[39m\u001b[90m):  \u001b[39m\u001b[36m\u001b[1m26.382 ms\u001b[22m\u001b[39m … \u001b[35m56.091 ms\u001b[39m  \u001b[90m┊\u001b[39m GC \u001b[90m(\u001b[39mmin … max\u001b[90m): \u001b[39m0.00% … 16.39%\n",
       " Time  \u001b[90m(\u001b[39m\u001b[34m\u001b[1mmedian\u001b[22m\u001b[39m\u001b[90m):     \u001b[39m\u001b[34m\u001b[1m36.550 ms              \u001b[22m\u001b[39m\u001b[90m┊\u001b[39m GC \u001b[90m(\u001b[39mmedian\u001b[90m):    \u001b[39m9.72%\n",
       " Time  \u001b[90m(\u001b[39m\u001b[32m\u001b[1mmean\u001b[22m\u001b[39m ± \u001b[32mσ\u001b[39m\u001b[90m):   \u001b[39m\u001b[32m\u001b[1m36.700 ms\u001b[22m\u001b[39m ± \u001b[32m 5.110 ms\u001b[39m  \u001b[90m┊\u001b[39m GC \u001b[90m(\u001b[39mmean ± σ\u001b[90m):  \u001b[39m7.98% ±  4.73%\n",
       "\n",
       "  \u001b[39m \u001b[39m \u001b[39m \u001b[39m \u001b[39m \u001b[39m \u001b[39m \u001b[39m \u001b[39m \u001b[39m▃\u001b[39m \u001b[39m \u001b[39m▁\u001b[39m▆\u001b[39m \u001b[39m▃\u001b[39m▃\u001b[39m▁\u001b[39m█\u001b[39m \u001b[39m▁\u001b[39m \u001b[39m \u001b[34m▆\u001b[39m\u001b[39m \u001b[39m▁\u001b[39m \u001b[39m▄\u001b[39m▃\u001b[39m \u001b[39m \u001b[39m \u001b[39m▄\u001b[39m▃\u001b[39m \u001b[39m▃\u001b[39m \u001b[39m \u001b[39m \u001b[39m \u001b[39m \u001b[39m \u001b[39m \u001b[39m \u001b[39m \u001b[39m \u001b[39m \u001b[39m \u001b[39m \u001b[39m \u001b[39m \u001b[39m \u001b[39m \u001b[39m \u001b[39m \u001b[39m \u001b[39m \u001b[39m \u001b[39m \u001b[39m \u001b[39m \n",
       "  \u001b[39m▄\u001b[39m▄\u001b[39m▁\u001b[39m▁\u001b[39m▆\u001b[39m▁\u001b[39m▆\u001b[39m▇\u001b[39m▆\u001b[39m█\u001b[39m▇\u001b[39m▇\u001b[39m█\u001b[39m█\u001b[39m▇\u001b[39m█\u001b[39m█\u001b[39m█\u001b[39m█\u001b[39m▇\u001b[39m█\u001b[39m▄\u001b[39m▆\u001b[34m█\u001b[39m\u001b[39m▇\u001b[39m█\u001b[39m▇\u001b[39m█\u001b[39m█\u001b[39m▆\u001b[39m▄\u001b[39m▆\u001b[39m█\u001b[39m█\u001b[39m▇\u001b[39m█\u001b[39m▇\u001b[39m▆\u001b[39m▁\u001b[39m▇\u001b[39m▇\u001b[39m▁\u001b[39m▄\u001b[39m▄\u001b[39m▁\u001b[39m▁\u001b[39m▁\u001b[39m▄\u001b[39m▁\u001b[39m▄\u001b[39m▁\u001b[39m▁\u001b[39m▁\u001b[39m▁\u001b[39m▁\u001b[39m▁\u001b[39m▁\u001b[39m▁\u001b[39m▄\u001b[39m \u001b[39m▄\n",
       "  26.4 ms\u001b[90m         Histogram: frequency by time\u001b[39m        52.4 ms \u001b[0m\u001b[1m<\u001b[22m\n",
       "\n",
       " Memory estimate\u001b[90m: \u001b[39m\u001b[33m33.02 MiB\u001b[39m, allocs estimate\u001b[90m: \u001b[39m\u001b[33m33067\u001b[39m."
      ]
     },
     "metadata": {},
     "output_type": "display_data"
    }
   ],
   "source": [
    "@benchmark fit_la_batched($nn, $dataloader_128, $X, $y)"
   ]
  },
  {
   "cell_type": "code",
   "execution_count": 74,
   "id": "aaa67782-0167-4d08-8a45-5cd428d57009",
   "metadata": {
    "tags": []
   },
   "outputs": [
    {
     "data": {
      "text/plain": [
       "BenchmarkTools.Trial: 6 samples with 1 evaluation.\n",
       " Range \u001b[90m(\u001b[39m\u001b[36m\u001b[1mmin\u001b[22m\u001b[39m … \u001b[35mmax\u001b[39m\u001b[90m):  \u001b[39m\u001b[36m\u001b[1m793.336 ms\u001b[22m\u001b[39m … \u001b[35m886.060 ms\u001b[39m  \u001b[90m┊\u001b[39m GC \u001b[90m(\u001b[39mmin … max\u001b[90m): \u001b[39m14.24% … 14.78%\n",
       " Time  \u001b[90m(\u001b[39m\u001b[34m\u001b[1mmedian\u001b[22m\u001b[39m\u001b[90m):     \u001b[39m\u001b[34m\u001b[1m864.310 ms               \u001b[22m\u001b[39m\u001b[90m┊\u001b[39m GC \u001b[90m(\u001b[39mmedian\u001b[90m):    \u001b[39m14.04%\n",
       " Time  \u001b[90m(\u001b[39m\u001b[32m\u001b[1mmean\u001b[22m\u001b[39m ± \u001b[32mσ\u001b[39m\u001b[90m):   \u001b[39m\u001b[32m\u001b[1m849.946 ms\u001b[22m\u001b[39m ± \u001b[32m 35.433 ms\u001b[39m  \u001b[90m┊\u001b[39m GC \u001b[90m(\u001b[39mmean ± σ\u001b[90m):  \u001b[39m14.27% ±  0.45%\n",
       "\n",
       "  \u001b[39m█\u001b[39m \u001b[39m \u001b[39m \u001b[39m \u001b[39m \u001b[39m \u001b[39m \u001b[39m \u001b[39m \u001b[39m \u001b[39m \u001b[39m \u001b[39m \u001b[39m \u001b[39m \u001b[39m \u001b[39m█\u001b[39m \u001b[39m \u001b[39m \u001b[39m \u001b[39m \u001b[39m \u001b[39m \u001b[39m \u001b[39m \u001b[39m \u001b[39m \u001b[39m \u001b[39m \u001b[39m \u001b[39m \u001b[39m \u001b[39m \u001b[39m \u001b[39m \u001b[32m \u001b[39m\u001b[39m \u001b[39m \u001b[39m \u001b[39m \u001b[39m \u001b[39m \u001b[39m \u001b[34m█\u001b[39m\u001b[39m \u001b[39m \u001b[39m█\u001b[39m \u001b[39m \u001b[39m█\u001b[39m \u001b[39m \u001b[39m \u001b[39m \u001b[39m \u001b[39m \u001b[39m \u001b[39m \u001b[39m█\u001b[39m \u001b[39m \n",
       "  \u001b[39m█\u001b[39m▁\u001b[39m▁\u001b[39m▁\u001b[39m▁\u001b[39m▁\u001b[39m▁\u001b[39m▁\u001b[39m▁\u001b[39m▁\u001b[39m▁\u001b[39m▁\u001b[39m▁\u001b[39m▁\u001b[39m▁\u001b[39m▁\u001b[39m▁\u001b[39m█\u001b[39m▁\u001b[39m▁\u001b[39m▁\u001b[39m▁\u001b[39m▁\u001b[39m▁\u001b[39m▁\u001b[39m▁\u001b[39m▁\u001b[39m▁\u001b[39m▁\u001b[39m▁\u001b[39m▁\u001b[39m▁\u001b[39m▁\u001b[39m▁\u001b[39m▁\u001b[39m▁\u001b[39m▁\u001b[32m▁\u001b[39m\u001b[39m▁\u001b[39m▁\u001b[39m▁\u001b[39m▁\u001b[39m▁\u001b[39m▁\u001b[39m▁\u001b[34m█\u001b[39m\u001b[39m▁\u001b[39m▁\u001b[39m█\u001b[39m▁\u001b[39m▁\u001b[39m█\u001b[39m▁\u001b[39m▁\u001b[39m▁\u001b[39m▁\u001b[39m▁\u001b[39m▁\u001b[39m▁\u001b[39m▁\u001b[39m█\u001b[39m \u001b[39m▁\n",
       "  793 ms\u001b[90m           Histogram: frequency by time\u001b[39m          886 ms \u001b[0m\u001b[1m<\u001b[22m\n",
       "\n",
       " Memory estimate\u001b[90m: \u001b[39m\u001b[33m1.95 GiB\u001b[39m, allocs estimate\u001b[90m: \u001b[39m\u001b[33m2762413\u001b[39m."
      ]
     },
     "metadata": {},
     "output_type": "display_data"
    }
   ],
   "source": [
    "@benchmark fit_la_batched($nn, $dataloader_1, $X, $y)"
   ]
  },
  {
   "cell_type": "code",
   "execution_count": 75,
   "id": "062452ab-c467-48dd-8f90-bcd89ec4f233",
   "metadata": {
    "tags": []
   },
   "outputs": [
    {
     "data": {
      "text/plain": [
       "BenchmarkTools.Trial: 12 samples with 1 evaluation.\n",
       " Range \u001b[90m(\u001b[39m\u001b[36m\u001b[1mmin\u001b[22m\u001b[39m … \u001b[35mmax\u001b[39m\u001b[90m):  \u001b[39m\u001b[36m\u001b[1m361.541 ms\u001b[22m\u001b[39m … \u001b[35m504.637 ms\u001b[39m  \u001b[90m┊\u001b[39m GC \u001b[90m(\u001b[39mmin … max\u001b[90m): \u001b[39m16.55% … 13.99%\n",
       " Time  \u001b[90m(\u001b[39m\u001b[34m\u001b[1mmedian\u001b[22m\u001b[39m\u001b[90m):     \u001b[39m\u001b[34m\u001b[1m416.384 ms               \u001b[22m\u001b[39m\u001b[90m┊\u001b[39m GC \u001b[90m(\u001b[39mmedian\u001b[90m):    \u001b[39m14.60%\n",
       " Time  \u001b[90m(\u001b[39m\u001b[32m\u001b[1mmean\u001b[22m\u001b[39m ± \u001b[32mσ\u001b[39m\u001b[90m):   \u001b[39m\u001b[32m\u001b[1m430.859 ms\u001b[22m\u001b[39m ± \u001b[32m 51.180 ms\u001b[39m  \u001b[90m┊\u001b[39m GC \u001b[90m(\u001b[39mmean ± σ\u001b[90m):  \u001b[39m14.38% ±  1.11%\n",
       "\n",
       "  \u001b[39m█\u001b[39m \u001b[39m█\u001b[39m \u001b[39m \u001b[39m \u001b[39m \u001b[39m█\u001b[39m \u001b[39m \u001b[39m \u001b[39m \u001b[39m \u001b[39m \u001b[39m \u001b[39m \u001b[39m \u001b[39m \u001b[39m█\u001b[39m \u001b[39m█\u001b[34m█\u001b[39m\u001b[39m \u001b[39m \u001b[39m \u001b[39m█\u001b[39m \u001b[39m \u001b[39m \u001b[39m \u001b[32m \u001b[39m\u001b[39m \u001b[39m \u001b[39m \u001b[39m \u001b[39m \u001b[39m \u001b[39m \u001b[39m \u001b[39m█\u001b[39m \u001b[39m \u001b[39m \u001b[39m█\u001b[39m \u001b[39m \u001b[39m \u001b[39m \u001b[39m \u001b[39m \u001b[39m \u001b[39m \u001b[39m \u001b[39m \u001b[39m \u001b[39m█\u001b[39m \u001b[39m \u001b[39m \u001b[39m█\u001b[39m█\u001b[39m \u001b[39m \n",
       "  \u001b[39m█\u001b[39m▁\u001b[39m█\u001b[39m▁\u001b[39m▁\u001b[39m▁\u001b[39m▁\u001b[39m█\u001b[39m▁\u001b[39m▁\u001b[39m▁\u001b[39m▁\u001b[39m▁\u001b[39m▁\u001b[39m▁\u001b[39m▁\u001b[39m▁\u001b[39m▁\u001b[39m█\u001b[39m▁\u001b[39m█\u001b[34m█\u001b[39m\u001b[39m▁\u001b[39m▁\u001b[39m▁\u001b[39m█\u001b[39m▁\u001b[39m▁\u001b[39m▁\u001b[39m▁\u001b[32m▁\u001b[39m\u001b[39m▁\u001b[39m▁\u001b[39m▁\u001b[39m▁\u001b[39m▁\u001b[39m▁\u001b[39m▁\u001b[39m▁\u001b[39m█\u001b[39m▁\u001b[39m▁\u001b[39m▁\u001b[39m█\u001b[39m▁\u001b[39m▁\u001b[39m▁\u001b[39m▁\u001b[39m▁\u001b[39m▁\u001b[39m▁\u001b[39m▁\u001b[39m▁\u001b[39m▁\u001b[39m▁\u001b[39m█\u001b[39m▁\u001b[39m▁\u001b[39m▁\u001b[39m█\u001b[39m█\u001b[39m \u001b[39m▁\n",
       "  362 ms\u001b[90m           Histogram: frequency by time\u001b[39m          505 ms \u001b[0m\u001b[1m<\u001b[22m\n",
       "\n",
       " Memory estimate\u001b[90m: \u001b[39m\u001b[33m1013.77 MiB\u001b[39m, allocs estimate\u001b[90m: \u001b[39m\u001b[33m1468077\u001b[39m."
      ]
     },
     "metadata": {},
     "output_type": "display_data"
    }
   ],
   "source": [
    "@benchmark fit_la_batched($nn, $dataloader_2, $X, $y)"
   ]
  },
  {
   "cell_type": "code",
   "execution_count": 76,
   "id": "89eb97ce-3dec-40ce-99cc-5fe86dca2df7",
   "metadata": {
    "tags": []
   },
   "outputs": [
    {
     "data": {
      "text/plain": [
       "run_batched (generic function with 1 method)"
      ]
     },
     "metadata": {},
     "output_type": "display_data"
    }
   ],
   "source": [
    "# Benchmarking with globals\n",
    "\n",
    "function run_unbatched()\n",
    "    la = Laplace(nn; likelihood=:regression, λ=λ, subset_of_weights=:all)\n",
    "    fit!(la, data)\n",
    "    plot(la, X, y)\n",
    "end\n",
    "\n",
    "function run_batched()\n",
    "    la_b = Laplace(nn; likelihood=:regression, λ=λ, subset_of_weights=:all)\n",
    "    fit!(la_b, dataloader_128)\n",
    "    plot(la_b, X, y)\n",
    "end"
   ]
  },
  {
   "cell_type": "code",
   "execution_count": 80,
   "id": "ad33af18-44e3-462a-9464-e0db579224ce",
   "metadata": {
    "tags": []
   },
   "outputs": [
    {
     "data": {
      "text/plain": [
       "BenchmarkTools.Trial: 7 samples with 1 evaluation.\n",
       " Range \u001b[90m(\u001b[39m\u001b[36m\u001b[1mmin\u001b[22m\u001b[39m … \u001b[35mmax\u001b[39m\u001b[90m):  \u001b[39m\u001b[36m\u001b[1m747.493 ms\u001b[22m\u001b[39m … \u001b[35m885.277 ms\u001b[39m  \u001b[90m┊\u001b[39m GC \u001b[90m(\u001b[39mmin … max\u001b[90m): \u001b[39m13.99% … 14.70%\n",
       " Time  \u001b[90m(\u001b[39m\u001b[34m\u001b[1mmedian\u001b[22m\u001b[39m\u001b[90m):     \u001b[39m\u001b[34m\u001b[1m828.813 ms               \u001b[22m\u001b[39m\u001b[90m┊\u001b[39m GC \u001b[90m(\u001b[39mmedian\u001b[90m):    \u001b[39m14.36%\n",
       " Time  \u001b[90m(\u001b[39m\u001b[32m\u001b[1mmean\u001b[22m\u001b[39m ± \u001b[32mσ\u001b[39m\u001b[90m):   \u001b[39m\u001b[32m\u001b[1m821.796 ms\u001b[22m\u001b[39m ± \u001b[32m 53.276 ms\u001b[39m  \u001b[90m┊\u001b[39m GC \u001b[90m(\u001b[39mmean ± σ\u001b[90m):  \u001b[39m14.38% ±  0.27%\n",
       "\n",
       "  \u001b[39m█\u001b[39m \u001b[39m \u001b[39m \u001b[39m \u001b[39m \u001b[39m \u001b[39m \u001b[39m \u001b[39m \u001b[39m \u001b[39m \u001b[39m \u001b[39m█\u001b[39m \u001b[39m \u001b[34m█\u001b[39m\u001b[39m \u001b[39m \u001b[39m \u001b[39m \u001b[39m \u001b[39m \u001b[39m \u001b[39m \u001b[39m \u001b[39m \u001b[39m \u001b[39m \u001b[39m \u001b[39m \u001b[39m \u001b[39m \u001b[32m \u001b[39m\u001b[39m \u001b[39m \u001b[39m█\u001b[39m \u001b[39m \u001b[39m \u001b[39m \u001b[39m \u001b[39m \u001b[39m \u001b[39m \u001b[39m█\u001b[39m \u001b[39m \u001b[39m \u001b[39m \u001b[39m \u001b[39m \u001b[39m \u001b[39m \u001b[39m \u001b[39m \u001b[39m \u001b[39m█\u001b[39m \u001b[39m \u001b[39m█\u001b[39m \u001b[39m \n",
       "  \u001b[39m█\u001b[39m▁\u001b[39m▁\u001b[39m▁\u001b[39m▁\u001b[39m▁\u001b[39m▁\u001b[39m▁\u001b[39m▁\u001b[39m▁\u001b[39m▁\u001b[39m▁\u001b[39m▁\u001b[39m█\u001b[39m▁\u001b[39m▁\u001b[34m█\u001b[39m\u001b[39m▁\u001b[39m▁\u001b[39m▁\u001b[39m▁\u001b[39m▁\u001b[39m▁\u001b[39m▁\u001b[39m▁\u001b[39m▁\u001b[39m▁\u001b[39m▁\u001b[39m▁\u001b[39m▁\u001b[39m▁\u001b[39m▁\u001b[39m▁\u001b[32m▁\u001b[39m\u001b[39m▁\u001b[39m▁\u001b[39m█\u001b[39m▁\u001b[39m▁\u001b[39m▁\u001b[39m▁\u001b[39m▁\u001b[39m▁\u001b[39m▁\u001b[39m▁\u001b[39m█\u001b[39m▁\u001b[39m▁\u001b[39m▁\u001b[39m▁\u001b[39m▁\u001b[39m▁\u001b[39m▁\u001b[39m▁\u001b[39m▁\u001b[39m▁\u001b[39m▁\u001b[39m█\u001b[39m▁\u001b[39m▁\u001b[39m█\u001b[39m \u001b[39m▁\n",
       "  747 ms\u001b[90m           Histogram: frequency by time\u001b[39m          885 ms \u001b[0m\u001b[1m<\u001b[22m\n",
       "\n",
       " Memory estimate\u001b[90m: \u001b[39m\u001b[33m1.95 GiB\u001b[39m, allocs estimate\u001b[90m: \u001b[39m\u001b[33m2779292\u001b[39m."
      ]
     },
     "metadata": {},
     "output_type": "display_data"
    }
   ],
   "source": [
    "@benchmark run_unbatched()"
   ]
  },
  {
   "cell_type": "code",
   "execution_count": 81,
   "id": "f9cc2c6a-d9b6-4861-8f66-aaf497cfef9f",
   "metadata": {
    "tags": []
   },
   "outputs": [
    {
     "data": {
      "text/plain": [
       "BenchmarkTools.Trial: 130 samples with 1 evaluation.\n",
       " Range \u001b[90m(\u001b[39m\u001b[36m\u001b[1mmin\u001b[22m\u001b[39m … \u001b[35mmax\u001b[39m\u001b[90m):  \u001b[39m\u001b[36m\u001b[1m29.107 ms\u001b[22m\u001b[39m … \u001b[35m53.286 ms\u001b[39m  \u001b[90m┊\u001b[39m GC \u001b[90m(\u001b[39mmin … max\u001b[90m): \u001b[39m0.00% … 8.66%\n",
       " Time  \u001b[90m(\u001b[39m\u001b[34m\u001b[1mmedian\u001b[22m\u001b[39m\u001b[90m):     \u001b[39m\u001b[34m\u001b[1m38.712 ms              \u001b[22m\u001b[39m\u001b[90m┊\u001b[39m GC \u001b[90m(\u001b[39mmedian\u001b[90m):    \u001b[39m9.34%\n",
       " Time  \u001b[90m(\u001b[39m\u001b[32m\u001b[1mmean\u001b[22m\u001b[39m ± \u001b[32mσ\u001b[39m\u001b[90m):   \u001b[39m\u001b[32m\u001b[1m38.657 ms\u001b[22m\u001b[39m ± \u001b[32m 4.578 ms\u001b[39m  \u001b[90m┊\u001b[39m GC \u001b[90m(\u001b[39mmean ± σ\u001b[90m):  \u001b[39m7.51% ± 4.33%\n",
       "\n",
       "  \u001b[39m \u001b[39m \u001b[39m \u001b[39m \u001b[39m \u001b[39m \u001b[39m \u001b[39m \u001b[39m \u001b[39m \u001b[39m▁\u001b[39m \u001b[39m \u001b[39m▄\u001b[39m▅\u001b[39m▂\u001b[39m \u001b[39m \u001b[39m \u001b[39m \u001b[39m \u001b[39m \u001b[39m \u001b[39m \u001b[34m▁\u001b[39m\u001b[39m \u001b[39m▂\u001b[39m▄\u001b[39m \u001b[39m \u001b[39m▁\u001b[39m█\u001b[39m \u001b[39m \u001b[39m \u001b[39m \u001b[39m \u001b[39m \u001b[39m \u001b[39m \u001b[39m \u001b[39m \u001b[39m \u001b[39m \u001b[39m \u001b[39m \u001b[39m \u001b[39m \u001b[39m \u001b[39m \u001b[39m \u001b[39m \u001b[39m \u001b[39m \u001b[39m \u001b[39m \u001b[39m \u001b[39m \u001b[39m \u001b[39m \u001b[39m \n",
       "  \u001b[39m▃\u001b[39m▃\u001b[39m▁\u001b[39m▁\u001b[39m▃\u001b[39m▁\u001b[39m▅\u001b[39m▃\u001b[39m▃\u001b[39m▆\u001b[39m█\u001b[39m█\u001b[39m▃\u001b[39m█\u001b[39m█\u001b[39m█\u001b[39m█\u001b[39m▅\u001b[39m▆\u001b[39m▆\u001b[39m▅\u001b[39m▅\u001b[39m█\u001b[39m█\u001b[34m█\u001b[39m\u001b[39m█\u001b[39m█\u001b[39m█\u001b[39m▃\u001b[39m█\u001b[39m█\u001b[39m█\u001b[39m▅\u001b[39m▅\u001b[39m▅\u001b[39m▆\u001b[39m▃\u001b[39m▃\u001b[39m▁\u001b[39m▁\u001b[39m▃\u001b[39m▆\u001b[39m▃\u001b[39m▁\u001b[39m▃\u001b[39m▃\u001b[39m▃\u001b[39m▃\u001b[39m▁\u001b[39m▁\u001b[39m▁\u001b[39m▁\u001b[39m▁\u001b[39m▁\u001b[39m▁\u001b[39m▁\u001b[39m▁\u001b[39m▁\u001b[39m▅\u001b[39m \u001b[39m▃\n",
       "  29.1 ms\u001b[90m         Histogram: frequency by time\u001b[39m        52.7 ms \u001b[0m\u001b[1m<\u001b[22m\n",
       "\n",
       " Memory estimate\u001b[90m: \u001b[39m\u001b[33m33.02 MiB\u001b[39m, allocs estimate\u001b[90m: \u001b[39m\u001b[33m33066\u001b[39m."
      ]
     },
     "metadata": {},
     "output_type": "display_data"
    }
   ],
   "source": [
    "@benchmark run_batched()"
   ]
  },
  {
   "cell_type": "code",
   "execution_count": 82,
   "id": "767e3d22-005e-4c83-a7a5-2d7cc16c09e5",
   "metadata": {},
   "outputs": [],
   "source": []
  }
 ],
 "metadata": {
  "kernelspec": {
   "display_name": "Julia 1.8.5",
   "language": "julia",
   "name": "julia-1.8"
  },
  "language_info": {
   "file_extension": ".jl",
   "mimetype": "application/julia",
   "name": "julia",
   "version": "1.8.5"
  }
 },
 "nbformat": 4,
 "nbformat_minor": 5
}
