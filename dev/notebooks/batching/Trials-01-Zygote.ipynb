{
 "cells": [
  {
   "attachments": {},
   "cell_type": "markdown",
   "id": "782c431a-e579-49e8-b2ba-3bf6ef351778",
   "metadata": {},
   "source": [
    "## Zygote self-autodifferentiability"
   ]
  },
  {
   "cell_type": "code",
   "execution_count": 17,
   "id": "16fdbad0",
   "metadata": {},
   "outputs": [],
   "source": [
    "using Zygote"
   ]
  },
  {
   "cell_type": "code",
   "execution_count": 18,
   "id": "28e3aa65-dd2a-4e5e-93a9-a384e24507f4",
   "metadata": {
    "tags": []
   },
   "outputs": [
    {
     "data": {
      "text/plain": [
       "fj (generic function with 1 method)"
      ]
     },
     "metadata": {},
     "output_type": "display_data"
    }
   ],
   "source": [
    "function fj(x, bias)\n",
    "    jacc = Zygote.jacobian(x->x.^2, x)\n",
    "    jac = jacc[1]\n",
    "    # @info jacc\n",
    "    @info \"jac\" jac\n",
    "    return jac * x .+ bias\n",
    "end"
   ]
  },
  {
   "cell_type": "code",
   "execution_count": 19,
   "id": "43c5126f-9b56-4f60-84d7-e2fcf069ccca",
   "metadata": {
    "tags": []
   },
   "outputs": [
    {
     "data": {
      "text/plain": [
       "fg (generic function with 1 method)"
      ]
     },
     "metadata": {},
     "output_type": "display_data"
    }
   ],
   "source": [
    "function fg(x, bias)\n",
    "    grad = Zygote.gradient(x->sum(x.^2), x)[1]\n",
    "    @info \"grad\" grad\n",
    "    return grad .* x .+ bias\n",
    "end"
   ]
  },
  {
   "cell_type": "code",
   "execution_count": 20,
   "id": "42d54201-f1a8-4e6c-9ccb-3fadcebe8b94",
   "metadata": {
    "tags": []
   },
   "outputs": [
    {
     "data": {
      "text/plain": [
       "3-element Vector{Float64}:\n",
       " 0.0\n",
       " 0.0\n",
       " 0.0"
      ]
     },
     "metadata": {},
     "output_type": "display_data"
    }
   ],
   "source": [
    "x = [1., 2., 3.]\n",
    "b = [0., 0., 0.]"
   ]
  },
  {
   "cell_type": "code",
   "execution_count": 21,
   "id": "c1811905-dd3a-431b-b4fa-8dae1281e91a",
   "metadata": {
    "tags": []
   },
   "outputs": [
    {
     "data": {
      "text/plain": [
       "altjacobian (generic function with 1 method)"
      ]
     },
     "metadata": {},
     "output_type": "display_data"
    }
   ],
   "source": [
    "function altjacobian(f, arg, outdim)\n",
    "   (reduce(vcat, map(outidx -> gradient(x -> f(x)[outidx], arg)[1]', range(1, outdim))), ) \n",
    "end"
   ]
  },
  {
   "cell_type": "code",
   "execution_count": 22,
   "id": "41a4b67f-0093-4689-9c01-c616314794d4",
   "metadata": {
    "tags": []
   },
   "outputs": [
    {
     "data": {
      "text/plain": [
       "f (generic function with 1 method)"
      ]
     },
     "metadata": {},
     "output_type": "display_data"
    }
   ],
   "source": [
    "function f(x)\n",
    "    @info \"f run\"\n",
    "    [x[1]^2, x[2] + x[3]]\n",
    "end"
   ]
  },
  {
   "cell_type": "code",
   "execution_count": 23,
   "id": "1df9f9b9-82f9-4547-9f74-a3753a9084f4",
   "metadata": {
    "tags": []
   },
   "outputs": [
    {
     "name": "stderr",
     "output_type": "stream",
     "text": [
      "┌ Info: f run\n",
      "└ @ Main c:\\Users\\Andrei\\LaplaceRedux.jl\\src\\Trials-01.ipynb:2\n"
     ]
    },
    {
     "data": {
      "text/plain": [
       "2-element Vector{Int64}:\n",
       " 4\n",
       " 7"
      ]
     },
     "metadata": {},
     "output_type": "display_data"
    }
   ],
   "source": [
    "f([2,3,4])"
   ]
  },
  {
   "cell_type": "code",
   "execution_count": 24,
   "id": "8085f84e-5065-4633-8ef8-fcf442602700",
   "metadata": {
    "tags": []
   },
   "outputs": [
    {
     "name": "stderr",
     "output_type": "stream",
     "text": [
      "┌ Info: f run\n",
      "└ @ Main c:\\Users\\Andrei\\LaplaceRedux.jl\\src\\Trials-01.ipynb:2\n"
     ]
    },
    {
     "data": {
      "text/plain": [
       "([4.0 0.0 0.0; 0.0 1.0 1.0],)"
      ]
     },
     "metadata": {},
     "output_type": "display_data"
    }
   ],
   "source": [
    "jacobian(f, [2.,3.,4.])"
   ]
  },
  {
   "cell_type": "code",
   "execution_count": 25,
   "id": "77ce19c9-83d6-4d4c-b6f1-cccd4f392f3c",
   "metadata": {
    "tags": []
   },
   "outputs": [
    {
     "name": "stderr",
     "output_type": "stream",
     "text": [
      "┌ Info: f run\n",
      "└ @ Main c:\\Users\\Andrei\\LaplaceRedux.jl\\src\\Trials-01.ipynb:2\n",
      "┌ Info: f run\n",
      "└ @ Main c:\\Users\\Andrei\\LaplaceRedux.jl\\src\\Trials-01.ipynb:2\n"
     ]
    },
    {
     "data": {
      "text/plain": [
       "([4.0 0.0 0.0; 0.0 1.0 1.0],)"
      ]
     },
     "metadata": {},
     "output_type": "display_data"
    }
   ],
   "source": [
    "altjacobian(f, [2.,3.,4.], 2)"
   ]
  },
  {
   "cell_type": "code",
   "execution_count": 26,
   "id": "cfccc454-5732-4560-8f49-374240986272",
   "metadata": {
    "tags": []
   },
   "outputs": [
    {
     "name": "stderr",
     "output_type": "stream",
     "text": [
      "┌ Info: f run\n",
      "└ @ Main c:\\Users\\Andrei\\LaplaceRedux.jl\\src\\Trials-01.ipynb:2\n"
     ]
    },
    {
     "data": {
      "text/plain": [
       "3-element Vector{Float64}:\n",
       " 4.0\n",
       " 0.0\n",
       " 0.0"
      ]
     },
     "metadata": {},
     "output_type": "display_data"
    }
   ],
   "source": [
    "g = gradient(x -> f(x)[1], [2,3,4])[1]"
   ]
  },
  {
   "cell_type": "code",
   "execution_count": 27,
   "id": "f1788ebe-34c8-4a3e-8ece-13436d03c892",
   "metadata": {
    "tags": []
   },
   "outputs": [
    {
     "data": {
      "text/plain": [
       "3-element Vector{Int64}:\n",
       " 2\n",
       " 3\n",
       " 4"
      ]
     },
     "metadata": {},
     "output_type": "display_data"
    }
   ],
   "source": [
    "arg = [2,3,4]\n"
   ]
  },
  {
   "cell_type": "code",
   "execution_count": 28,
   "id": "8041aefc-5724-4b8a-8cdf-53c4a425f7d7",
   "metadata": {
    "tags": []
   },
   "outputs": [
    {
     "data": {
      "text/plain": [
       "2×2 Matrix{Int64}:\n",
       " 1  3\n",
       " 2  4"
      ]
     },
     "metadata": {},
     "output_type": "display_data"
    }
   ],
   "source": [
    "xx = reduce(hcat, [[1, 2], [3, 4]])"
   ]
  },
  {
   "cell_type": "code",
   "execution_count": 29,
   "id": "be8e30c6-8ec7-49a4-a96d-55f46738fca6",
   "metadata": {
    "tags": []
   },
   "outputs": [
    {
     "data": {
      "text/plain": [
       "4-element Vector{Int64}:\n",
       " 0\n",
       " 0\n",
       " 0\n",
       " 0"
      ]
     },
     "metadata": {},
     "output_type": "display_data"
    }
   ],
   "source": [
    "jacobian(x -> xx, 0)[1]"
   ]
  },
  {
   "cell_type": "code",
   "execution_count": 30,
   "id": "3d601630-08cc-40b4-a863-c7838d323443",
   "metadata": {},
   "outputs": [
    {
     "name": "stderr",
     "output_type": "stream",
     "text": [
      "┌ Info: jac\n",
      "│   jac = [2.0 0.0 0.0; 0.0 4.0 0.0; 0.0 0.0 6.0]\n",
      "└ @ Main c:\\Users\\Andrei\\LaplaceRedux.jl\\src\\Trials-01.ipynb:5\n"
     ]
    },
    {
     "data": {
      "text/plain": [
       "3-element Vector{Float64}:\n",
       "  2.0\n",
       "  8.0\n",
       " 18.0"
      ]
     },
     "metadata": {},
     "output_type": "display_data"
    }
   ],
   "source": [
    "fj(x, b)"
   ]
  },
  {
   "cell_type": "code",
   "execution_count": 31,
   "id": "e1eb1b35-e854-44dc-bf58-468198233c60",
   "metadata": {
    "tags": []
   },
   "outputs": [
    {
     "name": "stderr",
     "output_type": "stream",
     "text": [
      "┌ Info: grad\n",
      "│   grad = [2.0, 4.0, 6.0]\n",
      "└ @ Main c:\\Users\\Andrei\\LaplaceRedux.jl\\src\\Trials-01.ipynb:3\n"
     ]
    },
    {
     "data": {
      "text/plain": [
       "3-element Vector{Float64}:\n",
       "  2.0\n",
       "  8.0\n",
       " 18.0"
      ]
     },
     "metadata": {},
     "output_type": "display_data"
    }
   ],
   "source": [
    "fg(x, [0, 0, 0])"
   ]
  },
  {
   "cell_type": "code",
   "execution_count": 32,
   "id": "f6de832b-8982-4d51-a812-1b950c75fac8",
   "metadata": {
    "tags": []
   },
   "outputs": [
    {
     "name": "stderr",
     "output_type": "stream",
     "text": [
      "┌ Info: jac\n",
      "│   jac = [2.0 0.0 0.0; 0.0 4.0 0.0; 0.0 0.0 6.0]\n",
      "└ @ Main c:\\Users\\Andrei\\LaplaceRedux.jl\\src\\Trials-01.ipynb:5\n"
     ]
    },
    {
     "ename": "ErrorException",
     "evalue": "Mutating arrays is not supported -- called copyto!(SubArray{Float64, 1, Matrix{Float64}, Tuple{Int64, Base.Slice{Base.OneTo{Int64}}}, true}, ...)\nThis error occurs when you ask Zygote to differentiate operations that change\nthe elements of arrays in place (e.g. setting values with x .= ...)\n\nPossible fixes:\n- avoid mutating operations (preferred)\n- or read the documentation and solutions for this error\n  https://fluxml.ai/Zygote.jl/latest/limitations\n",
     "output_type": "error",
     "traceback": [
      "Mutating arrays is not supported -- called copyto!(SubArray{Float64, 1, Matrix{Float64}, Tuple{Int64, Base.Slice{Base.OneTo{Int64}}}, true}, ...)\n",
      "This error occurs when you ask Zygote to differentiate operations that change\n",
      "the elements of arrays in place (e.g. setting values with x .= ...)\n",
      "\n",
      "Possible fixes:\n",
      "- avoid mutating operations (preferred)\n",
      "- or read the documentation and solutions for this error\n",
      "  https://fluxml.ai/Zygote.jl/latest/limitations\n",
      "\n",
      "\n",
      "Stacktrace:\n",
      "  [1] error(s::String)\n",
      "    @ Base .\\error.jl:35\n",
      "  [2] _throw_mutation_error(f::Function, args::SubArray{Float64, 1, Matrix{Float64}, Tuple{Int64, Base.Slice{Base.OneTo{Int64}}}, true})\n",
      "    @ Zygote C:\\Users\\Andrei\\.julia\\packages\\Zygote\\HTsWj\\src\\lib\\array.jl:88\n",
      "  [3] (::Zygote.var\"#555#556\"{SubArray{Float64, 1, Matrix{Float64}, Tuple{Int64, Base.Slice{Base.OneTo{Int64}}}, true}})(#unused#::Nothing)\n",
      "    @ Zygote C:\\Users\\Andrei\\.julia\\packages\\Zygote\\HTsWj\\src\\lib\\array.jl:103\n",
      "  [4] (::Zygote.var\"#2653#back#557\"{Zygote.var\"#555#556\"{SubArray{Float64, 1, Matrix{Float64}, Tuple{Int64, Base.Slice{Base.OneTo{Int64}}}, true}}})(Δ::Nothing)\n",
      "    @ Zygote C:\\Users\\Andrei\\.julia\\packages\\ZygoteRules\\OgCVT\\src\\adjoint.jl:71\n",
      "  [5] Pullback\n",
      "    @ C:\\Users\\Andrei\\.julia\\packages\\Zygote\\HTsWj\\src\\lib\\grad.jl:171 [inlined]\n",
      "  [6] (::Zygote.Pullback{Tuple{typeof(Zygote._gradcopy!), SubArray{Float64, 1, Matrix{Float64}, Tuple{Int64, Base.Slice{Base.OneTo{Int64}}}, true}, Vector{Float64}}, Tuple{Zygote.var\"#2653#back#557\"{Zygote.var\"#555#556\"{SubArray{Float64, 1, Matrix{Float64}, Tuple{Int64, Base.Slice{Base.OneTo{Int64}}}, true}}}}})(Δ::Nothing)\n",
      "    @ Zygote C:\\Users\\Andrei\\.julia\\packages\\Zygote\\HTsWj\\src\\compiler\\interface2.jl:0\n",
      "  [7] Pullback\n",
      "    @ C:\\Users\\Andrei\\.julia\\packages\\Zygote\\HTsWj\\src\\lib\\grad.jl:153 [inlined]\n",
      "  [8] (::Zygote.Pullback{Tuple{typeof(withjacobian), var\"#23#24\", Vector{Float64}}, Any})(Δ::NamedTuple{(:val, :grad), Tuple{Nothing, Tuple{Matrix{Float64}}}})\n",
      "    @ Zygote C:\\Users\\Andrei\\.julia\\packages\\Zygote\\HTsWj\\src\\compiler\\interface2.jl:0\n",
      "  [9] #287\n",
      "    @ C:\\Users\\Andrei\\.julia\\packages\\Zygote\\HTsWj\\src\\lib\\lib.jl:206 [inlined]\n",
      " [10] #2157#back\n",
      "    @ C:\\Users\\Andrei\\.julia\\packages\\ZygoteRules\\OgCVT\\src\\adjoint.jl:71 [inlined]\n",
      " [11] Pullback\n",
      "    @ C:\\Users\\Andrei\\.julia\\packages\\Zygote\\HTsWj\\src\\lib\\grad.jl:128 [inlined]\n",
      " [12] (::Zygote.Pullback{Tuple{typeof(jacobian), var\"#23#24\", Vector{Float64}}, Tuple{Zygote.var\"#2157#back#289\"{Zygote.var\"#287#288\"{Tuple{Tuple{Nothing}, Tuple{Nothing}}, Zygote.Pullback{Tuple{typeof(withjacobian), var\"#23#24\", Vector{Float64}}, Any}}}, Zygote.var\"#2168#back#299\"{Zygote.var\"#back#298\"{:grad, Zygote.Context{false}, NamedTuple{(:val, :grad), Tuple{Vector{Float64}, Tuple{Matrix{Float64}}}}, Tuple{Matrix{Float64}}}}, Zygote.var\"#2001#back#200\"{typeof(identity)}}})(Δ::Tuple{Matrix{Float64}})\n",
      "    @ Zygote C:\\Users\\Andrei\\.julia\\packages\\Zygote\\HTsWj\\src\\compiler\\interface2.jl:0\n",
      " [13] Pullback\n",
      "    @ c:\\Users\\Andrei\\LaplaceRedux.jl\\src\\Trials-01.ipynb:2 [inlined]\n",
      " [14] (::Zygote.Pullback{Tuple{typeof(fj), Vector{Float64}, Vector{Float64}}, Any})(Δ::FillArrays.Fill{Float64, 1, Tuple{Base.OneTo{Int64}}})\n",
      "    @ Zygote C:\\Users\\Andrei\\.julia\\packages\\Zygote\\HTsWj\\src\\compiler\\interface2.jl:0\n",
      " [15] Pullback\n",
      "    @ c:\\Users\\Andrei\\LaplaceRedux.jl\\src\\Trials-01.ipynb:1 [inlined]\n",
      " [16] (::Zygote.Pullback{Tuple{var\"#35#36\", Vector{Float64}}, Tuple{Zygote.Pullback{Tuple{typeof(fj), Vector{Float64}, Vector{Float64}}, Any}, Zygote.var\"#1974#back#190\"{Zygote.var\"#186#189\"{Zygote.Context{false}, GlobalRef, Vector{Float64}}}, Zygote.var\"#3011#back#778\"{Zygote.var\"#772#776\"{Vector{Float64}}}}})(Δ::Float64)\n",
      "    @ Zygote C:\\Users\\Andrei\\.julia\\packages\\Zygote\\HTsWj\\src\\compiler\\interface2.jl:0\n",
      " [17] (::Zygote.var\"#75#76\"{Zygote.Pullback{Tuple{var\"#35#36\", Vector{Float64}}, Tuple{Zygote.Pullback{Tuple{typeof(fj), Vector{Float64}, Vector{Float64}}, Any}, Zygote.var\"#1974#back#190\"{Zygote.var\"#186#189\"{Zygote.Context{false}, GlobalRef, Vector{Float64}}}, Zygote.var\"#3011#back#778\"{Zygote.var\"#772#776\"{Vector{Float64}}}}}})(Δ::Float64)\n",
      "    @ Zygote C:\\Users\\Andrei\\.julia\\packages\\Zygote\\HTsWj\\src\\compiler\\interface.jl:45\n",
      " [18] gradient(f::Function, args::Vector{Float64})\n",
      "    @ Zygote C:\\Users\\Andrei\\.julia\\packages\\Zygote\\HTsWj\\src\\compiler\\interface.jl:97\n",
      " [19] top-level scope\n",
      "    @ c:\\Users\\Andrei\\LaplaceRedux.jl\\src\\Trials-01.ipynb:1"
     ]
    }
   ],
   "source": [
    "Zygote.gradient(b -> sum(fj(x,b)), rand(3))"
   ]
  },
  {
   "cell_type": "code",
   "execution_count": 33,
   "id": "524b07bb-60d5-4c5d-97fd-608e0abecca8",
   "metadata": {
    "tags": []
   },
   "outputs": [
    {
     "name": "stderr",
     "output_type": "stream",
     "text": [
      "┌ Info: grad\n",
      "│   grad = [2.0, 4.0, 6.0]\n",
      "└ @ Main c:\\Users\\Andrei\\LaplaceRedux.jl\\src\\Trials-01.ipynb:3\n"
     ]
    },
    {
     "data": {
      "text/plain": [
       "(Fill(1.0, 3),)"
      ]
     },
     "metadata": {},
     "output_type": "display_data"
    }
   ],
   "source": [
    "Zygote.gradient(b -> sum(fg(x,b)), rand(3))"
   ]
  },
  {
   "cell_type": "code",
   "execution_count": 34,
   "id": "43b3ca4b-3c3f-401c-953f-38801167e131",
   "metadata": {
    "tags": []
   },
   "outputs": [
    {
     "name": "stderr",
     "output_type": "stream",
     "text": [
      "┌ Info: grad\n",
      "│   grad = [0.9346993212354424, 0.4228318424411146, 0.5209914507987301]\n",
      "└ @ Main c:\\Users\\Andrei\\LaplaceRedux.jl\\src\\Trials-01.ipynb:3\n"
     ]
    },
    {
     "data": {
      "text/plain": [
       "([1.8693986424708848, 0.8456636848822292, 1.0419829015974602],)"
      ]
     },
     "metadata": {},
     "output_type": "display_data"
    }
   ],
   "source": [
    "Zygote.gradient(x -> sum(fg(x,b)), rand(3))"
   ]
  },
  {
   "cell_type": "code",
   "execution_count": 35,
   "id": "b7fb2ebb-7106-4169-991e-63e64a06a3c5",
   "metadata": {
    "tags": []
   },
   "outputs": [
    {
     "name": "stderr",
     "output_type": "stream",
     "text": [
      "┌ Info: jac\n",
      "│   jac = [0.03650695240301571 0.0 0.0; 0.0 1.5221896070818655 0.0; 0.0 0.0 0.5211465447842307]\n",
      "└ @ Main c:\\Users\\Andrei\\LaplaceRedux.jl\\src\\Trials-01.ipynb:5\n"
     ]
    },
    {
     "ename": "ErrorException",
     "evalue": "Mutating arrays is not supported -- called copyto!(SubArray{Float64, 1, Matrix{Float64}, Tuple{Int64, Base.Slice{Base.OneTo{Int64}}}, true}, ...)\nThis error occurs when you ask Zygote to differentiate operations that change\nthe elements of arrays in place (e.g. setting values with x .= ...)\n\nPossible fixes:\n- avoid mutating operations (preferred)\n- or read the documentation and solutions for this error\n  https://fluxml.ai/Zygote.jl/latest/limitations\n",
     "output_type": "error",
     "traceback": [
      "Mutating arrays is not supported -- called copyto!(SubArray{Float64, 1, Matrix{Float64}, Tuple{Int64, Base.Slice{Base.OneTo{Int64}}}, true}, ...)\n",
      "This error occurs when you ask Zygote to differentiate operations that change\n",
      "the elements of arrays in place (e.g. setting values with x .= ...)\n",
      "\n",
      "Possible fixes:\n",
      "- avoid mutating operations (preferred)\n",
      "- or read the documentation and solutions for this error\n",
      "  https://fluxml.ai/Zygote.jl/latest/limitations\n",
      "\n",
      "\n",
      "Stacktrace:\n",
      "  [1] error(s::String)\n",
      "    @ Base .\\error.jl:35\n",
      "  [2] _throw_mutation_error(f::Function, args::SubArray{Float64, 1, Matrix{Float64}, Tuple{Int64, Base.Slice{Base.OneTo{Int64}}}, true})\n",
      "    @ Zygote C:\\Users\\Andrei\\.julia\\packages\\Zygote\\HTsWj\\src\\lib\\array.jl:88\n",
      "  [3] (::Zygote.var\"#555#556\"{SubArray{Float64, 1, Matrix{Float64}, Tuple{Int64, Base.Slice{Base.OneTo{Int64}}}, true}})(#unused#::Nothing)\n",
      "    @ Zygote C:\\Users\\Andrei\\.julia\\packages\\Zygote\\HTsWj\\src\\lib\\array.jl:103\n",
      "  [4] (::Zygote.var\"#2653#back#557\"{Zygote.var\"#555#556\"{SubArray{Float64, 1, Matrix{Float64}, Tuple{Int64, Base.Slice{Base.OneTo{Int64}}}, true}}})(Δ::Nothing)\n",
      "    @ Zygote C:\\Users\\Andrei\\.julia\\packages\\ZygoteRules\\OgCVT\\src\\adjoint.jl:71\n",
      "  [5] Pullback\n",
      "    @ C:\\Users\\Andrei\\.julia\\packages\\Zygote\\HTsWj\\src\\lib\\grad.jl:171 [inlined]\n",
      "  [6] (::Zygote.Pullback{Tuple{typeof(Zygote._gradcopy!), SubArray{Float64, 1, Matrix{Float64}, Tuple{Int64, Base.Slice{Base.OneTo{Int64}}}, true}, Vector{Float64}}, Tuple{Zygote.var\"#2653#back#557\"{Zygote.var\"#555#556\"{SubArray{Float64, 1, Matrix{Float64}, Tuple{Int64, Base.Slice{Base.OneTo{Int64}}}, true}}}}})(Δ::Nothing)\n",
      "    @ Zygote C:\\Users\\Andrei\\.julia\\packages\\Zygote\\HTsWj\\src\\compiler\\interface2.jl:0\n",
      "  [7] Pullback\n",
      "    @ C:\\Users\\Andrei\\.julia\\packages\\Zygote\\HTsWj\\src\\lib\\grad.jl:153 [inlined]\n",
      "  [8] (::Zygote.Pullback{Tuple{typeof(withjacobian), var\"#23#24\", Vector{Float64}}, Any})(Δ::NamedTuple{(:val, :grad), Tuple{Nothing, Tuple{Matrix{Float64}}}})\n",
      "    @ Zygote C:\\Users\\Andrei\\.julia\\packages\\Zygote\\HTsWj\\src\\compiler\\interface2.jl:0\n",
      "  [9] #287\n",
      "    @ C:\\Users\\Andrei\\.julia\\packages\\Zygote\\HTsWj\\src\\lib\\lib.jl:206 [inlined]\n",
      " [10] #2157#back\n",
      "    @ C:\\Users\\Andrei\\.julia\\packages\\ZygoteRules\\OgCVT\\src\\adjoint.jl:71 [inlined]\n",
      " [11] Pullback\n",
      "    @ C:\\Users\\Andrei\\.julia\\packages\\Zygote\\HTsWj\\src\\lib\\grad.jl:128 [inlined]\n",
      " [12] (::Zygote.Pullback{Tuple{typeof(jacobian), var\"#23#24\", Vector{Float64}}, Tuple{Zygote.var\"#2157#back#289\"{Zygote.var\"#287#288\"{Tuple{Tuple{Nothing}, Tuple{Nothing}}, Zygote.Pullback{Tuple{typeof(withjacobian), var\"#23#24\", Vector{Float64}}, Any}}}, Zygote.var\"#2168#back#299\"{Zygote.var\"#back#298\"{:grad, Zygote.Context{false}, NamedTuple{(:val, :grad), Tuple{Vector{Float64}, Tuple{Matrix{Float64}}}}, Tuple{Matrix{Float64}}}}, Zygote.var\"#2001#back#200\"{typeof(identity)}}})(Δ::Tuple{Matrix{Float64}})\n",
      "    @ Zygote C:\\Users\\Andrei\\.julia\\packages\\Zygote\\HTsWj\\src\\compiler\\interface2.jl:0\n",
      " [13] Pullback\n",
      "    @ c:\\Users\\Andrei\\LaplaceRedux.jl\\src\\Trials-01.ipynb:2 [inlined]\n",
      " [14] (::Zygote.Pullback{Tuple{typeof(fj), Vector{Float64}, Vector{Float64}}, Any})(Δ::FillArrays.Fill{Float64, 1, Tuple{Base.OneTo{Int64}}})\n",
      "    @ Zygote C:\\Users\\Andrei\\.julia\\packages\\Zygote\\HTsWj\\src\\compiler\\interface2.jl:0\n",
      " [15] Pullback\n",
      "    @ c:\\Users\\Andrei\\LaplaceRedux.jl\\src\\Trials-01.ipynb:1 [inlined]\n",
      " [16] (::Zygote.Pullback{Tuple{var\"#41#42\", Vector{Float64}}, Tuple{Zygote.Pullback{Tuple{typeof(fj), Vector{Float64}, Vector{Float64}}, Any}, Zygote.var\"#1974#back#190\"{Zygote.var\"#186#189\"{Zygote.Context{false}, GlobalRef, Vector{Float64}}}, Zygote.var\"#3011#back#778\"{Zygote.var\"#772#776\"{Vector{Float64}}}}})(Δ::Float64)\n",
      "    @ Zygote C:\\Users\\Andrei\\.julia\\packages\\Zygote\\HTsWj\\src\\compiler\\interface2.jl:0\n",
      " [17] (::Zygote.var\"#75#76\"{Zygote.Pullback{Tuple{var\"#41#42\", Vector{Float64}}, Tuple{Zygote.Pullback{Tuple{typeof(fj), Vector{Float64}, Vector{Float64}}, Any}, Zygote.var\"#1974#back#190\"{Zygote.var\"#186#189\"{Zygote.Context{false}, GlobalRef, Vector{Float64}}}, Zygote.var\"#3011#back#778\"{Zygote.var\"#772#776\"{Vector{Float64}}}}}})(Δ::Float64)\n",
      "    @ Zygote C:\\Users\\Andrei\\.julia\\packages\\Zygote\\HTsWj\\src\\compiler\\interface.jl:45\n",
      " [18] gradient(f::Function, args::Vector{Float64})\n",
      "    @ Zygote C:\\Users\\Andrei\\.julia\\packages\\Zygote\\HTsWj\\src\\compiler\\interface.jl:97\n",
      " [19] top-level scope\n",
      "    @ c:\\Users\\Andrei\\LaplaceRedux.jl\\src\\Trials-01.ipynb:1"
     ]
    }
   ],
   "source": [
    "Zygote.gradient(x -> sum(fj(x,b)), rand(3))"
   ]
  },
  {
   "attachments": {},
   "cell_type": "markdown",
   "id": "057fdd6c-55f6-4675-b29a-c5540895c859",
   "metadata": {},
   "source": [
    "## Zygote diff-ability wrt array elements"
   ]
  },
  {
   "cell_type": "code",
   "execution_count": 36,
   "id": "4ac3d37b-eff8-419f-afaa-d1a384fbc448",
   "metadata": {
    "tags": []
   },
   "outputs": [
    {
     "data": {
      "text/plain": [
       "6"
      ]
     },
     "metadata": {},
     "output_type": "display_data"
    }
   ],
   "source": [
    "x = [1 2 3; 4 5 6]; y = [2, 3]; z = [1, 10, 100];\n",
    "# x .* y .* z'\n",
    "ps = Params([x[2,3]])\n",
    "g = gradient(ps) do\n",
    "    sum(x .* y .* z')\n",
    "end\n",
    "x[2,3]"
   ]
  },
  {
   "cell_type": "code",
   "execution_count": 37,
   "id": "2450ce53-fafc-40ad-b1c6-38d7d3fd4bdb",
   "metadata": {
    "tags": []
   },
   "outputs": [
    {
     "ename": "KeyError",
     "evalue": "KeyError: key [1 2 3; 4 5 6] not found",
     "output_type": "error",
     "traceback": [
      "KeyError: key [1 2 3; 4 5 6] not found\n",
      "\n",
      "Stacktrace:\n",
      " [1] getindex\n",
      "   @ .\\iddict.jl:108 [inlined]\n",
      " [2] getindex(gs::Zygote.Grads, x::Matrix{Int64})\n",
      "   @ Zygote C:\\Users\\Andrei\\.julia\\packages\\Zygote\\HTsWj\\src\\compiler\\interface.jl:307\n",
      " [3] top-level scope\n",
      "   @ c:\\Users\\Andrei\\LaplaceRedux.jl\\src\\Trials-01.ipynb:1"
     ]
    }
   ],
   "source": [
    "g[x]"
   ]
  },
  {
   "cell_type": "code",
   "execution_count": 38,
   "id": "89387019-afae-4493-9097-60c5dfdf943f",
   "metadata": {
    "tags": []
   },
   "outputs": [
    {
     "ename": "ErrorException",
     "evalue": "Only reference types can be differentiated with `Params`.",
     "output_type": "error",
     "traceback": [
      "Only reference types can be differentiated with `Params`.\n",
      "\n",
      "Stacktrace:\n",
      " [1] error(s::String)\n",
      "   @ Base .\\error.jl:35\n",
      " [2] getindex(gs::Zygote.Grads, x::Int64)\n",
      "   @ Zygote C:\\Users\\Andrei\\.julia\\packages\\Zygote\\HTsWj\\src\\compiler\\interface.jl:306\n",
      " [3] top-level scope\n",
      "   @ c:\\Users\\Andrei\\LaplaceRedux.jl\\src\\Trials-01.ipynb:1"
     ]
    }
   ],
   "source": [
    "g[x[2,3]]"
   ]
  },
  {
   "attachments": {},
   "cell_type": "markdown",
   "id": "4de96d4a-df01-4999-8217-08604aee0edb",
   "metadata": {},
   "source": [
    "## Testing DataLoader with existing code"
   ]
  },
  {
   "cell_type": "code",
   "execution_count": 39,
   "id": "20b636e9-ae4c-462c-a832-a9e70c19c2a1",
   "metadata": {
    "tags": []
   },
   "outputs": [
    {
     "name": "stderr",
     "output_type": "stream",
     "text": [
      "\u001b[32m\u001b[1m  Activating\u001b[22m\u001b[39m new project at `c:\\Users\\Andrei\\LaplaceRedux.jl\\src`"
     ]
    },
    {
     "name": "stderr",
     "output_type": "stream",
     "text": [
      "\n"
     ]
    }
   ],
   "source": [
    "using Pkg\n",
    "Pkg.activate(\".\")\n",
    "using LaplaceRedux\n",
    "using LaplaceRedux.Curvature\n",
    "using LaplaceRedux.Data\n",
    "using Flux\n",
    "using Flux.Optimise: update!, Adam\n",
    "using Plots\n",
    "using Statistics\n",
    "using MLUtils\n",
    "using Zygote"
   ]
  },
  {
   "cell_type": "code",
   "execution_count": 40,
   "id": "25990c81-5ddf-4620-aaa6-240704f07584",
   "metadata": {
    "tags": []
   },
   "outputs": [],
   "source": [
    "using Printf"
   ]
  },
  {
   "cell_type": "code",
   "execution_count": 41,
   "id": "98810d45-df41-4189-af33-eceb945983d4",
   "metadata": {
    "tags": []
   },
   "outputs": [
    {
     "data": {
      "text/plain": [
       "Dict{Symbol, Any} with 6 entries:\n",
       "  :loss_fun   => :mse\n",
       "  :y          => [0.722622, -0.758383, 0.730782, 1.3256, 0.0837503, -0.505126, …\n",
       "  :likelihood => :regression\n",
       "  :X          => [1.74112 4.29626 … 1.55054 7.87312]\n",
       "  :outdim     => 1\n",
       "  :data       => ([[1.74112], [4.29626], [7.69539], [7.46778], [3.34422], [5.90…"
      ]
     },
     "metadata": {},
     "output_type": "display_data"
    }
   ],
   "source": [
    "# SETUP\n",
    "n = 100\n",
    "data_dict = Dict()\n",
    "\n",
    "x, y = LaplaceRedux.Data.toy_data_regression(n)\n",
    "xs = [[x] for x in x]\n",
    "X, Y = reduce(hcat, x), reduce(hcat, y)\n",
    "\n",
    "data = DataLoader((X, Y), batchsize=10)\n",
    "data = (xs, y)\n",
    "data_dict[:regression_batched] = Dict(\n",
    "    :data => data,\n",
    "    :X => X,\n",
    "    :y => y,\n",
    "    :outdim => 1,\n",
    "    :loss_fun => :mse,\n",
    "    :likelihood => :regression,\n",
    ")"
   ]
  },
  {
   "cell_type": "code",
   "execution_count": 42,
   "id": "ecf389b9-2bfd-4238-91de-48c125c53a8e",
   "metadata": {
    "tags": []
   },
   "outputs": [
    {
     "data": {
      "text/plain": [
       "1×100 Matrix{Float64}:\n",
       " 1.74112  4.29626  7.69539  7.46778  …  3.22491  3.10918  1.55054  7.87312"
      ]
     },
     "metadata": {},
     "output_type": "display_data"
    }
   ],
   "source": [
    "X"
   ]
  },
  {
   "cell_type": "code",
   "execution_count": 43,
   "id": "e41fe641-c208-457c-8093-230258356904",
   "metadata": {
    "tags": []
   },
   "outputs": [
    {
     "data": {
      "text/plain": [
       "1×100 Matrix{Float64}:\n",
       " 0.722622  -0.758383  0.730782  1.3256  …  -0.495756  1.13933  0.866698"
      ]
     },
     "metadata": {},
     "output_type": "display_data"
    }
   ],
   "source": [
    "Y"
   ]
  },
  {
   "cell_type": "code",
   "execution_count": 44,
   "id": "16f8e4cd-2753-478b-865c-2c9a65ef84f9",
   "metadata": {
    "tags": []
   },
   "outputs": [
    {
     "data": {
      "text/plain": [
       "([[1.7411164129445034], [4.296263535084707], [7.69539170068533], [7.4677798550572065], [3.344218480965197], [5.901748033622354], [2.7960386763938354], [2.860563021416737], [1.1622059460263134], [1.6897493411617228]  …  [2.5009538695353744], [3.8441048862803573], [1.9188069275924775], [4.889614042890374], [6.448109489621749], [1.0059828060506577], [3.2249077951384777], [3.109181960444552], [1.5505394045256375], [7.873124542501601]], [0.7226216827483725, -0.7583831355920745, 0.7307818931777725, 1.3255976994207295, 0.08375028013574853, -0.5051258394174286, 0.9566672112009722, 0.5757375224041357, 1.5772502025128867, 1.1152484301874066  …  0.7263504609168682, -0.4484524267495201, 1.1869087922300476, -0.7078441189682598, 0.22851542241684314, 1.1772544333344583, 0.045863886181089844, -0.49575552771665043, 1.139331583799923, 0.8666975886493081])"
      ]
     },
     "metadata": {},
     "output_type": "display_data"
    }
   ],
   "source": [
    "data"
   ]
  },
  {
   "cell_type": "code",
   "execution_count": 45,
   "id": "0a9754ea-bdd6-43a8-9809-a9eb84730803",
   "metadata": {
    "tags": []
   },
   "outputs": [
    {
     "data": {
      "text/plain": [
       "1×100 Matrix{Float64}:\n",
       " 0.722622  -0.758383  0.730782  1.3256  …  -0.495756  1.13933  0.866698"
      ]
     },
     "metadata": {},
     "output_type": "display_data"
    }
   ],
   "source": [
    "reduce(hcat, y)"
   ]
  },
  {
   "cell_type": "code",
   "execution_count": 46,
   "id": "203e381e-7722-48eb-926e-3c45e533d7b9",
   "metadata": {
    "tags": []
   },
   "outputs": [
    {
     "ename": "UndefVarError",
     "evalue": "UndefVarError: `nn` not defined",
     "output_type": "error",
     "traceback": [
      "UndefVarError: `nn` not defined\n",
      "\n",
      "Stacktrace:\n",
      " [1] macro expansion\n",
      "   @ .\\show.jl:1128 [inlined]\n",
      " [2] top-level scope\n",
      "   @ c:\\Users\\Andrei\\LaplaceRedux.jl\\src\\Trials-01.ipynb:7"
     ]
    }
   ],
   "source": [
    "for d in data\n",
    "    x, y = d\n",
    "    # # Assert on batching\n",
    "    # @assert size(x)[end] == 10\n",
    "    # @assert size(x)[end] == 10\n",
    "    # @sho\n",
    "    @show nn(x)\n",
    "    @show size(nn(x))\n",
    "    @show y\n",
    "    @show size(y)\n",
    "    break\n",
    "end"
   ]
  },
  {
   "cell_type": "code",
   "execution_count": 47,
   "id": "9fb46886-e222-4f5e-bb86-0cfede404088",
   "metadata": {
    "tags": []
   },
   "outputs": [
    {
     "name": "stderr",
     "output_type": "stream",
     "text": [
      "┌ Warning: Layer with Float32 parameters got Float64 input.\n",
      "│   The input will be converted, but any earlier layers may be very slow.\n",
      "│   layer = Dense(1 => 32, σ)\n",
      "│   summary(x) = 1-element Vector{Float64}\n",
      "└ @ Flux C:\\Users\\Andrei\\.julia\\packages\\Flux\\EHgZm\\src\\layers\\stateless.jl:60\n"
     ]
    },
    {
     "name": "stdout",
     "output_type": "stream",
     "text": [
      "Epoch 20\n",
      "avg_loss(data) = 0.49492753972012826"
     ]
    },
    {
     "name": "stdout",
     "output_type": "stream",
     "text": [
      "\n",
      "Epoch 40\n",
      "avg_loss(data) = 0.4682195818079879\n"
     ]
    },
    {
     "name": "stdout",
     "output_type": "stream",
     "text": [
      "Epoch 60\n",
      "avg_loss(data) = 0.4536057449373088"
     ]
    },
    {
     "name": "stdout",
     "output_type": "stream",
     "text": [
      "\n",
      "Epoch 80\n",
      "avg_loss(data) = 0.4417601746857045\n"
     ]
    },
    {
     "name": "stdout",
     "output_type": "stream",
     "text": [
      "Epoch 100\n",
      "avg_loss(data) = 0.43057352768417184\n"
     ]
    },
    {
     "name": "stdout",
     "output_type": "stream",
     "text": [
      "Epoch 120\n",
      "avg_loss(data) = 0.4192382272259807"
     ]
    },
    {
     "name": "stdout",
     "output_type": "stream",
     "text": [
      "\n",
      "Epoch 140\n",
      "avg_loss(data) = 0.40735330298809885"
     ]
    },
    {
     "name": "stdout",
     "output_type": "stream",
     "text": [
      "\n",
      "Epoch 160\n",
      "avg_loss(data) = 0.3947255817178441\n"
     ]
    },
    {
     "name": "stdout",
     "output_type": "stream",
     "text": [
      "Epoch 180\n",
      "avg_loss(data) = 0.38121960890492096\n"
     ]
    },
    {
     "name": "stdout",
     "output_type": "stream",
     "text": [
      "Epoch 200\n",
      "avg_loss(data) = 0.3667108473136689\n"
     ]
    }
   ],
   "source": [
    "# Here we have \"zip\" code copied from the laplace.jl tests\n",
    "\n",
    "# Regression:\n",
    "x, y = LaplaceRedux.Data.toy_data_regression(n)\n",
    "xs = [[x] for x in x]\n",
    "X = hcat(xs...)\n",
    "Y = reduce(hcat, y)\n",
    "data = zip(xs, y)\n",
    "data_dict[:regression] = Dict(\n",
    "    :data => data,\n",
    "    :X => X,\n",
    "    :y => y,\n",
    "    :outdim => 1,\n",
    "    :loss_fun => :mse,\n",
    "    :likelihood => :regression,\n",
    ")\n",
    "\n",
    "val = data_dict[:regression]\n",
    "\n",
    "# Unpack:\n",
    "data = val[:data]\n",
    "X = val[:X]\n",
    "y = val[:y]\n",
    "outdim = val[:outdim]\n",
    "loss_fun = val[:loss_fun]\n",
    "likelihood = val[:likelihood]\n",
    "\n",
    "# Neural network:\n",
    "n_hidden = 32\n",
    "D = size(X, 1)\n",
    "nn = Chain(Dense(D, n_hidden, σ), Dense(n_hidden, outdim))\n",
    "λ = 0.01\n",
    "sqnorm(x) = sum(abs2, x)\n",
    "weight_regularization(λ=λ) = 1 / 2 * λ^2 * sum(sqnorm, Flux.params(nn))\n",
    "# loss(x, y) = getfield(Flux.Losses, loss_fun)(nn(x), y) + weight_regularization()\n",
    "# loss(x, y; kwargs...) = getfield(Flux.Losses, loss_fun)(nn(x), y; kwargs...) + weight_regularization()\n",
    "# loss(x, y) = getfield(Flux.Losses, loss_fun)(nn(x), y, agg=sum) + weight_regularization()\n",
    "loss(x, y) = Flux.Losses.mse(nn(x), y, agg=sum) + weight_regularization()\n",
    "\n",
    "opt = Adam()\n",
    "epochs = 200\n",
    "avg_loss(data) = mean(map(d -> loss(d[1], d[2]), data))\n",
    "show_every = epochs / 10\n",
    "\n",
    "for epoch in 1:epochs\n",
    "    for d in data\n",
    "        gs = gradient(Flux.params(nn)) do\n",
    "            l = loss(d...)\n",
    "        end\n",
    "        update!(opt, Flux.params(nn), gs)\n",
    "    end\n",
    "    if epoch % show_every == 0\n",
    "        println(\"Epoch \" * string(epoch))\n",
    "        @show avg_loss(data)\n",
    "    end\n",
    "end\n"
   ]
  },
  {
   "cell_type": "code",
   "execution_count": 48,
   "id": "c2e1477d-e613-434b-9eba-290528d65656",
   "metadata": {
    "tags": []
   },
   "outputs": [
    {
     "data": {
      "image/png": "[encoded data removed]",
      "image/svg+xml": [
       "<?xml version=\"1.0\" encoding=\"utf-8\"?>\n",
       "<svg xmlns=\"http://www.w3.org/2000/svg\" xmlns:xlink=\"http://www.w3.org/1999/xlink\" width=\"600\" height=\"400\" viewBox=\"0 0 2400 1600\">\n",
       "<defs>\n",
       "  <clipPath id=\"clip050\">\n",
       "    <rect x=\"0\" y=\"0\" width=\"2400\" height=\"1600\"/>\n",
       "  </clipPath>\n",
       "</defs>\n",
       "<path clip-path=\"url(#clip050)\" d=\"M0 1600 L2400 1600 L2400 0 L0 0  Z\" fill=\"#ffffff\" fill-rule=\"evenodd\" fill-opacity=\"1\"/>\n",
       "<defs>\n",
       "  <clipPath id=\"clip051\">\n",
       "    <rect x=\"480\" y=\"0\" width=\"1681\" height=\"1600\"/>\n",
       "  </clipPath>\n",
       "</defs>\n",
       "<path clip-path=\"url(#clip050)\" d=\"M147.478 1486.45 L2352.76 1486.45 L2352.76 123.472 L147.478 123.472  Z\" fill=\"#ffffff\" fill-rule=\"evenodd\" fill-opacity=\"1\"/>\n",
       "<defs>\n",
       "  <clipPath id=\"clip052\">\n",
       "    <rect x=\"147\" y=\"123\" width=\"2206\" height=\"1364\"/>\n",
       "  </clipPath>\n",
       "</defs>\n",
       "<polyline clip-path=\"url(#clip052)\" style=\"stroke:#000000; stroke-linecap:round; stroke-linejoin:round; stroke-width:2; stroke-opacity:0.1; fill:none\" points=\"352.069,1486.45 352.069,123.472 \"/>\n",
       "<polyline clip-path=\"url(#clip052)\" style=\"stroke:#000000; stroke-linecap:round; stroke-linejoin:round; stroke-width:2; stroke-opacity:0.1; fill:none\" points=\"799.576,1486.45 799.576,123.472 \"/>\n",
       "<polyline clip-path=\"url(#clip052)\" style=\"stroke:#000000; stroke-linecap:round; stroke-linejoin:round; stroke-width:2; stroke-opacity:0.1; fill:none\" points=\"1247.08,1486.45 1247.08,123.472 \"/>\n",
       "<polyline clip-path=\"url(#clip052)\" style=\"stroke:#000000; stroke-linecap:round; stroke-linejoin:round; stroke-width:2; stroke-opacity:0.1; fill:none\" points=\"1694.59,1486.45 1694.59,123.472 \"/>\n",
       "<polyline clip-path=\"url(#clip052)\" style=\"stroke:#000000; stroke-linecap:round; stroke-linejoin:round; stroke-width:2; stroke-opacity:0.1; fill:none\" points=\"2142.1,1486.45 2142.1,123.472 \"/>\n",
       "<polyline clip-path=\"url(#clip050)\" style=\"stroke:#000000; stroke-linecap:round; stroke-linejoin:round; stroke-width:4; stroke-opacity:1; fill:none\" points=\"147.478,1486.45 2352.76,1486.45 \"/>\n",
       "<polyline clip-path=\"url(#clip050)\" style=\"stroke:#000000; stroke-linecap:round; stroke-linejoin:round; stroke-width:4; stroke-opacity:1; fill:none\" points=\"352.069,1486.45 352.069,1467.55 \"/>\n",
       "<polyline clip-path=\"url(#clip050)\" style=\"stroke:#000000; stroke-linecap:round; stroke-linejoin:round; stroke-width:4; stroke-opacity:1; fill:none\" points=\"799.576,1486.45 799.576,1467.55 \"/>\n",
       "<polyline clip-path=\"url(#clip050)\" style=\"stroke:#000000; stroke-linecap:round; stroke-linejoin:round; stroke-width:4; stroke-opacity:1; fill:none\" points=\"1247.08,1486.45 1247.08,1467.55 \"/>\n",
       "<polyline clip-path=\"url(#clip050)\" style=\"stroke:#000000; stroke-linecap:round; stroke-linejoin:round; stroke-width:4; stroke-opacity:1; fill:none\" points=\"1694.59,1486.45 1694.59,1467.55 \"/>\n",
       "<polyline clip-path=\"url(#clip050)\" style=\"stroke:#000000; stroke-linecap:round; stroke-linejoin:round; stroke-width:4; stroke-opacity:1; fill:none\" points=\"2142.1,1486.45 2142.1,1467.55 \"/>\n",
       "<path clip-path=\"url(#clip050)\" d=\"M352.069 1517.37 Q348.458 1517.37 346.629 1520.93 Q344.823 1524.47 344.823 1531.6 Q344.823 1538.71 346.629 1542.27 Q348.458 1545.82 352.069 1545.82 Q355.703 1545.82 357.508 1542.27 Q359.337 1538.71 359.337 1531.6 Q359.337 1524.47 357.508 1520.93 Q355.703 1517.37 352.069 1517.37 M352.069 1513.66 Q357.879 1513.66 360.934 1518.27 Q364.013 1522.85 364.013 1531.6 Q364.013 1540.33 360.934 1544.94 Q357.879 1549.52 352.069 1549.52 Q346.258 1549.52 343.18 1544.94 Q340.124 1540.33 340.124 1531.6 Q340.124 1522.85 343.18 1518.27 Q346.258 1513.66 352.069 1513.66 Z\" fill=\"#000000\" fill-rule=\"nonzero\" fill-opacity=\"1\" /><path clip-path=\"url(#clip050)\" d=\"M794.228 1544.91 L810.548 1544.91 L810.548 1548.85 L788.603 1548.85 L788.603 1544.91 Q791.265 1542.16 795.849 1537.53 Q800.455 1532.88 801.636 1531.53 Q803.881 1529.01 804.761 1527.27 Q805.664 1525.51 805.664 1523.82 Q805.664 1521.07 803.719 1519.33 Q801.798 1517.6 798.696 1517.6 Q796.497 1517.6 794.043 1518.36 Q791.613 1519.13 788.835 1520.68 L788.835 1515.95 Q791.659 1514.82 794.113 1514.24 Q796.566 1513.66 798.603 1513.66 Q803.974 1513.66 807.168 1516.35 Q810.363 1519.03 810.363 1523.52 Q810.363 1525.65 809.552 1527.57 Q808.765 1529.47 806.659 1532.07 Q806.08 1532.74 802.978 1535.95 Q799.877 1539.15 794.228 1544.91 Z\" fill=\"#000000\" fill-rule=\"nonzero\" fill-opacity=\"1\" /><path clip-path=\"url(#clip050)\" d=\"M1250.09 1518.36 L1238.29 1536.81 L1250.09 1536.81 L1250.09 1518.36 M1248.86 1514.29 L1254.74 1514.29 L1254.74 1536.81 L1259.68 1536.81 L1259.68 1540.7 L1254.74 1540.7 L1254.74 1548.85 L1250.09 1548.85 L1250.09 1540.7 L1234.49 1540.7 L1234.49 1536.19 L1248.86 1514.29 Z\" fill=\"#000000\" fill-rule=\"nonzero\" fill-opacity=\"1\" /><path clip-path=\"url(#clip050)\" d=\"M1694.99 1529.7 Q1691.85 1529.7 1689.99 1531.86 Q1688.17 1534.01 1688.17 1537.76 Q1688.17 1541.49 1689.99 1543.66 Q1691.85 1545.82 1694.99 1545.82 Q1698.14 1545.82 1699.97 1543.66 Q1701.82 1541.49 1701.82 1537.76 Q1701.82 1534.01 1699.97 1531.86 Q1698.14 1529.7 1694.99 1529.7 M1704.28 1515.05 L1704.28 1519.31 Q1702.52 1518.48 1700.71 1518.04 Q1698.93 1517.6 1697.17 1517.6 Q1692.54 1517.6 1690.09 1520.72 Q1687.66 1523.85 1687.31 1530.17 Q1688.68 1528.15 1690.74 1527.09 Q1692.8 1526 1695.27 1526 Q1700.48 1526 1703.49 1529.17 Q1706.52 1532.32 1706.52 1537.76 Q1706.52 1543.08 1703.37 1546.3 Q1700.23 1549.52 1694.99 1549.52 Q1689 1549.52 1685.83 1544.94 Q1682.66 1540.33 1682.66 1531.6 Q1682.66 1523.41 1686.55 1518.55 Q1690.43 1513.66 1696.99 1513.66 Q1698.74 1513.66 1700.53 1514.01 Q1702.33 1514.36 1704.28 1515.05 Z\" fill=\"#000000\" fill-rule=\"nonzero\" fill-opacity=\"1\" /><path clip-path=\"url(#clip050)\" d=\"M2142.1 1532.44 Q2138.76 1532.44 2136.84 1534.22 Q2134.94 1536 2134.94 1539.13 Q2134.94 1542.25 2136.84 1544.03 Q2138.76 1545.82 2142.1 1545.82 Q2145.43 1545.82 2147.35 1544.03 Q2149.27 1542.23 2149.27 1539.13 Q2149.27 1536 2147.35 1534.22 Q2145.45 1532.44 2142.1 1532.44 M2137.42 1530.45 Q2134.41 1529.7 2132.72 1527.64 Q2131.05 1525.58 2131.05 1522.62 Q2131.05 1518.48 2133.99 1516.07 Q2136.96 1513.66 2142.1 1513.66 Q2147.26 1513.66 2150.2 1516.07 Q2153.14 1518.48 2153.14 1522.62 Q2153.14 1525.58 2151.45 1527.64 Q2149.78 1529.7 2146.8 1530.45 Q2150.18 1531.23 2152.05 1533.52 Q2153.95 1535.82 2153.95 1539.13 Q2153.95 1544.15 2150.87 1546.83 Q2147.81 1549.52 2142.1 1549.52 Q2136.38 1549.52 2133.3 1546.83 Q2130.24 1544.15 2130.24 1539.13 Q2130.24 1535.82 2132.14 1533.52 Q2134.04 1531.23 2137.42 1530.45 M2135.71 1523.06 Q2135.71 1525.75 2137.37 1527.25 Q2139.06 1528.76 2142.1 1528.76 Q2145.11 1528.76 2146.8 1527.25 Q2148.51 1525.75 2148.51 1523.06 Q2148.51 1520.38 2146.8 1518.87 Q2145.11 1517.37 2142.1 1517.37 Q2139.06 1517.37 2137.37 1518.87 Q2135.71 1520.38 2135.71 1523.06 Z\" fill=\"#000000\" fill-rule=\"nonzero\" fill-opacity=\"1\" /><polyline clip-path=\"url(#clip052)\" style=\"stroke:#000000; stroke-linecap:round; stroke-linejoin:round; stroke-width:2; stroke-opacity:0.1; fill:none\" points=\"147.478,1364.37 2352.76,1364.37 \"/>\n",
       "<polyline clip-path=\"url(#clip052)\" style=\"stroke:#000000; stroke-linecap:round; stroke-linejoin:round; stroke-width:2; stroke-opacity:0.1; fill:none\" points=\"147.478,1087.61 2352.76,1087.61 \"/>\n",
       "<polyline clip-path=\"url(#clip052)\" style=\"stroke:#000000; stroke-linecap:round; stroke-linejoin:round; stroke-width:2; stroke-opacity:0.1; fill:none\" points=\"147.478,810.856 2352.76,810.856 \"/>\n",
       "<polyline clip-path=\"url(#clip052)\" style=\"stroke:#000000; stroke-linecap:round; stroke-linejoin:round; stroke-width:2; stroke-opacity:0.1; fill:none\" points=\"147.478,534.1 2352.76,534.1 \"/>\n",
       "<polyline clip-path=\"url(#clip052)\" style=\"stroke:#000000; stroke-linecap:round; stroke-linejoin:round; stroke-width:2; stroke-opacity:0.1; fill:none\" points=\"147.478,257.344 2352.76,257.344 \"/>\n",
       "<polyline clip-path=\"url(#clip050)\" style=\"stroke:#000000; stroke-linecap:round; stroke-linejoin:round; stroke-width:4; stroke-opacity:1; fill:none\" points=\"147.478,1486.45 147.478,123.472 \"/>\n",
       "<polyline clip-path=\"url(#clip050)\" style=\"stroke:#000000; stroke-linecap:round; stroke-linejoin:round; stroke-width:4; stroke-opacity:1; fill:none\" points=\"147.478,1364.37 166.376,1364.37 \"/>\n",
       "<polyline clip-path=\"url(#clip050)\" style=\"stroke:#000000; stroke-linecap:round; stroke-linejoin:round; stroke-width:4; stroke-opacity:1; fill:none\" points=\"147.478,1087.61 166.376,1087.61 \"/>\n",
       "<polyline clip-path=\"url(#clip050)\" style=\"stroke:#000000; stroke-linecap:round; stroke-linejoin:round; stroke-width:4; stroke-opacity:1; fill:none\" points=\"147.478,810.856 166.376,810.856 \"/>\n",
       "<polyline clip-path=\"url(#clip050)\" style=\"stroke:#000000; stroke-linecap:round; stroke-linejoin:round; stroke-width:4; stroke-opacity:1; fill:none\" points=\"147.478,534.1 166.376,534.1 \"/>\n",
       "<polyline clip-path=\"url(#clip050)\" style=\"stroke:#000000; stroke-linecap:round; stroke-linejoin:round; stroke-width:4; stroke-opacity:1; fill:none\" points=\"147.478,257.344 166.376,257.344 \"/>\n",
       "<path clip-path=\"url(#clip050)\" d=\"M51.3625 1364.82 L81.0383 1364.82 L81.0383 1368.75 L51.3625 1368.75 L51.3625 1364.82 Z\" fill=\"#000000\" fill-rule=\"nonzero\" fill-opacity=\"1\" /><path clip-path=\"url(#clip050)\" d=\"M95.1586 1377.71 L111.478 1377.71 L111.478 1381.65 L89.5336 1381.65 L89.5336 1377.71 Q92.1956 1374.96 96.7789 1370.33 Q101.385 1365.68 102.566 1364.33 Q104.811 1361.81 105.691 1360.07 Q106.594 1358.31 106.594 1356.63 Q106.594 1353.87 104.649 1352.13 Q102.728 1350.4 99.6261 1350.4 Q97.4271 1350.4 94.9734 1351.16 Q92.5428 1351.93 89.7651 1353.48 L89.7651 1348.75 Q92.5891 1347.62 95.0428 1347.04 Q97.4965 1346.46 99.5335 1346.46 Q104.904 1346.46 108.098 1349.15 Q111.293 1351.83 111.293 1356.32 Q111.293 1358.45 110.483 1360.38 Q109.696 1362.27 107.589 1364.87 Q107.01 1365.54 103.909 1368.75 Q100.807 1371.95 95.1586 1377.71 Z\" fill=\"#000000\" fill-rule=\"nonzero\" fill-opacity=\"1\" /><path clip-path=\"url(#clip050)\" d=\"M50.9921 1088.06 L80.6679 1088.06 L80.6679 1092 L50.9921 1092 L50.9921 1088.06 Z\" fill=\"#000000\" fill-rule=\"nonzero\" fill-opacity=\"1\" /><path clip-path=\"url(#clip050)\" d=\"M91.5706 1100.96 L99.2095 1100.96 L99.2095 1074.59 L90.8993 1076.26 L90.8993 1072 L99.1632 1070.33 L103.839 1070.33 L103.839 1100.96 L111.478 1100.96 L111.478 1104.89 L91.5706 1104.89 L91.5706 1100.96 Z\" fill=\"#000000\" fill-rule=\"nonzero\" fill-opacity=\"1\" /><path clip-path=\"url(#clip050)\" d=\"M99.5335 796.655 Q95.9224 796.655 94.0937 800.22 Q92.2882 803.761 92.2882 810.891 Q92.2882 817.997 94.0937 821.562 Q95.9224 825.104 99.5335 825.104 Q103.168 825.104 104.973 821.562 Q106.802 817.997 106.802 810.891 Q106.802 803.761 104.973 800.22 Q103.168 796.655 99.5335 796.655 M99.5335 792.951 Q105.344 792.951 108.399 797.558 Q111.478 802.141 111.478 810.891 Q111.478 819.618 108.399 824.224 Q105.344 828.807 99.5335 828.807 Q93.7234 828.807 90.6447 824.224 Q87.5892 819.618 87.5892 810.891 Q87.5892 802.141 90.6447 797.558 Q93.7234 792.951 99.5335 792.951 Z\" fill=\"#000000\" fill-rule=\"nonzero\" fill-opacity=\"1\" /><path clip-path=\"url(#clip050)\" d=\"M91.5706 547.445 L99.2095 547.445 L99.2095 521.079 L90.8993 522.746 L90.8993 518.487 L99.1632 516.82 L103.839 516.82 L103.839 547.445 L111.478 547.445 L111.478 551.38 L91.5706 551.38 L91.5706 547.445 Z\" fill=\"#000000\" fill-rule=\"nonzero\" fill-opacity=\"1\" /><path clip-path=\"url(#clip050)\" d=\"M95.1586 270.689 L111.478 270.689 L111.478 274.624 L89.5336 274.624 L89.5336 270.689 Q92.1956 267.935 96.7789 263.305 Q101.385 258.652 102.566 257.31 Q104.811 254.786 105.691 253.05 Q106.594 251.291 106.594 249.601 Q106.594 246.847 104.649 245.111 Q102.728 243.374 99.6261 243.374 Q97.4271 243.374 94.9734 244.138 Q92.5428 244.902 89.7651 246.453 L89.7651 241.731 Q92.5891 240.597 95.0428 240.018 Q97.4965 239.439 99.5335 239.439 Q104.904 239.439 108.098 242.125 Q111.293 244.81 111.293 249.3 Q111.293 251.43 110.483 253.351 Q109.696 255.249 107.589 257.842 Q107.01 258.513 103.909 261.731 Q100.807 264.925 95.1586 270.689 Z\" fill=\"#000000\" fill-rule=\"nonzero\" fill-opacity=\"1\" /><path clip-path=\"url(#clip050)\" d=\"M981.4 49.9314 Q981.4 41.7081 977.997 37.0496 Q974.635 32.3505 968.721 32.3505 Q962.807 32.3505 959.404 37.0496 Q956.042 41.7081 956.042 49.9314 Q956.042 58.1548 959.404 62.8538 Q962.807 67.5124 968.721 67.5124 Q974.635 67.5124 977.997 62.8538 Q981.4 58.1548 981.4 49.9314 M956.042 34.0924 Q958.391 30.0415 961.956 28.0971 Q965.561 26.1121 970.544 26.1121 Q978.808 26.1121 983.952 32.6746 Q989.137 39.2371 989.137 49.9314 Q989.137 60.6258 983.952 67.1883 Q978.808 73.7508 970.544 73.7508 Q965.561 73.7508 961.956 71.8063 Q958.391 69.8214 956.042 65.7705 L956.042 72.576 L948.547 72.576 L948.547 9.54393 L956.042 9.54393 L956.042 34.0924 Z\" fill=\"#000000\" fill-rule=\"nonzero\" fill-opacity=\"1\" /><path clip-path=\"url(#clip050)\" d=\"M1022.11 49.7694 Q1013.08 49.7694 1009.59 51.8354 Q1006.11 53.9013 1006.11 58.8839 Q1006.11 62.8538 1008.7 65.2034 Q1011.34 67.5124 1015.83 67.5124 Q1022.03 67.5124 1025.76 63.1374 Q1029.52 58.7219 1029.52 51.4303 L1029.52 49.7694 L1022.11 49.7694 M1036.98 46.6907 L1036.98 72.576 L1029.52 72.576 L1029.52 65.6895 Q1026.97 69.8214 1023.17 71.8063 Q1019.36 73.7508 1013.85 73.7508 Q1006.88 73.7508 1002.75 69.8619 Q998.657 65.9325 998.657 59.3701 Q998.657 51.7138 1003.76 47.825 Q1008.91 43.9361 1019.07 43.9361 L1029.52 43.9361 L1029.52 43.2069 Q1029.52 38.0623 1026.12 35.2672 Q1022.76 32.4315 1016.64 32.4315 Q1012.75 32.4315 1009.07 33.3632 Q1005.38 34.295 1001.98 36.1584 L1001.98 29.2718 Q1006.07 27.692 1009.92 26.9223 Q1013.77 26.1121 1017.41 26.1121 Q1027.26 26.1121 1032.12 31.2163 Q1036.98 36.3204 1036.98 46.6907 Z\" fill=\"#000000\" fill-rule=\"nonzero\" fill-opacity=\"1\" /><path clip-path=\"url(#clip050)\" d=\"M1059.7 14.324 L1059.7 27.2059 L1075.06 27.2059 L1075.06 32.9987 L1059.7 32.9987 L1059.7 57.6282 Q1059.7 63.1779 1061.2 64.7578 Q1062.74 66.3376 1067.4 66.3376 L1075.06 66.3376 L1075.06 72.576 L1067.4 72.576 Q1058.77 72.576 1055.49 69.3758 Q1052.21 66.1351 1052.21 57.6282 L1052.21 32.9987 L1046.74 32.9987 L1046.74 27.2059 L1052.21 27.2059 L1052.21 14.324 L1059.7 14.324 Z\" fill=\"#000000\" fill-rule=\"nonzero\" fill-opacity=\"1\" /><path clip-path=\"url(#clip050)\" d=\"M1117.51 28.9478 L1117.51 35.9153 Q1114.35 34.1734 1111.15 33.3227 Q1107.99 32.4315 1104.75 32.4315 Q1097.5 32.4315 1093.49 37.0496 Q1089.48 41.6271 1089.48 49.9314 Q1089.48 58.2358 1093.49 62.8538 Q1097.5 67.4314 1104.75 67.4314 Q1107.99 67.4314 1111.15 66.5807 Q1114.35 65.6895 1117.51 63.9476 L1117.51 70.8341 Q1114.39 72.2924 1111.03 73.0216 Q1107.71 73.7508 1103.94 73.7508 Q1093.69 73.7508 1087.66 67.3098 Q1081.62 60.8689 1081.62 49.9314 Q1081.62 38.832 1087.7 32.472 Q1093.81 26.1121 1104.43 26.1121 Q1107.87 26.1121 1111.15 26.8413 Q1114.43 27.5299 1117.51 28.9478 Z\" fill=\"#000000\" fill-rule=\"nonzero\" fill-opacity=\"1\" /><path clip-path=\"url(#clip050)\" d=\"M1168.19 45.1919 L1168.19 72.576 L1160.73 72.576 L1160.73 45.4349 Q1160.73 38.994 1158.22 35.7938 Q1155.71 32.5936 1150.69 32.5936 Q1144.65 32.5936 1141.17 36.4419 Q1137.68 40.2903 1137.68 46.9338 L1137.68 72.576 L1130.19 72.576 L1130.19 9.54393 L1137.68 9.54393 L1137.68 34.2544 Q1140.36 30.163 1143.96 28.1376 Q1147.61 26.1121 1152.35 26.1121 Q1160.17 26.1121 1164.18 30.9732 Q1168.19 35.7938 1168.19 45.1919 Z\" fill=\"#000000\" fill-rule=\"nonzero\" fill-opacity=\"1\" /><path clip-path=\"url(#clip050)\" d=\"M1211.98 28.5427 L1211.98 35.5912 Q1208.82 33.9709 1205.42 33.1607 Q1202.01 32.3505 1198.37 32.3505 Q1192.82 32.3505 1190.02 34.0519 Q1187.27 35.7533 1187.27 39.156 Q1187.27 41.7486 1189.25 43.2475 Q1191.24 44.7058 1197.23 46.0426 L1199.78 46.6097 Q1207.72 48.3111 1211.05 51.4303 Q1214.41 54.509 1214.41 60.0587 Q1214.41 66.3781 1209.39 70.0644 Q1204.4 73.7508 1195.65 73.7508 Q1192.01 73.7508 1188.04 73.0216 Q1184.11 72.3329 1179.73 70.9151 L1179.73 63.2184 Q1183.86 65.3654 1187.87 66.4591 Q1191.89 67.5124 1195.81 67.5124 Q1201.08 67.5124 1203.92 65.73 Q1206.75 63.9071 1206.75 60.6258 Q1206.75 57.5877 1204.69 55.9673 Q1202.66 54.3469 1195.73 52.8481 L1193.14 52.2405 Q1186.21 50.7821 1183.14 47.7845 Q1180.06 44.7463 1180.06 39.4801 Q1180.06 33.0797 1184.59 29.5959 Q1189.13 26.1121 1197.48 26.1121 Q1201.61 26.1121 1205.25 26.7198 Q1208.9 27.3274 1211.98 28.5427 Z\" fill=\"#000000\" fill-rule=\"nonzero\" fill-opacity=\"1\" /><path clip-path=\"url(#clip050)\" d=\"M1226.28 27.2059 L1233.73 27.2059 L1233.73 72.576 L1226.28 72.576 L1226.28 27.2059 M1226.28 9.54393 L1233.73 9.54393 L1233.73 18.9825 L1226.28 18.9825 L1226.28 9.54393 Z\" fill=\"#000000\" fill-rule=\"nonzero\" fill-opacity=\"1\" /><path clip-path=\"url(#clip050)\" d=\"M1246.09 27.2059 L1281.49 27.2059 L1281.49 34.0114 L1253.46 66.6212 L1281.49 66.6212 L1281.49 72.576 L1245.07 72.576 L1245.07 65.7705 L1273.11 33.1607 L1246.09 33.1607 L1246.09 27.2059 Z\" fill=\"#000000\" fill-rule=\"nonzero\" fill-opacity=\"1\" /><path clip-path=\"url(#clip050)\" d=\"M1331.68 48.0275 L1331.68 51.6733 L1297.41 51.6733 Q1297.9 59.3701 1302.03 63.421 Q1306.2 67.4314 1313.61 67.4314 Q1317.91 67.4314 1321.92 66.3781 Q1325.97 65.3249 1329.94 63.2184 L1329.94 70.267 Q1325.93 71.9684 1321.72 72.8596 Q1317.5 73.7508 1313.17 73.7508 Q1302.31 73.7508 1295.95 67.4314 Q1289.63 61.1119 1289.63 50.3365 Q1289.63 39.1965 1295.63 32.6746 Q1301.66 26.1121 1311.87 26.1121 Q1321.03 26.1121 1326.33 32.0264 Q1331.68 37.9003 1331.68 48.0275 M1324.23 45.84 Q1324.15 39.7232 1320.78 36.0774 Q1317.46 32.4315 1311.95 32.4315 Q1305.72 32.4315 1301.95 35.9558 Q1298.22 39.4801 1297.65 45.8805 L1324.23 45.84 Z\" fill=\"#000000\" fill-rule=\"nonzero\" fill-opacity=\"1\" /><path clip-path=\"url(#clip050)\" d=\"M1344.89 34.9026 L1396.82 34.9026 L1396.82 41.7081 L1344.89 41.7081 L1344.89 34.9026 M1344.89 51.4303 L1396.82 51.4303 L1396.82 58.3168 L1344.89 58.3168 L1344.89 51.4303 Z\" fill=\"#000000\" fill-rule=\"nonzero\" fill-opacity=\"1\" /><path clip-path=\"url(#clip050)\" d=\"M1413.75 12.096 L1424.77 12.096 L1451.59 62.6918 L1451.59 12.096 L1459.53 12.096 L1459.53 72.576 L1448.51 72.576 L1421.69 21.9802 L1421.69 72.576 L1413.75 72.576 L1413.75 12.096 Z\" fill=\"#000000\" fill-rule=\"nonzero\" fill-opacity=\"1\" /><path clip-path=\"url(#clip050)\" d=\"M1488.74 12.096 L1495.62 12.096 L1474.56 80.2727 L1467.67 80.2727 L1488.74 12.096 Z\" fill=\"#000000\" fill-rule=\"nonzero\" fill-opacity=\"1\" /><path clip-path=\"url(#clip050)\" d=\"M1523.98 20.1573 L1512.88 50.2555 L1535.12 50.2555 L1523.98 20.1573 M1519.36 12.096 L1528.64 12.096 L1551.69 72.576 L1543.18 72.576 L1537.67 57.061 L1510.41 57.061 L1504.9 72.576 L1496.27 72.576 L1519.36 12.096 Z\" fill=\"#000000\" fill-rule=\"nonzero\" fill-opacity=\"1\" /><circle clip-path=\"url(#clip052)\" cx=\"1965.91\" cy=\"400.228\" r=\"14.4\" fill=\"#009af9\" fill-rule=\"evenodd\" fill-opacity=\"1\" stroke=\"#000000\" stroke-opacity=\"1\" stroke-width=\"3.2\"/>\n",
       "<circle clip-path=\"url(#clip052)\" cx=\"1885.66\" cy=\"699.117\" r=\"14.4\" fill=\"#009af9\" fill-rule=\"evenodd\" fill-opacity=\"1\" stroke=\"#000000\" stroke-opacity=\"1\" stroke-width=\"3.2\"/>\n",
       "<circle clip-path=\"url(#clip052)\" cx=\"1381.59\" cy=\"1099.95\" r=\"14.4\" fill=\"#009af9\" fill-rule=\"evenodd\" fill-opacity=\"1\" stroke=\"#000000\" stroke-opacity=\"1\" stroke-width=\"3.2\"/>\n",
       "<circle clip-path=\"url(#clip052)\" cx=\"840.001\" cy=\"426.835\" r=\"14.4\" fill=\"#009af9\" fill-rule=\"evenodd\" fill-opacity=\"1\" stroke=\"#000000\" stroke-opacity=\"1\" stroke-width=\"3.2\"/>\n",
       "<circle clip-path=\"url(#clip052)\" cx=\"1844.37\" cy=\"738.459\" r=\"14.4\" fill=\"#009af9\" fill-rule=\"evenodd\" fill-opacity=\"1\" stroke=\"#000000\" stroke-opacity=\"1\" stroke-width=\"3.2\"/>\n",
       "<circle clip-path=\"url(#clip052)\" cx=\"1505.97\" cy=\"904.226\" r=\"14.4\" fill=\"#009af9\" fill-rule=\"evenodd\" fill-opacity=\"1\" stroke=\"#000000\" stroke-opacity=\"1\" stroke-width=\"3.2\"/>\n",
       "<circle clip-path=\"url(#clip052)\" cx=\"1509.51\" cy=\"1130.72\" r=\"14.4\" fill=\"#009af9\" fill-rule=\"evenodd\" fill-opacity=\"1\" stroke=\"#000000\" stroke-opacity=\"1\" stroke-width=\"3.2\"/>\n",
       "<circle clip-path=\"url(#clip052)\" cx=\"650.32\" cy=\"503.41\" r=\"14.4\" fill=\"#009af9\" fill-rule=\"evenodd\" fill-opacity=\"1\" stroke=\"#000000\" stroke-opacity=\"1\" stroke-width=\"3.2\"/>\n",
       "<circle clip-path=\"url(#clip052)\" cx=\"1239.74\" cy=\"1031.49\" r=\"14.4\" fill=\"#009af9\" fill-rule=\"evenodd\" fill-opacity=\"1\" stroke=\"#000000\" stroke-opacity=\"1\" stroke-width=\"3.2\"/>\n",
       "<circle clip-path=\"url(#clip052)\" cx=\"700.048\" cy=\"583.521\" r=\"14.4\" fill=\"#009af9\" fill-rule=\"evenodd\" fill-opacity=\"1\" stroke=\"#000000\" stroke-opacity=\"1\" stroke-width=\"3.2\"/>\n",
       "<circle clip-path=\"url(#clip052)\" cx=\"1679.05\" cy=\"994.819\" r=\"14.4\" fill=\"#009af9\" fill-rule=\"evenodd\" fill-opacity=\"1\" stroke=\"#000000\" stroke-opacity=\"1\" stroke-width=\"3.2\"/>\n",
       "<circle clip-path=\"url(#clip052)\" cx=\"638.184\" cy=\"485.308\" r=\"14.4\" fill=\"#009af9\" fill-rule=\"evenodd\" fill-opacity=\"1\" stroke=\"#000000\" stroke-opacity=\"1\" stroke-width=\"3.2\"/>\n",
       "<circle clip-path=\"url(#clip052)\" cx=\"1182.46\" cy=\"937.091\" r=\"14.4\" fill=\"#009af9\" fill-rule=\"evenodd\" fill-opacity=\"1\" stroke=\"#000000\" stroke-opacity=\"1\" stroke-width=\"3.2\"/>\n",
       "<circle clip-path=\"url(#clip052)\" cx=\"371.231\" cy=\"701.317\" r=\"14.4\" fill=\"#009af9\" fill-rule=\"evenodd\" fill-opacity=\"1\" stroke=\"#000000\" stroke-opacity=\"1\" stroke-width=\"3.2\"/>\n",
       "<circle clip-path=\"url(#clip052)\" cx=\"1975.81\" cy=\"656.064\" r=\"14.4\" fill=\"#009af9\" fill-rule=\"evenodd\" fill-opacity=\"1\" stroke=\"#000000\" stroke-opacity=\"1\" stroke-width=\"3.2\"/>\n",
       "<circle clip-path=\"url(#clip052)\" cx=\"1369.02\" cy=\"1071.77\" r=\"14.4\" fill=\"#009af9\" fill-rule=\"evenodd\" fill-opacity=\"1\" stroke=\"#000000\" stroke-opacity=\"1\" stroke-width=\"3.2\"/>\n",
       "<circle clip-path=\"url(#clip052)\" cx=\"1687.83\" cy=\"778.017\" r=\"14.4\" fill=\"#009af9\" fill-rule=\"evenodd\" fill-opacity=\"1\" stroke=\"#000000\" stroke-opacity=\"1\" stroke-width=\"3.2\"/>\n",
       "<circle clip-path=\"url(#clip052)\" cx=\"415.277\" cy=\"767.719\" r=\"14.4\" fill=\"#009af9\" fill-rule=\"evenodd\" fill-opacity=\"1\" stroke=\"#000000\" stroke-opacity=\"1\" stroke-width=\"3.2\"/>\n",
       "<circle clip-path=\"url(#clip052)\" cx=\"1790.67\" cy=\"847.918\" r=\"14.4\" fill=\"#009af9\" fill-rule=\"evenodd\" fill-opacity=\"1\" stroke=\"#000000\" stroke-opacity=\"1\" stroke-width=\"3.2\"/>\n",
       "<circle clip-path=\"url(#clip052)\" cx=\"1633.7\" cy=\"909.006\" r=\"14.4\" fill=\"#009af9\" fill-rule=\"evenodd\" fill-opacity=\"1\" stroke=\"#000000\" stroke-opacity=\"1\" stroke-width=\"3.2\"/>\n",
       "<circle clip-path=\"url(#clip052)\" cx=\"401.75\" cy=\"832.233\" r=\"14.4\" fill=\"#009af9\" fill-rule=\"evenodd\" fill-opacity=\"1\" stroke=\"#000000\" stroke-opacity=\"1\" stroke-width=\"3.2\"/>\n",
       "<circle clip-path=\"url(#clip052)\" cx=\"506.994\" cy=\"642.593\" r=\"14.4\" fill=\"#009af9\" fill-rule=\"evenodd\" fill-opacity=\"1\" stroke=\"#000000\" stroke-opacity=\"1\" stroke-width=\"3.2\"/>\n",
       "<circle clip-path=\"url(#clip052)\" cx=\"1647.05\" cy=\"1058.49\" r=\"14.4\" fill=\"#009af9\" fill-rule=\"evenodd\" fill-opacity=\"1\" stroke=\"#000000\" stroke-opacity=\"1\" stroke-width=\"3.2\"/>\n",
       "<circle clip-path=\"url(#clip052)\" cx=\"2016.94\" cy=\"443.997\" r=\"14.4\" fill=\"#009af9\" fill-rule=\"evenodd\" fill-opacity=\"1\" stroke=\"#000000\" stroke-opacity=\"1\" stroke-width=\"3.2\"/>\n",
       "<circle clip-path=\"url(#clip052)\" cx=\"1510.94\" cy=\"1000.89\" r=\"14.4\" fill=\"#009af9\" fill-rule=\"evenodd\" fill-opacity=\"1\" stroke=\"#000000\" stroke-opacity=\"1\" stroke-width=\"3.2\"/>\n",
       "<circle clip-path=\"url(#clip052)\" cx=\"611.521\" cy=\"540.338\" r=\"14.4\" fill=\"#009af9\" fill-rule=\"evenodd\" fill-opacity=\"1\" stroke=\"#000000\" stroke-opacity=\"1\" stroke-width=\"3.2\"/>\n",
       "<circle clip-path=\"url(#clip052)\" cx=\"2095.22\" cy=\"522.17\" r=\"14.4\" fill=\"#009af9\" fill-rule=\"evenodd\" fill-opacity=\"1\" stroke=\"#000000\" stroke-opacity=\"1\" stroke-width=\"3.2\"/>\n",
       "<circle clip-path=\"url(#clip052)\" cx=\"758.267\" cy=\"475.906\" r=\"14.4\" fill=\"#009af9\" fill-rule=\"evenodd\" fill-opacity=\"1\" stroke=\"#000000\" stroke-opacity=\"1\" stroke-width=\"3.2\"/>\n",
       "<circle clip-path=\"url(#clip052)\" cx=\"634.433\" cy=\"476.229\" r=\"14.4\" fill=\"#009af9\" fill-rule=\"evenodd\" fill-opacity=\"1\" stroke=\"#000000\" stroke-opacity=\"1\" stroke-width=\"3.2\"/>\n",
       "<circle clip-path=\"url(#clip052)\" cx=\"943.579\" cy=\"655.282\" r=\"14.4\" fill=\"#009af9\" fill-rule=\"evenodd\" fill-opacity=\"1\" stroke=\"#000000\" stroke-opacity=\"1\" stroke-width=\"3.2\"/>\n",
       "<circle clip-path=\"url(#clip052)\" cx=\"1557.15\" cy=\"1176.11\" r=\"14.4\" fill=\"#009af9\" fill-rule=\"evenodd\" fill-opacity=\"1\" stroke=\"#000000\" stroke-opacity=\"1\" stroke-width=\"3.2\"/>\n",
       "<circle clip-path=\"url(#clip052)\" cx=\"613.779\" cy=\"627.909\" r=\"14.4\" fill=\"#009af9\" fill-rule=\"evenodd\" fill-opacity=\"1\" stroke=\"#000000\" stroke-opacity=\"1\" stroke-width=\"3.2\"/>\n",
       "<circle clip-path=\"url(#clip052)\" cx=\"1508.79\" cy=\"1063.42\" r=\"14.4\" fill=\"#009af9\" fill-rule=\"evenodd\" fill-opacity=\"1\" stroke=\"#000000\" stroke-opacity=\"1\" stroke-width=\"3.2\"/>\n",
       "<circle clip-path=\"url(#clip052)\" cx=\"598.211\" cy=\"730.789\" r=\"14.4\" fill=\"#009af9\" fill-rule=\"evenodd\" fill-opacity=\"1\" stroke=\"#000000\" stroke-opacity=\"1\" stroke-width=\"3.2\"/>\n",
       "<circle clip-path=\"url(#clip052)\" cx=\"1937.24\" cy=\"551.89\" r=\"14.4\" fill=\"#009af9\" fill-rule=\"evenodd\" fill-opacity=\"1\" stroke=\"#000000\" stroke-opacity=\"1\" stroke-width=\"3.2\"/>\n",
       "<circle clip-path=\"url(#clip052)\" cx=\"1875.4\" cy=\"558.344\" r=\"14.4\" fill=\"#009af9\" fill-rule=\"evenodd\" fill-opacity=\"1\" stroke=\"#000000\" stroke-opacity=\"1\" stroke-width=\"3.2\"/>\n",
       "<circle clip-path=\"url(#clip052)\" cx=\"2129\" cy=\"448.235\" r=\"14.4\" fill=\"#009af9\" fill-rule=\"evenodd\" fill-opacity=\"1\" stroke=\"#000000\" stroke-opacity=\"1\" stroke-width=\"3.2\"/>\n",
       "<circle clip-path=\"url(#clip052)\" cx=\"1304.95\" cy=\"1060.3\" r=\"14.4\" fill=\"#009af9\" fill-rule=\"evenodd\" fill-opacity=\"1\" stroke=\"#000000\" stroke-opacity=\"1\" stroke-width=\"3.2\"/>\n",
       "<circle clip-path=\"url(#clip052)\" cx=\"714.133\" cy=\"552.022\" r=\"14.4\" fill=\"#009af9\" fill-rule=\"evenodd\" fill-opacity=\"1\" stroke=\"#000000\" stroke-opacity=\"1\" stroke-width=\"3.2\"/>\n",
       "<circle clip-path=\"url(#clip052)\" cx=\"1034.16\" cy=\"835.899\" r=\"14.4\" fill=\"#009af9\" fill-rule=\"evenodd\" fill-opacity=\"1\" stroke=\"#000000\" stroke-opacity=\"1\" stroke-width=\"3.2\"/>\n",
       "<circle clip-path=\"url(#clip052)\" cx=\"875.179\" cy=\"622.931\" r=\"14.4\" fill=\"#009af9\" fill-rule=\"evenodd\" fill-opacity=\"1\" stroke=\"#000000\" stroke-opacity=\"1\" stroke-width=\"3.2\"/>\n",
       "<circle clip-path=\"url(#clip052)\" cx=\"1508.84\" cy=\"1209.69\" r=\"14.4\" fill=\"#009af9\" fill-rule=\"evenodd\" fill-opacity=\"1\" stroke=\"#000000\" stroke-opacity=\"1\" stroke-width=\"3.2\"/>\n",
       "<circle clip-path=\"url(#clip052)\" cx=\"1806.11\" cy=\"704.696\" r=\"14.4\" fill=\"#009af9\" fill-rule=\"evenodd\" fill-opacity=\"1\" stroke=\"#000000\" stroke-opacity=\"1\" stroke-width=\"3.2\"/>\n",
       "<circle clip-path=\"url(#clip052)\" cx=\"1625.01\" cy=\"910.054\" r=\"14.4\" fill=\"#009af9\" fill-rule=\"evenodd\" fill-opacity=\"1\" stroke=\"#000000\" stroke-opacity=\"1\" stroke-width=\"3.2\"/>\n",
       "<circle clip-path=\"url(#clip052)\" cx=\"477.875\" cy=\"546.252\" r=\"14.4\" fill=\"#009af9\" fill-rule=\"evenodd\" fill-opacity=\"1\" stroke=\"#000000\" stroke-opacity=\"1\" stroke-width=\"3.2\"/>\n",
       "<circle clip-path=\"url(#clip052)\" cx=\"790.985\" cy=\"527.76\" r=\"14.4\" fill=\"#009af9\" fill-rule=\"evenodd\" fill-opacity=\"1\" stroke=\"#000000\" stroke-opacity=\"1\" stroke-width=\"3.2\"/>\n",
       "<circle clip-path=\"url(#clip052)\" cx=\"1677.78\" cy=\"1030.62\" r=\"14.4\" fill=\"#009af9\" fill-rule=\"evenodd\" fill-opacity=\"1\" stroke=\"#000000\" stroke-opacity=\"1\" stroke-width=\"3.2\"/>\n",
       "<circle clip-path=\"url(#clip052)\" cx=\"2026.37\" cy=\"503.24\" r=\"14.4\" fill=\"#009af9\" fill-rule=\"evenodd\" fill-opacity=\"1\" stroke=\"#000000\" stroke-opacity=\"1\" stroke-width=\"3.2\"/>\n",
       "<circle clip-path=\"url(#clip052)\" cx=\"1189.91\" cy=\"1016.82\" r=\"14.4\" fill=\"#009af9\" fill-rule=\"evenodd\" fill-opacity=\"1\" stroke=\"#000000\" stroke-opacity=\"1\" stroke-width=\"3.2\"/>\n",
       "<circle clip-path=\"url(#clip052)\" cx=\"2024.6\" cy=\"682.121\" r=\"14.4\" fill=\"#009af9\" fill-rule=\"evenodd\" fill-opacity=\"1\" stroke=\"#000000\" stroke-opacity=\"1\" stroke-width=\"3.2\"/>\n",
       "<circle clip-path=\"url(#clip052)\" cx=\"794.792\" cy=\"504.585\" r=\"14.4\" fill=\"#009af9\" fill-rule=\"evenodd\" fill-opacity=\"1\" stroke=\"#000000\" stroke-opacity=\"1\" stroke-width=\"3.2\"/>\n",
       "<circle clip-path=\"url(#clip052)\" cx=\"646.862\" cy=\"514.93\" r=\"14.4\" fill=\"#009af9\" fill-rule=\"evenodd\" fill-opacity=\"1\" stroke=\"#000000\" stroke-opacity=\"1\" stroke-width=\"3.2\"/>\n",
       "<circle clip-path=\"url(#clip052)\" cx=\"1627.74\" cy=\"975.757\" r=\"14.4\" fill=\"#009af9\" fill-rule=\"evenodd\" fill-opacity=\"1\" stroke=\"#000000\" stroke-opacity=\"1\" stroke-width=\"3.2\"/>\n",
       "<circle clip-path=\"url(#clip052)\" cx=\"914.417\" cy=\"653.024\" r=\"14.4\" fill=\"#009af9\" fill-rule=\"evenodd\" fill-opacity=\"1\" stroke=\"#000000\" stroke-opacity=\"1\" stroke-width=\"3.2\"/>\n",
       "<circle clip-path=\"url(#clip052)\" cx=\"736.573\" cy=\"401.021\" r=\"14.4\" fill=\"#009af9\" fill-rule=\"evenodd\" fill-opacity=\"1\" stroke=\"#000000\" stroke-opacity=\"1\" stroke-width=\"3.2\"/>\n",
       "<circle clip-path=\"url(#clip052)\" cx=\"1360.24\" cy=\"1159.99\" r=\"14.4\" fill=\"#009af9\" fill-rule=\"evenodd\" fill-opacity=\"1\" stroke=\"#000000\" stroke-opacity=\"1\" stroke-width=\"3.2\"/>\n",
       "<circle clip-path=\"url(#clip052)\" cx=\"1320.85\" cy=\"1011.63\" r=\"14.4\" fill=\"#009af9\" fill-rule=\"evenodd\" fill-opacity=\"1\" stroke=\"#000000\" stroke-opacity=\"1\" stroke-width=\"3.2\"/>\n",
       "<circle clip-path=\"url(#clip052)\" cx=\"1161.79\" cy=\"978.141\" r=\"14.4\" fill=\"#009af9\" fill-rule=\"evenodd\" fill-opacity=\"1\" stroke=\"#000000\" stroke-opacity=\"1\" stroke-width=\"3.2\"/>\n",
       "<circle clip-path=\"url(#clip052)\" cx=\"1587.86\" cy=\"1099.76\" r=\"14.4\" fill=\"#009af9\" fill-rule=\"evenodd\" fill-opacity=\"1\" stroke=\"#000000\" stroke-opacity=\"1\" stroke-width=\"3.2\"/>\n",
       "<circle clip-path=\"url(#clip052)\" cx=\"537.919\" cy=\"606.724\" r=\"14.4\" fill=\"#009af9\" fill-rule=\"evenodd\" fill-opacity=\"1\" stroke=\"#000000\" stroke-opacity=\"1\" stroke-width=\"3.2\"/>\n",
       "<circle clip-path=\"url(#clip052)\" cx=\"669.768\" cy=\"625.753\" r=\"14.4\" fill=\"#009af9\" fill-rule=\"evenodd\" fill-opacity=\"1\" stroke=\"#000000\" stroke-opacity=\"1\" stroke-width=\"3.2\"/>\n",
       "<circle clip-path=\"url(#clip052)\" cx=\"1589.88\" cy=\"1007.91\" r=\"14.4\" fill=\"#009af9\" fill-rule=\"evenodd\" fill-opacity=\"1\" stroke=\"#000000\" stroke-opacity=\"1\" stroke-width=\"3.2\"/>\n",
       "<circle clip-path=\"url(#clip052)\" cx=\"1338.88\" cy=\"1042.87\" r=\"14.4\" fill=\"#009af9\" fill-rule=\"evenodd\" fill-opacity=\"1\" stroke=\"#000000\" stroke-opacity=\"1\" stroke-width=\"3.2\"/>\n",
       "<circle clip-path=\"url(#clip052)\" cx=\"1386.11\" cy=\"980.722\" r=\"14.4\" fill=\"#009af9\" fill-rule=\"evenodd\" fill-opacity=\"1\" stroke=\"#000000\" stroke-opacity=\"1\" stroke-width=\"3.2\"/>\n",
       "<circle clip-path=\"url(#clip052)\" cx=\"1548.49\" cy=\"908.844\" r=\"14.4\" fill=\"#009af9\" fill-rule=\"evenodd\" fill-opacity=\"1\" stroke=\"#000000\" stroke-opacity=\"1\" stroke-width=\"3.2\"/>\n",
       "<circle clip-path=\"url(#clip052)\" cx=\"571.091\" cy=\"498.358\" r=\"14.4\" fill=\"#009af9\" fill-rule=\"evenodd\" fill-opacity=\"1\" stroke=\"#000000\" stroke-opacity=\"1\" stroke-width=\"3.2\"/>\n",
       "<circle clip-path=\"url(#clip052)\" cx=\"1232.61\" cy=\"1067.53\" r=\"14.4\" fill=\"#009af9\" fill-rule=\"evenodd\" fill-opacity=\"1\" stroke=\"#000000\" stroke-opacity=\"1\" stroke-width=\"3.2\"/>\n",
       "<circle clip-path=\"url(#clip052)\" cx=\"1580.92\" cy=\"1011.58\" r=\"14.4\" fill=\"#009af9\" fill-rule=\"evenodd\" fill-opacity=\"1\" stroke=\"#000000\" stroke-opacity=\"1\" stroke-width=\"3.2\"/>\n",
       "<circle clip-path=\"url(#clip052)\" cx=\"597.933\" cy=\"446.366\" r=\"14.4\" fill=\"#009af9\" fill-rule=\"evenodd\" fill-opacity=\"1\" stroke=\"#000000\" stroke-opacity=\"1\" stroke-width=\"3.2\"/>\n",
       "<circle clip-path=\"url(#clip052)\" cx=\"872.397\" cy=\"792.966\" r=\"14.4\" fill=\"#009af9\" fill-rule=\"evenodd\" fill-opacity=\"1\" stroke=\"#000000\" stroke-opacity=\"1\" stroke-width=\"3.2\"/>\n",
       "<circle clip-path=\"url(#clip052)\" cx=\"1519.36\" cy=\"1010.77\" r=\"14.4\" fill=\"#009af9\" fill-rule=\"evenodd\" fill-opacity=\"1\" stroke=\"#000000\" stroke-opacity=\"1\" stroke-width=\"3.2\"/>\n",
       "<circle clip-path=\"url(#clip052)\" cx=\"2030.35\" cy=\"545.189\" r=\"14.4\" fill=\"#009af9\" fill-rule=\"evenodd\" fill-opacity=\"1\" stroke=\"#000000\" stroke-opacity=\"1\" stroke-width=\"3.2\"/>\n",
       "<circle clip-path=\"url(#clip052)\" cx=\"1016.27\" cy=\"576.365\" r=\"14.4\" fill=\"#009af9\" fill-rule=\"evenodd\" fill-opacity=\"1\" stroke=\"#000000\" stroke-opacity=\"1\" stroke-width=\"3.2\"/>\n",
       "<circle clip-path=\"url(#clip052)\" cx=\"879.945\" cy=\"647.9\" r=\"14.4\" fill=\"#009af9\" fill-rule=\"evenodd\" fill-opacity=\"1\" stroke=\"#000000\" stroke-opacity=\"1\" stroke-width=\"3.2\"/>\n",
       "<circle clip-path=\"url(#clip052)\" cx=\"1377.09\" cy=\"1127.56\" r=\"14.4\" fill=\"#009af9\" fill-rule=\"evenodd\" fill-opacity=\"1\" stroke=\"#000000\" stroke-opacity=\"1\" stroke-width=\"3.2\"/>\n",
       "<circle clip-path=\"url(#clip052)\" cx=\"525.516\" cy=\"573.216\" r=\"14.4\" fill=\"#009af9\" fill-rule=\"evenodd\" fill-opacity=\"1\" stroke=\"#000000\" stroke-opacity=\"1\" stroke-width=\"3.2\"/>\n",
       "<circle clip-path=\"url(#clip052)\" cx=\"1229.4\" cy=\"1025.64\" r=\"14.4\" fill=\"#009af9\" fill-rule=\"evenodd\" fill-opacity=\"1\" stroke=\"#000000\" stroke-opacity=\"1\" stroke-width=\"3.2\"/>\n",
       "<circle clip-path=\"url(#clip052)\" cx=\"584.986\" cy=\"623.514\" r=\"14.4\" fill=\"#009af9\" fill-rule=\"evenodd\" fill-opacity=\"1\" stroke=\"#000000\" stroke-opacity=\"1\" stroke-width=\"3.2\"/>\n",
       "<circle clip-path=\"url(#clip052)\" cx=\"1299.12\" cy=\"1184.68\" r=\"14.4\" fill=\"#009af9\" fill-rule=\"evenodd\" fill-opacity=\"1\" stroke=\"#000000\" stroke-opacity=\"1\" stroke-width=\"3.2\"/>\n",
       "<circle clip-path=\"url(#clip052)\" cx=\"1081.28\" cy=\"827.072\" r=\"14.4\" fill=\"#009af9\" fill-rule=\"evenodd\" fill-opacity=\"1\" stroke=\"#000000\" stroke-opacity=\"1\" stroke-width=\"3.2\"/>\n",
       "<circle clip-path=\"url(#clip052)\" cx=\"1050.09\" cy=\"664.326\" r=\"14.4\" fill=\"#009af9\" fill-rule=\"evenodd\" fill-opacity=\"1\" stroke=\"#000000\" stroke-opacity=\"1\" stroke-width=\"3.2\"/>\n",
       "<circle clip-path=\"url(#clip052)\" cx=\"1115.76\" cy=\"835.801\" r=\"14.4\" fill=\"#009af9\" fill-rule=\"evenodd\" fill-opacity=\"1\" stroke=\"#000000\" stroke-opacity=\"1\" stroke-width=\"3.2\"/>\n",
       "<circle clip-path=\"url(#clip052)\" cx=\"1020.93\" cy=\"818.782\" r=\"14.4\" fill=\"#009af9\" fill-rule=\"evenodd\" fill-opacity=\"1\" stroke=\"#000000\" stroke-opacity=\"1\" stroke-width=\"3.2\"/>\n",
       "<circle clip-path=\"url(#clip052)\" cx=\"624.392\" cy=\"807.85\" r=\"14.4\" fill=\"#009af9\" fill-rule=\"evenodd\" fill-opacity=\"1\" stroke=\"#000000\" stroke-opacity=\"1\" stroke-width=\"3.2\"/>\n",
       "<circle clip-path=\"url(#clip052)\" cx=\"1450.82\" cy=\"1054.55\" r=\"14.4\" fill=\"#009af9\" fill-rule=\"evenodd\" fill-opacity=\"1\" stroke=\"#000000\" stroke-opacity=\"1\" stroke-width=\"3.2\"/>\n",
       "<circle clip-path=\"url(#clip052)\" cx=\"759.926\" cy=\"490.737\" r=\"14.4\" fill=\"#009af9\" fill-rule=\"evenodd\" fill-opacity=\"1\" stroke=\"#000000\" stroke-opacity=\"1\" stroke-width=\"3.2\"/>\n",
       "<circle clip-path=\"url(#clip052)\" cx=\"946.827\" cy=\"714.654\" r=\"14.4\" fill=\"#009af9\" fill-rule=\"evenodd\" fill-opacity=\"1\" stroke=\"#000000\" stroke-opacity=\"1\" stroke-width=\"3.2\"/>\n",
       "<circle clip-path=\"url(#clip052)\" cx=\"2009.34\" cy=\"612.704\" r=\"14.4\" fill=\"#009af9\" fill-rule=\"evenodd\" fill-opacity=\"1\" stroke=\"#000000\" stroke-opacity=\"1\" stroke-width=\"3.2\"/>\n",
       "<circle clip-path=\"url(#clip052)\" cx=\"915.734\" cy=\"736.219\" r=\"14.4\" fill=\"#009af9\" fill-rule=\"evenodd\" fill-opacity=\"1\" stroke=\"#000000\" stroke-opacity=\"1\" stroke-width=\"3.2\"/>\n",
       "<circle clip-path=\"url(#clip052)\" cx=\"1868.09\" cy=\"635.922\" r=\"14.4\" fill=\"#009af9\" fill-rule=\"evenodd\" fill-opacity=\"1\" stroke=\"#000000\" stroke-opacity=\"1\" stroke-width=\"3.2\"/>\n",
       "<circle clip-path=\"url(#clip052)\" cx=\"1891.14\" cy=\"731.414\" r=\"14.4\" fill=\"#009af9\" fill-rule=\"evenodd\" fill-opacity=\"1\" stroke=\"#000000\" stroke-opacity=\"1\" stroke-width=\"3.2\"/>\n",
       "<circle clip-path=\"url(#clip052)\" cx=\"1063.55\" cy=\"754.381\" r=\"14.4\" fill=\"#009af9\" fill-rule=\"evenodd\" fill-opacity=\"1\" stroke=\"#000000\" stroke-opacity=\"1\" stroke-width=\"3.2\"/>\n",
       "<circle clip-path=\"url(#clip052)\" cx=\"1350.41\" cy=\"1044.38\" r=\"14.4\" fill=\"#009af9\" fill-rule=\"evenodd\" fill-opacity=\"1\" stroke=\"#000000\" stroke-opacity=\"1\" stroke-width=\"3.2\"/>\n",
       "<circle clip-path=\"url(#clip052)\" cx=\"1388.67\" cy=\"1021.87\" r=\"14.4\" fill=\"#009af9\" fill-rule=\"evenodd\" fill-opacity=\"1\" stroke=\"#000000\" stroke-opacity=\"1\" stroke-width=\"3.2\"/>\n",
       "<circle clip-path=\"url(#clip052)\" cx=\"1586.47\" cy=\"978.934\" r=\"14.4\" fill=\"#009af9\" fill-rule=\"evenodd\" fill-opacity=\"1\" stroke=\"#000000\" stroke-opacity=\"1\" stroke-width=\"3.2\"/>\n",
       "<circle clip-path=\"url(#clip052)\" cx=\"820.55\" cy=\"526.081\" r=\"14.4\" fill=\"#009af9\" fill-rule=\"evenodd\" fill-opacity=\"1\" stroke=\"#000000\" stroke-opacity=\"1\" stroke-width=\"3.2\"/>\n",
       "<circle clip-path=\"url(#clip052)\" cx=\"666.917\" cy=\"506.462\" r=\"14.4\" fill=\"#009af9\" fill-rule=\"evenodd\" fill-opacity=\"1\" stroke=\"#000000\" stroke-opacity=\"1\" stroke-width=\"3.2\"/>\n",
       "<circle clip-path=\"url(#clip052)\" cx=\"1883.67\" cy=\"673.681\" r=\"14.4\" fill=\"#009af9\" fill-rule=\"evenodd\" fill-opacity=\"1\" stroke=\"#000000\" stroke-opacity=\"1\" stroke-width=\"3.2\"/>\n",
       "<circle clip-path=\"url(#clip052)\" cx=\"1378.03\" cy=\"1010.32\" r=\"14.4\" fill=\"#009af9\" fill-rule=\"evenodd\" fill-opacity=\"1\" stroke=\"#000000\" stroke-opacity=\"1\" stroke-width=\"3.2\"/>\n",
       "<circle clip-path=\"url(#clip052)\" cx=\"1556.47\" cy=\"928.997\" r=\"14.4\" fill=\"#009af9\" fill-rule=\"evenodd\" fill-opacity=\"1\" stroke=\"#000000\" stroke-opacity=\"1\" stroke-width=\"3.2\"/>\n",
       "<path clip-path=\"url(#clip052)\" d=\"M147.478 1022.78 L192.484 1003.25 L237.489 991.36 L282.495 987.283 L327.501 990.827 L372.506 1001.44 L417.512 1018.25 L462.518 1040.21 L507.523 1066.18 L552.529 1095.02 L597.535 1125.7 L642.54 1157.32 L687.546 1189.15 L732.552 1220.58 L777.557 1251.14 L822.563 1280.43 L867.569 1308.16 L912.574 1334.03 L957.58 1357.8 L1002.59 1379.25 L1047.59 1398.18 L1092.6 1414.43 L1137.6 1427.91 L1182.61 1438.59 L1227.61 1446.47 L1272.62 1451.64 L1317.63 1454.24 L1362.63 1454.45 L1407.64 1452.47 L1452.64 1448.53 L1497.65 1442.86 L1542.65 1435.7 L1587.66 1427.27 L1632.67 1417.78 L1677.67 1407.44 L1722.68 1396.41 L1767.68 1384.87 L1812.69 1372.94 L1857.69 1360.76 L1902.7 1348.42 L1947.7 1336.03 L1992.71 1323.65 L2037.72 1311.35 L2082.72 1299.19 L2127.73 1287.21 L2172.73 1275.45 L2217.74 1263.92 L2262.74 1252.67 L2307.75 1241.69 L2352.76 1231.01 L2352.76 107.211 L2307.75 121.964 L2262.74 136.829 L2217.74 151.77 L2172.73 166.743 L2127.73 181.701 L2082.72 196.591 L2037.72 211.355 L1992.71 225.929 L1947.7 240.243 L1902.7 254.219 L1857.69 267.774 L1812.69 280.818 L1767.68 293.253 L1722.68 304.976 L1677.67 315.876 L1632.67 325.834 L1587.66 334.725 L1542.65 342.416 L1497.65 348.768 L1452.64 353.633 L1407.64 356.854 L1362.63 358.27 L1317.63 357.709 L1272.62 354.994 L1227.61 349.946 L1182.61 342.387 L1137.6 332.151 L1092.6 319.096 L1047.59 303.124 L1002.59 284.2 L957.58 262.38 L912.574 237.826 L867.569 210.828 L822.563 181.795 L777.557 151.242 L732.552 119.752 L687.546 87.9132 L642.54 56.2607 L597.535 25.2001 L552.529 -5.05062 L507.523 -34.5048 L462.518 -63.4205 L417.512 -92.2757 L372.506 -121.704 L327.501 -152.398 L282.495 -184.983 L237.489 -219.914 L192.484 -257.393 L147.478 -297.349  Z\" fill=\"#e26f46\" fill-rule=\"evenodd\" fill-opacity=\"0.5\"/>\n",
       "<polyline clip-path=\"url(#clip052)\" style=\"stroke:#e26f46; stroke-linecap:round; stroke-linejoin:round; stroke-width:16; stroke-opacity:1; fill:none\" points=\"147.478,362.717 192.484,372.93 237.489,385.723 282.495,401.15 327.501,419.215 372.506,439.866 417.512,462.987 462.518,488.396 507.523,515.836 552.529,544.982 597.535,575.448 642.54,606.792 687.546,638.532 732.552,670.166 777.557,701.189 822.563,731.114 867.569,759.493 912.574,785.928 957.58,810.091 1002.59,831.724 1047.59,850.65 1092.6,866.764 1137.6,880.033 1182.61,890.486 1227.61,898.207 1272.62,903.318 1317.63,905.976 1362.63,906.36 1407.64,904.662 1452.64,901.081 1497.65,895.814 1542.65,889.058 1587.66,880.997 1632.67,871.808 1677.67,861.657 1722.68,850.694 1767.68,839.06 1812.69,826.878 1857.69,814.265 1902.7,801.32 1947.7,788.134 1992.71,774.789 2037.72,761.354 2082.72,747.892 2127.73,734.456 2172.73,721.094 2217.74,707.846 2262.74,694.748 2307.75,681.828 2352.76,669.112 \"/>\n",
       "<path clip-path=\"url(#clip050)\" d=\"M1925.76 1441.02 L2279.25 1441.02 L2279.25 1285.5 L1925.76 1285.5  Z\" fill=\"#ffffff\" fill-rule=\"evenodd\" fill-opacity=\"1\"/>\n",
       "<polyline clip-path=\"url(#clip050)\" style=\"stroke:#000000; stroke-linecap:round; stroke-linejoin:round; stroke-width:4; stroke-opacity:1; fill:none\" points=\"1925.76,1441.02 2279.25,1441.02 2279.25,1285.5 1925.76,1285.5 1925.76,1441.02 \"/>\n",
       "<circle clip-path=\"url(#clip050)\" cx=\"2023.77\" cy=\"1337.34\" r=\"20.48\" fill=\"#009af9\" fill-rule=\"evenodd\" fill-opacity=\"1\" stroke=\"#000000\" stroke-opacity=\"1\" stroke-width=\"4.55111\"/>\n",
       "<path clip-path=\"url(#clip050)\" d=\"M2135.62 1357.02 Q2133.82 1361.65 2132.11 1363.06 Q2130.39 1364.48 2127.52 1364.48 L2124.12 1364.48 L2124.12 1360.91 L2126.62 1360.91 Q2128.38 1360.91 2129.35 1360.08 Q2130.32 1359.24 2131.5 1356.14 L2132.27 1354.2 L2121.78 1328.69 L2126.3 1328.69 L2134.4 1348.97 L2142.5 1328.69 L2147.01 1328.69 L2135.62 1357.02 Z\" fill=\"#000000\" fill-rule=\"nonzero\" fill-opacity=\"1\" /><path clip-path=\"url(#clip050)\" d=\"M2157.11 1321.33 L2157.11 1328.69 L2165.88 1328.69 L2165.88 1332 L2157.11 1332 L2157.11 1346.07 Q2157.11 1349.25 2157.96 1350.15 Q2158.84 1351.05 2161.5 1351.05 L2165.88 1351.05 L2165.88 1354.62 L2161.5 1354.62 Q2156.57 1354.62 2154.7 1352.79 Q2152.82 1350.93 2152.82 1346.07 L2152.82 1332 L2149.7 1332 L2149.7 1328.69 L2152.82 1328.69 L2152.82 1321.33 L2157.11 1321.33 Z\" fill=\"#000000\" fill-rule=\"nonzero\" fill-opacity=\"1\" /><path clip-path=\"url(#clip050)\" d=\"M2186.5 1332.67 Q2185.79 1332.25 2184.93 1332.07 Q2184.1 1331.86 2183.08 1331.86 Q2179.47 1331.86 2177.52 1334.22 Q2175.6 1336.56 2175.6 1340.96 L2175.6 1354.62 L2171.32 1354.62 L2171.32 1328.69 L2175.6 1328.69 L2175.6 1332.72 Q2176.94 1330.36 2179.1 1329.22 Q2181.25 1328.06 2184.33 1328.06 Q2184.77 1328.06 2185.3 1328.13 Q2185.83 1328.18 2186.48 1328.3 L2186.5 1332.67 Z\" fill=\"#000000\" fill-rule=\"nonzero\" fill-opacity=\"1\" /><path clip-path=\"url(#clip050)\" d=\"M2202.75 1341.58 Q2197.59 1341.58 2195.6 1342.76 Q2193.61 1343.94 2193.61 1346.79 Q2193.61 1349.06 2195.09 1350.4 Q2196.6 1351.72 2199.17 1351.72 Q2202.71 1351.72 2204.84 1349.22 Q2206.99 1346.7 2206.99 1342.53 L2206.99 1341.58 L2202.75 1341.58 M2211.25 1339.82 L2211.25 1354.62 L2206.99 1354.62 L2206.99 1350.68 Q2205.53 1353.04 2203.35 1354.18 Q2201.18 1355.29 2198.03 1355.29 Q2194.05 1355.29 2191.69 1353.06 Q2189.35 1350.82 2189.35 1347.07 Q2189.35 1342.69 2192.27 1340.47 Q2195.21 1338.25 2201.02 1338.25 L2206.99 1338.25 L2206.99 1337.83 Q2206.99 1334.89 2205.04 1333.3 Q2203.12 1331.68 2199.63 1331.68 Q2197.41 1331.68 2195.3 1332.21 Q2193.19 1332.74 2191.25 1333.81 L2191.25 1329.87 Q2193.59 1328.97 2195.79 1328.53 Q2197.98 1328.06 2200.07 1328.06 Q2205.69 1328.06 2208.47 1330.98 Q2211.25 1333.9 2211.25 1339.82 Z\" fill=\"#000000\" fill-rule=\"nonzero\" fill-opacity=\"1\" /><path clip-path=\"url(#clip050)\" d=\"M2220.02 1328.69 L2224.28 1328.69 L2224.28 1354.62 L2220.02 1354.62 L2220.02 1328.69 M2220.02 1318.6 L2224.28 1318.6 L2224.28 1323.99 L2220.02 1323.99 L2220.02 1318.6 Z\" fill=\"#000000\" fill-rule=\"nonzero\" fill-opacity=\"1\" /><path clip-path=\"url(#clip050)\" d=\"M2254.74 1338.97 L2254.74 1354.62 L2250.48 1354.62 L2250.48 1339.11 Q2250.48 1335.43 2249.05 1333.6 Q2247.61 1331.77 2244.74 1331.77 Q2241.29 1331.77 2239.3 1333.97 Q2237.31 1336.17 2237.31 1339.96 L2237.31 1354.62 L2233.03 1354.62 L2233.03 1328.69 L2237.31 1328.69 L2237.31 1332.72 Q2238.84 1330.38 2240.9 1329.22 Q2242.98 1328.06 2245.69 1328.06 Q2250.16 1328.06 2252.45 1330.84 Q2254.74 1333.6 2254.74 1338.97 Z\" fill=\"#000000\" fill-rule=\"nonzero\" fill-opacity=\"1\" /><polyline clip-path=\"url(#clip050)\" style=\"stroke:#e26f46; stroke-linecap:round; stroke-linejoin:round; stroke-width:16; stroke-opacity:1; fill:none\" points=\"1950.26,1389.18 2097.28,1389.18 \"/>\n",
       "<path clip-path=\"url(#clip050)\" d=\"M2135.62 1408.86 Q2133.82 1413.49 2132.11 1414.9 Q2130.39 1416.32 2127.52 1416.32 L2124.12 1416.32 L2124.12 1412.75 L2126.62 1412.75 Q2128.38 1412.75 2129.35 1411.92 Q2130.32 1411.08 2131.5 1407.98 L2132.27 1406.04 L2121.78 1380.53 L2126.3 1380.53 L2134.4 1400.81 L2142.5 1380.53 L2147.01 1380.53 L2135.62 1408.86 Z\" fill=\"#000000\" fill-rule=\"nonzero\" fill-opacity=\"1\" /><path clip-path=\"url(#clip050)\" d=\"M2174.44 1390.81 L2174.44 1406.46 L2170.18 1406.46 L2170.18 1390.95 Q2170.18 1387.27 2168.75 1385.44 Q2167.31 1383.61 2164.44 1383.61 Q2160.99 1383.61 2159 1385.81 Q2157.01 1388.01 2157.01 1391.8 L2157.01 1406.46 L2152.73 1406.46 L2152.73 1370.44 L2157.01 1370.44 L2157.01 1384.56 Q2158.54 1382.22 2160.6 1381.06 Q2162.68 1379.9 2165.39 1379.9 Q2169.86 1379.9 2172.15 1382.68 Q2174.44 1385.44 2174.44 1390.81 Z\" fill=\"#000000\" fill-rule=\"nonzero\" fill-opacity=\"1\" /><path clip-path=\"url(#clip050)\" d=\"M2194.72 1393.42 Q2189.56 1393.42 2187.57 1394.6 Q2185.58 1395.78 2185.58 1398.63 Q2185.58 1400.9 2187.06 1402.24 Q2188.56 1403.56 2191.13 1403.56 Q2194.67 1403.56 2196.8 1401.06 Q2198.96 1398.54 2198.96 1394.37 L2198.96 1393.42 L2194.72 1393.42 M2203.22 1391.66 L2203.22 1406.46 L2198.96 1406.46 L2198.96 1402.52 Q2197.5 1404.88 2195.32 1406.02 Q2193.15 1407.13 2190 1407.13 Q2186.02 1407.13 2183.66 1404.9 Q2181.32 1402.66 2181.32 1398.91 Q2181.32 1394.53 2184.23 1392.31 Q2187.17 1390.09 2192.98 1390.09 L2198.96 1390.09 L2198.96 1389.67 Q2198.96 1386.73 2197.01 1385.14 Q2195.09 1383.52 2191.6 1383.52 Q2189.37 1383.52 2187.27 1384.05 Q2185.16 1384.58 2183.22 1385.65 L2183.22 1381.71 Q2185.55 1380.81 2187.75 1380.37 Q2189.95 1379.9 2192.04 1379.9 Q2197.66 1379.9 2200.44 1382.82 Q2203.22 1385.74 2203.22 1391.66 Z\" fill=\"#000000\" fill-rule=\"nonzero\" fill-opacity=\"1\" /><path clip-path=\"url(#clip050)\" d=\"M2216.2 1373.17 L2216.2 1380.53 L2224.98 1380.53 L2224.98 1383.84 L2216.2 1383.84 L2216.2 1397.91 Q2216.2 1401.09 2217.06 1401.99 Q2217.94 1402.89 2220.6 1402.89 L2224.98 1402.89 L2224.98 1406.46 L2220.6 1406.46 Q2215.67 1406.46 2213.79 1404.63 Q2211.92 1402.77 2211.92 1397.91 L2211.92 1383.84 L2208.79 1383.84 L2208.79 1380.53 L2211.92 1380.53 L2211.92 1373.17 L2216.2 1373.17 Z\" fill=\"#000000\" fill-rule=\"nonzero\" fill-opacity=\"1\" /></svg>\n"
      ],
      "text/html": [
       "<?xml version=\"1.0\" encoding=\"utf-8\"?>\n",
       "<svg xmlns=\"http://www.w3.org/2000/svg\" xmlns:xlink=\"http://www.w3.org/1999/xlink\" width=\"600\" height=\"400\" viewBox=\"0 0 2400 1600\">\n",
       "<defs>\n",
       "  <clipPath id=\"clip100\">\n",
       "    <rect x=\"0\" y=\"0\" width=\"2400\" height=\"1600\"/>\n",
       "  </clipPath>\n",
       "</defs>\n",
       "<path clip-path=\"url(#clip100)\" d=\"M0 1600 L2400 1600 L2400 0 L0 0  Z\" fill=\"#ffffff\" fill-rule=\"evenodd\" fill-opacity=\"1\"/>\n",
       "<defs>\n",
       "  <clipPath id=\"clip101\">\n",
       "    <rect x=\"480\" y=\"0\" width=\"1681\" height=\"1600\"/>\n",
       "  </clipPath>\n",
       "</defs>\n",
       "<path clip-path=\"url(#clip100)\" d=\"M147.478 1486.45 L2352.76 1486.45 L2352.76 123.472 L147.478 123.472  Z\" fill=\"#ffffff\" fill-rule=\"evenodd\" fill-opacity=\"1\"/>\n",
       "<defs>\n",
       "  <clipPath id=\"clip102\">\n",
       "    <rect x=\"147\" y=\"123\" width=\"2206\" height=\"1364\"/>\n",
       "  </clipPath>\n",
       "</defs>\n",
       "<polyline clip-path=\"url(#clip102)\" style=\"stroke:#000000; stroke-linecap:round; stroke-linejoin:round; stroke-width:2; stroke-opacity:0.1; fill:none\" points=\"352.069,1486.45 352.069,123.472 \"/>\n",
       "<polyline clip-path=\"url(#clip102)\" style=\"stroke:#000000; stroke-linecap:round; stroke-linejoin:round; stroke-width:2; stroke-opacity:0.1; fill:none\" points=\"799.576,1486.45 799.576,123.472 \"/>\n",
       "<polyline clip-path=\"url(#clip102)\" style=\"stroke:#000000; stroke-linecap:round; stroke-linejoin:round; stroke-width:2; stroke-opacity:0.1; fill:none\" points=\"1247.08,1486.45 1247.08,123.472 \"/>\n",
       "<polyline clip-path=\"url(#clip102)\" style=\"stroke:#000000; stroke-linecap:round; stroke-linejoin:round; stroke-width:2; stroke-opacity:0.1; fill:none\" points=\"1694.59,1486.45 1694.59,123.472 \"/>\n",
       "<polyline clip-path=\"url(#clip102)\" style=\"stroke:#000000; stroke-linecap:round; stroke-linejoin:round; stroke-width:2; stroke-opacity:0.1; fill:none\" points=\"2142.1,1486.45 2142.1,123.472 \"/>\n",
       "<polyline clip-path=\"url(#clip100)\" style=\"stroke:#000000; stroke-linecap:round; stroke-linejoin:round; stroke-width:4; stroke-opacity:1; fill:none\" points=\"147.478,1486.45 2352.76,1486.45 \"/>\n",
       "<polyline clip-path=\"url(#clip100)\" style=\"stroke:#000000; stroke-linecap:round; stroke-linejoin:round; stroke-width:4; stroke-opacity:1; fill:none\" points=\"352.069,1486.45 352.069,1467.55 \"/>\n",
       "<polyline clip-path=\"url(#clip100)\" style=\"stroke:#000000; stroke-linecap:round; stroke-linejoin:round; stroke-width:4; stroke-opacity:1; fill:none\" points=\"799.576,1486.45 799.576,1467.55 \"/>\n",
       "<polyline clip-path=\"url(#clip100)\" style=\"stroke:#000000; stroke-linecap:round; stroke-linejoin:round; stroke-width:4; stroke-opacity:1; fill:none\" points=\"1247.08,1486.45 1247.08,1467.55 \"/>\n",
       "<polyline clip-path=\"url(#clip100)\" style=\"stroke:#000000; stroke-linecap:round; stroke-linejoin:round; stroke-width:4; stroke-opacity:1; fill:none\" points=\"1694.59,1486.45 1694.59,1467.55 \"/>\n",
       "<polyline clip-path=\"url(#clip100)\" style=\"stroke:#000000; stroke-linecap:round; stroke-linejoin:round; stroke-width:4; stroke-opacity:1; fill:none\" points=\"2142.1,1486.45 2142.1,1467.55 \"/>\n",
       "<path clip-path=\"url(#clip100)\" d=\"M352.069 1517.37 Q348.458 1517.37 346.629 1520.93 Q344.823 1524.47 344.823 1531.6 Q344.823 1538.71 346.629 1542.27 Q348.458 1545.82 352.069 1545.82 Q355.703 1545.82 357.508 1542.27 Q359.337 1538.71 359.337 1531.6 Q359.337 1524.47 357.508 1520.93 Q355.703 1517.37 352.069 1517.37 M352.069 1513.66 Q357.879 1513.66 360.934 1518.27 Q364.013 1522.85 364.013 1531.6 Q364.013 1540.33 360.934 1544.94 Q357.879 1549.52 352.069 1549.52 Q346.258 1549.52 343.18 1544.94 Q340.124 1540.33 340.124 1531.6 Q340.124 1522.85 343.18 1518.27 Q346.258 1513.66 352.069 1513.66 Z\" fill=\"#000000\" fill-rule=\"nonzero\" fill-opacity=\"1\" /><path clip-path=\"url(#clip100)\" d=\"M794.228 1544.91 L810.548 1544.91 L810.548 1548.85 L788.603 1548.85 L788.603 1544.91 Q791.265 1542.16 795.849 1537.53 Q800.455 1532.88 801.636 1531.53 Q803.881 1529.01 804.761 1527.27 Q805.664 1525.51 805.664 1523.82 Q805.664 1521.07 803.719 1519.33 Q801.798 1517.6 798.696 1517.6 Q796.497 1517.6 794.043 1518.36 Q791.613 1519.13 788.835 1520.68 L788.835 1515.95 Q791.659 1514.82 794.113 1514.24 Q796.566 1513.66 798.603 1513.66 Q803.974 1513.66 807.168 1516.35 Q810.363 1519.03 810.363 1523.52 Q810.363 1525.65 809.552 1527.57 Q808.765 1529.47 806.659 1532.07 Q806.08 1532.74 802.978 1535.95 Q799.877 1539.15 794.228 1544.91 Z\" fill=\"#000000\" fill-rule=\"nonzero\" fill-opacity=\"1\" /><path clip-path=\"url(#clip100)\" d=\"M1250.09 1518.36 L1238.29 1536.81 L1250.09 1536.81 L1250.09 1518.36 M1248.86 1514.29 L1254.74 1514.29 L1254.74 1536.81 L1259.68 1536.81 L1259.68 1540.7 L1254.74 1540.7 L1254.74 1548.85 L1250.09 1548.85 L1250.09 1540.7 L1234.49 1540.7 L1234.49 1536.19 L1248.86 1514.29 Z\" fill=\"#000000\" fill-rule=\"nonzero\" fill-opacity=\"1\" /><path clip-path=\"url(#clip100)\" d=\"M1694.99 1529.7 Q1691.85 1529.7 1689.99 1531.86 Q1688.17 1534.01 1688.17 1537.76 Q1688.17 1541.49 1689.99 1543.66 Q1691.85 1545.82 1694.99 1545.82 Q1698.14 1545.82 1699.97 1543.66 Q1701.82 1541.49 1701.82 1537.76 Q1701.82 1534.01 1699.97 1531.86 Q1698.14 1529.7 1694.99 1529.7 M1704.28 1515.05 L1704.28 1519.31 Q1702.52 1518.48 1700.71 1518.04 Q1698.93 1517.6 1697.17 1517.6 Q1692.54 1517.6 1690.09 1520.72 Q1687.66 1523.85 1687.31 1530.17 Q1688.68 1528.15 1690.74 1527.09 Q1692.8 1526 1695.27 1526 Q1700.48 1526 1703.49 1529.17 Q1706.52 1532.32 1706.52 1537.76 Q1706.52 1543.08 1703.37 1546.3 Q1700.23 1549.52 1694.99 1549.52 Q1689 1549.52 1685.83 1544.94 Q1682.66 1540.33 1682.66 1531.6 Q1682.66 1523.41 1686.55 1518.55 Q1690.43 1513.66 1696.99 1513.66 Q1698.74 1513.66 1700.53 1514.01 Q1702.33 1514.36 1704.28 1515.05 Z\" fill=\"#000000\" fill-rule=\"nonzero\" fill-opacity=\"1\" /><path clip-path=\"url(#clip100)\" d=\"M2142.1 1532.44 Q2138.76 1532.44 2136.84 1534.22 Q2134.94 1536 2134.94 1539.13 Q2134.94 1542.25 2136.84 1544.03 Q2138.76 1545.82 2142.1 1545.82 Q2145.43 1545.82 2147.35 1544.03 Q2149.27 1542.23 2149.27 1539.13 Q2149.27 1536 2147.35 1534.22 Q2145.45 1532.44 2142.1 1532.44 M2137.42 1530.45 Q2134.41 1529.7 2132.72 1527.64 Q2131.05 1525.58 2131.05 1522.62 Q2131.05 1518.48 2133.99 1516.07 Q2136.96 1513.66 2142.1 1513.66 Q2147.26 1513.66 2150.2 1516.07 Q2153.14 1518.48 2153.14 1522.62 Q2153.14 1525.58 2151.45 1527.64 Q2149.78 1529.7 2146.8 1530.45 Q2150.18 1531.23 2152.05 1533.52 Q2153.95 1535.82 2153.95 1539.13 Q2153.95 1544.15 2150.87 1546.83 Q2147.81 1549.52 2142.1 1549.52 Q2136.38 1549.52 2133.3 1546.83 Q2130.24 1544.15 2130.24 1539.13 Q2130.24 1535.82 2132.14 1533.52 Q2134.04 1531.23 2137.42 1530.45 M2135.71 1523.06 Q2135.71 1525.75 2137.37 1527.25 Q2139.06 1528.76 2142.1 1528.76 Q2145.11 1528.76 2146.8 1527.25 Q2148.51 1525.75 2148.51 1523.06 Q2148.51 1520.38 2146.8 1518.87 Q2145.11 1517.37 2142.1 1517.37 Q2139.06 1517.37 2137.37 1518.87 Q2135.71 1520.38 2135.71 1523.06 Z\" fill=\"#000000\" fill-rule=\"nonzero\" fill-opacity=\"1\" /><polyline clip-path=\"url(#clip102)\" style=\"stroke:#000000; stroke-linecap:round; stroke-linejoin:round; stroke-width:2; stroke-opacity:0.1; fill:none\" points=\"147.478,1364.37 2352.76,1364.37 \"/>\n",
       "<polyline clip-path=\"url(#clip102)\" style=\"stroke:#000000; stroke-linecap:round; stroke-linejoin:round; stroke-width:2; stroke-opacity:0.1; fill:none\" points=\"147.478,1087.61 2352.76,1087.61 \"/>\n",
       "<polyline clip-path=\"url(#clip102)\" style=\"stroke:#000000; stroke-linecap:round; stroke-linejoin:round; stroke-width:2; stroke-opacity:0.1; fill:none\" points=\"147.478,810.856 2352.76,810.856 \"/>\n",
       "<polyline clip-path=\"url(#clip102)\" style=\"stroke:#000000; stroke-linecap:round; stroke-linejoin:round; stroke-width:2; stroke-opacity:0.1; fill:none\" points=\"147.478,534.1 2352.76,534.1 \"/>\n",
       "<polyline clip-path=\"url(#clip102)\" style=\"stroke:#000000; stroke-linecap:round; stroke-linejoin:round; stroke-width:2; stroke-opacity:0.1; fill:none\" points=\"147.478,257.344 2352.76,257.344 \"/>\n",
       "<polyline clip-path=\"url(#clip100)\" style=\"stroke:#000000; stroke-linecap:round; stroke-linejoin:round; stroke-width:4; stroke-opacity:1; fill:none\" points=\"147.478,1486.45 147.478,123.472 \"/>\n",
       "<polyline clip-path=\"url(#clip100)\" style=\"stroke:#000000; stroke-linecap:round; stroke-linejoin:round; stroke-width:4; stroke-opacity:1; fill:none\" points=\"147.478,1364.37 166.376,1364.37 \"/>\n",
       "<polyline clip-path=\"url(#clip100)\" style=\"stroke:#000000; stroke-linecap:round; stroke-linejoin:round; stroke-width:4; stroke-opacity:1; fill:none\" points=\"147.478,1087.61 166.376,1087.61 \"/>\n",
       "<polyline clip-path=\"url(#clip100)\" style=\"stroke:#000000; stroke-linecap:round; stroke-linejoin:round; stroke-width:4; stroke-opacity:1; fill:none\" points=\"147.478,810.856 166.376,810.856 \"/>\n",
       "<polyline clip-path=\"url(#clip100)\" style=\"stroke:#000000; stroke-linecap:round; stroke-linejoin:round; stroke-width:4; stroke-opacity:1; fill:none\" points=\"147.478,534.1 166.376,534.1 \"/>\n",
       "<polyline clip-path=\"url(#clip100)\" style=\"stroke:#000000; stroke-linecap:round; stroke-linejoin:round; stroke-width:4; stroke-opacity:1; fill:none\" points=\"147.478,257.344 166.376,257.344 \"/>\n",
       "<path clip-path=\"url(#clip100)\" d=\"M51.3625 1364.82 L81.0383 1364.82 L81.0383 1368.75 L51.3625 1368.75 L51.3625 1364.82 Z\" fill=\"#000000\" fill-rule=\"nonzero\" fill-opacity=\"1\" /><path clip-path=\"url(#clip100)\" d=\"M95.1586 1377.71 L111.478 1377.71 L111.478 1381.65 L89.5336 1381.65 L89.5336 1377.71 Q92.1956 1374.96 96.7789 1370.33 Q101.385 1365.68 102.566 1364.33 Q104.811 1361.81 105.691 1360.07 Q106.594 1358.31 106.594 1356.63 Q106.594 1353.87 104.649 1352.13 Q102.728 1350.4 99.6261 1350.4 Q97.4271 1350.4 94.9734 1351.16 Q92.5428 1351.93 89.7651 1353.48 L89.7651 1348.75 Q92.5891 1347.62 95.0428 1347.04 Q97.4965 1346.46 99.5335 1346.46 Q104.904 1346.46 108.098 1349.15 Q111.293 1351.83 111.293 1356.32 Q111.293 1358.45 110.483 1360.38 Q109.696 1362.27 107.589 1364.87 Q107.01 1365.54 103.909 1368.75 Q100.807 1371.95 95.1586 1377.71 Z\" fill=\"#000000\" fill-rule=\"nonzero\" fill-opacity=\"1\" /><path clip-path=\"url(#clip100)\" d=\"M50.9921 1088.06 L80.6679 1088.06 L80.6679 1092 L50.9921 1092 L50.9921 1088.06 Z\" fill=\"#000000\" fill-rule=\"nonzero\" fill-opacity=\"1\" /><path clip-path=\"url(#clip100)\" d=\"M91.5706 1100.96 L99.2095 1100.96 L99.2095 1074.59 L90.8993 1076.26 L90.8993 1072 L99.1632 1070.33 L103.839 1070.33 L103.839 1100.96 L111.478 1100.96 L111.478 1104.89 L91.5706 1104.89 L91.5706 1100.96 Z\" fill=\"#000000\" fill-rule=\"nonzero\" fill-opacity=\"1\" /><path clip-path=\"url(#clip100)\" d=\"M99.5335 796.655 Q95.9224 796.655 94.0937 800.22 Q92.2882 803.761 92.2882 810.891 Q92.2882 817.997 94.0937 821.562 Q95.9224 825.104 99.5335 825.104 Q103.168 825.104 104.973 821.562 Q106.802 817.997 106.802 810.891 Q106.802 803.761 104.973 800.22 Q103.168 796.655 99.5335 796.655 M99.5335 792.951 Q105.344 792.951 108.399 797.558 Q111.478 802.141 111.478 810.891 Q111.478 819.618 108.399 824.224 Q105.344 828.807 99.5335 828.807 Q93.7234 828.807 90.6447 824.224 Q87.5892 819.618 87.5892 810.891 Q87.5892 802.141 90.6447 797.558 Q93.7234 792.951 99.5335 792.951 Z\" fill=\"#000000\" fill-rule=\"nonzero\" fill-opacity=\"1\" /><path clip-path=\"url(#clip100)\" d=\"M91.5706 547.445 L99.2095 547.445 L99.2095 521.079 L90.8993 522.746 L90.8993 518.487 L99.1632 516.82 L103.839 516.82 L103.839 547.445 L111.478 547.445 L111.478 551.38 L91.5706 551.38 L91.5706 547.445 Z\" fill=\"#000000\" fill-rule=\"nonzero\" fill-opacity=\"1\" /><path clip-path=\"url(#clip100)\" d=\"M95.1586 270.689 L111.478 270.689 L111.478 274.624 L89.5336 274.624 L89.5336 270.689 Q92.1956 267.935 96.7789 263.305 Q101.385 258.652 102.566 257.31 Q104.811 254.786 105.691 253.05 Q106.594 251.291 106.594 249.601 Q106.594 246.847 104.649 245.111 Q102.728 243.374 99.6261 243.374 Q97.4271 243.374 94.9734 244.138 Q92.5428 244.902 89.7651 246.453 L89.7651 241.731 Q92.5891 240.597 95.0428 240.018 Q97.4965 239.439 99.5335 239.439 Q104.904 239.439 108.098 242.125 Q111.293 244.81 111.293 249.3 Q111.293 251.43 110.483 253.351 Q109.696 255.249 107.589 257.842 Q107.01 258.513 103.909 261.731 Q100.807 264.925 95.1586 270.689 Z\" fill=\"#000000\" fill-rule=\"nonzero\" fill-opacity=\"1\" /><path clip-path=\"url(#clip100)\" d=\"M981.4 49.9314 Q981.4 41.7081 977.997 37.0496 Q974.635 32.3505 968.721 32.3505 Q962.807 32.3505 959.404 37.0496 Q956.042 41.7081 956.042 49.9314 Q956.042 58.1548 959.404 62.8538 Q962.807 67.5124 968.721 67.5124 Q974.635 67.5124 977.997 62.8538 Q981.4 58.1548 981.4 49.9314 M956.042 34.0924 Q958.391 30.0415 961.956 28.0971 Q965.561 26.1121 970.544 26.1121 Q978.808 26.1121 983.952 32.6746 Q989.137 39.2371 989.137 49.9314 Q989.137 60.6258 983.952 67.1883 Q978.808 73.7508 970.544 73.7508 Q965.561 73.7508 961.956 71.8063 Q958.391 69.8214 956.042 65.7705 L956.042 72.576 L948.547 72.576 L948.547 9.54393 L956.042 9.54393 L956.042 34.0924 Z\" fill=\"#000000\" fill-rule=\"nonzero\" fill-opacity=\"1\" /><path clip-path=\"url(#clip100)\" d=\"M1022.11 49.7694 Q1013.08 49.7694 1009.59 51.8354 Q1006.11 53.9013 1006.11 58.8839 Q1006.11 62.8538 1008.7 65.2034 Q1011.34 67.5124 1015.83 67.5124 Q1022.03 67.5124 1025.76 63.1374 Q1029.52 58.7219 1029.52 51.4303 L1029.52 49.7694 L1022.11 49.7694 M1036.98 46.6907 L1036.98 72.576 L1029.52 72.576 L1029.52 65.6895 Q1026.97 69.8214 1023.17 71.8063 Q1019.36 73.7508 1013.85 73.7508 Q1006.88 73.7508 1002.75 69.8619 Q998.657 65.9325 998.657 59.3701 Q998.657 51.7138 1003.76 47.825 Q1008.91 43.9361 1019.07 43.9361 L1029.52 43.9361 L1029.52 43.2069 Q1029.52 38.0623 1026.12 35.2672 Q1022.76 32.4315 1016.64 32.4315 Q1012.75 32.4315 1009.07 33.3632 Q1005.38 34.295 1001.98 36.1584 L1001.98 29.2718 Q1006.07 27.692 1009.92 26.9223 Q1013.77 26.1121 1017.41 26.1121 Q1027.26 26.1121 1032.12 31.2163 Q1036.98 36.3204 1036.98 46.6907 Z\" fill=\"#000000\" fill-rule=\"nonzero\" fill-opacity=\"1\" /><path clip-path=\"url(#clip100)\" d=\"M1059.7 14.324 L1059.7 27.2059 L1075.06 27.2059 L1075.06 32.9987 L1059.7 32.9987 L1059.7 57.6282 Q1059.7 63.1779 1061.2 64.7578 Q1062.74 66.3376 1067.4 66.3376 L1075.06 66.3376 L1075.06 72.576 L1067.4 72.576 Q1058.77 72.576 1055.49 69.3758 Q1052.21 66.1351 1052.21 57.6282 L1052.21 32.9987 L1046.74 32.9987 L1046.74 27.2059 L1052.21 27.2059 L1052.21 14.324 L1059.7 14.324 Z\" fill=\"#000000\" fill-rule=\"nonzero\" fill-opacity=\"1\" /><path clip-path=\"url(#clip100)\" d=\"M1117.51 28.9478 L1117.51 35.9153 Q1114.35 34.1734 1111.15 33.3227 Q1107.99 32.4315 1104.75 32.4315 Q1097.5 32.4315 1093.49 37.0496 Q1089.48 41.6271 1089.48 49.9314 Q1089.48 58.2358 1093.49 62.8538 Q1097.5 67.4314 1104.75 67.4314 Q1107.99 67.4314 1111.15 66.5807 Q1114.35 65.6895 1117.51 63.9476 L1117.51 70.8341 Q1114.39 72.2924 1111.03 73.0216 Q1107.71 73.7508 1103.94 73.7508 Q1093.69 73.7508 1087.66 67.3098 Q1081.62 60.8689 1081.62 49.9314 Q1081.62 38.832 1087.7 32.472 Q1093.81 26.1121 1104.43 26.1121 Q1107.87 26.1121 1111.15 26.8413 Q1114.43 27.5299 1117.51 28.9478 Z\" fill=\"#000000\" fill-rule=\"nonzero\" fill-opacity=\"1\" /><path clip-path=\"url(#clip100)\" d=\"M1168.19 45.1919 L1168.19 72.576 L1160.73 72.576 L1160.73 45.4349 Q1160.73 38.994 1158.22 35.7938 Q1155.71 32.5936 1150.69 32.5936 Q1144.65 32.5936 1141.17 36.4419 Q1137.68 40.2903 1137.68 46.9338 L1137.68 72.576 L1130.19 72.576 L1130.19 9.54393 L1137.68 9.54393 L1137.68 34.2544 Q1140.36 30.163 1143.96 28.1376 Q1147.61 26.1121 1152.35 26.1121 Q1160.17 26.1121 1164.18 30.9732 Q1168.19 35.7938 1168.19 45.1919 Z\" fill=\"#000000\" fill-rule=\"nonzero\" fill-opacity=\"1\" /><path clip-path=\"url(#clip100)\" d=\"M1211.98 28.5427 L1211.98 35.5912 Q1208.82 33.9709 1205.42 33.1607 Q1202.01 32.3505 1198.37 32.3505 Q1192.82 32.3505 1190.02 34.0519 Q1187.27 35.7533 1187.27 39.156 Q1187.27 41.7486 1189.25 43.2475 Q1191.24 44.7058 1197.23 46.0426 L1199.78 46.6097 Q1207.72 48.3111 1211.05 51.4303 Q1214.41 54.509 1214.41 60.0587 Q1214.41 66.3781 1209.39 70.0644 Q1204.4 73.7508 1195.65 73.7508 Q1192.01 73.7508 1188.04 73.0216 Q1184.11 72.3329 1179.73 70.9151 L1179.73 63.2184 Q1183.86 65.3654 1187.87 66.4591 Q1191.89 67.5124 1195.81 67.5124 Q1201.08 67.5124 1203.92 65.73 Q1206.75 63.9071 1206.75 60.6258 Q1206.75 57.5877 1204.69 55.9673 Q1202.66 54.3469 1195.73 52.8481 L1193.14 52.2405 Q1186.21 50.7821 1183.14 47.7845 Q1180.06 44.7463 1180.06 39.4801 Q1180.06 33.0797 1184.59 29.5959 Q1189.13 26.1121 1197.48 26.1121 Q1201.61 26.1121 1205.25 26.7198 Q1208.9 27.3274 1211.98 28.5427 Z\" fill=\"#000000\" fill-rule=\"nonzero\" fill-opacity=\"1\" /><path clip-path=\"url(#clip100)\" d=\"M1226.28 27.2059 L1233.73 27.2059 L1233.73 72.576 L1226.28 72.576 L1226.28 27.2059 M1226.28 9.54393 L1233.73 9.54393 L1233.73 18.9825 L1226.28 18.9825 L1226.28 9.54393 Z\" fill=\"#000000\" fill-rule=\"nonzero\" fill-opacity=\"1\" /><path clip-path=\"url(#clip100)\" d=\"M1246.09 27.2059 L1281.49 27.2059 L1281.49 34.0114 L1253.46 66.6212 L1281.49 66.6212 L1281.49 72.576 L1245.07 72.576 L1245.07 65.7705 L1273.11 33.1607 L1246.09 33.1607 L1246.09 27.2059 Z\" fill=\"#000000\" fill-rule=\"nonzero\" fill-opacity=\"1\" /><path clip-path=\"url(#clip100)\" d=\"M1331.68 48.0275 L1331.68 51.6733 L1297.41 51.6733 Q1297.9 59.3701 1302.03 63.421 Q1306.2 67.4314 1313.61 67.4314 Q1317.91 67.4314 1321.92 66.3781 Q1325.97 65.3249 1329.94 63.2184 L1329.94 70.267 Q1325.93 71.9684 1321.72 72.8596 Q1317.5 73.7508 1313.17 73.7508 Q1302.31 73.7508 1295.95 67.4314 Q1289.63 61.1119 1289.63 50.3365 Q1289.63 39.1965 1295.63 32.6746 Q1301.66 26.1121 1311.87 26.1121 Q1321.03 26.1121 1326.33 32.0264 Q1331.68 37.9003 1331.68 48.0275 M1324.23 45.84 Q1324.15 39.7232 1320.78 36.0774 Q1317.46 32.4315 1311.95 32.4315 Q1305.72 32.4315 1301.95 35.9558 Q1298.22 39.4801 1297.65 45.8805 L1324.23 45.84 Z\" fill=\"#000000\" fill-rule=\"nonzero\" fill-opacity=\"1\" /><path clip-path=\"url(#clip100)\" d=\"M1344.89 34.9026 L1396.82 34.9026 L1396.82 41.7081 L1344.89 41.7081 L1344.89 34.9026 M1344.89 51.4303 L1396.82 51.4303 L1396.82 58.3168 L1344.89 58.3168 L1344.89 51.4303 Z\" fill=\"#000000\" fill-rule=\"nonzero\" fill-opacity=\"1\" /><path clip-path=\"url(#clip100)\" d=\"M1413.75 12.096 L1424.77 12.096 L1451.59 62.6918 L1451.59 12.096 L1459.53 12.096 L1459.53 72.576 L1448.51 72.576 L1421.69 21.9802 L1421.69 72.576 L1413.75 72.576 L1413.75 12.096 Z\" fill=\"#000000\" fill-rule=\"nonzero\" fill-opacity=\"1\" /><path clip-path=\"url(#clip100)\" d=\"M1488.74 12.096 L1495.62 12.096 L1474.56 80.2727 L1467.67 80.2727 L1488.74 12.096 Z\" fill=\"#000000\" fill-rule=\"nonzero\" fill-opacity=\"1\" /><path clip-path=\"url(#clip100)\" d=\"M1523.98 20.1573 L1512.88 50.2555 L1535.12 50.2555 L1523.98 20.1573 M1519.36 12.096 L1528.64 12.096 L1551.69 72.576 L1543.18 72.576 L1537.67 57.061 L1510.41 57.061 L1504.9 72.576 L1496.27 72.576 L1519.36 12.096 Z\" fill=\"#000000\" fill-rule=\"nonzero\" fill-opacity=\"1\" /><circle clip-path=\"url(#clip102)\" cx=\"1965.91\" cy=\"400.228\" r=\"14.4\" fill=\"#009af9\" fill-rule=\"evenodd\" fill-opacity=\"1\" stroke=\"#000000\" stroke-opacity=\"1\" stroke-width=\"3.2\"/>\n",
       "<circle clip-path=\"url(#clip102)\" cx=\"1885.66\" cy=\"699.117\" r=\"14.4\" fill=\"#009af9\" fill-rule=\"evenodd\" fill-opacity=\"1\" stroke=\"#000000\" stroke-opacity=\"1\" stroke-width=\"3.2\"/>\n",
       "<circle clip-path=\"url(#clip102)\" cx=\"1381.59\" cy=\"1099.95\" r=\"14.4\" fill=\"#009af9\" fill-rule=\"evenodd\" fill-opacity=\"1\" stroke=\"#000000\" stroke-opacity=\"1\" stroke-width=\"3.2\"/>\n",
       "<circle clip-path=\"url(#clip102)\" cx=\"840.001\" cy=\"426.835\" r=\"14.4\" fill=\"#009af9\" fill-rule=\"evenodd\" fill-opacity=\"1\" stroke=\"#000000\" stroke-opacity=\"1\" stroke-width=\"3.2\"/>\n",
       "<circle clip-path=\"url(#clip102)\" cx=\"1844.37\" cy=\"738.459\" r=\"14.4\" fill=\"#009af9\" fill-rule=\"evenodd\" fill-opacity=\"1\" stroke=\"#000000\" stroke-opacity=\"1\" stroke-width=\"3.2\"/>\n",
       "<circle clip-path=\"url(#clip102)\" cx=\"1505.97\" cy=\"904.226\" r=\"14.4\" fill=\"#009af9\" fill-rule=\"evenodd\" fill-opacity=\"1\" stroke=\"#000000\" stroke-opacity=\"1\" stroke-width=\"3.2\"/>\n",
       "<circle clip-path=\"url(#clip102)\" cx=\"1509.51\" cy=\"1130.72\" r=\"14.4\" fill=\"#009af9\" fill-rule=\"evenodd\" fill-opacity=\"1\" stroke=\"#000000\" stroke-opacity=\"1\" stroke-width=\"3.2\"/>\n",
       "<circle clip-path=\"url(#clip102)\" cx=\"650.32\" cy=\"503.41\" r=\"14.4\" fill=\"#009af9\" fill-rule=\"evenodd\" fill-opacity=\"1\" stroke=\"#000000\" stroke-opacity=\"1\" stroke-width=\"3.2\"/>\n",
       "<circle clip-path=\"url(#clip102)\" cx=\"1239.74\" cy=\"1031.49\" r=\"14.4\" fill=\"#009af9\" fill-rule=\"evenodd\" fill-opacity=\"1\" stroke=\"#000000\" stroke-opacity=\"1\" stroke-width=\"3.2\"/>\n",
       "<circle clip-path=\"url(#clip102)\" cx=\"700.048\" cy=\"583.521\" r=\"14.4\" fill=\"#009af9\" fill-rule=\"evenodd\" fill-opacity=\"1\" stroke=\"#000000\" stroke-opacity=\"1\" stroke-width=\"3.2\"/>\n",
       "<circle clip-path=\"url(#clip102)\" cx=\"1679.05\" cy=\"994.819\" r=\"14.4\" fill=\"#009af9\" fill-rule=\"evenodd\" fill-opacity=\"1\" stroke=\"#000000\" stroke-opacity=\"1\" stroke-width=\"3.2\"/>\n",
       "<circle clip-path=\"url(#clip102)\" cx=\"638.184\" cy=\"485.308\" r=\"14.4\" fill=\"#009af9\" fill-rule=\"evenodd\" fill-opacity=\"1\" stroke=\"#000000\" stroke-opacity=\"1\" stroke-width=\"3.2\"/>\n",
       "<circle clip-path=\"url(#clip102)\" cx=\"1182.46\" cy=\"937.091\" r=\"14.4\" fill=\"#009af9\" fill-rule=\"evenodd\" fill-opacity=\"1\" stroke=\"#000000\" stroke-opacity=\"1\" stroke-width=\"3.2\"/>\n",
       "<circle clip-path=\"url(#clip102)\" cx=\"371.231\" cy=\"701.317\" r=\"14.4\" fill=\"#009af9\" fill-rule=\"evenodd\" fill-opacity=\"1\" stroke=\"#000000\" stroke-opacity=\"1\" stroke-width=\"3.2\"/>\n",
       "<circle clip-path=\"url(#clip102)\" cx=\"1975.81\" cy=\"656.064\" r=\"14.4\" fill=\"#009af9\" fill-rule=\"evenodd\" fill-opacity=\"1\" stroke=\"#000000\" stroke-opacity=\"1\" stroke-width=\"3.2\"/>\n",
       "<circle clip-path=\"url(#clip102)\" cx=\"1369.02\" cy=\"1071.77\" r=\"14.4\" fill=\"#009af9\" fill-rule=\"evenodd\" fill-opacity=\"1\" stroke=\"#000000\" stroke-opacity=\"1\" stroke-width=\"3.2\"/>\n",
       "<circle clip-path=\"url(#clip102)\" cx=\"1687.83\" cy=\"778.017\" r=\"14.4\" fill=\"#009af9\" fill-rule=\"evenodd\" fill-opacity=\"1\" stroke=\"#000000\" stroke-opacity=\"1\" stroke-width=\"3.2\"/>\n",
       "<circle clip-path=\"url(#clip102)\" cx=\"415.277\" cy=\"767.719\" r=\"14.4\" fill=\"#009af9\" fill-rule=\"evenodd\" fill-opacity=\"1\" stroke=\"#000000\" stroke-opacity=\"1\" stroke-width=\"3.2\"/>\n",
       "<circle clip-path=\"url(#clip102)\" cx=\"1790.67\" cy=\"847.918\" r=\"14.4\" fill=\"#009af9\" fill-rule=\"evenodd\" fill-opacity=\"1\" stroke=\"#000000\" stroke-opacity=\"1\" stroke-width=\"3.2\"/>\n",
       "<circle clip-path=\"url(#clip102)\" cx=\"1633.7\" cy=\"909.006\" r=\"14.4\" fill=\"#009af9\" fill-rule=\"evenodd\" fill-opacity=\"1\" stroke=\"#000000\" stroke-opacity=\"1\" stroke-width=\"3.2\"/>\n",
       "<circle clip-path=\"url(#clip102)\" cx=\"401.75\" cy=\"832.233\" r=\"14.4\" fill=\"#009af9\" fill-rule=\"evenodd\" fill-opacity=\"1\" stroke=\"#000000\" stroke-opacity=\"1\" stroke-width=\"3.2\"/>\n",
       "<circle clip-path=\"url(#clip102)\" cx=\"506.994\" cy=\"642.593\" r=\"14.4\" fill=\"#009af9\" fill-rule=\"evenodd\" fill-opacity=\"1\" stroke=\"#000000\" stroke-opacity=\"1\" stroke-width=\"3.2\"/>\n",
       "<circle clip-path=\"url(#clip102)\" cx=\"1647.05\" cy=\"1058.49\" r=\"14.4\" fill=\"#009af9\" fill-rule=\"evenodd\" fill-opacity=\"1\" stroke=\"#000000\" stroke-opacity=\"1\" stroke-width=\"3.2\"/>\n",
       "<circle clip-path=\"url(#clip102)\" cx=\"2016.94\" cy=\"443.997\" r=\"14.4\" fill=\"#009af9\" fill-rule=\"evenodd\" fill-opacity=\"1\" stroke=\"#000000\" stroke-opacity=\"1\" stroke-width=\"3.2\"/>\n",
       "<circle clip-path=\"url(#clip102)\" cx=\"1510.94\" cy=\"1000.89\" r=\"14.4\" fill=\"#009af9\" fill-rule=\"evenodd\" fill-opacity=\"1\" stroke=\"#000000\" stroke-opacity=\"1\" stroke-width=\"3.2\"/>\n",
       "<circle clip-path=\"url(#clip102)\" cx=\"611.521\" cy=\"540.338\" r=\"14.4\" fill=\"#009af9\" fill-rule=\"evenodd\" fill-opacity=\"1\" stroke=\"#000000\" stroke-opacity=\"1\" stroke-width=\"3.2\"/>\n",
       "<circle clip-path=\"url(#clip102)\" cx=\"2095.22\" cy=\"522.17\" r=\"14.4\" fill=\"#009af9\" fill-rule=\"evenodd\" fill-opacity=\"1\" stroke=\"#000000\" stroke-opacity=\"1\" stroke-width=\"3.2\"/>\n",
       "<circle clip-path=\"url(#clip102)\" cx=\"758.267\" cy=\"475.906\" r=\"14.4\" fill=\"#009af9\" fill-rule=\"evenodd\" fill-opacity=\"1\" stroke=\"#000000\" stroke-opacity=\"1\" stroke-width=\"3.2\"/>\n",
       "<circle clip-path=\"url(#clip102)\" cx=\"634.433\" cy=\"476.229\" r=\"14.4\" fill=\"#009af9\" fill-rule=\"evenodd\" fill-opacity=\"1\" stroke=\"#000000\" stroke-opacity=\"1\" stroke-width=\"3.2\"/>\n",
       "<circle clip-path=\"url(#clip102)\" cx=\"943.579\" cy=\"655.282\" r=\"14.4\" fill=\"#009af9\" fill-rule=\"evenodd\" fill-opacity=\"1\" stroke=\"#000000\" stroke-opacity=\"1\" stroke-width=\"3.2\"/>\n",
       "<circle clip-path=\"url(#clip102)\" cx=\"1557.15\" cy=\"1176.11\" r=\"14.4\" fill=\"#009af9\" fill-rule=\"evenodd\" fill-opacity=\"1\" stroke=\"#000000\" stroke-opacity=\"1\" stroke-width=\"3.2\"/>\n",
       "<circle clip-path=\"url(#clip102)\" cx=\"613.779\" cy=\"627.909\" r=\"14.4\" fill=\"#009af9\" fill-rule=\"evenodd\" fill-opacity=\"1\" stroke=\"#000000\" stroke-opacity=\"1\" stroke-width=\"3.2\"/>\n",
       "<circle clip-path=\"url(#clip102)\" cx=\"1508.79\" cy=\"1063.42\" r=\"14.4\" fill=\"#009af9\" fill-rule=\"evenodd\" fill-opacity=\"1\" stroke=\"#000000\" stroke-opacity=\"1\" stroke-width=\"3.2\"/>\n",
       "<circle clip-path=\"url(#clip102)\" cx=\"598.211\" cy=\"730.789\" r=\"14.4\" fill=\"#009af9\" fill-rule=\"evenodd\" fill-opacity=\"1\" stroke=\"#000000\" stroke-opacity=\"1\" stroke-width=\"3.2\"/>\n",
       "<circle clip-path=\"url(#clip102)\" cx=\"1937.24\" cy=\"551.89\" r=\"14.4\" fill=\"#009af9\" fill-rule=\"evenodd\" fill-opacity=\"1\" stroke=\"#000000\" stroke-opacity=\"1\" stroke-width=\"3.2\"/>\n",
       "<circle clip-path=\"url(#clip102)\" cx=\"1875.4\" cy=\"558.344\" r=\"14.4\" fill=\"#009af9\" fill-rule=\"evenodd\" fill-opacity=\"1\" stroke=\"#000000\" stroke-opacity=\"1\" stroke-width=\"3.2\"/>\n",
       "<circle clip-path=\"url(#clip102)\" cx=\"2129\" cy=\"448.235\" r=\"14.4\" fill=\"#009af9\" fill-rule=\"evenodd\" fill-opacity=\"1\" stroke=\"#000000\" stroke-opacity=\"1\" stroke-width=\"3.2\"/>\n",
       "<circle clip-path=\"url(#clip102)\" cx=\"1304.95\" cy=\"1060.3\" r=\"14.4\" fill=\"#009af9\" fill-rule=\"evenodd\" fill-opacity=\"1\" stroke=\"#000000\" stroke-opacity=\"1\" stroke-width=\"3.2\"/>\n",
       "<circle clip-path=\"url(#clip102)\" cx=\"714.133\" cy=\"552.022\" r=\"14.4\" fill=\"#009af9\" fill-rule=\"evenodd\" fill-opacity=\"1\" stroke=\"#000000\" stroke-opacity=\"1\" stroke-width=\"3.2\"/>\n",
       "<circle clip-path=\"url(#clip102)\" cx=\"1034.16\" cy=\"835.899\" r=\"14.4\" fill=\"#009af9\" fill-rule=\"evenodd\" fill-opacity=\"1\" stroke=\"#000000\" stroke-opacity=\"1\" stroke-width=\"3.2\"/>\n",
       "<circle clip-path=\"url(#clip102)\" cx=\"875.179\" cy=\"622.931\" r=\"14.4\" fill=\"#009af9\" fill-rule=\"evenodd\" fill-opacity=\"1\" stroke=\"#000000\" stroke-opacity=\"1\" stroke-width=\"3.2\"/>\n",
       "<circle clip-path=\"url(#clip102)\" cx=\"1508.84\" cy=\"1209.69\" r=\"14.4\" fill=\"#009af9\" fill-rule=\"evenodd\" fill-opacity=\"1\" stroke=\"#000000\" stroke-opacity=\"1\" stroke-width=\"3.2\"/>\n",
       "<circle clip-path=\"url(#clip102)\" cx=\"1806.11\" cy=\"704.696\" r=\"14.4\" fill=\"#009af9\" fill-rule=\"evenodd\" fill-opacity=\"1\" stroke=\"#000000\" stroke-opacity=\"1\" stroke-width=\"3.2\"/>\n",
       "<circle clip-path=\"url(#clip102)\" cx=\"1625.01\" cy=\"910.054\" r=\"14.4\" fill=\"#009af9\" fill-rule=\"evenodd\" fill-opacity=\"1\" stroke=\"#000000\" stroke-opacity=\"1\" stroke-width=\"3.2\"/>\n",
       "<circle clip-path=\"url(#clip102)\" cx=\"477.875\" cy=\"546.252\" r=\"14.4\" fill=\"#009af9\" fill-rule=\"evenodd\" fill-opacity=\"1\" stroke=\"#000000\" stroke-opacity=\"1\" stroke-width=\"3.2\"/>\n",
       "<circle clip-path=\"url(#clip102)\" cx=\"790.985\" cy=\"527.76\" r=\"14.4\" fill=\"#009af9\" fill-rule=\"evenodd\" fill-opacity=\"1\" stroke=\"#000000\" stroke-opacity=\"1\" stroke-width=\"3.2\"/>\n",
       "<circle clip-path=\"url(#clip102)\" cx=\"1677.78\" cy=\"1030.62\" r=\"14.4\" fill=\"#009af9\" fill-rule=\"evenodd\" fill-opacity=\"1\" stroke=\"#000000\" stroke-opacity=\"1\" stroke-width=\"3.2\"/>\n",
       "<circle clip-path=\"url(#clip102)\" cx=\"2026.37\" cy=\"503.24\" r=\"14.4\" fill=\"#009af9\" fill-rule=\"evenodd\" fill-opacity=\"1\" stroke=\"#000000\" stroke-opacity=\"1\" stroke-width=\"3.2\"/>\n",
       "<circle clip-path=\"url(#clip102)\" cx=\"1189.91\" cy=\"1016.82\" r=\"14.4\" fill=\"#009af9\" fill-rule=\"evenodd\" fill-opacity=\"1\" stroke=\"#000000\" stroke-opacity=\"1\" stroke-width=\"3.2\"/>\n",
       "<circle clip-path=\"url(#clip102)\" cx=\"2024.6\" cy=\"682.121\" r=\"14.4\" fill=\"#009af9\" fill-rule=\"evenodd\" fill-opacity=\"1\" stroke=\"#000000\" stroke-opacity=\"1\" stroke-width=\"3.2\"/>\n",
       "<circle clip-path=\"url(#clip102)\" cx=\"794.792\" cy=\"504.585\" r=\"14.4\" fill=\"#009af9\" fill-rule=\"evenodd\" fill-opacity=\"1\" stroke=\"#000000\" stroke-opacity=\"1\" stroke-width=\"3.2\"/>\n",
       "<circle clip-path=\"url(#clip102)\" cx=\"646.862\" cy=\"514.93\" r=\"14.4\" fill=\"#009af9\" fill-rule=\"evenodd\" fill-opacity=\"1\" stroke=\"#000000\" stroke-opacity=\"1\" stroke-width=\"3.2\"/>\n",
       "<circle clip-path=\"url(#clip102)\" cx=\"1627.74\" cy=\"975.757\" r=\"14.4\" fill=\"#009af9\" fill-rule=\"evenodd\" fill-opacity=\"1\" stroke=\"#000000\" stroke-opacity=\"1\" stroke-width=\"3.2\"/>\n",
       "<circle clip-path=\"url(#clip102)\" cx=\"914.417\" cy=\"653.024\" r=\"14.4\" fill=\"#009af9\" fill-rule=\"evenodd\" fill-opacity=\"1\" stroke=\"#000000\" stroke-opacity=\"1\" stroke-width=\"3.2\"/>\n",
       "<circle clip-path=\"url(#clip102)\" cx=\"736.573\" cy=\"401.021\" r=\"14.4\" fill=\"#009af9\" fill-rule=\"evenodd\" fill-opacity=\"1\" stroke=\"#000000\" stroke-opacity=\"1\" stroke-width=\"3.2\"/>\n",
       "<circle clip-path=\"url(#clip102)\" cx=\"1360.24\" cy=\"1159.99\" r=\"14.4\" fill=\"#009af9\" fill-rule=\"evenodd\" fill-opacity=\"1\" stroke=\"#000000\" stroke-opacity=\"1\" stroke-width=\"3.2\"/>\n",
       "<circle clip-path=\"url(#clip102)\" cx=\"1320.85\" cy=\"1011.63\" r=\"14.4\" fill=\"#009af9\" fill-rule=\"evenodd\" fill-opacity=\"1\" stroke=\"#000000\" stroke-opacity=\"1\" stroke-width=\"3.2\"/>\n",
       "<circle clip-path=\"url(#clip102)\" cx=\"1161.79\" cy=\"978.141\" r=\"14.4\" fill=\"#009af9\" fill-rule=\"evenodd\" fill-opacity=\"1\" stroke=\"#000000\" stroke-opacity=\"1\" stroke-width=\"3.2\"/>\n",
       "<circle clip-path=\"url(#clip102)\" cx=\"1587.86\" cy=\"1099.76\" r=\"14.4\" fill=\"#009af9\" fill-rule=\"evenodd\" fill-opacity=\"1\" stroke=\"#000000\" stroke-opacity=\"1\" stroke-width=\"3.2\"/>\n",
       "<circle clip-path=\"url(#clip102)\" cx=\"537.919\" cy=\"606.724\" r=\"14.4\" fill=\"#009af9\" fill-rule=\"evenodd\" fill-opacity=\"1\" stroke=\"#000000\" stroke-opacity=\"1\" stroke-width=\"3.2\"/>\n",
       "<circle clip-path=\"url(#clip102)\" cx=\"669.768\" cy=\"625.753\" r=\"14.4\" fill=\"#009af9\" fill-rule=\"evenodd\" fill-opacity=\"1\" stroke=\"#000000\" stroke-opacity=\"1\" stroke-width=\"3.2\"/>\n",
       "<circle clip-path=\"url(#clip102)\" cx=\"1589.88\" cy=\"1007.91\" r=\"14.4\" fill=\"#009af9\" fill-rule=\"evenodd\" fill-opacity=\"1\" stroke=\"#000000\" stroke-opacity=\"1\" stroke-width=\"3.2\"/>\n",
       "<circle clip-path=\"url(#clip102)\" cx=\"1338.88\" cy=\"1042.87\" r=\"14.4\" fill=\"#009af9\" fill-rule=\"evenodd\" fill-opacity=\"1\" stroke=\"#000000\" stroke-opacity=\"1\" stroke-width=\"3.2\"/>\n",
       "<circle clip-path=\"url(#clip102)\" cx=\"1386.11\" cy=\"980.722\" r=\"14.4\" fill=\"#009af9\" fill-rule=\"evenodd\" fill-opacity=\"1\" stroke=\"#000000\" stroke-opacity=\"1\" stroke-width=\"3.2\"/>\n",
       "<circle clip-path=\"url(#clip102)\" cx=\"1548.49\" cy=\"908.844\" r=\"14.4\" fill=\"#009af9\" fill-rule=\"evenodd\" fill-opacity=\"1\" stroke=\"#000000\" stroke-opacity=\"1\" stroke-width=\"3.2\"/>\n",
       "<circle clip-path=\"url(#clip102)\" cx=\"571.091\" cy=\"498.358\" r=\"14.4\" fill=\"#009af9\" fill-rule=\"evenodd\" fill-opacity=\"1\" stroke=\"#000000\" stroke-opacity=\"1\" stroke-width=\"3.2\"/>\n",
       "<circle clip-path=\"url(#clip102)\" cx=\"1232.61\" cy=\"1067.53\" r=\"14.4\" fill=\"#009af9\" fill-rule=\"evenodd\" fill-opacity=\"1\" stroke=\"#000000\" stroke-opacity=\"1\" stroke-width=\"3.2\"/>\n",
       "<circle clip-path=\"url(#clip102)\" cx=\"1580.92\" cy=\"1011.58\" r=\"14.4\" fill=\"#009af9\" fill-rule=\"evenodd\" fill-opacity=\"1\" stroke=\"#000000\" stroke-opacity=\"1\" stroke-width=\"3.2\"/>\n",
       "<circle clip-path=\"url(#clip102)\" cx=\"597.933\" cy=\"446.366\" r=\"14.4\" fill=\"#009af9\" fill-rule=\"evenodd\" fill-opacity=\"1\" stroke=\"#000000\" stroke-opacity=\"1\" stroke-width=\"3.2\"/>\n",
       "<circle clip-path=\"url(#clip102)\" cx=\"872.397\" cy=\"792.966\" r=\"14.4\" fill=\"#009af9\" fill-rule=\"evenodd\" fill-opacity=\"1\" stroke=\"#000000\" stroke-opacity=\"1\" stroke-width=\"3.2\"/>\n",
       "<circle clip-path=\"url(#clip102)\" cx=\"1519.36\" cy=\"1010.77\" r=\"14.4\" fill=\"#009af9\" fill-rule=\"evenodd\" fill-opacity=\"1\" stroke=\"#000000\" stroke-opacity=\"1\" stroke-width=\"3.2\"/>\n",
       "<circle clip-path=\"url(#clip102)\" cx=\"2030.35\" cy=\"545.189\" r=\"14.4\" fill=\"#009af9\" fill-rule=\"evenodd\" fill-opacity=\"1\" stroke=\"#000000\" stroke-opacity=\"1\" stroke-width=\"3.2\"/>\n",
       "<circle clip-path=\"url(#clip102)\" cx=\"1016.27\" cy=\"576.365\" r=\"14.4\" fill=\"#009af9\" fill-rule=\"evenodd\" fill-opacity=\"1\" stroke=\"#000000\" stroke-opacity=\"1\" stroke-width=\"3.2\"/>\n",
       "<circle clip-path=\"url(#clip102)\" cx=\"879.945\" cy=\"647.9\" r=\"14.4\" fill=\"#009af9\" fill-rule=\"evenodd\" fill-opacity=\"1\" stroke=\"#000000\" stroke-opacity=\"1\" stroke-width=\"3.2\"/>\n",
       "<circle clip-path=\"url(#clip102)\" cx=\"1377.09\" cy=\"1127.56\" r=\"14.4\" fill=\"#009af9\" fill-rule=\"evenodd\" fill-opacity=\"1\" stroke=\"#000000\" stroke-opacity=\"1\" stroke-width=\"3.2\"/>\n",
       "<circle clip-path=\"url(#clip102)\" cx=\"525.516\" cy=\"573.216\" r=\"14.4\" fill=\"#009af9\" fill-rule=\"evenodd\" fill-opacity=\"1\" stroke=\"#000000\" stroke-opacity=\"1\" stroke-width=\"3.2\"/>\n",
       "<circle clip-path=\"url(#clip102)\" cx=\"1229.4\" cy=\"1025.64\" r=\"14.4\" fill=\"#009af9\" fill-rule=\"evenodd\" fill-opacity=\"1\" stroke=\"#000000\" stroke-opacity=\"1\" stroke-width=\"3.2\"/>\n",
       "<circle clip-path=\"url(#clip102)\" cx=\"584.986\" cy=\"623.514\" r=\"14.4\" fill=\"#009af9\" fill-rule=\"evenodd\" fill-opacity=\"1\" stroke=\"#000000\" stroke-opacity=\"1\" stroke-width=\"3.2\"/>\n",
       "<circle clip-path=\"url(#clip102)\" cx=\"1299.12\" cy=\"1184.68\" r=\"14.4\" fill=\"#009af9\" fill-rule=\"evenodd\" fill-opacity=\"1\" stroke=\"#000000\" stroke-opacity=\"1\" stroke-width=\"3.2\"/>\n",
       "<circle clip-path=\"url(#clip102)\" cx=\"1081.28\" cy=\"827.072\" r=\"14.4\" fill=\"#009af9\" fill-rule=\"evenodd\" fill-opacity=\"1\" stroke=\"#000000\" stroke-opacity=\"1\" stroke-width=\"3.2\"/>\n",
       "<circle clip-path=\"url(#clip102)\" cx=\"1050.09\" cy=\"664.326\" r=\"14.4\" fill=\"#009af9\" fill-rule=\"evenodd\" fill-opacity=\"1\" stroke=\"#000000\" stroke-opacity=\"1\" stroke-width=\"3.2\"/>\n",
       "<circle clip-path=\"url(#clip102)\" cx=\"1115.76\" cy=\"835.801\" r=\"14.4\" fill=\"#009af9\" fill-rule=\"evenodd\" fill-opacity=\"1\" stroke=\"#000000\" stroke-opacity=\"1\" stroke-width=\"3.2\"/>\n",
       "<circle clip-path=\"url(#clip102)\" cx=\"1020.93\" cy=\"818.782\" r=\"14.4\" fill=\"#009af9\" fill-rule=\"evenodd\" fill-opacity=\"1\" stroke=\"#000000\" stroke-opacity=\"1\" stroke-width=\"3.2\"/>\n",
       "<circle clip-path=\"url(#clip102)\" cx=\"624.392\" cy=\"807.85\" r=\"14.4\" fill=\"#009af9\" fill-rule=\"evenodd\" fill-opacity=\"1\" stroke=\"#000000\" stroke-opacity=\"1\" stroke-width=\"3.2\"/>\n",
       "<circle clip-path=\"url(#clip102)\" cx=\"1450.82\" cy=\"1054.55\" r=\"14.4\" fill=\"#009af9\" fill-rule=\"evenodd\" fill-opacity=\"1\" stroke=\"#000000\" stroke-opacity=\"1\" stroke-width=\"3.2\"/>\n",
       "<circle clip-path=\"url(#clip102)\" cx=\"759.926\" cy=\"490.737\" r=\"14.4\" fill=\"#009af9\" fill-rule=\"evenodd\" fill-opacity=\"1\" stroke=\"#000000\" stroke-opacity=\"1\" stroke-width=\"3.2\"/>\n",
       "<circle clip-path=\"url(#clip102)\" cx=\"946.827\" cy=\"714.654\" r=\"14.4\" fill=\"#009af9\" fill-rule=\"evenodd\" fill-opacity=\"1\" stroke=\"#000000\" stroke-opacity=\"1\" stroke-width=\"3.2\"/>\n",
       "<circle clip-path=\"url(#clip102)\" cx=\"2009.34\" cy=\"612.704\" r=\"14.4\" fill=\"#009af9\" fill-rule=\"evenodd\" fill-opacity=\"1\" stroke=\"#000000\" stroke-opacity=\"1\" stroke-width=\"3.2\"/>\n",
       "<circle clip-path=\"url(#clip102)\" cx=\"915.734\" cy=\"736.219\" r=\"14.4\" fill=\"#009af9\" fill-rule=\"evenodd\" fill-opacity=\"1\" stroke=\"#000000\" stroke-opacity=\"1\" stroke-width=\"3.2\"/>\n",
       "<circle clip-path=\"url(#clip102)\" cx=\"1868.09\" cy=\"635.922\" r=\"14.4\" fill=\"#009af9\" fill-rule=\"evenodd\" fill-opacity=\"1\" stroke=\"#000000\" stroke-opacity=\"1\" stroke-width=\"3.2\"/>\n",
       "<circle clip-path=\"url(#clip102)\" cx=\"1891.14\" cy=\"731.414\" r=\"14.4\" fill=\"#009af9\" fill-rule=\"evenodd\" fill-opacity=\"1\" stroke=\"#000000\" stroke-opacity=\"1\" stroke-width=\"3.2\"/>\n",
       "<circle clip-path=\"url(#clip102)\" cx=\"1063.55\" cy=\"754.381\" r=\"14.4\" fill=\"#009af9\" fill-rule=\"evenodd\" fill-opacity=\"1\" stroke=\"#000000\" stroke-opacity=\"1\" stroke-width=\"3.2\"/>\n",
       "<circle clip-path=\"url(#clip102)\" cx=\"1350.41\" cy=\"1044.38\" r=\"14.4\" fill=\"#009af9\" fill-rule=\"evenodd\" fill-opacity=\"1\" stroke=\"#000000\" stroke-opacity=\"1\" stroke-width=\"3.2\"/>\n",
       "<circle clip-path=\"url(#clip102)\" cx=\"1388.67\" cy=\"1021.87\" r=\"14.4\" fill=\"#009af9\" fill-rule=\"evenodd\" fill-opacity=\"1\" stroke=\"#000000\" stroke-opacity=\"1\" stroke-width=\"3.2\"/>\n",
       "<circle clip-path=\"url(#clip102)\" cx=\"1586.47\" cy=\"978.934\" r=\"14.4\" fill=\"#009af9\" fill-rule=\"evenodd\" fill-opacity=\"1\" stroke=\"#000000\" stroke-opacity=\"1\" stroke-width=\"3.2\"/>\n",
       "<circle clip-path=\"url(#clip102)\" cx=\"820.55\" cy=\"526.081\" r=\"14.4\" fill=\"#009af9\" fill-rule=\"evenodd\" fill-opacity=\"1\" stroke=\"#000000\" stroke-opacity=\"1\" stroke-width=\"3.2\"/>\n",
       "<circle clip-path=\"url(#clip102)\" cx=\"666.917\" cy=\"506.462\" r=\"14.4\" fill=\"#009af9\" fill-rule=\"evenodd\" fill-opacity=\"1\" stroke=\"#000000\" stroke-opacity=\"1\" stroke-width=\"3.2\"/>\n",
       "<circle clip-path=\"url(#clip102)\" cx=\"1883.67\" cy=\"673.681\" r=\"14.4\" fill=\"#009af9\" fill-rule=\"evenodd\" fill-opacity=\"1\" stroke=\"#000000\" stroke-opacity=\"1\" stroke-width=\"3.2\"/>\n",
       "<circle clip-path=\"url(#clip102)\" cx=\"1378.03\" cy=\"1010.32\" r=\"14.4\" fill=\"#009af9\" fill-rule=\"evenodd\" fill-opacity=\"1\" stroke=\"#000000\" stroke-opacity=\"1\" stroke-width=\"3.2\"/>\n",
       "<circle clip-path=\"url(#clip102)\" cx=\"1556.47\" cy=\"928.997\" r=\"14.4\" fill=\"#009af9\" fill-rule=\"evenodd\" fill-opacity=\"1\" stroke=\"#000000\" stroke-opacity=\"1\" stroke-width=\"3.2\"/>\n",
       "<path clip-path=\"url(#clip102)\" d=\"M147.478 1022.78 L192.484 1003.25 L237.489 991.36 L282.495 987.283 L327.501 990.827 L372.506 1001.44 L417.512 1018.25 L462.518 1040.21 L507.523 1066.18 L552.529 1095.02 L597.535 1125.7 L642.54 1157.32 L687.546 1189.15 L732.552 1220.58 L777.557 1251.14 L822.563 1280.43 L867.569 1308.16 L912.574 1334.03 L957.58 1357.8 L1002.59 1379.25 L1047.59 1398.18 L1092.6 1414.43 L1137.6 1427.91 L1182.61 1438.59 L1227.61 1446.47 L1272.62 1451.64 L1317.63 1454.24 L1362.63 1454.45 L1407.64 1452.47 L1452.64 1448.53 L1497.65 1442.86 L1542.65 1435.7 L1587.66 1427.27 L1632.67 1417.78 L1677.67 1407.44 L1722.68 1396.41 L1767.68 1384.87 L1812.69 1372.94 L1857.69 1360.76 L1902.7 1348.42 L1947.7 1336.03 L1992.71 1323.65 L2037.72 1311.35 L2082.72 1299.19 L2127.73 1287.21 L2172.73 1275.45 L2217.74 1263.92 L2262.74 1252.67 L2307.75 1241.69 L2352.76 1231.01 L2352.76 107.211 L2307.75 121.964 L2262.74 136.829 L2217.74 151.77 L2172.73 166.743 L2127.73 181.701 L2082.72 196.591 L2037.72 211.355 L1992.71 225.929 L1947.7 240.243 L1902.7 254.219 L1857.69 267.774 L1812.69 280.818 L1767.68 293.253 L1722.68 304.976 L1677.67 315.876 L1632.67 325.834 L1587.66 334.725 L1542.65 342.416 L1497.65 348.768 L1452.64 353.633 L1407.64 356.854 L1362.63 358.27 L1317.63 357.709 L1272.62 354.994 L1227.61 349.946 L1182.61 342.387 L1137.6 332.151 L1092.6 319.096 L1047.59 303.124 L1002.59 284.2 L957.58 262.38 L912.574 237.826 L867.569 210.828 L822.563 181.795 L777.557 151.242 L732.552 119.752 L687.546 87.9132 L642.54 56.2607 L597.535 25.2001 L552.529 -5.05062 L507.523 -34.5048 L462.518 -63.4205 L417.512 -92.2757 L372.506 -121.704 L327.501 -152.398 L282.495 -184.983 L237.489 -219.914 L192.484 -257.393 L147.478 -297.349  Z\" fill=\"#e26f46\" fill-rule=\"evenodd\" fill-opacity=\"0.5\"/>\n",
       "<polyline clip-path=\"url(#clip102)\" style=\"stroke:#e26f46; stroke-linecap:round; stroke-linejoin:round; stroke-width:16; stroke-opacity:1; fill:none\" points=\"147.478,362.717 192.484,372.93 237.489,385.723 282.495,401.15 327.501,419.215 372.506,439.866 417.512,462.987 462.518,488.396 507.523,515.836 552.529,544.982 597.535,575.448 642.54,606.792 687.546,638.532 732.552,670.166 777.557,701.189 822.563,731.114 867.569,759.493 912.574,785.928 957.58,810.091 1002.59,831.724 1047.59,850.65 1092.6,866.764 1137.6,880.033 1182.61,890.486 1227.61,898.207 1272.62,903.318 1317.63,905.976 1362.63,906.36 1407.64,904.662 1452.64,901.081 1497.65,895.814 1542.65,889.058 1587.66,880.997 1632.67,871.808 1677.67,861.657 1722.68,850.694 1767.68,839.06 1812.69,826.878 1857.69,814.265 1902.7,801.32 1947.7,788.134 1992.71,774.789 2037.72,761.354 2082.72,747.892 2127.73,734.456 2172.73,721.094 2217.74,707.846 2262.74,694.748 2307.75,681.828 2352.76,669.112 \"/>\n",
       "<path clip-path=\"url(#clip100)\" d=\"M1925.76 1441.02 L2279.25 1441.02 L2279.25 1285.5 L1925.76 1285.5  Z\" fill=\"#ffffff\" fill-rule=\"evenodd\" fill-opacity=\"1\"/>\n",
       "<polyline clip-path=\"url(#clip100)\" style=\"stroke:#000000; stroke-linecap:round; stroke-linejoin:round; stroke-width:4; stroke-opacity:1; fill:none\" points=\"1925.76,1441.02 2279.25,1441.02 2279.25,1285.5 1925.76,1285.5 1925.76,1441.02 \"/>\n",
       "<circle clip-path=\"url(#clip100)\" cx=\"2023.77\" cy=\"1337.34\" r=\"20.48\" fill=\"#009af9\" fill-rule=\"evenodd\" fill-opacity=\"1\" stroke=\"#000000\" stroke-opacity=\"1\" stroke-width=\"4.55111\"/>\n",
       "<path clip-path=\"url(#clip100)\" d=\"M2135.62 1357.02 Q2133.82 1361.65 2132.11 1363.06 Q2130.39 1364.48 2127.52 1364.48 L2124.12 1364.48 L2124.12 1360.91 L2126.62 1360.91 Q2128.38 1360.91 2129.35 1360.08 Q2130.32 1359.24 2131.5 1356.14 L2132.27 1354.2 L2121.78 1328.69 L2126.3 1328.69 L2134.4 1348.97 L2142.5 1328.69 L2147.01 1328.69 L2135.62 1357.02 Z\" fill=\"#000000\" fill-rule=\"nonzero\" fill-opacity=\"1\" /><path clip-path=\"url(#clip100)\" d=\"M2157.11 1321.33 L2157.11 1328.69 L2165.88 1328.69 L2165.88 1332 L2157.11 1332 L2157.11 1346.07 Q2157.11 1349.25 2157.96 1350.15 Q2158.84 1351.05 2161.5 1351.05 L2165.88 1351.05 L2165.88 1354.62 L2161.5 1354.62 Q2156.57 1354.62 2154.7 1352.79 Q2152.82 1350.93 2152.82 1346.07 L2152.82 1332 L2149.7 1332 L2149.7 1328.69 L2152.82 1328.69 L2152.82 1321.33 L2157.11 1321.33 Z\" fill=\"#000000\" fill-rule=\"nonzero\" fill-opacity=\"1\" /><path clip-path=\"url(#clip100)\" d=\"M2186.5 1332.67 Q2185.79 1332.25 2184.93 1332.07 Q2184.1 1331.86 2183.08 1331.86 Q2179.47 1331.86 2177.52 1334.22 Q2175.6 1336.56 2175.6 1340.96 L2175.6 1354.62 L2171.32 1354.62 L2171.32 1328.69 L2175.6 1328.69 L2175.6 1332.72 Q2176.94 1330.36 2179.1 1329.22 Q2181.25 1328.06 2184.33 1328.06 Q2184.77 1328.06 2185.3 1328.13 Q2185.83 1328.18 2186.48 1328.3 L2186.5 1332.67 Z\" fill=\"#000000\" fill-rule=\"nonzero\" fill-opacity=\"1\" /><path clip-path=\"url(#clip100)\" d=\"M2202.75 1341.58 Q2197.59 1341.58 2195.6 1342.76 Q2193.61 1343.94 2193.61 1346.79 Q2193.61 1349.06 2195.09 1350.4 Q2196.6 1351.72 2199.17 1351.72 Q2202.71 1351.72 2204.84 1349.22 Q2206.99 1346.7 2206.99 1342.53 L2206.99 1341.58 L2202.75 1341.58 M2211.25 1339.82 L2211.25 1354.62 L2206.99 1354.62 L2206.99 1350.68 Q2205.53 1353.04 2203.35 1354.18 Q2201.18 1355.29 2198.03 1355.29 Q2194.05 1355.29 2191.69 1353.06 Q2189.35 1350.82 2189.35 1347.07 Q2189.35 1342.69 2192.27 1340.47 Q2195.21 1338.25 2201.02 1338.25 L2206.99 1338.25 L2206.99 1337.83 Q2206.99 1334.89 2205.04 1333.3 Q2203.12 1331.68 2199.63 1331.68 Q2197.41 1331.68 2195.3 1332.21 Q2193.19 1332.74 2191.25 1333.81 L2191.25 1329.87 Q2193.59 1328.97 2195.79 1328.53 Q2197.98 1328.06 2200.07 1328.06 Q2205.69 1328.06 2208.47 1330.98 Q2211.25 1333.9 2211.25 1339.82 Z\" fill=\"#000000\" fill-rule=\"nonzero\" fill-opacity=\"1\" /><path clip-path=\"url(#clip100)\" d=\"M2220.02 1328.69 L2224.28 1328.69 L2224.28 1354.62 L2220.02 1354.62 L2220.02 1328.69 M2220.02 1318.6 L2224.28 1318.6 L2224.28 1323.99 L2220.02 1323.99 L2220.02 1318.6 Z\" fill=\"#000000\" fill-rule=\"nonzero\" fill-opacity=\"1\" /><path clip-path=\"url(#clip100)\" d=\"M2254.74 1338.97 L2254.74 1354.62 L2250.48 1354.62 L2250.48 1339.11 Q2250.48 1335.43 2249.05 1333.6 Q2247.61 1331.77 2244.74 1331.77 Q2241.29 1331.77 2239.3 1333.97 Q2237.31 1336.17 2237.31 1339.96 L2237.31 1354.62 L2233.03 1354.62 L2233.03 1328.69 L2237.31 1328.69 L2237.31 1332.72 Q2238.84 1330.38 2240.9 1329.22 Q2242.98 1328.06 2245.69 1328.06 Q2250.16 1328.06 2252.45 1330.84 Q2254.74 1333.6 2254.74 1338.97 Z\" fill=\"#000000\" fill-rule=\"nonzero\" fill-opacity=\"1\" /><polyline clip-path=\"url(#clip100)\" style=\"stroke:#e26f46; stroke-linecap:round; stroke-linejoin:round; stroke-width:16; stroke-opacity:1; fill:none\" points=\"1950.26,1389.18 2097.28,1389.18 \"/>\n",
       "<path clip-path=\"url(#clip100)\" d=\"M2135.62 1408.86 Q2133.82 1413.49 2132.11 1414.9 Q2130.39 1416.32 2127.52 1416.32 L2124.12 1416.32 L2124.12 1412.75 L2126.62 1412.75 Q2128.38 1412.75 2129.35 1411.92 Q2130.32 1411.08 2131.5 1407.98 L2132.27 1406.04 L2121.78 1380.53 L2126.3 1380.53 L2134.4 1400.81 L2142.5 1380.53 L2147.01 1380.53 L2135.62 1408.86 Z\" fill=\"#000000\" fill-rule=\"nonzero\" fill-opacity=\"1\" /><path clip-path=\"url(#clip100)\" d=\"M2174.44 1390.81 L2174.44 1406.46 L2170.18 1406.46 L2170.18 1390.95 Q2170.18 1387.27 2168.75 1385.44 Q2167.31 1383.61 2164.44 1383.61 Q2160.99 1383.61 2159 1385.81 Q2157.01 1388.01 2157.01 1391.8 L2157.01 1406.46 L2152.73 1406.46 L2152.73 1370.44 L2157.01 1370.44 L2157.01 1384.56 Q2158.54 1382.22 2160.6 1381.06 Q2162.68 1379.9 2165.39 1379.9 Q2169.86 1379.9 2172.15 1382.68 Q2174.44 1385.44 2174.44 1390.81 Z\" fill=\"#000000\" fill-rule=\"nonzero\" fill-opacity=\"1\" /><path clip-path=\"url(#clip100)\" d=\"M2194.72 1393.42 Q2189.56 1393.42 2187.57 1394.6 Q2185.58 1395.78 2185.58 1398.63 Q2185.58 1400.9 2187.06 1402.24 Q2188.56 1403.56 2191.13 1403.56 Q2194.67 1403.56 2196.8 1401.06 Q2198.96 1398.54 2198.96 1394.37 L2198.96 1393.42 L2194.72 1393.42 M2203.22 1391.66 L2203.22 1406.46 L2198.96 1406.46 L2198.96 1402.52 Q2197.5 1404.88 2195.32 1406.02 Q2193.15 1407.13 2190 1407.13 Q2186.02 1407.13 2183.66 1404.9 Q2181.32 1402.66 2181.32 1398.91 Q2181.32 1394.53 2184.23 1392.31 Q2187.17 1390.09 2192.98 1390.09 L2198.96 1390.09 L2198.96 1389.67 Q2198.96 1386.73 2197.01 1385.14 Q2195.09 1383.52 2191.6 1383.52 Q2189.37 1383.52 2187.27 1384.05 Q2185.16 1384.58 2183.22 1385.65 L2183.22 1381.71 Q2185.55 1380.81 2187.75 1380.37 Q2189.95 1379.9 2192.04 1379.9 Q2197.66 1379.9 2200.44 1382.82 Q2203.22 1385.74 2203.22 1391.66 Z\" fill=\"#000000\" fill-rule=\"nonzero\" fill-opacity=\"1\" /><path clip-path=\"url(#clip100)\" d=\"M2216.2 1373.17 L2216.2 1380.53 L2224.98 1380.53 L2224.98 1383.84 L2216.2 1383.84 L2216.2 1397.91 Q2216.2 1401.09 2217.06 1401.99 Q2217.94 1402.89 2220.6 1402.89 L2224.98 1402.89 L2224.98 1406.46 L2220.6 1406.46 Q2215.67 1406.46 2213.79 1404.63 Q2211.92 1402.77 2211.92 1397.91 L2211.92 1383.84 L2208.79 1383.84 L2208.79 1380.53 L2211.92 1380.53 L2211.92 1373.17 L2216.2 1373.17 Z\" fill=\"#000000\" fill-rule=\"nonzero\" fill-opacity=\"1\" /></svg>\n"
      ]
     },
     "metadata": {},
     "output_type": "display_data"
    }
   ],
   "source": [
    "data = val[:data]\n",
    "# Fit unbatched LA\n",
    "if outdim == 1\n",
    "    la = Laplace(nn; likelihood=likelihood, λ=λ, subset_of_weights=:last_layer)\n",
    "    fit!(la, data)\n",
    "    # optimize_prior!(la; verbosity=1)\n",
    "    plot(la, X, y, title=\"batchsize=N/A\")                              # standard\n",
    "    # savefig(@sprintf(\"fig-01-%02d.png\", 0))\n",
    "    # plot(la, X, y; xlims=(-5, 5), ylims=(-5, 5))  # lims\n",
    "    # plot(la, X, y; link_approx=:plugin)         # plugin approximation\n",
    "end"
   ]
  },
  {
   "cell_type": "code",
   "execution_count": 49,
   "id": "ddd443fd-cc0a-4974-8e0f-9b19213084dd",
   "metadata": {
    "tags": []
   },
   "outputs": [
    {
     "data": {
      "text/plain": [
       "(1, 100)"
      ]
     },
     "metadata": {},
     "output_type": "display_data"
    }
   ],
   "source": [
    "size(X)"
   ]
  },
  {
   "cell_type": "code",
   "execution_count": 50,
   "id": "adeca19e-4941-4783-9ef9-eac5d75e5361",
   "metadata": {
    "tags": []
   },
   "outputs": [
    {
     "data": {
      "text/plain": [
       "loss (generic function with 1 method)"
      ]
     },
     "metadata": {},
     "output_type": "display_data"
    }
   ],
   "source": [
    "loss(x, y) = Flux.Losses.mse(nn(x), y, agg=sum) + weight_regularization()"
   ]
  },
  {
   "cell_type": "code",
   "execution_count": 51,
   "id": "8452b6b4-b84d-4f6f-b25b-52f4d1bb482d",
   "metadata": {
    "tags": []
   },
   "outputs": [
    {
     "name": "stdout",
     "output_type": "stream",
     "text": [
      "loss(x_1, y_1) = 0.8933631622263988\n",
      "loss(x_2, y_2) = 0.20500667179719492\n",
      "loss(x_1, y_1) + loss(x_2, y_2) = 1.0983698340235937\n",
      "loss(x_b, y_b) = 1.096862820730877\n"
     ]
    },
    {
     "data": {
      "text/plain": [
       "1.096862820730877"
      ]
     },
     "metadata": {},
     "output_type": "display_data"
    }
   ],
   "source": [
    "# The loss function should be summative\n",
    "# The loss of the batch is the sum of losses of its part\n",
    "x_1 = [1.5261694931931657]\n",
    "y_1 = [1.5517179074064962]\n",
    "x_2 = [5.795661372040879]\n",
    "y_2 = [-0.6585143352250986]\n",
    "x_b = hcat(x_1, x_2)\n",
    "y_b = hcat(y_1, y_2)\n",
    "@show loss(x_1, y_1)\n",
    "@show loss(x_2, y_2)\n",
    "@show loss(x_1, y_1) + loss(x_2, y_2)\n",
    "@show loss(x_b, y_b)"
   ]
  },
  {
   "cell_type": "code",
   "execution_count": 52,
   "id": "f44b826e-4d8c-439f-bfbe-f4ee928eaf2f",
   "metadata": {
    "tags": []
   },
   "outputs": [
    {
     "data": {
      "image/png": "[encoded data removed]",
      "image/svg+xml": [
       "<?xml version=\"1.0\" encoding=\"utf-8\"?>\n",
       "<svg xmlns=\"http://www.w3.org/2000/svg\" xmlns:xlink=\"http://www.w3.org/1999/xlink\" width=\"600\" height=\"400\" viewBox=\"0 0 2400 1600\">\n",
       "<defs>\n",
       "  <clipPath id=\"clip140\">\n",
       "    <rect x=\"0\" y=\"0\" width=\"2400\" height=\"1600\"/>\n",
       "  </clipPath>\n",
       "</defs>\n",
       "<path clip-path=\"url(#clip140)\" d=\"M0 1600 L2400 1600 L2400 0 L0 0  Z\" fill=\"#ffffff\" fill-rule=\"evenodd\" fill-opacity=\"1\"/>\n",
       "<defs>\n",
       "  <clipPath id=\"clip141\">\n",
       "    <rect x=\"480\" y=\"0\" width=\"1681\" height=\"1600\"/>\n",
       "  </clipPath>\n",
       "</defs>\n",
       "<path clip-path=\"url(#clip140)\" d=\"M147.478 1486.45 L2352.76 1486.45 L2352.76 123.472 L147.478 123.472  Z\" fill=\"#ffffff\" fill-rule=\"evenodd\" fill-opacity=\"1\"/>\n",
       "<defs>\n",
       "  <clipPath id=\"clip142\">\n",
       "    <rect x=\"147\" y=\"123\" width=\"2206\" height=\"1364\"/>\n",
       "  </clipPath>\n",
       "</defs>\n",
       "<polyline clip-path=\"url(#clip142)\" style=\"stroke:#000000; stroke-linecap:round; stroke-linejoin:round; stroke-width:2; stroke-opacity:0.1; fill:none\" points=\"352.069,1486.45 352.069,123.472 \"/>\n",
       "<polyline clip-path=\"url(#clip142)\" style=\"stroke:#000000; stroke-linecap:round; stroke-linejoin:round; stroke-width:2; stroke-opacity:0.1; fill:none\" points=\"799.576,1486.45 799.576,123.472 \"/>\n",
       "<polyline clip-path=\"url(#clip142)\" style=\"stroke:#000000; stroke-linecap:round; stroke-linejoin:round; stroke-width:2; stroke-opacity:0.1; fill:none\" points=\"1247.08,1486.45 1247.08,123.472 \"/>\n",
       "<polyline clip-path=\"url(#clip142)\" style=\"stroke:#000000; stroke-linecap:round; stroke-linejoin:round; stroke-width:2; stroke-opacity:0.1; fill:none\" points=\"1694.59,1486.45 1694.59,123.472 \"/>\n",
       "<polyline clip-path=\"url(#clip142)\" style=\"stroke:#000000; stroke-linecap:round; stroke-linejoin:round; stroke-width:2; stroke-opacity:0.1; fill:none\" points=\"2142.1,1486.45 2142.1,123.472 \"/>\n",
       "<polyline clip-path=\"url(#clip140)\" style=\"stroke:#000000; stroke-linecap:round; stroke-linejoin:round; stroke-width:4; stroke-opacity:1; fill:none\" points=\"147.478,1486.45 2352.76,1486.45 \"/>\n",
       "<polyline clip-path=\"url(#clip140)\" style=\"stroke:#000000; stroke-linecap:round; stroke-linejoin:round; stroke-width:4; stroke-opacity:1; fill:none\" points=\"352.069,1486.45 352.069,1467.55 \"/>\n",
       "<polyline clip-path=\"url(#clip140)\" style=\"stroke:#000000; stroke-linecap:round; stroke-linejoin:round; stroke-width:4; stroke-opacity:1; fill:none\" points=\"799.576,1486.45 799.576,1467.55 \"/>\n",
       "<polyline clip-path=\"url(#clip140)\" style=\"stroke:#000000; stroke-linecap:round; stroke-linejoin:round; stroke-width:4; stroke-opacity:1; fill:none\" points=\"1247.08,1486.45 1247.08,1467.55 \"/>\n",
       "<polyline clip-path=\"url(#clip140)\" style=\"stroke:#000000; stroke-linecap:round; stroke-linejoin:round; stroke-width:4; stroke-opacity:1; fill:none\" points=\"1694.59,1486.45 1694.59,1467.55 \"/>\n",
       "<polyline clip-path=\"url(#clip140)\" style=\"stroke:#000000; stroke-linecap:round; stroke-linejoin:round; stroke-width:4; stroke-opacity:1; fill:none\" points=\"2142.1,1486.45 2142.1,1467.55 \"/>\n",
       "<path clip-path=\"url(#clip140)\" d=\"M352.069 1517.37 Q348.458 1517.37 346.629 1520.93 Q344.823 1524.47 344.823 1531.6 Q344.823 1538.71 346.629 1542.27 Q348.458 1545.82 352.069 1545.82 Q355.703 1545.82 357.508 1542.27 Q359.337 1538.71 359.337 1531.6 Q359.337 1524.47 357.508 1520.93 Q355.703 1517.37 352.069 1517.37 M352.069 1513.66 Q357.879 1513.66 360.934 1518.27 Q364.013 1522.85 364.013 1531.6 Q364.013 1540.33 360.934 1544.94 Q357.879 1549.52 352.069 1549.52 Q346.258 1549.52 343.18 1544.94 Q340.124 1540.33 340.124 1531.6 Q340.124 1522.85 343.18 1518.27 Q346.258 1513.66 352.069 1513.66 Z\" fill=\"#000000\" fill-rule=\"nonzero\" fill-opacity=\"1\" /><path clip-path=\"url(#clip140)\" d=\"M794.228 1544.91 L810.548 1544.91 L810.548 1548.85 L788.603 1548.85 L788.603 1544.91 Q791.265 1542.16 795.849 1537.53 Q800.455 1532.88 801.636 1531.53 Q803.881 1529.01 804.761 1527.27 Q805.664 1525.51 805.664 1523.82 Q805.664 1521.07 803.719 1519.33 Q801.798 1517.6 798.696 1517.6 Q796.497 1517.6 794.043 1518.36 Q791.613 1519.13 788.835 1520.68 L788.835 1515.95 Q791.659 1514.82 794.113 1514.24 Q796.566 1513.66 798.603 1513.66 Q803.974 1513.66 807.168 1516.35 Q810.363 1519.03 810.363 1523.52 Q810.363 1525.65 809.552 1527.57 Q808.765 1529.47 806.659 1532.07 Q806.08 1532.74 802.978 1535.95 Q799.877 1539.15 794.228 1544.91 Z\" fill=\"#000000\" fill-rule=\"nonzero\" fill-opacity=\"1\" /><path clip-path=\"url(#clip140)\" d=\"M1250.09 1518.36 L1238.29 1536.81 L1250.09 1536.81 L1250.09 1518.36 M1248.86 1514.29 L1254.74 1514.29 L1254.74 1536.81 L1259.68 1536.81 L1259.68 1540.7 L1254.74 1540.7 L1254.74 1548.85 L1250.09 1548.85 L1250.09 1540.7 L1234.49 1540.7 L1234.49 1536.19 L1248.86 1514.29 Z\" fill=\"#000000\" fill-rule=\"nonzero\" fill-opacity=\"1\" /><path clip-path=\"url(#clip140)\" d=\"M1694.99 1529.7 Q1691.85 1529.7 1689.99 1531.86 Q1688.17 1534.01 1688.17 1537.76 Q1688.17 1541.49 1689.99 1543.66 Q1691.85 1545.82 1694.99 1545.82 Q1698.14 1545.82 1699.97 1543.66 Q1701.82 1541.49 1701.82 1537.76 Q1701.82 1534.01 1699.97 1531.86 Q1698.14 1529.7 1694.99 1529.7 M1704.28 1515.05 L1704.28 1519.31 Q1702.52 1518.48 1700.71 1518.04 Q1698.93 1517.6 1697.17 1517.6 Q1692.54 1517.6 1690.09 1520.72 Q1687.66 1523.85 1687.31 1530.17 Q1688.68 1528.15 1690.74 1527.09 Q1692.8 1526 1695.27 1526 Q1700.48 1526 1703.49 1529.17 Q1706.52 1532.32 1706.52 1537.76 Q1706.52 1543.08 1703.37 1546.3 Q1700.23 1549.52 1694.99 1549.52 Q1689 1549.52 1685.83 1544.94 Q1682.66 1540.33 1682.66 1531.6 Q1682.66 1523.41 1686.55 1518.55 Q1690.43 1513.66 1696.99 1513.66 Q1698.74 1513.66 1700.53 1514.01 Q1702.33 1514.36 1704.28 1515.05 Z\" fill=\"#000000\" fill-rule=\"nonzero\" fill-opacity=\"1\" /><path clip-path=\"url(#clip140)\" d=\"M2142.1 1532.44 Q2138.76 1532.44 2136.84 1534.22 Q2134.94 1536 2134.94 1539.13 Q2134.94 1542.25 2136.84 1544.03 Q2138.76 1545.82 2142.1 1545.82 Q2145.43 1545.82 2147.35 1544.03 Q2149.27 1542.23 2149.27 1539.13 Q2149.27 1536 2147.35 1534.22 Q2145.45 1532.44 2142.1 1532.44 M2137.42 1530.45 Q2134.41 1529.7 2132.72 1527.64 Q2131.05 1525.58 2131.05 1522.62 Q2131.05 1518.48 2133.99 1516.07 Q2136.96 1513.66 2142.1 1513.66 Q2147.26 1513.66 2150.2 1516.07 Q2153.14 1518.48 2153.14 1522.62 Q2153.14 1525.58 2151.45 1527.64 Q2149.78 1529.7 2146.8 1530.45 Q2150.18 1531.23 2152.05 1533.52 Q2153.95 1535.82 2153.95 1539.13 Q2153.95 1544.15 2150.87 1546.83 Q2147.81 1549.52 2142.1 1549.52 Q2136.38 1549.52 2133.3 1546.83 Q2130.24 1544.15 2130.24 1539.13 Q2130.24 1535.82 2132.14 1533.52 Q2134.04 1531.23 2137.42 1530.45 M2135.71 1523.06 Q2135.71 1525.75 2137.37 1527.25 Q2139.06 1528.76 2142.1 1528.76 Q2145.11 1528.76 2146.8 1527.25 Q2148.51 1525.75 2148.51 1523.06 Q2148.51 1520.38 2146.8 1518.87 Q2145.11 1517.37 2142.1 1517.37 Q2139.06 1517.37 2137.37 1518.87 Q2135.71 1520.38 2135.71 1523.06 Z\" fill=\"#000000\" fill-rule=\"nonzero\" fill-opacity=\"1\" /><polyline clip-path=\"url(#clip142)\" style=\"stroke:#000000; stroke-linecap:round; stroke-linejoin:round; stroke-width:2; stroke-opacity:0.1; fill:none\" points=\"147.478,1364.37 2352.76,1364.37 \"/>\n",
       "<polyline clip-path=\"url(#clip142)\" style=\"stroke:#000000; stroke-linecap:round; stroke-linejoin:round; stroke-width:2; stroke-opacity:0.1; fill:none\" points=\"147.478,1087.61 2352.76,1087.61 \"/>\n",
       "<polyline clip-path=\"url(#clip142)\" style=\"stroke:#000000; stroke-linecap:round; stroke-linejoin:round; stroke-width:2; stroke-opacity:0.1; fill:none\" points=\"147.478,810.856 2352.76,810.856 \"/>\n",
       "<polyline clip-path=\"url(#clip142)\" style=\"stroke:#000000; stroke-linecap:round; stroke-linejoin:round; stroke-width:2; stroke-opacity:0.1; fill:none\" points=\"147.478,534.1 2352.76,534.1 \"/>\n",
       "<polyline clip-path=\"url(#clip142)\" style=\"stroke:#000000; stroke-linecap:round; stroke-linejoin:round; stroke-width:2; stroke-opacity:0.1; fill:none\" points=\"147.478,257.344 2352.76,257.344 \"/>\n",
       "<polyline clip-path=\"url(#clip140)\" style=\"stroke:#000000; stroke-linecap:round; stroke-linejoin:round; stroke-width:4; stroke-opacity:1; fill:none\" points=\"147.478,1486.45 147.478,123.472 \"/>\n",
       "<polyline clip-path=\"url(#clip140)\" style=\"stroke:#000000; stroke-linecap:round; stroke-linejoin:round; stroke-width:4; stroke-opacity:1; fill:none\" points=\"147.478,1364.37 166.376,1364.37 \"/>\n",
       "<polyline clip-path=\"url(#clip140)\" style=\"stroke:#000000; stroke-linecap:round; stroke-linejoin:round; stroke-width:4; stroke-opacity:1; fill:none\" points=\"147.478,1087.61 166.376,1087.61 \"/>\n",
       "<polyline clip-path=\"url(#clip140)\" style=\"stroke:#000000; stroke-linecap:round; stroke-linejoin:round; stroke-width:4; stroke-opacity:1; fill:none\" points=\"147.478,810.856 166.376,810.856 \"/>\n",
       "<polyline clip-path=\"url(#clip140)\" style=\"stroke:#000000; stroke-linecap:round; stroke-linejoin:round; stroke-width:4; stroke-opacity:1; fill:none\" points=\"147.478,534.1 166.376,534.1 \"/>\n",
       "<polyline clip-path=\"url(#clip140)\" style=\"stroke:#000000; stroke-linecap:round; stroke-linejoin:round; stroke-width:4; stroke-opacity:1; fill:none\" points=\"147.478,257.344 166.376,257.344 \"/>\n",
       "<path clip-path=\"url(#clip140)\" d=\"M51.3625 1364.82 L81.0383 1364.82 L81.0383 1368.75 L51.3625 1368.75 L51.3625 1364.82 Z\" fill=\"#000000\" fill-rule=\"nonzero\" fill-opacity=\"1\" /><path clip-path=\"url(#clip140)\" d=\"M95.1586 1377.71 L111.478 1377.71 L111.478 1381.65 L89.5336 1381.65 L89.5336 1377.71 Q92.1956 1374.96 96.7789 1370.33 Q101.385 1365.68 102.566 1364.33 Q104.811 1361.81 105.691 1360.07 Q106.594 1358.31 106.594 1356.63 Q106.594 1353.87 104.649 1352.13 Q102.728 1350.4 99.6261 1350.4 Q97.4271 1350.4 94.9734 1351.16 Q92.5428 1351.93 89.7651 1353.48 L89.7651 1348.75 Q92.5891 1347.62 95.0428 1347.04 Q97.4965 1346.46 99.5335 1346.46 Q104.904 1346.46 108.098 1349.15 Q111.293 1351.83 111.293 1356.32 Q111.293 1358.45 110.483 1360.38 Q109.696 1362.27 107.589 1364.87 Q107.01 1365.54 103.909 1368.75 Q100.807 1371.95 95.1586 1377.71 Z\" fill=\"#000000\" fill-rule=\"nonzero\" fill-opacity=\"1\" /><path clip-path=\"url(#clip140)\" d=\"M50.9921 1088.06 L80.6679 1088.06 L80.6679 1092 L50.9921 1092 L50.9921 1088.06 Z\" fill=\"#000000\" fill-rule=\"nonzero\" fill-opacity=\"1\" /><path clip-path=\"url(#clip140)\" d=\"M91.5706 1100.96 L99.2095 1100.96 L99.2095 1074.59 L90.8993 1076.26 L90.8993 1072 L99.1632 1070.33 L103.839 1070.33 L103.839 1100.96 L111.478 1100.96 L111.478 1104.89 L91.5706 1104.89 L91.5706 1100.96 Z\" fill=\"#000000\" fill-rule=\"nonzero\" fill-opacity=\"1\" /><path clip-path=\"url(#clip140)\" d=\"M99.5335 796.655 Q95.9224 796.655 94.0937 800.22 Q92.2882 803.761 92.2882 810.891 Q92.2882 817.997 94.0937 821.562 Q95.9224 825.104 99.5335 825.104 Q103.168 825.104 104.973 821.562 Q106.802 817.997 106.802 810.891 Q106.802 803.761 104.973 800.22 Q103.168 796.655 99.5335 796.655 M99.5335 792.951 Q105.344 792.951 108.399 797.558 Q111.478 802.141 111.478 810.891 Q111.478 819.618 108.399 824.224 Q105.344 828.807 99.5335 828.807 Q93.7234 828.807 90.6447 824.224 Q87.5892 819.618 87.5892 810.891 Q87.5892 802.141 90.6447 797.558 Q93.7234 792.951 99.5335 792.951 Z\" fill=\"#000000\" fill-rule=\"nonzero\" fill-opacity=\"1\" /><path clip-path=\"url(#clip140)\" d=\"M91.5706 547.445 L99.2095 547.445 L99.2095 521.079 L90.8993 522.746 L90.8993 518.487 L99.1632 516.82 L103.839 516.82 L103.839 547.445 L111.478 547.445 L111.478 551.38 L91.5706 551.38 L91.5706 547.445 Z\" fill=\"#000000\" fill-rule=\"nonzero\" fill-opacity=\"1\" /><path clip-path=\"url(#clip140)\" d=\"M95.1586 270.689 L111.478 270.689 L111.478 274.624 L89.5336 274.624 L89.5336 270.689 Q92.1956 267.935 96.7789 263.305 Q101.385 258.652 102.566 257.31 Q104.811 254.786 105.691 253.05 Q106.594 251.291 106.594 249.601 Q106.594 246.847 104.649 245.111 Q102.728 243.374 99.6261 243.374 Q97.4271 243.374 94.9734 244.138 Q92.5428 244.902 89.7651 246.453 L89.7651 241.731 Q92.5891 240.597 95.0428 240.018 Q97.4965 239.439 99.5335 239.439 Q104.904 239.439 108.098 242.125 Q111.293 244.81 111.293 249.3 Q111.293 251.43 110.483 253.351 Q109.696 255.249 107.589 257.842 Q107.01 258.513 103.909 261.731 Q100.807 264.925 95.1586 270.689 Z\" fill=\"#000000\" fill-rule=\"nonzero\" fill-opacity=\"1\" /><path clip-path=\"url(#clip140)\" d=\"M1004.41 49.9314 Q1004.41 41.7081 1001.01 37.0496 Q997.644 32.3505 991.73 32.3505 Q985.816 32.3505 982.413 37.0496 Q979.051 41.7081 979.051 49.9314 Q979.051 58.1548 982.413 62.8538 Q985.816 67.5124 991.73 67.5124 Q997.644 67.5124 1001.01 62.8538 Q1004.41 58.1548 1004.41 49.9314 M979.051 34.0924 Q981.4 30.0415 984.965 28.0971 Q988.57 26.1121 993.553 26.1121 Q1001.82 26.1121 1006.96 32.6746 Q1012.15 39.2371 1012.15 49.9314 Q1012.15 60.6258 1006.96 67.1883 Q1001.82 73.7508 993.553 73.7508 Q988.57 73.7508 984.965 71.8063 Q981.4 69.8214 979.051 65.7705 L979.051 72.576 L971.556 72.576 L971.556 9.54393 L979.051 9.54393 L979.051 34.0924 Z\" fill=\"#000000\" fill-rule=\"nonzero\" fill-opacity=\"1\" /><path clip-path=\"url(#clip140)\" d=\"M1045.12 49.7694 Q1036.09 49.7694 1032.6 51.8354 Q1029.12 53.9013 1029.12 58.8839 Q1029.12 62.8538 1031.71 65.2034 Q1034.35 67.5124 1038.84 67.5124 Q1045.04 67.5124 1048.77 63.1374 Q1052.53 58.7219 1052.53 51.4303 L1052.53 49.7694 L1045.12 49.7694 M1059.99 46.6907 L1059.99 72.576 L1052.53 72.576 L1052.53 65.6895 Q1049.98 69.8214 1046.17 71.8063 Q1042.37 73.7508 1036.86 73.7508 Q1029.89 73.7508 1025.76 69.8619 Q1021.67 65.9325 1021.67 59.3701 Q1021.67 51.7138 1026.77 47.825 Q1031.91 43.9361 1042.08 43.9361 L1052.53 43.9361 L1052.53 43.2069 Q1052.53 38.0623 1049.13 35.2672 Q1045.77 32.4315 1039.65 32.4315 Q1035.76 32.4315 1032.08 33.3632 Q1028.39 34.295 1024.99 36.1584 L1024.99 29.2718 Q1029.08 27.692 1032.93 26.9223 Q1036.78 26.1121 1040.42 26.1121 Q1050.27 26.1121 1055.13 31.2163 Q1059.99 36.3204 1059.99 46.6907 Z\" fill=\"#000000\" fill-rule=\"nonzero\" fill-opacity=\"1\" /><path clip-path=\"url(#clip140)\" d=\"M1082.71 14.324 L1082.71 27.2059 L1098.07 27.2059 L1098.07 32.9987 L1082.71 32.9987 L1082.71 57.6282 Q1082.71 63.1779 1084.21 64.7578 Q1085.75 66.3376 1090.41 66.3376 L1098.07 66.3376 L1098.07 72.576 L1090.41 72.576 Q1081.78 72.576 1078.5 69.3758 Q1075.22 66.1351 1075.22 57.6282 L1075.22 32.9987 L1069.75 32.9987 L1069.75 27.2059 L1075.22 27.2059 L1075.22 14.324 L1082.71 14.324 Z\" fill=\"#000000\" fill-rule=\"nonzero\" fill-opacity=\"1\" /><path clip-path=\"url(#clip140)\" d=\"M1140.52 28.9478 L1140.52 35.9153 Q1137.36 34.1734 1134.16 33.3227 Q1131 32.4315 1127.76 32.4315 Q1120.51 32.4315 1116.5 37.0496 Q1112.49 41.6271 1112.49 49.9314 Q1112.49 58.2358 1116.5 62.8538 Q1120.51 67.4314 1127.76 67.4314 Q1131 67.4314 1134.16 66.5807 Q1137.36 65.6895 1140.52 63.9476 L1140.52 70.8341 Q1137.4 72.2924 1134.04 73.0216 Q1130.72 73.7508 1126.95 73.7508 Q1116.7 73.7508 1110.66 67.3098 Q1104.63 60.8689 1104.63 49.9314 Q1104.63 38.832 1110.71 32.472 Q1116.82 26.1121 1127.44 26.1121 Q1130.88 26.1121 1134.16 26.8413 Q1137.44 27.5299 1140.52 28.9478 Z\" fill=\"#000000\" fill-rule=\"nonzero\" fill-opacity=\"1\" /><path clip-path=\"url(#clip140)\" d=\"M1191.2 45.1919 L1191.2 72.576 L1183.74 72.576 L1183.74 45.4349 Q1183.74 38.994 1181.23 35.7938 Q1178.72 32.5936 1173.7 32.5936 Q1167.66 32.5936 1164.18 36.4419 Q1160.69 40.2903 1160.69 46.9338 L1160.69 72.576 L1153.2 72.576 L1153.2 9.54393 L1160.69 9.54393 L1160.69 34.2544 Q1163.37 30.163 1166.97 28.1376 Q1170.62 26.1121 1175.36 26.1121 Q1183.18 26.1121 1187.19 30.9732 Q1191.2 35.7938 1191.2 45.1919 Z\" fill=\"#000000\" fill-rule=\"nonzero\" fill-opacity=\"1\" /><path clip-path=\"url(#clip140)\" d=\"M1234.99 28.5427 L1234.99 35.5912 Q1231.83 33.9709 1228.42 33.1607 Q1225.02 32.3505 1221.38 32.3505 Q1215.83 32.3505 1213.03 34.0519 Q1210.28 35.7533 1210.28 39.156 Q1210.28 41.7486 1212.26 43.2475 Q1214.25 44.7058 1220.24 46.0426 L1222.79 46.6097 Q1230.73 48.3111 1234.06 51.4303 Q1237.42 54.509 1237.42 60.0587 Q1237.42 66.3781 1232.39 70.0644 Q1227.41 73.7508 1218.66 73.7508 Q1215.02 73.7508 1211.05 73.0216 Q1207.12 72.3329 1202.74 70.9151 L1202.74 63.2184 Q1206.87 65.3654 1210.88 66.4591 Q1214.89 67.5124 1218.82 67.5124 Q1224.09 67.5124 1226.93 65.73 Q1229.76 63.9071 1229.76 60.6258 Q1229.76 57.5877 1227.7 55.9673 Q1225.67 54.3469 1218.74 52.8481 L1216.15 52.2405 Q1209.22 50.7821 1206.14 47.7845 Q1203.07 44.7463 1203.07 39.4801 Q1203.07 33.0797 1207.6 29.5959 Q1212.14 26.1121 1220.48 26.1121 Q1224.62 26.1121 1228.26 26.7198 Q1231.91 27.3274 1234.99 28.5427 Z\" fill=\"#000000\" fill-rule=\"nonzero\" fill-opacity=\"1\" /><path clip-path=\"url(#clip140)\" d=\"M1249.29 27.2059 L1256.74 27.2059 L1256.74 72.576 L1249.29 72.576 L1249.29 27.2059 M1249.29 9.54393 L1256.74 9.54393 L1256.74 18.9825 L1249.29 18.9825 L1249.29 9.54393 Z\" fill=\"#000000\" fill-rule=\"nonzero\" fill-opacity=\"1\" /><path clip-path=\"url(#clip140)\" d=\"M1269.1 27.2059 L1304.5 27.2059 L1304.5 34.0114 L1276.47 66.6212 L1304.5 66.6212 L1304.5 72.576 L1268.08 72.576 L1268.08 65.7705 L1296.11 33.1607 L1269.1 33.1607 L1269.1 27.2059 Z\" fill=\"#000000\" fill-rule=\"nonzero\" fill-opacity=\"1\" /><path clip-path=\"url(#clip140)\" d=\"M1354.69 48.0275 L1354.69 51.6733 L1320.42 51.6733 Q1320.91 59.3701 1325.04 63.421 Q1329.21 67.4314 1336.62 67.4314 Q1340.92 67.4314 1344.93 66.3781 Q1348.98 65.3249 1352.95 63.2184 L1352.95 70.267 Q1348.94 71.9684 1344.73 72.8596 Q1340.51 73.7508 1336.18 73.7508 Q1325.32 73.7508 1318.96 67.4314 Q1312.64 61.1119 1312.64 50.3365 Q1312.64 39.1965 1318.64 32.6746 Q1324.67 26.1121 1334.88 26.1121 Q1344.04 26.1121 1349.34 32.0264 Q1354.69 37.9003 1354.69 48.0275 M1347.24 45.84 Q1347.16 39.7232 1343.79 36.0774 Q1340.47 32.4315 1334.96 32.4315 Q1328.72 32.4315 1324.96 35.9558 Q1321.23 39.4801 1320.66 45.8805 L1347.24 45.84 Z\" fill=\"#000000\" fill-rule=\"nonzero\" fill-opacity=\"1\" /><path clip-path=\"url(#clip140)\" d=\"M1367.9 34.9026 L1419.83 34.9026 L1419.83 41.7081 L1367.9 41.7081 L1367.9 34.9026 M1367.9 51.4303 L1419.83 51.4303 L1419.83 58.3168 L1367.9 58.3168 L1367.9 51.4303 Z\" fill=\"#000000\" fill-rule=\"nonzero\" fill-opacity=\"1\" /><path clip-path=\"url(#clip140)\" d=\"M1437.57 12.096 L1469.7 12.096 L1469.7 18.9825 L1445.07 18.9825 L1445.07 33.8088 Q1446.85 33.2012 1448.63 32.9176 Q1450.41 32.5936 1452.2 32.5936 Q1462.32 32.5936 1468.24 38.1433 Q1474.15 43.6931 1474.15 53.1722 Q1474.15 62.9348 1468.08 68.3631 Q1462 73.7508 1450.94 73.7508 Q1447.13 73.7508 1443.16 73.1026 Q1439.23 72.4545 1435.02 71.1582 L1435.02 62.9348 Q1438.67 64.9198 1442.56 65.892 Q1446.44 66.8642 1450.78 66.8642 Q1457.79 66.8642 1461.88 63.1779 Q1465.97 59.4916 1465.97 53.1722 Q1465.97 46.8528 1461.88 43.1664 Q1457.79 39.4801 1450.78 39.4801 Q1447.5 39.4801 1444.22 40.2093 Q1440.98 40.9384 1437.57 42.4778 L1437.57 12.096 Z\" fill=\"#000000\" fill-rule=\"nonzero\" fill-opacity=\"1\" /><path clip-path=\"url(#clip140)\" d=\"M1507.77 17.4837 Q1501.46 17.4837 1498.26 23.7221 Q1495.1 29.92 1495.1 42.3968 Q1495.1 54.833 1498.26 61.0714 Q1501.46 67.2693 1507.77 67.2693 Q1514.13 67.2693 1517.29 61.0714 Q1520.49 54.833 1520.49 42.3968 Q1520.49 29.92 1517.29 23.7221 Q1514.13 17.4837 1507.77 17.4837 M1507.77 11.0023 Q1517.94 11.0023 1523.29 19.0636 Q1528.68 27.0843 1528.68 42.3968 Q1528.68 57.6687 1523.29 65.73 Q1517.94 73.7508 1507.77 73.7508 Q1497.61 73.7508 1492.22 65.73 Q1486.87 57.6687 1486.87 42.3968 Q1486.87 27.0843 1492.22 19.0636 Q1497.61 11.0023 1507.77 11.0023 Z\" fill=\"#000000\" fill-rule=\"nonzero\" fill-opacity=\"1\" /><circle clip-path=\"url(#clip142)\" cx=\"1965.91\" cy=\"400.228\" r=\"14.4\" fill=\"#009af9\" fill-rule=\"evenodd\" fill-opacity=\"1\" stroke=\"#000000\" stroke-opacity=\"1\" stroke-width=\"3.2\"/>\n",
       "<circle clip-path=\"url(#clip142)\" cx=\"1885.66\" cy=\"699.117\" r=\"14.4\" fill=\"#009af9\" fill-rule=\"evenodd\" fill-opacity=\"1\" stroke=\"#000000\" stroke-opacity=\"1\" stroke-width=\"3.2\"/>\n",
       "<circle clip-path=\"url(#clip142)\" cx=\"1381.59\" cy=\"1099.95\" r=\"14.4\" fill=\"#009af9\" fill-rule=\"evenodd\" fill-opacity=\"1\" stroke=\"#000000\" stroke-opacity=\"1\" stroke-width=\"3.2\"/>\n",
       "<circle clip-path=\"url(#clip142)\" cx=\"840.001\" cy=\"426.835\" r=\"14.4\" fill=\"#009af9\" fill-rule=\"evenodd\" fill-opacity=\"1\" stroke=\"#000000\" stroke-opacity=\"1\" stroke-width=\"3.2\"/>\n",
       "<circle clip-path=\"url(#clip142)\" cx=\"1844.37\" cy=\"738.459\" r=\"14.4\" fill=\"#009af9\" fill-rule=\"evenodd\" fill-opacity=\"1\" stroke=\"#000000\" stroke-opacity=\"1\" stroke-width=\"3.2\"/>\n",
       "<circle clip-path=\"url(#clip142)\" cx=\"1505.97\" cy=\"904.226\" r=\"14.4\" fill=\"#009af9\" fill-rule=\"evenodd\" fill-opacity=\"1\" stroke=\"#000000\" stroke-opacity=\"1\" stroke-width=\"3.2\"/>\n",
       "<circle clip-path=\"url(#clip142)\" cx=\"1509.51\" cy=\"1130.72\" r=\"14.4\" fill=\"#009af9\" fill-rule=\"evenodd\" fill-opacity=\"1\" stroke=\"#000000\" stroke-opacity=\"1\" stroke-width=\"3.2\"/>\n",
       "<circle clip-path=\"url(#clip142)\" cx=\"650.32\" cy=\"503.41\" r=\"14.4\" fill=\"#009af9\" fill-rule=\"evenodd\" fill-opacity=\"1\" stroke=\"#000000\" stroke-opacity=\"1\" stroke-width=\"3.2\"/>\n",
       "<circle clip-path=\"url(#clip142)\" cx=\"1239.74\" cy=\"1031.49\" r=\"14.4\" fill=\"#009af9\" fill-rule=\"evenodd\" fill-opacity=\"1\" stroke=\"#000000\" stroke-opacity=\"1\" stroke-width=\"3.2\"/>\n",
       "<circle clip-path=\"url(#clip142)\" cx=\"700.048\" cy=\"583.521\" r=\"14.4\" fill=\"#009af9\" fill-rule=\"evenodd\" fill-opacity=\"1\" stroke=\"#000000\" stroke-opacity=\"1\" stroke-width=\"3.2\"/>\n",
       "<circle clip-path=\"url(#clip142)\" cx=\"1679.05\" cy=\"994.819\" r=\"14.4\" fill=\"#009af9\" fill-rule=\"evenodd\" fill-opacity=\"1\" stroke=\"#000000\" stroke-opacity=\"1\" stroke-width=\"3.2\"/>\n",
       "<circle clip-path=\"url(#clip142)\" cx=\"638.184\" cy=\"485.308\" r=\"14.4\" fill=\"#009af9\" fill-rule=\"evenodd\" fill-opacity=\"1\" stroke=\"#000000\" stroke-opacity=\"1\" stroke-width=\"3.2\"/>\n",
       "<circle clip-path=\"url(#clip142)\" cx=\"1182.46\" cy=\"937.091\" r=\"14.4\" fill=\"#009af9\" fill-rule=\"evenodd\" fill-opacity=\"1\" stroke=\"#000000\" stroke-opacity=\"1\" stroke-width=\"3.2\"/>\n",
       "<circle clip-path=\"url(#clip142)\" cx=\"371.231\" cy=\"701.317\" r=\"14.4\" fill=\"#009af9\" fill-rule=\"evenodd\" fill-opacity=\"1\" stroke=\"#000000\" stroke-opacity=\"1\" stroke-width=\"3.2\"/>\n",
       "<circle clip-path=\"url(#clip142)\" cx=\"1975.81\" cy=\"656.064\" r=\"14.4\" fill=\"#009af9\" fill-rule=\"evenodd\" fill-opacity=\"1\" stroke=\"#000000\" stroke-opacity=\"1\" stroke-width=\"3.2\"/>\n",
       "<circle clip-path=\"url(#clip142)\" cx=\"1369.02\" cy=\"1071.77\" r=\"14.4\" fill=\"#009af9\" fill-rule=\"evenodd\" fill-opacity=\"1\" stroke=\"#000000\" stroke-opacity=\"1\" stroke-width=\"3.2\"/>\n",
       "<circle clip-path=\"url(#clip142)\" cx=\"1687.83\" cy=\"778.017\" r=\"14.4\" fill=\"#009af9\" fill-rule=\"evenodd\" fill-opacity=\"1\" stroke=\"#000000\" stroke-opacity=\"1\" stroke-width=\"3.2\"/>\n",
       "<circle clip-path=\"url(#clip142)\" cx=\"415.277\" cy=\"767.719\" r=\"14.4\" fill=\"#009af9\" fill-rule=\"evenodd\" fill-opacity=\"1\" stroke=\"#000000\" stroke-opacity=\"1\" stroke-width=\"3.2\"/>\n",
       "<circle clip-path=\"url(#clip142)\" cx=\"1790.67\" cy=\"847.918\" r=\"14.4\" fill=\"#009af9\" fill-rule=\"evenodd\" fill-opacity=\"1\" stroke=\"#000000\" stroke-opacity=\"1\" stroke-width=\"3.2\"/>\n",
       "<circle clip-path=\"url(#clip142)\" cx=\"1633.7\" cy=\"909.006\" r=\"14.4\" fill=\"#009af9\" fill-rule=\"evenodd\" fill-opacity=\"1\" stroke=\"#000000\" stroke-opacity=\"1\" stroke-width=\"3.2\"/>\n",
       "<circle clip-path=\"url(#clip142)\" cx=\"401.75\" cy=\"832.233\" r=\"14.4\" fill=\"#009af9\" fill-rule=\"evenodd\" fill-opacity=\"1\" stroke=\"#000000\" stroke-opacity=\"1\" stroke-width=\"3.2\"/>\n",
       "<circle clip-path=\"url(#clip142)\" cx=\"506.994\" cy=\"642.593\" r=\"14.4\" fill=\"#009af9\" fill-rule=\"evenodd\" fill-opacity=\"1\" stroke=\"#000000\" stroke-opacity=\"1\" stroke-width=\"3.2\"/>\n",
       "<circle clip-path=\"url(#clip142)\" cx=\"1647.05\" cy=\"1058.49\" r=\"14.4\" fill=\"#009af9\" fill-rule=\"evenodd\" fill-opacity=\"1\" stroke=\"#000000\" stroke-opacity=\"1\" stroke-width=\"3.2\"/>\n",
       "<circle clip-path=\"url(#clip142)\" cx=\"2016.94\" cy=\"443.997\" r=\"14.4\" fill=\"#009af9\" fill-rule=\"evenodd\" fill-opacity=\"1\" stroke=\"#000000\" stroke-opacity=\"1\" stroke-width=\"3.2\"/>\n",
       "<circle clip-path=\"url(#clip142)\" cx=\"1510.94\" cy=\"1000.89\" r=\"14.4\" fill=\"#009af9\" fill-rule=\"evenodd\" fill-opacity=\"1\" stroke=\"#000000\" stroke-opacity=\"1\" stroke-width=\"3.2\"/>\n",
       "<circle clip-path=\"url(#clip142)\" cx=\"611.521\" cy=\"540.338\" r=\"14.4\" fill=\"#009af9\" fill-rule=\"evenodd\" fill-opacity=\"1\" stroke=\"#000000\" stroke-opacity=\"1\" stroke-width=\"3.2\"/>\n",
       "<circle clip-path=\"url(#clip142)\" cx=\"2095.22\" cy=\"522.17\" r=\"14.4\" fill=\"#009af9\" fill-rule=\"evenodd\" fill-opacity=\"1\" stroke=\"#000000\" stroke-opacity=\"1\" stroke-width=\"3.2\"/>\n",
       "<circle clip-path=\"url(#clip142)\" cx=\"758.267\" cy=\"475.906\" r=\"14.4\" fill=\"#009af9\" fill-rule=\"evenodd\" fill-opacity=\"1\" stroke=\"#000000\" stroke-opacity=\"1\" stroke-width=\"3.2\"/>\n",
       "<circle clip-path=\"url(#clip142)\" cx=\"634.433\" cy=\"476.229\" r=\"14.4\" fill=\"#009af9\" fill-rule=\"evenodd\" fill-opacity=\"1\" stroke=\"#000000\" stroke-opacity=\"1\" stroke-width=\"3.2\"/>\n",
       "<circle clip-path=\"url(#clip142)\" cx=\"943.579\" cy=\"655.282\" r=\"14.4\" fill=\"#009af9\" fill-rule=\"evenodd\" fill-opacity=\"1\" stroke=\"#000000\" stroke-opacity=\"1\" stroke-width=\"3.2\"/>\n",
       "<circle clip-path=\"url(#clip142)\" cx=\"1557.15\" cy=\"1176.11\" r=\"14.4\" fill=\"#009af9\" fill-rule=\"evenodd\" fill-opacity=\"1\" stroke=\"#000000\" stroke-opacity=\"1\" stroke-width=\"3.2\"/>\n",
       "<circle clip-path=\"url(#clip142)\" cx=\"613.779\" cy=\"627.909\" r=\"14.4\" fill=\"#009af9\" fill-rule=\"evenodd\" fill-opacity=\"1\" stroke=\"#000000\" stroke-opacity=\"1\" stroke-width=\"3.2\"/>\n",
       "<circle clip-path=\"url(#clip142)\" cx=\"1508.79\" cy=\"1063.42\" r=\"14.4\" fill=\"#009af9\" fill-rule=\"evenodd\" fill-opacity=\"1\" stroke=\"#000000\" stroke-opacity=\"1\" stroke-width=\"3.2\"/>\n",
       "<circle clip-path=\"url(#clip142)\" cx=\"598.211\" cy=\"730.789\" r=\"14.4\" fill=\"#009af9\" fill-rule=\"evenodd\" fill-opacity=\"1\" stroke=\"#000000\" stroke-opacity=\"1\" stroke-width=\"3.2\"/>\n",
       "<circle clip-path=\"url(#clip142)\" cx=\"1937.24\" cy=\"551.89\" r=\"14.4\" fill=\"#009af9\" fill-rule=\"evenodd\" fill-opacity=\"1\" stroke=\"#000000\" stroke-opacity=\"1\" stroke-width=\"3.2\"/>\n",
       "<circle clip-path=\"url(#clip142)\" cx=\"1875.4\" cy=\"558.344\" r=\"14.4\" fill=\"#009af9\" fill-rule=\"evenodd\" fill-opacity=\"1\" stroke=\"#000000\" stroke-opacity=\"1\" stroke-width=\"3.2\"/>\n",
       "<circle clip-path=\"url(#clip142)\" cx=\"2129\" cy=\"448.235\" r=\"14.4\" fill=\"#009af9\" fill-rule=\"evenodd\" fill-opacity=\"1\" stroke=\"#000000\" stroke-opacity=\"1\" stroke-width=\"3.2\"/>\n",
       "<circle clip-path=\"url(#clip142)\" cx=\"1304.95\" cy=\"1060.3\" r=\"14.4\" fill=\"#009af9\" fill-rule=\"evenodd\" fill-opacity=\"1\" stroke=\"#000000\" stroke-opacity=\"1\" stroke-width=\"3.2\"/>\n",
       "<circle clip-path=\"url(#clip142)\" cx=\"714.133\" cy=\"552.022\" r=\"14.4\" fill=\"#009af9\" fill-rule=\"evenodd\" fill-opacity=\"1\" stroke=\"#000000\" stroke-opacity=\"1\" stroke-width=\"3.2\"/>\n",
       "<circle clip-path=\"url(#clip142)\" cx=\"1034.16\" cy=\"835.899\" r=\"14.4\" fill=\"#009af9\" fill-rule=\"evenodd\" fill-opacity=\"1\" stroke=\"#000000\" stroke-opacity=\"1\" stroke-width=\"3.2\"/>\n",
       "<circle clip-path=\"url(#clip142)\" cx=\"875.179\" cy=\"622.931\" r=\"14.4\" fill=\"#009af9\" fill-rule=\"evenodd\" fill-opacity=\"1\" stroke=\"#000000\" stroke-opacity=\"1\" stroke-width=\"3.2\"/>\n",
       "<circle clip-path=\"url(#clip142)\" cx=\"1508.84\" cy=\"1209.69\" r=\"14.4\" fill=\"#009af9\" fill-rule=\"evenodd\" fill-opacity=\"1\" stroke=\"#000000\" stroke-opacity=\"1\" stroke-width=\"3.2\"/>\n",
       "<circle clip-path=\"url(#clip142)\" cx=\"1806.11\" cy=\"704.696\" r=\"14.4\" fill=\"#009af9\" fill-rule=\"evenodd\" fill-opacity=\"1\" stroke=\"#000000\" stroke-opacity=\"1\" stroke-width=\"3.2\"/>\n",
       "<circle clip-path=\"url(#clip142)\" cx=\"1625.01\" cy=\"910.054\" r=\"14.4\" fill=\"#009af9\" fill-rule=\"evenodd\" fill-opacity=\"1\" stroke=\"#000000\" stroke-opacity=\"1\" stroke-width=\"3.2\"/>\n",
       "<circle clip-path=\"url(#clip142)\" cx=\"477.875\" cy=\"546.252\" r=\"14.4\" fill=\"#009af9\" fill-rule=\"evenodd\" fill-opacity=\"1\" stroke=\"#000000\" stroke-opacity=\"1\" stroke-width=\"3.2\"/>\n",
       "<circle clip-path=\"url(#clip142)\" cx=\"790.985\" cy=\"527.76\" r=\"14.4\" fill=\"#009af9\" fill-rule=\"evenodd\" fill-opacity=\"1\" stroke=\"#000000\" stroke-opacity=\"1\" stroke-width=\"3.2\"/>\n",
       "<circle clip-path=\"url(#clip142)\" cx=\"1677.78\" cy=\"1030.62\" r=\"14.4\" fill=\"#009af9\" fill-rule=\"evenodd\" fill-opacity=\"1\" stroke=\"#000000\" stroke-opacity=\"1\" stroke-width=\"3.2\"/>\n",
       "<circle clip-path=\"url(#clip142)\" cx=\"2026.37\" cy=\"503.24\" r=\"14.4\" fill=\"#009af9\" fill-rule=\"evenodd\" fill-opacity=\"1\" stroke=\"#000000\" stroke-opacity=\"1\" stroke-width=\"3.2\"/>\n",
       "<circle clip-path=\"url(#clip142)\" cx=\"1189.91\" cy=\"1016.82\" r=\"14.4\" fill=\"#009af9\" fill-rule=\"evenodd\" fill-opacity=\"1\" stroke=\"#000000\" stroke-opacity=\"1\" stroke-width=\"3.2\"/>\n",
       "<circle clip-path=\"url(#clip142)\" cx=\"2024.6\" cy=\"682.121\" r=\"14.4\" fill=\"#009af9\" fill-rule=\"evenodd\" fill-opacity=\"1\" stroke=\"#000000\" stroke-opacity=\"1\" stroke-width=\"3.2\"/>\n",
       "<circle clip-path=\"url(#clip142)\" cx=\"794.792\" cy=\"504.585\" r=\"14.4\" fill=\"#009af9\" fill-rule=\"evenodd\" fill-opacity=\"1\" stroke=\"#000000\" stroke-opacity=\"1\" stroke-width=\"3.2\"/>\n",
       "<circle clip-path=\"url(#clip142)\" cx=\"646.862\" cy=\"514.93\" r=\"14.4\" fill=\"#009af9\" fill-rule=\"evenodd\" fill-opacity=\"1\" stroke=\"#000000\" stroke-opacity=\"1\" stroke-width=\"3.2\"/>\n",
       "<circle clip-path=\"url(#clip142)\" cx=\"1627.74\" cy=\"975.757\" r=\"14.4\" fill=\"#009af9\" fill-rule=\"evenodd\" fill-opacity=\"1\" stroke=\"#000000\" stroke-opacity=\"1\" stroke-width=\"3.2\"/>\n",
       "<circle clip-path=\"url(#clip142)\" cx=\"914.417\" cy=\"653.024\" r=\"14.4\" fill=\"#009af9\" fill-rule=\"evenodd\" fill-opacity=\"1\" stroke=\"#000000\" stroke-opacity=\"1\" stroke-width=\"3.2\"/>\n",
       "<circle clip-path=\"url(#clip142)\" cx=\"736.573\" cy=\"401.021\" r=\"14.4\" fill=\"#009af9\" fill-rule=\"evenodd\" fill-opacity=\"1\" stroke=\"#000000\" stroke-opacity=\"1\" stroke-width=\"3.2\"/>\n",
       "<circle clip-path=\"url(#clip142)\" cx=\"1360.24\" cy=\"1159.99\" r=\"14.4\" fill=\"#009af9\" fill-rule=\"evenodd\" fill-opacity=\"1\" stroke=\"#000000\" stroke-opacity=\"1\" stroke-width=\"3.2\"/>\n",
       "<circle clip-path=\"url(#clip142)\" cx=\"1320.85\" cy=\"1011.63\" r=\"14.4\" fill=\"#009af9\" fill-rule=\"evenodd\" fill-opacity=\"1\" stroke=\"#000000\" stroke-opacity=\"1\" stroke-width=\"3.2\"/>\n",
       "<circle clip-path=\"url(#clip142)\" cx=\"1161.79\" cy=\"978.141\" r=\"14.4\" fill=\"#009af9\" fill-rule=\"evenodd\" fill-opacity=\"1\" stroke=\"#000000\" stroke-opacity=\"1\" stroke-width=\"3.2\"/>\n",
       "<circle clip-path=\"url(#clip142)\" cx=\"1587.86\" cy=\"1099.76\" r=\"14.4\" fill=\"#009af9\" fill-rule=\"evenodd\" fill-opacity=\"1\" stroke=\"#000000\" stroke-opacity=\"1\" stroke-width=\"3.2\"/>\n",
       "<circle clip-path=\"url(#clip142)\" cx=\"537.919\" cy=\"606.724\" r=\"14.4\" fill=\"#009af9\" fill-rule=\"evenodd\" fill-opacity=\"1\" stroke=\"#000000\" stroke-opacity=\"1\" stroke-width=\"3.2\"/>\n",
       "<circle clip-path=\"url(#clip142)\" cx=\"669.768\" cy=\"625.753\" r=\"14.4\" fill=\"#009af9\" fill-rule=\"evenodd\" fill-opacity=\"1\" stroke=\"#000000\" stroke-opacity=\"1\" stroke-width=\"3.2\"/>\n",
       "<circle clip-path=\"url(#clip142)\" cx=\"1589.88\" cy=\"1007.91\" r=\"14.4\" fill=\"#009af9\" fill-rule=\"evenodd\" fill-opacity=\"1\" stroke=\"#000000\" stroke-opacity=\"1\" stroke-width=\"3.2\"/>\n",
       "<circle clip-path=\"url(#clip142)\" cx=\"1338.88\" cy=\"1042.87\" r=\"14.4\" fill=\"#009af9\" fill-rule=\"evenodd\" fill-opacity=\"1\" stroke=\"#000000\" stroke-opacity=\"1\" stroke-width=\"3.2\"/>\n",
       "<circle clip-path=\"url(#clip142)\" cx=\"1386.11\" cy=\"980.722\" r=\"14.4\" fill=\"#009af9\" fill-rule=\"evenodd\" fill-opacity=\"1\" stroke=\"#000000\" stroke-opacity=\"1\" stroke-width=\"3.2\"/>\n",
       "<circle clip-path=\"url(#clip142)\" cx=\"1548.49\" cy=\"908.844\" r=\"14.4\" fill=\"#009af9\" fill-rule=\"evenodd\" fill-opacity=\"1\" stroke=\"#000000\" stroke-opacity=\"1\" stroke-width=\"3.2\"/>\n",
       "<circle clip-path=\"url(#clip142)\" cx=\"571.091\" cy=\"498.358\" r=\"14.4\" fill=\"#009af9\" fill-rule=\"evenodd\" fill-opacity=\"1\" stroke=\"#000000\" stroke-opacity=\"1\" stroke-width=\"3.2\"/>\n",
       "<circle clip-path=\"url(#clip142)\" cx=\"1232.61\" cy=\"1067.53\" r=\"14.4\" fill=\"#009af9\" fill-rule=\"evenodd\" fill-opacity=\"1\" stroke=\"#000000\" stroke-opacity=\"1\" stroke-width=\"3.2\"/>\n",
       "<circle clip-path=\"url(#clip142)\" cx=\"1580.92\" cy=\"1011.58\" r=\"14.4\" fill=\"#009af9\" fill-rule=\"evenodd\" fill-opacity=\"1\" stroke=\"#000000\" stroke-opacity=\"1\" stroke-width=\"3.2\"/>\n",
       "<circle clip-path=\"url(#clip142)\" cx=\"597.933\" cy=\"446.366\" r=\"14.4\" fill=\"#009af9\" fill-rule=\"evenodd\" fill-opacity=\"1\" stroke=\"#000000\" stroke-opacity=\"1\" stroke-width=\"3.2\"/>\n",
       "<circle clip-path=\"url(#clip142)\" cx=\"872.397\" cy=\"792.966\" r=\"14.4\" fill=\"#009af9\" fill-rule=\"evenodd\" fill-opacity=\"1\" stroke=\"#000000\" stroke-opacity=\"1\" stroke-width=\"3.2\"/>\n",
       "<circle clip-path=\"url(#clip142)\" cx=\"1519.36\" cy=\"1010.77\" r=\"14.4\" fill=\"#009af9\" fill-rule=\"evenodd\" fill-opacity=\"1\" stroke=\"#000000\" stroke-opacity=\"1\" stroke-width=\"3.2\"/>\n",
       "<circle clip-path=\"url(#clip142)\" cx=\"2030.35\" cy=\"545.189\" r=\"14.4\" fill=\"#009af9\" fill-rule=\"evenodd\" fill-opacity=\"1\" stroke=\"#000000\" stroke-opacity=\"1\" stroke-width=\"3.2\"/>\n",
       "<circle clip-path=\"url(#clip142)\" cx=\"1016.27\" cy=\"576.365\" r=\"14.4\" fill=\"#009af9\" fill-rule=\"evenodd\" fill-opacity=\"1\" stroke=\"#000000\" stroke-opacity=\"1\" stroke-width=\"3.2\"/>\n",
       "<circle clip-path=\"url(#clip142)\" cx=\"879.945\" cy=\"647.9\" r=\"14.4\" fill=\"#009af9\" fill-rule=\"evenodd\" fill-opacity=\"1\" stroke=\"#000000\" stroke-opacity=\"1\" stroke-width=\"3.2\"/>\n",
       "<circle clip-path=\"url(#clip142)\" cx=\"1377.09\" cy=\"1127.56\" r=\"14.4\" fill=\"#009af9\" fill-rule=\"evenodd\" fill-opacity=\"1\" stroke=\"#000000\" stroke-opacity=\"1\" stroke-width=\"3.2\"/>\n",
       "<circle clip-path=\"url(#clip142)\" cx=\"525.516\" cy=\"573.216\" r=\"14.4\" fill=\"#009af9\" fill-rule=\"evenodd\" fill-opacity=\"1\" stroke=\"#000000\" stroke-opacity=\"1\" stroke-width=\"3.2\"/>\n",
       "<circle clip-path=\"url(#clip142)\" cx=\"1229.4\" cy=\"1025.64\" r=\"14.4\" fill=\"#009af9\" fill-rule=\"evenodd\" fill-opacity=\"1\" stroke=\"#000000\" stroke-opacity=\"1\" stroke-width=\"3.2\"/>\n",
       "<circle clip-path=\"url(#clip142)\" cx=\"584.986\" cy=\"623.514\" r=\"14.4\" fill=\"#009af9\" fill-rule=\"evenodd\" fill-opacity=\"1\" stroke=\"#000000\" stroke-opacity=\"1\" stroke-width=\"3.2\"/>\n",
       "<circle clip-path=\"url(#clip142)\" cx=\"1299.12\" cy=\"1184.68\" r=\"14.4\" fill=\"#009af9\" fill-rule=\"evenodd\" fill-opacity=\"1\" stroke=\"#000000\" stroke-opacity=\"1\" stroke-width=\"3.2\"/>\n",
       "<circle clip-path=\"url(#clip142)\" cx=\"1081.28\" cy=\"827.072\" r=\"14.4\" fill=\"#009af9\" fill-rule=\"evenodd\" fill-opacity=\"1\" stroke=\"#000000\" stroke-opacity=\"1\" stroke-width=\"3.2\"/>\n",
       "<circle clip-path=\"url(#clip142)\" cx=\"1050.09\" cy=\"664.326\" r=\"14.4\" fill=\"#009af9\" fill-rule=\"evenodd\" fill-opacity=\"1\" stroke=\"#000000\" stroke-opacity=\"1\" stroke-width=\"3.2\"/>\n",
       "<circle clip-path=\"url(#clip142)\" cx=\"1115.76\" cy=\"835.801\" r=\"14.4\" fill=\"#009af9\" fill-rule=\"evenodd\" fill-opacity=\"1\" stroke=\"#000000\" stroke-opacity=\"1\" stroke-width=\"3.2\"/>\n",
       "<circle clip-path=\"url(#clip142)\" cx=\"1020.93\" cy=\"818.782\" r=\"14.4\" fill=\"#009af9\" fill-rule=\"evenodd\" fill-opacity=\"1\" stroke=\"#000000\" stroke-opacity=\"1\" stroke-width=\"3.2\"/>\n",
       "<circle clip-path=\"url(#clip142)\" cx=\"624.392\" cy=\"807.85\" r=\"14.4\" fill=\"#009af9\" fill-rule=\"evenodd\" fill-opacity=\"1\" stroke=\"#000000\" stroke-opacity=\"1\" stroke-width=\"3.2\"/>\n",
       "<circle clip-path=\"url(#clip142)\" cx=\"1450.82\" cy=\"1054.55\" r=\"14.4\" fill=\"#009af9\" fill-rule=\"evenodd\" fill-opacity=\"1\" stroke=\"#000000\" stroke-opacity=\"1\" stroke-width=\"3.2\"/>\n",
       "<circle clip-path=\"url(#clip142)\" cx=\"759.926\" cy=\"490.737\" r=\"14.4\" fill=\"#009af9\" fill-rule=\"evenodd\" fill-opacity=\"1\" stroke=\"#000000\" stroke-opacity=\"1\" stroke-width=\"3.2\"/>\n",
       "<circle clip-path=\"url(#clip142)\" cx=\"946.827\" cy=\"714.654\" r=\"14.4\" fill=\"#009af9\" fill-rule=\"evenodd\" fill-opacity=\"1\" stroke=\"#000000\" stroke-opacity=\"1\" stroke-width=\"3.2\"/>\n",
       "<circle clip-path=\"url(#clip142)\" cx=\"2009.34\" cy=\"612.704\" r=\"14.4\" fill=\"#009af9\" fill-rule=\"evenodd\" fill-opacity=\"1\" stroke=\"#000000\" stroke-opacity=\"1\" stroke-width=\"3.2\"/>\n",
       "<circle clip-path=\"url(#clip142)\" cx=\"915.734\" cy=\"736.219\" r=\"14.4\" fill=\"#009af9\" fill-rule=\"evenodd\" fill-opacity=\"1\" stroke=\"#000000\" stroke-opacity=\"1\" stroke-width=\"3.2\"/>\n",
       "<circle clip-path=\"url(#clip142)\" cx=\"1868.09\" cy=\"635.922\" r=\"14.4\" fill=\"#009af9\" fill-rule=\"evenodd\" fill-opacity=\"1\" stroke=\"#000000\" stroke-opacity=\"1\" stroke-width=\"3.2\"/>\n",
       "<circle clip-path=\"url(#clip142)\" cx=\"1891.14\" cy=\"731.414\" r=\"14.4\" fill=\"#009af9\" fill-rule=\"evenodd\" fill-opacity=\"1\" stroke=\"#000000\" stroke-opacity=\"1\" stroke-width=\"3.2\"/>\n",
       "<circle clip-path=\"url(#clip142)\" cx=\"1063.55\" cy=\"754.381\" r=\"14.4\" fill=\"#009af9\" fill-rule=\"evenodd\" fill-opacity=\"1\" stroke=\"#000000\" stroke-opacity=\"1\" stroke-width=\"3.2\"/>\n",
       "<circle clip-path=\"url(#clip142)\" cx=\"1350.41\" cy=\"1044.38\" r=\"14.4\" fill=\"#009af9\" fill-rule=\"evenodd\" fill-opacity=\"1\" stroke=\"#000000\" stroke-opacity=\"1\" stroke-width=\"3.2\"/>\n",
       "<circle clip-path=\"url(#clip142)\" cx=\"1388.67\" cy=\"1021.87\" r=\"14.4\" fill=\"#009af9\" fill-rule=\"evenodd\" fill-opacity=\"1\" stroke=\"#000000\" stroke-opacity=\"1\" stroke-width=\"3.2\"/>\n",
       "<circle clip-path=\"url(#clip142)\" cx=\"1586.47\" cy=\"978.934\" r=\"14.4\" fill=\"#009af9\" fill-rule=\"evenodd\" fill-opacity=\"1\" stroke=\"#000000\" stroke-opacity=\"1\" stroke-width=\"3.2\"/>\n",
       "<circle clip-path=\"url(#clip142)\" cx=\"820.55\" cy=\"526.081\" r=\"14.4\" fill=\"#009af9\" fill-rule=\"evenodd\" fill-opacity=\"1\" stroke=\"#000000\" stroke-opacity=\"1\" stroke-width=\"3.2\"/>\n",
       "<circle clip-path=\"url(#clip142)\" cx=\"666.917\" cy=\"506.462\" r=\"14.4\" fill=\"#009af9\" fill-rule=\"evenodd\" fill-opacity=\"1\" stroke=\"#000000\" stroke-opacity=\"1\" stroke-width=\"3.2\"/>\n",
       "<circle clip-path=\"url(#clip142)\" cx=\"1883.67\" cy=\"673.681\" r=\"14.4\" fill=\"#009af9\" fill-rule=\"evenodd\" fill-opacity=\"1\" stroke=\"#000000\" stroke-opacity=\"1\" stroke-width=\"3.2\"/>\n",
       "<circle clip-path=\"url(#clip142)\" cx=\"1378.03\" cy=\"1010.32\" r=\"14.4\" fill=\"#009af9\" fill-rule=\"evenodd\" fill-opacity=\"1\" stroke=\"#000000\" stroke-opacity=\"1\" stroke-width=\"3.2\"/>\n",
       "<circle clip-path=\"url(#clip142)\" cx=\"1556.47\" cy=\"928.997\" r=\"14.4\" fill=\"#009af9\" fill-rule=\"evenodd\" fill-opacity=\"1\" stroke=\"#000000\" stroke-opacity=\"1\" stroke-width=\"3.2\"/>\n",
       "<path clip-path=\"url(#clip142)\" d=\"M147.478 18116.4 L192.484 17961.3 L237.489 17801.8 L282.495 17638 L327.501 17470.4 L372.506 17299.5 L417.512 17125.9 L462.518 16950.3 L507.523 16773.6 L552.529 16596.5 L597.535 16420.2 L642.54 16245.5 L687.546 16073.4 L732.552 15904.7 L777.557 15740.2 L822.563 15580.5 L867.569 15426.1 L912.574 15277.2 L957.58 15133.9 L1002.59 14996.3 L1047.59 14864.1 L1092.6 14737.2 L1137.6 14615.2 L1182.61 14497.9 L1227.61 14385 L1272.62 14276.3 L1317.63 14171.5 L1362.63 14070.4 L1407.64 13972.9 L1452.64 13878.8 L1497.65 13788.1 L1542.65 13700.7 L1587.66 13616.5 L1632.67 13535.6 L1677.67 13457.8 L1722.68 13383.1 L1767.68 13311.5 L1812.69 13243 L1857.69 13177.5 L1902.7 13114.9 L1947.7 13055.1 L1992.71 12998.3 L2037.72 12944.1 L2082.72 12892.7 L2127.73 12843.8 L2172.73 12797.4 L2217.74 12753.5 L2262.74 12711.9 L2307.75 12672.5 L2352.76 12635.3 L2352.76 -11297.1 L2307.75 -11308.9 L2262.74 -11322.4 L2217.74 -11337.8 L2172.73 -11355.2 L2127.73 -11374.9 L2082.72 -11396.9 L2037.72 -11421.4 L1992.71 -11448.7 L1947.7 -11478.9 L1902.7 -11512.2 L1857.69 -11548.9 L1812.69 -11589.2 L1767.68 -11633.4 L1722.68 -11681.7 L1677.67 -11734.5 L1632.67 -11792 L1587.66 -11854.5 L1542.65 -11922.6 L1497.65 -11996.5 L1452.64 -12076.6 L1407.64 -12163.5 L1362.63 -12257.7 L1317.63 -12359.5 L1272.62 -12469.7 L1227.61 -12588.6 L1182.61 -12716.9 L1137.6 -12855.1 L1092.6 -13003.6 L1047.59 -13162.8 L1002.59 -13332.8 L957.58 -13513.7 L912.574 -13705.3 L867.569 -13907.1 L822.563 -14118.3 L777.557 -14337.8 L732.552 -14564.3 L687.546 -14796.3 L642.54 -15031.9 L597.535 -15269.3 L552.529 -15506.6 L507.523 -15741.9 L462.518 -15973.5 L417.512 -16199.9 L372.506 -16419.7 L327.501 -16632 L282.495 -16835.7 L237.489 -17030.3 L192.484 -17215.5 L147.478 -17390.9  Z\" fill=\"#e26f46\" fill-rule=\"evenodd\" fill-opacity=\"0.5\"/>\n",
       "<polyline clip-path=\"url(#clip142)\" style=\"stroke:#e26f46; stroke-linecap:round; stroke-linejoin:round; stroke-width:16; stroke-opacity:1; fill:none\" points=\"147.478,362.717 192.484,372.93 237.489,385.723 282.495,401.15 327.501,419.215 372.506,439.866 417.512,462.987 462.518,488.396 507.523,515.836 552.529,544.982 597.535,575.448 642.54,606.792 687.546,638.532 732.552,670.166 777.557,701.189 822.563,731.114 867.569,759.493 912.574,785.928 957.58,810.091 1002.59,831.724 1047.59,850.65 1092.6,866.764 1137.6,880.033 1182.61,890.486 1227.61,898.207 1272.62,903.318 1317.63,905.976 1362.63,906.36 1407.64,904.662 1452.64,901.081 1497.65,895.814 1542.65,889.058 1587.66,880.997 1632.67,871.808 1677.67,861.657 1722.68,850.694 1767.68,839.06 1812.69,826.878 1857.69,814.265 1902.7,801.32 1947.7,788.134 1992.71,774.789 2037.72,761.354 2082.72,747.892 2127.73,734.456 2172.73,721.094 2217.74,707.846 2262.74,694.748 2307.75,681.828 2352.76,669.112 \"/>\n",
       "<path clip-path=\"url(#clip140)\" d=\"M1925.76 1441.02 L2279.25 1441.02 L2279.25 1285.5 L1925.76 1285.5  Z\" fill=\"#ffffff\" fill-rule=\"evenodd\" fill-opacity=\"1\"/>\n",
       "<polyline clip-path=\"url(#clip140)\" style=\"stroke:#000000; stroke-linecap:round; stroke-linejoin:round; stroke-width:4; stroke-opacity:1; fill:none\" points=\"1925.76,1441.02 2279.25,1441.02 2279.25,1285.5 1925.76,1285.5 1925.76,1441.02 \"/>\n",
       "<circle clip-path=\"url(#clip140)\" cx=\"2023.77\" cy=\"1337.34\" r=\"20.48\" fill=\"#009af9\" fill-rule=\"evenodd\" fill-opacity=\"1\" stroke=\"#000000\" stroke-opacity=\"1\" stroke-width=\"4.55111\"/>\n",
       "<path clip-path=\"url(#clip140)\" d=\"M2135.62 1357.02 Q2133.82 1361.65 2132.11 1363.06 Q2130.39 1364.48 2127.52 1364.48 L2124.12 1364.48 L2124.12 1360.91 L2126.62 1360.91 Q2128.38 1360.91 2129.35 1360.08 Q2130.32 1359.24 2131.5 1356.14 L2132.27 1354.2 L2121.78 1328.69 L2126.3 1328.69 L2134.4 1348.97 L2142.5 1328.69 L2147.01 1328.69 L2135.62 1357.02 Z\" fill=\"#000000\" fill-rule=\"nonzero\" fill-opacity=\"1\" /><path clip-path=\"url(#clip140)\" d=\"M2157.11 1321.33 L2157.11 1328.69 L2165.88 1328.69 L2165.88 1332 L2157.11 1332 L2157.11 1346.07 Q2157.11 1349.25 2157.96 1350.15 Q2158.84 1351.05 2161.5 1351.05 L2165.88 1351.05 L2165.88 1354.62 L2161.5 1354.62 Q2156.57 1354.62 2154.7 1352.79 Q2152.82 1350.93 2152.82 1346.07 L2152.82 1332 L2149.7 1332 L2149.7 1328.69 L2152.82 1328.69 L2152.82 1321.33 L2157.11 1321.33 Z\" fill=\"#000000\" fill-rule=\"nonzero\" fill-opacity=\"1\" /><path clip-path=\"url(#clip140)\" d=\"M2186.5 1332.67 Q2185.79 1332.25 2184.93 1332.07 Q2184.1 1331.86 2183.08 1331.86 Q2179.47 1331.86 2177.52 1334.22 Q2175.6 1336.56 2175.6 1340.96 L2175.6 1354.62 L2171.32 1354.62 L2171.32 1328.69 L2175.6 1328.69 L2175.6 1332.72 Q2176.94 1330.36 2179.1 1329.22 Q2181.25 1328.06 2184.33 1328.06 Q2184.77 1328.06 2185.3 1328.13 Q2185.83 1328.18 2186.48 1328.3 L2186.5 1332.67 Z\" fill=\"#000000\" fill-rule=\"nonzero\" fill-opacity=\"1\" /><path clip-path=\"url(#clip140)\" d=\"M2202.75 1341.58 Q2197.59 1341.58 2195.6 1342.76 Q2193.61 1343.94 2193.61 1346.79 Q2193.61 1349.06 2195.09 1350.4 Q2196.6 1351.72 2199.17 1351.72 Q2202.71 1351.72 2204.84 1349.22 Q2206.99 1346.7 2206.99 1342.53 L2206.99 1341.58 L2202.75 1341.58 M2211.25 1339.82 L2211.25 1354.62 L2206.99 1354.62 L2206.99 1350.68 Q2205.53 1353.04 2203.35 1354.18 Q2201.18 1355.29 2198.03 1355.29 Q2194.05 1355.29 2191.69 1353.06 Q2189.35 1350.82 2189.35 1347.07 Q2189.35 1342.69 2192.27 1340.47 Q2195.21 1338.25 2201.02 1338.25 L2206.99 1338.25 L2206.99 1337.83 Q2206.99 1334.89 2205.04 1333.3 Q2203.12 1331.68 2199.63 1331.68 Q2197.41 1331.68 2195.3 1332.21 Q2193.19 1332.74 2191.25 1333.81 L2191.25 1329.87 Q2193.59 1328.97 2195.79 1328.53 Q2197.98 1328.06 2200.07 1328.06 Q2205.69 1328.06 2208.47 1330.98 Q2211.25 1333.9 2211.25 1339.82 Z\" fill=\"#000000\" fill-rule=\"nonzero\" fill-opacity=\"1\" /><path clip-path=\"url(#clip140)\" d=\"M2220.02 1328.69 L2224.28 1328.69 L2224.28 1354.62 L2220.02 1354.62 L2220.02 1328.69 M2220.02 1318.6 L2224.28 1318.6 L2224.28 1323.99 L2220.02 1323.99 L2220.02 1318.6 Z\" fill=\"#000000\" fill-rule=\"nonzero\" fill-opacity=\"1\" /><path clip-path=\"url(#clip140)\" d=\"M2254.74 1338.97 L2254.74 1354.62 L2250.48 1354.62 L2250.48 1339.11 Q2250.48 1335.43 2249.05 1333.6 Q2247.61 1331.77 2244.74 1331.77 Q2241.29 1331.77 2239.3 1333.97 Q2237.31 1336.17 2237.31 1339.96 L2237.31 1354.62 L2233.03 1354.62 L2233.03 1328.69 L2237.31 1328.69 L2237.31 1332.72 Q2238.84 1330.38 2240.9 1329.22 Q2242.98 1328.06 2245.69 1328.06 Q2250.16 1328.06 2252.45 1330.84 Q2254.74 1333.6 2254.74 1338.97 Z\" fill=\"#000000\" fill-rule=\"nonzero\" fill-opacity=\"1\" /><polyline clip-path=\"url(#clip140)\" style=\"stroke:#e26f46; stroke-linecap:round; stroke-linejoin:round; stroke-width:16; stroke-opacity:1; fill:none\" points=\"1950.26,1389.18 2097.28,1389.18 \"/>\n",
       "<path clip-path=\"url(#clip140)\" d=\"M2135.62 1408.86 Q2133.82 1413.49 2132.11 1414.9 Q2130.39 1416.32 2127.52 1416.32 L2124.12 1416.32 L2124.12 1412.75 L2126.62 1412.75 Q2128.38 1412.75 2129.35 1411.92 Q2130.32 1411.08 2131.5 1407.98 L2132.27 1406.04 L2121.78 1380.53 L2126.3 1380.53 L2134.4 1400.81 L2142.5 1380.53 L2147.01 1380.53 L2135.62 1408.86 Z\" fill=\"#000000\" fill-rule=\"nonzero\" fill-opacity=\"1\" /><path clip-path=\"url(#clip140)\" d=\"M2174.44 1390.81 L2174.44 1406.46 L2170.18 1406.46 L2170.18 1390.95 Q2170.18 1387.27 2168.75 1385.44 Q2167.31 1383.61 2164.44 1383.61 Q2160.99 1383.61 2159 1385.81 Q2157.01 1388.01 2157.01 1391.8 L2157.01 1406.46 L2152.73 1406.46 L2152.73 1370.44 L2157.01 1370.44 L2157.01 1384.56 Q2158.54 1382.22 2160.6 1381.06 Q2162.68 1379.9 2165.39 1379.9 Q2169.86 1379.9 2172.15 1382.68 Q2174.44 1385.44 2174.44 1390.81 Z\" fill=\"#000000\" fill-rule=\"nonzero\" fill-opacity=\"1\" /><path clip-path=\"url(#clip140)\" d=\"M2194.72 1393.42 Q2189.56 1393.42 2187.57 1394.6 Q2185.58 1395.78 2185.58 1398.63 Q2185.58 1400.9 2187.06 1402.24 Q2188.56 1403.56 2191.13 1403.56 Q2194.67 1403.56 2196.8 1401.06 Q2198.96 1398.54 2198.96 1394.37 L2198.96 1393.42 L2194.72 1393.42 M2203.22 1391.66 L2203.22 1406.46 L2198.96 1406.46 L2198.96 1402.52 Q2197.5 1404.88 2195.32 1406.02 Q2193.15 1407.13 2190 1407.13 Q2186.02 1407.13 2183.66 1404.9 Q2181.32 1402.66 2181.32 1398.91 Q2181.32 1394.53 2184.23 1392.31 Q2187.17 1390.09 2192.98 1390.09 L2198.96 1390.09 L2198.96 1389.67 Q2198.96 1386.73 2197.01 1385.14 Q2195.09 1383.52 2191.6 1383.52 Q2189.37 1383.52 2187.27 1384.05 Q2185.16 1384.58 2183.22 1385.65 L2183.22 1381.71 Q2185.55 1380.81 2187.75 1380.37 Q2189.95 1379.9 2192.04 1379.9 Q2197.66 1379.9 2200.44 1382.82 Q2203.22 1385.74 2203.22 1391.66 Z\" fill=\"#000000\" fill-rule=\"nonzero\" fill-opacity=\"1\" /><path clip-path=\"url(#clip140)\" d=\"M2216.2 1373.17 L2216.2 1380.53 L2224.98 1380.53 L2224.98 1383.84 L2216.2 1383.84 L2216.2 1397.91 Q2216.2 1401.09 2217.06 1401.99 Q2217.94 1402.89 2220.6 1402.89 L2224.98 1402.89 L2224.98 1406.46 L2220.6 1406.46 Q2215.67 1406.46 2213.79 1404.63 Q2211.92 1402.77 2211.92 1397.91 L2211.92 1383.84 L2208.79 1383.84 L2208.79 1380.53 L2211.92 1380.53 L2211.92 1373.17 L2216.2 1373.17 Z\" fill=\"#000000\" fill-rule=\"nonzero\" fill-opacity=\"1\" /></svg>\n"
      ],
      "text/html": [
       "<?xml version=\"1.0\" encoding=\"utf-8\"?>\n",
       "<svg xmlns=\"http://www.w3.org/2000/svg\" xmlns:xlink=\"http://www.w3.org/1999/xlink\" width=\"600\" height=\"400\" viewBox=\"0 0 2400 1600\">\n",
       "<defs>\n",
       "  <clipPath id=\"clip190\">\n",
       "    <rect x=\"0\" y=\"0\" width=\"2400\" height=\"1600\"/>\n",
       "  </clipPath>\n",
       "</defs>\n",
       "<path clip-path=\"url(#clip190)\" d=\"M0 1600 L2400 1600 L2400 0 L0 0  Z\" fill=\"#ffffff\" fill-rule=\"evenodd\" fill-opacity=\"1\"/>\n",
       "<defs>\n",
       "  <clipPath id=\"clip191\">\n",
       "    <rect x=\"480\" y=\"0\" width=\"1681\" height=\"1600\"/>\n",
       "  </clipPath>\n",
       "</defs>\n",
       "<path clip-path=\"url(#clip190)\" d=\"M147.478 1486.45 L2352.76 1486.45 L2352.76 123.472 L147.478 123.472  Z\" fill=\"#ffffff\" fill-rule=\"evenodd\" fill-opacity=\"1\"/>\n",
       "<defs>\n",
       "  <clipPath id=\"clip192\">\n",
       "    <rect x=\"147\" y=\"123\" width=\"2206\" height=\"1364\"/>\n",
       "  </clipPath>\n",
       "</defs>\n",
       "<polyline clip-path=\"url(#clip192)\" style=\"stroke:#000000; stroke-linecap:round; stroke-linejoin:round; stroke-width:2; stroke-opacity:0.1; fill:none\" points=\"352.069,1486.45 352.069,123.472 \"/>\n",
       "<polyline clip-path=\"url(#clip192)\" style=\"stroke:#000000; stroke-linecap:round; stroke-linejoin:round; stroke-width:2; stroke-opacity:0.1; fill:none\" points=\"799.576,1486.45 799.576,123.472 \"/>\n",
       "<polyline clip-path=\"url(#clip192)\" style=\"stroke:#000000; stroke-linecap:round; stroke-linejoin:round; stroke-width:2; stroke-opacity:0.1; fill:none\" points=\"1247.08,1486.45 1247.08,123.472 \"/>\n",
       "<polyline clip-path=\"url(#clip192)\" style=\"stroke:#000000; stroke-linecap:round; stroke-linejoin:round; stroke-width:2; stroke-opacity:0.1; fill:none\" points=\"1694.59,1486.45 1694.59,123.472 \"/>\n",
       "<polyline clip-path=\"url(#clip192)\" style=\"stroke:#000000; stroke-linecap:round; stroke-linejoin:round; stroke-width:2; stroke-opacity:0.1; fill:none\" points=\"2142.1,1486.45 2142.1,123.472 \"/>\n",
       "<polyline clip-path=\"url(#clip190)\" style=\"stroke:#000000; stroke-linecap:round; stroke-linejoin:round; stroke-width:4; stroke-opacity:1; fill:none\" points=\"147.478,1486.45 2352.76,1486.45 \"/>\n",
       "<polyline clip-path=\"url(#clip190)\" style=\"stroke:#000000; stroke-linecap:round; stroke-linejoin:round; stroke-width:4; stroke-opacity:1; fill:none\" points=\"352.069,1486.45 352.069,1467.55 \"/>\n",
       "<polyline clip-path=\"url(#clip190)\" style=\"stroke:#000000; stroke-linecap:round; stroke-linejoin:round; stroke-width:4; stroke-opacity:1; fill:none\" points=\"799.576,1486.45 799.576,1467.55 \"/>\n",
       "<polyline clip-path=\"url(#clip190)\" style=\"stroke:#000000; stroke-linecap:round; stroke-linejoin:round; stroke-width:4; stroke-opacity:1; fill:none\" points=\"1247.08,1486.45 1247.08,1467.55 \"/>\n",
       "<polyline clip-path=\"url(#clip190)\" style=\"stroke:#000000; stroke-linecap:round; stroke-linejoin:round; stroke-width:4; stroke-opacity:1; fill:none\" points=\"1694.59,1486.45 1694.59,1467.55 \"/>\n",
       "<polyline clip-path=\"url(#clip190)\" style=\"stroke:#000000; stroke-linecap:round; stroke-linejoin:round; stroke-width:4; stroke-opacity:1; fill:none\" points=\"2142.1,1486.45 2142.1,1467.55 \"/>\n",
       "<path clip-path=\"url(#clip190)\" d=\"M352.069 1517.37 Q348.458 1517.37 346.629 1520.93 Q344.823 1524.47 344.823 1531.6 Q344.823 1538.71 346.629 1542.27 Q348.458 1545.82 352.069 1545.82 Q355.703 1545.82 357.508 1542.27 Q359.337 1538.71 359.337 1531.6 Q359.337 1524.47 357.508 1520.93 Q355.703 1517.37 352.069 1517.37 M352.069 1513.66 Q357.879 1513.66 360.934 1518.27 Q364.013 1522.85 364.013 1531.6 Q364.013 1540.33 360.934 1544.94 Q357.879 1549.52 352.069 1549.52 Q346.258 1549.52 343.18 1544.94 Q340.124 1540.33 340.124 1531.6 Q340.124 1522.85 343.18 1518.27 Q346.258 1513.66 352.069 1513.66 Z\" fill=\"#000000\" fill-rule=\"nonzero\" fill-opacity=\"1\" /><path clip-path=\"url(#clip190)\" d=\"M794.228 1544.91 L810.548 1544.91 L810.548 1548.85 L788.603 1548.85 L788.603 1544.91 Q791.265 1542.16 795.849 1537.53 Q800.455 1532.88 801.636 1531.53 Q803.881 1529.01 804.761 1527.27 Q805.664 1525.51 805.664 1523.82 Q805.664 1521.07 803.719 1519.33 Q801.798 1517.6 798.696 1517.6 Q796.497 1517.6 794.043 1518.36 Q791.613 1519.13 788.835 1520.68 L788.835 1515.95 Q791.659 1514.82 794.113 1514.24 Q796.566 1513.66 798.603 1513.66 Q803.974 1513.66 807.168 1516.35 Q810.363 1519.03 810.363 1523.52 Q810.363 1525.65 809.552 1527.57 Q808.765 1529.47 806.659 1532.07 Q806.08 1532.74 802.978 1535.95 Q799.877 1539.15 794.228 1544.91 Z\" fill=\"#000000\" fill-rule=\"nonzero\" fill-opacity=\"1\" /><path clip-path=\"url(#clip190)\" d=\"M1250.09 1518.36 L1238.29 1536.81 L1250.09 1536.81 L1250.09 1518.36 M1248.86 1514.29 L1254.74 1514.29 L1254.74 1536.81 L1259.68 1536.81 L1259.68 1540.7 L1254.74 1540.7 L1254.74 1548.85 L1250.09 1548.85 L1250.09 1540.7 L1234.49 1540.7 L1234.49 1536.19 L1248.86 1514.29 Z\" fill=\"#000000\" fill-rule=\"nonzero\" fill-opacity=\"1\" /><path clip-path=\"url(#clip190)\" d=\"M1694.99 1529.7 Q1691.85 1529.7 1689.99 1531.86 Q1688.17 1534.01 1688.17 1537.76 Q1688.17 1541.49 1689.99 1543.66 Q1691.85 1545.82 1694.99 1545.82 Q1698.14 1545.82 1699.97 1543.66 Q1701.82 1541.49 1701.82 1537.76 Q1701.82 1534.01 1699.97 1531.86 Q1698.14 1529.7 1694.99 1529.7 M1704.28 1515.05 L1704.28 1519.31 Q1702.52 1518.48 1700.71 1518.04 Q1698.93 1517.6 1697.17 1517.6 Q1692.54 1517.6 1690.09 1520.72 Q1687.66 1523.85 1687.31 1530.17 Q1688.68 1528.15 1690.74 1527.09 Q1692.8 1526 1695.27 1526 Q1700.48 1526 1703.49 1529.17 Q1706.52 1532.32 1706.52 1537.76 Q1706.52 1543.08 1703.37 1546.3 Q1700.23 1549.52 1694.99 1549.52 Q1689 1549.52 1685.83 1544.94 Q1682.66 1540.33 1682.66 1531.6 Q1682.66 1523.41 1686.55 1518.55 Q1690.43 1513.66 1696.99 1513.66 Q1698.74 1513.66 1700.53 1514.01 Q1702.33 1514.36 1704.28 1515.05 Z\" fill=\"#000000\" fill-rule=\"nonzero\" fill-opacity=\"1\" /><path clip-path=\"url(#clip190)\" d=\"M2142.1 1532.44 Q2138.76 1532.44 2136.84 1534.22 Q2134.94 1536 2134.94 1539.13 Q2134.94 1542.25 2136.84 1544.03 Q2138.76 1545.82 2142.1 1545.82 Q2145.43 1545.82 2147.35 1544.03 Q2149.27 1542.23 2149.27 1539.13 Q2149.27 1536 2147.35 1534.22 Q2145.45 1532.44 2142.1 1532.44 M2137.42 1530.45 Q2134.41 1529.7 2132.72 1527.64 Q2131.05 1525.58 2131.05 1522.62 Q2131.05 1518.48 2133.99 1516.07 Q2136.96 1513.66 2142.1 1513.66 Q2147.26 1513.66 2150.2 1516.07 Q2153.14 1518.48 2153.14 1522.62 Q2153.14 1525.58 2151.45 1527.64 Q2149.78 1529.7 2146.8 1530.45 Q2150.18 1531.23 2152.05 1533.52 Q2153.95 1535.82 2153.95 1539.13 Q2153.95 1544.15 2150.87 1546.83 Q2147.81 1549.52 2142.1 1549.52 Q2136.38 1549.52 2133.3 1546.83 Q2130.24 1544.15 2130.24 1539.13 Q2130.24 1535.82 2132.14 1533.52 Q2134.04 1531.23 2137.42 1530.45 M2135.71 1523.06 Q2135.71 1525.75 2137.37 1527.25 Q2139.06 1528.76 2142.1 1528.76 Q2145.11 1528.76 2146.8 1527.25 Q2148.51 1525.75 2148.51 1523.06 Q2148.51 1520.38 2146.8 1518.87 Q2145.11 1517.37 2142.1 1517.37 Q2139.06 1517.37 2137.37 1518.87 Q2135.71 1520.38 2135.71 1523.06 Z\" fill=\"#000000\" fill-rule=\"nonzero\" fill-opacity=\"1\" /><polyline clip-path=\"url(#clip192)\" style=\"stroke:#000000; stroke-linecap:round; stroke-linejoin:round; stroke-width:2; stroke-opacity:0.1; fill:none\" points=\"147.478,1364.37 2352.76,1364.37 \"/>\n",
       "<polyline clip-path=\"url(#clip192)\" style=\"stroke:#000000; stroke-linecap:round; stroke-linejoin:round; stroke-width:2; stroke-opacity:0.1; fill:none\" points=\"147.478,1087.61 2352.76,1087.61 \"/>\n",
       "<polyline clip-path=\"url(#clip192)\" style=\"stroke:#000000; stroke-linecap:round; stroke-linejoin:round; stroke-width:2; stroke-opacity:0.1; fill:none\" points=\"147.478,810.856 2352.76,810.856 \"/>\n",
       "<polyline clip-path=\"url(#clip192)\" style=\"stroke:#000000; stroke-linecap:round; stroke-linejoin:round; stroke-width:2; stroke-opacity:0.1; fill:none\" points=\"147.478,534.1 2352.76,534.1 \"/>\n",
       "<polyline clip-path=\"url(#clip192)\" style=\"stroke:#000000; stroke-linecap:round; stroke-linejoin:round; stroke-width:2; stroke-opacity:0.1; fill:none\" points=\"147.478,257.344 2352.76,257.344 \"/>\n",
       "<polyline clip-path=\"url(#clip190)\" style=\"stroke:#000000; stroke-linecap:round; stroke-linejoin:round; stroke-width:4; stroke-opacity:1; fill:none\" points=\"147.478,1486.45 147.478,123.472 \"/>\n",
       "<polyline clip-path=\"url(#clip190)\" style=\"stroke:#000000; stroke-linecap:round; stroke-linejoin:round; stroke-width:4; stroke-opacity:1; fill:none\" points=\"147.478,1364.37 166.376,1364.37 \"/>\n",
       "<polyline clip-path=\"url(#clip190)\" style=\"stroke:#000000; stroke-linecap:round; stroke-linejoin:round; stroke-width:4; stroke-opacity:1; fill:none\" points=\"147.478,1087.61 166.376,1087.61 \"/>\n",
       "<polyline clip-path=\"url(#clip190)\" style=\"stroke:#000000; stroke-linecap:round; stroke-linejoin:round; stroke-width:4; stroke-opacity:1; fill:none\" points=\"147.478,810.856 166.376,810.856 \"/>\n",
       "<polyline clip-path=\"url(#clip190)\" style=\"stroke:#000000; stroke-linecap:round; stroke-linejoin:round; stroke-width:4; stroke-opacity:1; fill:none\" points=\"147.478,534.1 166.376,534.1 \"/>\n",
       "<polyline clip-path=\"url(#clip190)\" style=\"stroke:#000000; stroke-linecap:round; stroke-linejoin:round; stroke-width:4; stroke-opacity:1; fill:none\" points=\"147.478,257.344 166.376,257.344 \"/>\n",
       "<path clip-path=\"url(#clip190)\" d=\"M51.3625 1364.82 L81.0383 1364.82 L81.0383 1368.75 L51.3625 1368.75 L51.3625 1364.82 Z\" fill=\"#000000\" fill-rule=\"nonzero\" fill-opacity=\"1\" /><path clip-path=\"url(#clip190)\" d=\"M95.1586 1377.71 L111.478 1377.71 L111.478 1381.65 L89.5336 1381.65 L89.5336 1377.71 Q92.1956 1374.96 96.7789 1370.33 Q101.385 1365.68 102.566 1364.33 Q104.811 1361.81 105.691 1360.07 Q106.594 1358.31 106.594 1356.63 Q106.594 1353.87 104.649 1352.13 Q102.728 1350.4 99.6261 1350.4 Q97.4271 1350.4 94.9734 1351.16 Q92.5428 1351.93 89.7651 1353.48 L89.7651 1348.75 Q92.5891 1347.62 95.0428 1347.04 Q97.4965 1346.46 99.5335 1346.46 Q104.904 1346.46 108.098 1349.15 Q111.293 1351.83 111.293 1356.32 Q111.293 1358.45 110.483 1360.38 Q109.696 1362.27 107.589 1364.87 Q107.01 1365.54 103.909 1368.75 Q100.807 1371.95 95.1586 1377.71 Z\" fill=\"#000000\" fill-rule=\"nonzero\" fill-opacity=\"1\" /><path clip-path=\"url(#clip190)\" d=\"M50.9921 1088.06 L80.6679 1088.06 L80.6679 1092 L50.9921 1092 L50.9921 1088.06 Z\" fill=\"#000000\" fill-rule=\"nonzero\" fill-opacity=\"1\" /><path clip-path=\"url(#clip190)\" d=\"M91.5706 1100.96 L99.2095 1100.96 L99.2095 1074.59 L90.8993 1076.26 L90.8993 1072 L99.1632 1070.33 L103.839 1070.33 L103.839 1100.96 L111.478 1100.96 L111.478 1104.89 L91.5706 1104.89 L91.5706 1100.96 Z\" fill=\"#000000\" fill-rule=\"nonzero\" fill-opacity=\"1\" /><path clip-path=\"url(#clip190)\" d=\"M99.5335 796.655 Q95.9224 796.655 94.0937 800.22 Q92.2882 803.761 92.2882 810.891 Q92.2882 817.997 94.0937 821.562 Q95.9224 825.104 99.5335 825.104 Q103.168 825.104 104.973 821.562 Q106.802 817.997 106.802 810.891 Q106.802 803.761 104.973 800.22 Q103.168 796.655 99.5335 796.655 M99.5335 792.951 Q105.344 792.951 108.399 797.558 Q111.478 802.141 111.478 810.891 Q111.478 819.618 108.399 824.224 Q105.344 828.807 99.5335 828.807 Q93.7234 828.807 90.6447 824.224 Q87.5892 819.618 87.5892 810.891 Q87.5892 802.141 90.6447 797.558 Q93.7234 792.951 99.5335 792.951 Z\" fill=\"#000000\" fill-rule=\"nonzero\" fill-opacity=\"1\" /><path clip-path=\"url(#clip190)\" d=\"M91.5706 547.445 L99.2095 547.445 L99.2095 521.079 L90.8993 522.746 L90.8993 518.487 L99.1632 516.82 L103.839 516.82 L103.839 547.445 L111.478 547.445 L111.478 551.38 L91.5706 551.38 L91.5706 547.445 Z\" fill=\"#000000\" fill-rule=\"nonzero\" fill-opacity=\"1\" /><path clip-path=\"url(#clip190)\" d=\"M95.1586 270.689 L111.478 270.689 L111.478 274.624 L89.5336 274.624 L89.5336 270.689 Q92.1956 267.935 96.7789 263.305 Q101.385 258.652 102.566 257.31 Q104.811 254.786 105.691 253.05 Q106.594 251.291 106.594 249.601 Q106.594 246.847 104.649 245.111 Q102.728 243.374 99.6261 243.374 Q97.4271 243.374 94.9734 244.138 Q92.5428 244.902 89.7651 246.453 L89.7651 241.731 Q92.5891 240.597 95.0428 240.018 Q97.4965 239.439 99.5335 239.439 Q104.904 239.439 108.098 242.125 Q111.293 244.81 111.293 249.3 Q111.293 251.43 110.483 253.351 Q109.696 255.249 107.589 257.842 Q107.01 258.513 103.909 261.731 Q100.807 264.925 95.1586 270.689 Z\" fill=\"#000000\" fill-rule=\"nonzero\" fill-opacity=\"1\" /><path clip-path=\"url(#clip190)\" d=\"M1004.41 49.9314 Q1004.41 41.7081 1001.01 37.0496 Q997.644 32.3505 991.73 32.3505 Q985.816 32.3505 982.413 37.0496 Q979.051 41.7081 979.051 49.9314 Q979.051 58.1548 982.413 62.8538 Q985.816 67.5124 991.73 67.5124 Q997.644 67.5124 1001.01 62.8538 Q1004.41 58.1548 1004.41 49.9314 M979.051 34.0924 Q981.4 30.0415 984.965 28.0971 Q988.57 26.1121 993.553 26.1121 Q1001.82 26.1121 1006.96 32.6746 Q1012.15 39.2371 1012.15 49.9314 Q1012.15 60.6258 1006.96 67.1883 Q1001.82 73.7508 993.553 73.7508 Q988.57 73.7508 984.965 71.8063 Q981.4 69.8214 979.051 65.7705 L979.051 72.576 L971.556 72.576 L971.556 9.54393 L979.051 9.54393 L979.051 34.0924 Z\" fill=\"#000000\" fill-rule=\"nonzero\" fill-opacity=\"1\" /><path clip-path=\"url(#clip190)\" d=\"M1045.12 49.7694 Q1036.09 49.7694 1032.6 51.8354 Q1029.12 53.9013 1029.12 58.8839 Q1029.12 62.8538 1031.71 65.2034 Q1034.35 67.5124 1038.84 67.5124 Q1045.04 67.5124 1048.77 63.1374 Q1052.53 58.7219 1052.53 51.4303 L1052.53 49.7694 L1045.12 49.7694 M1059.99 46.6907 L1059.99 72.576 L1052.53 72.576 L1052.53 65.6895 Q1049.98 69.8214 1046.17 71.8063 Q1042.37 73.7508 1036.86 73.7508 Q1029.89 73.7508 1025.76 69.8619 Q1021.67 65.9325 1021.67 59.3701 Q1021.67 51.7138 1026.77 47.825 Q1031.91 43.9361 1042.08 43.9361 L1052.53 43.9361 L1052.53 43.2069 Q1052.53 38.0623 1049.13 35.2672 Q1045.77 32.4315 1039.65 32.4315 Q1035.76 32.4315 1032.08 33.3632 Q1028.39 34.295 1024.99 36.1584 L1024.99 29.2718 Q1029.08 27.692 1032.93 26.9223 Q1036.78 26.1121 1040.42 26.1121 Q1050.27 26.1121 1055.13 31.2163 Q1059.99 36.3204 1059.99 46.6907 Z\" fill=\"#000000\" fill-rule=\"nonzero\" fill-opacity=\"1\" /><path clip-path=\"url(#clip190)\" d=\"M1082.71 14.324 L1082.71 27.2059 L1098.07 27.2059 L1098.07 32.9987 L1082.71 32.9987 L1082.71 57.6282 Q1082.71 63.1779 1084.21 64.7578 Q1085.75 66.3376 1090.41 66.3376 L1098.07 66.3376 L1098.07 72.576 L1090.41 72.576 Q1081.78 72.576 1078.5 69.3758 Q1075.22 66.1351 1075.22 57.6282 L1075.22 32.9987 L1069.75 32.9987 L1069.75 27.2059 L1075.22 27.2059 L1075.22 14.324 L1082.71 14.324 Z\" fill=\"#000000\" fill-rule=\"nonzero\" fill-opacity=\"1\" /><path clip-path=\"url(#clip190)\" d=\"M1140.52 28.9478 L1140.52 35.9153 Q1137.36 34.1734 1134.16 33.3227 Q1131 32.4315 1127.76 32.4315 Q1120.51 32.4315 1116.5 37.0496 Q1112.49 41.6271 1112.49 49.9314 Q1112.49 58.2358 1116.5 62.8538 Q1120.51 67.4314 1127.76 67.4314 Q1131 67.4314 1134.16 66.5807 Q1137.36 65.6895 1140.52 63.9476 L1140.52 70.8341 Q1137.4 72.2924 1134.04 73.0216 Q1130.72 73.7508 1126.95 73.7508 Q1116.7 73.7508 1110.66 67.3098 Q1104.63 60.8689 1104.63 49.9314 Q1104.63 38.832 1110.71 32.472 Q1116.82 26.1121 1127.44 26.1121 Q1130.88 26.1121 1134.16 26.8413 Q1137.44 27.5299 1140.52 28.9478 Z\" fill=\"#000000\" fill-rule=\"nonzero\" fill-opacity=\"1\" /><path clip-path=\"url(#clip190)\" d=\"M1191.2 45.1919 L1191.2 72.576 L1183.74 72.576 L1183.74 45.4349 Q1183.74 38.994 1181.23 35.7938 Q1178.72 32.5936 1173.7 32.5936 Q1167.66 32.5936 1164.18 36.4419 Q1160.69 40.2903 1160.69 46.9338 L1160.69 72.576 L1153.2 72.576 L1153.2 9.54393 L1160.69 9.54393 L1160.69 34.2544 Q1163.37 30.163 1166.97 28.1376 Q1170.62 26.1121 1175.36 26.1121 Q1183.18 26.1121 1187.19 30.9732 Q1191.2 35.7938 1191.2 45.1919 Z\" fill=\"#000000\" fill-rule=\"nonzero\" fill-opacity=\"1\" /><path clip-path=\"url(#clip190)\" d=\"M1234.99 28.5427 L1234.99 35.5912 Q1231.83 33.9709 1228.42 33.1607 Q1225.02 32.3505 1221.38 32.3505 Q1215.83 32.3505 1213.03 34.0519 Q1210.28 35.7533 1210.28 39.156 Q1210.28 41.7486 1212.26 43.2475 Q1214.25 44.7058 1220.24 46.0426 L1222.79 46.6097 Q1230.73 48.3111 1234.06 51.4303 Q1237.42 54.509 1237.42 60.0587 Q1237.42 66.3781 1232.39 70.0644 Q1227.41 73.7508 1218.66 73.7508 Q1215.02 73.7508 1211.05 73.0216 Q1207.12 72.3329 1202.74 70.9151 L1202.74 63.2184 Q1206.87 65.3654 1210.88 66.4591 Q1214.89 67.5124 1218.82 67.5124 Q1224.09 67.5124 1226.93 65.73 Q1229.76 63.9071 1229.76 60.6258 Q1229.76 57.5877 1227.7 55.9673 Q1225.67 54.3469 1218.74 52.8481 L1216.15 52.2405 Q1209.22 50.7821 1206.14 47.7845 Q1203.07 44.7463 1203.07 39.4801 Q1203.07 33.0797 1207.6 29.5959 Q1212.14 26.1121 1220.48 26.1121 Q1224.62 26.1121 1228.26 26.7198 Q1231.91 27.3274 1234.99 28.5427 Z\" fill=\"#000000\" fill-rule=\"nonzero\" fill-opacity=\"1\" /><path clip-path=\"url(#clip190)\" d=\"M1249.29 27.2059 L1256.74 27.2059 L1256.74 72.576 L1249.29 72.576 L1249.29 27.2059 M1249.29 9.54393 L1256.74 9.54393 L1256.74 18.9825 L1249.29 18.9825 L1249.29 9.54393 Z\" fill=\"#000000\" fill-rule=\"nonzero\" fill-opacity=\"1\" /><path clip-path=\"url(#clip190)\" d=\"M1269.1 27.2059 L1304.5 27.2059 L1304.5 34.0114 L1276.47 66.6212 L1304.5 66.6212 L1304.5 72.576 L1268.08 72.576 L1268.08 65.7705 L1296.11 33.1607 L1269.1 33.1607 L1269.1 27.2059 Z\" fill=\"#000000\" fill-rule=\"nonzero\" fill-opacity=\"1\" /><path clip-path=\"url(#clip190)\" d=\"M1354.69 48.0275 L1354.69 51.6733 L1320.42 51.6733 Q1320.91 59.3701 1325.04 63.421 Q1329.21 67.4314 1336.62 67.4314 Q1340.92 67.4314 1344.93 66.3781 Q1348.98 65.3249 1352.95 63.2184 L1352.95 70.267 Q1348.94 71.9684 1344.73 72.8596 Q1340.51 73.7508 1336.18 73.7508 Q1325.32 73.7508 1318.96 67.4314 Q1312.64 61.1119 1312.64 50.3365 Q1312.64 39.1965 1318.64 32.6746 Q1324.67 26.1121 1334.88 26.1121 Q1344.04 26.1121 1349.34 32.0264 Q1354.69 37.9003 1354.69 48.0275 M1347.24 45.84 Q1347.16 39.7232 1343.79 36.0774 Q1340.47 32.4315 1334.96 32.4315 Q1328.72 32.4315 1324.96 35.9558 Q1321.23 39.4801 1320.66 45.8805 L1347.24 45.84 Z\" fill=\"#000000\" fill-rule=\"nonzero\" fill-opacity=\"1\" /><path clip-path=\"url(#clip190)\" d=\"M1367.9 34.9026 L1419.83 34.9026 L1419.83 41.7081 L1367.9 41.7081 L1367.9 34.9026 M1367.9 51.4303 L1419.83 51.4303 L1419.83 58.3168 L1367.9 58.3168 L1367.9 51.4303 Z\" fill=\"#000000\" fill-rule=\"nonzero\" fill-opacity=\"1\" /><path clip-path=\"url(#clip190)\" d=\"M1437.57 12.096 L1469.7 12.096 L1469.7 18.9825 L1445.07 18.9825 L1445.07 33.8088 Q1446.85 33.2012 1448.63 32.9176 Q1450.41 32.5936 1452.2 32.5936 Q1462.32 32.5936 1468.24 38.1433 Q1474.15 43.6931 1474.15 53.1722 Q1474.15 62.9348 1468.08 68.3631 Q1462 73.7508 1450.94 73.7508 Q1447.13 73.7508 1443.16 73.1026 Q1439.23 72.4545 1435.02 71.1582 L1435.02 62.9348 Q1438.67 64.9198 1442.56 65.892 Q1446.44 66.8642 1450.78 66.8642 Q1457.79 66.8642 1461.88 63.1779 Q1465.97 59.4916 1465.97 53.1722 Q1465.97 46.8528 1461.88 43.1664 Q1457.79 39.4801 1450.78 39.4801 Q1447.5 39.4801 1444.22 40.2093 Q1440.98 40.9384 1437.57 42.4778 L1437.57 12.096 Z\" fill=\"#000000\" fill-rule=\"nonzero\" fill-opacity=\"1\" /><path clip-path=\"url(#clip190)\" d=\"M1507.77 17.4837 Q1501.46 17.4837 1498.26 23.7221 Q1495.1 29.92 1495.1 42.3968 Q1495.1 54.833 1498.26 61.0714 Q1501.46 67.2693 1507.77 67.2693 Q1514.13 67.2693 1517.29 61.0714 Q1520.49 54.833 1520.49 42.3968 Q1520.49 29.92 1517.29 23.7221 Q1514.13 17.4837 1507.77 17.4837 M1507.77 11.0023 Q1517.94 11.0023 1523.29 19.0636 Q1528.68 27.0843 1528.68 42.3968 Q1528.68 57.6687 1523.29 65.73 Q1517.94 73.7508 1507.77 73.7508 Q1497.61 73.7508 1492.22 65.73 Q1486.87 57.6687 1486.87 42.3968 Q1486.87 27.0843 1492.22 19.0636 Q1497.61 11.0023 1507.77 11.0023 Z\" fill=\"#000000\" fill-rule=\"nonzero\" fill-opacity=\"1\" /><circle clip-path=\"url(#clip192)\" cx=\"1965.91\" cy=\"400.228\" r=\"14.4\" fill=\"#009af9\" fill-rule=\"evenodd\" fill-opacity=\"1\" stroke=\"#000000\" stroke-opacity=\"1\" stroke-width=\"3.2\"/>\n",
       "<circle clip-path=\"url(#clip192)\" cx=\"1885.66\" cy=\"699.117\" r=\"14.4\" fill=\"#009af9\" fill-rule=\"evenodd\" fill-opacity=\"1\" stroke=\"#000000\" stroke-opacity=\"1\" stroke-width=\"3.2\"/>\n",
       "<circle clip-path=\"url(#clip192)\" cx=\"1381.59\" cy=\"1099.95\" r=\"14.4\" fill=\"#009af9\" fill-rule=\"evenodd\" fill-opacity=\"1\" stroke=\"#000000\" stroke-opacity=\"1\" stroke-width=\"3.2\"/>\n",
       "<circle clip-path=\"url(#clip192)\" cx=\"840.001\" cy=\"426.835\" r=\"14.4\" fill=\"#009af9\" fill-rule=\"evenodd\" fill-opacity=\"1\" stroke=\"#000000\" stroke-opacity=\"1\" stroke-width=\"3.2\"/>\n",
       "<circle clip-path=\"url(#clip192)\" cx=\"1844.37\" cy=\"738.459\" r=\"14.4\" fill=\"#009af9\" fill-rule=\"evenodd\" fill-opacity=\"1\" stroke=\"#000000\" stroke-opacity=\"1\" stroke-width=\"3.2\"/>\n",
       "<circle clip-path=\"url(#clip192)\" cx=\"1505.97\" cy=\"904.226\" r=\"14.4\" fill=\"#009af9\" fill-rule=\"evenodd\" fill-opacity=\"1\" stroke=\"#000000\" stroke-opacity=\"1\" stroke-width=\"3.2\"/>\n",
       "<circle clip-path=\"url(#clip192)\" cx=\"1509.51\" cy=\"1130.72\" r=\"14.4\" fill=\"#009af9\" fill-rule=\"evenodd\" fill-opacity=\"1\" stroke=\"#000000\" stroke-opacity=\"1\" stroke-width=\"3.2\"/>\n",
       "<circle clip-path=\"url(#clip192)\" cx=\"650.32\" cy=\"503.41\" r=\"14.4\" fill=\"#009af9\" fill-rule=\"evenodd\" fill-opacity=\"1\" stroke=\"#000000\" stroke-opacity=\"1\" stroke-width=\"3.2\"/>\n",
       "<circle clip-path=\"url(#clip192)\" cx=\"1239.74\" cy=\"1031.49\" r=\"14.4\" fill=\"#009af9\" fill-rule=\"evenodd\" fill-opacity=\"1\" stroke=\"#000000\" stroke-opacity=\"1\" stroke-width=\"3.2\"/>\n",
       "<circle clip-path=\"url(#clip192)\" cx=\"700.048\" cy=\"583.521\" r=\"14.4\" fill=\"#009af9\" fill-rule=\"evenodd\" fill-opacity=\"1\" stroke=\"#000000\" stroke-opacity=\"1\" stroke-width=\"3.2\"/>\n",
       "<circle clip-path=\"url(#clip192)\" cx=\"1679.05\" cy=\"994.819\" r=\"14.4\" fill=\"#009af9\" fill-rule=\"evenodd\" fill-opacity=\"1\" stroke=\"#000000\" stroke-opacity=\"1\" stroke-width=\"3.2\"/>\n",
       "<circle clip-path=\"url(#clip192)\" cx=\"638.184\" cy=\"485.308\" r=\"14.4\" fill=\"#009af9\" fill-rule=\"evenodd\" fill-opacity=\"1\" stroke=\"#000000\" stroke-opacity=\"1\" stroke-width=\"3.2\"/>\n",
       "<circle clip-path=\"url(#clip192)\" cx=\"1182.46\" cy=\"937.091\" r=\"14.4\" fill=\"#009af9\" fill-rule=\"evenodd\" fill-opacity=\"1\" stroke=\"#000000\" stroke-opacity=\"1\" stroke-width=\"3.2\"/>\n",
       "<circle clip-path=\"url(#clip192)\" cx=\"371.231\" cy=\"701.317\" r=\"14.4\" fill=\"#009af9\" fill-rule=\"evenodd\" fill-opacity=\"1\" stroke=\"#000000\" stroke-opacity=\"1\" stroke-width=\"3.2\"/>\n",
       "<circle clip-path=\"url(#clip192)\" cx=\"1975.81\" cy=\"656.064\" r=\"14.4\" fill=\"#009af9\" fill-rule=\"evenodd\" fill-opacity=\"1\" stroke=\"#000000\" stroke-opacity=\"1\" stroke-width=\"3.2\"/>\n",
       "<circle clip-path=\"url(#clip192)\" cx=\"1369.02\" cy=\"1071.77\" r=\"14.4\" fill=\"#009af9\" fill-rule=\"evenodd\" fill-opacity=\"1\" stroke=\"#000000\" stroke-opacity=\"1\" stroke-width=\"3.2\"/>\n",
       "<circle clip-path=\"url(#clip192)\" cx=\"1687.83\" cy=\"778.017\" r=\"14.4\" fill=\"#009af9\" fill-rule=\"evenodd\" fill-opacity=\"1\" stroke=\"#000000\" stroke-opacity=\"1\" stroke-width=\"3.2\"/>\n",
       "<circle clip-path=\"url(#clip192)\" cx=\"415.277\" cy=\"767.719\" r=\"14.4\" fill=\"#009af9\" fill-rule=\"evenodd\" fill-opacity=\"1\" stroke=\"#000000\" stroke-opacity=\"1\" stroke-width=\"3.2\"/>\n",
       "<circle clip-path=\"url(#clip192)\" cx=\"1790.67\" cy=\"847.918\" r=\"14.4\" fill=\"#009af9\" fill-rule=\"evenodd\" fill-opacity=\"1\" stroke=\"#000000\" stroke-opacity=\"1\" stroke-width=\"3.2\"/>\n",
       "<circle clip-path=\"url(#clip192)\" cx=\"1633.7\" cy=\"909.006\" r=\"14.4\" fill=\"#009af9\" fill-rule=\"evenodd\" fill-opacity=\"1\" stroke=\"#000000\" stroke-opacity=\"1\" stroke-width=\"3.2\"/>\n",
       "<circle clip-path=\"url(#clip192)\" cx=\"401.75\" cy=\"832.233\" r=\"14.4\" fill=\"#009af9\" fill-rule=\"evenodd\" fill-opacity=\"1\" stroke=\"#000000\" stroke-opacity=\"1\" stroke-width=\"3.2\"/>\n",
       "<circle clip-path=\"url(#clip192)\" cx=\"506.994\" cy=\"642.593\" r=\"14.4\" fill=\"#009af9\" fill-rule=\"evenodd\" fill-opacity=\"1\" stroke=\"#000000\" stroke-opacity=\"1\" stroke-width=\"3.2\"/>\n",
       "<circle clip-path=\"url(#clip192)\" cx=\"1647.05\" cy=\"1058.49\" r=\"14.4\" fill=\"#009af9\" fill-rule=\"evenodd\" fill-opacity=\"1\" stroke=\"#000000\" stroke-opacity=\"1\" stroke-width=\"3.2\"/>\n",
       "<circle clip-path=\"url(#clip192)\" cx=\"2016.94\" cy=\"443.997\" r=\"14.4\" fill=\"#009af9\" fill-rule=\"evenodd\" fill-opacity=\"1\" stroke=\"#000000\" stroke-opacity=\"1\" stroke-width=\"3.2\"/>\n",
       "<circle clip-path=\"url(#clip192)\" cx=\"1510.94\" cy=\"1000.89\" r=\"14.4\" fill=\"#009af9\" fill-rule=\"evenodd\" fill-opacity=\"1\" stroke=\"#000000\" stroke-opacity=\"1\" stroke-width=\"3.2\"/>\n",
       "<circle clip-path=\"url(#clip192)\" cx=\"611.521\" cy=\"540.338\" r=\"14.4\" fill=\"#009af9\" fill-rule=\"evenodd\" fill-opacity=\"1\" stroke=\"#000000\" stroke-opacity=\"1\" stroke-width=\"3.2\"/>\n",
       "<circle clip-path=\"url(#clip192)\" cx=\"2095.22\" cy=\"522.17\" r=\"14.4\" fill=\"#009af9\" fill-rule=\"evenodd\" fill-opacity=\"1\" stroke=\"#000000\" stroke-opacity=\"1\" stroke-width=\"3.2\"/>\n",
       "<circle clip-path=\"url(#clip192)\" cx=\"758.267\" cy=\"475.906\" r=\"14.4\" fill=\"#009af9\" fill-rule=\"evenodd\" fill-opacity=\"1\" stroke=\"#000000\" stroke-opacity=\"1\" stroke-width=\"3.2\"/>\n",
       "<circle clip-path=\"url(#clip192)\" cx=\"634.433\" cy=\"476.229\" r=\"14.4\" fill=\"#009af9\" fill-rule=\"evenodd\" fill-opacity=\"1\" stroke=\"#000000\" stroke-opacity=\"1\" stroke-width=\"3.2\"/>\n",
       "<circle clip-path=\"url(#clip192)\" cx=\"943.579\" cy=\"655.282\" r=\"14.4\" fill=\"#009af9\" fill-rule=\"evenodd\" fill-opacity=\"1\" stroke=\"#000000\" stroke-opacity=\"1\" stroke-width=\"3.2\"/>\n",
       "<circle clip-path=\"url(#clip192)\" cx=\"1557.15\" cy=\"1176.11\" r=\"14.4\" fill=\"#009af9\" fill-rule=\"evenodd\" fill-opacity=\"1\" stroke=\"#000000\" stroke-opacity=\"1\" stroke-width=\"3.2\"/>\n",
       "<circle clip-path=\"url(#clip192)\" cx=\"613.779\" cy=\"627.909\" r=\"14.4\" fill=\"#009af9\" fill-rule=\"evenodd\" fill-opacity=\"1\" stroke=\"#000000\" stroke-opacity=\"1\" stroke-width=\"3.2\"/>\n",
       "<circle clip-path=\"url(#clip192)\" cx=\"1508.79\" cy=\"1063.42\" r=\"14.4\" fill=\"#009af9\" fill-rule=\"evenodd\" fill-opacity=\"1\" stroke=\"#000000\" stroke-opacity=\"1\" stroke-width=\"3.2\"/>\n",
       "<circle clip-path=\"url(#clip192)\" cx=\"598.211\" cy=\"730.789\" r=\"14.4\" fill=\"#009af9\" fill-rule=\"evenodd\" fill-opacity=\"1\" stroke=\"#000000\" stroke-opacity=\"1\" stroke-width=\"3.2\"/>\n",
       "<circle clip-path=\"url(#clip192)\" cx=\"1937.24\" cy=\"551.89\" r=\"14.4\" fill=\"#009af9\" fill-rule=\"evenodd\" fill-opacity=\"1\" stroke=\"#000000\" stroke-opacity=\"1\" stroke-width=\"3.2\"/>\n",
       "<circle clip-path=\"url(#clip192)\" cx=\"1875.4\" cy=\"558.344\" r=\"14.4\" fill=\"#009af9\" fill-rule=\"evenodd\" fill-opacity=\"1\" stroke=\"#000000\" stroke-opacity=\"1\" stroke-width=\"3.2\"/>\n",
       "<circle clip-path=\"url(#clip192)\" cx=\"2129\" cy=\"448.235\" r=\"14.4\" fill=\"#009af9\" fill-rule=\"evenodd\" fill-opacity=\"1\" stroke=\"#000000\" stroke-opacity=\"1\" stroke-width=\"3.2\"/>\n",
       "<circle clip-path=\"url(#clip192)\" cx=\"1304.95\" cy=\"1060.3\" r=\"14.4\" fill=\"#009af9\" fill-rule=\"evenodd\" fill-opacity=\"1\" stroke=\"#000000\" stroke-opacity=\"1\" stroke-width=\"3.2\"/>\n",
       "<circle clip-path=\"url(#clip192)\" cx=\"714.133\" cy=\"552.022\" r=\"14.4\" fill=\"#009af9\" fill-rule=\"evenodd\" fill-opacity=\"1\" stroke=\"#000000\" stroke-opacity=\"1\" stroke-width=\"3.2\"/>\n",
       "<circle clip-path=\"url(#clip192)\" cx=\"1034.16\" cy=\"835.899\" r=\"14.4\" fill=\"#009af9\" fill-rule=\"evenodd\" fill-opacity=\"1\" stroke=\"#000000\" stroke-opacity=\"1\" stroke-width=\"3.2\"/>\n",
       "<circle clip-path=\"url(#clip192)\" cx=\"875.179\" cy=\"622.931\" r=\"14.4\" fill=\"#009af9\" fill-rule=\"evenodd\" fill-opacity=\"1\" stroke=\"#000000\" stroke-opacity=\"1\" stroke-width=\"3.2\"/>\n",
       "<circle clip-path=\"url(#clip192)\" cx=\"1508.84\" cy=\"1209.69\" r=\"14.4\" fill=\"#009af9\" fill-rule=\"evenodd\" fill-opacity=\"1\" stroke=\"#000000\" stroke-opacity=\"1\" stroke-width=\"3.2\"/>\n",
       "<circle clip-path=\"url(#clip192)\" cx=\"1806.11\" cy=\"704.696\" r=\"14.4\" fill=\"#009af9\" fill-rule=\"evenodd\" fill-opacity=\"1\" stroke=\"#000000\" stroke-opacity=\"1\" stroke-width=\"3.2\"/>\n",
       "<circle clip-path=\"url(#clip192)\" cx=\"1625.01\" cy=\"910.054\" r=\"14.4\" fill=\"#009af9\" fill-rule=\"evenodd\" fill-opacity=\"1\" stroke=\"#000000\" stroke-opacity=\"1\" stroke-width=\"3.2\"/>\n",
       "<circle clip-path=\"url(#clip192)\" cx=\"477.875\" cy=\"546.252\" r=\"14.4\" fill=\"#009af9\" fill-rule=\"evenodd\" fill-opacity=\"1\" stroke=\"#000000\" stroke-opacity=\"1\" stroke-width=\"3.2\"/>\n",
       "<circle clip-path=\"url(#clip192)\" cx=\"790.985\" cy=\"527.76\" r=\"14.4\" fill=\"#009af9\" fill-rule=\"evenodd\" fill-opacity=\"1\" stroke=\"#000000\" stroke-opacity=\"1\" stroke-width=\"3.2\"/>\n",
       "<circle clip-path=\"url(#clip192)\" cx=\"1677.78\" cy=\"1030.62\" r=\"14.4\" fill=\"#009af9\" fill-rule=\"evenodd\" fill-opacity=\"1\" stroke=\"#000000\" stroke-opacity=\"1\" stroke-width=\"3.2\"/>\n",
       "<circle clip-path=\"url(#clip192)\" cx=\"2026.37\" cy=\"503.24\" r=\"14.4\" fill=\"#009af9\" fill-rule=\"evenodd\" fill-opacity=\"1\" stroke=\"#000000\" stroke-opacity=\"1\" stroke-width=\"3.2\"/>\n",
       "<circle clip-path=\"url(#clip192)\" cx=\"1189.91\" cy=\"1016.82\" r=\"14.4\" fill=\"#009af9\" fill-rule=\"evenodd\" fill-opacity=\"1\" stroke=\"#000000\" stroke-opacity=\"1\" stroke-width=\"3.2\"/>\n",
       "<circle clip-path=\"url(#clip192)\" cx=\"2024.6\" cy=\"682.121\" r=\"14.4\" fill=\"#009af9\" fill-rule=\"evenodd\" fill-opacity=\"1\" stroke=\"#000000\" stroke-opacity=\"1\" stroke-width=\"3.2\"/>\n",
       "<circle clip-path=\"url(#clip192)\" cx=\"794.792\" cy=\"504.585\" r=\"14.4\" fill=\"#009af9\" fill-rule=\"evenodd\" fill-opacity=\"1\" stroke=\"#000000\" stroke-opacity=\"1\" stroke-width=\"3.2\"/>\n",
       "<circle clip-path=\"url(#clip192)\" cx=\"646.862\" cy=\"514.93\" r=\"14.4\" fill=\"#009af9\" fill-rule=\"evenodd\" fill-opacity=\"1\" stroke=\"#000000\" stroke-opacity=\"1\" stroke-width=\"3.2\"/>\n",
       "<circle clip-path=\"url(#clip192)\" cx=\"1627.74\" cy=\"975.757\" r=\"14.4\" fill=\"#009af9\" fill-rule=\"evenodd\" fill-opacity=\"1\" stroke=\"#000000\" stroke-opacity=\"1\" stroke-width=\"3.2\"/>\n",
       "<circle clip-path=\"url(#clip192)\" cx=\"914.417\" cy=\"653.024\" r=\"14.4\" fill=\"#009af9\" fill-rule=\"evenodd\" fill-opacity=\"1\" stroke=\"#000000\" stroke-opacity=\"1\" stroke-width=\"3.2\"/>\n",
       "<circle clip-path=\"url(#clip192)\" cx=\"736.573\" cy=\"401.021\" r=\"14.4\" fill=\"#009af9\" fill-rule=\"evenodd\" fill-opacity=\"1\" stroke=\"#000000\" stroke-opacity=\"1\" stroke-width=\"3.2\"/>\n",
       "<circle clip-path=\"url(#clip192)\" cx=\"1360.24\" cy=\"1159.99\" r=\"14.4\" fill=\"#009af9\" fill-rule=\"evenodd\" fill-opacity=\"1\" stroke=\"#000000\" stroke-opacity=\"1\" stroke-width=\"3.2\"/>\n",
       "<circle clip-path=\"url(#clip192)\" cx=\"1320.85\" cy=\"1011.63\" r=\"14.4\" fill=\"#009af9\" fill-rule=\"evenodd\" fill-opacity=\"1\" stroke=\"#000000\" stroke-opacity=\"1\" stroke-width=\"3.2\"/>\n",
       "<circle clip-path=\"url(#clip192)\" cx=\"1161.79\" cy=\"978.141\" r=\"14.4\" fill=\"#009af9\" fill-rule=\"evenodd\" fill-opacity=\"1\" stroke=\"#000000\" stroke-opacity=\"1\" stroke-width=\"3.2\"/>\n",
       "<circle clip-path=\"url(#clip192)\" cx=\"1587.86\" cy=\"1099.76\" r=\"14.4\" fill=\"#009af9\" fill-rule=\"evenodd\" fill-opacity=\"1\" stroke=\"#000000\" stroke-opacity=\"1\" stroke-width=\"3.2\"/>\n",
       "<circle clip-path=\"url(#clip192)\" cx=\"537.919\" cy=\"606.724\" r=\"14.4\" fill=\"#009af9\" fill-rule=\"evenodd\" fill-opacity=\"1\" stroke=\"#000000\" stroke-opacity=\"1\" stroke-width=\"3.2\"/>\n",
       "<circle clip-path=\"url(#clip192)\" cx=\"669.768\" cy=\"625.753\" r=\"14.4\" fill=\"#009af9\" fill-rule=\"evenodd\" fill-opacity=\"1\" stroke=\"#000000\" stroke-opacity=\"1\" stroke-width=\"3.2\"/>\n",
       "<circle clip-path=\"url(#clip192)\" cx=\"1589.88\" cy=\"1007.91\" r=\"14.4\" fill=\"#009af9\" fill-rule=\"evenodd\" fill-opacity=\"1\" stroke=\"#000000\" stroke-opacity=\"1\" stroke-width=\"3.2\"/>\n",
       "<circle clip-path=\"url(#clip192)\" cx=\"1338.88\" cy=\"1042.87\" r=\"14.4\" fill=\"#009af9\" fill-rule=\"evenodd\" fill-opacity=\"1\" stroke=\"#000000\" stroke-opacity=\"1\" stroke-width=\"3.2\"/>\n",
       "<circle clip-path=\"url(#clip192)\" cx=\"1386.11\" cy=\"980.722\" r=\"14.4\" fill=\"#009af9\" fill-rule=\"evenodd\" fill-opacity=\"1\" stroke=\"#000000\" stroke-opacity=\"1\" stroke-width=\"3.2\"/>\n",
       "<circle clip-path=\"url(#clip192)\" cx=\"1548.49\" cy=\"908.844\" r=\"14.4\" fill=\"#009af9\" fill-rule=\"evenodd\" fill-opacity=\"1\" stroke=\"#000000\" stroke-opacity=\"1\" stroke-width=\"3.2\"/>\n",
       "<circle clip-path=\"url(#clip192)\" cx=\"571.091\" cy=\"498.358\" r=\"14.4\" fill=\"#009af9\" fill-rule=\"evenodd\" fill-opacity=\"1\" stroke=\"#000000\" stroke-opacity=\"1\" stroke-width=\"3.2\"/>\n",
       "<circle clip-path=\"url(#clip192)\" cx=\"1232.61\" cy=\"1067.53\" r=\"14.4\" fill=\"#009af9\" fill-rule=\"evenodd\" fill-opacity=\"1\" stroke=\"#000000\" stroke-opacity=\"1\" stroke-width=\"3.2\"/>\n",
       "<circle clip-path=\"url(#clip192)\" cx=\"1580.92\" cy=\"1011.58\" r=\"14.4\" fill=\"#009af9\" fill-rule=\"evenodd\" fill-opacity=\"1\" stroke=\"#000000\" stroke-opacity=\"1\" stroke-width=\"3.2\"/>\n",
       "<circle clip-path=\"url(#clip192)\" cx=\"597.933\" cy=\"446.366\" r=\"14.4\" fill=\"#009af9\" fill-rule=\"evenodd\" fill-opacity=\"1\" stroke=\"#000000\" stroke-opacity=\"1\" stroke-width=\"3.2\"/>\n",
       "<circle clip-path=\"url(#clip192)\" cx=\"872.397\" cy=\"792.966\" r=\"14.4\" fill=\"#009af9\" fill-rule=\"evenodd\" fill-opacity=\"1\" stroke=\"#000000\" stroke-opacity=\"1\" stroke-width=\"3.2\"/>\n",
       "<circle clip-path=\"url(#clip192)\" cx=\"1519.36\" cy=\"1010.77\" r=\"14.4\" fill=\"#009af9\" fill-rule=\"evenodd\" fill-opacity=\"1\" stroke=\"#000000\" stroke-opacity=\"1\" stroke-width=\"3.2\"/>\n",
       "<circle clip-path=\"url(#clip192)\" cx=\"2030.35\" cy=\"545.189\" r=\"14.4\" fill=\"#009af9\" fill-rule=\"evenodd\" fill-opacity=\"1\" stroke=\"#000000\" stroke-opacity=\"1\" stroke-width=\"3.2\"/>\n",
       "<circle clip-path=\"url(#clip192)\" cx=\"1016.27\" cy=\"576.365\" r=\"14.4\" fill=\"#009af9\" fill-rule=\"evenodd\" fill-opacity=\"1\" stroke=\"#000000\" stroke-opacity=\"1\" stroke-width=\"3.2\"/>\n",
       "<circle clip-path=\"url(#clip192)\" cx=\"879.945\" cy=\"647.9\" r=\"14.4\" fill=\"#009af9\" fill-rule=\"evenodd\" fill-opacity=\"1\" stroke=\"#000000\" stroke-opacity=\"1\" stroke-width=\"3.2\"/>\n",
       "<circle clip-path=\"url(#clip192)\" cx=\"1377.09\" cy=\"1127.56\" r=\"14.4\" fill=\"#009af9\" fill-rule=\"evenodd\" fill-opacity=\"1\" stroke=\"#000000\" stroke-opacity=\"1\" stroke-width=\"3.2\"/>\n",
       "<circle clip-path=\"url(#clip192)\" cx=\"525.516\" cy=\"573.216\" r=\"14.4\" fill=\"#009af9\" fill-rule=\"evenodd\" fill-opacity=\"1\" stroke=\"#000000\" stroke-opacity=\"1\" stroke-width=\"3.2\"/>\n",
       "<circle clip-path=\"url(#clip192)\" cx=\"1229.4\" cy=\"1025.64\" r=\"14.4\" fill=\"#009af9\" fill-rule=\"evenodd\" fill-opacity=\"1\" stroke=\"#000000\" stroke-opacity=\"1\" stroke-width=\"3.2\"/>\n",
       "<circle clip-path=\"url(#clip192)\" cx=\"584.986\" cy=\"623.514\" r=\"14.4\" fill=\"#009af9\" fill-rule=\"evenodd\" fill-opacity=\"1\" stroke=\"#000000\" stroke-opacity=\"1\" stroke-width=\"3.2\"/>\n",
       "<circle clip-path=\"url(#clip192)\" cx=\"1299.12\" cy=\"1184.68\" r=\"14.4\" fill=\"#009af9\" fill-rule=\"evenodd\" fill-opacity=\"1\" stroke=\"#000000\" stroke-opacity=\"1\" stroke-width=\"3.2\"/>\n",
       "<circle clip-path=\"url(#clip192)\" cx=\"1081.28\" cy=\"827.072\" r=\"14.4\" fill=\"#009af9\" fill-rule=\"evenodd\" fill-opacity=\"1\" stroke=\"#000000\" stroke-opacity=\"1\" stroke-width=\"3.2\"/>\n",
       "<circle clip-path=\"url(#clip192)\" cx=\"1050.09\" cy=\"664.326\" r=\"14.4\" fill=\"#009af9\" fill-rule=\"evenodd\" fill-opacity=\"1\" stroke=\"#000000\" stroke-opacity=\"1\" stroke-width=\"3.2\"/>\n",
       "<circle clip-path=\"url(#clip192)\" cx=\"1115.76\" cy=\"835.801\" r=\"14.4\" fill=\"#009af9\" fill-rule=\"evenodd\" fill-opacity=\"1\" stroke=\"#000000\" stroke-opacity=\"1\" stroke-width=\"3.2\"/>\n",
       "<circle clip-path=\"url(#clip192)\" cx=\"1020.93\" cy=\"818.782\" r=\"14.4\" fill=\"#009af9\" fill-rule=\"evenodd\" fill-opacity=\"1\" stroke=\"#000000\" stroke-opacity=\"1\" stroke-width=\"3.2\"/>\n",
       "<circle clip-path=\"url(#clip192)\" cx=\"624.392\" cy=\"807.85\" r=\"14.4\" fill=\"#009af9\" fill-rule=\"evenodd\" fill-opacity=\"1\" stroke=\"#000000\" stroke-opacity=\"1\" stroke-width=\"3.2\"/>\n",
       "<circle clip-path=\"url(#clip192)\" cx=\"1450.82\" cy=\"1054.55\" r=\"14.4\" fill=\"#009af9\" fill-rule=\"evenodd\" fill-opacity=\"1\" stroke=\"#000000\" stroke-opacity=\"1\" stroke-width=\"3.2\"/>\n",
       "<circle clip-path=\"url(#clip192)\" cx=\"759.926\" cy=\"490.737\" r=\"14.4\" fill=\"#009af9\" fill-rule=\"evenodd\" fill-opacity=\"1\" stroke=\"#000000\" stroke-opacity=\"1\" stroke-width=\"3.2\"/>\n",
       "<circle clip-path=\"url(#clip192)\" cx=\"946.827\" cy=\"714.654\" r=\"14.4\" fill=\"#009af9\" fill-rule=\"evenodd\" fill-opacity=\"1\" stroke=\"#000000\" stroke-opacity=\"1\" stroke-width=\"3.2\"/>\n",
       "<circle clip-path=\"url(#clip192)\" cx=\"2009.34\" cy=\"612.704\" r=\"14.4\" fill=\"#009af9\" fill-rule=\"evenodd\" fill-opacity=\"1\" stroke=\"#000000\" stroke-opacity=\"1\" stroke-width=\"3.2\"/>\n",
       "<circle clip-path=\"url(#clip192)\" cx=\"915.734\" cy=\"736.219\" r=\"14.4\" fill=\"#009af9\" fill-rule=\"evenodd\" fill-opacity=\"1\" stroke=\"#000000\" stroke-opacity=\"1\" stroke-width=\"3.2\"/>\n",
       "<circle clip-path=\"url(#clip192)\" cx=\"1868.09\" cy=\"635.922\" r=\"14.4\" fill=\"#009af9\" fill-rule=\"evenodd\" fill-opacity=\"1\" stroke=\"#000000\" stroke-opacity=\"1\" stroke-width=\"3.2\"/>\n",
       "<circle clip-path=\"url(#clip192)\" cx=\"1891.14\" cy=\"731.414\" r=\"14.4\" fill=\"#009af9\" fill-rule=\"evenodd\" fill-opacity=\"1\" stroke=\"#000000\" stroke-opacity=\"1\" stroke-width=\"3.2\"/>\n",
       "<circle clip-path=\"url(#clip192)\" cx=\"1063.55\" cy=\"754.381\" r=\"14.4\" fill=\"#009af9\" fill-rule=\"evenodd\" fill-opacity=\"1\" stroke=\"#000000\" stroke-opacity=\"1\" stroke-width=\"3.2\"/>\n",
       "<circle clip-path=\"url(#clip192)\" cx=\"1350.41\" cy=\"1044.38\" r=\"14.4\" fill=\"#009af9\" fill-rule=\"evenodd\" fill-opacity=\"1\" stroke=\"#000000\" stroke-opacity=\"1\" stroke-width=\"3.2\"/>\n",
       "<circle clip-path=\"url(#clip192)\" cx=\"1388.67\" cy=\"1021.87\" r=\"14.4\" fill=\"#009af9\" fill-rule=\"evenodd\" fill-opacity=\"1\" stroke=\"#000000\" stroke-opacity=\"1\" stroke-width=\"3.2\"/>\n",
       "<circle clip-path=\"url(#clip192)\" cx=\"1586.47\" cy=\"978.934\" r=\"14.4\" fill=\"#009af9\" fill-rule=\"evenodd\" fill-opacity=\"1\" stroke=\"#000000\" stroke-opacity=\"1\" stroke-width=\"3.2\"/>\n",
       "<circle clip-path=\"url(#clip192)\" cx=\"820.55\" cy=\"526.081\" r=\"14.4\" fill=\"#009af9\" fill-rule=\"evenodd\" fill-opacity=\"1\" stroke=\"#000000\" stroke-opacity=\"1\" stroke-width=\"3.2\"/>\n",
       "<circle clip-path=\"url(#clip192)\" cx=\"666.917\" cy=\"506.462\" r=\"14.4\" fill=\"#009af9\" fill-rule=\"evenodd\" fill-opacity=\"1\" stroke=\"#000000\" stroke-opacity=\"1\" stroke-width=\"3.2\"/>\n",
       "<circle clip-path=\"url(#clip192)\" cx=\"1883.67\" cy=\"673.681\" r=\"14.4\" fill=\"#009af9\" fill-rule=\"evenodd\" fill-opacity=\"1\" stroke=\"#000000\" stroke-opacity=\"1\" stroke-width=\"3.2\"/>\n",
       "<circle clip-path=\"url(#clip192)\" cx=\"1378.03\" cy=\"1010.32\" r=\"14.4\" fill=\"#009af9\" fill-rule=\"evenodd\" fill-opacity=\"1\" stroke=\"#000000\" stroke-opacity=\"1\" stroke-width=\"3.2\"/>\n",
       "<circle clip-path=\"url(#clip192)\" cx=\"1556.47\" cy=\"928.997\" r=\"14.4\" fill=\"#009af9\" fill-rule=\"evenodd\" fill-opacity=\"1\" stroke=\"#000000\" stroke-opacity=\"1\" stroke-width=\"3.2\"/>\n",
       "<path clip-path=\"url(#clip192)\" d=\"M147.478 18116.4 L192.484 17961.3 L237.489 17801.8 L282.495 17638 L327.501 17470.4 L372.506 17299.5 L417.512 17125.9 L462.518 16950.3 L507.523 16773.6 L552.529 16596.5 L597.535 16420.2 L642.54 16245.5 L687.546 16073.4 L732.552 15904.7 L777.557 15740.2 L822.563 15580.5 L867.569 15426.1 L912.574 15277.2 L957.58 15133.9 L1002.59 14996.3 L1047.59 14864.1 L1092.6 14737.2 L1137.6 14615.2 L1182.61 14497.9 L1227.61 14385 L1272.62 14276.3 L1317.63 14171.5 L1362.63 14070.4 L1407.64 13972.9 L1452.64 13878.8 L1497.65 13788.1 L1542.65 13700.7 L1587.66 13616.5 L1632.67 13535.6 L1677.67 13457.8 L1722.68 13383.1 L1767.68 13311.5 L1812.69 13243 L1857.69 13177.5 L1902.7 13114.9 L1947.7 13055.1 L1992.71 12998.3 L2037.72 12944.1 L2082.72 12892.7 L2127.73 12843.8 L2172.73 12797.4 L2217.74 12753.5 L2262.74 12711.9 L2307.75 12672.5 L2352.76 12635.3 L2352.76 -11297.1 L2307.75 -11308.9 L2262.74 -11322.4 L2217.74 -11337.8 L2172.73 -11355.2 L2127.73 -11374.9 L2082.72 -11396.9 L2037.72 -11421.4 L1992.71 -11448.7 L1947.7 -11478.9 L1902.7 -11512.2 L1857.69 -11548.9 L1812.69 -11589.2 L1767.68 -11633.4 L1722.68 -11681.7 L1677.67 -11734.5 L1632.67 -11792 L1587.66 -11854.5 L1542.65 -11922.6 L1497.65 -11996.5 L1452.64 -12076.6 L1407.64 -12163.5 L1362.63 -12257.7 L1317.63 -12359.5 L1272.62 -12469.7 L1227.61 -12588.6 L1182.61 -12716.9 L1137.6 -12855.1 L1092.6 -13003.6 L1047.59 -13162.8 L1002.59 -13332.8 L957.58 -13513.7 L912.574 -13705.3 L867.569 -13907.1 L822.563 -14118.3 L777.557 -14337.8 L732.552 -14564.3 L687.546 -14796.3 L642.54 -15031.9 L597.535 -15269.3 L552.529 -15506.6 L507.523 -15741.9 L462.518 -15973.5 L417.512 -16199.9 L372.506 -16419.7 L327.501 -16632 L282.495 -16835.7 L237.489 -17030.3 L192.484 -17215.5 L147.478 -17390.9  Z\" fill=\"#e26f46\" fill-rule=\"evenodd\" fill-opacity=\"0.5\"/>\n",
       "<polyline clip-path=\"url(#clip192)\" style=\"stroke:#e26f46; stroke-linecap:round; stroke-linejoin:round; stroke-width:16; stroke-opacity:1; fill:none\" points=\"147.478,362.717 192.484,372.93 237.489,385.723 282.495,401.15 327.501,419.215 372.506,439.866 417.512,462.987 462.518,488.396 507.523,515.836 552.529,544.982 597.535,575.448 642.54,606.792 687.546,638.532 732.552,670.166 777.557,701.189 822.563,731.114 867.569,759.493 912.574,785.928 957.58,810.091 1002.59,831.724 1047.59,850.65 1092.6,866.764 1137.6,880.033 1182.61,890.486 1227.61,898.207 1272.62,903.318 1317.63,905.976 1362.63,906.36 1407.64,904.662 1452.64,901.081 1497.65,895.814 1542.65,889.058 1587.66,880.997 1632.67,871.808 1677.67,861.657 1722.68,850.694 1767.68,839.06 1812.69,826.878 1857.69,814.265 1902.7,801.32 1947.7,788.134 1992.71,774.789 2037.72,761.354 2082.72,747.892 2127.73,734.456 2172.73,721.094 2217.74,707.846 2262.74,694.748 2307.75,681.828 2352.76,669.112 \"/>\n",
       "<path clip-path=\"url(#clip190)\" d=\"M1925.76 1441.02 L2279.25 1441.02 L2279.25 1285.5 L1925.76 1285.5  Z\" fill=\"#ffffff\" fill-rule=\"evenodd\" fill-opacity=\"1\"/>\n",
       "<polyline clip-path=\"url(#clip190)\" style=\"stroke:#000000; stroke-linecap:round; stroke-linejoin:round; stroke-width:4; stroke-opacity:1; fill:none\" points=\"1925.76,1441.02 2279.25,1441.02 2279.25,1285.5 1925.76,1285.5 1925.76,1441.02 \"/>\n",
       "<circle clip-path=\"url(#clip190)\" cx=\"2023.77\" cy=\"1337.34\" r=\"20.48\" fill=\"#009af9\" fill-rule=\"evenodd\" fill-opacity=\"1\" stroke=\"#000000\" stroke-opacity=\"1\" stroke-width=\"4.55111\"/>\n",
       "<path clip-path=\"url(#clip190)\" d=\"M2135.62 1357.02 Q2133.82 1361.65 2132.11 1363.06 Q2130.39 1364.48 2127.52 1364.48 L2124.12 1364.48 L2124.12 1360.91 L2126.62 1360.91 Q2128.38 1360.91 2129.35 1360.08 Q2130.32 1359.24 2131.5 1356.14 L2132.27 1354.2 L2121.78 1328.69 L2126.3 1328.69 L2134.4 1348.97 L2142.5 1328.69 L2147.01 1328.69 L2135.62 1357.02 Z\" fill=\"#000000\" fill-rule=\"nonzero\" fill-opacity=\"1\" /><path clip-path=\"url(#clip190)\" d=\"M2157.11 1321.33 L2157.11 1328.69 L2165.88 1328.69 L2165.88 1332 L2157.11 1332 L2157.11 1346.07 Q2157.11 1349.25 2157.96 1350.15 Q2158.84 1351.05 2161.5 1351.05 L2165.88 1351.05 L2165.88 1354.62 L2161.5 1354.62 Q2156.57 1354.62 2154.7 1352.79 Q2152.82 1350.93 2152.82 1346.07 L2152.82 1332 L2149.7 1332 L2149.7 1328.69 L2152.82 1328.69 L2152.82 1321.33 L2157.11 1321.33 Z\" fill=\"#000000\" fill-rule=\"nonzero\" fill-opacity=\"1\" /><path clip-path=\"url(#clip190)\" d=\"M2186.5 1332.67 Q2185.79 1332.25 2184.93 1332.07 Q2184.1 1331.86 2183.08 1331.86 Q2179.47 1331.86 2177.52 1334.22 Q2175.6 1336.56 2175.6 1340.96 L2175.6 1354.62 L2171.32 1354.62 L2171.32 1328.69 L2175.6 1328.69 L2175.6 1332.72 Q2176.94 1330.36 2179.1 1329.22 Q2181.25 1328.06 2184.33 1328.06 Q2184.77 1328.06 2185.3 1328.13 Q2185.83 1328.18 2186.48 1328.3 L2186.5 1332.67 Z\" fill=\"#000000\" fill-rule=\"nonzero\" fill-opacity=\"1\" /><path clip-path=\"url(#clip190)\" d=\"M2202.75 1341.58 Q2197.59 1341.58 2195.6 1342.76 Q2193.61 1343.94 2193.61 1346.79 Q2193.61 1349.06 2195.09 1350.4 Q2196.6 1351.72 2199.17 1351.72 Q2202.71 1351.72 2204.84 1349.22 Q2206.99 1346.7 2206.99 1342.53 L2206.99 1341.58 L2202.75 1341.58 M2211.25 1339.82 L2211.25 1354.62 L2206.99 1354.62 L2206.99 1350.68 Q2205.53 1353.04 2203.35 1354.18 Q2201.18 1355.29 2198.03 1355.29 Q2194.05 1355.29 2191.69 1353.06 Q2189.35 1350.82 2189.35 1347.07 Q2189.35 1342.69 2192.27 1340.47 Q2195.21 1338.25 2201.02 1338.25 L2206.99 1338.25 L2206.99 1337.83 Q2206.99 1334.89 2205.04 1333.3 Q2203.12 1331.68 2199.63 1331.68 Q2197.41 1331.68 2195.3 1332.21 Q2193.19 1332.74 2191.25 1333.81 L2191.25 1329.87 Q2193.59 1328.97 2195.79 1328.53 Q2197.98 1328.06 2200.07 1328.06 Q2205.69 1328.06 2208.47 1330.98 Q2211.25 1333.9 2211.25 1339.82 Z\" fill=\"#000000\" fill-rule=\"nonzero\" fill-opacity=\"1\" /><path clip-path=\"url(#clip190)\" d=\"M2220.02 1328.69 L2224.28 1328.69 L2224.28 1354.62 L2220.02 1354.62 L2220.02 1328.69 M2220.02 1318.6 L2224.28 1318.6 L2224.28 1323.99 L2220.02 1323.99 L2220.02 1318.6 Z\" fill=\"#000000\" fill-rule=\"nonzero\" fill-opacity=\"1\" /><path clip-path=\"url(#clip190)\" d=\"M2254.74 1338.97 L2254.74 1354.62 L2250.48 1354.62 L2250.48 1339.11 Q2250.48 1335.43 2249.05 1333.6 Q2247.61 1331.77 2244.74 1331.77 Q2241.29 1331.77 2239.3 1333.97 Q2237.31 1336.17 2237.31 1339.96 L2237.31 1354.62 L2233.03 1354.62 L2233.03 1328.69 L2237.31 1328.69 L2237.31 1332.72 Q2238.84 1330.38 2240.9 1329.22 Q2242.98 1328.06 2245.69 1328.06 Q2250.16 1328.06 2252.45 1330.84 Q2254.74 1333.6 2254.74 1338.97 Z\" fill=\"#000000\" fill-rule=\"nonzero\" fill-opacity=\"1\" /><polyline clip-path=\"url(#clip190)\" style=\"stroke:#e26f46; stroke-linecap:round; stroke-linejoin:round; stroke-width:16; stroke-opacity:1; fill:none\" points=\"1950.26,1389.18 2097.28,1389.18 \"/>\n",
       "<path clip-path=\"url(#clip190)\" d=\"M2135.62 1408.86 Q2133.82 1413.49 2132.11 1414.9 Q2130.39 1416.32 2127.52 1416.32 L2124.12 1416.32 L2124.12 1412.75 L2126.62 1412.75 Q2128.38 1412.75 2129.35 1411.92 Q2130.32 1411.08 2131.5 1407.98 L2132.27 1406.04 L2121.78 1380.53 L2126.3 1380.53 L2134.4 1400.81 L2142.5 1380.53 L2147.01 1380.53 L2135.62 1408.86 Z\" fill=\"#000000\" fill-rule=\"nonzero\" fill-opacity=\"1\" /><path clip-path=\"url(#clip190)\" d=\"M2174.44 1390.81 L2174.44 1406.46 L2170.18 1406.46 L2170.18 1390.95 Q2170.18 1387.27 2168.75 1385.44 Q2167.31 1383.61 2164.44 1383.61 Q2160.99 1383.61 2159 1385.81 Q2157.01 1388.01 2157.01 1391.8 L2157.01 1406.46 L2152.73 1406.46 L2152.73 1370.44 L2157.01 1370.44 L2157.01 1384.56 Q2158.54 1382.22 2160.6 1381.06 Q2162.68 1379.9 2165.39 1379.9 Q2169.86 1379.9 2172.15 1382.68 Q2174.44 1385.44 2174.44 1390.81 Z\" fill=\"#000000\" fill-rule=\"nonzero\" fill-opacity=\"1\" /><path clip-path=\"url(#clip190)\" d=\"M2194.72 1393.42 Q2189.56 1393.42 2187.57 1394.6 Q2185.58 1395.78 2185.58 1398.63 Q2185.58 1400.9 2187.06 1402.24 Q2188.56 1403.56 2191.13 1403.56 Q2194.67 1403.56 2196.8 1401.06 Q2198.96 1398.54 2198.96 1394.37 L2198.96 1393.42 L2194.72 1393.42 M2203.22 1391.66 L2203.22 1406.46 L2198.96 1406.46 L2198.96 1402.52 Q2197.5 1404.88 2195.32 1406.02 Q2193.15 1407.13 2190 1407.13 Q2186.02 1407.13 2183.66 1404.9 Q2181.32 1402.66 2181.32 1398.91 Q2181.32 1394.53 2184.23 1392.31 Q2187.17 1390.09 2192.98 1390.09 L2198.96 1390.09 L2198.96 1389.67 Q2198.96 1386.73 2197.01 1385.14 Q2195.09 1383.52 2191.6 1383.52 Q2189.37 1383.52 2187.27 1384.05 Q2185.16 1384.58 2183.22 1385.65 L2183.22 1381.71 Q2185.55 1380.81 2187.75 1380.37 Q2189.95 1379.9 2192.04 1379.9 Q2197.66 1379.9 2200.44 1382.82 Q2203.22 1385.74 2203.22 1391.66 Z\" fill=\"#000000\" fill-rule=\"nonzero\" fill-opacity=\"1\" /><path clip-path=\"url(#clip190)\" d=\"M2216.2 1373.17 L2216.2 1380.53 L2224.98 1380.53 L2224.98 1383.84 L2216.2 1383.84 L2216.2 1397.91 Q2216.2 1401.09 2217.06 1401.99 Q2217.94 1402.89 2220.6 1402.89 L2224.98 1402.89 L2224.98 1406.46 L2220.6 1406.46 Q2215.67 1406.46 2213.79 1404.63 Q2211.92 1402.77 2211.92 1397.91 L2211.92 1383.84 L2208.79 1383.84 L2208.79 1380.53 L2211.92 1380.53 L2211.92 1373.17 L2216.2 1373.17 Z\" fill=\"#000000\" fill-rule=\"nonzero\" fill-opacity=\"1\" /></svg>\n"
      ]
     },
     "metadata": {},
     "output_type": "display_data"
    }
   ],
   "source": [
    "# Now batch the same data, repeat the procedure\n",
    "\n",
    "# X = reduce(hcat, x)\n",
    "Y = reduce(hcat, y)\n",
    "\n",
    "b = 50\n",
    "data = DataLoader((X, Y), batchsize=b)\n",
    "# Fit LA\n",
    "if outdim == 1\n",
    "    la = Laplace(nn; likelihood=likelihood, λ=λ, subset_of_weights=:last_layer)\n",
    "    fit!(la, data)\n",
    "    # optimize_prior!(la; verbosity=0)\n",
    "    plot(la, X, y, title=\"batchsize=$b\")                              # standard\n",
    "    # savefig(@sprintf(\"fig-%02d.png\", batchsize))\n",
    "    # plot(la, X, y; xlims=(-5, 5), ylims=(-5, 5))  # lims\n",
    "    # plot(la, X, y; link_approx=:plugin)         # plugin approximation\n",
    "end"
   ]
  },
  {
   "cell_type": "code",
   "execution_count": 53,
   "id": "02b1937c-640e-46c4-bd9a-5839aecede08",
   "metadata": {
    "tags": []
   },
   "outputs": [
    {
     "data": {
      "text/plain": [
       "33-element Vector{Float32}:\n",
       " -1.5193033\n",
       " -1.5851523\n",
       " -2.04893\n",
       " -1.5471814\n",
       " -1.5022987\n",
       " -1.2056206\n",
       " -1.4960097\n",
       " -1.6127374\n",
       " -1.528202\n",
       " -1.5929381\n",
       "  ⋮\n",
       " -1.4396887\n",
       " -2.1658235\n",
       " -1.8749877\n",
       " -1.4993583\n",
       " -1.8684943\n",
       " -1.8874115\n",
       " -1.5460135\n",
       " -1.5593024\n",
       " -3.1463819"
      ]
     },
     "metadata": {},
     "output_type": "display_data"
    }
   ],
   "source": [
    "g_1 = Float32[-0.52817833, -0.43119496, -0.5210522, -0.4708877, -0.45764622, -0.42256445, -0.45563537, -0.43949524, -0.53112304, -0.43344456, -0.4039374, -0.43194032, -0.43552247, -0.4571392, -0.43146086, -0.4209185, -0.36306658, -0.42193952, -0.49689957, -0.47045025, -0.40221792, -0.44249928, -0.38054764, -0.43663415, -0.4390404, -0.56177676, -0.46146542, -0.45663112, -0.45890695, -0.4663252, -0.47067362, -0.423838, -0.9058165]\n",
    "g_2 = Float32[-0.9911245, -1.1539569, -1.5278772, -1.0762932, -1.044652, -0.78305584, -1.0403739, -1.1732417, -0.99707854, -1.1594931, -1.0878786, -1.1557361, -1.1641731, -1.0437337, -1.1544219, -1.3352259, -0.67081517, -1.1303514, -0.92817104, -1.0751797, -0.7444584, -1.1791624, -0.7035855, -1.1667923, -1.0006479, -1.6040461, -1.4135218, -1.0427268, -1.4095868, -1.4210858, -1.0753393, -1.1354641, -2.2405646]\n",
    "g_batch = Float32[-1.5193033, -1.5851523, -2.04893, -1.5471814, -1.5022987, -1.2056206, -1.4960097, -1.6127374, -1.528202, -1.5929381, -1.4918164, -1.5876769, -1.599696, -1.5008733, -1.5858833, -1.7561449, -1.033882, -1.5522914, -1.425071, -1.5456303, -1.1466767, -1.6216621, -1.0841335, -1.6034269, -1.4396887, -2.1658235, -1.8749877, -1.4993583, -1.8684943, -1.8874115, -1.5460135, -1.5593024, -3.1463819]"
   ]
  },
  {
   "cell_type": "code",
   "execution_count": 54,
   "id": "d423cc50-c493-4cc7-b18f-664020a06c54",
   "metadata": {
    "tags": []
   },
   "outputs": [
    {
     "data": {
      "text/plain": [
       "33×33 Matrix{Float32}:\n",
       " 0.52349   0.609495  0.806992  0.568475  …  0.567971  0.599728  1.18342\n",
       " 0.427368  0.49758   0.658813  0.464092     0.463681  0.489606  0.96612\n",
       " 0.516428  0.601272  0.796104  0.560805     0.560308  0.591636  1.16745\n",
       " 0.466708  0.543384  0.719459  0.506813     0.506364  0.534676  1.05505\n",
       " 0.453584  0.528104  0.699227  0.492562     0.492125  0.519641  1.02539\n",
       " 0.418814  0.487621  0.645627  0.454803  …  0.4544    0.479807  0.946783\n",
       " 0.451591  0.525784  0.696155  0.490397     0.489963  0.517358  1.02088\n",
       " 0.435594  0.507159  0.671495  0.473026     0.472607  0.499031  0.984717\n",
       " 0.526409  0.612893  0.811491  0.571644     0.571137  0.603071  1.19002\n",
       " 0.429598  0.500176  0.66225   0.466513     0.4661    0.492161  0.971161\n",
       " ⋮                                       ⋱  ⋮                   \n",
       " 0.435144  0.506634  0.6708    0.472536     0.472117  0.498515  0.983698\n",
       " 0.556791  0.648266  0.858326  0.604637  …  0.604101  0.637877  1.2587\n",
       " 0.45737   0.532511  0.705063  0.496672     0.496232  0.523977  1.03394\n",
       " 0.452578  0.526933  0.697676  0.491469     0.491033  0.518488  1.02311\n",
       " 0.454834  0.529559  0.701153  0.493918     0.493481  0.521072  1.02821\n",
       " 0.462186  0.538119  0.712488  0.501903     0.501458  0.529495  1.04483\n",
       " 0.466496  0.543137  0.719131  0.506583  …  0.506134  0.534433  1.05457\n",
       " 0.420076  0.489091  0.647572  0.456174     0.45577   0.481253  0.949636\n",
       " 0.897777  1.04527   1.38398   0.974924     0.97406   1.02852   2.02954"
      ]
     },
     "metadata": {},
     "output_type": "display_data"
    }
   ],
   "source": [
    "g_1 * g_2'"
   ]
  },
  {
   "cell_type": "code",
   "execution_count": 55,
   "id": "6ce70cbe-2e18-4329-91d6-e840cacf2e98",
   "metadata": {
    "tags": []
   },
   "outputs": [
    {
     "data": {
      "text/plain": [
       "33×33 adjoint(::Matrix{Float32}) with eltype Float32:\n",
       " 0.52349   0.609495  0.806992  0.568475  …  0.567971  0.599728  1.18342\n",
       " 0.427368  0.49758   0.658813  0.464092     0.463681  0.489606  0.96612\n",
       " 0.516428  0.601272  0.796104  0.560805     0.560308  0.591636  1.16745\n",
       " 0.466708  0.543384  0.719459  0.506813     0.506364  0.534676  1.05505\n",
       " 0.453584  0.528104  0.699227  0.492562     0.492125  0.519641  1.02539\n",
       " 0.418814  0.487621  0.645627  0.454803  …  0.4544    0.479807  0.946783\n",
       " 0.451591  0.525784  0.696155  0.490397     0.489963  0.517358  1.02088\n",
       " 0.435594  0.507159  0.671495  0.473026     0.472607  0.499031  0.984717\n",
       " 0.526409  0.612893  0.811491  0.571644     0.571137  0.603071  1.19002\n",
       " 0.429598  0.500176  0.66225   0.466513     0.4661    0.492161  0.971161\n",
       " ⋮                                       ⋱  ⋮                   \n",
       " 0.435144  0.506634  0.6708    0.472536     0.472117  0.498515  0.983698\n",
       " 0.556791  0.648266  0.858326  0.604637  …  0.604101  0.637877  1.2587\n",
       " 0.45737   0.532511  0.705063  0.496672     0.496232  0.523977  1.03394\n",
       " 0.452578  0.526933  0.697676  0.491469     0.491033  0.518488  1.02311\n",
       " 0.454834  0.529559  0.701153  0.493918     0.493481  0.521072  1.02821\n",
       " 0.462186  0.538119  0.712488  0.501903     0.501458  0.529495  1.04483\n",
       " 0.466496  0.543137  0.719131  0.506583  …  0.506134  0.534433  1.05457\n",
       " 0.420076  0.489091  0.647572  0.456174     0.45577   0.481253  0.949636\n",
       " 0.897777  1.04527   1.38398   0.974924     0.97406   1.02852   2.02954"
      ]
     },
     "metadata": {},
     "output_type": "display_data"
    }
   ],
   "source": [
    "(g_2 * g_1')'"
   ]
  },
  {
   "cell_type": "code",
   "execution_count": 56,
   "id": "15184b47-c530-481f-abfa-41fcec7eda7b",
   "metadata": {
    "tags": []
   },
   "outputs": [
    {
     "data": {
      "text/plain": [
       "true"
      ]
     },
     "metadata": {},
     "output_type": "display_data"
    }
   ],
   "source": [
    "isapprox(g_1 + g_2, g_batch, atol=.00005)"
   ]
  },
  {
   "cell_type": "code",
   "execution_count": 57,
   "id": "f45ee3d2-93de-4824-8938-da50e6d10dd1",
   "metadata": {
    "tags": []
   },
   "outputs": [
    {
     "name": "stdout",
     "output_type": "stream",
     "text": [
      "x = [7.212605629276906 6.853912082857671 4.601130023210951 2.1806688476971674 6.669400697641634 5.157028710334818 5.172855548981173 1.3329458804729537 3.9671634662823694 1.5551897617974344 5.930533829169931 1.2787074857224807 3.7111836829314475 0.08564229487475927 7.256823917710805 4.544970748055114 5.969795314393457 0.2824920694495372 6.42941587232502 5.727867582770104 0.22203730436457558 0.6923937516033369 5.787518661156716 7.4406430312479195 5.1792390978330936 1.1595449868312775 7.790517000026403 1.8153854770185385 1.2619446754984498 2.6435826741056108 5.385772418723861 1.1696351448627897 5.169642937550592 1.1000585594132755 7.084436796828909 6.808099519992362 7.9414796419876295 4.258613986000669 1.6181416400763338 3.048390976306112 2.337886435166822 5.16984990208392 6.498414718094443 5.6890566494685375 0.5622542401599366 1.961608086444543 5.92489281298111 7.482811262379361 3.744496061593537 7.474890513043864]\n",
      "[x[1]] = [7.212605629276906]\n",
      "y = [1.4837193767803216 0.40374470921946465 -1.044588261922236 1.3875791864390328 0.2615906789709733 -0.3373727574039722 -1.1557506238035704 1.11089297852037 -0.7972067295165377 0.82142958573189 -0.6647098222164338 1.176301638969478 -0.4561245155482444 0.39579747205795035 0.5593088973859103 -0.9427576146295059 0.11865757615269257 0.15586854536889724 -0.13391365676176312 -0.35464410530936324 -0.07723991823721199 0.6079850298955031 -0.8947628279443538 1.3255705258291115 -0.6866488361012493 0.9774599971526442 1.0431083709218947 1.2102719289332022 1.2091061044822244 0.5621342885635641 -1.3197651159164332 0.6610412600453287 -0.9126046574416399 0.28930722952998134 0.9357195907955612 0.9123997548650755 1.3102567442858437 -0.9013215035247187 0.9352442146019594 -0.09048854995821513 0.6790284967187061 -1.4411100384458568 0.38358658662782896 -0.35843031774682 0.9560915252402016 1.0229102163746893 -0.7940879286529021 1.111508476203761 -0.744220636060568 0.4651561973180161]\n"
     ]
    }
   ],
   "source": [
    "for d in data\n",
    "    x, y = d\n",
    "    @show x\n",
    "    @show [x[1]]\n",
    "    @show y\n",
    "    break\n",
    "end"
   ]
  },
  {
   "cell_type": "code",
   "execution_count": 58,
   "id": "fe4c2c14-0dcf-4b90-86a1-7fce36fea170",
   "metadata": {
    "tags": []
   },
   "outputs": [
    {
     "ename": "DimensionMismatch",
     "evalue": "DimensionMismatch: All data containers must have the same number of observations.",
     "output_type": "error",
     "traceback": [
      "DimensionMismatch: All data containers must have the same number of observations.\n",
      "\n",
      "Stacktrace:\n",
      " [1] _check_numobs_error()\n",
      "   @ MLUtils C:\\Users\\Andrei\\.julia\\packages\\MLUtils\\HP9PX\\src\\observation.jl:179\n",
      " [2] _check_numobs\n",
      "   @ C:\\Users\\Andrei\\.julia\\packages\\MLUtils\\HP9PX\\src\\observation.jl:188 [inlined]\n",
      " [3] numobs\n",
      "   @ C:\\Users\\Andrei\\.julia\\packages\\MLUtils\\HP9PX\\src\\observation.jl:193 [inlined]\n",
      " [4] ObsView\n",
      "   @ C:\\Users\\Andrei\\.julia\\packages\\MLUtils\\HP9PX\\src\\obsview.jl:145 [inlined]\n",
      " [5] iterate(e::DataLoader{Tuple{Matrix{Float64}, Matrix{Float64}}, Random._GLOBAL_RNG, Val{nothing}})\n",
      "   @ MLUtils C:\\Users\\Andrei\\.julia\\packages\\MLUtils\\HP9PX\\src\\eachobs.jl:158\n",
      " [6] fit!(la::Laplace, data::DataLoader{Tuple{Matrix{Float64}, Matrix{Float64}}, Random._GLOBAL_RNG, Val{nothing}}; override::Bool)\n",
      "   @ LaplaceRedux C:\\Users\\Andrei\\.julia\\packages\\LaplaceRedux\\iaXHg\\src\\laplace.jl:122\n",
      " [7] fit!(la::Laplace, data::DataLoader{Tuple{Matrix{Float64}, Matrix{Float64}}, Random._GLOBAL_RNG, Val{nothing}})\n",
      "   @ LaplaceRedux C:\\Users\\Andrei\\.julia\\packages\\LaplaceRedux\\iaXHg\\src\\laplace.jl:113\n",
      " [8] top-level scope\n",
      "   @ c:\\Users\\Andrei\\LaplaceRedux.jl\\src\\Trials-01.ipynb:10"
     ]
    }
   ],
   "source": [
    "# Plotting confidence range progression for increasing batchsizes\n",
    "# Save to a series of PNG images, which can be merged to a gif via imagemagick\n",
    "for batchsize in range(1, 1)\n",
    "    # Now batch the same data, repeat the procedure\n",
    "    Y = reduce(hcat, y)\n",
    "    data = DataLoader((X, Y), batchsize=batchsize)\n",
    "    # Fit LA\n",
    "    if outdim == 1\n",
    "        la = Laplace(nn; likelihood=likelihood, λ=λ, subset_of_weights=:last_layer)\n",
    "        fit!(la, data)\n",
    "        # optimize_prior!(la; verbosity=1, show_every=10_000)\n",
    "        plot(la, X, y, title=\"batchsize=$batchsize\")                              # standard\n",
    "        savefig(@sprintf(\"fig-01-%02d.png\", batchsize))\n",
    "        # plot(la, X, y; xlims=(-5, 5), ylims=(-5, 5))  # lims\n",
    "        # plot(la, X, y; link_approx=:plugin)         # plugin approximation\n",
    "    end\n",
    "end"
   ]
  },
  {
   "cell_type": "code",
   "execution_count": 59,
   "id": "e0febbac-12ed-46df-a1fe-34990a15e2cf",
   "metadata": {},
   "outputs": [],
   "source": [
    "\n",
    "    # lossf = la.est_params.curvature.loss_fun\n",
    "    # x_1 = [1.5261694931931657]\n",
    "    # y_1 = [1.5517179074064962]\n",
    "    # x_2 = [5.795661372040879]\n",
    "    # y_2 = [-0.6585143352250986]\n",
    "    # x_b = hcat(x_1, x_2)\n",
    "    # y_b = hcat(y_1, y_2)\n",
    "    # @show lossf(x_1, y_1)\n",
    "    # @show lossf(x_2, y_2)\n",
    "    # @show lossf(x_1, y_1) + lossf(x_2, y_2)\n",
    "    # @show lossf(x_b, y_b)\n",
    "    # @assert isapprox(lossf(x_1, y_1) + lossf(x_2, y_2), lossf(x_b, y_b), atol=.05)\n",
    "        # x, y = d\n",
    "        # if length(size(x)) == 2 && size(x, 2) == 2\n",
    "        #     # @show x\n",
    "        #     # @show y\n",
    "        #     # @show [x[1]]\n",
    "        #     # @show [y[1]]\n",
    "        #     loss_1, H_1 = hessian_approximation(la, ([x[1]], [y[1]]))\n",
    "        #     loss_2, H_2 = hessian_approximation(la, ([x[2]], [y[2]]))\n",
    "        #     @assert isapprox(loss_1 + loss_2, loss_batch, atol=.05) \"$loss_1 + $loss_2 == $(loss_1 + loss_2) != $loss_batch\"\n",
    "        #     @assert isapprox(H_1 + H_2, H_batch, atol=.05) # || isapprox(.5H_1 + .5H_2, H_batch, atol=3)\n",
    "        # end\n",
    "        # @show H_1\n",
    "        # @show H_2\n",
    "        # @show H_batch\n",
    "        # @assert isapprox(.5H_1 + .5H_2, H_batch, atol=3) || isapprox(H_1 + H_2, H_batch, atol=3)"
   ]
  },
  {
   "cell_type": "code",
   "execution_count": 60,
   "id": "46ffe554-4f0c-43f4-bf2e-9be5a0f73ec3",
   "metadata": {
    "tags": []
   },
   "outputs": [
    {
     "data": {
      "text/plain": [
       "(:data, :batchsize, :buffer, :partial, :shuffle, :parallel, :collate, :rng)"
      ]
     },
     "metadata": {},
     "output_type": "display_data"
    }
   ],
   "source": [
    "fieldnames(DataLoader)"
   ]
  }
 ],
 "metadata": {
  "kernelspec": {
   "display_name": "Julia 1.8.5",
   "language": "julia",
   "name": "julia-1.8"
  },
  "language_info": {
   "file_extension": ".jl",
   "mimetype": "application/julia",
   "name": "julia",
   "version": "1.8.5"
  }
 },
 "nbformat": 4,
 "nbformat_minor": 5
}
