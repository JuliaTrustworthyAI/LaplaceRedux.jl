{
 "cells": [
  {
   "cell_type": "markdown",
   "id": "c2e41919-b5ab-4ad3-b75a-d59633975520",
   "metadata": {
    "tags": []
   },
   "source": [
    "## Batched Gradients"
   ]
  },
  {
   "cell_type": "code",
   "execution_count": 62,
   "id": "8d97b782-b965-4dcb-848c-2bbcb12d30ce",
   "metadata": {
    "tags": []
   },
   "outputs": [
    {
     "name": "stderr",
     "output_type": "stream",
     "text": [
      "\u001b[32m\u001b[1m  Activating\u001b[22m\u001b[39m project at `~/Builds/navimakarov/LaplaceRedux.jl/dev/notebooks/batching`\n"
     ]
    }
   ],
   "source": [
    "using Pkg\n",
    "Pkg.activate(\".\")\n",
    "using LaplaceRedux\n",
    "using LaplaceRedux.Curvature\n",
    "using LaplaceRedux.Data\n",
    "using Flux\n",
    "using Flux.Optimise: update!, Adam\n",
    "using Plots\n",
    "using Statistics\n",
    "using MLUtils\n",
    "using Zygote\n",
    "using Printf\n",
    "using NNlib\n",
    "using BenchmarkTools\n",
    "using Tullio"
   ]
  },
  {
   "cell_type": "code",
   "execution_count": 63,
   "id": "300a3e06-70d7-4118-96a4-81091d044b20",
   "metadata": {
    "tags": []
   },
   "outputs": [
    {
     "data": {
      "text/plain": [
       "Dict{Symbol, Any} with 6 entries:\n",
       "  :loss_fun   => :mse\n",
       "  :y          => [0.674481, 0.476305, 1.0961, 1.50355, 0.414426, 0.221046, 0.72…\n",
       "  :likelihood => :regression\n",
       "  :X          => [2.02611 2.39063 … 6.35966 4.52948]\n",
       "  :outdim     => 1\n",
       "  :data       => zip([[2.02611], [2.39063], [1.3071], [7.45034], [2.85453], [2.…"
      ]
     },
     "execution_count": 63,
     "metadata": {},
     "output_type": "execute_result"
    }
   ],
   "source": [
    "# Setup some dummy data, like in tests\n",
    "\n",
    "n = 128\n",
    "data_dict = Dict()\n",
    "bsize = 2\n",
    "\n",
    "x, y = LaplaceRedux.Data.toy_data_regression(n)\n",
    "xs = [[x] for x in x]\n",
    "X, Y = reduce(hcat, x), reduce(hcat, y)\n",
    "\n",
    "dataloader = DataLoader((X, Y), batchsize=bsize)\n",
    "data = zip(xs, y)\n",
    "data_dict[:regression] = Dict(\n",
    "    :data => data,\n",
    "    :X => X,\n",
    "    :y => y,\n",
    "    :outdim => 1,\n",
    "    :loss_fun => :mse,\n",
    "    :likelihood => :regression,\n",
    ")"
   ]
  },
  {
   "cell_type": "code",
   "execution_count": 64,
   "id": "560843c0-d17b-419a-b21b-d7875bfe8ab2",
   "metadata": {
    "tags": []
   },
   "outputs": [
    {
     "name": "stderr",
     "output_type": "stream",
     "text": [
      "\u001b[33m\u001b[1m┌ \u001b[22m\u001b[39m\u001b[33m\u001b[1mWarning: \u001b[22m\u001b[39mLayer with Float32 parameters got Float64 input.\n",
      "\u001b[33m\u001b[1m│ \u001b[22m\u001b[39m  The input will be converted, but any earlier layers may be very slow.\n",
      "\u001b[33m\u001b[1m│ \u001b[22m\u001b[39m  layer = Dense(1 => 32, σ)   \u001b[90m# 64 parameters\u001b[39m\n",
      "\u001b[33m\u001b[1m│ \u001b[22m\u001b[39m  summary(x) = \"1-element Vector{Float64}\"\n",
      "\u001b[33m\u001b[1m└ \u001b[22m\u001b[39m\u001b[90m@ Flux ~/.julia/packages/Flux/EHgZm/src/layers/stateless.jl:60\u001b[39m\n"
     ]
    },
    {
     "name": "stdout",
     "output_type": "stream",
     "text": [
      "Epoch 20\n",
      "avg_loss(data) = 0.47340725422171465\n",
      "Epoch 40\n",
      "avg_loss(data) = 0.4534691405424245\n",
      "Epoch 60\n",
      "avg_loss(data) = 0.43944693575348115\n",
      "Epoch 80\n",
      "avg_loss(data) = 0.42765904204060134\n",
      "Epoch 100\n",
      "avg_loss(data) = 0.4159723891351543\n",
      "Epoch 120\n",
      "avg_loss(data) = 0.40304985023726797\n",
      "Epoch 140\n",
      "avg_loss(data) = 0.3883432639032817\n",
      "Epoch 160\n",
      "avg_loss(data) = 0.36502531939915644\n",
      "Epoch 180\n",
      "avg_loss(data) = 0.3273398871608472\n",
      "Epoch 200\n",
      "avg_loss(data) = 0.280764489288256\n"
     ]
    }
   ],
   "source": [
    "# Train a NN model\n",
    "\n",
    "val = data_dict[:regression]\n",
    "\n",
    "# Unpack:\n",
    "data = val[:data]\n",
    "X = val[:X]\n",
    "y = val[:y]\n",
    "outdim = val[:outdim]\n",
    "loss_fun = val[:loss_fun]\n",
    "likelihood = val[:likelihood]\n",
    "\n",
    "# Neural network:\n",
    "n_hidden = 32\n",
    "D = size(X, 1)\n",
    "nn = Chain(Dense(D, n_hidden, σ), Dense(n_hidden, outdim))\n",
    "λ = 0.01\n",
    "sqnorm(x) = sum(abs2, x)\n",
    "weight_regularization(λ=λ) = 1 / 2 * λ^2 * sum(sqnorm, Flux.params(nn))\n",
    "loss(x, y) = getfield(Flux.Losses, loss_fun)(nn(x), y) + weight_regularization()\n",
    "\n",
    "\n",
    "opt = Adam()\n",
    "epochs = 200\n",
    "avg_loss(data) = mean(map(d -> loss(d[1], d[2]), data))\n",
    "show_every = epochs / 10\n",
    "\n",
    "for epoch in 1:epochs\n",
    "    for d in data\n",
    "        gs = gradient(Flux.params(nn)) do\n",
    "            l = loss(d...)\n",
    "        end\n",
    "        update!(opt, Flux.params(nn), gs)\n",
    "    end\n",
    "    if epoch % show_every == 0\n",
    "        println(\"Epoch \" * string(epoch))\n",
    "        @show avg_loss(data)\n",
    "    end\n",
    "end\n"
   ]
  },
  {
   "cell_type": "code",
   "execution_count": 65,
   "id": "9445d613-4d96-496d-9789-3de845d9c745",
   "metadata": {
    "tags": []
   },
   "outputs": [
    {
     "data": {
      "text/plain": [
       "Chain(\n",
       "  Dense(1 => 32, σ),                    \u001b[90m# 64 parameters\u001b[39m\n",
       "  Dense(32 => 1),                       \u001b[90m# 33 parameters\u001b[39m\n",
       ") \u001b[90m                  # Total: 4 arrays, \u001b[39m97 parameters, 644 bytes."
      ]
     },
     "execution_count": 65,
     "metadata": {},
     "output_type": "execute_result"
    }
   ],
   "source": [
    "model = nn"
   ]
  },
  {
   "cell_type": "code",
   "execution_count": 66,
   "id": "972038e1-82cc-4451-9eb3-23ecc89a2445",
   "metadata": {
    "tags": []
   },
   "outputs": [
    {
     "data": {
      "text/plain": [
       "loss_fn (generic function with 1 method)"
      ]
     },
     "execution_count": 66,
     "metadata": {},
     "output_type": "execute_result"
    }
   ],
   "source": [
    "# Loss fun for regression\n",
    "loss_fn(x, ytrue; agg=sum) = Flux.Losses.mse(model(x), ytrue, agg=agg)"
   ]
  },
  {
   "cell_type": "code",
   "execution_count": 7,
   "id": "8b66904c-29ec-4b44-876e-0f4b891ad9da",
   "metadata": {
    "tags": []
   },
   "outputs": [
    {
     "ename": "LoadError",
     "evalue": "UndefVarError: `dataloader` not defined",
     "output_type": "error",
     "traceback": [
      "UndefVarError: `dataloader` not defined",
      ""
     ]
    }
   ],
   "source": [
    "dataloader"
   ]
  },
  {
   "cell_type": "code",
   "execution_count": 67,
   "id": "8cd567c6-e9f4-4bf3-b21c-ca78e9fd3750",
   "metadata": {
    "tags": []
   },
   "outputs": [
    {
     "data": {
      "text/plain": [
       "0.6744812875199306"
      ]
     },
     "execution_count": 67,
     "metadata": {},
     "output_type": "execute_result"
    }
   ],
   "source": [
    "# Take one datapoint of the dataset\n",
    "x_1 = xs[1]\n",
    "y_1 = y[1]"
   ]
  },
  {
   "cell_type": "code",
   "execution_count": 68,
   "id": "473913c9-d83a-4366-818a-7a369b60bb2b",
   "metadata": {
    "tags": []
   },
   "outputs": [
    {
     "data": {
      "text/plain": [
       "0.07596102806142857"
      ]
     },
     "execution_count": 68,
     "metadata": {},
     "output_type": "execute_result"
    }
   ],
   "source": [
    "loss_fn(x_1, y_1)"
   ]
  },
  {
   "cell_type": "code",
   "execution_count": 69,
   "id": "afb27e9b-e999-4722-b553-ab6f97dfede9",
   "metadata": {
    "tags": []
   },
   "outputs": [
    {
     "data": {
      "text/plain": [
       "Grads(...)"
      ]
     },
     "execution_count": 69,
     "metadata": {},
     "output_type": "execute_result"
    }
   ],
   "source": [
    "grads_1 = gradient(() -> loss_fn(x_1, y_1), Flux.params(model))\n",
    "grads = grads_1"
   ]
  },
  {
   "cell_type": "code",
   "execution_count": 70,
   "id": "1c9a8364-2ec4-4e90-837a-ec1c5df3b4d1",
   "metadata": {
    "tags": []
   },
   "outputs": [
    {
     "data": {
      "text/plain": [
       "IdDict{Any, Any} with 6 entries:\n",
       "  Float32[0.314995, -0.498… => Float32[0.0788479, -0.0320896, -0.132364, -0.119…\n",
       "  Float32[0.0238793]        => Float32[-0.551221]\n",
       "  :(Main.y_1)               => 0.551221\n",
       "  :(Main.x_1)               => Float32[0.305503]\n",
       "  Float32[-0.574315 0.2331… => Float32[-0.258767 -0.266765 … -0.377837 -0.39490…\n",
       "  Float32[-0.215867; 0.214… => Float32[0.159754; -0.065017; … ; 0.0460124; 0.07…"
      ]
     },
     "execution_count": 70,
     "metadata": {},
     "output_type": "execute_result"
    }
   ],
   "source": [
    "grads.grads"
   ]
  },
  {
   "cell_type": "code",
   "execution_count": 71,
   "id": "e0ac8865-6825-40e0-8cd4-a4f7303bd0b6",
   "metadata": {
    "tags": []
   },
   "outputs": [
    {
     "data": {
      "text/plain": [
       "Params([Float32[-0.215867; 0.21430783; … ; 0.60598916; 0.5763072;;], Float32[0.31499466, -0.4984213, 1.7169719, 1.4942384, -0.044635363, 1.6780366, -0.655377, -0.09566895, 0.062958434, -1.4049017  …  0.29456976, -0.5352677, -0.3875355, -1.7812886, 0.23457813, -0.38505232, -1.9335868, 0.20516092, -0.44884127, -0.24087419], Float32[-0.57431465 0.23310256 … -0.1910847 -0.34639055], Float32[0.02387928]])"
      ]
     },
     "execution_count": 71,
     "metadata": {},
     "output_type": "execute_result"
    }
   ],
   "source": [
    "grads.params"
   ]
  },
  {
   "cell_type": "code",
   "execution_count": 72,
   "id": "4715e4dc-7635-4fd6-a177-b79e2ce63d07",
   "metadata": {
    "tags": []
   },
   "outputs": [
    {
     "data": {
      "text/plain": [
       "4"
      ]
     },
     "execution_count": 72,
     "metadata": {},
     "output_type": "execute_result"
    }
   ],
   "source": [
    "length(grads.params)"
   ]
  },
  {
   "cell_type": "code",
   "execution_count": 73,
   "id": "c1c7ca4a-3886-42bc-8e22-7526ec1286cd",
   "metadata": {
    "tags": []
   },
   "outputs": [
    {
     "data": {
      "text/plain": [
       "97"
      ]
     },
     "execution_count": 73,
     "metadata": {},
     "output_type": "execute_result"
    }
   ],
   "source": [
    "sum(length, grads.params) # 97 params total"
   ]
  },
  {
   "cell_type": "code",
   "execution_count": 74,
   "id": "04a05823-2afb-4a63-91f8-efac5d61d5c5",
   "metadata": {
    "tags": []
   },
   "outputs": [
    {
     "data": {
      "text/plain": [
       "(:order, :params)"
      ]
     },
     "execution_count": 74,
     "metadata": {},
     "output_type": "execute_result"
    }
   ],
   "source": [
    "fieldnames(Params)"
   ]
  },
  {
   "cell_type": "code",
   "execution_count": 75,
   "id": "16470cba-7405-4360-aa3c-a288ef903bac",
   "metadata": {
    "tags": []
   },
   "outputs": [
    {
     "data": {
      "text/plain": [
       "Zygote.Buffer{Any, Vector{Any}}(Any[Float32[-0.215867; 0.21430783; … ; 0.60598916; 0.5763072;;], Float32[0.31499466, -0.4984213, 1.7169719, 1.4942384, -0.044635363, 1.6780366, -0.655377, -0.09566895, 0.062958434, -1.4049017  …  0.29456976, -0.5352677, -0.3875355, -1.7812886, 0.23457813, -0.38505232, -1.9335868, 0.20516092, -0.44884127, -0.24087419], Float32[-0.57431465 0.23310256 … -0.1910847 -0.34639055], Float32[0.02387928]], false)"
      ]
     },
     "execution_count": 75,
     "metadata": {},
     "output_type": "execute_result"
    }
   ],
   "source": [
    "grads.params.order"
   ]
  },
  {
   "cell_type": "code",
   "execution_count": 76,
   "id": "e9b8e10e-78e9-4ecb-9712-b4107f62c22b",
   "metadata": {
    "tags": []
   },
   "outputs": [
    {
     "data": {
      "text/plain": [
       "32×1 Matrix{Float32}:\n",
       " -0.215867\n",
       "  0.21430783\n",
       " -0.8522523\n",
       " -0.8058787\n",
       " -0.55217594\n",
       " -0.8438247\n",
       "  0.64416796\n",
       " -0.58848274\n",
       " -0.20825455\n",
       "  0.7841481\n",
       "  0.21280028\n",
       " -0.21573345\n",
       " -0.79292846\n",
       "  ⋮\n",
       "  0.19885172\n",
       "  0.2104885\n",
       " -0.2148419\n",
       "  0.21682474\n",
       "  0.20893377\n",
       "  0.86282456\n",
       " -0.21216859\n",
       "  0.21194375\n",
       "  0.8965222\n",
       " -0.2127403\n",
       "  0.60598916\n",
       "  0.5763072"
      ]
     },
     "execution_count": 76,
     "metadata": {},
     "output_type": "execute_result"
    }
   ],
   "source": [
    "th_1 = grads.params[1]"
   ]
  },
  {
   "cell_type": "code",
   "execution_count": 77,
   "id": "32d26965-a800-479e-beb0-19d27b5c6fee",
   "metadata": {
    "tags": []
   },
   "outputs": [
    {
     "data": {
      "text/plain": [
       "32×1 Matrix{Float32}:\n",
       "  0.15975425\n",
       " -0.06501701\n",
       " -0.26818433\n",
       " -0.24190344\n",
       " -0.014645586\n",
       " -0.3032601\n",
       "  0.10062788\n",
       "  0.0010204703\n",
       "  0.09501783\n",
       "  0.078615464\n",
       " -0.07067647\n",
       "  0.15351215\n",
       " -0.22601257\n",
       "  ⋮\n",
       " -0.07786055\n",
       " -0.16788235\n",
       "  0.16065204\n",
       " -0.06647736\n",
       " -0.07539779\n",
       "  0.05932422\n",
       "  0.15040717\n",
       " -0.13158734\n",
       "  0.06730304\n",
       "  0.11090459\n",
       "  0.046012405\n",
       "  0.0785949"
      ]
     },
     "execution_count": 77,
     "metadata": {},
     "output_type": "execute_result"
    }
   ],
   "source": [
    "# This is the gradient of the loss function value at (x_1, y_1) for th_1\n",
    "# Size 32\n",
    "grads.grads[th_1]"
   ]
  },
  {
   "cell_type": "code",
   "execution_count": 78,
   "id": "610a1885-2337-45d1-988d-a1d5f97f756c",
   "metadata": {
    "tags": []
   },
   "outputs": [
    {
     "data": {
      "text/plain": [
       "32×1 Matrix{Float32}:\n",
       "  0.19042273\n",
       " -0.078068666\n",
       " -0.31359237\n",
       " -0.27836326\n",
       " -0.015698383\n",
       " -0.35359997\n",
       "  0.11078293\n",
       "  0.001075707\n",
       "  0.11229756\n",
       "  0.09004506\n",
       " -0.08475374\n",
       "  0.18294053\n",
       " -0.2589492\n",
       "  ⋮\n",
       " -0.09289562\n",
       " -0.20045124\n",
       "  0.19136347\n",
       " -0.07992181\n",
       " -0.09019053\n",
       "  0.069791876\n",
       "  0.17880549\n",
       " -0.15734246\n",
       "  0.08012773\n",
       "  0.13168693\n",
       "  0.050335698\n",
       "  0.08534028"
      ]
     },
     "execution_count": 78,
     "metadata": {},
     "output_type": "execute_result"
    }
   ],
   "source": [
    "# The same for x_2, y_2\n",
    "x_2 = xs[2]\n",
    "y_2 = y[2]\n",
    "grads_2 = gradient(() -> loss_fn(x_2, y_2), Flux.params(model))\n",
    "grads_2.grads[th_1]"
   ]
  },
  {
   "cell_type": "code",
   "execution_count": 79,
   "id": "50a6efc5-addf-4463-bab3-077ef2056d35",
   "metadata": {
    "tags": []
   },
   "outputs": [
    {
     "data": {
      "text/plain": [
       "([2.0261055314447827 2.3906266989746072], [0.6744812875199306 0.47630528861687577])"
      ]
     },
     "execution_count": 79,
     "metadata": {},
     "output_type": "execute_result"
    }
   ],
   "source": [
    "# Now take one batch combining the two\n",
    "x_b, y_b = popfirst!(Iterators.Stateful(dataloader))"
   ]
  },
  {
   "cell_type": "code",
   "execution_count": 80,
   "id": "119b42bf-cca6-4476-8ae9-d611118cb6d3",
   "metadata": {
    "tags": []
   },
   "outputs": [
    {
     "name": "stdout",
     "output_type": "stream",
     "text": [
      "x_1 = [2.0261055314447827]\n",
      "x_2 = [2.3906266989746072]\n",
      "y_1 = 0.6744812875199306\n",
      "y_2 = 0.47630528861687577\n"
     ]
    },
    {
     "data": {
      "text/plain": [
       "0.47630528861687577"
      ]
     },
     "execution_count": 80,
     "metadata": {},
     "output_type": "execute_result"
    }
   ],
   "source": [
    "@show x_1\n",
    "@show x_2\n",
    "@show y_1\n",
    "@show y_2"
   ]
  },
  {
   "cell_type": "code",
   "execution_count": 81,
   "id": "042c770d-f73c-4fee-aa17-f6c965cb076c",
   "metadata": {
    "tags": []
   },
   "outputs": [
    {
     "data": {
      "text/plain": [
       "Grads(...)"
      ]
     },
     "execution_count": 81,
     "metadata": {},
     "output_type": "execute_result"
    }
   ],
   "source": [
    "# Take the *Jacobian* to obtain the gradients for the batch parts\n",
    "grads_b = jacobian(() -> loss_fn(x_b, y_b, agg=identity), Flux.params(model))"
   ]
  },
  {
   "cell_type": "code",
   "execution_count": 82,
   "id": "c2079c31-056e-48e3-a7f9-02c3744a7198",
   "metadata": {
    "tags": []
   },
   "outputs": [
    {
     "data": {
      "text/plain": [
       "2×32 Matrix{Float64}:\n",
       " 0.159754  -0.065017   -0.268184  …  0.110905  0.0460124  0.0785949\n",
       " 0.190423  -0.0780687  -0.313592     0.131687  0.0503357  0.0853403"
      ]
     },
     "execution_count": 82,
     "metadata": {},
     "output_type": "execute_result"
    }
   ],
   "source": [
    "grads_b.grads[th_1]"
   ]
  },
  {
   "cell_type": "code",
   "execution_count": 83,
   "id": "bb88cb06-2672-40bf-afd6-45a8284d2788",
   "metadata": {
    "tags": []
   },
   "outputs": [
    {
     "data": {
      "text/plain": [
       "Params([Float32[-0.215867; 0.21430783; … ; 0.60598916; 0.5763072;;], Float32[0.31499466, -0.4984213, 1.7169719, 1.4942384, -0.044635363, 1.6780366, -0.655377, -0.09566895, 0.062958434, -1.4049017  …  0.29456976, -0.5352677, -0.3875355, -1.7812886, 0.23457813, -0.38505232, -1.9335868, 0.20516092, -0.44884127, -0.24087419], Float32[-0.57431465 0.23310256 … -0.1910847 -0.34639055], Float32[0.02387928]])"
      ]
     },
     "execution_count": 83,
     "metadata": {},
     "output_type": "execute_result"
    }
   ],
   "source": [
    "th = grads_b.params"
   ]
  },
  {
   "cell_type": "code",
   "execution_count": 84,
   "id": "0e8d5167-5189-4ed0-826d-4c9694364b13",
   "metadata": {
    "tags": []
   },
   "outputs": [
    {
     "data": {
      "text/plain": [
       "true"
      ]
     },
     "execution_count": 84,
     "metadata": {},
     "output_type": "execute_result"
    }
   ],
   "source": [
    "grads_b.params == grads_1.params == grads_2.params"
   ]
  },
  {
   "cell_type": "code",
   "execution_count": 85,
   "id": "63830c97-e3b7-4f92-ac7a-32d50ca7c46d",
   "metadata": {
    "tags": []
   },
   "outputs": [
    {
     "data": {
      "text/plain": [
       "2×32 Matrix{Float64}:\n",
       " 0.159754  -0.065017   -0.268184  …  0.110905  0.0460124  0.0785949\n",
       " 0.190423  -0.0780687  -0.313592     0.131687  0.0503357  0.0853403"
      ]
     },
     "execution_count": 85,
     "metadata": {},
     "output_type": "execute_result"
    }
   ],
   "source": [
    "grads_b[th_1]"
   ]
  },
  {
   "cell_type": "code",
   "execution_count": 86,
   "id": "25338ccd-8236-42b5-bac0-b493f004599c",
   "metadata": {},
   "outputs": [
    {
     "data": {
      "text/plain": [
       "Grads(...)"
      ]
     },
     "execution_count": 86,
     "metadata": {},
     "output_type": "execute_result"
    }
   ],
   "source": [
    "grads"
   ]
  },
  {
   "cell_type": "code",
   "execution_count": 87,
   "id": "13efa991-22b2-44d8-96d5-284d3e051246",
   "metadata": {
    "tags": []
   },
   "outputs": [
    {
     "data": {
      "text/plain": [
       "1×32 adjoint(::Matrix{Float32}) with eltype Float32:\n",
       " 0.159754  -0.065017  -0.268184  -0.241903  …  0.110905  0.0460124  0.0785949"
      ]
     },
     "execution_count": 87,
     "metadata": {},
     "output_type": "execute_result"
    }
   ],
   "source": [
    "grads_1[th_1]'"
   ]
  },
  {
   "cell_type": "code",
   "execution_count": 88,
   "id": "4c5e26df-9a10-4d30-94b5-fc7c824a1139",
   "metadata": {
    "tags": []
   },
   "outputs": [
    {
     "data": {
      "text/plain": [
       "1×32 adjoint(::Matrix{Float32}) with eltype Float32:\n",
       " 0.190423  -0.0780687  -0.313592  …  0.131687  0.0503357  0.0853403"
      ]
     },
     "execution_count": 88,
     "metadata": {},
     "output_type": "execute_result"
    }
   ],
   "source": [
    "grads_2[th_1]'"
   ]
  },
  {
   "cell_type": "code",
   "execution_count": 30,
   "id": "38365237-ad93-40d0-b987-634ed14b2241",
   "metadata": {
    "tags": []
   },
   "outputs": [],
   "source": [
    "# grads_1 .* transpose.(grads_1)"
   ]
  },
  {
   "cell_type": "code",
   "execution_count": 89,
   "id": "b95bf90d-89a5-4816-936f-aa933c64fab7",
   "metadata": {
    "tags": []
   },
   "outputs": [
    {
     "data": {
      "text/plain": [
       "97"
      ]
     },
     "execution_count": 89,
     "metadata": {},
     "output_type": "execute_result"
    }
   ],
   "source": [
    "sum(length, grads_1)"
   ]
  },
  {
   "cell_type": "code",
   "execution_count": 90,
   "id": "ad2a9c99-c6c4-42e9-80f4-838037ab33ed",
   "metadata": {
    "tags": []
   },
   "outputs": [
    {
     "data": {
      "text/plain": [
       "97"
      ]
     },
     "execution_count": 90,
     "metadata": {},
     "output_type": "execute_result"
    }
   ],
   "source": [
    "sum(length, grads_1.params)"
   ]
  },
  {
   "cell_type": "code",
   "execution_count": 91,
   "id": "a37f6d67-4514-40b4-b14a-017f0451d9fd",
   "metadata": {
    "tags": []
   },
   "outputs": [
    {
     "data": {
      "text/plain": [
       "194"
      ]
     },
     "execution_count": 91,
     "metadata": {},
     "output_type": "execute_result"
    }
   ],
   "source": [
    "sum(length, grads_b)"
   ]
  },
  {
   "cell_type": "code",
   "execution_count": 92,
   "id": "dd390839-b4e3-4d5e-829b-e8e18097dc3b",
   "metadata": {
    "tags": []
   },
   "outputs": [
    {
     "data": {
      "text/plain": [
       "97×2 Matrix{Float64}:\n",
       "  0.159754     0.190423\n",
       " -0.065017    -0.0780687\n",
       " -0.268184    -0.313592\n",
       " -0.241903    -0.278363\n",
       " -0.0146456   -0.0156984\n",
       " -0.30326     -0.3536\n",
       "  0.100628     0.110783\n",
       "  0.00102047   0.00107571\n",
       "  0.0950178    0.112298\n",
       "  0.0786154    0.090045\n",
       " -0.0706765   -0.0847537\n",
       "  0.153512     0.18294\n",
       " -0.226013    -0.258949\n",
       "  ⋮           \n",
       " -0.287043    -0.302533\n",
       " -0.25625     -0.249635\n",
       " -0.262397    -0.27783\n",
       " -0.280541    -0.295868\n",
       " -0.271047    -0.319367\n",
       " -0.248782    -0.242239\n",
       " -0.281723    -0.297219\n",
       " -0.259486    -0.309467\n",
       " -0.244615    -0.238014\n",
       " -0.377837    -0.40967\n",
       " -0.394907    -0.424281\n",
       " -0.55122     -0.560401"
      ]
     },
     "execution_count": 92,
     "metadata": {},
     "output_type": "execute_result"
    }
   ],
   "source": [
    "# We would like to obtain g as a 97x2 matrix\n",
    "# containing as the first column the gradient for loss_fn(x_1, y_1) wrt theta (of size 97)\n",
    "# and as the second column, one for loss_fn(x_2, y_2)\n",
    "g = permutedims(reduce(hcat, grads_b))"
   ]
  },
  {
   "cell_type": "code",
   "execution_count": 117,
   "id": "c283e348-c5ec-4422-9789-89b3281408b6",
   "metadata": {
    "tags": []
   },
   "outputs": [
    {
     "data": {
      "text/plain": [
       "gradient_helper (generic function with 1 method)"
      ]
     },
     "execution_count": 117,
     "metadata": {},
     "output_type": "execute_result"
    }
   ],
   "source": [
    "function gradient_helper(model, x, y)\n",
    "    grads = jacobian(() -> loss_fn(x, y, agg=identity), Flux.params(model))\n",
    "    g = permutedims(reduce(hcat, grads))\n",
    "end"
   ]
  },
  {
   "cell_type": "code",
   "execution_count": 93,
   "id": "e4d9456b-0a63-4fca-ac62-432b597894b0",
   "metadata": {
    "tags": []
   },
   "outputs": [
    {
     "data": {
      "text/plain": [
       "2×32 Matrix{Float64}:\n",
       " 0.159754  -0.065017   -0.268184  …  0.110905  0.0460124  0.0785949\n",
       " 0.190423  -0.0780687  -0.313592     0.131687  0.0503357  0.0853403"
      ]
     },
     "execution_count": 93,
     "metadata": {},
     "output_type": "execute_result"
    }
   ],
   "source": [
    "# sanity check\n",
    "grads_b[th[1]]"
   ]
  },
  {
   "cell_type": "code",
   "execution_count": 94,
   "id": "9344fd68-0453-4ad0-b2e7-944f8a73ec45",
   "metadata": {
    "tags": []
   },
   "outputs": [
    {
     "data": {
      "text/plain": [
       "2×32 Matrix{Float64}:\n",
       " -0.258767  -0.266765  -0.274262  …  -0.244615  -0.377837  -0.394907\n",
       " -0.252126  -0.282149  -0.235686     -0.238014  -0.40967   -0.424281"
      ]
     },
     "execution_count": 94,
     "metadata": {},
     "output_type": "execute_result"
    }
   ],
   "source": [
    "grads_b[th[length(th)-1]]"
   ]
  },
  {
   "cell_type": "code",
   "execution_count": 95,
   "id": "8c9a1f72-694a-45df-ac59-d2fbdacb7d33",
   "metadata": {
    "tags": []
   },
   "outputs": [
    {
     "data": {
      "text/plain": [
       "2×1 Matrix{Float64}:\n",
       " -0.5512204170227051\n",
       " -0.5604010224342346"
      ]
     },
     "execution_count": 95,
     "metadata": {},
     "output_type": "execute_result"
    }
   ],
   "source": [
    "grads_b[th[length(th)]] # sanity: checked"
   ]
  },
  {
   "cell_type": "code",
   "execution_count": 96,
   "id": "4e6b9225-20ce-48e8-927d-854023e56275",
   "metadata": {
    "tags": []
   },
   "outputs": [
    {
     "data": {
      "text/plain": [
       "97×2 Matrix{Float64}:\n",
       "  0.159754     0.190423\n",
       " -0.065017    -0.0780687\n",
       " -0.268184    -0.313592\n",
       " -0.241903    -0.278363\n",
       " -0.0146456   -0.0156984\n",
       " -0.30326     -0.3536\n",
       "  0.100628     0.110783\n",
       "  0.00102047   0.00107571\n",
       "  0.0950178    0.112298\n",
       "  0.0786154    0.090045\n",
       " -0.0706765   -0.0847537\n",
       "  0.153512     0.18294\n",
       " -0.226013    -0.258949\n",
       "  ⋮           \n",
       " -0.287043    -0.302533\n",
       " -0.25625     -0.249635\n",
       " -0.262397    -0.27783\n",
       " -0.280541    -0.295868\n",
       " -0.271047    -0.319367\n",
       " -0.248782    -0.242239\n",
       " -0.281723    -0.297219\n",
       " -0.259486    -0.309467\n",
       " -0.244615    -0.238014\n",
       " -0.377837    -0.40967\n",
       " -0.394907    -0.424281\n",
       " -0.55122     -0.560401"
      ]
     },
     "execution_count": 96,
     "metadata": {},
     "output_type": "execute_result"
    }
   ],
   "source": [
    "g"
   ]
  },
  {
   "cell_type": "code",
   "execution_count": 97,
   "id": "10462059-0f7a-4282-8351-4b1a04f4a84b",
   "metadata": {
    "tags": []
   },
   "outputs": [
    {
     "data": {
      "text/plain": [
       "97×97 Matrix{Float64}:\n",
       "  0.0617822    -0.0252528    -0.102559     …  -0.143881     -0.194773\n",
       " -0.0252528     0.0103219     0.0419183        0.0587987     0.0795884\n",
       " -0.102559      0.0419183     0.170263         0.238959      0.323566\n",
       " -0.0916518     0.0374593     0.152167         0.213634      0.289337\n",
       " -0.00532902    0.00217776    0.00885061       0.0124442     0.0168703\n",
       " -0.115781      0.0473221     0.192216     …   0.269785      0.365321\n",
       "  0.0371713    -0.0151912    -0.0617275       -0.0867417    -0.117551\n",
       "  0.000367863  -0.000150327  -0.000611008     -0.000859393  -0.00116533\n",
       "  0.0365635    -0.0149447    -0.0606979       -0.0851689    -0.115307\n",
       "  0.0297058    -0.012141     -0.0493209       -0.0692502    -0.0937958\n",
       " -0.0274299     0.0112118     0.0455324    …   0.06387       0.0864544\n",
       "  0.0593602    -0.0242628    -0.0985383       -0.138241     -0.187139\n",
       " -0.0854163     0.0349105     0.141817         0.199121      0.269698\n",
       "  ⋮                                        ⋱   ⋮            \n",
       " -0.103465      0.042281      0.171852     …   0.241714      0.327764\n",
       " -0.0884733     0.0361493     0.147006         0.20711       0.281146\n",
       " -0.0948241     0.0387501     0.157496         0.2215        0.300335\n",
       " -0.101158      0.041338      0.168019         0.236319      0.320445\n",
       " -0.104116      0.0425552     0.172842         0.24254       0.32838\n",
       " -0.0858718     0.0350863     0.142684     …   0.201023      0.272885\n",
       " -0.101604      0.0415203     0.16876          0.237359      0.321854\n",
       " -0.100384      0.0410307     0.166637         0.233774      0.31646\n",
       " -0.0844016     0.0344856     0.140241         0.197585      0.26822\n",
       " -0.138371      0.0565482     0.229799         0.323026      0.437851\n",
       " -0.143881      0.0587987     0.238959     …   0.335966      0.455448\n",
       " -0.194773      0.0795884     0.323566         0.455448      0.617893"
      ]
     },
     "execution_count": 97,
     "metadata": {},
     "output_type": "execute_result"
    }
   ],
   "source": [
    "vg = g * transpose(g)"
   ]
  },
  {
   "cell_type": "code",
   "execution_count": 98,
   "id": "c5e24a92-c8f6-4db0-8088-bf788470b774",
   "metadata": {
    "tags": []
   },
   "outputs": [
    {
     "name": "stdout",
     "output_type": "stream",
     "text": [
      "size(x) = (32, 1)\n",
      "size(x) = (32,)\n",
      "size(x) = (1, 32)\n",
      "size(x) = (1,)\n"
     ]
    }
   ],
   "source": [
    "foreach(x -> @show(size(x)), grads)"
   ]
  },
  {
   "cell_type": "code",
   "execution_count": 99,
   "id": "72d5f879-b630-48ac-b295-985f230a0660",
   "metadata": {
    "tags": []
   },
   "outputs": [
    {
     "data": {
      "text/plain": [
       "97×97 Matrix{Float32}:\n",
       "  0.0362608    -0.014866    -0.0597151    …  -0.0807928    -0.106713\n",
       " -0.014866      0.00609472   0.0244817        0.0331231     0.0437498\n",
       " -0.0597151     0.0244817    0.0983402        0.133051      0.175738\n",
       " -0.0530067     0.0217314    0.0872926        0.118104      0.155995\n",
       " -0.00298933    0.00122555   0.00492289       0.00666053    0.00879739\n",
       " -0.0673335     0.0276051    0.110886     …   0.150026      0.198158\n",
       "  0.0210956    -0.00864868  -0.0347407       -0.0470031    -0.0620829\n",
       "  0.000204839  -8.3979f-5   -0.000337334     -0.000456402  -0.000602827\n",
       "  0.021384     -0.00876692  -0.0352157       -0.0476458    -0.0629317\n",
       "  0.0171466    -0.0070297   -0.0282374       -0.0382044    -0.0504613\n",
       " -0.016139      0.00661661   0.0265781    …   0.0359594     0.0474961\n",
       "  0.034836     -0.0142819   -0.0573688       -0.0776182    -0.10252\n",
       " -0.0493098     0.0202158    0.0812045        0.109867      0.145115\n",
       "  ⋮                                       ⋱   ⋮            \n",
       " -0.0576091     0.0236183    0.0948719    …   0.128359      0.16954\n",
       " -0.0475363     0.0194887    0.0782838        0.105916      0.139896\n",
       " -0.0529051     0.0216898    0.0871254        0.117878      0.155696\n",
       " -0.05634       0.023098     0.0927819        0.125531      0.165805\n",
       " -0.0608147     0.0249326    0.100151         0.135501      0.178974\n",
       " -0.0461278     0.0189113    0.0759642    …   0.102777      0.135751\n",
       " -0.0565973     0.0232035    0.0932057        0.126105      0.166562\n",
       " -0.0589296     0.0241597    0.0970466        0.131301      0.173426\n",
       " -0.0453233     0.0185815    0.0746394        0.100985      0.133383\n",
       " -0.0780104     0.0319824    0.128469         0.173815      0.229579\n",
       " -0.0807928     0.0331231    0.133051     …   0.180015      0.237768\n",
       " -0.106713      0.0437498    0.175738         0.237768      0.314049"
      ]
     },
     "execution_count": 99,
     "metadata": {},
     "output_type": "execute_result"
    }
   ],
   "source": [
    "g_1 = reduce(vcat, [vec(grads_1[th]) for th in grads_1.params])\n",
    "g_2 = reduce(vcat, [vec(grads_2[th]) for th in grads_2.params])\n",
    "# let v(g) denote gg'\n",
    "vg_1 = g_1 * transpose(g_1)\n",
    "vg_2 = g_2 * transpose(g_2)"
   ]
  },
  {
   "cell_type": "code",
   "execution_count": 100,
   "id": "c5b0a0a9-7f62-47e1-b33f-f4b5cbe3a17f",
   "metadata": {
    "tags": []
   },
   "outputs": [
    {
     "data": {
      "text/plain": [
       "true"
      ]
     },
     "execution_count": 100,
     "metadata": {},
     "output_type": "execute_result"
    }
   ],
   "source": [
    "isapprox(vg_1 + vg_2, vg, atol=.0005) \n",
    "# This is not it.\n",
    "# We want a 97x97x2 matrix"
   ]
  },
  {
   "cell_type": "code",
   "execution_count": 101,
   "id": "3c62c7fd-7d60-4686-a358-93b0f02d2475",
   "metadata": {
    "tags": []
   },
   "outputs": [
    {
     "data": {
      "text/plain": [
       "97×1×2 Array{Float64, 3}:\n",
       "[:, :, 1] =\n",
       "  0.15975421667099\n",
       " -0.06501699239015579\n",
       " -0.26818427443504333\n",
       " -0.2419033646583557\n",
       " -0.014645582996308804\n",
       " -0.30326002836227417\n",
       "  0.1006278395652771\n",
       "  0.0010204700520262122\n",
       "  0.09501780569553375\n",
       "  0.0786154493689537\n",
       " -0.07067645341157913\n",
       "  0.153512105345726\n",
       " -0.22601251304149628\n",
       "  ⋮\n",
       " -0.2870430648326874\n",
       " -0.2562498450279236\n",
       " -0.2623968720436096\n",
       " -0.28054124116897583\n",
       " -0.2710472047328949\n",
       " -0.24878238141536713\n",
       " -0.2817233204841614\n",
       " -0.2594864070415497\n",
       " -0.2446153610944748\n",
       " -0.3778369426727295\n",
       " -0.39490675926208496\n",
       " -0.5512204170227051\n",
       "\n",
       "[:, :, 2] =\n",
       "  0.19042271375656128\n",
       " -0.07806865870952606\n",
       " -0.3135923743247986\n",
       " -0.2783631980419159\n",
       " -0.015698380768299103\n",
       " -0.3535999357700348\n",
       "  0.1107829213142395\n",
       "  0.0010757070267573\n",
       "  0.11229754239320755\n",
       "  0.09004504978656769\n",
       " -0.08475372940301895\n",
       "  0.1829404979944229\n",
       " -0.2589491605758667\n",
       "  ⋮\n",
       " -0.3025325536727905\n",
       " -0.2496354728937149\n",
       " -0.27782997488975525\n",
       " -0.2958679497241974\n",
       " -0.319366991519928\n",
       " -0.24223874509334564\n",
       " -0.2972193956375122\n",
       " -0.30946725606918335\n",
       " -0.23801422119140625\n",
       " -0.4096697270870209\n",
       " -0.42428120970726013\n",
       " -0.5604010224342346"
      ]
     },
     "execution_count": 101,
     "metadata": {},
     "output_type": "execute_result"
    }
   ],
   "source": [
    "# Reshape g as 97x1x2 since MLUtils expects 3-d arrays\n",
    "gm = reshape(g, size(g, 1), 1, size(g, 2))"
   ]
  },
  {
   "cell_type": "code",
   "execution_count": 102,
   "id": "42227a35-eb43-4670-8e79-a94e778a3eb7",
   "metadata": {
    "tags": []
   },
   "outputs": [
    {
     "data": {
      "text/plain": [
       "97×2 Matrix{Float64}:\n",
       "  0.159754     0.190423\n",
       " -0.065017    -0.0780687\n",
       " -0.268184    -0.313592\n",
       " -0.241903    -0.278363\n",
       " -0.0146456   -0.0156984\n",
       " -0.30326     -0.3536\n",
       "  0.100628     0.110783\n",
       "  0.00102047   0.00107571\n",
       "  0.0950178    0.112298\n",
       "  0.0786154    0.090045\n",
       " -0.0706765   -0.0847537\n",
       "  0.153512     0.18294\n",
       " -0.226013    -0.258949\n",
       "  ⋮           \n",
       " -0.287043    -0.302533\n",
       " -0.25625     -0.249635\n",
       " -0.262397    -0.27783\n",
       " -0.280541    -0.295868\n",
       " -0.271047    -0.319367\n",
       " -0.248782    -0.242239\n",
       " -0.281723    -0.297219\n",
       " -0.259486    -0.309467\n",
       " -0.244615    -0.238014\n",
       " -0.377837    -0.40967\n",
       " -0.394907    -0.424281\n",
       " -0.55122     -0.560401"
      ]
     },
     "execution_count": 102,
     "metadata": {},
     "output_type": "execute_result"
    }
   ],
   "source": [
    "g"
   ]
  },
  {
   "cell_type": "code",
   "execution_count": 103,
   "id": "d75d0ca5-d1d2-4362-95a6-4e549b78707a",
   "metadata": {
    "tags": []
   },
   "outputs": [
    {
     "data": {
      "text/plain": [
       "97×97×2 Array{Float64, 3}:\n",
       "[:, :, 1] =\n",
       "  0.0255214    -0.0103867    -0.0428436    …  -0.063088     -0.0880598\n",
       " -0.0103867     0.00422721    0.0174365        0.0256756     0.0358387\n",
       " -0.0428436     0.0174365     0.0719228        0.105908      0.147829\n",
       " -0.0386451     0.0157278     0.0648747        0.0955293     0.133342\n",
       " -0.00233969    0.000952212   0.00392772       0.00578364    0.00807294\n",
       " -0.0484471     0.0197171     0.0813296    …   0.119759      0.167163\n",
       "  0.0160757    -0.00654252   -0.0269868       -0.0397386    -0.0554681\n",
       "  0.000163024  -6.63479e-5   -0.000273674     -0.000402991  -0.000562504\n",
       "  0.0151795    -0.00617777   -0.0254823       -0.0375232    -0.0523758\n",
       "  0.0125591    -0.00511134   -0.0210834       -0.0310458    -0.0433344\n",
       " -0.0112909     0.00459517    0.0189543    …   0.0279106     0.0389583\n",
       "  0.0245242    -0.0099809    -0.0411695       -0.060623     -0.084619\n",
       " -0.0361065     0.0146947     0.060613         0.0892539     0.124583\n",
       "  ⋮                                        ⋱   ⋮            \n",
       " -0.0458563     0.0186627     0.0769804    …   0.113355      0.158224\n",
       " -0.040937      0.0166606     0.0687222        0.101195      0.14125\n",
       " -0.041919      0.0170603     0.0703707        0.103622      0.144639\n",
       " -0.0448176     0.0182399     0.0752367        0.110788      0.15464\n",
       " -0.0433009     0.0176227     0.0726906        0.107038      0.149407\n",
       " -0.039744      0.0161751     0.0667195    …   0.0982458     0.137134\n",
       " -0.0450065     0.0183168     0.0755538        0.111254      0.155292\n",
       " -0.041454      0.016871      0.0695902        0.102473      0.143034\n",
       " -0.0390783     0.0159042     0.065602         0.0966003     0.134837\n",
       " -0.060361      0.0245658     0.10133          0.14921       0.208271\n",
       " -0.063088      0.0256756     0.105908     …   0.155951      0.217681\n",
       " -0.0880598     0.0358387     0.147829         0.217681      0.303844\n",
       "\n",
       "[:, :, 2] =\n",
       "  0.0362608    -0.014866    -0.0597151    …  -0.0807928    -0.106713\n",
       " -0.014866      0.00609472   0.0244817        0.0331231     0.0437498\n",
       " -0.0597151     0.0244817    0.0983402        0.133051      0.175737\n",
       " -0.0530067     0.0217314    0.0872926        0.118104      0.155995\n",
       " -0.00298933    0.00122555   0.00492289       0.00666053    0.00879739\n",
       " -0.0673335     0.0276051    0.110886     …   0.150026      0.198158\n",
       "  0.0210956    -0.00864867  -0.0347407       -0.0470031    -0.0620829\n",
       "  0.000204839  -8.3979e-5   -0.000337334     -0.000456402  -0.000602827\n",
       "  0.021384     -0.00876692  -0.0352157       -0.0476457    -0.0629317\n",
       "  0.0171466    -0.0070297   -0.0282374       -0.0382044    -0.0504613\n",
       " -0.016139      0.00661661   0.0265781    …   0.0359594     0.0474961\n",
       "  0.034836     -0.0142819   -0.0573687       -0.0776182    -0.10252\n",
       " -0.0493098     0.0202158    0.0812045        0.109867      0.145115\n",
       "  ⋮                                       ⋱   ⋮            \n",
       " -0.0576091     0.0236183    0.0948719    …   0.128359      0.16954\n",
       " -0.0475363     0.0194887    0.0782838        0.105916      0.139896\n",
       " -0.0529051     0.0216898    0.0871254        0.117878      0.155696\n",
       " -0.05634       0.023098     0.0927819        0.125531      0.165805\n",
       " -0.0608147     0.0249326    0.100151         0.135501      0.178974\n",
       " -0.0461278     0.0189113    0.0759642    …   0.102777      0.135751\n",
       " -0.0565973     0.0232035    0.0932057        0.126105      0.166562\n",
       " -0.0589296     0.0241597    0.0970466        0.131301      0.173426\n",
       " -0.0453233     0.0185815    0.0746394        0.100985      0.133383\n",
       " -0.0780104     0.0319824    0.128469         0.173815      0.229579\n",
       " -0.0807928     0.0331231    0.133051     …   0.180015      0.237768\n",
       " -0.106713      0.0437498    0.175737         0.237768      0.314049"
      ]
     },
     "execution_count": 103,
     "metadata": {},
     "output_type": "execute_result"
    }
   ],
   "source": [
    "vgm = batched_mul(gm, batched_transpose(gm))"
   ]
  },
  {
   "cell_type": "code",
   "execution_count": 104,
   "id": "b151cac1-d351-4b5e-a2d3-040a48273e9b",
   "metadata": {
    "tags": []
   },
   "outputs": [],
   "source": [
    "@assert isapprox(vgm[:,:,1], vg_1, atol=.0005)\n",
    "@assert isapprox(vgm[:,:,2], vg_2, atol=.0005)"
   ]
  },
  {
   "cell_type": "code",
   "execution_count": 105,
   "id": "d9b64d85-c4bb-4ba8-ba8a-89cbb6bfa582",
   "metadata": {
    "tags": []
   },
   "outputs": [
    {
     "data": {
      "text/plain": [
       "97×97 Matrix{Float32}:\n",
       "  0.0362608    -0.014866    -0.0597151    …  -0.0807928    -0.106713\n",
       " -0.014866      0.00609472   0.0244817        0.0331231     0.0437498\n",
       " -0.0597151     0.0244817    0.0983402        0.133051      0.175738\n",
       " -0.0530067     0.0217314    0.0872926        0.118104      0.155995\n",
       " -0.00298933    0.00122555   0.00492289       0.00666053    0.00879739\n",
       " -0.0673335     0.0276051    0.110886     …   0.150026      0.198158\n",
       "  0.0210956    -0.00864868  -0.0347407       -0.0470031    -0.0620829\n",
       "  0.000204839  -8.3979f-5   -0.000337334     -0.000456402  -0.000602827\n",
       "  0.021384     -0.00876692  -0.0352157       -0.0476458    -0.0629317\n",
       "  0.0171466    -0.0070297   -0.0282374       -0.0382044    -0.0504613\n",
       " -0.016139      0.00661661   0.0265781    …   0.0359594     0.0474961\n",
       "  0.034836     -0.0142819   -0.0573688       -0.0776182    -0.10252\n",
       " -0.0493098     0.0202158    0.0812045        0.109867      0.145115\n",
       "  ⋮                                       ⋱   ⋮            \n",
       " -0.0576091     0.0236183    0.0948719    …   0.128359      0.16954\n",
       " -0.0475363     0.0194887    0.0782838        0.105916      0.139896\n",
       " -0.0529051     0.0216898    0.0871254        0.117878      0.155696\n",
       " -0.05634       0.023098     0.0927819        0.125531      0.165805\n",
       " -0.0608147     0.0249326    0.100151         0.135501      0.178974\n",
       " -0.0461278     0.0189113    0.0759642    …   0.102777      0.135751\n",
       " -0.0565973     0.0232035    0.0932057        0.126105      0.166562\n",
       " -0.0589296     0.0241597    0.0970466        0.131301      0.173426\n",
       " -0.0453233     0.0185815    0.0746394        0.100985      0.133383\n",
       " -0.0780104     0.0319824    0.128469         0.173815      0.229579\n",
       " -0.0807928     0.0331231    0.133051     …   0.180015      0.237768\n",
       " -0.106713      0.0437498    0.175738         0.237768      0.314049"
      ]
     },
     "execution_count": 105,
     "metadata": {},
     "output_type": "execute_result"
    }
   ],
   "source": [
    "vg_2"
   ]
  },
  {
   "cell_type": "code",
   "execution_count": 106,
   "id": "d8d18f47-c18f-41af-b376-1b8ed882b433",
   "metadata": {
    "tags": []
   },
   "outputs": [
    {
     "data": {
      "text/plain": [
       "97×2 Matrix{Float64}:\n",
       "  0.159754     0.190423\n",
       " -0.065017    -0.0780687\n",
       " -0.268184    -0.313592\n",
       " -0.241903    -0.278363\n",
       " -0.0146456   -0.0156984\n",
       " -0.30326     -0.3536\n",
       "  0.100628     0.110783\n",
       "  0.00102047   0.00107571\n",
       "  0.0950178    0.112298\n",
       "  0.0786154    0.090045\n",
       " -0.0706765   -0.0847537\n",
       "  0.153512     0.18294\n",
       " -0.226013    -0.258949\n",
       "  ⋮           \n",
       " -0.287043    -0.302533\n",
       " -0.25625     -0.249635\n",
       " -0.262397    -0.27783\n",
       " -0.280541    -0.295868\n",
       " -0.271047    -0.319367\n",
       " -0.248782    -0.242239\n",
       " -0.281723    -0.297219\n",
       " -0.259486    -0.309467\n",
       " -0.244615    -0.238014\n",
       " -0.377837    -0.40967\n",
       " -0.394907    -0.424281\n",
       " -0.55122     -0.560401"
      ]
     },
     "execution_count": 106,
     "metadata": {},
     "output_type": "execute_result"
    }
   ],
   "source": [
    "g"
   ]
  },
  {
   "cell_type": "code",
   "execution_count": 107,
   "id": "62965a45-f41b-4cf9-ad05-a1f3fe38097d",
   "metadata": {
    "tags": []
   },
   "outputs": [],
   "source": [
    "# Now try einsums\n",
    "using Tullio"
   ]
  },
  {
   "cell_type": "code",
   "execution_count": 108,
   "id": "405da2db-8741-4266-86d7-a12a933675da",
   "metadata": {
    "tags": []
   },
   "outputs": [
    {
     "data": {
      "text/plain": [
       "97×97×2 Array{Float64, 3}:\n",
       "[:, :, 1] =\n",
       "  0.0255214    -0.0103867    -0.0428436    …  -0.063088     -0.0880598\n",
       " -0.0103867     0.00422721    0.0174365        0.0256756     0.0358387\n",
       " -0.0428436     0.0174365     0.0719228        0.105908      0.147829\n",
       " -0.0386451     0.0157278     0.0648747        0.0955293     0.133342\n",
       " -0.00233969    0.000952212   0.00392772       0.00578364    0.00807294\n",
       " -0.0484471     0.0197171     0.0813296    …   0.119759      0.167163\n",
       "  0.0160757    -0.00654252   -0.0269868       -0.0397386    -0.0554681\n",
       "  0.000163024  -6.63479e-5   -0.000273674     -0.000402991  -0.000562504\n",
       "  0.0151795    -0.00617777   -0.0254823       -0.0375232    -0.0523758\n",
       "  0.0125591    -0.00511134   -0.0210834       -0.0310458    -0.0433344\n",
       " -0.0112909     0.00459517    0.0189543    …   0.0279106     0.0389583\n",
       "  0.0245242    -0.0099809    -0.0411695       -0.060623     -0.084619\n",
       " -0.0361065     0.0146947     0.060613         0.0892539     0.124583\n",
       "  ⋮                                        ⋱   ⋮            \n",
       " -0.0458563     0.0186627     0.0769804    …   0.113355      0.158224\n",
       " -0.040937      0.0166606     0.0687222        0.101195      0.14125\n",
       " -0.041919      0.0170603     0.0703707        0.103622      0.144639\n",
       " -0.0448176     0.0182399     0.0752367        0.110788      0.15464\n",
       " -0.0433009     0.0176227     0.0726906        0.107038      0.149407\n",
       " -0.039744      0.0161751     0.0667195    …   0.0982458     0.137134\n",
       " -0.0450065     0.0183168     0.0755538        0.111254      0.155292\n",
       " -0.041454      0.016871      0.0695902        0.102473      0.143034\n",
       " -0.0390783     0.0159042     0.065602         0.0966003     0.134837\n",
       " -0.060361      0.0245658     0.10133          0.14921       0.208271\n",
       " -0.063088      0.0256756     0.105908     …   0.155951      0.217681\n",
       " -0.0880598     0.0358387     0.147829         0.217681      0.303844\n",
       "\n",
       "[:, :, 2] =\n",
       "  0.0362608    -0.014866    -0.0597151    …  -0.0807928    -0.106713\n",
       " -0.014866      0.00609472   0.0244817        0.0331231     0.0437498\n",
       " -0.0597151     0.0244817    0.0983402        0.133051      0.175737\n",
       " -0.0530067     0.0217314    0.0872926        0.118104      0.155995\n",
       " -0.00298933    0.00122555   0.00492289       0.00666053    0.00879739\n",
       " -0.0673335     0.0276051    0.110886     …   0.150026      0.198158\n",
       "  0.0210956    -0.00864867  -0.0347407       -0.0470031    -0.0620829\n",
       "  0.000204839  -8.3979e-5   -0.000337334     -0.000456402  -0.000602827\n",
       "  0.021384     -0.00876692  -0.0352157       -0.0476457    -0.0629317\n",
       "  0.0171466    -0.0070297   -0.0282374       -0.0382044    -0.0504613\n",
       " -0.016139      0.00661661   0.0265781    …   0.0359594     0.0474961\n",
       "  0.034836     -0.0142819   -0.0573687       -0.0776182    -0.10252\n",
       " -0.0493098     0.0202158    0.0812045        0.109867      0.145115\n",
       "  ⋮                                       ⋱   ⋮            \n",
       " -0.0576091     0.0236183    0.0948719    …   0.128359      0.16954\n",
       " -0.0475363     0.0194887    0.0782838        0.105916      0.139896\n",
       " -0.0529051     0.0216898    0.0871254        0.117878      0.155696\n",
       " -0.05634       0.023098     0.0927819        0.125531      0.165805\n",
       " -0.0608147     0.0249326    0.100151         0.135501      0.178974\n",
       " -0.0461278     0.0189113    0.0759642    …   0.102777      0.135751\n",
       " -0.0565973     0.0232035    0.0932057        0.126105      0.166562\n",
       " -0.0589296     0.0241597    0.0970466        0.131301      0.173426\n",
       " -0.0453233     0.0185815    0.0746394        0.100985      0.133383\n",
       " -0.0780104     0.0319824    0.128469         0.173815      0.229579\n",
       " -0.0807928     0.0331231    0.133051     …   0.180015      0.237768\n",
       " -0.106713      0.0437498    0.175737         0.237768      0.314049"
      ]
     },
     "execution_count": 108,
     "metadata": {},
     "output_type": "execute_result"
    }
   ],
   "source": [
    "@tullio H[i, j, b] := g[i, b] * g[j, b]"
   ]
  },
  {
   "cell_type": "code",
   "execution_count": 109,
   "id": "61b678de-d640-4ed3-af7f-2e0e5dc75875",
   "metadata": {
    "tags": []
   },
   "outputs": [],
   "source": [
    "@assert isapprox(vgm, H, atol=eps())"
   ]
  },
  {
   "cell_type": "code",
   "execution_count": 110,
   "id": "2c53fa76-aa71-4741-8e42-ffbe988bca9f",
   "metadata": {
    "tags": []
   },
   "outputs": [
    {
     "data": {
      "text/plain": [
       "2.220446049250313e-16"
      ]
     },
     "execution_count": 110,
     "metadata": {},
     "output_type": "execute_result"
    }
   ],
   "source": [
    "eps()"
   ]
  },
  {
   "cell_type": "markdown",
   "id": "f662185d-adf9-442c-8639-699070e083c2",
   "metadata": {},
   "source": [
    "## Benchmarks for batched computation of H = 𝐠 * 𝐠'"
   ]
  },
  {
   "cell_type": "code",
   "execution_count": 111,
   "id": "fdf341c0-6455-4f3d-a33e-c9f740602a84",
   "metadata": {
    "tags": []
   },
   "outputs": [],
   "source": [
    "using BenchmarkTools"
   ]
  },
  {
   "cell_type": "code",
   "execution_count": 112,
   "id": "6a6e9c79-bb74-4432-b36b-d723a3b2e743",
   "metadata": {
    "tags": []
   },
   "outputs": [
    {
     "data": {
      "text/plain": [
       "method_1 (generic function with 1 method)"
      ]
     },
     "execution_count": 112,
     "metadata": {},
     "output_type": "execute_result"
    }
   ],
   "source": [
    "# Method 1: reshape + MLUtils\n",
    "function method_1(g)\n",
    "    gm = reshape(g, size(g, 1), 1, size(g, 2))\n",
    "    vgm = batched_mul(gm, batched_transpose(gm))\n",
    "end"
   ]
  },
  {
   "cell_type": "code",
   "execution_count": 113,
   "id": "6933f713-29be-4793-a9b8-95df1511c9b3",
   "metadata": {
    "tags": []
   },
   "outputs": [
    {
     "data": {
      "text/plain": [
       "method_2 (generic function with 1 method)"
      ]
     },
     "execution_count": 113,
     "metadata": {},
     "output_type": "execute_result"
    }
   ],
   "source": [
    "# Method 2: Tullio Einstein summation\n",
    "function method_2(g)\n",
    "    @tullio H[i, j, b] := g[i, b] * g[j, b]\n",
    "end"
   ]
  },
  {
   "cell_type": "code",
   "execution_count": 114,
   "id": "9546664a-3c29-4f53-8183-495d9be7e73e",
   "metadata": {
    "tags": []
   },
   "outputs": [
    {
     "data": {
      "text/plain": [
       "BenchmarkTools.Trial: 10000 samples with 1 evaluation.\n",
       " Range \u001b[90m(\u001b[39m\u001b[36m\u001b[1mmin\u001b[22m\u001b[39m … \u001b[35mmax\u001b[39m\u001b[90m):  \u001b[39m\u001b[36m\u001b[1m 49.388 μs\u001b[22m\u001b[39m … \u001b[35m 10.842 ms\u001b[39m  \u001b[90m┊\u001b[39m GC \u001b[90m(\u001b[39mmin … max\u001b[90m): \u001b[39m 0.00% … 97.90%\n",
       " Time  \u001b[90m(\u001b[39m\u001b[34m\u001b[1mmedian\u001b[22m\u001b[39m\u001b[90m):     \u001b[39m\u001b[34m\u001b[1m 59.316 μs               \u001b[22m\u001b[39m\u001b[90m┊\u001b[39m GC \u001b[90m(\u001b[39mmedian\u001b[90m):    \u001b[39m 0.00%\n",
       " Time  \u001b[90m(\u001b[39m\u001b[32m\u001b[1mmean\u001b[22m\u001b[39m ± \u001b[32mσ\u001b[39m\u001b[90m):   \u001b[39m\u001b[32m\u001b[1m125.341 μs\u001b[22m\u001b[39m ± \u001b[32m464.658 μs\u001b[39m  \u001b[90m┊\u001b[39m GC \u001b[90m(\u001b[39mmean ± σ\u001b[90m):  \u001b[39m19.16% ±  5.34%\n",
       "\n",
       "  \u001b[39m▆\u001b[34m█\u001b[39m\u001b[39m▃\u001b[39m▄\u001b[39m▄\u001b[39m▂\u001b[39m▁\u001b[39m \u001b[39m \u001b[39m \u001b[32m \u001b[39m\u001b[39m \u001b[39m \u001b[39m \u001b[39m \u001b[39m \u001b[39m \u001b[39m \u001b[39m \u001b[39m \u001b[39m \u001b[39m \u001b[39m \u001b[39m \u001b[39m \u001b[39m \u001b[39m \u001b[39m \u001b[39m \u001b[39m \u001b[39m \u001b[39m \u001b[39m \u001b[39m \u001b[39m \u001b[39m \u001b[39m \u001b[39m \u001b[39m▂\u001b[39m▂\u001b[39m▂\u001b[39m▁\u001b[39m▁\u001b[39m \u001b[39m▁\u001b[39m▁\u001b[39m▁\u001b[39m▁\u001b[39m▁\u001b[39m \u001b[39m \u001b[39m \u001b[39m \u001b[39m \u001b[39m \u001b[39m \u001b[39m \u001b[39m \u001b[39m \u001b[39m \u001b[39m \u001b[39m \u001b[39m▂\n",
       "  \u001b[39m█\u001b[34m█\u001b[39m\u001b[39m█\u001b[39m█\u001b[39m█\u001b[39m█\u001b[39m█\u001b[39m█\u001b[39m█\u001b[39m▆\u001b[32m▅\u001b[39m\u001b[39m▅\u001b[39m▅\u001b[39m▄\u001b[39m▃\u001b[39m▄\u001b[39m▃\u001b[39m▄\u001b[39m▄\u001b[39m▁\u001b[39m▁\u001b[39m▁\u001b[39m▃\u001b[39m▁\u001b[39m▁\u001b[39m▁\u001b[39m▁\u001b[39m▁\u001b[39m▁\u001b[39m▁\u001b[39m▁\u001b[39m▁\u001b[39m▁\u001b[39m▁\u001b[39m▁\u001b[39m▁\u001b[39m▁\u001b[39m▇\u001b[39m█\u001b[39m█\u001b[39m█\u001b[39m█\u001b[39m█\u001b[39m█\u001b[39m█\u001b[39m█\u001b[39m█\u001b[39m█\u001b[39m█\u001b[39m█\u001b[39m▇\u001b[39m▆\u001b[39m▆\u001b[39m▇\u001b[39m▆\u001b[39m▇\u001b[39m▇\u001b[39m▆\u001b[39m▆\u001b[39m▆\u001b[39m▆\u001b[39m \u001b[39m█\n",
       "  49.4 μs\u001b[90m       \u001b[39m\u001b[90mHistogram: \u001b[39m\u001b[90m\u001b[1mlog(\u001b[22m\u001b[39m\u001b[90mfrequency\u001b[39m\u001b[90m\u001b[1m)\u001b[22m\u001b[39m\u001b[90m by time\u001b[39m        493 μs \u001b[0m\u001b[1m<\u001b[22m\n",
       "\n",
       " Memory estimate\u001b[90m: \u001b[39m\u001b[33m147.23 KiB\u001b[39m, allocs estimate\u001b[90m: \u001b[39m\u001b[33m5\u001b[39m."
      ]
     },
     "execution_count": 114,
     "metadata": {},
     "output_type": "execute_result"
    }
   ],
   "source": [
    "@benchmark method_1($g)"
   ]
  },
  {
   "cell_type": "code",
   "execution_count": 115,
   "id": "a0b975d8-ba7c-4a21-b643-a800d473ba92",
   "metadata": {
    "tags": []
   },
   "outputs": [
    {
     "data": {
      "text/plain": [
       "BenchmarkTools.Trial: 10000 samples with 1 evaluation.\n",
       " Range \u001b[90m(\u001b[39m\u001b[36m\u001b[1mmin\u001b[22m\u001b[39m … \u001b[35mmax\u001b[39m\u001b[90m):  \u001b[39m\u001b[36m\u001b[1m36.671 μs\u001b[22m\u001b[39m … \u001b[35m  7.133 ms\u001b[39m  \u001b[90m┊\u001b[39m GC \u001b[90m(\u001b[39mmin … max\u001b[90m): \u001b[39m 0.00% … 93.05%\n",
       " Time  \u001b[90m(\u001b[39m\u001b[34m\u001b[1mmedian\u001b[22m\u001b[39m\u001b[90m):     \u001b[39m\u001b[34m\u001b[1m43.790 μs               \u001b[22m\u001b[39m\u001b[90m┊\u001b[39m GC \u001b[90m(\u001b[39mmedian\u001b[90m):    \u001b[39m 0.00%\n",
       " Time  \u001b[90m(\u001b[39m\u001b[32m\u001b[1mmean\u001b[22m\u001b[39m ± \u001b[32mσ\u001b[39m\u001b[90m):   \u001b[39m\u001b[32m\u001b[1m68.586 μs\u001b[22m\u001b[39m ± \u001b[32m347.323 μs\u001b[39m  \u001b[90m┊\u001b[39m GC \u001b[90m(\u001b[39mmean ± σ\u001b[90m):  \u001b[39m27.82% ±  5.47%\n",
       "\n",
       "  \u001b[39m▅\u001b[34m█\u001b[39m\u001b[39m▅\u001b[39m▄\u001b[39m▃\u001b[39m▂\u001b[32m▁\u001b[39m\u001b[39m▁\u001b[39m▁\u001b[39m \u001b[39m \u001b[39m \u001b[39m \u001b[39m \u001b[39m \u001b[39m \u001b[39m \u001b[39m \u001b[39m \u001b[39m \u001b[39m \u001b[39m \u001b[39m \u001b[39m \u001b[39m \u001b[39m \u001b[39m \u001b[39m \u001b[39m \u001b[39m \u001b[39m \u001b[39m \u001b[39m \u001b[39m \u001b[39m \u001b[39m \u001b[39m \u001b[39m \u001b[39m \u001b[39m \u001b[39m \u001b[39m \u001b[39m \u001b[39m \u001b[39m \u001b[39m \u001b[39m \u001b[39m \u001b[39m \u001b[39m \u001b[39m \u001b[39m \u001b[39m \u001b[39m \u001b[39m \u001b[39m \u001b[39m \u001b[39m \u001b[39m \u001b[39m \u001b[39m \u001b[39m▁\n",
       "  \u001b[39m█\u001b[34m█\u001b[39m\u001b[39m█\u001b[39m█\u001b[39m█\u001b[39m█\u001b[32m█\u001b[39m\u001b[39m█\u001b[39m█\u001b[39m▇\u001b[39m▇\u001b[39m▆\u001b[39m▄\u001b[39m▄\u001b[39m▃\u001b[39m▄\u001b[39m▁\u001b[39m▄\u001b[39m▁\u001b[39m▁\u001b[39m▁\u001b[39m▁\u001b[39m▁\u001b[39m▁\u001b[39m▁\u001b[39m▁\u001b[39m▁\u001b[39m▁\u001b[39m▁\u001b[39m▁\u001b[39m▁\u001b[39m▁\u001b[39m▁\u001b[39m▁\u001b[39m▁\u001b[39m▁\u001b[39m▁\u001b[39m▁\u001b[39m▁\u001b[39m▁\u001b[39m▁\u001b[39m▁\u001b[39m▁\u001b[39m▁\u001b[39m▁\u001b[39m▁\u001b[39m▁\u001b[39m▁\u001b[39m▁\u001b[39m▁\u001b[39m▃\u001b[39m▃\u001b[39m▄\u001b[39m▃\u001b[39m▁\u001b[39m▄\u001b[39m▄\u001b[39m▄\u001b[39m▆\u001b[39m▆\u001b[39m \u001b[39m█\n",
       "  36.7 μs\u001b[90m       \u001b[39m\u001b[90mHistogram: \u001b[39m\u001b[90m\u001b[1mlog(\u001b[22m\u001b[39m\u001b[90mfrequency\u001b[39m\u001b[90m\u001b[1m)\u001b[22m\u001b[39m\u001b[90m by time\u001b[39m       336 μs \u001b[0m\u001b[1m<\u001b[22m\n",
       "\n",
       " Memory estimate\u001b[90m: \u001b[39m\u001b[33m147.12 KiB\u001b[39m, allocs estimate\u001b[90m: \u001b[39m\u001b[33m2\u001b[39m."
      ]
     },
     "execution_count": 115,
     "metadata": {},
     "output_type": "execute_result"
    }
   ],
   "source": [
    "@benchmark method_2($g)"
   ]
  },
  {
   "cell_type": "code",
   "execution_count": 119,
   "id": "d905b837-5cd9-4a18-bff4-dc95467db505",
   "metadata": {
    "tags": []
   },
   "outputs": [
    {
     "data": {
      "text/plain": [
       "97×128 Matrix{Float64}:\n",
       "  0.159754     0.190423     0.135743    …   0.227085     -0.778728\n",
       " -0.065017    -0.0780687   -0.0544587      -0.100478      0.333144\n",
       " -0.268184    -0.313592    -0.207638       -0.046609      0.545158\n",
       " -0.241903    -0.278363    -0.196131       -0.0452416     0.489152\n",
       " -0.0146456   -0.0156984   -0.0148095      -0.00403204    0.0294513\n",
       " -0.30326     -0.3536      -0.236733    …  -0.0534575     0.616227\n",
       "  0.100628     0.110783     0.0937034       0.0248455    -0.206268\n",
       "  0.00102047   0.00107571   0.00106327      0.000229966  -0.00182176\n",
       "  0.0950178    0.112298     0.0821739       0.124926     -0.439863\n",
       "  0.0786154    0.090045     0.0647664       0.0154556    -0.160701\n",
       " -0.0706765   -0.0847537   -0.0593582   …  -0.10792       0.359276\n",
       "  0.153512     0.18294      0.130499        0.217723     -0.747227\n",
       " -0.226013    -0.258949    -0.185587       -0.043134      0.456392\n",
       "  ⋮                                     ⋱                \n",
       " -0.287043    -0.302533    -0.349393    …  -0.237288      0.864208\n",
       " -0.25625     -0.249635    -0.364235       -0.0828986     0.448937\n",
       " -0.262397    -0.27783     -0.316433       -0.227254      0.813469\n",
       " -0.280541    -0.295868    -0.341071       -0.233789      0.84854\n",
       " -0.271047    -0.319367    -0.247582       -0.317207      1.19173\n",
       " -0.248782    -0.242239    -0.354017    …  -0.0802719     0.434789\n",
       " -0.281723    -0.297219    -0.342228       -0.235201      0.853504\n",
       " -0.259486    -0.309467    -0.230265       -0.317666      1.19178\n",
       " -0.244615    -0.238014    -0.348566       -0.0782907     0.425462\n",
       " -0.377837    -0.40967     -0.423229       -0.314558      1.21182\n",
       " -0.394907    -0.424281    -0.452454    …  -0.314751      1.21972\n",
       " -0.55122     -0.560401    -0.723495       -0.325003      1.3338"
      ]
     },
     "execution_count": 119,
     "metadata": {},
     "output_type": "execute_result"
    }
   ],
   "source": [
    "# More benchmarks:\n",
    "# batchsize = 128\n",
    "dataloader_128 = DataLoader((X, Y), batchsize=128)\n",
    "x_128, y_128 = popfirst!(Iterators.Stateful(dataloader_128))\n",
    "g_128 = gradient_helper(model, x_128, y_128)"
   ]
  },
  {
   "cell_type": "code",
   "execution_count": 123,
   "id": "00d96ba3-41c0-4552-a09c-12e77b45c6a0",
   "metadata": {
    "tags": []
   },
   "outputs": [
    {
     "data": {
      "text/plain": [
       "97×2 Matrix{Float64}:\n",
       "  0.159754     0.190423\n",
       " -0.065017    -0.0780687\n",
       " -0.268184    -0.313592\n",
       " -0.241903    -0.278363\n",
       " -0.0146456   -0.0156984\n",
       " -0.30326     -0.3536\n",
       "  0.100628     0.110783\n",
       "  0.00102047   0.00107571\n",
       "  0.0950178    0.112298\n",
       "  0.0786154    0.090045\n",
       " -0.0706765   -0.0847537\n",
       "  0.153512     0.18294\n",
       " -0.226013    -0.258949\n",
       "  ⋮           \n",
       " -0.287043    -0.302533\n",
       " -0.25625     -0.249635\n",
       " -0.262397    -0.27783\n",
       " -0.280541    -0.295868\n",
       " -0.271047    -0.319367\n",
       " -0.248782    -0.242239\n",
       " -0.281723    -0.297219\n",
       " -0.259486    -0.309467\n",
       " -0.244615    -0.238014\n",
       " -0.377837    -0.40967\n",
       " -0.394907    -0.424281\n",
       " -0.55122     -0.560401"
      ]
     },
     "execution_count": 123,
     "metadata": {},
     "output_type": "execute_result"
    }
   ],
   "source": [
    "g"
   ]
  },
  {
   "cell_type": "code",
   "execution_count": 120,
   "id": "8b58c01f-6685-4212-ae6e-af23020da52e",
   "metadata": {
    "tags": []
   },
   "outputs": [
    {
     "data": {
      "text/plain": [
       "BenchmarkTools.Trial: 579 samples with 1 evaluation.\n",
       " Range \u001b[90m(\u001b[39m\u001b[36m\u001b[1mmin\u001b[22m\u001b[39m … \u001b[35mmax\u001b[39m\u001b[90m):  \u001b[39m\u001b[36m\u001b[1m2.888 ms\u001b[22m\u001b[39m … \u001b[35m29.510 ms\u001b[39m  \u001b[90m┊\u001b[39m GC \u001b[90m(\u001b[39mmin … max\u001b[90m): \u001b[39m 0.00% … 19.11%\n",
       " Time  \u001b[90m(\u001b[39m\u001b[34m\u001b[1mmedian\u001b[22m\u001b[39m\u001b[90m):     \u001b[39m\u001b[34m\u001b[1m3.354 ms              \u001b[22m\u001b[39m\u001b[90m┊\u001b[39m GC \u001b[90m(\u001b[39mmedian\u001b[90m):    \u001b[39m 0.00%\n",
       " Time  \u001b[90m(\u001b[39m\u001b[32m\u001b[1mmean\u001b[22m\u001b[39m ± \u001b[32mσ\u001b[39m\u001b[90m):   \u001b[39m\u001b[32m\u001b[1m8.627 ms\u001b[22m\u001b[39m ± \u001b[32m 8.521 ms\u001b[39m  \u001b[90m┊\u001b[39m GC \u001b[90m(\u001b[39mmean ± σ\u001b[90m):  \u001b[39m19.00% ± 22.84%\n",
       "\n",
       "  \u001b[39m█\u001b[34m█\u001b[39m\u001b[39m \u001b[39m \u001b[39m \u001b[39m \u001b[39m \u001b[39m \u001b[39m \u001b[39m \u001b[39m \u001b[39m \u001b[39m \u001b[32m \u001b[39m\u001b[39m \u001b[39m \u001b[39m \u001b[39m \u001b[39m \u001b[39m \u001b[39m \u001b[39m \u001b[39m \u001b[39m \u001b[39m \u001b[39m \u001b[39m▁\u001b[39m▁\u001b[39m▂\u001b[39m \u001b[39m \u001b[39m \u001b[39m \u001b[39m \u001b[39m \u001b[39m \u001b[39m \u001b[39m \u001b[39m \u001b[39m \u001b[39m \u001b[39m▁\u001b[39m▂\u001b[39m \u001b[39m \u001b[39m \u001b[39m \u001b[39m \u001b[39m \u001b[39m \u001b[39m \u001b[39m \u001b[39m \u001b[39m \u001b[39m \u001b[39m \u001b[39m▂\u001b[39m \u001b[39m \u001b[39m \n",
       "  \u001b[39m█\u001b[34m█\u001b[39m\u001b[39m▆\u001b[39m▄\u001b[39m▁\u001b[39m▁\u001b[39m▁\u001b[39m▁\u001b[39m▁\u001b[39m▁\u001b[39m▁\u001b[39m▁\u001b[39m▁\u001b[32m▁\u001b[39m\u001b[39m▁\u001b[39m▁\u001b[39m▁\u001b[39m▁\u001b[39m▁\u001b[39m▁\u001b[39m▁\u001b[39m▁\u001b[39m▁\u001b[39m▆\u001b[39m▇\u001b[39m▇\u001b[39m█\u001b[39m█\u001b[39m█\u001b[39m▆\u001b[39m▁\u001b[39m▁\u001b[39m▁\u001b[39m▁\u001b[39m▁\u001b[39m▄\u001b[39m▇\u001b[39m█\u001b[39m▆\u001b[39m▄\u001b[39m▅\u001b[39m█\u001b[39m█\u001b[39m▇\u001b[39m▄\u001b[39m▄\u001b[39m▁\u001b[39m▄\u001b[39m▁\u001b[39m▆\u001b[39m▆\u001b[39m▅\u001b[39m▅\u001b[39m▆\u001b[39m▆\u001b[39m█\u001b[39m█\u001b[39m█\u001b[39m \u001b[39m▇\n",
       "  2.89 ms\u001b[90m      \u001b[39m\u001b[90mHistogram: \u001b[39m\u001b[90m\u001b[1mlog(\u001b[22m\u001b[39m\u001b[90mfrequency\u001b[39m\u001b[90m\u001b[1m)\u001b[22m\u001b[39m\u001b[90m by time\u001b[39m     27.9 ms \u001b[0m\u001b[1m<\u001b[22m\n",
       "\n",
       " Memory estimate\u001b[90m: \u001b[39m\u001b[33m9.19 MiB\u001b[39m, allocs estimate\u001b[90m: \u001b[39m\u001b[33m5\u001b[39m."
      ]
     },
     "execution_count": 120,
     "metadata": {},
     "output_type": "execute_result"
    }
   ],
   "source": [
    "@benchmark method_1($g_128) "
   ]
  },
  {
   "cell_type": "code",
   "execution_count": 121,
   "id": "d0b14ce4-50d0-4f99-b452-2c00eca18e69",
   "metadata": {
    "tags": []
   },
   "outputs": [
    {
     "data": {
      "text/plain": [
       "BenchmarkTools.Trial: 670 samples with 1 evaluation.\n",
       " Range \u001b[90m(\u001b[39m\u001b[36m\u001b[1mmin\u001b[22m\u001b[39m … \u001b[35mmax\u001b[39m\u001b[90m):  \u001b[39m\u001b[36m\u001b[1m2.314 ms\u001b[22m\u001b[39m … \u001b[35m27.435 ms\u001b[39m  \u001b[90m┊\u001b[39m GC \u001b[90m(\u001b[39mmin … max\u001b[90m): \u001b[39m 0.00% … 21.58%\n",
       " Time  \u001b[90m(\u001b[39m\u001b[34m\u001b[1mmedian\u001b[22m\u001b[39m\u001b[90m):     \u001b[39m\u001b[34m\u001b[1m2.915 ms              \u001b[22m\u001b[39m\u001b[90m┊\u001b[39m GC \u001b[90m(\u001b[39mmedian\u001b[90m):    \u001b[39m 0.00%\n",
       " Time  \u001b[90m(\u001b[39m\u001b[32m\u001b[1mmean\u001b[22m\u001b[39m ± \u001b[32mσ\u001b[39m\u001b[90m):   \u001b[39m\u001b[32m\u001b[1m7.450 ms\u001b[22m\u001b[39m ± \u001b[32m 7.511 ms\u001b[39m  \u001b[90m┊\u001b[39m GC \u001b[90m(\u001b[39mmean ± σ\u001b[90m):  \u001b[39m20.67% ± 23.42%\n",
       "\n",
       "  \u001b[39m█\u001b[39m█\u001b[34m▃\u001b[39m\u001b[39m \u001b[39m \u001b[39m \u001b[39m \u001b[39m \u001b[39m \u001b[39m \u001b[39m \u001b[39m \u001b[39m \u001b[32m \u001b[39m\u001b[39m \u001b[39m \u001b[39m \u001b[39m \u001b[39m \u001b[39m \u001b[39m \u001b[39m \u001b[39m \u001b[39m \u001b[39m \u001b[39m▁\u001b[39m \u001b[39m▁\u001b[39m \u001b[39m \u001b[39m \u001b[39m \u001b[39m \u001b[39m \u001b[39m▁\u001b[39m \u001b[39m \u001b[39m▁\u001b[39m \u001b[39m \u001b[39m \u001b[39m \u001b[39m \u001b[39m \u001b[39m \u001b[39m \u001b[39m \u001b[39m \u001b[39m \u001b[39m \u001b[39m▁\u001b[39m \u001b[39m \u001b[39m \u001b[39m \u001b[39m \u001b[39m \u001b[39m▁\u001b[39m \u001b[39m \n",
       "  \u001b[39m█\u001b[39m█\u001b[34m█\u001b[39m\u001b[39m▆\u001b[39m▁\u001b[39m▁\u001b[39m▁\u001b[39m▁\u001b[39m▁\u001b[39m▁\u001b[39m▁\u001b[39m▁\u001b[39m▁\u001b[32m▁\u001b[39m\u001b[39m▁\u001b[39m▁\u001b[39m▁\u001b[39m▁\u001b[39m▁\u001b[39m▁\u001b[39m▁\u001b[39m▁\u001b[39m▁\u001b[39m▁\u001b[39m█\u001b[39m█\u001b[39m▆\u001b[39m█\u001b[39m▇\u001b[39m▆\u001b[39m▇\u001b[39m▆\u001b[39m▅\u001b[39m▅\u001b[39m█\u001b[39m▇\u001b[39m▇\u001b[39m█\u001b[39m▇\u001b[39m▅\u001b[39m▇\u001b[39m▄\u001b[39m▇\u001b[39m█\u001b[39m▅\u001b[39m▁\u001b[39m▁\u001b[39m▁\u001b[39m▄\u001b[39m▇\u001b[39m█\u001b[39m█\u001b[39m▇\u001b[39m▆\u001b[39m▆\u001b[39m▇\u001b[39m▅\u001b[39m█\u001b[39m \u001b[39m▇\n",
       "  2.31 ms\u001b[90m      \u001b[39m\u001b[90mHistogram: \u001b[39m\u001b[90m\u001b[1mlog(\u001b[22m\u001b[39m\u001b[90mfrequency\u001b[39m\u001b[90m\u001b[1m)\u001b[22m\u001b[39m\u001b[90m by time\u001b[39m       25 ms \u001b[0m\u001b[1m<\u001b[22m\n",
       "\n",
       " Memory estimate\u001b[90m: \u001b[39m\u001b[33m9.19 MiB\u001b[39m, allocs estimate\u001b[90m: \u001b[39m\u001b[33m2\u001b[39m."
      ]
     },
     "execution_count": 121,
     "metadata": {},
     "output_type": "execute_result"
    }
   ],
   "source": [
    "@benchmark method_2($g_128) "
   ]
  },
  {
   "cell_type": "code",
   "execution_count": 124,
   "id": "184e4804-3065-4817-8cc7-cc4f928bc898",
   "metadata": {
    "tags": []
   },
   "outputs": [
    {
     "data": {
      "text/plain": [
       "BenchmarkTools.Trial: 540 samples with 1 evaluation.\n",
       " Range \u001b[90m(\u001b[39m\u001b[36m\u001b[1mmin\u001b[22m\u001b[39m … \u001b[35mmax\u001b[39m\u001b[90m):  \u001b[39m\u001b[36m\u001b[1m2.902 ms\u001b[22m\u001b[39m … \u001b[35m35.119 ms\u001b[39m  \u001b[90m┊\u001b[39m GC \u001b[90m(\u001b[39mmin … max\u001b[90m): \u001b[39m 0.00% … 18.32%\n",
       " Time  \u001b[90m(\u001b[39m\u001b[34m\u001b[1mmedian\u001b[22m\u001b[39m\u001b[90m):     \u001b[39m\u001b[34m\u001b[1m3.562 ms              \u001b[22m\u001b[39m\u001b[90m┊\u001b[39m GC \u001b[90m(\u001b[39mmedian\u001b[90m):    \u001b[39m 0.00%\n",
       " Time  \u001b[90m(\u001b[39m\u001b[32m\u001b[1mmean\u001b[22m\u001b[39m ± \u001b[32mσ\u001b[39m\u001b[90m):   \u001b[39m\u001b[32m\u001b[1m9.247 ms\u001b[22m\u001b[39m ± \u001b[32m 9.138 ms\u001b[39m  \u001b[90m┊\u001b[39m GC \u001b[90m(\u001b[39mmean ± σ\u001b[90m):  \u001b[39m18.95% ± 22.85%\n",
       "\n",
       "  \u001b[39m█\u001b[34m▅\u001b[39m\u001b[39m▄\u001b[39m▁\u001b[39m \u001b[39m \u001b[39m \u001b[39m \u001b[39m \u001b[39m \u001b[39m \u001b[39m \u001b[32m \u001b[39m\u001b[39m \u001b[39m \u001b[39m \u001b[39m \u001b[39m \u001b[39m \u001b[39m \u001b[39m \u001b[39m \u001b[39m▁\u001b[39m▁\u001b[39m \u001b[39m \u001b[39m \u001b[39m \u001b[39m \u001b[39m \u001b[39m \u001b[39m \u001b[39m \u001b[39m \u001b[39m \u001b[39m▂\u001b[39m \u001b[39m \u001b[39m \u001b[39m \u001b[39m \u001b[39m \u001b[39m \u001b[39m \u001b[39m \u001b[39m \u001b[39m▁\u001b[39m▁\u001b[39m \u001b[39m \u001b[39m \u001b[39m \u001b[39m \u001b[39m \u001b[39m \u001b[39m \u001b[39m \u001b[39m \u001b[39m \u001b[39m \n",
       "  \u001b[39m█\u001b[34m█\u001b[39m\u001b[39m█\u001b[39m█\u001b[39m▅\u001b[39m▁\u001b[39m▁\u001b[39m▁\u001b[39m▁\u001b[39m▁\u001b[39m▁\u001b[39m▁\u001b[32m▁\u001b[39m\u001b[39m▁\u001b[39m▁\u001b[39m▁\u001b[39m▁\u001b[39m▁\u001b[39m▁\u001b[39m▁\u001b[39m▁\u001b[39m▄\u001b[39m█\u001b[39m█\u001b[39m█\u001b[39m▄\u001b[39m▅\u001b[39m▆\u001b[39m▆\u001b[39m▆\u001b[39m▅\u001b[39m▅\u001b[39m▄\u001b[39m▆\u001b[39m▁\u001b[39m█\u001b[39m▇\u001b[39m▇\u001b[39m▅\u001b[39m▆\u001b[39m▅\u001b[39m▇\u001b[39m▁\u001b[39m▄\u001b[39m▆\u001b[39m▆\u001b[39m█\u001b[39m█\u001b[39m▇\u001b[39m▇\u001b[39m▅\u001b[39m▅\u001b[39m▆\u001b[39m▁\u001b[39m▁\u001b[39m▁\u001b[39m▄\u001b[39m▄\u001b[39m \u001b[39m▇\n",
       "  2.9 ms\u001b[90m       \u001b[39m\u001b[90mHistogram: \u001b[39m\u001b[90m\u001b[1mlog(\u001b[22m\u001b[39m\u001b[90mfrequency\u001b[39m\u001b[90m\u001b[1m)\u001b[22m\u001b[39m\u001b[90m by time\u001b[39m     32.7 ms \u001b[0m\u001b[1m<\u001b[22m\n",
       "\n",
       " Memory estimate\u001b[90m: \u001b[39m\u001b[33m9.19 MiB\u001b[39m, allocs estimate\u001b[90m: \u001b[39m\u001b[33m5\u001b[39m."
      ]
     },
     "execution_count": 124,
     "metadata": {},
     "output_type": "execute_result"
    }
   ],
   "source": [
    "@benchmark method_1($g_128) samples=10_000"
   ]
  },
  {
   "cell_type": "code",
   "execution_count": 125,
   "id": "0164f97e-89c1-42fb-988a-9939d9bd2353",
   "metadata": {
    "tags": []
   },
   "outputs": [
    {
     "data": {
      "text/plain": [
       "BenchmarkTools.Trial: 639 samples with 1 evaluation.\n",
       " Range \u001b[90m(\u001b[39m\u001b[36m\u001b[1mmin\u001b[22m\u001b[39m … \u001b[35mmax\u001b[39m\u001b[90m):  \u001b[39m\u001b[36m\u001b[1m2.310 ms\u001b[22m\u001b[39m … \u001b[35m31.376 ms\u001b[39m  \u001b[90m┊\u001b[39m GC \u001b[90m(\u001b[39mmin … max\u001b[90m): \u001b[39m 0.00% … 19.24%\n",
       " Time  \u001b[90m(\u001b[39m\u001b[34m\u001b[1mmedian\u001b[22m\u001b[39m\u001b[90m):     \u001b[39m\u001b[34m\u001b[1m3.014 ms              \u001b[22m\u001b[39m\u001b[90m┊\u001b[39m GC \u001b[90m(\u001b[39mmedian\u001b[90m):    \u001b[39m 0.00%\n",
       " Time  \u001b[90m(\u001b[39m\u001b[32m\u001b[1mmean\u001b[22m\u001b[39m ± \u001b[32mσ\u001b[39m\u001b[90m):   \u001b[39m\u001b[32m\u001b[1m7.795 ms\u001b[22m\u001b[39m ± \u001b[32m 7.830 ms\u001b[39m  \u001b[90m┊\u001b[39m GC \u001b[90m(\u001b[39mmean ± σ\u001b[90m):  \u001b[39m20.68% ± 23.47%\n",
       "\n",
       "  \u001b[39m▅\u001b[39m█\u001b[34m▃\u001b[39m\u001b[39m \u001b[39m \u001b[39m \u001b[39m \u001b[39m \u001b[39m \u001b[39m \u001b[39m \u001b[39m \u001b[39m \u001b[32m \u001b[39m\u001b[39m \u001b[39m \u001b[39m \u001b[39m \u001b[39m \u001b[39m \u001b[39m \u001b[39m \u001b[39m \u001b[39m \u001b[39m \u001b[39m \u001b[39m \u001b[39m \u001b[39m \u001b[39m \u001b[39m \u001b[39m \u001b[39m \u001b[39m \u001b[39m \u001b[39m \u001b[39m \u001b[39m \u001b[39m \u001b[39m▁\u001b[39m▁\u001b[39m \u001b[39m \u001b[39m \u001b[39m \u001b[39m \u001b[39m \u001b[39m \u001b[39m \u001b[39m \u001b[39m \u001b[39m \u001b[39m \u001b[39m▁\u001b[39m \u001b[39m \u001b[39m \u001b[39m \u001b[39m \u001b[39m \n",
       "  \u001b[39m█\u001b[39m█\u001b[34m█\u001b[39m\u001b[39m▆\u001b[39m▄\u001b[39m▁\u001b[39m▁\u001b[39m▁\u001b[39m▁\u001b[39m▁\u001b[39m▁\u001b[39m▁\u001b[39m▁\u001b[32m▁\u001b[39m\u001b[39m▁\u001b[39m▁\u001b[39m▁\u001b[39m▁\u001b[39m▁\u001b[39m▁\u001b[39m▁\u001b[39m▁\u001b[39m▁\u001b[39m▅\u001b[39m▅\u001b[39m▇\u001b[39m█\u001b[39m▆\u001b[39m█\u001b[39m█\u001b[39m▇\u001b[39m▅\u001b[39m▆\u001b[39m▅\u001b[39m▆\u001b[39m█\u001b[39m▆\u001b[39m▅\u001b[39m▅\u001b[39m█\u001b[39m█\u001b[39m▅\u001b[39m▁\u001b[39m▁\u001b[39m▁\u001b[39m▁\u001b[39m▅\u001b[39m▇\u001b[39m▆\u001b[39m▆\u001b[39m▅\u001b[39m▄\u001b[39m▅\u001b[39m█\u001b[39m█\u001b[39m▇\u001b[39m▅\u001b[39m▅\u001b[39m \u001b[39m▇\n",
       "  2.31 ms\u001b[90m      \u001b[39m\u001b[90mHistogram: \u001b[39m\u001b[90m\u001b[1mlog(\u001b[22m\u001b[39m\u001b[90mfrequency\u001b[39m\u001b[90m\u001b[1m)\u001b[22m\u001b[39m\u001b[90m by time\u001b[39m     26.3 ms \u001b[0m\u001b[1m<\u001b[22m\n",
       "\n",
       " Memory estimate\u001b[90m: \u001b[39m\u001b[33m9.19 MiB\u001b[39m, allocs estimate\u001b[90m: \u001b[39m\u001b[33m2\u001b[39m."
      ]
     },
     "execution_count": 125,
     "metadata": {},
     "output_type": "execute_result"
    }
   ],
   "source": [
    "@benchmark method_2($g_128) samples=10_000"
   ]
  },
  {
   "cell_type": "markdown",
   "id": "7caa9d18-9937-4c40-ac79-56821eb235a3",
   "metadata": {},
   "source": [
    "### Benchmark conclusions\n",
    "Method 2, with Tullio, is faster, probably since it makes less allocations. The effect is lesser for larger batchsizes -- compare the almost two-fold difference for batchsize 2, and the ~16% difference for batchsize 128.\n",
    "Tullio would also employ multi-threading for large-enough matrices.\n",
    "\n",
    "Machine: Thinkpad X1 Gen 6, Intel i7 8th Gen, Intel GPU"
   ]
  }
 ],
 "metadata": {
  "kernelspec": {
   "display_name": "Julia 1.9.0",
   "language": "julia",
   "name": "julia-1.9"
  },
  "language_info": {
   "file_extension": ".jl",
   "mimetype": "application/julia",
   "name": "julia",
   "version": "1.9.0"
  }
 },
 "nbformat": 4,
 "nbformat_minor": 5
}
