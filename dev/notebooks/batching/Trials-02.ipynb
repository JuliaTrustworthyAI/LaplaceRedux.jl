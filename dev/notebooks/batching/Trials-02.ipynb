{
 "cells": [
  {
   "cell_type": "markdown",
   "id": "c2e41919-b5ab-4ad3-b75a-d59633975520",
   "metadata": {
    "tags": []
   },
   "source": [
    "## Batched Gradients"
   ]
  },
  {
   "cell_type": "code",
   "execution_count": 1,
   "id": "8d97b782-b965-4dcb-848c-2bbcb12d30ce",
   "metadata": {
    "tags": []
   },
   "outputs": [
    {
     "name": "stderr",
     "output_type": "stream",
     "text": [
      "\u001b[32m\u001b[1m  Activating\u001b[22m\u001b[39m project at `~/Builds/navimakarov/LaplaceRedux.jl/dev/notebooks/batching`\n"
     ]
    }
   ],
   "source": [
    "using Pkg\n",
    "Pkg.activate(\".\")\n",
    "using LaplaceRedux\n",
    "using LaplaceRedux.Curvature\n",
    "using LaplaceRedux.Data\n",
    "using Flux\n",
    "using Flux.Optimise: update!, Adam\n",
    "using Plots\n",
    "using Statistics\n",
    "using MLUtils\n",
    "using Zygote\n",
    "using Printf\n",
    "using NNlib\n",
    "using BenchmarkTools\n",
    "using Tullio"
   ]
  },
  {
   "cell_type": "code",
   "execution_count": 2,
   "id": "300a3e06-70d7-4118-96a4-81091d044b20",
   "metadata": {
    "tags": []
   },
   "outputs": [
    {
     "data": {
      "text/plain": [
       "Dict{Symbol, Any} with 6 entries:\n",
       "  :loss_fun   => :mse\n",
       "  :y          => [-0.663368, -0.571399, 0.918833, 1.14956, 0.946187, -0.941379,…\n",
       "  :likelihood => :regression\n",
       "  :X          => [4.10628 6.01095 … 1.05544 3.88312]\n",
       "  :outdim     => 1\n",
       "  :data       => zip([[4.10628], [6.01095], [1.59898], [2.24793], [6.96247], [5…"
      ]
     },
     "execution_count": 2,
     "metadata": {},
     "output_type": "execute_result"
    }
   ],
   "source": [
    "# Setup some dummy data, like in tests\n",
    "\n",
    "n = 128\n",
    "data_dict = Dict()\n",
    "bsize = 2\n",
    "\n",
    "x, y = LaplaceRedux.Data.toy_data_regression(n)\n",
    "xs = [[x] for x in x]\n",
    "X, Y = reduce(hcat, x), reduce(hcat, y)\n",
    "\n",
    "dataloader = DataLoader((X, Y), batchsize=bsize)\n",
    "data = zip(xs, y)\n",
    "data_dict[:regression] = Dict(\n",
    "    :data => data,\n",
    "    :X => X,\n",
    "    :y => y,\n",
    "    :outdim => 1,\n",
    "    :loss_fun => :mse,\n",
    "    :likelihood => :regression,\n",
    ")"
   ]
  },
  {
   "cell_type": "code",
   "execution_count": 3,
   "id": "560843c0-d17b-419a-b21b-d7875bfe8ab2",
   "metadata": {
    "tags": []
   },
   "outputs": [
    {
     "name": "stderr",
     "output_type": "stream",
     "text": [
      "\u001b[33m\u001b[1m┌ \u001b[22m\u001b[39m\u001b[33m\u001b[1mWarning: \u001b[22m\u001b[39mLayer with Float32 parameters got Float64 input.\n",
      "\u001b[33m\u001b[1m│ \u001b[22m\u001b[39m  The input will be converted, but any earlier layers may be very slow.\n",
      "\u001b[33m\u001b[1m│ \u001b[22m\u001b[39m  layer = Dense(1 => 32, σ)   \u001b[90m# 64 parameters\u001b[39m\n",
      "\u001b[33m\u001b[1m│ \u001b[22m\u001b[39m  summary(x) = \"1-element Vector{Float64}\"\n",
      "\u001b[33m\u001b[1m└ \u001b[22m\u001b[39m\u001b[90m@ Flux ~/.julia/packages/Flux/EHgZm/src/layers/stateless.jl:60\u001b[39m\n"
     ]
    },
    {
     "name": "stdout",
     "output_type": "stream",
     "text": [
      "Epoch 20\n",
      "avg_loss(data) = 0.5012021203338505\n",
      "Epoch 40\n",
      "avg_loss(data) = 0.4787572448554173\n",
      "Epoch 60\n",
      "avg_loss(data) = 0.46190194585368055\n",
      "Epoch 80\n",
      "avg_loss(data) = 0.4456237311815436\n",
      "Epoch 100\n",
      "avg_loss(data) = 0.42800408570513887\n",
      "Epoch 120\n",
      "avg_loss(data) = 0.408482606816268\n",
      "Epoch 140\n",
      "avg_loss(data) = 0.387314712770891\n",
      "Epoch 160\n",
      "avg_loss(data) = 0.3638712785423623\n",
      "Epoch 180\n",
      "avg_loss(data) = 0.3376305202966803\n",
      "Epoch 200\n",
      "avg_loss(data) = 0.308579478762796\n"
     ]
    }
   ],
   "source": [
    "# Train a NN model\n",
    "\n",
    "val = data_dict[:regression]\n",
    "\n",
    "# Unpack:\n",
    "data = val[:data]\n",
    "X = val[:X]\n",
    "y = val[:y]\n",
    "outdim = val[:outdim]\n",
    "loss_fun = val[:loss_fun]\n",
    "likelihood = val[:likelihood]\n",
    "\n",
    "# Neural network:\n",
    "n_hidden = 32\n",
    "D = size(X, 1)\n",
    "nn = Chain(Dense(D, n_hidden, σ), Dense(n_hidden, outdim))\n",
    "λ = 0.01\n",
    "sqnorm(x) = sum(abs2, x)\n",
    "weight_regularization(λ=λ) = 1 / 2 * λ^2 * sum(sqnorm, Flux.params(nn))\n",
    "loss(x, y) = getfield(Flux.Losses, loss_fun)(nn(x), y) + weight_regularization()\n",
    "\n",
    "\n",
    "opt = Adam()\n",
    "epochs = 200\n",
    "avg_loss(data) = mean(map(d -> loss(d[1], d[2]), data))\n",
    "show_every = epochs / 10\n",
    "\n",
    "for epoch in 1:epochs\n",
    "    for d in data\n",
    "        gs = gradient(Flux.params(nn)) do\n",
    "            l = loss(d...)\n",
    "        end\n",
    "        update!(opt, Flux.params(nn), gs)\n",
    "    end\n",
    "    if epoch % show_every == 0\n",
    "        println(\"Epoch \" * string(epoch))\n",
    "        @show avg_loss(data)\n",
    "    end\n",
    "end\n"
   ]
  },
  {
   "cell_type": "code",
   "execution_count": 8,
   "id": "9445d613-4d96-496d-9789-3de845d9c745",
   "metadata": {
    "tags": []
   },
   "outputs": [
    {
     "data": {
      "text/plain": [
       "Chain(\n",
       "  Dense(1 => 32, σ),                    \u001b[90m# 64 parameters\u001b[39m\n",
       "  Dense(32 => 1),                       \u001b[90m# 33 parameters\u001b[39m\n",
       ") \u001b[90m                  # Total: 4 arrays, \u001b[39m97 parameters, 644 bytes."
      ]
     },
     "execution_count": 8,
     "metadata": {},
     "output_type": "execute_result"
    }
   ],
   "source": [
    "model = nn"
   ]
  },
  {
   "cell_type": "code",
   "execution_count": 9,
   "id": "972038e1-82cc-4451-9eb3-23ecc89a2445",
   "metadata": {
    "tags": []
   },
   "outputs": [
    {
     "data": {
      "text/plain": [
       "loss_fn (generic function with 1 method)"
      ]
     },
     "execution_count": 9,
     "metadata": {},
     "output_type": "execute_result"
    }
   ],
   "source": [
    "# Loss fun for regression\n",
    "loss_fn(x, ytrue; agg=sum) = Flux.Losses.mse(model(x), ytrue, agg=agg)"
   ]
  },
  {
   "cell_type": "code",
   "execution_count": 4,
   "id": "8b66904c-29ec-4b44-876e-0f4b891ad9da",
   "metadata": {
    "tags": []
   },
   "outputs": [
    {
     "data": {
      "text/plain": [
       "64-element DataLoader(::Tuple{Matrix{Float64}, Matrix{Float64}}, batchsize=2)\n",
       "  with first element:\n",
       "  (1×2 Matrix{Float64}, 1×2 Matrix{Float64},)"
      ]
     },
     "execution_count": 4,
     "metadata": {},
     "output_type": "execute_result"
    }
   ],
   "source": [
    "dataloader"
   ]
  },
  {
   "cell_type": "code",
   "execution_count": 5,
   "id": "8cd567c6-e9f4-4bf3-b21c-ca78e9fd3750",
   "metadata": {
    "tags": []
   },
   "outputs": [
    {
     "data": {
      "text/plain": [
       "-0.6633678850542059"
      ]
     },
     "execution_count": 5,
     "metadata": {},
     "output_type": "execute_result"
    }
   ],
   "source": [
    "# Take one datapoint of the dataset\n",
    "x_1 = xs[1]\n",
    "y_1 = y[1]"
   ]
  },
  {
   "cell_type": "code",
   "execution_count": 10,
   "id": "afb27e9b-e999-4722-b553-ab6f97dfede9",
   "metadata": {
    "tags": []
   },
   "outputs": [
    {
     "data": {
      "text/plain": [
       "Grads(...)"
      ]
     },
     "execution_count": 10,
     "metadata": {},
     "output_type": "execute_result"
    }
   ],
   "source": [
    "grads_1 = gradient(() -> loss_fn(x_1, y_1), Flux.params(model))\n",
    "grads = grads_1"
   ]
  },
  {
   "cell_type": "code",
   "execution_count": 11,
   "id": "1c9a8364-2ec4-4e90-837a-ec1c5df3b4d1",
   "metadata": {
    "tags": []
   },
   "outputs": [
    {
     "data": {
      "text/plain": [
       "IdDict{Any, Any} with 6 entries:\n",
       "  Float32[0.224212; -0.229… => Float32[0.215939; -0.338643; … ; 0.379741; -0.36…\n",
       "  :(Main.y_1)               => -0.728207\n",
       "  :(Main.x_1)               => Float32[-0.0396047]\n",
       "  Float32[-0.45999, 0.4075… => Float32[0.0525876, -0.0824695, 0.0772545, 0.0701…\n",
       "  Float32[0.30446 -0.48626… => Float32[0.44652 0.268871 … 0.450342 0.268706]\n",
       "  Float32[-0.0663767]       => Float32[0.728207]"
      ]
     },
     "execution_count": 11,
     "metadata": {},
     "output_type": "execute_result"
    }
   ],
   "source": [
    "grads.grads"
   ]
  },
  {
   "cell_type": "code",
   "execution_count": 12,
   "id": "e0ac8865-6825-40e0-8cd4-a4f7303bd0b6",
   "metadata": {
    "tags": []
   },
   "outputs": [
    {
     "data": {
      "text/plain": [
       "Params([Float32[0.2242121; -0.22966594; … ; 0.2254382; -0.22922081;;], Float32[-0.45998955, 0.40752098, 2.0472596, 1.327311, -0.43800884, 0.3686145, 0.34820905, 1.5097885, -0.45043552, -0.36027348  …  1.292601, 0.4150695, 2.0421948, -0.3785736, 0.32690892, -0.7591509, -0.3376909, 1.9202763, -0.4428397, 0.40472198], Float32[0.30446014 -0.4862661 … 0.5381678 -0.5297157], Float32[-0.06637672]])"
      ]
     },
     "execution_count": 12,
     "metadata": {},
     "output_type": "execute_result"
    }
   ],
   "source": [
    "grads.params"
   ]
  },
  {
   "cell_type": "code",
   "execution_count": 13,
   "id": "4715e4dc-7635-4fd6-a177-b79e2ce63d07",
   "metadata": {
    "tags": []
   },
   "outputs": [
    {
     "data": {
      "text/plain": [
       "4"
      ]
     },
     "execution_count": 13,
     "metadata": {},
     "output_type": "execute_result"
    }
   ],
   "source": [
    "length(grads.params)"
   ]
  },
  {
   "cell_type": "code",
   "execution_count": 14,
   "id": "c1c7ca4a-3886-42bc-8e22-7526ec1286cd",
   "metadata": {
    "tags": []
   },
   "outputs": [
    {
     "data": {
      "text/plain": [
       "97"
      ]
     },
     "execution_count": 14,
     "metadata": {},
     "output_type": "execute_result"
    }
   ],
   "source": [
    "sum(length, grads.params) # 97 params total"
   ]
  },
  {
   "cell_type": "code",
   "execution_count": 15,
   "id": "04a05823-2afb-4a63-91f8-efac5d61d5c5",
   "metadata": {
    "tags": []
   },
   "outputs": [
    {
     "data": {
      "text/plain": [
       "(:order, :params)"
      ]
     },
     "execution_count": 15,
     "metadata": {},
     "output_type": "execute_result"
    }
   ],
   "source": [
    "fieldnames(Params)"
   ]
  },
  {
   "cell_type": "code",
   "execution_count": 16,
   "id": "16470cba-7405-4360-aa3c-a288ef903bac",
   "metadata": {
    "tags": []
   },
   "outputs": [
    {
     "data": {
      "text/plain": [
       "Zygote.Buffer{Any, Vector{Any}}(Any[Float32[0.2242121; -0.22966594; … ; 0.2254382; -0.22922081;;], Float32[-0.45998955, 0.40752098, 2.0472596, 1.327311, -0.43800884, 0.3686145, 0.34820905, 1.5097885, -0.45043552, -0.36027348  …  1.292601, 0.4150695, 2.0421948, -0.3785736, 0.32690892, -0.7591509, -0.3376909, 1.9202763, -0.4428397, 0.40472198], Float32[0.30446014 -0.4862661 … 0.5381678 -0.5297157], Float32[-0.06637672]], false)"
      ]
     },
     "execution_count": 16,
     "metadata": {},
     "output_type": "execute_result"
    }
   ],
   "source": [
    "grads.params.order"
   ]
  },
  {
   "cell_type": "code",
   "execution_count": 17,
   "id": "e9b8e10e-78e9-4ecb-9712-b4107f62c22b",
   "metadata": {
    "tags": []
   },
   "outputs": [
    {
     "data": {
      "text/plain": [
       "32×1 Matrix{Float32}:\n",
       "  0.2242121\n",
       " -0.22966594\n",
       " -0.88409716\n",
       " -0.72190404\n",
       "  0.22454381\n",
       " -0.22676444\n",
       " -0.22678824\n",
       " -0.7612891\n",
       "  0.22296886\n",
       "  0.21973221\n",
       "  0.22445358\n",
       " -0.22559594\n",
       " -0.22920309\n",
       "  ⋮\n",
       " -0.2284222\n",
       " -0.22852248\n",
       " -0.7150127\n",
       " -0.22874163\n",
       " -0.8828031\n",
       "  0.21975312\n",
       " -0.226349\n",
       "  0.6031544\n",
       "  0.21385738\n",
       " -0.85410285\n",
       "  0.2254382\n",
       " -0.22922081"
      ]
     },
     "execution_count": 17,
     "metadata": {},
     "output_type": "execute_result"
    }
   ],
   "source": [
    "th_1 = grads.params[1]"
   ]
  },
  {
   "cell_type": "code",
   "execution_count": 18,
   "id": "32d26965-a800-479e-beb0-19d27b5c6fee",
   "metadata": {
    "tags": []
   },
   "outputs": [
    {
     "data": {
      "text/plain": [
       "32×1 Matrix{Float32}:\n",
       "  0.21593948\n",
       " -0.33864307\n",
       "  0.31722873\n",
       "  0.28823042\n",
       "  0.30097228\n",
       " -0.49963722\n",
       " -0.37087613\n",
       "  0.30121154\n",
       "  0.18767184\n",
       "  0.22395624\n",
       "  0.39562792\n",
       " -0.25909066\n",
       " -0.3725306\n",
       "  ⋮\n",
       " -0.34810314\n",
       " -0.3907495\n",
       "  0.15767112\n",
       " -0.50923836\n",
       "  0.40007943\n",
       "  0.19183882\n",
       " -0.3306854\n",
       " -0.07639467\n",
       "  0.2095592\n",
       "  0.440717\n",
       "  0.3797413\n",
       " -0.3688083"
      ]
     },
     "execution_count": 18,
     "metadata": {},
     "output_type": "execute_result"
    }
   ],
   "source": [
    "# This is the gradient of the loss function value at (x_1, y_1) for th_1\n",
    "# Size 32\n",
    "grads.grads[th_1]"
   ]
  },
  {
   "cell_type": "code",
   "execution_count": 19,
   "id": "610a1885-2337-45d1-988d-a1d5f97f756c",
   "metadata": {
    "tags": []
   },
   "outputs": [
    {
     "data": {
      "text/plain": [
       "32×1 Matrix{Float32}:\n",
       "  0.4335996\n",
       " -0.6673518\n",
       "  0.18305863\n",
       "  0.21782224\n",
       "  0.6015094\n",
       " -0.9821071\n",
       " -0.72623146\n",
       "  0.21368295\n",
       "  0.37689304\n",
       "  0.44457337\n",
       "  0.7880242\n",
       " -0.50159574\n",
       " -0.7343564\n",
       "  ⋮\n",
       " -0.68400735\n",
       " -0.76939917\n",
       "  0.12040265\n",
       " -1.006497\n",
       "  0.23141131\n",
       "  0.38207862\n",
       " -0.6454727\n",
       " -0.069546595\n",
       "  0.41818124\n",
       "  0.26784256\n",
       "  0.7585486\n",
       " -0.7269415"
      ]
     },
     "execution_count": 19,
     "metadata": {},
     "output_type": "execute_result"
    }
   ],
   "source": [
    "# The same for x_2, y_2\n",
    "x_2 = xs[2]\n",
    "y_2 = y[2]\n",
    "grads_2 = gradient(() -> loss_fn(x_2, y_2), Flux.params(model))\n",
    "grads_2.grads[th_1]"
   ]
  },
  {
   "cell_type": "code",
   "execution_count": 20,
   "id": "50a6efc5-addf-4463-bab3-077ef2056d35",
   "metadata": {
    "tags": []
   },
   "outputs": [
    {
     "data": {
      "text/plain": [
       "([4.106280607376283 6.010951579134826], [-0.6633678850542059 -0.5713989294786477])"
      ]
     },
     "execution_count": 20,
     "metadata": {},
     "output_type": "execute_result"
    }
   ],
   "source": [
    "# Now take one batch combining the two\n",
    "x_b, y_b = popfirst!(Iterators.Stateful(dataloader))"
   ]
  },
  {
   "cell_type": "code",
   "execution_count": 21,
   "id": "119b42bf-cca6-4476-8ae9-d611118cb6d3",
   "metadata": {
    "tags": []
   },
   "outputs": [
    {
     "name": "stdout",
     "output_type": "stream",
     "text": [
      "x_1 = [4.106280607376283]\n",
      "x_2 = [6.010951579134826]\n",
      "y_1 = -0.6633678850542059\n",
      "y_2 = -0.5713989294786477\n"
     ]
    },
    {
     "data": {
      "text/plain": [
       "-0.5713989294786477"
      ]
     },
     "execution_count": 21,
     "metadata": {},
     "output_type": "execute_result"
    }
   ],
   "source": [
    "@show x_1\n",
    "@show x_2\n",
    "@show y_1\n",
    "@show y_2"
   ]
  },
  {
   "cell_type": "code",
   "execution_count": 39,
   "id": "042c770d-f73c-4fee-aa17-f6c965cb076c",
   "metadata": {
    "tags": []
   },
   "outputs": [
    {
     "data": {
      "text/plain": [
       "Grads(...)"
      ]
     },
     "execution_count": 39,
     "metadata": {},
     "output_type": "execute_result"
    }
   ],
   "source": [
    "# Take the *Jacobian* to obtain the gradients for the batch parts\n",
    "grads_b = jacobian(() -> loss_fn(x_b, y_b, agg=identity), Flux.params(model))"
   ]
  },
  {
   "cell_type": "code",
   "execution_count": 40,
   "id": "c2079c31-056e-48e3-a7f9-02c3744a7198",
   "metadata": {
    "tags": []
   },
   "outputs": [
    {
     "data": {
      "text/plain": [
       "2×32 Matrix{Float64}:\n",
       " 0.215939  -0.338643  0.317229  0.28823   …  0.440717  0.379741  -0.368808\n",
       " 0.4336    -0.667352  0.183059  0.217822     0.267843  0.758549  -0.726942"
      ]
     },
     "execution_count": 40,
     "metadata": {},
     "output_type": "execute_result"
    }
   ],
   "source": [
    "grads_b.grads[th_1]"
   ]
  },
  {
   "cell_type": "code",
   "execution_count": 41,
   "id": "bb88cb06-2672-40bf-afd6-45a8284d2788",
   "metadata": {
    "tags": []
   },
   "outputs": [
    {
     "data": {
      "text/plain": [
       "Params([Float32[0.2242121; -0.22966594; … ; 0.2254382; -0.22922081;;], Float32[-0.45998955, 0.40752098, 2.0472596, 1.327311, -0.43800884, 0.3686145, 0.34820905, 1.5097885, -0.45043552, -0.36027348  …  1.292601, 0.4150695, 2.0421948, -0.3785736, 0.32690892, -0.7591509, -0.3376909, 1.9202763, -0.4428397, 0.40472198], Float32[0.30446014 -0.4862661 … 0.5381678 -0.5297157], Float32[-0.06637672]])"
      ]
     },
     "execution_count": 41,
     "metadata": {},
     "output_type": "execute_result"
    }
   ],
   "source": [
    "th = grads_b.params"
   ]
  },
  {
   "cell_type": "code",
   "execution_count": 42,
   "id": "0e8d5167-5189-4ed0-826d-4c9694364b13",
   "metadata": {
    "tags": []
   },
   "outputs": [
    {
     "data": {
      "text/plain": [
       "true"
      ]
     },
     "execution_count": 42,
     "metadata": {},
     "output_type": "execute_result"
    }
   ],
   "source": [
    "grads_b.params == grads_1.params == grads_2.params"
   ]
  },
  {
   "cell_type": "code",
   "execution_count": 26,
   "id": "63830c97-e3b7-4f92-ac7a-32d50ca7c46d",
   "metadata": {
    "tags": []
   },
   "outputs": [
    {
     "data": {
      "text/plain": [
       "2×32 Matrix{Float64}:\n",
       " 0.215939  -0.338643  0.317229  0.28823   …  0.440717  0.379741  -0.368808\n",
       " 0.4336    -0.667352  0.183059  0.217822     0.267843  0.758549  -0.726942"
      ]
     },
     "execution_count": 26,
     "metadata": {},
     "output_type": "execute_result"
    }
   ],
   "source": [
    "grads_b[th_1]"
   ]
  },
  {
   "cell_type": "code",
   "execution_count": 43,
   "id": "25338ccd-8236-42b5-bac0-b493f004599c",
   "metadata": {},
   "outputs": [
    {
     "data": {
      "text/plain": [
       "Grads(...)"
      ]
     },
     "execution_count": 43,
     "metadata": {},
     "output_type": "execute_result"
    }
   ],
   "source": [
    "grads"
   ]
  },
  {
   "cell_type": "code",
   "execution_count": 104,
   "id": "13efa991-22b2-44d8-96d5-284d3e051246",
   "metadata": {
    "tags": []
   },
   "outputs": [
    {
     "data": {
      "text/plain": [
       "1×32 adjoint(::Matrix{Float32}) with eltype Float32:\n",
       " 0.215939  -0.338643  0.317229  0.28823  …  0.440717  0.379741  -0.368808"
      ]
     },
     "execution_count": 104,
     "metadata": {},
     "output_type": "execute_result"
    }
   ],
   "source": [
    "grads_1[th_1]'"
   ]
  },
  {
   "cell_type": "code",
   "execution_count": 100,
   "id": "4c5e26df-9a10-4d30-94b5-fc7c824a1139",
   "metadata": {
    "tags": []
   },
   "outputs": [
    {
     "data": {
      "text/plain": [
       "1×32 adjoint(::Matrix{Float32}) with eltype Float32:\n",
       " 0.4336  -0.667352  0.183059  0.217822  …  0.267843  0.758549  -0.726942"
      ]
     },
     "execution_count": 100,
     "metadata": {},
     "output_type": "execute_result"
    }
   ],
   "source": [
    "grads_2[th_1]'"
   ]
  },
  {
   "cell_type": "code",
   "execution_count": 28,
   "id": "38365237-ad93-40d0-b987-634ed14b2241",
   "metadata": {
    "tags": []
   },
   "outputs": [],
   "source": [
    "# grads_1 .* transpose.(grads_1)"
   ]
  },
  {
   "cell_type": "code",
   "execution_count": 101,
   "id": "b95bf90d-89a5-4816-936f-aa933c64fab7",
   "metadata": {
    "tags": []
   },
   "outputs": [
    {
     "data": {
      "text/plain": [
       "97"
      ]
     },
     "execution_count": 101,
     "metadata": {},
     "output_type": "execute_result"
    }
   ],
   "source": [
    "sum(length, grads_1)"
   ]
  },
  {
   "cell_type": "code",
   "execution_count": 102,
   "id": "ad2a9c99-c6c4-42e9-80f4-838037ab33ed",
   "metadata": {
    "tags": []
   },
   "outputs": [
    {
     "data": {
      "text/plain": [
       "97"
      ]
     },
     "execution_count": 102,
     "metadata": {},
     "output_type": "execute_result"
    }
   ],
   "source": [
    "sum(length, grads_1.params)"
   ]
  },
  {
   "cell_type": "code",
   "execution_count": 103,
   "id": "a37f6d67-4514-40b4-b14a-017f0451d9fd",
   "metadata": {
    "tags": []
   },
   "outputs": [
    {
     "data": {
      "text/plain": [
       "194"
      ]
     },
     "execution_count": 103,
     "metadata": {},
     "output_type": "execute_result"
    }
   ],
   "source": [
    "sum(length, grads_b)"
   ]
  },
  {
   "cell_type": "code",
   "execution_count": 44,
   "id": "dd390839-b4e3-4d5e-829b-e8e18097dc3b",
   "metadata": {
    "tags": []
   },
   "outputs": [
    {
     "data": {
      "text/plain": [
       "97×2 Matrix{Float64}:\n",
       "  0.215939   0.4336\n",
       " -0.338643  -0.667352\n",
       "  0.317229   0.183059\n",
       "  0.28823    0.217822\n",
       "  0.300972   0.601509\n",
       " -0.499637  -0.982107\n",
       " -0.370876  -0.726231\n",
       "  0.301211   0.213683\n",
       "  0.187672   0.376893\n",
       "  0.223956   0.444573\n",
       "  0.395628   0.788024\n",
       " -0.259091  -0.501596\n",
       " -0.372531  -0.734356\n",
       "  ⋮         \n",
       "  0.267246   0.31292\n",
       "  0.117968   0.054124\n",
       "  0.270798   0.31761\n",
       "  0.124082   0.0422294\n",
       "  0.457339   0.825363\n",
       "  0.257612   0.300948\n",
       "  0.617385   1.08526\n",
       "  0.460169   0.826622\n",
       "  0.123663   0.0443363\n",
       "  0.450342   0.818352\n",
       "  0.268706   0.314581\n",
       "  0.728207   1.14702"
      ]
     },
     "execution_count": 44,
     "metadata": {},
     "output_type": "execute_result"
    }
   ],
   "source": [
    "# We would like to obtain g as a 97x2 matrix\n",
    "# containing as the first column the gradient for loss_fn(x_1, y_1) wrt theta (of size 97)\n",
    "# and as the second column, one for loss_fn(x_2, y_2)\n",
    "g = permutedims(reduce(hcat, grads_b))"
   ]
  },
  {
   "cell_type": "code",
   "execution_count": 94,
   "id": "c283e348-c5ec-4422-9789-89b3281408b6",
   "metadata": {
    "tags": []
   },
   "outputs": [
    {
     "data": {
      "text/plain": [
       "gradient_helper (generic function with 1 method)"
      ]
     },
     "execution_count": 94,
     "metadata": {},
     "output_type": "execute_result"
    }
   ],
   "source": [
    "function gradient_helper(model, x, y)\n",
    "    grads = jacobian(() -> loss_fn(x, y, agg=identity), Flux.params(model))\n",
    "    g = permutedims(reduce(hcat, grads))\n",
    "end"
   ]
  },
  {
   "cell_type": "code",
   "execution_count": 105,
   "id": "e4d9456b-0a63-4fca-ac62-432b597894b0",
   "metadata": {
    "tags": []
   },
   "outputs": [
    {
     "data": {
      "text/plain": [
       "2×32 Matrix{Float64}:\n",
       " 0.215939  -0.338643  0.317229  0.28823   …  0.440717  0.379741  -0.368808\n",
       " 0.4336    -0.667352  0.183059  0.217822     0.267843  0.758549  -0.726942"
      ]
     },
     "execution_count": 105,
     "metadata": {},
     "output_type": "execute_result"
    }
   ],
   "source": [
    "# sanity check\n",
    "grads_b[th[1]]"
   ]
  },
  {
   "cell_type": "code",
   "execution_count": 106,
   "id": "9344fd68-0453-4ad0-b2e7-944f8a73ec45",
   "metadata": {
    "tags": []
   },
   "outputs": [
    {
     "data": {
      "text/plain": [
       "2×32 Matrix{Float64}:\n",
       " 0.44652   0.268871  0.124056   0.118603   …  0.123663   0.450342  0.268706\n",
       " 0.812573  0.314609  0.0421191  0.0537788     0.0443363  0.818352  0.314581"
      ]
     },
     "execution_count": 106,
     "metadata": {},
     "output_type": "execute_result"
    }
   ],
   "source": [
    "grads_b[th[length(th)-1]]"
   ]
  },
  {
   "cell_type": "code",
   "execution_count": 107,
   "id": "8c9a1f72-694a-45df-ac59-d2fbdacb7d33",
   "metadata": {
    "tags": []
   },
   "outputs": [
    {
     "data": {
      "text/plain": [
       "2×1 Matrix{Float64}:\n",
       " 0.7282071113586426\n",
       " 1.147015929222107"
      ]
     },
     "execution_count": 107,
     "metadata": {},
     "output_type": "execute_result"
    }
   ],
   "source": [
    "grads_b[th[length(th)]] # sanity: checked"
   ]
  },
  {
   "cell_type": "code",
   "execution_count": 108,
   "id": "10462059-0f7a-4282-8351-4b1a04f4a84b",
   "metadata": {
    "tags": []
   },
   "outputs": [
    {
     "data": {
      "text/plain": [
       "97×97 Matrix{Float64}:\n",
       "  0.234638   -0.36249     0.147876   …   0.452084    0.194426    0.654594\n",
       " -0.36249     0.560037   -0.229592      -0.698634   -0.300932   -1.01207\n",
       "  0.147876   -0.229592    0.134145       0.292668    0.142828    0.440979\n",
       "  0.156688   -0.242971    0.131309       0.308058    0.145972    0.459737\n",
       "  0.325806   -0.503341    0.205589       0.627787    0.270097    0.909111\n",
       " -0.533733    0.82461    -0.338282   …  -1.02872    -0.443208   -1.49033\n",
       " -0.39498     0.610246   -0.250595      -0.761334   -0.328115   -1.10307\n",
       "  0.157696   -0.244605    0.134669       0.310516    0.148158    0.464442\n",
       "  0.203946   -0.315074    0.128528       0.392948    0.168992    0.568966\n",
       "  0.241128   -0.372528    0.152428       0.464675    0.200033    0.673019\n",
       "  0.427119   -0.659866    0.269759   …   0.823049    0.354205    1.19198\n",
       " -0.27344     0.42248    -0.174012      -0.527161   -0.227412   -0.76401\n",
       " -0.398861    0.616229   -0.252608      -0.768729   -0.331116   -1.1136\n",
       "  ⋮                                  ⋱               ⋮          \n",
       "  0.193391   -0.299329    0.142061   …   0.376431    0.170249    0.553534\n",
       "  0.048942   -0.0760686   0.0473306      0.0974182   0.048725    0.147986\n",
       "  0.196191   -0.303661    0.144046       0.381868    0.172679    0.5615\n",
       "  0.0451047  -0.0702012   0.0470927      0.0904377   0.046626    0.138795\n",
       "  0.456635   -0.705682    0.296171       0.881397    0.382534    1.27974\n",
       "  0.186119   -0.288076    0.136813   …   0.362295    0.163894    0.532787\n",
       "  0.603886   -0.933323    0.394519       1.16616     0.507297    1.69439\n",
       "  0.457792   -0.707481    0.297299       0.883702    0.38369     1.28325\n",
       "  0.045928   -0.0714657   0.0473457      0.0919736   0.0471765   0.140907\n",
       "  0.452084   -0.698634    0.292668       0.872509    0.378448    1.26661\n",
       "  0.194426   -0.300932    0.142828   …   0.378448    0.171164    0.556503\n",
       "  0.654594   -1.01207     0.440979       1.26661     0.556503    1.84593"
      ]
     },
     "execution_count": 108,
     "metadata": {},
     "output_type": "execute_result"
    }
   ],
   "source": [
    "vg = g * transpose(g)"
   ]
  },
  {
   "cell_type": "code",
   "execution_count": 109,
   "id": "c5e24a92-c8f6-4db0-8088-bf788470b774",
   "metadata": {
    "tags": []
   },
   "outputs": [
    {
     "name": "stdout",
     "output_type": "stream",
     "text": [
      "size(x) = (32, 1)\n",
      "size(x) = (32,)\n",
      "size(x) = (1, 32)\n",
      "size(x) = (1,)\n"
     ]
    }
   ],
   "source": [
    "foreach(x -> @show(size(x)), grads)"
   ]
  },
  {
   "cell_type": "code",
   "execution_count": 110,
   "id": "72d5f879-b630-48ac-b295-985f230a0660",
   "metadata": {
    "tags": []
   },
   "outputs": [
    {
     "data": {
      "text/plain": [
       "97×97 Matrix{Float32}:\n",
       "  0.188009   -0.289363    0.0793741   …   0.354837    0.136402    0.497346\n",
       " -0.289363    0.445358   -0.122165       -0.546129   -0.209936   -0.765463\n",
       "  0.0793741  -0.122165    0.0335105       0.149806    0.0575868   0.209971\n",
       "  0.0944476  -0.145364    0.0398742       0.178255    0.0685228   0.249846\n",
       "  0.260814   -0.401418    0.110111        0.492247    0.189223    0.689941\n",
       " -0.425841    0.655411   -0.179783    …  -0.80371    -0.308952   -1.12649\n",
       " -0.314894    0.484652   -0.132943       -0.594313   -0.228459   -0.832999\n",
       "  0.0926528  -0.142602    0.0391165       0.174868    0.0672206   0.245098\n",
       "  0.163421   -0.25152     0.0689935       0.308431    0.118563    0.432302\n",
       "  0.192767   -0.296687    0.081383        0.363818    0.139854    0.509933\n",
       "  0.341687   -0.525889    0.144255    …   0.644881    0.247898    0.903876\n",
       " -0.217492    0.334741   -0.0918214      -0.410482   -0.157793   -0.575338\n",
       " -0.318417    0.490074   -0.13443        -0.600962   -0.231015   -0.842318\n",
       "  ⋮                                   ⋱               ⋮          \n",
       "  0.135682   -0.208827    0.0572826   …   0.256079    0.0984386   0.358924\n",
       "  0.0234681  -0.0361197   0.00990786      0.0442925   0.0170264   0.062081\n",
       "  0.137716   -0.211958    0.0581413       0.259917    0.0999141   0.364304\n",
       "  0.0183106  -0.0281818   0.00773045      0.0345585   0.0132846   0.0484377\n",
       "  0.357877   -0.550808    0.15109         0.675438    0.259644    0.946705\n",
       "  0.130491   -0.200838    0.0550911   …   0.246281    0.0946724   0.345192\n",
       "  0.470568   -0.72425     0.198666        0.888125    0.341402    1.24481\n",
       "  0.358423   -0.551647    0.15132         0.676468    0.26004     0.948148\n",
       "  0.0192242  -0.0295879   0.00811614      0.0362827   0.0139474   0.0508545\n",
       "  0.354837   -0.546129    0.149806        0.669701    0.257438    0.938663\n",
       "  0.136402   -0.209936    0.0575868   …   0.257438    0.0989613   0.36083\n",
       "  0.497346   -0.765463    0.209971        0.938663    0.36083     1.31565"
      ]
     },
     "execution_count": 110,
     "metadata": {},
     "output_type": "execute_result"
    }
   ],
   "source": [
    "g_1 = reduce(vcat, [vec(grads_1[th]) for th in grads_1.params])\n",
    "g_2 = reduce(vcat, [vec(grads_2[th]) for th in grads_2.params])\n",
    "# let v(g) denote gg'\n",
    "vg_1 = g_1 * transpose(g_1)\n",
    "vg_2 = g_2 * transpose(g_2)"
   ]
  },
  {
   "cell_type": "code",
   "execution_count": 111,
   "id": "c5b0a0a9-7f62-47e1-b33f-f4b5cbe3a17f",
   "metadata": {
    "tags": []
   },
   "outputs": [
    {
     "data": {
      "text/plain": [
       "true"
      ]
     },
     "execution_count": 111,
     "metadata": {},
     "output_type": "execute_result"
    }
   ],
   "source": [
    "isapprox(vg_1 + vg_2, vg, atol=.0005) \n",
    "# This is not it.\n",
    "# We want a 97x97x2 matrix"
   ]
  },
  {
   "cell_type": "code",
   "execution_count": 112,
   "id": "3c62c7fd-7d60-4686-a358-93b0f02d2475",
   "metadata": {
    "tags": []
   },
   "outputs": [
    {
     "data": {
      "text/plain": [
       "97×1×2 reshape(transpose(::Matrix{Float64}), 97, 1, 2) with eltype Float64:\n",
       "[:, :, 1] =\n",
       "  0.2159394472837448\n",
       " -0.33864301443099976\n",
       "  0.3172287046909332\n",
       "  0.28823038935661316\n",
       "  0.30097222328186035\n",
       " -0.4996371567249298\n",
       " -0.3708760738372803\n",
       "  0.3012114465236664\n",
       "  0.18767179548740387\n",
       "  0.22395619750022888\n",
       "  0.39562785625457764\n",
       " -0.2590906322002411\n",
       " -0.3725305497646332\n",
       "  ⋮\n",
       "  0.267246276140213\n",
       "  0.11796755343675613\n",
       "  0.2707975506782532\n",
       "  0.12408159673213959\n",
       "  0.45733925700187683\n",
       "  0.2576119899749756\n",
       "  0.6173853278160095\n",
       "  0.4601694941520691\n",
       "  0.12366347759962082\n",
       "  0.45034223794937134\n",
       "  0.2687060832977295\n",
       "  0.7282071113586426\n",
       "\n",
       "[:, :, 2] =\n",
       "  0.433599591255188\n",
       " -0.6673517823219299\n",
       "  0.18305863440036774\n",
       "  0.21782223880290985\n",
       "  0.6015093922615051\n",
       " -0.9821071028709412\n",
       " -0.7262314558029175\n",
       "  0.21368294954299927\n",
       "  0.3768930435180664\n",
       "  0.44457337260246277\n",
       "  0.7880241870880127\n",
       " -0.5015957355499268\n",
       " -0.7343564033508301\n",
       "  ⋮\n",
       "  0.31291961669921875\n",
       "  0.05412396043539047\n",
       "  0.3176100254058838\n",
       "  0.04222935810685158\n",
       "  0.8253633975982666\n",
       "  0.3009476065635681\n",
       "  1.0852596759796143\n",
       "  0.8266217708587646\n",
       "  0.04433630779385567\n",
       "  0.8183523416519165\n",
       "  0.31458109617233276\n",
       "  1.147015929222107"
      ]
     },
     "execution_count": 112,
     "metadata": {},
     "output_type": "execute_result"
    }
   ],
   "source": [
    "# Reshape g as 97x1x2 since MLUtils expects 3-d arrays\n",
    "gm = reshape(g, size(g, 1), 1, size(g, 2))"
   ]
  },
  {
   "cell_type": "code",
   "execution_count": 44,
   "id": "d75d0ca5-d1d2-4362-95a6-4e549b78707a",
   "metadata": {
    "tags": []
   },
   "outputs": [
    {
     "ename": "LoadError",
     "evalue": "UndefVarError: `gm` not defined",
     "output_type": "error",
     "traceback": [
      "UndefVarError: `gm` not defined",
      "",
      "Stacktrace:",
      " [1] top-level scope",
      "   @ In[44]:1"
     ]
    }
   ],
   "source": [
    "vgm = batched_mul(gm, batched_transpose(gm))"
   ]
  },
  {
   "cell_type": "code",
   "execution_count": 45,
   "id": "b151cac1-d351-4b5e-a2d3-040a48273e9b",
   "metadata": {
    "tags": []
   },
   "outputs": [
    {
     "ename": "LoadError",
     "evalue": "UndefVarError: `vgm` not defined",
     "output_type": "error",
     "traceback": [
      "UndefVarError: `vgm` not defined",
      "",
      "Stacktrace:",
      " [1] top-level scope",
      "   @ In[45]:1"
     ]
    }
   ],
   "source": [
    "@assert isapprox(vgm[:,:,1], vg_1, atol=.0005)\n",
    "@assert isapprox(vgm[:,:,2], vg_2, atol=.0005)"
   ]
  },
  {
   "cell_type": "code",
   "execution_count": 46,
   "id": "d9b64d85-c4bb-4ba8-ba8a-89cbb6bfa582",
   "metadata": {
    "tags": []
   },
   "outputs": [
    {
     "ename": "LoadError",
     "evalue": "UndefVarError: `vg_2` not defined",
     "output_type": "error",
     "traceback": [
      "UndefVarError: `vg_2` not defined",
      ""
     ]
    }
   ],
   "source": [
    "vg_2"
   ]
  },
  {
   "cell_type": "code",
   "execution_count": 47,
   "id": "d8d18f47-c18f-41af-b376-1b8ed882b433",
   "metadata": {
    "tags": []
   },
   "outputs": [
    {
     "ename": "LoadError",
     "evalue": "UndefVarError: `g` not defined",
     "output_type": "error",
     "traceback": [
      "UndefVarError: `g` not defined",
      ""
     ]
    }
   ],
   "source": [
    "g"
   ]
  },
  {
   "cell_type": "code",
   "execution_count": 48,
   "id": "62965a45-f41b-4cf9-ad05-a1f3fe38097d",
   "metadata": {
    "tags": []
   },
   "outputs": [],
   "source": [
    "# Now try einsums\n",
    "using Tullio"
   ]
  },
  {
   "cell_type": "code",
   "execution_count": 49,
   "id": "405da2db-8741-4266-86d7-a12a933675da",
   "metadata": {
    "tags": []
   },
   "outputs": [
    {
     "ename": "LoadError",
     "evalue": "UndefVarError: `g` not defined",
     "output_type": "error",
     "traceback": [
      "UndefVarError: `g` not defined",
      "",
      "Stacktrace:",
      " [1] top-level scope",
      "   @ ~/.julia/packages/Tullio/NGyNM/src/macro.jl:982"
     ]
    }
   ],
   "source": [
    "@tullio H[i, j, b] := g[i, b] * g[j, b]"
   ]
  },
  {
   "cell_type": "code",
   "execution_count": 50,
   "id": "61b678de-d640-4ed3-af7f-2e0e5dc75875",
   "metadata": {
    "tags": []
   },
   "outputs": [
    {
     "ename": "LoadError",
     "evalue": "UndefVarError: `vgm` not defined",
     "output_type": "error",
     "traceback": [
      "UndefVarError: `vgm` not defined",
      "",
      "Stacktrace:",
      " [1] top-level scope",
      "   @ In[50]:1"
     ]
    }
   ],
   "source": [
    "@assert isapprox(vgm, H, atol=eps())"
   ]
  },
  {
   "cell_type": "code",
   "execution_count": 51,
   "id": "2c53fa76-aa71-4741-8e42-ffbe988bca9f",
   "metadata": {
    "tags": []
   },
   "outputs": [
    {
     "data": {
      "text/plain": [
       "2.220446049250313e-16"
      ]
     },
     "execution_count": 51,
     "metadata": {},
     "output_type": "execute_result"
    }
   ],
   "source": [
    "eps()"
   ]
  },
  {
   "cell_type": "markdown",
   "id": "f662185d-adf9-442c-8639-699070e083c2",
   "metadata": {},
   "source": [
    "## Benchmarks for batched computation of H = 𝐠 * 𝐠'"
   ]
  },
  {
   "cell_type": "code",
   "execution_count": 52,
   "id": "fdf341c0-6455-4f3d-a33e-c9f740602a84",
   "metadata": {
    "tags": []
   },
   "outputs": [],
   "source": [
    "using BenchmarkTools"
   ]
  },
  {
   "cell_type": "code",
   "execution_count": 86,
   "id": "6a6e9c79-bb74-4432-b36b-d723a3b2e743",
   "metadata": {
    "tags": []
   },
   "outputs": [
    {
     "data": {
      "text/plain": [
       "method_1 (generic function with 1 method)"
      ]
     },
     "execution_count": 86,
     "metadata": {},
     "output_type": "execute_result"
    }
   ],
   "source": [
    "# Method 1: reshape + MLUtils\n",
    "function method_1(g)\n",
    "    gm = reshape(g, size(g, 1), 1, size(g, 2))\n",
    "    vgm = batched_mul(gm, batched_transpose(gm))\n",
    "end"
   ]
  },
  {
   "cell_type": "code",
   "execution_count": 87,
   "id": "6933f713-29be-4793-a9b8-95df1511c9b3",
   "metadata": {
    "tags": []
   },
   "outputs": [
    {
     "data": {
      "text/plain": [
       "method_2 (generic function with 1 method)"
      ]
     },
     "execution_count": 87,
     "metadata": {},
     "output_type": "execute_result"
    }
   ],
   "source": [
    "# Method 2: Tullio Einstein summation\n",
    "function method_2(g)\n",
    "    @tullio H[i, j, b] := g[i, b] * g[j, b]\n",
    "end"
   ]
  },
  {
   "cell_type": "code",
   "execution_count": 88,
   "id": "9546664a-3c29-4f53-8183-495d9be7e73e",
   "metadata": {
    "tags": []
   },
   "outputs": [
    {
     "data": {
      "text/plain": [
       "BenchmarkTools.Trial: 10000 samples with 1 evaluation.\n",
       " Range \u001b[90m(\u001b[39m\u001b[36m\u001b[1mmin\u001b[22m\u001b[39m … \u001b[35mmax\u001b[39m\u001b[90m):  \u001b[39m\u001b[36m\u001b[1m54.134 μs\u001b[22m\u001b[39m … \u001b[35m  4.024 ms\u001b[39m  \u001b[90m┊\u001b[39m GC \u001b[90m(\u001b[39mmin … max\u001b[90m): \u001b[39m 0.00% … 92.88%\n",
       " Time  \u001b[90m(\u001b[39m\u001b[34m\u001b[1mmedian\u001b[22m\u001b[39m\u001b[90m):     \u001b[39m\u001b[34m\u001b[1m58.490 μs               \u001b[22m\u001b[39m\u001b[90m┊\u001b[39m GC \u001b[90m(\u001b[39mmedian\u001b[90m):    \u001b[39m 0.00%\n",
       " Time  \u001b[90m(\u001b[39m\u001b[32m\u001b[1mmean\u001b[22m\u001b[39m ± \u001b[32mσ\u001b[39m\u001b[90m):   \u001b[39m\u001b[32m\u001b[1m76.993 μs\u001b[22m\u001b[39m ± \u001b[32m237.903 μs\u001b[39m  \u001b[90m┊\u001b[39m GC \u001b[90m(\u001b[39mmean ± σ\u001b[90m):  \u001b[39m20.27% ±  6.43%\n",
       "\n",
       "  \u001b[39m \u001b[39m \u001b[39m▇\u001b[39m▅\u001b[39m▂\u001b[39m█\u001b[34m▃\u001b[39m\u001b[39m▁\u001b[39m \u001b[39m \u001b[39m \u001b[39m \u001b[39m \u001b[39m \u001b[39m \u001b[39m \u001b[39m \u001b[39m \u001b[39m \u001b[39m \u001b[39m \u001b[39m \u001b[39m \u001b[39m \u001b[39m \u001b[39m \u001b[39m \u001b[39m \u001b[39m \u001b[39m \u001b[39m \u001b[32m \u001b[39m\u001b[39m \u001b[39m \u001b[39m \u001b[39m \u001b[39m \u001b[39m \u001b[39m \u001b[39m \u001b[39m \u001b[39m \u001b[39m \u001b[39m \u001b[39m \u001b[39m \u001b[39m \u001b[39m \u001b[39m \u001b[39m \u001b[39m \u001b[39m \u001b[39m \u001b[39m \u001b[39m \u001b[39m \u001b[39m \u001b[39m \u001b[39m \u001b[39m \u001b[39m \u001b[39m \n",
       "  \u001b[39m▁\u001b[39m▂\u001b[39m█\u001b[39m█\u001b[39m█\u001b[39m█\u001b[34m█\u001b[39m\u001b[39m█\u001b[39m▆\u001b[39m▅\u001b[39m▅\u001b[39m▃\u001b[39m▂\u001b[39m▃\u001b[39m▂\u001b[39m▂\u001b[39m▂\u001b[39m▂\u001b[39m▂\u001b[39m▂\u001b[39m▂\u001b[39m▂\u001b[39m▂\u001b[39m▂\u001b[39m▂\u001b[39m▂\u001b[39m▁\u001b[39m▁\u001b[39m▁\u001b[39m▁\u001b[39m▁\u001b[32m▁\u001b[39m\u001b[39m▁\u001b[39m▁\u001b[39m▁\u001b[39m▁\u001b[39m▁\u001b[39m▁\u001b[39m▁\u001b[39m▁\u001b[39m▁\u001b[39m▁\u001b[39m▁\u001b[39m▁\u001b[39m▁\u001b[39m▁\u001b[39m▁\u001b[39m▁\u001b[39m▁\u001b[39m▁\u001b[39m▁\u001b[39m▁\u001b[39m▁\u001b[39m▁\u001b[39m▁\u001b[39m▁\u001b[39m▁\u001b[39m▁\u001b[39m▁\u001b[39m▁\u001b[39m \u001b[39m▂\n",
       "  54.1 μs\u001b[90m         Histogram: frequency by time\u001b[39m         97.9 μs \u001b[0m\u001b[1m<\u001b[22m\n",
       "\n",
       " Memory estimate\u001b[90m: \u001b[39m\u001b[33m209.38 KiB\u001b[39m, allocs estimate\u001b[90m: \u001b[39m\u001b[33m18\u001b[39m."
      ]
     },
     "execution_count": 88,
     "metadata": {},
     "output_type": "execute_result"
    }
   ],
   "source": [
    "@benchmark method_1($g)"
   ]
  },
  {
   "cell_type": "code",
   "execution_count": 89,
   "id": "a0b975d8-ba7c-4a21-b643-a800d473ba92",
   "metadata": {
    "tags": []
   },
   "outputs": [
    {
     "data": {
      "text/plain": [
       "BenchmarkTools.Trial: 10000 samples with 1 evaluation.\n",
       " Range \u001b[90m(\u001b[39m\u001b[36m\u001b[1mmin\u001b[22m\u001b[39m … \u001b[35mmax\u001b[39m\u001b[90m):  \u001b[39m\u001b[36m\u001b[1m18.267 μs\u001b[22m\u001b[39m … \u001b[35m  3.831 ms\u001b[39m  \u001b[90m┊\u001b[39m GC \u001b[90m(\u001b[39mmin … max\u001b[90m): \u001b[39m 0.00% … 98.41%\n",
       " Time  \u001b[90m(\u001b[39m\u001b[34m\u001b[1mmedian\u001b[22m\u001b[39m\u001b[90m):     \u001b[39m\u001b[34m\u001b[1m20.120 μs               \u001b[22m\u001b[39m\u001b[90m┊\u001b[39m GC \u001b[90m(\u001b[39mmedian\u001b[90m):    \u001b[39m 0.00%\n",
       " Time  \u001b[90m(\u001b[39m\u001b[32m\u001b[1mmean\u001b[22m\u001b[39m ± \u001b[32mσ\u001b[39m\u001b[90m):   \u001b[39m\u001b[32m\u001b[1m31.827 μs\u001b[22m\u001b[39m ± \u001b[32m200.458 μs\u001b[39m  \u001b[90m┊\u001b[39m GC \u001b[90m(\u001b[39mmean ± σ\u001b[90m):  \u001b[39m35.24% ±  5.55%\n",
       "\n",
       "  \u001b[39m \u001b[39m \u001b[39m \u001b[39m \u001b[39m \u001b[39m \u001b[39m \u001b[39m▃\u001b[39m▆\u001b[39m█\u001b[34m▇\u001b[39m\u001b[39m▄\u001b[39m▁\u001b[39m \u001b[39m \u001b[39m \u001b[39m \u001b[39m \u001b[39m \u001b[39m \u001b[39m \u001b[39m \u001b[39m \u001b[39m \u001b[39m \u001b[39m \u001b[39m \u001b[39m \u001b[39m \u001b[39m \u001b[39m \u001b[39m \u001b[39m \u001b[39m \u001b[39m \u001b[39m \u001b[39m \u001b[39m \u001b[39m \u001b[39m \u001b[39m \u001b[39m \u001b[39m \u001b[39m \u001b[39m \u001b[39m \u001b[39m \u001b[39m \u001b[39m \u001b[39m \u001b[39m \u001b[39m \u001b[39m \u001b[39m \u001b[39m \u001b[39m \u001b[39m \u001b[39m \u001b[39m \u001b[39m \u001b[39m \u001b[39m \n",
       "  \u001b[39m▁\u001b[39m▁\u001b[39m▁\u001b[39m▁\u001b[39m▂\u001b[39m▄\u001b[39m▇\u001b[39m█\u001b[39m█\u001b[39m█\u001b[34m█\u001b[39m\u001b[39m█\u001b[39m█\u001b[39m▆\u001b[39m▃\u001b[39m▃\u001b[39m▂\u001b[39m▂\u001b[39m▂\u001b[39m▁\u001b[39m▁\u001b[39m▁\u001b[39m▁\u001b[39m▁\u001b[39m▁\u001b[39m▁\u001b[39m▁\u001b[39m▁\u001b[39m▁\u001b[39m▁\u001b[39m▁\u001b[39m▁\u001b[39m▁\u001b[39m▁\u001b[39m▁\u001b[39m▁\u001b[39m▁\u001b[39m▁\u001b[39m▁\u001b[39m▁\u001b[39m▁\u001b[39m▁\u001b[39m▁\u001b[39m▁\u001b[39m▁\u001b[39m▁\u001b[39m▁\u001b[39m▁\u001b[39m▁\u001b[39m▁\u001b[39m▁\u001b[39m▁\u001b[39m▁\u001b[39m▁\u001b[39m▁\u001b[39m▁\u001b[39m▁\u001b[39m▁\u001b[39m▁\u001b[39m▁\u001b[39m \u001b[39m▂\n",
       "  18.3 μs\u001b[90m         Histogram: frequency by time\u001b[39m         29.3 μs \u001b[0m\u001b[1m<\u001b[22m\n",
       "\n",
       " Memory estimate\u001b[90m: \u001b[39m\u001b[33m147.12 KiB\u001b[39m, allocs estimate\u001b[90m: \u001b[39m\u001b[33m2\u001b[39m."
      ]
     },
     "execution_count": 89,
     "metadata": {},
     "output_type": "execute_result"
    }
   ],
   "source": [
    "@benchmark method_2($g)"
   ]
  },
  {
   "cell_type": "code",
   "execution_count": 95,
   "id": "d905b837-5cd9-4a18-bff4-dc95467db505",
   "metadata": {
    "tags": []
   },
   "outputs": [
    {
     "data": {
      "text/plain": [
       "97×128 Matrix{Float64}:\n",
       "  0.215939   0.4336     -0.0813523  -0.297506  …  -0.0736161  -0.00543083\n",
       " -0.338643  -0.667352    0.130213    0.473986      0.11824     0.00853436\n",
       "  0.317229   0.183059   -0.182178   -0.733165     -0.136751   -0.00893804\n",
       "  0.28823    0.217822   -0.187981   -0.676291     -0.159954   -0.00796517\n",
       "  0.300972   0.601509   -0.114118   -0.416646     -0.103405   -0.00757371\n",
       " -0.499637  -0.982107    0.193588    0.702976  …   0.176181    0.0125978\n",
       " -0.370876  -0.726231    0.144516    0.523994      0.131687    0.00935574\n",
       "  0.301211   0.213683   -0.191066   -0.70511      -0.157855   -0.0083613\n",
       "  0.187672   0.376893   -0.0708006  -0.258781     -0.0641018  -0.00472013\n",
       "  0.223956   0.444573   -0.0862941  -0.313523     -0.0785402  -0.00564193\n",
       "  0.395628   0.788024   -0.150769   -0.549718  …  -0.136769   -0.0099599\n",
       " -0.259091  -0.501596    0.102869    0.371067      0.0941534   0.00654575\n",
       " -0.372531  -0.734356    0.143266    0.521446      0.130109    0.00938827\n",
       "  ⋮                                            ⋱              \n",
       "  0.267246   0.31292    -0.339739   -0.817479  …  -0.499122   -0.00726007\n",
       "  0.117968   0.054124   -0.360045   -0.734064     -0.58578    -0.00354158\n",
       "  0.270798   0.31761    -0.343337   -0.826733     -0.5041     -0.00735493\n",
       "  0.124082   0.0422294  -0.43736    -0.894902     -0.697936   -0.00383341\n",
       "  0.457339   0.825363   -0.330521   -0.919946     -0.429968   -0.0118123\n",
       "  0.257612   0.300948   -0.32921    -0.790913  …  -0.484324   -0.00700095\n",
       "  0.617385   1.08526    -0.369349   -1.12188      -0.435528   -0.0158957\n",
       "  0.460169   0.826622   -0.335791   -0.931912     -0.437974   -0.0118936\n",
       "  0.123663   0.0443363  -0.42568    -0.869945     -0.681727   -0.0038014\n",
       "  0.450342   0.818352   -0.321284   -0.897601     -0.416557   -0.0116203\n",
       "  0.268706   0.314581   -0.341476   -0.821778  …  -0.5016     -0.00729968\n",
       "  0.728207   1.14702    -0.670153   -1.73962      -0.927843   -0.01916"
      ]
     },
     "execution_count": 95,
     "metadata": {},
     "output_type": "execute_result"
    }
   ],
   "source": [
    "# More benchmarks:\n",
    "# batchsize = 128\n",
    "dataloader_128 = DataLoader((X, Y), batchsize=128)\n",
    "x_128, y_128 = popfirst!(Iterators.Stateful(dataloader_128))\n",
    "g_128 = gradient_helper(model, x_128, y_128)"
   ]
  },
  {
   "cell_type": "code",
   "execution_count": 96,
   "id": "8b58c01f-6685-4212-ae6e-af23020da52e",
   "metadata": {
    "tags": []
   },
   "outputs": [
    {
     "data": {
      "text/plain": [
       "BenchmarkTools.Trial: 2475 samples with 1 evaluation.\n",
       " Range \u001b[90m(\u001b[39m\u001b[36m\u001b[1mmin\u001b[22m\u001b[39m … \u001b[35mmax\u001b[39m\u001b[90m):  \u001b[39m\u001b[36m\u001b[1m955.866 μs\u001b[22m\u001b[39m … \u001b[35m10.738 ms\u001b[39m  \u001b[90m┊\u001b[39m GC \u001b[90m(\u001b[39mmin … max\u001b[90m): \u001b[39m 0.00% … 34.01%\n",
       " Time  \u001b[90m(\u001b[39m\u001b[34m\u001b[1mmedian\u001b[22m\u001b[39m\u001b[90m):     \u001b[39m\u001b[34m\u001b[1m  1.196 ms              \u001b[22m\u001b[39m\u001b[90m┊\u001b[39m GC \u001b[90m(\u001b[39mmedian\u001b[90m):    \u001b[39m 0.00%\n",
       " Time  \u001b[90m(\u001b[39m\u001b[32m\u001b[1mmean\u001b[22m\u001b[39m ± \u001b[32mσ\u001b[39m\u001b[90m):   \u001b[39m\u001b[32m\u001b[1m  1.998 ms\u001b[22m\u001b[39m ± \u001b[32m 1.574 ms\u001b[39m  \u001b[90m┊\u001b[39m GC \u001b[90m(\u001b[39mmean ± σ\u001b[90m):  \u001b[39m37.70% ± 29.94%\n",
       "\n",
       "  \u001b[39m \u001b[39m▂\u001b[39m█\u001b[34m▆\u001b[39m\u001b[39m▄\u001b[39m▃\u001b[39m▂\u001b[39m▁\u001b[39m \u001b[39m \u001b[39m \u001b[39m \u001b[39m \u001b[32m \u001b[39m\u001b[39m \u001b[39m \u001b[39m \u001b[39m \u001b[39m \u001b[39m \u001b[39m \u001b[39m \u001b[39m \u001b[39m \u001b[39m \u001b[39m \u001b[39m \u001b[39m \u001b[39m \u001b[39m \u001b[39m \u001b[39m \u001b[39m \u001b[39m \u001b[39m \u001b[39m \u001b[39m \u001b[39m \u001b[39m \u001b[39m \u001b[39m \u001b[39m \u001b[39m \u001b[39m \u001b[39m \u001b[39m \u001b[39m \u001b[39m \u001b[39m▃\u001b[39m▃\u001b[39m▂\u001b[39m▁\u001b[39m▁\u001b[39m▁\u001b[39m▁\u001b[39m▁\u001b[39m▁\u001b[39m \u001b[39m \u001b[39m \u001b[39m \u001b[39m \n",
       "  \u001b[39m▆\u001b[39m█\u001b[39m█\u001b[34m█\u001b[39m\u001b[39m█\u001b[39m█\u001b[39m█\u001b[39m█\u001b[39m█\u001b[39m▇\u001b[39m▅\u001b[39m▁\u001b[39m▁\u001b[32m▁\u001b[39m\u001b[39m▁\u001b[39m▃\u001b[39m▁\u001b[39m▁\u001b[39m▁\u001b[39m▁\u001b[39m▁\u001b[39m▁\u001b[39m▁\u001b[39m▁\u001b[39m▁\u001b[39m▁\u001b[39m▁\u001b[39m▁\u001b[39m▁\u001b[39m▁\u001b[39m▁\u001b[39m▁\u001b[39m▁\u001b[39m▁\u001b[39m▁\u001b[39m▁\u001b[39m▁\u001b[39m▁\u001b[39m▁\u001b[39m▁\u001b[39m▁\u001b[39m▁\u001b[39m▁\u001b[39m▃\u001b[39m▃\u001b[39m▃\u001b[39m▄\u001b[39m▇\u001b[39m█\u001b[39m█\u001b[39m█\u001b[39m█\u001b[39m█\u001b[39m█\u001b[39m█\u001b[39m█\u001b[39m█\u001b[39m▇\u001b[39m▇\u001b[39m▇\u001b[39m \u001b[39m█\n",
       "  956 μs\u001b[90m        \u001b[39m\u001b[90mHistogram: \u001b[39m\u001b[90m\u001b[1mlog(\u001b[22m\u001b[39m\u001b[90mfrequency\u001b[39m\u001b[90m\u001b[1m)\u001b[22m\u001b[39m\u001b[90m by time\u001b[39m      5.65 ms \u001b[0m\u001b[1m<\u001b[22m\n",
       "\n",
       " Memory estimate\u001b[90m: \u001b[39m\u001b[33m9.19 MiB\u001b[39m, allocs estimate\u001b[90m: \u001b[39m\u001b[33m5\u001b[39m."
      ]
     },
     "execution_count": 96,
     "metadata": {},
     "output_type": "execute_result"
    }
   ],
   "source": [
    "@benchmark method_1($g_128) "
   ]
  },
  {
   "cell_type": "code",
   "execution_count": 97,
   "id": "d0b14ce4-50d0-4f99-b452-2c00eca18e69",
   "metadata": {
    "tags": []
   },
   "outputs": [
    {
     "data": {
      "text/plain": [
       "BenchmarkTools.Trial: 2330 samples with 1 evaluation.\n",
       " Range \u001b[90m(\u001b[39m\u001b[36m\u001b[1mmin\u001b[22m\u001b[39m … \u001b[35mmax\u001b[39m\u001b[90m):  \u001b[39m\u001b[36m\u001b[1m1.221 ms\u001b[22m\u001b[39m … \u001b[35m10.431 ms\u001b[39m  \u001b[90m┊\u001b[39m GC \u001b[90m(\u001b[39mmin … max\u001b[90m): \u001b[39m 0.00% … 34.09%\n",
       " Time  \u001b[90m(\u001b[39m\u001b[34m\u001b[1mmedian\u001b[22m\u001b[39m\u001b[90m):     \u001b[39m\u001b[34m\u001b[1m1.366 ms              \u001b[22m\u001b[39m\u001b[90m┊\u001b[39m GC \u001b[90m(\u001b[39mmedian\u001b[90m):    \u001b[39m 0.00%\n",
       " Time  \u001b[90m(\u001b[39m\u001b[32m\u001b[1mmean\u001b[22m\u001b[39m ± \u001b[32mσ\u001b[39m\u001b[90m):   \u001b[39m\u001b[32m\u001b[1m2.132 ms\u001b[22m\u001b[39m ± \u001b[32m 1.486 ms\u001b[39m  \u001b[90m┊\u001b[39m GC \u001b[90m(\u001b[39mmean ± σ\u001b[90m):  \u001b[39m33.77% ± 28.77%\n",
       "\n",
       "  \u001b[39m▁\u001b[39m█\u001b[34m▅\u001b[39m\u001b[39m▃\u001b[39m▂\u001b[39m \u001b[39m \u001b[39m \u001b[39m \u001b[39m \u001b[39m \u001b[39m \u001b[32m \u001b[39m\u001b[39m \u001b[39m \u001b[39m \u001b[39m \u001b[39m \u001b[39m \u001b[39m \u001b[39m \u001b[39m \u001b[39m \u001b[39m \u001b[39m \u001b[39m \u001b[39m \u001b[39m \u001b[39m \u001b[39m \u001b[39m \u001b[39m \u001b[39m \u001b[39m \u001b[39m \u001b[39m \u001b[39m \u001b[39m \u001b[39m \u001b[39m \u001b[39m \u001b[39m \u001b[39m \u001b[39m \u001b[39m \u001b[39m \u001b[39m \u001b[39m▃\u001b[39m▄\u001b[39m▂\u001b[39m▁\u001b[39m \u001b[39m \u001b[39m \u001b[39m \u001b[39m \u001b[39m \u001b[39m \u001b[39m \u001b[39m \n",
       "  \u001b[39m█\u001b[39m█\u001b[34m█\u001b[39m\u001b[39m█\u001b[39m█\u001b[39m█\u001b[39m█\u001b[39m█\u001b[39m▇\u001b[39m▇\u001b[39m▆\u001b[39m▆\u001b[32m▃\u001b[39m\u001b[39m▄\u001b[39m▁\u001b[39m▁\u001b[39m▁\u001b[39m▁\u001b[39m▁\u001b[39m▁\u001b[39m▁\u001b[39m▁\u001b[39m▁\u001b[39m▁\u001b[39m▁\u001b[39m▁\u001b[39m▁\u001b[39m▁\u001b[39m▁\u001b[39m▁\u001b[39m▁\u001b[39m▁\u001b[39m▁\u001b[39m▁\u001b[39m▁\u001b[39m▁\u001b[39m▁\u001b[39m▁\u001b[39m▁\u001b[39m▁\u001b[39m▁\u001b[39m▁\u001b[39m▁\u001b[39m▄\u001b[39m▅\u001b[39m▄\u001b[39m▅\u001b[39m█\u001b[39m█\u001b[39m█\u001b[39m█\u001b[39m█\u001b[39m▆\u001b[39m▇\u001b[39m▆\u001b[39m▆\u001b[39m▆\u001b[39m▇\u001b[39m \u001b[39m█\n",
       "  1.22 ms\u001b[90m      \u001b[39m\u001b[90mHistogram: \u001b[39m\u001b[90m\u001b[1mlog(\u001b[22m\u001b[39m\u001b[90mfrequency\u001b[39m\u001b[90m\u001b[1m)\u001b[22m\u001b[39m\u001b[90m by time\u001b[39m     5.65 ms \u001b[0m\u001b[1m<\u001b[22m\n",
       "\n",
       " Memory estimate\u001b[90m: \u001b[39m\u001b[33m9.19 MiB\u001b[39m, allocs estimate\u001b[90m: \u001b[39m\u001b[33m2\u001b[39m."
      ]
     },
     "execution_count": 97,
     "metadata": {},
     "output_type": "execute_result"
    }
   ],
   "source": [
    "@benchmark method_2($g_128) "
   ]
  },
  {
   "cell_type": "code",
   "execution_count": 98,
   "id": "184e4804-3065-4817-8cc7-cc4f928bc898",
   "metadata": {
    "tags": []
   },
   "outputs": [
    {
     "data": {
      "text/plain": [
       "BenchmarkTools.Trial: 2500 samples with 1 evaluation.\n",
       " Range \u001b[90m(\u001b[39m\u001b[36m\u001b[1mmin\u001b[22m\u001b[39m … \u001b[35mmax\u001b[39m\u001b[90m):  \u001b[39m\u001b[36m\u001b[1m984.750 μs\u001b[22m\u001b[39m … \u001b[35m11.665 ms\u001b[39m  \u001b[90m┊\u001b[39m GC \u001b[90m(\u001b[39mmin … max\u001b[90m): \u001b[39m 0.00% … 32.76%\n",
       " Time  \u001b[90m(\u001b[39m\u001b[34m\u001b[1mmedian\u001b[22m\u001b[39m\u001b[90m):     \u001b[39m\u001b[34m\u001b[1m  1.204 ms              \u001b[22m\u001b[39m\u001b[90m┊\u001b[39m GC \u001b[90m(\u001b[39mmedian\u001b[90m):    \u001b[39m 0.00%\n",
       " Time  \u001b[90m(\u001b[39m\u001b[32m\u001b[1mmean\u001b[22m\u001b[39m ± \u001b[32mσ\u001b[39m\u001b[90m):   \u001b[39m\u001b[32m\u001b[1m  1.980 ms\u001b[22m\u001b[39m ± \u001b[32m 1.553 ms\u001b[39m  \u001b[90m┊\u001b[39m GC \u001b[90m(\u001b[39mmean ± σ\u001b[90m):  \u001b[39m37.29% ± 29.69%\n",
       "\n",
       "  \u001b[39m \u001b[39m▂\u001b[39m█\u001b[34m▇\u001b[39m\u001b[39m▅\u001b[39m▁\u001b[39m \u001b[39m \u001b[39m \u001b[39m \u001b[39m \u001b[39m \u001b[39m \u001b[39m \u001b[32m \u001b[39m\u001b[39m \u001b[39m \u001b[39m \u001b[39m \u001b[39m \u001b[39m \u001b[39m \u001b[39m \u001b[39m \u001b[39m \u001b[39m \u001b[39m \u001b[39m \u001b[39m \u001b[39m \u001b[39m \u001b[39m \u001b[39m \u001b[39m \u001b[39m \u001b[39m \u001b[39m \u001b[39m \u001b[39m \u001b[39m \u001b[39m \u001b[39m \u001b[39m \u001b[39m \u001b[39m \u001b[39m \u001b[39m \u001b[39m \u001b[39m \u001b[39m \u001b[39m \u001b[39m \u001b[39m \u001b[39m▂\u001b[39m▃\u001b[39m▄\u001b[39m▃\u001b[39m▁\u001b[39m \u001b[39m \u001b[39m \u001b[39m▁\n",
       "  \u001b[39m▆\u001b[39m█\u001b[39m█\u001b[34m█\u001b[39m\u001b[39m█\u001b[39m█\u001b[39m█\u001b[39m▆\u001b[39m▆\u001b[39m▄\u001b[39m▅\u001b[39m▁\u001b[39m▁\u001b[39m▁\u001b[32m▁\u001b[39m\u001b[39m▁\u001b[39m▁\u001b[39m▁\u001b[39m▁\u001b[39m▁\u001b[39m▁\u001b[39m▁\u001b[39m▁\u001b[39m▁\u001b[39m▁\u001b[39m▁\u001b[39m▁\u001b[39m▁\u001b[39m▁\u001b[39m▁\u001b[39m▁\u001b[39m▁\u001b[39m▁\u001b[39m▁\u001b[39m▁\u001b[39m▁\u001b[39m▁\u001b[39m▁\u001b[39m▁\u001b[39m▁\u001b[39m▁\u001b[39m▁\u001b[39m▁\u001b[39m▁\u001b[39m▁\u001b[39m▁\u001b[39m▁\u001b[39m▁\u001b[39m▃\u001b[39m▁\u001b[39m▁\u001b[39m▅\u001b[39m█\u001b[39m█\u001b[39m█\u001b[39m█\u001b[39m█\u001b[39m█\u001b[39m█\u001b[39m▆\u001b[39m \u001b[39m█\n",
       "  985 μs\u001b[90m        \u001b[39m\u001b[90mHistogram: \u001b[39m\u001b[90m\u001b[1mlog(\u001b[22m\u001b[39m\u001b[90mfrequency\u001b[39m\u001b[90m\u001b[1m)\u001b[22m\u001b[39m\u001b[90m by time\u001b[39m      5.28 ms \u001b[0m\u001b[1m<\u001b[22m\n",
       "\n",
       " Memory estimate\u001b[90m: \u001b[39m\u001b[33m9.19 MiB\u001b[39m, allocs estimate\u001b[90m: \u001b[39m\u001b[33m5\u001b[39m."
      ]
     },
     "execution_count": 98,
     "metadata": {},
     "output_type": "execute_result"
    }
   ],
   "source": [
    "@benchmark method_1($g_128) samples=10_000"
   ]
  },
  {
   "cell_type": "code",
   "execution_count": 99,
   "id": "0164f97e-89c1-42fb-988a-9939d9bd2353",
   "metadata": {
    "tags": []
   },
   "outputs": [
    {
     "data": {
      "text/plain": [
       "BenchmarkTools.Trial: 2270 samples with 1 evaluation.\n",
       " Range \u001b[90m(\u001b[39m\u001b[36m\u001b[1mmin\u001b[22m\u001b[39m … \u001b[35mmax\u001b[39m\u001b[90m):  \u001b[39m\u001b[36m\u001b[1m1.225 ms\u001b[22m\u001b[39m … \u001b[35m9.856 ms\u001b[39m  \u001b[90m┊\u001b[39m GC \u001b[90m(\u001b[39mmin … max\u001b[90m): \u001b[39m 0.00% … 37.67%\n",
       " Time  \u001b[90m(\u001b[39m\u001b[34m\u001b[1mmedian\u001b[22m\u001b[39m\u001b[90m):     \u001b[39m\u001b[34m\u001b[1m1.404 ms             \u001b[22m\u001b[39m\u001b[90m┊\u001b[39m GC \u001b[90m(\u001b[39mmedian\u001b[90m):    \u001b[39m 0.00%\n",
       " Time  \u001b[90m(\u001b[39m\u001b[32m\u001b[1mmean\u001b[22m\u001b[39m ± \u001b[32mσ\u001b[39m\u001b[90m):   \u001b[39m\u001b[32m\u001b[1m2.186 ms\u001b[22m\u001b[39m ± \u001b[32m1.512 ms\u001b[39m  \u001b[90m┊\u001b[39m GC \u001b[90m(\u001b[39mmean ± σ\u001b[90m):  \u001b[39m33.57% ± 28.73%\n",
       "\n",
       "  \u001b[39m \u001b[39m█\u001b[34m▆\u001b[39m\u001b[39m▄\u001b[39m▃\u001b[39m▂\u001b[39m▁\u001b[39m▁\u001b[39m \u001b[39m \u001b[39m \u001b[39m \u001b[32m \u001b[39m\u001b[39m \u001b[39m \u001b[39m \u001b[39m \u001b[39m \u001b[39m \u001b[39m \u001b[39m \u001b[39m \u001b[39m \u001b[39m \u001b[39m \u001b[39m \u001b[39m \u001b[39m \u001b[39m \u001b[39m \u001b[39m \u001b[39m \u001b[39m \u001b[39m \u001b[39m \u001b[39m \u001b[39m \u001b[39m \u001b[39m \u001b[39m \u001b[39m \u001b[39m \u001b[39m \u001b[39m \u001b[39m \u001b[39m▃\u001b[39m▄\u001b[39m▂\u001b[39m▁\u001b[39m \u001b[39m \u001b[39m \u001b[39m \u001b[39m \u001b[39m \u001b[39m \u001b[39m \u001b[39m \u001b[39m \n",
       "  \u001b[39m█\u001b[39m█\u001b[34m█\u001b[39m\u001b[39m█\u001b[39m█\u001b[39m█\u001b[39m█\u001b[39m█\u001b[39m█\u001b[39m█\u001b[39m█\u001b[39m▅\u001b[32m▅\u001b[39m\u001b[39m▄\u001b[39m▁\u001b[39m▃\u001b[39m▁\u001b[39m▁\u001b[39m▁\u001b[39m▁\u001b[39m▁\u001b[39m▁\u001b[39m▁\u001b[39m▁\u001b[39m▁\u001b[39m▁\u001b[39m▁\u001b[39m▁\u001b[39m▁\u001b[39m▁\u001b[39m▁\u001b[39m▁\u001b[39m▁\u001b[39m▁\u001b[39m▁\u001b[39m▁\u001b[39m▁\u001b[39m▁\u001b[39m▁\u001b[39m▁\u001b[39m▁\u001b[39m▄\u001b[39m▃\u001b[39m▅\u001b[39m▇\u001b[39m█\u001b[39m█\u001b[39m█\u001b[39m█\u001b[39m█\u001b[39m▇\u001b[39m█\u001b[39m█\u001b[39m█\u001b[39m█\u001b[39m▇\u001b[39m▅\u001b[39m \u001b[39m█\n",
       "  1.22 ms\u001b[90m     \u001b[39m\u001b[90mHistogram: \u001b[39m\u001b[90m\u001b[1mlog(\u001b[22m\u001b[39m\u001b[90mfrequency\u001b[39m\u001b[90m\u001b[1m)\u001b[22m\u001b[39m\u001b[90m by time\u001b[39m     5.79 ms \u001b[0m\u001b[1m<\u001b[22m\n",
       "\n",
       " Memory estimate\u001b[90m: \u001b[39m\u001b[33m9.19 MiB\u001b[39m, allocs estimate\u001b[90m: \u001b[39m\u001b[33m2\u001b[39m."
      ]
     },
     "execution_count": 99,
     "metadata": {},
     "output_type": "execute_result"
    }
   ],
   "source": [
    "@benchmark method_2($g_128) samples=10_000"
   ]
  },
  {
   "cell_type": "markdown",
   "id": "7caa9d18-9937-4c40-ac79-56821eb235a3",
   "metadata": {},
   "source": [
    "### Benchmark conclusions\n",
    "Method 2, with Tullio, is faster, probably since it makes less allocations. The effect is lesser for larger batchsizes -- compare the almost two-fold difference for batchsize 2, and the ~16% difference for batchsize 128.\n",
    "Tullio would also employ multi-threading for large-enough matrices.\n",
    "\n",
    "Machine: Thinkpad X1 Gen 6, Intel i7 8th Gen, Intel GPU"
   ]
  },
  {
   "cell_type": "markdown",
   "id": "36700f26-7708-4f01-961f-1fd2f4047390",
   "metadata": {},
   "source": [
    "## Summary"
   ]
  },
  {
   "cell_type": "code",
   "execution_count": 83,
   "id": "e7585116-9f58-4da3-86dd-b918b9322546",
   "metadata": {
    "tags": []
   },
   "outputs": [
    {
     "data": {
      "text/plain": [
       "97×97 Matrix{Float64}:\n",
       "  0.234638   -0.36249     0.147876   …   0.452084    0.194426    0.654594\n",
       " -0.36249     0.560037   -0.229592      -0.698634   -0.300932   -1.01207\n",
       "  0.147876   -0.229592    0.134145       0.292668    0.142828    0.440979\n",
       "  0.156688   -0.242971    0.131309       0.308058    0.145972    0.459737\n",
       "  0.325806   -0.503341    0.205589       0.627787    0.270097    0.909111\n",
       " -0.533733    0.82461    -0.338282   …  -1.02872    -0.443208   -1.49033\n",
       " -0.39498     0.610246   -0.250595      -0.761334   -0.328115   -1.10307\n",
       "  0.157696   -0.244605    0.134669       0.310516    0.148158    0.464442\n",
       "  0.203946   -0.315074    0.128528       0.392948    0.168992    0.568966\n",
       "  0.241128   -0.372528    0.152428       0.464675    0.200033    0.673019\n",
       "  0.427119   -0.659866    0.269759   …   0.823049    0.354205    1.19198\n",
       " -0.27344     0.42248    -0.174012      -0.527161   -0.227412   -0.76401\n",
       " -0.398861    0.616229   -0.252608      -0.768729   -0.331116   -1.1136\n",
       "  ⋮                                  ⋱               ⋮          \n",
       "  0.193391   -0.299329    0.142061   …   0.376431    0.170249    0.553534\n",
       "  0.048942   -0.0760686   0.0473306      0.0974182   0.048725    0.147986\n",
       "  0.196191   -0.303661    0.144046       0.381868    0.172679    0.5615\n",
       "  0.0451047  -0.0702012   0.0470927      0.0904377   0.046626    0.138795\n",
       "  0.456635   -0.705682    0.296171       0.881397    0.382534    1.27974\n",
       "  0.186119   -0.288076    0.136813   …   0.362295    0.163894    0.532787\n",
       "  0.603886   -0.933323    0.394519       1.16616     0.507297    1.69439\n",
       "  0.457792   -0.707481    0.297299       0.883702    0.38369     1.28325\n",
       "  0.045928   -0.0714657   0.0473457      0.0919736   0.0471765   0.140907\n",
       "  0.452084   -0.698634    0.292668       0.872509    0.378448    1.26661\n",
       "  0.194426   -0.300932    0.142828   …   0.378448    0.171164    0.556503\n",
       "  0.654594   -1.01207     0.440979       1.26661     0.556503    1.84593"
      ]
     },
     "execution_count": 83,
     "metadata": {},
     "output_type": "execute_result"
    }
   ],
   "source": [
    "x_b, y_b = popfirst!(Iterators.Stateful(dataloader))\n",
    "grads_b = jacobian(() -> loss_fn(x_b, y_b, agg=identity), Flux.params(model))\n",
    "g = transpose(reduce(hcat, grads_b))  # Q: could using permutedims make the next computation faster, because of BLAS-optimised multiplication, at a cost of an allocation?\n",
    "@tullio H_b[i, j, b] := g[i, b] * g[j, b]\n",
    "@tullio H[i, j] := g[i, b] * g[j, b]"
   ]
  },
  {
   "cell_type": "code",
   "execution_count": 84,
   "id": "62843fec-8b07-4478-918f-a1562949fdea",
   "metadata": {
    "tags": []
   },
   "outputs": [
    {
     "data": {
      "text/plain": [
       "97×97×2 Array{Float64, 3}:\n",
       "[:, :, 1] =\n",
       "  0.0466298  -0.0731264   0.0685022  …   0.0972467   0.0580242   0.157249\n",
       " -0.0731264   0.114679   -0.107427      -0.152505   -0.0909954  -0.246602\n",
       "  0.0685022  -0.107427    0.100634       0.142861    0.0852413   0.231008\n",
       "  0.0622403  -0.0976072   0.091435       0.129802    0.0774493   0.209891\n",
       "  0.0649918  -0.101922    0.095477       0.135541    0.0808731   0.21917\n",
       " -0.107891    0.169199   -0.158499   …  -0.225008   -0.134256   -0.363839\n",
       " -0.0800868   0.125595   -0.117653      -0.167021   -0.0996567  -0.270075\n",
       "  0.0650434  -0.102003    0.0955529      0.135648    0.0809373   0.219344\n",
       "  0.0405257  -0.0635537   0.0595349      0.0845165   0.0504286   0.136664\n",
       "  0.048361   -0.0758412   0.0710453      0.100857    0.0601784   0.163086\n",
       "  0.0854317  -0.133977    0.125505   …   0.178168    0.106308    0.288099\n",
       " -0.0559479   0.0877392  -0.082191      -0.116679   -0.0696192  -0.188672\n",
       " -0.080444    0.126155   -0.118177      -0.167766   -0.100101   -0.271279\n",
       "  ⋮                                  ⋱               ⋮          \n",
       "  0.057709   -0.0905011   0.0847782  …   0.120352    0.0718107   0.194611\n",
       "  0.0254738  -0.0399489   0.0374227      0.0531258   0.0316986   0.0859048\n",
       "  0.0584759  -0.0917037   0.0859048      0.121952    0.0727649   0.197197\n",
       "  0.0267941  -0.0420194   0.0393622      0.0558792   0.0333415   0.0903571\n",
       "  0.0987576  -0.154875    0.145081       0.205959    0.12289     0.333038\n",
       "  0.0556286  -0.0872385   0.0817219  …   0.116014    0.0692219   0.187595\n",
       "  0.133318   -0.209073    0.195852       0.278035    0.165895    0.449584\n",
       "  0.0993687  -0.155833    0.145979       0.207234    0.12365     0.335099\n",
       "  0.0267038  -0.0418778   0.0392296      0.0556909   0.0332291   0.0900526\n",
       "  0.0972467  -0.152505    0.142861       0.202808    0.12101     0.327942\n",
       "  0.0580242  -0.0909954   0.0852413  …   0.12101     0.072203    0.195674\n",
       "  0.157249   -0.246602    0.231008       0.327942    0.195674    0.530286\n",
       "\n",
       "[:, :, 2] =\n",
       "  0.188009   -0.289363    0.0793741   …   0.354837    0.136402    0.497346\n",
       " -0.289363    0.445358   -0.122165       -0.546129   -0.209936   -0.765463\n",
       "  0.0793741  -0.122165    0.0335105       0.149806    0.0575868   0.209971\n",
       "  0.0944476  -0.145364    0.0398742       0.178255    0.0685228   0.249846\n",
       "  0.260814   -0.401418    0.110111        0.492247    0.189223    0.689941\n",
       " -0.425841    0.655411   -0.179783    …  -0.80371    -0.308952   -1.12649\n",
       " -0.314894    0.484652   -0.132943       -0.594313   -0.228459   -0.832999\n",
       "  0.0926528  -0.142602    0.0391165       0.174868    0.0672206   0.245098\n",
       "  0.163421   -0.25152     0.0689935       0.308431    0.118563    0.432302\n",
       "  0.192767   -0.296687    0.081383        0.363818    0.139854    0.509933\n",
       "  0.341687   -0.525889    0.144255    …   0.644881    0.247898    0.903876\n",
       " -0.217492    0.334741   -0.0918214      -0.410482   -0.157793   -0.575338\n",
       " -0.318417    0.490074   -0.13443        -0.600962   -0.231015   -0.842318\n",
       "  ⋮                                   ⋱               ⋮          \n",
       "  0.135682   -0.208827    0.0572826   …   0.256079    0.0984386   0.358924\n",
       "  0.0234681  -0.0361197   0.00990786      0.0442925   0.0170264   0.062081\n",
       "  0.137716   -0.211958    0.0581413       0.259917    0.0999141   0.364304\n",
       "  0.0183106  -0.0281818   0.00773045      0.0345585   0.0132846   0.0484377\n",
       "  0.357877   -0.550808    0.15109         0.675438    0.259644    0.946705\n",
       "  0.130491   -0.200838    0.0550911   …   0.246281    0.0946724   0.345192\n",
       "  0.470568   -0.72425     0.198666        0.888125    0.341402    1.24481\n",
       "  0.358423   -0.551648    0.15132         0.676468    0.26004     0.948148\n",
       "  0.0192242  -0.0295879   0.00811614      0.0362827   0.0139474   0.0508545\n",
       "  0.354837   -0.546129    0.149806        0.669701    0.257438    0.938663\n",
       "  0.136402   -0.209936    0.0575868   …   0.257438    0.0989613   0.36083\n",
       "  0.497346   -0.765463    0.209971        0.938663    0.36083     1.31565"
      ]
     },
     "execution_count": 84,
     "metadata": {},
     "output_type": "execute_result"
    }
   ],
   "source": [
    "H_b"
   ]
  },
  {
   "cell_type": "code",
   "execution_count": 55,
   "id": "6f4bcd9c-4167-4b07-863d-afd1e7b88fa8",
   "metadata": {
    "tags": []
   },
   "outputs": [],
   "source": [
    "@assert isapprox(H, H_b[:, :, 1] + H_b[:, :, 2], atol=.05)"
   ]
  },
  {
   "cell_type": "markdown",
   "id": "5e2dd4c7-3d01-4080-976b-ef3286eec6e9",
   "metadata": {},
   "source": [
    "## Sanity check"
   ]
  },
  {
   "cell_type": "code",
   "execution_count": 29,
   "id": "0c869ea6-6d66-49de-b649-2b7b127858bb",
   "metadata": {
    "tags": []
   },
   "outputs": [
    {
     "data": {
      "text/plain": [
       "zip([[4.106280607376283], [6.010951579134826], [1.598980200741864], [2.2479266661360686], [6.962465892992986], [5.014384890315042], [1.5203935008196803], [2.752723471881124], [7.842730317822702], [0.5839948971794966]  …  [6.407172910327908], [1.567122721199392], [2.031453643468951], [5.542382690291416], [7.647549658288734], [7.102315492484444], [2.9070920012567933], [6.986928671107367], [1.0554380609224312], [3.8831232378143596]], [-0.6633678850542059, -0.5713989294786477, 0.918832580309967, 1.1495592170042044, 0.946186766893252, -0.9413792229132284, 1.241716886406579, 0.32793685731772904, 1.1142483415753355, 0.6631377729683705  …  -0.36887005450656846, 1.1307675751206927, 0.7415871171392698, -0.09842602960460278, 0.9285248433201474, 0.31013567975906786, 0.4090592836123378, 0.17182274055739016, 1.2493265747830606, -0.2701146842116376])"
      ]
     },
     "execution_count": 29,
     "metadata": {},
     "output_type": "execute_result"
    }
   ],
   "source": [
    "data"
   ]
  },
  {
   "cell_type": "code",
   "execution_count": 81,
   "id": "9ac2845b-1642-4394-b261-9e3908988049",
   "metadata": {
    "tags": []
   },
   "outputs": [
    {
     "data": {
      "image/png": "[encoded data removed]",
      "image/svg+xml": [
       "<?xml version=\"1.0\" encoding=\"utf-8\"?>\n",
       "<svg xmlns=\"http://www.w3.org/2000/svg\" xmlns:xlink=\"http://www.w3.org/1999/xlink\" width=\"600\" height=\"400\" viewBox=\"0 0 2400 1600\">\n",
       "<defs>\n",
       "  <clipPath id=\"clip930\">\n",
       "    <rect x=\"0\" y=\"0\" width=\"2400\" height=\"1600\"/>\n",
       "  </clipPath>\n",
       "</defs>\n",
       "<path clip-path=\"url(#clip930)\" d=\"M0 1600 L2400 1600 L2400 0 L0 0  Z\" fill=\"#ffffff\" fill-rule=\"evenodd\" fill-opacity=\"1\"/>\n",
       "<defs>\n",
       "  <clipPath id=\"clip931\">\n",
       "    <rect x=\"480\" y=\"0\" width=\"1681\" height=\"1600\"/>\n",
       "  </clipPath>\n",
       "</defs>\n",
       "<path clip-path=\"url(#clip930)\" d=\"M147.478 1486.45 L2352.76 1486.45 L2352.76 47.2441 L147.478 47.2441  Z\" fill=\"#ffffff\" fill-rule=\"evenodd\" fill-opacity=\"1\"/>\n",
       "<defs>\n",
       "  <clipPath id=\"clip932\">\n",
       "    <rect x=\"147\" y=\"47\" width=\"2206\" height=\"1440\"/>\n",
       "  </clipPath>\n",
       "</defs>\n",
       "<polyline clip-path=\"url(#clip932)\" style=\"stroke:#000000; stroke-linecap:round; stroke-linejoin:round; stroke-width:2; stroke-opacity:0.1; fill:none\" points=\"370.047,1486.45 370.047,47.2441 \"/>\n",
       "<polyline clip-path=\"url(#clip932)\" style=\"stroke:#000000; stroke-linecap:round; stroke-linejoin:round; stroke-width:2; stroke-opacity:0.1; fill:none\" points=\"818.212,1486.45 818.212,47.2441 \"/>\n",
       "<polyline clip-path=\"url(#clip932)\" style=\"stroke:#000000; stroke-linecap:round; stroke-linejoin:round; stroke-width:2; stroke-opacity:0.1; fill:none\" points=\"1266.38,1486.45 1266.38,47.2441 \"/>\n",
       "<polyline clip-path=\"url(#clip932)\" style=\"stroke:#000000; stroke-linecap:round; stroke-linejoin:round; stroke-width:2; stroke-opacity:0.1; fill:none\" points=\"1714.54,1486.45 1714.54,47.2441 \"/>\n",
       "<polyline clip-path=\"url(#clip932)\" style=\"stroke:#000000; stroke-linecap:round; stroke-linejoin:round; stroke-width:2; stroke-opacity:0.1; fill:none\" points=\"2162.71,1486.45 2162.71,47.2441 \"/>\n",
       "<polyline clip-path=\"url(#clip930)\" style=\"stroke:#000000; stroke-linecap:round; stroke-linejoin:round; stroke-width:4; stroke-opacity:1; fill:none\" points=\"147.478,1486.45 2352.76,1486.45 \"/>\n",
       "<polyline clip-path=\"url(#clip930)\" style=\"stroke:#000000; stroke-linecap:round; stroke-linejoin:round; stroke-width:4; stroke-opacity:1; fill:none\" points=\"370.047,1486.45 370.047,1467.55 \"/>\n",
       "<polyline clip-path=\"url(#clip930)\" style=\"stroke:#000000; stroke-linecap:round; stroke-linejoin:round; stroke-width:4; stroke-opacity:1; fill:none\" points=\"818.212,1486.45 818.212,1467.55 \"/>\n",
       "<polyline clip-path=\"url(#clip930)\" style=\"stroke:#000000; stroke-linecap:round; stroke-linejoin:round; stroke-width:4; stroke-opacity:1; fill:none\" points=\"1266.38,1486.45 1266.38,1467.55 \"/>\n",
       "<polyline clip-path=\"url(#clip930)\" style=\"stroke:#000000; stroke-linecap:round; stroke-linejoin:round; stroke-width:4; stroke-opacity:1; fill:none\" points=\"1714.54,1486.45 1714.54,1467.55 \"/>\n",
       "<polyline clip-path=\"url(#clip930)\" style=\"stroke:#000000; stroke-linecap:round; stroke-linejoin:round; stroke-width:4; stroke-opacity:1; fill:none\" points=\"2162.71,1486.45 2162.71,1467.55 \"/>\n",
       "<path clip-path=\"url(#clip930)\" d=\"M370.047 1517.37 Q366.436 1517.37 364.608 1520.93 Q362.802 1524.47 362.802 1531.6 Q362.802 1538.71 364.608 1542.27 Q366.436 1545.82 370.047 1545.82 Q373.682 1545.82 375.487 1542.27 Q377.316 1538.71 377.316 1531.6 Q377.316 1524.47 375.487 1520.93 Q373.682 1517.37 370.047 1517.37 M370.047 1513.66 Q375.858 1513.66 378.913 1518.27 Q381.992 1522.85 381.992 1531.6 Q381.992 1540.33 378.913 1544.94 Q375.858 1549.52 370.047 1549.52 Q364.237 1549.52 361.159 1544.94 Q358.103 1540.33 358.103 1531.6 Q358.103 1522.85 361.159 1518.27 Q364.237 1513.66 370.047 1513.66 Z\" fill=\"#000000\" fill-rule=\"nonzero\" fill-opacity=\"1\" /><path clip-path=\"url(#clip930)\" d=\"M812.865 1544.91 L829.184 1544.91 L829.184 1548.85 L807.24 1548.85 L807.24 1544.91 Q809.902 1542.16 814.485 1537.53 Q819.092 1532.88 820.272 1531.53 Q822.518 1529.01 823.397 1527.27 Q824.3 1525.51 824.3 1523.82 Q824.3 1521.07 822.356 1519.33 Q820.434 1517.6 817.333 1517.6 Q815.133 1517.6 812.68 1518.36 Q810.249 1519.13 807.471 1520.68 L807.471 1515.95 Q810.296 1514.82 812.749 1514.24 Q815.203 1513.66 817.24 1513.66 Q822.61 1513.66 825.805 1516.35 Q828.999 1519.03 828.999 1523.52 Q828.999 1525.65 828.189 1527.57 Q827.402 1529.47 825.295 1532.07 Q824.717 1532.74 821.615 1535.95 Q818.513 1539.15 812.865 1544.91 Z\" fill=\"#000000\" fill-rule=\"nonzero\" fill-opacity=\"1\" /><path clip-path=\"url(#clip930)\" d=\"M1269.39 1518.36 L1257.58 1536.81 L1269.39 1536.81 L1269.39 1518.36 M1268.16 1514.29 L1274.04 1514.29 L1274.04 1536.81 L1278.97 1536.81 L1278.97 1540.7 L1274.04 1540.7 L1274.04 1548.85 L1269.39 1548.85 L1269.39 1540.7 L1253.78 1540.7 L1253.78 1536.19 L1268.16 1514.29 Z\" fill=\"#000000\" fill-rule=\"nonzero\" fill-opacity=\"1\" /><path clip-path=\"url(#clip930)\" d=\"M1714.95 1529.7 Q1711.8 1529.7 1709.95 1531.86 Q1708.12 1534.01 1708.12 1537.76 Q1708.12 1541.49 1709.95 1543.66 Q1711.8 1545.82 1714.95 1545.82 Q1718.09 1545.82 1719.92 1543.66 Q1721.78 1541.49 1721.78 1537.76 Q1721.78 1534.01 1719.92 1531.86 Q1718.09 1529.7 1714.95 1529.7 M1724.23 1515.05 L1724.23 1519.31 Q1722.47 1518.48 1720.66 1518.04 Q1718.88 1517.6 1717.12 1517.6 Q1712.49 1517.6 1710.04 1520.72 Q1707.61 1523.85 1707.26 1530.17 Q1708.63 1528.15 1710.69 1527.09 Q1712.75 1526 1715.22 1526 Q1720.43 1526 1723.44 1529.17 Q1726.47 1532.32 1726.47 1537.76 Q1726.47 1543.08 1723.33 1546.3 Q1720.18 1549.52 1714.95 1549.52 Q1708.95 1549.52 1705.78 1544.94 Q1702.61 1540.33 1702.61 1531.6 Q1702.61 1523.41 1706.5 1518.55 Q1710.39 1513.66 1716.94 1513.66 Q1718.7 1513.66 1720.48 1514.01 Q1722.28 1514.36 1724.23 1515.05 Z\" fill=\"#000000\" fill-rule=\"nonzero\" fill-opacity=\"1\" /><path clip-path=\"url(#clip930)\" d=\"M2162.71 1532.44 Q2159.37 1532.44 2157.45 1534.22 Q2155.55 1536 2155.55 1539.13 Q2155.55 1542.25 2157.45 1544.03 Q2159.37 1545.82 2162.71 1545.82 Q2166.04 1545.82 2167.96 1544.03 Q2169.88 1542.23 2169.88 1539.13 Q2169.88 1536 2167.96 1534.22 Q2166.06 1532.44 2162.71 1532.44 M2158.03 1530.45 Q2155.02 1529.7 2153.33 1527.64 Q2151.66 1525.58 2151.66 1522.62 Q2151.66 1518.48 2154.6 1516.07 Q2157.57 1513.66 2162.71 1513.66 Q2167.87 1513.66 2170.81 1516.07 Q2173.75 1518.48 2173.75 1522.62 Q2173.75 1525.58 2172.06 1527.64 Q2170.39 1529.7 2167.41 1530.45 Q2170.79 1531.23 2172.66 1533.52 Q2174.56 1535.82 2174.56 1539.13 Q2174.56 1544.15 2171.48 1546.83 Q2168.42 1549.52 2162.71 1549.52 Q2156.99 1549.52 2153.91 1546.83 Q2150.85 1544.15 2150.85 1539.13 Q2150.85 1535.82 2152.75 1533.52 Q2154.65 1531.23 2158.03 1530.45 M2156.32 1523.06 Q2156.32 1525.75 2157.98 1527.25 Q2159.67 1528.76 2162.71 1528.76 Q2165.72 1528.76 2167.41 1527.25 Q2169.12 1525.75 2169.12 1523.06 Q2169.12 1520.38 2167.41 1518.87 Q2165.72 1517.37 2162.71 1517.37 Q2159.67 1517.37 2157.98 1518.87 Q2156.32 1520.38 2156.32 1523.06 Z\" fill=\"#000000\" fill-rule=\"nonzero\" fill-opacity=\"1\" /><polyline clip-path=\"url(#clip932)\" style=\"stroke:#000000; stroke-linecap:round; stroke-linejoin:round; stroke-width:2; stroke-opacity:0.1; fill:none\" points=\"147.478,1311.59 2352.76,1311.59 \"/>\n",
       "<polyline clip-path=\"url(#clip932)\" style=\"stroke:#000000; stroke-linecap:round; stroke-linejoin:round; stroke-width:2; stroke-opacity:0.1; fill:none\" points=\"147.478,1033.62 2352.76,1033.62 \"/>\n",
       "<polyline clip-path=\"url(#clip932)\" style=\"stroke:#000000; stroke-linecap:round; stroke-linejoin:round; stroke-width:2; stroke-opacity:0.1; fill:none\" points=\"147.478,755.641 2352.76,755.641 \"/>\n",
       "<polyline clip-path=\"url(#clip932)\" style=\"stroke:#000000; stroke-linecap:round; stroke-linejoin:round; stroke-width:2; stroke-opacity:0.1; fill:none\" points=\"147.478,477.664 2352.76,477.664 \"/>\n",
       "<polyline clip-path=\"url(#clip932)\" style=\"stroke:#000000; stroke-linecap:round; stroke-linejoin:round; stroke-width:2; stroke-opacity:0.1; fill:none\" points=\"147.478,199.687 2352.76,199.687 \"/>\n",
       "<polyline clip-path=\"url(#clip930)\" style=\"stroke:#000000; stroke-linecap:round; stroke-linejoin:round; stroke-width:4; stroke-opacity:1; fill:none\" points=\"147.478,1486.45 147.478,47.2441 \"/>\n",
       "<polyline clip-path=\"url(#clip930)\" style=\"stroke:#000000; stroke-linecap:round; stroke-linejoin:round; stroke-width:4; stroke-opacity:1; fill:none\" points=\"147.478,1311.59 166.376,1311.59 \"/>\n",
       "<polyline clip-path=\"url(#clip930)\" style=\"stroke:#000000; stroke-linecap:round; stroke-linejoin:round; stroke-width:4; stroke-opacity:1; fill:none\" points=\"147.478,1033.62 166.376,1033.62 \"/>\n",
       "<polyline clip-path=\"url(#clip930)\" style=\"stroke:#000000; stroke-linecap:round; stroke-linejoin:round; stroke-width:4; stroke-opacity:1; fill:none\" points=\"147.478,755.641 166.376,755.641 \"/>\n",
       "<polyline clip-path=\"url(#clip930)\" style=\"stroke:#000000; stroke-linecap:round; stroke-linejoin:round; stroke-width:4; stroke-opacity:1; fill:none\" points=\"147.478,477.664 166.376,477.664 \"/>\n",
       "<polyline clip-path=\"url(#clip930)\" style=\"stroke:#000000; stroke-linecap:round; stroke-linejoin:round; stroke-width:4; stroke-opacity:1; fill:none\" points=\"147.478,199.687 166.376,199.687 \"/>\n",
       "<path clip-path=\"url(#clip930)\" d=\"M51.3625 1312.05 L81.0383 1312.05 L81.0383 1315.98 L51.3625 1315.98 L51.3625 1312.05 Z\" fill=\"#000000\" fill-rule=\"nonzero\" fill-opacity=\"1\" /><path clip-path=\"url(#clip930)\" d=\"M95.1586 1324.94 L111.478 1324.94 L111.478 1328.87 L89.5336 1328.87 L89.5336 1324.94 Q92.1956 1322.18 96.7789 1317.56 Q101.385 1312.9 102.566 1311.56 Q104.811 1309.04 105.691 1307.3 Q106.594 1305.54 106.594 1303.85 Q106.594 1301.1 104.649 1299.36 Q102.728 1297.62 99.6261 1297.62 Q97.4271 1297.62 94.9734 1298.39 Q92.5428 1299.15 89.7651 1300.7 L89.7651 1295.98 Q92.5891 1294.85 95.0428 1294.27 Q97.4965 1293.69 99.5335 1293.69 Q104.904 1293.69 108.098 1296.37 Q111.293 1299.06 111.293 1303.55 Q111.293 1305.68 110.483 1307.6 Q109.696 1309.5 107.589 1312.09 Q107.01 1312.76 103.909 1315.98 Q100.807 1319.18 95.1586 1324.94 Z\" fill=\"#000000\" fill-rule=\"nonzero\" fill-opacity=\"1\" /><path clip-path=\"url(#clip930)\" d=\"M50.9921 1034.07 L80.6679 1034.07 L80.6679 1038 L50.9921 1038 L50.9921 1034.07 Z\" fill=\"#000000\" fill-rule=\"nonzero\" fill-opacity=\"1\" /><path clip-path=\"url(#clip930)\" d=\"M91.5706 1046.96 L99.2095 1046.96 L99.2095 1020.6 L90.8993 1022.26 L90.8993 1018 L99.1632 1016.34 L103.839 1016.34 L103.839 1046.96 L111.478 1046.96 L111.478 1050.9 L91.5706 1050.9 L91.5706 1046.96 Z\" fill=\"#000000\" fill-rule=\"nonzero\" fill-opacity=\"1\" /><path clip-path=\"url(#clip930)\" d=\"M99.5335 741.44 Q95.9224 741.44 94.0937 745.004 Q92.2882 748.546 92.2882 755.676 Q92.2882 762.782 94.0937 766.347 Q95.9224 769.889 99.5335 769.889 Q103.168 769.889 104.973 766.347 Q106.802 762.782 106.802 755.676 Q106.802 748.546 104.973 745.004 Q103.168 741.44 99.5335 741.44 M99.5335 737.736 Q105.344 737.736 108.399 742.342 Q111.478 746.926 111.478 755.676 Q111.478 764.402 108.399 769.009 Q105.344 773.592 99.5335 773.592 Q93.7234 773.592 90.6447 769.009 Q87.5892 764.402 87.5892 755.676 Q87.5892 746.926 90.6447 742.342 Q93.7234 737.736 99.5335 737.736 Z\" fill=\"#000000\" fill-rule=\"nonzero\" fill-opacity=\"1\" /><path clip-path=\"url(#clip930)\" d=\"M91.5706 491.009 L99.2095 491.009 L99.2095 464.643 L90.8993 466.31 L90.8993 462.051 L99.1632 460.384 L103.839 460.384 L103.839 491.009 L111.478 491.009 L111.478 494.944 L91.5706 494.944 L91.5706 491.009 Z\" fill=\"#000000\" fill-rule=\"nonzero\" fill-opacity=\"1\" /><path clip-path=\"url(#clip930)\" d=\"M95.1586 213.032 L111.478 213.032 L111.478 216.967 L89.5336 216.967 L89.5336 213.032 Q92.1956 210.277 96.7789 205.648 Q101.385 200.995 102.566 199.653 Q104.811 197.129 105.691 195.393 Q106.594 193.634 106.594 191.944 Q106.594 189.19 104.649 187.453 Q102.728 185.717 99.6261 185.717 Q97.4271 185.717 94.9734 186.481 Q92.5428 187.245 89.7651 188.796 L89.7651 184.074 Q92.5891 182.94 95.0428 182.361 Q97.4965 181.782 99.5335 181.782 Q104.904 181.782 108.098 184.467 Q111.293 187.153 111.293 191.643 Q111.293 193.773 110.483 195.694 Q109.696 197.592 107.589 200.185 Q107.01 200.856 103.909 204.074 Q100.807 207.268 95.1586 213.032 Z\" fill=\"#000000\" fill-rule=\"nonzero\" fill-opacity=\"1\" /><circle clip-path=\"url(#clip932)\" cx=\"1290.19\" cy=\"940.042\" r=\"14.4\" fill=\"#009af9\" fill-rule=\"evenodd\" fill-opacity=\"1\" stroke=\"#000000\" stroke-opacity=\"1\" stroke-width=\"3.2\"/>\n",
       "<circle clip-path=\"url(#clip932)\" cx=\"1717\" cy=\"914.477\" r=\"14.4\" fill=\"#009af9\" fill-rule=\"evenodd\" fill-opacity=\"1\" stroke=\"#000000\" stroke-opacity=\"1\" stroke-width=\"3.2\"/>\n",
       "<circle clip-path=\"url(#clip932)\" cx=\"728.351\" cy=\"500.227\" r=\"14.4\" fill=\"#009af9\" fill-rule=\"evenodd\" fill-opacity=\"1\" stroke=\"#000000\" stroke-opacity=\"1\" stroke-width=\"3.2\"/>\n",
       "<circle clip-path=\"url(#clip932)\" cx=\"873.768\" cy=\"436.09\" r=\"14.4\" fill=\"#009af9\" fill-rule=\"evenodd\" fill-opacity=\"1\" stroke=\"#000000\" stroke-opacity=\"1\" stroke-width=\"3.2\"/>\n",
       "<circle clip-path=\"url(#clip932)\" cx=\"1930.21\" cy=\"492.623\" r=\"14.4\" fill=\"#009af9\" fill-rule=\"evenodd\" fill-opacity=\"1\" stroke=\"#000000\" stroke-opacity=\"1\" stroke-width=\"3.2\"/>\n",
       "<circle clip-path=\"url(#clip932)\" cx=\"1493.68\" cy=\"1017.32\" r=\"14.4\" fill=\"#009af9\" fill-rule=\"evenodd\" fill-opacity=\"1\" stroke=\"#000000\" stroke-opacity=\"1\" stroke-width=\"3.2\"/>\n",
       "<circle clip-path=\"url(#clip932)\" cx=\"710.741\" cy=\"410.472\" r=\"14.4\" fill=\"#009af9\" fill-rule=\"evenodd\" fill-opacity=\"1\" stroke=\"#000000\" stroke-opacity=\"1\" stroke-width=\"3.2\"/>\n",
       "<circle clip-path=\"url(#clip932)\" cx=\"986.884\" cy=\"664.482\" r=\"14.4\" fill=\"#009af9\" fill-rule=\"evenodd\" fill-opacity=\"1\" stroke=\"#000000\" stroke-opacity=\"1\" stroke-width=\"3.2\"/>\n",
       "<circle clip-path=\"url(#clip932)\" cx=\"2127.47\" cy=\"445.906\" r=\"14.4\" fill=\"#009af9\" fill-rule=\"evenodd\" fill-opacity=\"1\" stroke=\"#000000\" stroke-opacity=\"1\" stroke-width=\"3.2\"/>\n",
       "<circle clip-path=\"url(#clip932)\" cx=\"500.91\" cy=\"571.304\" r=\"14.4\" fill=\"#009af9\" fill-rule=\"evenodd\" fill-opacity=\"1\" stroke=\"#000000\" stroke-opacity=\"1\" stroke-width=\"3.2\"/>\n",
       "<circle clip-path=\"url(#clip932)\" cx=\"393.235\" cy=\"757.85\" r=\"14.4\" fill=\"#009af9\" fill-rule=\"evenodd\" fill-opacity=\"1\" stroke=\"#000000\" stroke-opacity=\"1\" stroke-width=\"3.2\"/>\n",
       "<circle clip-path=\"url(#clip932)\" cx=\"885.653\" cy=\"554.681\" r=\"14.4\" fill=\"#009af9\" fill-rule=\"evenodd\" fill-opacity=\"1\" stroke=\"#000000\" stroke-opacity=\"1\" stroke-width=\"3.2\"/>\n",
       "<circle clip-path=\"url(#clip932)\" cx=\"805.859\" cy=\"343.296\" r=\"14.4\" fill=\"#009af9\" fill-rule=\"evenodd\" fill-opacity=\"1\" stroke=\"#000000\" stroke-opacity=\"1\" stroke-width=\"3.2\"/>\n",
       "<circle clip-path=\"url(#clip932)\" cx=\"1307.94\" cy=\"988.662\" r=\"14.4\" fill=\"#009af9\" fill-rule=\"evenodd\" fill-opacity=\"1\" stroke=\"#000000\" stroke-opacity=\"1\" stroke-width=\"3.2\"/>\n",
       "<circle clip-path=\"url(#clip932)\" cx=\"1827.29\" cy=\"763.173\" r=\"14.4\" fill=\"#009af9\" fill-rule=\"evenodd\" fill-opacity=\"1\" stroke=\"#000000\" stroke-opacity=\"1\" stroke-width=\"3.2\"/>\n",
       "<circle clip-path=\"url(#clip932)\" cx=\"1900.2\" cy=\"480.053\" r=\"14.4\" fill=\"#009af9\" fill-rule=\"evenodd\" fill-opacity=\"1\" stroke=\"#000000\" stroke-opacity=\"1\" stroke-width=\"3.2\"/>\n",
       "<circle clip-path=\"url(#clip932)\" cx=\"1273.82\" cy=\"943.805\" r=\"14.4\" fill=\"#009af9\" fill-rule=\"evenodd\" fill-opacity=\"1\" stroke=\"#000000\" stroke-opacity=\"1\" stroke-width=\"3.2\"/>\n",
       "<circle clip-path=\"url(#clip932)\" cx=\"371.56\" cy=\"718.536\" r=\"14.4\" fill=\"#009af9\" fill-rule=\"evenodd\" fill-opacity=\"1\" stroke=\"#000000\" stroke-opacity=\"1\" stroke-width=\"3.2\"/>\n",
       "<circle clip-path=\"url(#clip932)\" cx=\"1664.43\" cy=\"839.217\" r=\"14.4\" fill=\"#009af9\" fill-rule=\"evenodd\" fill-opacity=\"1\" stroke=\"#000000\" stroke-opacity=\"1\" stroke-width=\"3.2\"/>\n",
       "<circle clip-path=\"url(#clip932)\" cx=\"1290.97\" cy=\"858.238\" r=\"14.4\" fill=\"#009af9\" fill-rule=\"evenodd\" fill-opacity=\"1\" stroke=\"#000000\" stroke-opacity=\"1\" stroke-width=\"3.2\"/>\n",
       "<circle clip-path=\"url(#clip932)\" cx=\"1825.56\" cy=\"850.533\" r=\"14.4\" fill=\"#009af9\" fill-rule=\"evenodd\" fill-opacity=\"1\" stroke=\"#000000\" stroke-opacity=\"1\" stroke-width=\"3.2\"/>\n",
       "<circle clip-path=\"url(#clip932)\" cx=\"1544.16\" cy=\"984.255\" r=\"14.4\" fill=\"#009af9\" fill-rule=\"evenodd\" fill-opacity=\"1\" stroke=\"#000000\" stroke-opacity=\"1\" stroke-width=\"3.2\"/>\n",
       "<circle clip-path=\"url(#clip932)\" cx=\"571.934\" cy=\"590.267\" r=\"14.4\" fill=\"#009af9\" fill-rule=\"evenodd\" fill-opacity=\"1\" stroke=\"#000000\" stroke-opacity=\"1\" stroke-width=\"3.2\"/>\n",
       "<circle clip-path=\"url(#clip932)\" cx=\"640.505\" cy=\"325.221\" r=\"14.4\" fill=\"#009af9\" fill-rule=\"evenodd\" fill-opacity=\"1\" stroke=\"#000000\" stroke-opacity=\"1\" stroke-width=\"3.2\"/>\n",
       "<circle clip-path=\"url(#clip932)\" cx=\"1350.13\" cy=\"943.024\" r=\"14.4\" fill=\"#009af9\" fill-rule=\"evenodd\" fill-opacity=\"1\" stroke=\"#000000\" stroke-opacity=\"1\" stroke-width=\"3.2\"/>\n",
       "<circle clip-path=\"url(#clip932)\" cx=\"1484.98\" cy=\"888.247\" r=\"14.4\" fill=\"#009af9\" fill-rule=\"evenodd\" fill-opacity=\"1\" stroke=\"#000000\" stroke-opacity=\"1\" stroke-width=\"3.2\"/>\n",
       "<circle clip-path=\"url(#clip932)\" cx=\"2041.04\" cy=\"406.954\" r=\"14.4\" fill=\"#009af9\" fill-rule=\"evenodd\" fill-opacity=\"1\" stroke=\"#000000\" stroke-opacity=\"1\" stroke-width=\"3.2\"/>\n",
       "<circle clip-path=\"url(#clip932)\" cx=\"2061.9\" cy=\"597.551\" r=\"14.4\" fill=\"#009af9\" fill-rule=\"evenodd\" fill-opacity=\"1\" stroke=\"#000000\" stroke-opacity=\"1\" stroke-width=\"3.2\"/>\n",
       "<circle clip-path=\"url(#clip932)\" cx=\"743.353\" cy=\"528.412\" r=\"14.4\" fill=\"#009af9\" fill-rule=\"evenodd\" fill-opacity=\"1\" stroke=\"#000000\" stroke-opacity=\"1\" stroke-width=\"3.2\"/>\n",
       "<circle clip-path=\"url(#clip932)\" cx=\"491.3\" cy=\"516.967\" r=\"14.4\" fill=\"#009af9\" fill-rule=\"evenodd\" fill-opacity=\"1\" stroke=\"#000000\" stroke-opacity=\"1\" stroke-width=\"3.2\"/>\n",
       "<circle clip-path=\"url(#clip932)\" cx=\"1494.95\" cy=\"1040.68\" r=\"14.4\" fill=\"#009af9\" fill-rule=\"evenodd\" fill-opacity=\"1\" stroke=\"#000000\" stroke-opacity=\"1\" stroke-width=\"3.2\"/>\n",
       "<circle clip-path=\"url(#clip932)\" cx=\"1575.25\" cy=\"1011.99\" r=\"14.4\" fill=\"#009af9\" fill-rule=\"evenodd\" fill-opacity=\"1\" stroke=\"#000000\" stroke-opacity=\"1\" stroke-width=\"3.2\"/>\n",
       "<circle clip-path=\"url(#clip932)\" cx=\"482.861\" cy=\"635.52\" r=\"14.4\" fill=\"#009af9\" fill-rule=\"evenodd\" fill-opacity=\"1\" stroke=\"#000000\" stroke-opacity=\"1\" stroke-width=\"3.2\"/>\n",
       "<circle clip-path=\"url(#clip932)\" cx=\"1457.18\" cy=\"1208.47\" r=\"14.4\" fill=\"#009af9\" fill-rule=\"evenodd\" fill-opacity=\"1\" stroke=\"#000000\" stroke-opacity=\"1\" stroke-width=\"3.2\"/>\n",
       "<circle clip-path=\"url(#clip932)\" cx=\"713.126\" cy=\"493.313\" r=\"14.4\" fill=\"#009af9\" fill-rule=\"evenodd\" fill-opacity=\"1\" stroke=\"#000000\" stroke-opacity=\"1\" stroke-width=\"3.2\"/>\n",
       "<circle clip-path=\"url(#clip932)\" cx=\"946.877\" cy=\"598.718\" r=\"14.4\" fill=\"#009af9\" fill-rule=\"evenodd\" fill-opacity=\"1\" stroke=\"#000000\" stroke-opacity=\"1\" stroke-width=\"3.2\"/>\n",
       "<circle clip-path=\"url(#clip932)\" cx=\"800.33\" cy=\"522.173\" r=\"14.4\" fill=\"#009af9\" fill-rule=\"evenodd\" fill-opacity=\"1\" stroke=\"#000000\" stroke-opacity=\"1\" stroke-width=\"3.2\"/>\n",
       "<circle clip-path=\"url(#clip932)\" cx=\"399.554\" cy=\"698.663\" r=\"14.4\" fill=\"#009af9\" fill-rule=\"evenodd\" fill-opacity=\"1\" stroke=\"#000000\" stroke-opacity=\"1\" stroke-width=\"3.2\"/>\n",
       "<circle clip-path=\"url(#clip932)\" cx=\"1237.05\" cy=\"872.787\" r=\"14.4\" fill=\"#009af9\" fill-rule=\"evenodd\" fill-opacity=\"1\" stroke=\"#000000\" stroke-opacity=\"1\" stroke-width=\"3.2\"/>\n",
       "<circle clip-path=\"url(#clip932)\" cx=\"1986.01\" cy=\"532.335\" r=\"14.4\" fill=\"#009af9\" fill-rule=\"evenodd\" fill-opacity=\"1\" stroke=\"#000000\" stroke-opacity=\"1\" stroke-width=\"3.2\"/>\n",
       "<circle clip-path=\"url(#clip932)\" cx=\"459.51\" cy=\"624.14\" r=\"14.4\" fill=\"#009af9\" fill-rule=\"evenodd\" fill-opacity=\"1\" stroke=\"#000000\" stroke-opacity=\"1\" stroke-width=\"3.2\"/>\n",
       "<circle clip-path=\"url(#clip932)\" cx=\"1793.47\" cy=\"665.759\" r=\"14.4\" fill=\"#009af9\" fill-rule=\"evenodd\" fill-opacity=\"1\" stroke=\"#000000\" stroke-opacity=\"1\" stroke-width=\"3.2\"/>\n",
       "<circle clip-path=\"url(#clip932)\" cx=\"445.421\" cy=\"738.933\" r=\"14.4\" fill=\"#009af9\" fill-rule=\"evenodd\" fill-opacity=\"1\" stroke=\"#000000\" stroke-opacity=\"1\" stroke-width=\"3.2\"/>\n",
       "<circle clip-path=\"url(#clip932)\" cx=\"1539.33\" cy=\"942.868\" r=\"14.4\" fill=\"#009af9\" fill-rule=\"evenodd\" fill-opacity=\"1\" stroke=\"#000000\" stroke-opacity=\"1\" stroke-width=\"3.2\"/>\n",
       "<circle clip-path=\"url(#clip932)\" cx=\"724.402\" cy=\"368.741\" r=\"14.4\" fill=\"#009af9\" fill-rule=\"evenodd\" fill-opacity=\"1\" stroke=\"#000000\" stroke-opacity=\"1\" stroke-width=\"3.2\"/>\n",
       "<circle clip-path=\"url(#clip932)\" cx=\"1919.29\" cy=\"654.857\" r=\"14.4\" fill=\"#009af9\" fill-rule=\"evenodd\" fill-opacity=\"1\" stroke=\"#000000\" stroke-opacity=\"1\" stroke-width=\"3.2\"/>\n",
       "<circle clip-path=\"url(#clip932)\" cx=\"1827.67\" cy=\"712.707\" r=\"14.4\" fill=\"#009af9\" fill-rule=\"evenodd\" fill-opacity=\"1\" stroke=\"#000000\" stroke-opacity=\"1\" stroke-width=\"3.2\"/>\n",
       "<circle clip-path=\"url(#clip932)\" cx=\"2128.67\" cy=\"441.463\" r=\"14.4\" fill=\"#009af9\" fill-rule=\"evenodd\" fill-opacity=\"1\" stroke=\"#000000\" stroke-opacity=\"1\" stroke-width=\"3.2\"/>\n",
       "<circle clip-path=\"url(#clip932)\" cx=\"905.748\" cy=\"626.567\" r=\"14.4\" fill=\"#009af9\" fill-rule=\"evenodd\" fill-opacity=\"1\" stroke=\"#000000\" stroke-opacity=\"1\" stroke-width=\"3.2\"/>\n",
       "<circle clip-path=\"url(#clip932)\" cx=\"374.389\" cy=\"820.81\" r=\"14.4\" fill=\"#009af9\" fill-rule=\"evenodd\" fill-opacity=\"1\" stroke=\"#000000\" stroke-opacity=\"1\" stroke-width=\"3.2\"/>\n",
       "<circle clip-path=\"url(#clip932)\" cx=\"1249.05\" cy=\"940.226\" r=\"14.4\" fill=\"#009af9\" fill-rule=\"evenodd\" fill-opacity=\"1\" stroke=\"#000000\" stroke-opacity=\"1\" stroke-width=\"3.2\"/>\n",
       "<circle clip-path=\"url(#clip932)\" cx=\"878.176\" cy=\"638.294\" r=\"14.4\" fill=\"#009af9\" fill-rule=\"evenodd\" fill-opacity=\"1\" stroke=\"#000000\" stroke-opacity=\"1\" stroke-width=\"3.2\"/>\n",
       "<circle clip-path=\"url(#clip932)\" cx=\"1373.63\" cy=\"875.875\" r=\"14.4\" fill=\"#009af9\" fill-rule=\"evenodd\" fill-opacity=\"1\" stroke=\"#000000\" stroke-opacity=\"1\" stroke-width=\"3.2\"/>\n",
       "<circle clip-path=\"url(#clip932)\" cx=\"1525.53\" cy=\"1149.16\" r=\"14.4\" fill=\"#009af9\" fill-rule=\"evenodd\" fill-opacity=\"1\" stroke=\"#000000\" stroke-opacity=\"1\" stroke-width=\"3.2\"/>\n",
       "<circle clip-path=\"url(#clip932)\" cx=\"1298.41\" cy=\"876.413\" r=\"14.4\" fill=\"#009af9\" fill-rule=\"evenodd\" fill-opacity=\"1\" stroke=\"#000000\" stroke-opacity=\"1\" stroke-width=\"3.2\"/>\n",
       "<circle clip-path=\"url(#clip932)\" cx=\"1037.1\" cy=\"677.877\" r=\"14.4\" fill=\"#009af9\" fill-rule=\"evenodd\" fill-opacity=\"1\" stroke=\"#000000\" stroke-opacity=\"1\" stroke-width=\"3.2\"/>\n",
       "<circle clip-path=\"url(#clip932)\" cx=\"1926.73\" cy=\"657.813\" r=\"14.4\" fill=\"#009af9\" fill-rule=\"evenodd\" fill-opacity=\"1\" stroke=\"#000000\" stroke-opacity=\"1\" stroke-width=\"3.2\"/>\n",
       "<circle clip-path=\"url(#clip932)\" cx=\"1792.5\" cy=\"709.911\" r=\"14.4\" fill=\"#009af9\" fill-rule=\"evenodd\" fill-opacity=\"1\" stroke=\"#000000\" stroke-opacity=\"1\" stroke-width=\"3.2\"/>\n",
       "<circle clip-path=\"url(#clip932)\" cx=\"1919\" cy=\"550.483\" r=\"14.4\" fill=\"#009af9\" fill-rule=\"evenodd\" fill-opacity=\"1\" stroke=\"#000000\" stroke-opacity=\"1\" stroke-width=\"3.2\"/>\n",
       "<circle clip-path=\"url(#clip932)\" cx=\"1889.56\" cy=\"640.38\" r=\"14.4\" fill=\"#009af9\" fill-rule=\"evenodd\" fill-opacity=\"1\" stroke=\"#000000\" stroke-opacity=\"1\" stroke-width=\"3.2\"/>\n",
       "<circle clip-path=\"url(#clip932)\" cx=\"1313.05\" cy=\"982.216\" r=\"14.4\" fill=\"#009af9\" fill-rule=\"evenodd\" fill-opacity=\"1\" stroke=\"#000000\" stroke-opacity=\"1\" stroke-width=\"3.2\"/>\n",
       "<circle clip-path=\"url(#clip932)\" cx=\"2018.8\" cy=\"559.538\" r=\"14.4\" fill=\"#009af9\" fill-rule=\"evenodd\" fill-opacity=\"1\" stroke=\"#000000\" stroke-opacity=\"1\" stroke-width=\"3.2\"/>\n",
       "<circle clip-path=\"url(#clip932)\" cx=\"1687.02\" cy=\"1048.59\" r=\"14.4\" fill=\"#009af9\" fill-rule=\"evenodd\" fill-opacity=\"1\" stroke=\"#000000\" stroke-opacity=\"1\" stroke-width=\"3.2\"/>\n",
       "<circle clip-path=\"url(#clip932)\" cx=\"2087.68\" cy=\"433.352\" r=\"14.4\" fill=\"#009af9\" fill-rule=\"evenodd\" fill-opacity=\"1\" stroke=\"#000000\" stroke-opacity=\"1\" stroke-width=\"3.2\"/>\n",
       "<circle clip-path=\"url(#clip932)\" cx=\"678.337\" cy=\"383.519\" r=\"14.4\" fill=\"#009af9\" fill-rule=\"evenodd\" fill-opacity=\"1\" stroke=\"#000000\" stroke-opacity=\"1\" stroke-width=\"3.2\"/>\n",
       "<circle clip-path=\"url(#clip932)\" cx=\"1414.23\" cy=\"914.599\" r=\"14.4\" fill=\"#009af9\" fill-rule=\"evenodd\" fill-opacity=\"1\" stroke=\"#000000\" stroke-opacity=\"1\" stroke-width=\"3.2\"/>\n",
       "<circle clip-path=\"url(#clip932)\" cx=\"814.305\" cy=\"329.026\" r=\"14.4\" fill=\"#009af9\" fill-rule=\"evenodd\" fill-opacity=\"1\" stroke=\"#000000\" stroke-opacity=\"1\" stroke-width=\"3.2\"/>\n",
       "<circle clip-path=\"url(#clip932)\" cx=\"516.799\" cy=\"448.006\" r=\"14.4\" fill=\"#009af9\" fill-rule=\"evenodd\" fill-opacity=\"1\" stroke=\"#000000\" stroke-opacity=\"1\" stroke-width=\"3.2\"/>\n",
       "<circle clip-path=\"url(#clip932)\" cx=\"673.332\" cy=\"409.799\" r=\"14.4\" fill=\"#009af9\" fill-rule=\"evenodd\" fill-opacity=\"1\" stroke=\"#000000\" stroke-opacity=\"1\" stroke-width=\"3.2\"/>\n",
       "<circle clip-path=\"url(#clip932)\" cx=\"1875.82\" cy=\"571.095\" r=\"14.4\" fill=\"#009af9\" fill-rule=\"evenodd\" fill-opacity=\"1\" stroke=\"#000000\" stroke-opacity=\"1\" stroke-width=\"3.2\"/>\n",
       "<circle clip-path=\"url(#clip932)\" cx=\"1998.62\" cy=\"630.257\" r=\"14.4\" fill=\"#009af9\" fill-rule=\"evenodd\" fill-opacity=\"1\" stroke=\"#000000\" stroke-opacity=\"1\" stroke-width=\"3.2\"/>\n",
       "<circle clip-path=\"url(#clip932)\" cx=\"611.144\" cy=\"560.27\" r=\"14.4\" fill=\"#009af9\" fill-rule=\"evenodd\" fill-opacity=\"1\" stroke=\"#000000\" stroke-opacity=\"1\" stroke-width=\"3.2\"/>\n",
       "<circle clip-path=\"url(#clip932)\" cx=\"1674.03\" cy=\"856.178\" r=\"14.4\" fill=\"#009af9\" fill-rule=\"evenodd\" fill-opacity=\"1\" stroke=\"#000000\" stroke-opacity=\"1\" stroke-width=\"3.2\"/>\n",
       "<circle clip-path=\"url(#clip932)\" cx=\"922.606\" cy=\"572.436\" r=\"14.4\" fill=\"#009af9\" fill-rule=\"evenodd\" fill-opacity=\"1\" stroke=\"#000000\" stroke-opacity=\"1\" stroke-width=\"3.2\"/>\n",
       "<circle clip-path=\"url(#clip932)\" cx=\"1898.25\" cy=\"513.128\" r=\"14.4\" fill=\"#009af9\" fill-rule=\"evenodd\" fill-opacity=\"1\" stroke=\"#000000\" stroke-opacity=\"1\" stroke-width=\"3.2\"/>\n",
       "<circle clip-path=\"url(#clip932)\" cx=\"1874.32\" cy=\"491.656\" r=\"14.4\" fill=\"#009af9\" fill-rule=\"evenodd\" fill-opacity=\"1\" stroke=\"#000000\" stroke-opacity=\"1\" stroke-width=\"3.2\"/>\n",
       "<circle clip-path=\"url(#clip932)\" cx=\"1251.78\" cy=\"1077.27\" r=\"14.4\" fill=\"#009af9\" fill-rule=\"evenodd\" fill-opacity=\"1\" stroke=\"#000000\" stroke-opacity=\"1\" stroke-width=\"3.2\"/>\n",
       "<circle clip-path=\"url(#clip932)\" cx=\"1319.3\" cy=\"1042.43\" r=\"14.4\" fill=\"#009af9\" fill-rule=\"evenodd\" fill-opacity=\"1\" stroke=\"#000000\" stroke-opacity=\"1\" stroke-width=\"3.2\"/>\n",
       "<circle clip-path=\"url(#clip932)\" cx=\"1710.77\" cy=\"830.39\" r=\"14.4\" fill=\"#009af9\" fill-rule=\"evenodd\" fill-opacity=\"1\" stroke=\"#000000\" stroke-opacity=\"1\" stroke-width=\"3.2\"/>\n",
       "<circle clip-path=\"url(#clip932)\" cx=\"502.245\" cy=\"654.572\" r=\"14.4\" fill=\"#009af9\" fill-rule=\"evenodd\" fill-opacity=\"1\" stroke=\"#000000\" stroke-opacity=\"1\" stroke-width=\"3.2\"/>\n",
       "<circle clip-path=\"url(#clip932)\" cx=\"944.967\" cy=\"532.254\" r=\"14.4\" fill=\"#009af9\" fill-rule=\"evenodd\" fill-opacity=\"1\" stroke=\"#000000\" stroke-opacity=\"1\" stroke-width=\"3.2\"/>\n",
       "<circle clip-path=\"url(#clip932)\" cx=\"1988.39\" cy=\"500.389\" r=\"14.4\" fill=\"#009af9\" fill-rule=\"evenodd\" fill-opacity=\"1\" stroke=\"#000000\" stroke-opacity=\"1\" stroke-width=\"3.2\"/>\n",
       "<circle clip-path=\"url(#clip932)\" cx=\"882.848\" cy=\"588.523\" r=\"14.4\" fill=\"#009af9\" fill-rule=\"evenodd\" fill-opacity=\"1\" stroke=\"#000000\" stroke-opacity=\"1\" stroke-width=\"3.2\"/>\n",
       "<circle clip-path=\"url(#clip932)\" cx=\"531.973\" cy=\"595.183\" r=\"14.4\" fill=\"#009af9\" fill-rule=\"evenodd\" fill-opacity=\"1\" stroke=\"#000000\" stroke-opacity=\"1\" stroke-width=\"3.2\"/>\n",
       "<circle clip-path=\"url(#clip932)\" cx=\"1098.73\" cy=\"656.656\" r=\"14.4\" fill=\"#009af9\" fill-rule=\"evenodd\" fill-opacity=\"1\" stroke=\"#000000\" stroke-opacity=\"1\" stroke-width=\"3.2\"/>\n",
       "<circle clip-path=\"url(#clip932)\" cx=\"1270.05\" cy=\"1049.3\" r=\"14.4\" fill=\"#009af9\" fill-rule=\"evenodd\" fill-opacity=\"1\" stroke=\"#000000\" stroke-opacity=\"1\" stroke-width=\"3.2\"/>\n",
       "<circle clip-path=\"url(#clip932)\" cx=\"1279.09\" cy=\"958.607\" r=\"14.4\" fill=\"#009af9\" fill-rule=\"evenodd\" fill-opacity=\"1\" stroke=\"#000000\" stroke-opacity=\"1\" stroke-width=\"3.2\"/>\n",
       "<circle clip-path=\"url(#clip932)\" cx=\"610.652\" cy=\"546.559\" r=\"14.4\" fill=\"#009af9\" fill-rule=\"evenodd\" fill-opacity=\"1\" stroke=\"#000000\" stroke-opacity=\"1\" stroke-width=\"3.2\"/>\n",
       "<circle clip-path=\"url(#clip932)\" cx=\"1702.02\" cy=\"906.658\" r=\"14.4\" fill=\"#009af9\" fill-rule=\"evenodd\" fill-opacity=\"1\" stroke=\"#000000\" stroke-opacity=\"1\" stroke-width=\"3.2\"/>\n",
       "<circle clip-path=\"url(#clip932)\" cx=\"680.027\" cy=\"474.658\" r=\"14.4\" fill=\"#009af9\" fill-rule=\"evenodd\" fill-opacity=\"1\" stroke=\"#000000\" stroke-opacity=\"1\" stroke-width=\"3.2\"/>\n",
       "<circle clip-path=\"url(#clip932)\" cx=\"1145.7\" cy=\"841.579\" r=\"14.4\" fill=\"#009af9\" fill-rule=\"evenodd\" fill-opacity=\"1\" stroke=\"#000000\" stroke-opacity=\"1\" stroke-width=\"3.2\"/>\n",
       "<circle clip-path=\"url(#clip932)\" cx=\"1265.89\" cy=\"1075.89\" r=\"14.4\" fill=\"#009af9\" fill-rule=\"evenodd\" fill-opacity=\"1\" stroke=\"#000000\" stroke-opacity=\"1\" stroke-width=\"3.2\"/>\n",
       "<circle clip-path=\"url(#clip932)\" cx=\"708.33\" cy=\"359.896\" r=\"14.4\" fill=\"#009af9\" fill-rule=\"evenodd\" fill-opacity=\"1\" stroke=\"#000000\" stroke-opacity=\"1\" stroke-width=\"3.2\"/>\n",
       "<circle clip-path=\"url(#clip932)\" cx=\"1754.76\" cy=\"744.412\" r=\"14.4\" fill=\"#009af9\" fill-rule=\"evenodd\" fill-opacity=\"1\" stroke=\"#000000\" stroke-opacity=\"1\" stroke-width=\"3.2\"/>\n",
       "<circle clip-path=\"url(#clip932)\" cx=\"449.564\" cy=\"665.791\" r=\"14.4\" fill=\"#009af9\" fill-rule=\"evenodd\" fill-opacity=\"1\" stroke=\"#000000\" stroke-opacity=\"1\" stroke-width=\"3.2\"/>\n",
       "<circle clip-path=\"url(#clip932)\" cx=\"744.551\" cy=\"558.489\" r=\"14.4\" fill=\"#009af9\" fill-rule=\"evenodd\" fill-opacity=\"1\" stroke=\"#000000\" stroke-opacity=\"1\" stroke-width=\"3.2\"/>\n",
       "<circle clip-path=\"url(#clip932)\" cx=\"1869.58\" cy=\"597.931\" r=\"14.4\" fill=\"#009af9\" fill-rule=\"evenodd\" fill-opacity=\"1\" stroke=\"#000000\" stroke-opacity=\"1\" stroke-width=\"3.2\"/>\n",
       "<circle clip-path=\"url(#clip932)\" cx=\"1357.28\" cy=\"1002.98\" r=\"14.4\" fill=\"#009af9\" fill-rule=\"evenodd\" fill-opacity=\"1\" stroke=\"#000000\" stroke-opacity=\"1\" stroke-width=\"3.2\"/>\n",
       "<circle clip-path=\"url(#clip932)\" cx=\"1414.43\" cy=\"916.785\" r=\"14.4\" fill=\"#009af9\" fill-rule=\"evenodd\" fill-opacity=\"1\" stroke=\"#000000\" stroke-opacity=\"1\" stroke-width=\"3.2\"/>\n",
       "<circle clip-path=\"url(#clip932)\" cx=\"1392.97\" cy=\"1140.82\" r=\"14.4\" fill=\"#009af9\" fill-rule=\"evenodd\" fill-opacity=\"1\" stroke=\"#000000\" stroke-opacity=\"1\" stroke-width=\"3.2\"/>\n",
       "<circle clip-path=\"url(#clip932)\" cx=\"539.467\" cy=\"371.563\" r=\"14.4\" fill=\"#009af9\" fill-rule=\"evenodd\" fill-opacity=\"1\" stroke=\"#000000\" stroke-opacity=\"1\" stroke-width=\"3.2\"/>\n",
       "<circle clip-path=\"url(#clip932)\" cx=\"1907.06\" cy=\"504.994\" r=\"14.4\" fill=\"#009af9\" fill-rule=\"evenodd\" fill-opacity=\"1\" stroke=\"#000000\" stroke-opacity=\"1\" stroke-width=\"3.2\"/>\n",
       "<circle clip-path=\"url(#clip932)\" cx=\"1703.84\" cy=\"819.703\" r=\"14.4\" fill=\"#009af9\" fill-rule=\"evenodd\" fill-opacity=\"1\" stroke=\"#000000\" stroke-opacity=\"1\" stroke-width=\"3.2\"/>\n",
       "<circle clip-path=\"url(#clip932)\" cx=\"1706.25\" cy=\"1061.8\" r=\"14.4\" fill=\"#009af9\" fill-rule=\"evenodd\" fill-opacity=\"1\" stroke=\"#000000\" stroke-opacity=\"1\" stroke-width=\"3.2\"/>\n",
       "<circle clip-path=\"url(#clip932)\" cx=\"529.259\" cy=\"688.95\" r=\"14.4\" fill=\"#009af9\" fill-rule=\"evenodd\" fill-opacity=\"1\" stroke=\"#000000\" stroke-opacity=\"1\" stroke-width=\"3.2\"/>\n",
       "<circle clip-path=\"url(#clip932)\" cx=\"1984.52\" cy=\"444.444\" r=\"14.4\" fill=\"#009af9\" fill-rule=\"evenodd\" fill-opacity=\"1\" stroke=\"#000000\" stroke-opacity=\"1\" stroke-width=\"3.2\"/>\n",
       "<circle clip-path=\"url(#clip932)\" cx=\"878.049\" cy=\"515.07\" r=\"14.4\" fill=\"#009af9\" fill-rule=\"evenodd\" fill-opacity=\"1\" stroke=\"#000000\" stroke-opacity=\"1\" stroke-width=\"3.2\"/>\n",
       "<circle clip-path=\"url(#clip932)\" cx=\"1982.59\" cy=\"367.703\" r=\"14.4\" fill=\"#009af9\" fill-rule=\"evenodd\" fill-opacity=\"1\" stroke=\"#000000\" stroke-opacity=\"1\" stroke-width=\"3.2\"/>\n",
       "<circle clip-path=\"url(#clip932)\" cx=\"2063.77\" cy=\"650.552\" r=\"14.4\" fill=\"#009af9\" fill-rule=\"evenodd\" fill-opacity=\"1\" stroke=\"#000000\" stroke-opacity=\"1\" stroke-width=\"3.2\"/>\n",
       "<circle clip-path=\"url(#clip932)\" cx=\"1526.09\" cy=\"975.655\" r=\"14.4\" fill=\"#009af9\" fill-rule=\"evenodd\" fill-opacity=\"1\" stroke=\"#000000\" stroke-opacity=\"1\" stroke-width=\"3.2\"/>\n",
       "<circle clip-path=\"url(#clip932)\" cx=\"2024.82\" cy=\"399.992\" r=\"14.4\" fill=\"#009af9\" fill-rule=\"evenodd\" fill-opacity=\"1\" stroke=\"#000000\" stroke-opacity=\"1\" stroke-width=\"3.2\"/>\n",
       "<circle clip-path=\"url(#clip932)\" cx=\"1818.11\" cy=\"709.872\" r=\"14.4\" fill=\"#009af9\" fill-rule=\"evenodd\" fill-opacity=\"1\" stroke=\"#000000\" stroke-opacity=\"1\" stroke-width=\"3.2\"/>\n",
       "<circle clip-path=\"url(#clip932)\" cx=\"878.966\" cy=\"693.133\" r=\"14.4\" fill=\"#009af9\" fill-rule=\"evenodd\" fill-opacity=\"1\" stroke=\"#000000\" stroke-opacity=\"1\" stroke-width=\"3.2\"/>\n",
       "<circle clip-path=\"url(#clip932)\" cx=\"1070.03\" cy=\"740.784\" r=\"14.4\" fill=\"#009af9\" fill-rule=\"evenodd\" fill-opacity=\"1\" stroke=\"#000000\" stroke-opacity=\"1\" stroke-width=\"3.2\"/>\n",
       "<circle clip-path=\"url(#clip932)\" cx=\"1622.89\" cy=\"990.225\" r=\"14.4\" fill=\"#009af9\" fill-rule=\"evenodd\" fill-opacity=\"1\" stroke=\"#000000\" stroke-opacity=\"1\" stroke-width=\"3.2\"/>\n",
       "<circle clip-path=\"url(#clip932)\" cx=\"1126.03\" cy=\"720.306\" r=\"14.4\" fill=\"#009af9\" fill-rule=\"evenodd\" fill-opacity=\"1\" stroke=\"#000000\" stroke-opacity=\"1\" stroke-width=\"3.2\"/>\n",
       "<circle clip-path=\"url(#clip932)\" cx=\"849.736\" cy=\"666.494\" r=\"14.4\" fill=\"#009af9\" fill-rule=\"evenodd\" fill-opacity=\"1\" stroke=\"#000000\" stroke-opacity=\"1\" stroke-width=\"3.2\"/>\n",
       "<circle clip-path=\"url(#clip932)\" cx=\"1128.52\" cy=\"917.393\" r=\"14.4\" fill=\"#009af9\" fill-rule=\"evenodd\" fill-opacity=\"1\" stroke=\"#000000\" stroke-opacity=\"1\" stroke-width=\"3.2\"/>\n",
       "<circle clip-path=\"url(#clip932)\" cx=\"1805.78\" cy=\"858.178\" r=\"14.4\" fill=\"#009af9\" fill-rule=\"evenodd\" fill-opacity=\"1\" stroke=\"#000000\" stroke-opacity=\"1\" stroke-width=\"3.2\"/>\n",
       "<circle clip-path=\"url(#clip932)\" cx=\"721.212\" cy=\"441.314\" r=\"14.4\" fill=\"#009af9\" fill-rule=\"evenodd\" fill-opacity=\"1\" stroke=\"#000000\" stroke-opacity=\"1\" stroke-width=\"3.2\"/>\n",
       "<circle clip-path=\"url(#clip932)\" cx=\"825.26\" cy=\"549.497\" r=\"14.4\" fill=\"#009af9\" fill-rule=\"evenodd\" fill-opacity=\"1\" stroke=\"#000000\" stroke-opacity=\"1\" stroke-width=\"3.2\"/>\n",
       "<circle clip-path=\"url(#clip932)\" cx=\"1612\" cy=\"783.001\" r=\"14.4\" fill=\"#009af9\" fill-rule=\"evenodd\" fill-opacity=\"1\" stroke=\"#000000\" stroke-opacity=\"1\" stroke-width=\"3.2\"/>\n",
       "<circle clip-path=\"url(#clip932)\" cx=\"2083.73\" cy=\"497.533\" r=\"14.4\" fill=\"#009af9\" fill-rule=\"evenodd\" fill-opacity=\"1\" stroke=\"#000000\" stroke-opacity=\"1\" stroke-width=\"3.2\"/>\n",
       "<circle clip-path=\"url(#clip932)\" cx=\"1961.55\" cy=\"669.43\" r=\"14.4\" fill=\"#009af9\" fill-rule=\"evenodd\" fill-opacity=\"1\" stroke=\"#000000\" stroke-opacity=\"1\" stroke-width=\"3.2\"/>\n",
       "<circle clip-path=\"url(#clip932)\" cx=\"1021.48\" cy=\"641.932\" r=\"14.4\" fill=\"#009af9\" fill-rule=\"evenodd\" fill-opacity=\"1\" stroke=\"#000000\" stroke-opacity=\"1\" stroke-width=\"3.2\"/>\n",
       "<circle clip-path=\"url(#clip932)\" cx=\"1935.69\" cy=\"707.878\" r=\"14.4\" fill=\"#009af9\" fill-rule=\"evenodd\" fill-opacity=\"1\" stroke=\"#000000\" stroke-opacity=\"1\" stroke-width=\"3.2\"/>\n",
       "<circle clip-path=\"url(#clip932)\" cx=\"606.552\" cy=\"408.357\" r=\"14.4\" fill=\"#009af9\" fill-rule=\"evenodd\" fill-opacity=\"1\" stroke=\"#000000\" stroke-opacity=\"1\" stroke-width=\"3.2\"/>\n",
       "<circle clip-path=\"url(#clip932)\" cx=\"1240.19\" cy=\"830.727\" r=\"14.4\" fill=\"#009af9\" fill-rule=\"evenodd\" fill-opacity=\"1\" stroke=\"#000000\" stroke-opacity=\"1\" stroke-width=\"3.2\"/>\n",
       "<path clip-path=\"url(#clip932)\" d=\"M147.478 1228.6 L192.484 1168.4 L237.489 1122.34 L282.495 1089.43 L327.501 1067.98 L372.506 1056.08 L417.512 1051.92 L462.518 1054.04 L507.523 1061.32 L552.529 1072.89 L597.535 1088.03 L642.54 1106.09 L687.546 1126.56 L732.552 1149.09 L777.557 1173.55 L822.563 1199.8 L867.569 1227.52 L912.574 1255.95 L957.58 1283.94 L1002.59 1310.15 L1047.59 1333.33 L1092.6 1352.68 L1137.6 1367.87 L1182.61 1379.03 L1227.61 1386.5 L1272.62 1390.7 L1317.63 1391.99 L1362.63 1390.59 L1407.64 1386.69 L1452.64 1380.44 L1497.65 1372.02 L1542.65 1361.61 L1587.66 1349.46 L1632.67 1335.78 L1677.67 1320.76 L1722.68 1304.6 L1767.68 1287.46 L1812.69 1269.53 L1857.69 1251.08 L1902.7 1232.44 L1947.7 1214.12 L1992.71 1196.77 L2037.72 1181.25 L2082.72 1168.58 L2127.73 1159.9 L2172.73 1156.41 L2217.74 1159.23 L2262.74 1169.35 L2307.75 1187.46 L2352.76 1213.98 L2352.76 -222.013 L2307.75 -160.778 L2262.74 -107.223 L2217.74 -61.0004 L2172.73 -21.4716 L2127.73 12.2484 L2082.72 41.195 L2037.72 66.4426 L1992.71 88.9946 L1947.7 109.704 L1902.7 129.222 L1857.69 147.99 L1812.69 166.242 L1767.68 184.033 L1722.68 201.28 L1677.67 217.797 L1632.67 233.332 L1587.66 247.601 L1542.65 260.298 L1497.65 271.102 L1452.64 279.67 L1407.64 285.629 L1362.63 288.585 L1317.63 288.164 L1272.62 284.078 L1227.61 276.221 L1182.61 264.739 L1137.6 250.037 L1092.6 232.696 L1047.59 213.311 L1002.59 192.314 L957.58 169.886 L912.574 146.031 L867.569 120.79 L822.563 94.4988 L777.557 67.9213 L732.552 42.1538 L687.546 18.357 L642.54 -2.54059 L597.535 -20.0241 L552.529 -34.0191 L507.523 -44.8259 L462.518 -53.0599 L417.512 -59.6655 L372.506 -65.9963 L327.501 -73.8819 L282.495 -85.5735 L237.489 -103.499 L192.484 -129.857 L147.478 -166.196  Z\" fill=\"#e26f46\" fill-rule=\"evenodd\" fill-opacity=\"0.5\"/>\n",
       "<polyline clip-path=\"url(#clip932)\" style=\"stroke:#e26f46; stroke-linecap:round; stroke-linejoin:round; stroke-width:16; stroke-opacity:1; fill:none\" points=\"147.478,531.202 192.484,519.27 237.489,509.421 282.495,501.926 327.501,497.049 372.506,495.042 417.512,496.129 462.518,500.491 507.523,508.247 552.529,519.438 597.535,534.005 642.54,551.776 687.546,572.457 732.552,595.624 777.557,620.737 822.563,647.152 867.569,674.153 912.574,700.989 957.58,726.914 1002.59,751.23 1047.59,773.322 1092.6,792.688 1137.6,808.955 1182.61,821.883 1227.61,831.361 1272.62,837.391 1317.63,840.076 1362.63,839.589 1407.64,836.161 1452.64,830.057 1497.65,821.559 1542.65,810.956 1587.66,798.531 1632.67,784.555 1677.67,769.281 1722.68,752.941 1767.68,735.747 1812.69,717.888 1857.69,699.534 1902.7,680.831 1947.7,661.91 1992.71,642.884 2037.72,623.849 2082.72,604.889 2127.73,586.075 2172.73,567.467 2217.74,549.115 2262.74,531.063 2307.75,513.343 2352.76,495.985 \"/>\n",
       "<path clip-path=\"url(#clip930)\" d=\"M1925.76 1438.47 L2279.25 1438.47 L2279.25 1282.95 L1925.76 1282.95  Z\" fill=\"#ffffff\" fill-rule=\"evenodd\" fill-opacity=\"1\"/>\n",
       "<polyline clip-path=\"url(#clip930)\" style=\"stroke:#000000; stroke-linecap:round; stroke-linejoin:round; stroke-width:4; stroke-opacity:1; fill:none\" points=\"1925.76,1438.47 2279.25,1438.47 2279.25,1282.95 1925.76,1282.95 1925.76,1438.47 \"/>\n",
       "<circle clip-path=\"url(#clip930)\" cx=\"2023.77\" cy=\"1334.79\" r=\"20.48\" fill=\"#009af9\" fill-rule=\"evenodd\" fill-opacity=\"1\" stroke=\"#000000\" stroke-opacity=\"1\" stroke-width=\"4.55111\"/>\n",
       "<path clip-path=\"url(#clip930)\" d=\"M2135.62 1354.48 Q2133.82 1359.11 2132.11 1360.52 Q2130.39 1361.94 2127.52 1361.94 L2124.12 1361.94 L2124.12 1358.37 L2126.62 1358.37 Q2128.38 1358.37 2129.35 1357.54 Q2130.32 1356.7 2131.5 1353.6 L2132.27 1351.66 L2121.78 1326.15 L2126.3 1326.15 L2134.4 1346.43 L2142.5 1326.15 L2147.01 1326.15 L2135.62 1354.48 Z\" fill=\"#000000\" fill-rule=\"nonzero\" fill-opacity=\"1\" /><path clip-path=\"url(#clip930)\" d=\"M2157.11 1318.79 L2157.11 1326.15 L2165.88 1326.15 L2165.88 1329.46 L2157.11 1329.46 L2157.11 1343.53 Q2157.11 1346.7 2157.96 1347.61 Q2158.84 1348.51 2161.5 1348.51 L2165.88 1348.51 L2165.88 1352.07 L2161.5 1352.07 Q2156.57 1352.07 2154.7 1350.25 Q2152.82 1348.39 2152.82 1343.53 L2152.82 1329.46 L2149.7 1329.46 L2149.7 1326.15 L2152.82 1326.15 L2152.82 1318.79 L2157.11 1318.79 Z\" fill=\"#000000\" fill-rule=\"nonzero\" fill-opacity=\"1\" /><path clip-path=\"url(#clip930)\" d=\"M2186.5 1330.13 Q2185.79 1329.71 2184.93 1329.53 Q2184.1 1329.32 2183.08 1329.32 Q2179.47 1329.32 2177.52 1331.68 Q2175.6 1334.02 2175.6 1338.42 L2175.6 1352.07 L2171.32 1352.07 L2171.32 1326.15 L2175.6 1326.15 L2175.6 1330.18 Q2176.94 1327.82 2179.1 1326.68 Q2181.25 1325.52 2184.33 1325.52 Q2184.77 1325.52 2185.3 1325.59 Q2185.83 1325.64 2186.48 1325.76 L2186.5 1330.13 Z\" fill=\"#000000\" fill-rule=\"nonzero\" fill-opacity=\"1\" /><path clip-path=\"url(#clip930)\" d=\"M2202.75 1339.04 Q2197.59 1339.04 2195.6 1340.22 Q2193.61 1341.4 2193.61 1344.25 Q2193.61 1346.52 2195.09 1347.86 Q2196.6 1349.18 2199.17 1349.18 Q2202.71 1349.18 2204.84 1346.68 Q2206.99 1344.16 2206.99 1339.99 L2206.99 1339.04 L2202.75 1339.04 M2211.25 1337.28 L2211.25 1352.07 L2206.99 1352.07 L2206.99 1348.14 Q2205.53 1350.5 2203.35 1351.63 Q2201.18 1352.75 2198.03 1352.75 Q2194.05 1352.75 2191.69 1350.52 Q2189.35 1348.28 2189.35 1344.53 Q2189.35 1340.15 2192.27 1337.93 Q2195.21 1335.71 2201.02 1335.71 L2206.99 1335.71 L2206.99 1335.29 Q2206.99 1332.35 2205.04 1330.76 Q2203.12 1329.13 2199.63 1329.13 Q2197.41 1329.13 2195.3 1329.67 Q2193.19 1330.2 2191.25 1331.26 L2191.25 1327.33 Q2193.59 1326.43 2195.79 1325.99 Q2197.98 1325.52 2200.07 1325.52 Q2205.69 1325.52 2208.47 1328.44 Q2211.25 1331.36 2211.25 1337.28 Z\" fill=\"#000000\" fill-rule=\"nonzero\" fill-opacity=\"1\" /><path clip-path=\"url(#clip930)\" d=\"M2220.02 1326.15 L2224.28 1326.15 L2224.28 1352.07 L2220.02 1352.07 L2220.02 1326.15 M2220.02 1316.06 L2224.28 1316.06 L2224.28 1321.45 L2220.02 1321.45 L2220.02 1316.06 Z\" fill=\"#000000\" fill-rule=\"nonzero\" fill-opacity=\"1\" /><path clip-path=\"url(#clip930)\" d=\"M2254.74 1336.43 L2254.74 1352.07 L2250.48 1352.07 L2250.48 1336.57 Q2250.48 1332.88 2249.05 1331.06 Q2247.61 1329.23 2244.74 1329.23 Q2241.29 1329.23 2239.3 1331.43 Q2237.31 1333.63 2237.31 1337.42 L2237.31 1352.07 L2233.03 1352.07 L2233.03 1326.15 L2237.31 1326.15 L2237.31 1330.18 Q2238.84 1327.84 2240.9 1326.68 Q2242.98 1325.52 2245.69 1325.52 Q2250.16 1325.52 2252.45 1328.3 Q2254.74 1331.06 2254.74 1336.43 Z\" fill=\"#000000\" fill-rule=\"nonzero\" fill-opacity=\"1\" /><polyline clip-path=\"url(#clip930)\" style=\"stroke:#e26f46; stroke-linecap:round; stroke-linejoin:round; stroke-width:16; stroke-opacity:1; fill:none\" points=\"1950.26,1386.63 2097.28,1386.63 \"/>\n",
       "<path clip-path=\"url(#clip930)\" d=\"M2135.62 1406.32 Q2133.82 1410.95 2132.11 1412.36 Q2130.39 1413.78 2127.52 1413.78 L2124.12 1413.78 L2124.12 1410.21 L2126.62 1410.21 Q2128.38 1410.21 2129.35 1409.38 Q2130.32 1408.54 2131.5 1405.44 L2132.27 1403.5 L2121.78 1377.99 L2126.3 1377.99 L2134.4 1398.27 L2142.5 1377.99 L2147.01 1377.99 L2135.62 1406.32 Z\" fill=\"#000000\" fill-rule=\"nonzero\" fill-opacity=\"1\" /><path clip-path=\"url(#clip930)\" d=\"M2174.44 1388.27 L2174.44 1403.91 L2170.18 1403.91 L2170.18 1388.41 Q2170.18 1384.72 2168.75 1382.9 Q2167.31 1381.07 2164.44 1381.07 Q2160.99 1381.07 2159 1383.27 Q2157.01 1385.47 2157.01 1389.26 L2157.01 1403.91 L2152.73 1403.91 L2152.73 1367.9 L2157.01 1367.9 L2157.01 1382.02 Q2158.54 1379.68 2160.6 1378.52 Q2162.68 1377.36 2165.39 1377.36 Q2169.86 1377.36 2172.15 1380.14 Q2174.44 1382.9 2174.44 1388.27 Z\" fill=\"#000000\" fill-rule=\"nonzero\" fill-opacity=\"1\" /><path clip-path=\"url(#clip930)\" d=\"M2194.72 1390.88 Q2189.56 1390.88 2187.57 1392.06 Q2185.58 1393.24 2185.58 1396.09 Q2185.58 1398.36 2187.06 1399.7 Q2188.56 1401.02 2191.13 1401.02 Q2194.67 1401.02 2196.8 1398.52 Q2198.96 1396 2198.96 1391.83 L2198.96 1390.88 L2194.72 1390.88 M2203.22 1389.12 L2203.22 1403.91 L2198.96 1403.91 L2198.96 1399.98 Q2197.5 1402.34 2195.32 1403.47 Q2193.15 1404.59 2190 1404.59 Q2186.02 1404.59 2183.66 1402.36 Q2181.32 1400.12 2181.32 1396.37 Q2181.32 1391.99 2184.23 1389.77 Q2187.17 1387.55 2192.98 1387.55 L2198.96 1387.55 L2198.96 1387.13 Q2198.96 1384.19 2197.01 1382.6 Q2195.09 1380.97 2191.6 1380.97 Q2189.37 1380.97 2187.27 1381.51 Q2185.16 1382.04 2183.22 1383.1 L2183.22 1379.17 Q2185.55 1378.27 2187.75 1377.83 Q2189.95 1377.36 2192.04 1377.36 Q2197.66 1377.36 2200.44 1380.28 Q2203.22 1383.2 2203.22 1389.12 Z\" fill=\"#000000\" fill-rule=\"nonzero\" fill-opacity=\"1\" /><path clip-path=\"url(#clip930)\" d=\"M2216.2 1370.63 L2216.2 1377.99 L2224.98 1377.99 L2224.98 1381.3 L2216.2 1381.3 L2216.2 1395.37 Q2216.2 1398.54 2217.06 1399.45 Q2217.94 1400.35 2220.6 1400.35 L2224.98 1400.35 L2224.98 1403.91 L2220.6 1403.91 Q2215.67 1403.91 2213.79 1402.09 Q2211.92 1400.23 2211.92 1395.37 L2211.92 1381.3 L2208.79 1381.3 L2208.79 1377.99 L2211.92 1377.99 L2211.92 1370.63 L2216.2 1370.63 Z\" fill=\"#000000\" fill-rule=\"nonzero\" fill-opacity=\"1\" /></svg>\n"
      ],
      "text/html": [
       "<?xml version=\"1.0\" encoding=\"utf-8\"?>\n",
       "<svg xmlns=\"http://www.w3.org/2000/svg\" xmlns:xlink=\"http://www.w3.org/1999/xlink\" width=\"600\" height=\"400\" viewBox=\"0 0 2400 1600\">\n",
       "<defs>\n",
       "  <clipPath id=\"clip980\">\n",
       "    <rect x=\"0\" y=\"0\" width=\"2400\" height=\"1600\"/>\n",
       "  </clipPath>\n",
       "</defs>\n",
       "<path clip-path=\"url(#clip980)\" d=\"M0 1600 L2400 1600 L2400 0 L0 0  Z\" fill=\"#ffffff\" fill-rule=\"evenodd\" fill-opacity=\"1\"/>\n",
       "<defs>\n",
       "  <clipPath id=\"clip981\">\n",
       "    <rect x=\"480\" y=\"0\" width=\"1681\" height=\"1600\"/>\n",
       "  </clipPath>\n",
       "</defs>\n",
       "<path clip-path=\"url(#clip980)\" d=\"M147.478 1486.45 L2352.76 1486.45 L2352.76 47.2441 L147.478 47.2441  Z\" fill=\"#ffffff\" fill-rule=\"evenodd\" fill-opacity=\"1\"/>\n",
       "<defs>\n",
       "  <clipPath id=\"clip982\">\n",
       "    <rect x=\"147\" y=\"47\" width=\"2206\" height=\"1440\"/>\n",
       "  </clipPath>\n",
       "</defs>\n",
       "<polyline clip-path=\"url(#clip982)\" style=\"stroke:#000000; stroke-linecap:round; stroke-linejoin:round; stroke-width:2; stroke-opacity:0.1; fill:none\" points=\"370.047,1486.45 370.047,47.2441 \"/>\n",
       "<polyline clip-path=\"url(#clip982)\" style=\"stroke:#000000; stroke-linecap:round; stroke-linejoin:round; stroke-width:2; stroke-opacity:0.1; fill:none\" points=\"818.212,1486.45 818.212,47.2441 \"/>\n",
       "<polyline clip-path=\"url(#clip982)\" style=\"stroke:#000000; stroke-linecap:round; stroke-linejoin:round; stroke-width:2; stroke-opacity:0.1; fill:none\" points=\"1266.38,1486.45 1266.38,47.2441 \"/>\n",
       "<polyline clip-path=\"url(#clip982)\" style=\"stroke:#000000; stroke-linecap:round; stroke-linejoin:round; stroke-width:2; stroke-opacity:0.1; fill:none\" points=\"1714.54,1486.45 1714.54,47.2441 \"/>\n",
       "<polyline clip-path=\"url(#clip982)\" style=\"stroke:#000000; stroke-linecap:round; stroke-linejoin:round; stroke-width:2; stroke-opacity:0.1; fill:none\" points=\"2162.71,1486.45 2162.71,47.2441 \"/>\n",
       "<polyline clip-path=\"url(#clip980)\" style=\"stroke:#000000; stroke-linecap:round; stroke-linejoin:round; stroke-width:4; stroke-opacity:1; fill:none\" points=\"147.478,1486.45 2352.76,1486.45 \"/>\n",
       "<polyline clip-path=\"url(#clip980)\" style=\"stroke:#000000; stroke-linecap:round; stroke-linejoin:round; stroke-width:4; stroke-opacity:1; fill:none\" points=\"370.047,1486.45 370.047,1467.55 \"/>\n",
       "<polyline clip-path=\"url(#clip980)\" style=\"stroke:#000000; stroke-linecap:round; stroke-linejoin:round; stroke-width:4; stroke-opacity:1; fill:none\" points=\"818.212,1486.45 818.212,1467.55 \"/>\n",
       "<polyline clip-path=\"url(#clip980)\" style=\"stroke:#000000; stroke-linecap:round; stroke-linejoin:round; stroke-width:4; stroke-opacity:1; fill:none\" points=\"1266.38,1486.45 1266.38,1467.55 \"/>\n",
       "<polyline clip-path=\"url(#clip980)\" style=\"stroke:#000000; stroke-linecap:round; stroke-linejoin:round; stroke-width:4; stroke-opacity:1; fill:none\" points=\"1714.54,1486.45 1714.54,1467.55 \"/>\n",
       "<polyline clip-path=\"url(#clip980)\" style=\"stroke:#000000; stroke-linecap:round; stroke-linejoin:round; stroke-width:4; stroke-opacity:1; fill:none\" points=\"2162.71,1486.45 2162.71,1467.55 \"/>\n",
       "<path clip-path=\"url(#clip980)\" d=\"M370.047 1517.37 Q366.436 1517.37 364.608 1520.93 Q362.802 1524.47 362.802 1531.6 Q362.802 1538.71 364.608 1542.27 Q366.436 1545.82 370.047 1545.82 Q373.682 1545.82 375.487 1542.27 Q377.316 1538.71 377.316 1531.6 Q377.316 1524.47 375.487 1520.93 Q373.682 1517.37 370.047 1517.37 M370.047 1513.66 Q375.858 1513.66 378.913 1518.27 Q381.992 1522.85 381.992 1531.6 Q381.992 1540.33 378.913 1544.94 Q375.858 1549.52 370.047 1549.52 Q364.237 1549.52 361.159 1544.94 Q358.103 1540.33 358.103 1531.6 Q358.103 1522.85 361.159 1518.27 Q364.237 1513.66 370.047 1513.66 Z\" fill=\"#000000\" fill-rule=\"nonzero\" fill-opacity=\"1\" /><path clip-path=\"url(#clip980)\" d=\"M812.865 1544.91 L829.184 1544.91 L829.184 1548.85 L807.24 1548.85 L807.24 1544.91 Q809.902 1542.16 814.485 1537.53 Q819.092 1532.88 820.272 1531.53 Q822.518 1529.01 823.397 1527.27 Q824.3 1525.51 824.3 1523.82 Q824.3 1521.07 822.356 1519.33 Q820.434 1517.6 817.333 1517.6 Q815.133 1517.6 812.68 1518.36 Q810.249 1519.13 807.471 1520.68 L807.471 1515.95 Q810.296 1514.82 812.749 1514.24 Q815.203 1513.66 817.24 1513.66 Q822.61 1513.66 825.805 1516.35 Q828.999 1519.03 828.999 1523.52 Q828.999 1525.65 828.189 1527.57 Q827.402 1529.47 825.295 1532.07 Q824.717 1532.74 821.615 1535.95 Q818.513 1539.15 812.865 1544.91 Z\" fill=\"#000000\" fill-rule=\"nonzero\" fill-opacity=\"1\" /><path clip-path=\"url(#clip980)\" d=\"M1269.39 1518.36 L1257.58 1536.81 L1269.39 1536.81 L1269.39 1518.36 M1268.16 1514.29 L1274.04 1514.29 L1274.04 1536.81 L1278.97 1536.81 L1278.97 1540.7 L1274.04 1540.7 L1274.04 1548.85 L1269.39 1548.85 L1269.39 1540.7 L1253.78 1540.7 L1253.78 1536.19 L1268.16 1514.29 Z\" fill=\"#000000\" fill-rule=\"nonzero\" fill-opacity=\"1\" /><path clip-path=\"url(#clip980)\" d=\"M1714.95 1529.7 Q1711.8 1529.7 1709.95 1531.86 Q1708.12 1534.01 1708.12 1537.76 Q1708.12 1541.49 1709.95 1543.66 Q1711.8 1545.82 1714.95 1545.82 Q1718.09 1545.82 1719.92 1543.66 Q1721.78 1541.49 1721.78 1537.76 Q1721.78 1534.01 1719.92 1531.86 Q1718.09 1529.7 1714.95 1529.7 M1724.23 1515.05 L1724.23 1519.31 Q1722.47 1518.48 1720.66 1518.04 Q1718.88 1517.6 1717.12 1517.6 Q1712.49 1517.6 1710.04 1520.72 Q1707.61 1523.85 1707.26 1530.17 Q1708.63 1528.15 1710.69 1527.09 Q1712.75 1526 1715.22 1526 Q1720.43 1526 1723.44 1529.17 Q1726.47 1532.32 1726.47 1537.76 Q1726.47 1543.08 1723.33 1546.3 Q1720.18 1549.52 1714.95 1549.52 Q1708.95 1549.52 1705.78 1544.94 Q1702.61 1540.33 1702.61 1531.6 Q1702.61 1523.41 1706.5 1518.55 Q1710.39 1513.66 1716.94 1513.66 Q1718.7 1513.66 1720.48 1514.01 Q1722.28 1514.36 1724.23 1515.05 Z\" fill=\"#000000\" fill-rule=\"nonzero\" fill-opacity=\"1\" /><path clip-path=\"url(#clip980)\" d=\"M2162.71 1532.44 Q2159.37 1532.44 2157.45 1534.22 Q2155.55 1536 2155.55 1539.13 Q2155.55 1542.25 2157.45 1544.03 Q2159.37 1545.82 2162.71 1545.82 Q2166.04 1545.82 2167.96 1544.03 Q2169.88 1542.23 2169.88 1539.13 Q2169.88 1536 2167.96 1534.22 Q2166.06 1532.44 2162.71 1532.44 M2158.03 1530.45 Q2155.02 1529.7 2153.33 1527.64 Q2151.66 1525.58 2151.66 1522.62 Q2151.66 1518.48 2154.6 1516.07 Q2157.57 1513.66 2162.71 1513.66 Q2167.87 1513.66 2170.81 1516.07 Q2173.75 1518.48 2173.75 1522.62 Q2173.75 1525.58 2172.06 1527.64 Q2170.39 1529.7 2167.41 1530.45 Q2170.79 1531.23 2172.66 1533.52 Q2174.56 1535.82 2174.56 1539.13 Q2174.56 1544.15 2171.48 1546.83 Q2168.42 1549.52 2162.71 1549.52 Q2156.99 1549.52 2153.91 1546.83 Q2150.85 1544.15 2150.85 1539.13 Q2150.85 1535.82 2152.75 1533.52 Q2154.65 1531.23 2158.03 1530.45 M2156.32 1523.06 Q2156.32 1525.75 2157.98 1527.25 Q2159.67 1528.76 2162.71 1528.76 Q2165.72 1528.76 2167.41 1527.25 Q2169.12 1525.75 2169.12 1523.06 Q2169.12 1520.38 2167.41 1518.87 Q2165.72 1517.37 2162.71 1517.37 Q2159.67 1517.37 2157.98 1518.87 Q2156.32 1520.38 2156.32 1523.06 Z\" fill=\"#000000\" fill-rule=\"nonzero\" fill-opacity=\"1\" /><polyline clip-path=\"url(#clip982)\" style=\"stroke:#000000; stroke-linecap:round; stroke-linejoin:round; stroke-width:2; stroke-opacity:0.1; fill:none\" points=\"147.478,1311.59 2352.76,1311.59 \"/>\n",
       "<polyline clip-path=\"url(#clip982)\" style=\"stroke:#000000; stroke-linecap:round; stroke-linejoin:round; stroke-width:2; stroke-opacity:0.1; fill:none\" points=\"147.478,1033.62 2352.76,1033.62 \"/>\n",
       "<polyline clip-path=\"url(#clip982)\" style=\"stroke:#000000; stroke-linecap:round; stroke-linejoin:round; stroke-width:2; stroke-opacity:0.1; fill:none\" points=\"147.478,755.641 2352.76,755.641 \"/>\n",
       "<polyline clip-path=\"url(#clip982)\" style=\"stroke:#000000; stroke-linecap:round; stroke-linejoin:round; stroke-width:2; stroke-opacity:0.1; fill:none\" points=\"147.478,477.664 2352.76,477.664 \"/>\n",
       "<polyline clip-path=\"url(#clip982)\" style=\"stroke:#000000; stroke-linecap:round; stroke-linejoin:round; stroke-width:2; stroke-opacity:0.1; fill:none\" points=\"147.478,199.687 2352.76,199.687 \"/>\n",
       "<polyline clip-path=\"url(#clip980)\" style=\"stroke:#000000; stroke-linecap:round; stroke-linejoin:round; stroke-width:4; stroke-opacity:1; fill:none\" points=\"147.478,1486.45 147.478,47.2441 \"/>\n",
       "<polyline clip-path=\"url(#clip980)\" style=\"stroke:#000000; stroke-linecap:round; stroke-linejoin:round; stroke-width:4; stroke-opacity:1; fill:none\" points=\"147.478,1311.59 166.376,1311.59 \"/>\n",
       "<polyline clip-path=\"url(#clip980)\" style=\"stroke:#000000; stroke-linecap:round; stroke-linejoin:round; stroke-width:4; stroke-opacity:1; fill:none\" points=\"147.478,1033.62 166.376,1033.62 \"/>\n",
       "<polyline clip-path=\"url(#clip980)\" style=\"stroke:#000000; stroke-linecap:round; stroke-linejoin:round; stroke-width:4; stroke-opacity:1; fill:none\" points=\"147.478,755.641 166.376,755.641 \"/>\n",
       "<polyline clip-path=\"url(#clip980)\" style=\"stroke:#000000; stroke-linecap:round; stroke-linejoin:round; stroke-width:4; stroke-opacity:1; fill:none\" points=\"147.478,477.664 166.376,477.664 \"/>\n",
       "<polyline clip-path=\"url(#clip980)\" style=\"stroke:#000000; stroke-linecap:round; stroke-linejoin:round; stroke-width:4; stroke-opacity:1; fill:none\" points=\"147.478,199.687 166.376,199.687 \"/>\n",
       "<path clip-path=\"url(#clip980)\" d=\"M51.3625 1312.05 L81.0383 1312.05 L81.0383 1315.98 L51.3625 1315.98 L51.3625 1312.05 Z\" fill=\"#000000\" fill-rule=\"nonzero\" fill-opacity=\"1\" /><path clip-path=\"url(#clip980)\" d=\"M95.1586 1324.94 L111.478 1324.94 L111.478 1328.87 L89.5336 1328.87 L89.5336 1324.94 Q92.1956 1322.18 96.7789 1317.56 Q101.385 1312.9 102.566 1311.56 Q104.811 1309.04 105.691 1307.3 Q106.594 1305.54 106.594 1303.85 Q106.594 1301.1 104.649 1299.36 Q102.728 1297.62 99.6261 1297.62 Q97.4271 1297.62 94.9734 1298.39 Q92.5428 1299.15 89.7651 1300.7 L89.7651 1295.98 Q92.5891 1294.85 95.0428 1294.27 Q97.4965 1293.69 99.5335 1293.69 Q104.904 1293.69 108.098 1296.37 Q111.293 1299.06 111.293 1303.55 Q111.293 1305.68 110.483 1307.6 Q109.696 1309.5 107.589 1312.09 Q107.01 1312.76 103.909 1315.98 Q100.807 1319.18 95.1586 1324.94 Z\" fill=\"#000000\" fill-rule=\"nonzero\" fill-opacity=\"1\" /><path clip-path=\"url(#clip980)\" d=\"M50.9921 1034.07 L80.6679 1034.07 L80.6679 1038 L50.9921 1038 L50.9921 1034.07 Z\" fill=\"#000000\" fill-rule=\"nonzero\" fill-opacity=\"1\" /><path clip-path=\"url(#clip980)\" d=\"M91.5706 1046.96 L99.2095 1046.96 L99.2095 1020.6 L90.8993 1022.26 L90.8993 1018 L99.1632 1016.34 L103.839 1016.34 L103.839 1046.96 L111.478 1046.96 L111.478 1050.9 L91.5706 1050.9 L91.5706 1046.96 Z\" fill=\"#000000\" fill-rule=\"nonzero\" fill-opacity=\"1\" /><path clip-path=\"url(#clip980)\" d=\"M99.5335 741.44 Q95.9224 741.44 94.0937 745.004 Q92.2882 748.546 92.2882 755.676 Q92.2882 762.782 94.0937 766.347 Q95.9224 769.889 99.5335 769.889 Q103.168 769.889 104.973 766.347 Q106.802 762.782 106.802 755.676 Q106.802 748.546 104.973 745.004 Q103.168 741.44 99.5335 741.44 M99.5335 737.736 Q105.344 737.736 108.399 742.342 Q111.478 746.926 111.478 755.676 Q111.478 764.402 108.399 769.009 Q105.344 773.592 99.5335 773.592 Q93.7234 773.592 90.6447 769.009 Q87.5892 764.402 87.5892 755.676 Q87.5892 746.926 90.6447 742.342 Q93.7234 737.736 99.5335 737.736 Z\" fill=\"#000000\" fill-rule=\"nonzero\" fill-opacity=\"1\" /><path clip-path=\"url(#clip980)\" d=\"M91.5706 491.009 L99.2095 491.009 L99.2095 464.643 L90.8993 466.31 L90.8993 462.051 L99.1632 460.384 L103.839 460.384 L103.839 491.009 L111.478 491.009 L111.478 494.944 L91.5706 494.944 L91.5706 491.009 Z\" fill=\"#000000\" fill-rule=\"nonzero\" fill-opacity=\"1\" /><path clip-path=\"url(#clip980)\" d=\"M95.1586 213.032 L111.478 213.032 L111.478 216.967 L89.5336 216.967 L89.5336 213.032 Q92.1956 210.277 96.7789 205.648 Q101.385 200.995 102.566 199.653 Q104.811 197.129 105.691 195.393 Q106.594 193.634 106.594 191.944 Q106.594 189.19 104.649 187.453 Q102.728 185.717 99.6261 185.717 Q97.4271 185.717 94.9734 186.481 Q92.5428 187.245 89.7651 188.796 L89.7651 184.074 Q92.5891 182.94 95.0428 182.361 Q97.4965 181.782 99.5335 181.782 Q104.904 181.782 108.098 184.467 Q111.293 187.153 111.293 191.643 Q111.293 193.773 110.483 195.694 Q109.696 197.592 107.589 200.185 Q107.01 200.856 103.909 204.074 Q100.807 207.268 95.1586 213.032 Z\" fill=\"#000000\" fill-rule=\"nonzero\" fill-opacity=\"1\" /><circle clip-path=\"url(#clip982)\" cx=\"1290.19\" cy=\"940.042\" r=\"14.4\" fill=\"#009af9\" fill-rule=\"evenodd\" fill-opacity=\"1\" stroke=\"#000000\" stroke-opacity=\"1\" stroke-width=\"3.2\"/>\n",
       "<circle clip-path=\"url(#clip982)\" cx=\"1717\" cy=\"914.477\" r=\"14.4\" fill=\"#009af9\" fill-rule=\"evenodd\" fill-opacity=\"1\" stroke=\"#000000\" stroke-opacity=\"1\" stroke-width=\"3.2\"/>\n",
       "<circle clip-path=\"url(#clip982)\" cx=\"728.351\" cy=\"500.227\" r=\"14.4\" fill=\"#009af9\" fill-rule=\"evenodd\" fill-opacity=\"1\" stroke=\"#000000\" stroke-opacity=\"1\" stroke-width=\"3.2\"/>\n",
       "<circle clip-path=\"url(#clip982)\" cx=\"873.768\" cy=\"436.09\" r=\"14.4\" fill=\"#009af9\" fill-rule=\"evenodd\" fill-opacity=\"1\" stroke=\"#000000\" stroke-opacity=\"1\" stroke-width=\"3.2\"/>\n",
       "<circle clip-path=\"url(#clip982)\" cx=\"1930.21\" cy=\"492.623\" r=\"14.4\" fill=\"#009af9\" fill-rule=\"evenodd\" fill-opacity=\"1\" stroke=\"#000000\" stroke-opacity=\"1\" stroke-width=\"3.2\"/>\n",
       "<circle clip-path=\"url(#clip982)\" cx=\"1493.68\" cy=\"1017.32\" r=\"14.4\" fill=\"#009af9\" fill-rule=\"evenodd\" fill-opacity=\"1\" stroke=\"#000000\" stroke-opacity=\"1\" stroke-width=\"3.2\"/>\n",
       "<circle clip-path=\"url(#clip982)\" cx=\"710.741\" cy=\"410.472\" r=\"14.4\" fill=\"#009af9\" fill-rule=\"evenodd\" fill-opacity=\"1\" stroke=\"#000000\" stroke-opacity=\"1\" stroke-width=\"3.2\"/>\n",
       "<circle clip-path=\"url(#clip982)\" cx=\"986.884\" cy=\"664.482\" r=\"14.4\" fill=\"#009af9\" fill-rule=\"evenodd\" fill-opacity=\"1\" stroke=\"#000000\" stroke-opacity=\"1\" stroke-width=\"3.2\"/>\n",
       "<circle clip-path=\"url(#clip982)\" cx=\"2127.47\" cy=\"445.906\" r=\"14.4\" fill=\"#009af9\" fill-rule=\"evenodd\" fill-opacity=\"1\" stroke=\"#000000\" stroke-opacity=\"1\" stroke-width=\"3.2\"/>\n",
       "<circle clip-path=\"url(#clip982)\" cx=\"500.91\" cy=\"571.304\" r=\"14.4\" fill=\"#009af9\" fill-rule=\"evenodd\" fill-opacity=\"1\" stroke=\"#000000\" stroke-opacity=\"1\" stroke-width=\"3.2\"/>\n",
       "<circle clip-path=\"url(#clip982)\" cx=\"393.235\" cy=\"757.85\" r=\"14.4\" fill=\"#009af9\" fill-rule=\"evenodd\" fill-opacity=\"1\" stroke=\"#000000\" stroke-opacity=\"1\" stroke-width=\"3.2\"/>\n",
       "<circle clip-path=\"url(#clip982)\" cx=\"885.653\" cy=\"554.681\" r=\"14.4\" fill=\"#009af9\" fill-rule=\"evenodd\" fill-opacity=\"1\" stroke=\"#000000\" stroke-opacity=\"1\" stroke-width=\"3.2\"/>\n",
       "<circle clip-path=\"url(#clip982)\" cx=\"805.859\" cy=\"343.296\" r=\"14.4\" fill=\"#009af9\" fill-rule=\"evenodd\" fill-opacity=\"1\" stroke=\"#000000\" stroke-opacity=\"1\" stroke-width=\"3.2\"/>\n",
       "<circle clip-path=\"url(#clip982)\" cx=\"1307.94\" cy=\"988.662\" r=\"14.4\" fill=\"#009af9\" fill-rule=\"evenodd\" fill-opacity=\"1\" stroke=\"#000000\" stroke-opacity=\"1\" stroke-width=\"3.2\"/>\n",
       "<circle clip-path=\"url(#clip982)\" cx=\"1827.29\" cy=\"763.173\" r=\"14.4\" fill=\"#009af9\" fill-rule=\"evenodd\" fill-opacity=\"1\" stroke=\"#000000\" stroke-opacity=\"1\" stroke-width=\"3.2\"/>\n",
       "<circle clip-path=\"url(#clip982)\" cx=\"1900.2\" cy=\"480.053\" r=\"14.4\" fill=\"#009af9\" fill-rule=\"evenodd\" fill-opacity=\"1\" stroke=\"#000000\" stroke-opacity=\"1\" stroke-width=\"3.2\"/>\n",
       "<circle clip-path=\"url(#clip982)\" cx=\"1273.82\" cy=\"943.805\" r=\"14.4\" fill=\"#009af9\" fill-rule=\"evenodd\" fill-opacity=\"1\" stroke=\"#000000\" stroke-opacity=\"1\" stroke-width=\"3.2\"/>\n",
       "<circle clip-path=\"url(#clip982)\" cx=\"371.56\" cy=\"718.536\" r=\"14.4\" fill=\"#009af9\" fill-rule=\"evenodd\" fill-opacity=\"1\" stroke=\"#000000\" stroke-opacity=\"1\" stroke-width=\"3.2\"/>\n",
       "<circle clip-path=\"url(#clip982)\" cx=\"1664.43\" cy=\"839.217\" r=\"14.4\" fill=\"#009af9\" fill-rule=\"evenodd\" fill-opacity=\"1\" stroke=\"#000000\" stroke-opacity=\"1\" stroke-width=\"3.2\"/>\n",
       "<circle clip-path=\"url(#clip982)\" cx=\"1290.97\" cy=\"858.238\" r=\"14.4\" fill=\"#009af9\" fill-rule=\"evenodd\" fill-opacity=\"1\" stroke=\"#000000\" stroke-opacity=\"1\" stroke-width=\"3.2\"/>\n",
       "<circle clip-path=\"url(#clip982)\" cx=\"1825.56\" cy=\"850.533\" r=\"14.4\" fill=\"#009af9\" fill-rule=\"evenodd\" fill-opacity=\"1\" stroke=\"#000000\" stroke-opacity=\"1\" stroke-width=\"3.2\"/>\n",
       "<circle clip-path=\"url(#clip982)\" cx=\"1544.16\" cy=\"984.255\" r=\"14.4\" fill=\"#009af9\" fill-rule=\"evenodd\" fill-opacity=\"1\" stroke=\"#000000\" stroke-opacity=\"1\" stroke-width=\"3.2\"/>\n",
       "<circle clip-path=\"url(#clip982)\" cx=\"571.934\" cy=\"590.267\" r=\"14.4\" fill=\"#009af9\" fill-rule=\"evenodd\" fill-opacity=\"1\" stroke=\"#000000\" stroke-opacity=\"1\" stroke-width=\"3.2\"/>\n",
       "<circle clip-path=\"url(#clip982)\" cx=\"640.505\" cy=\"325.221\" r=\"14.4\" fill=\"#009af9\" fill-rule=\"evenodd\" fill-opacity=\"1\" stroke=\"#000000\" stroke-opacity=\"1\" stroke-width=\"3.2\"/>\n",
       "<circle clip-path=\"url(#clip982)\" cx=\"1350.13\" cy=\"943.024\" r=\"14.4\" fill=\"#009af9\" fill-rule=\"evenodd\" fill-opacity=\"1\" stroke=\"#000000\" stroke-opacity=\"1\" stroke-width=\"3.2\"/>\n",
       "<circle clip-path=\"url(#clip982)\" cx=\"1484.98\" cy=\"888.247\" r=\"14.4\" fill=\"#009af9\" fill-rule=\"evenodd\" fill-opacity=\"1\" stroke=\"#000000\" stroke-opacity=\"1\" stroke-width=\"3.2\"/>\n",
       "<circle clip-path=\"url(#clip982)\" cx=\"2041.04\" cy=\"406.954\" r=\"14.4\" fill=\"#009af9\" fill-rule=\"evenodd\" fill-opacity=\"1\" stroke=\"#000000\" stroke-opacity=\"1\" stroke-width=\"3.2\"/>\n",
       "<circle clip-path=\"url(#clip982)\" cx=\"2061.9\" cy=\"597.551\" r=\"14.4\" fill=\"#009af9\" fill-rule=\"evenodd\" fill-opacity=\"1\" stroke=\"#000000\" stroke-opacity=\"1\" stroke-width=\"3.2\"/>\n",
       "<circle clip-path=\"url(#clip982)\" cx=\"743.353\" cy=\"528.412\" r=\"14.4\" fill=\"#009af9\" fill-rule=\"evenodd\" fill-opacity=\"1\" stroke=\"#000000\" stroke-opacity=\"1\" stroke-width=\"3.2\"/>\n",
       "<circle clip-path=\"url(#clip982)\" cx=\"491.3\" cy=\"516.967\" r=\"14.4\" fill=\"#009af9\" fill-rule=\"evenodd\" fill-opacity=\"1\" stroke=\"#000000\" stroke-opacity=\"1\" stroke-width=\"3.2\"/>\n",
       "<circle clip-path=\"url(#clip982)\" cx=\"1494.95\" cy=\"1040.68\" r=\"14.4\" fill=\"#009af9\" fill-rule=\"evenodd\" fill-opacity=\"1\" stroke=\"#000000\" stroke-opacity=\"1\" stroke-width=\"3.2\"/>\n",
       "<circle clip-path=\"url(#clip982)\" cx=\"1575.25\" cy=\"1011.99\" r=\"14.4\" fill=\"#009af9\" fill-rule=\"evenodd\" fill-opacity=\"1\" stroke=\"#000000\" stroke-opacity=\"1\" stroke-width=\"3.2\"/>\n",
       "<circle clip-path=\"url(#clip982)\" cx=\"482.861\" cy=\"635.52\" r=\"14.4\" fill=\"#009af9\" fill-rule=\"evenodd\" fill-opacity=\"1\" stroke=\"#000000\" stroke-opacity=\"1\" stroke-width=\"3.2\"/>\n",
       "<circle clip-path=\"url(#clip982)\" cx=\"1457.18\" cy=\"1208.47\" r=\"14.4\" fill=\"#009af9\" fill-rule=\"evenodd\" fill-opacity=\"1\" stroke=\"#000000\" stroke-opacity=\"1\" stroke-width=\"3.2\"/>\n",
       "<circle clip-path=\"url(#clip982)\" cx=\"713.126\" cy=\"493.313\" r=\"14.4\" fill=\"#009af9\" fill-rule=\"evenodd\" fill-opacity=\"1\" stroke=\"#000000\" stroke-opacity=\"1\" stroke-width=\"3.2\"/>\n",
       "<circle clip-path=\"url(#clip982)\" cx=\"946.877\" cy=\"598.718\" r=\"14.4\" fill=\"#009af9\" fill-rule=\"evenodd\" fill-opacity=\"1\" stroke=\"#000000\" stroke-opacity=\"1\" stroke-width=\"3.2\"/>\n",
       "<circle clip-path=\"url(#clip982)\" cx=\"800.33\" cy=\"522.173\" r=\"14.4\" fill=\"#009af9\" fill-rule=\"evenodd\" fill-opacity=\"1\" stroke=\"#000000\" stroke-opacity=\"1\" stroke-width=\"3.2\"/>\n",
       "<circle clip-path=\"url(#clip982)\" cx=\"399.554\" cy=\"698.663\" r=\"14.4\" fill=\"#009af9\" fill-rule=\"evenodd\" fill-opacity=\"1\" stroke=\"#000000\" stroke-opacity=\"1\" stroke-width=\"3.2\"/>\n",
       "<circle clip-path=\"url(#clip982)\" cx=\"1237.05\" cy=\"872.787\" r=\"14.4\" fill=\"#009af9\" fill-rule=\"evenodd\" fill-opacity=\"1\" stroke=\"#000000\" stroke-opacity=\"1\" stroke-width=\"3.2\"/>\n",
       "<circle clip-path=\"url(#clip982)\" cx=\"1986.01\" cy=\"532.335\" r=\"14.4\" fill=\"#009af9\" fill-rule=\"evenodd\" fill-opacity=\"1\" stroke=\"#000000\" stroke-opacity=\"1\" stroke-width=\"3.2\"/>\n",
       "<circle clip-path=\"url(#clip982)\" cx=\"459.51\" cy=\"624.14\" r=\"14.4\" fill=\"#009af9\" fill-rule=\"evenodd\" fill-opacity=\"1\" stroke=\"#000000\" stroke-opacity=\"1\" stroke-width=\"3.2\"/>\n",
       "<circle clip-path=\"url(#clip982)\" cx=\"1793.47\" cy=\"665.759\" r=\"14.4\" fill=\"#009af9\" fill-rule=\"evenodd\" fill-opacity=\"1\" stroke=\"#000000\" stroke-opacity=\"1\" stroke-width=\"3.2\"/>\n",
       "<circle clip-path=\"url(#clip982)\" cx=\"445.421\" cy=\"738.933\" r=\"14.4\" fill=\"#009af9\" fill-rule=\"evenodd\" fill-opacity=\"1\" stroke=\"#000000\" stroke-opacity=\"1\" stroke-width=\"3.2\"/>\n",
       "<circle clip-path=\"url(#clip982)\" cx=\"1539.33\" cy=\"942.868\" r=\"14.4\" fill=\"#009af9\" fill-rule=\"evenodd\" fill-opacity=\"1\" stroke=\"#000000\" stroke-opacity=\"1\" stroke-width=\"3.2\"/>\n",
       "<circle clip-path=\"url(#clip982)\" cx=\"724.402\" cy=\"368.741\" r=\"14.4\" fill=\"#009af9\" fill-rule=\"evenodd\" fill-opacity=\"1\" stroke=\"#000000\" stroke-opacity=\"1\" stroke-width=\"3.2\"/>\n",
       "<circle clip-path=\"url(#clip982)\" cx=\"1919.29\" cy=\"654.857\" r=\"14.4\" fill=\"#009af9\" fill-rule=\"evenodd\" fill-opacity=\"1\" stroke=\"#000000\" stroke-opacity=\"1\" stroke-width=\"3.2\"/>\n",
       "<circle clip-path=\"url(#clip982)\" cx=\"1827.67\" cy=\"712.707\" r=\"14.4\" fill=\"#009af9\" fill-rule=\"evenodd\" fill-opacity=\"1\" stroke=\"#000000\" stroke-opacity=\"1\" stroke-width=\"3.2\"/>\n",
       "<circle clip-path=\"url(#clip982)\" cx=\"2128.67\" cy=\"441.463\" r=\"14.4\" fill=\"#009af9\" fill-rule=\"evenodd\" fill-opacity=\"1\" stroke=\"#000000\" stroke-opacity=\"1\" stroke-width=\"3.2\"/>\n",
       "<circle clip-path=\"url(#clip982)\" cx=\"905.748\" cy=\"626.567\" r=\"14.4\" fill=\"#009af9\" fill-rule=\"evenodd\" fill-opacity=\"1\" stroke=\"#000000\" stroke-opacity=\"1\" stroke-width=\"3.2\"/>\n",
       "<circle clip-path=\"url(#clip982)\" cx=\"374.389\" cy=\"820.81\" r=\"14.4\" fill=\"#009af9\" fill-rule=\"evenodd\" fill-opacity=\"1\" stroke=\"#000000\" stroke-opacity=\"1\" stroke-width=\"3.2\"/>\n",
       "<circle clip-path=\"url(#clip982)\" cx=\"1249.05\" cy=\"940.226\" r=\"14.4\" fill=\"#009af9\" fill-rule=\"evenodd\" fill-opacity=\"1\" stroke=\"#000000\" stroke-opacity=\"1\" stroke-width=\"3.2\"/>\n",
       "<circle clip-path=\"url(#clip982)\" cx=\"878.176\" cy=\"638.294\" r=\"14.4\" fill=\"#009af9\" fill-rule=\"evenodd\" fill-opacity=\"1\" stroke=\"#000000\" stroke-opacity=\"1\" stroke-width=\"3.2\"/>\n",
       "<circle clip-path=\"url(#clip982)\" cx=\"1373.63\" cy=\"875.875\" r=\"14.4\" fill=\"#009af9\" fill-rule=\"evenodd\" fill-opacity=\"1\" stroke=\"#000000\" stroke-opacity=\"1\" stroke-width=\"3.2\"/>\n",
       "<circle clip-path=\"url(#clip982)\" cx=\"1525.53\" cy=\"1149.16\" r=\"14.4\" fill=\"#009af9\" fill-rule=\"evenodd\" fill-opacity=\"1\" stroke=\"#000000\" stroke-opacity=\"1\" stroke-width=\"3.2\"/>\n",
       "<circle clip-path=\"url(#clip982)\" cx=\"1298.41\" cy=\"876.413\" r=\"14.4\" fill=\"#009af9\" fill-rule=\"evenodd\" fill-opacity=\"1\" stroke=\"#000000\" stroke-opacity=\"1\" stroke-width=\"3.2\"/>\n",
       "<circle clip-path=\"url(#clip982)\" cx=\"1037.1\" cy=\"677.877\" r=\"14.4\" fill=\"#009af9\" fill-rule=\"evenodd\" fill-opacity=\"1\" stroke=\"#000000\" stroke-opacity=\"1\" stroke-width=\"3.2\"/>\n",
       "<circle clip-path=\"url(#clip982)\" cx=\"1926.73\" cy=\"657.813\" r=\"14.4\" fill=\"#009af9\" fill-rule=\"evenodd\" fill-opacity=\"1\" stroke=\"#000000\" stroke-opacity=\"1\" stroke-width=\"3.2\"/>\n",
       "<circle clip-path=\"url(#clip982)\" cx=\"1792.5\" cy=\"709.911\" r=\"14.4\" fill=\"#009af9\" fill-rule=\"evenodd\" fill-opacity=\"1\" stroke=\"#000000\" stroke-opacity=\"1\" stroke-width=\"3.2\"/>\n",
       "<circle clip-path=\"url(#clip982)\" cx=\"1919\" cy=\"550.483\" r=\"14.4\" fill=\"#009af9\" fill-rule=\"evenodd\" fill-opacity=\"1\" stroke=\"#000000\" stroke-opacity=\"1\" stroke-width=\"3.2\"/>\n",
       "<circle clip-path=\"url(#clip982)\" cx=\"1889.56\" cy=\"640.38\" r=\"14.4\" fill=\"#009af9\" fill-rule=\"evenodd\" fill-opacity=\"1\" stroke=\"#000000\" stroke-opacity=\"1\" stroke-width=\"3.2\"/>\n",
       "<circle clip-path=\"url(#clip982)\" cx=\"1313.05\" cy=\"982.216\" r=\"14.4\" fill=\"#009af9\" fill-rule=\"evenodd\" fill-opacity=\"1\" stroke=\"#000000\" stroke-opacity=\"1\" stroke-width=\"3.2\"/>\n",
       "<circle clip-path=\"url(#clip982)\" cx=\"2018.8\" cy=\"559.538\" r=\"14.4\" fill=\"#009af9\" fill-rule=\"evenodd\" fill-opacity=\"1\" stroke=\"#000000\" stroke-opacity=\"1\" stroke-width=\"3.2\"/>\n",
       "<circle clip-path=\"url(#clip982)\" cx=\"1687.02\" cy=\"1048.59\" r=\"14.4\" fill=\"#009af9\" fill-rule=\"evenodd\" fill-opacity=\"1\" stroke=\"#000000\" stroke-opacity=\"1\" stroke-width=\"3.2\"/>\n",
       "<circle clip-path=\"url(#clip982)\" cx=\"2087.68\" cy=\"433.352\" r=\"14.4\" fill=\"#009af9\" fill-rule=\"evenodd\" fill-opacity=\"1\" stroke=\"#000000\" stroke-opacity=\"1\" stroke-width=\"3.2\"/>\n",
       "<circle clip-path=\"url(#clip982)\" cx=\"678.337\" cy=\"383.519\" r=\"14.4\" fill=\"#009af9\" fill-rule=\"evenodd\" fill-opacity=\"1\" stroke=\"#000000\" stroke-opacity=\"1\" stroke-width=\"3.2\"/>\n",
       "<circle clip-path=\"url(#clip982)\" cx=\"1414.23\" cy=\"914.599\" r=\"14.4\" fill=\"#009af9\" fill-rule=\"evenodd\" fill-opacity=\"1\" stroke=\"#000000\" stroke-opacity=\"1\" stroke-width=\"3.2\"/>\n",
       "<circle clip-path=\"url(#clip982)\" cx=\"814.305\" cy=\"329.026\" r=\"14.4\" fill=\"#009af9\" fill-rule=\"evenodd\" fill-opacity=\"1\" stroke=\"#000000\" stroke-opacity=\"1\" stroke-width=\"3.2\"/>\n",
       "<circle clip-path=\"url(#clip982)\" cx=\"516.799\" cy=\"448.006\" r=\"14.4\" fill=\"#009af9\" fill-rule=\"evenodd\" fill-opacity=\"1\" stroke=\"#000000\" stroke-opacity=\"1\" stroke-width=\"3.2\"/>\n",
       "<circle clip-path=\"url(#clip982)\" cx=\"673.332\" cy=\"409.799\" r=\"14.4\" fill=\"#009af9\" fill-rule=\"evenodd\" fill-opacity=\"1\" stroke=\"#000000\" stroke-opacity=\"1\" stroke-width=\"3.2\"/>\n",
       "<circle clip-path=\"url(#clip982)\" cx=\"1875.82\" cy=\"571.095\" r=\"14.4\" fill=\"#009af9\" fill-rule=\"evenodd\" fill-opacity=\"1\" stroke=\"#000000\" stroke-opacity=\"1\" stroke-width=\"3.2\"/>\n",
       "<circle clip-path=\"url(#clip982)\" cx=\"1998.62\" cy=\"630.257\" r=\"14.4\" fill=\"#009af9\" fill-rule=\"evenodd\" fill-opacity=\"1\" stroke=\"#000000\" stroke-opacity=\"1\" stroke-width=\"3.2\"/>\n",
       "<circle clip-path=\"url(#clip982)\" cx=\"611.144\" cy=\"560.27\" r=\"14.4\" fill=\"#009af9\" fill-rule=\"evenodd\" fill-opacity=\"1\" stroke=\"#000000\" stroke-opacity=\"1\" stroke-width=\"3.2\"/>\n",
       "<circle clip-path=\"url(#clip982)\" cx=\"1674.03\" cy=\"856.178\" r=\"14.4\" fill=\"#009af9\" fill-rule=\"evenodd\" fill-opacity=\"1\" stroke=\"#000000\" stroke-opacity=\"1\" stroke-width=\"3.2\"/>\n",
       "<circle clip-path=\"url(#clip982)\" cx=\"922.606\" cy=\"572.436\" r=\"14.4\" fill=\"#009af9\" fill-rule=\"evenodd\" fill-opacity=\"1\" stroke=\"#000000\" stroke-opacity=\"1\" stroke-width=\"3.2\"/>\n",
       "<circle clip-path=\"url(#clip982)\" cx=\"1898.25\" cy=\"513.128\" r=\"14.4\" fill=\"#009af9\" fill-rule=\"evenodd\" fill-opacity=\"1\" stroke=\"#000000\" stroke-opacity=\"1\" stroke-width=\"3.2\"/>\n",
       "<circle clip-path=\"url(#clip982)\" cx=\"1874.32\" cy=\"491.656\" r=\"14.4\" fill=\"#009af9\" fill-rule=\"evenodd\" fill-opacity=\"1\" stroke=\"#000000\" stroke-opacity=\"1\" stroke-width=\"3.2\"/>\n",
       "<circle clip-path=\"url(#clip982)\" cx=\"1251.78\" cy=\"1077.27\" r=\"14.4\" fill=\"#009af9\" fill-rule=\"evenodd\" fill-opacity=\"1\" stroke=\"#000000\" stroke-opacity=\"1\" stroke-width=\"3.2\"/>\n",
       "<circle clip-path=\"url(#clip982)\" cx=\"1319.3\" cy=\"1042.43\" r=\"14.4\" fill=\"#009af9\" fill-rule=\"evenodd\" fill-opacity=\"1\" stroke=\"#000000\" stroke-opacity=\"1\" stroke-width=\"3.2\"/>\n",
       "<circle clip-path=\"url(#clip982)\" cx=\"1710.77\" cy=\"830.39\" r=\"14.4\" fill=\"#009af9\" fill-rule=\"evenodd\" fill-opacity=\"1\" stroke=\"#000000\" stroke-opacity=\"1\" stroke-width=\"3.2\"/>\n",
       "<circle clip-path=\"url(#clip982)\" cx=\"502.245\" cy=\"654.572\" r=\"14.4\" fill=\"#009af9\" fill-rule=\"evenodd\" fill-opacity=\"1\" stroke=\"#000000\" stroke-opacity=\"1\" stroke-width=\"3.2\"/>\n",
       "<circle clip-path=\"url(#clip982)\" cx=\"944.967\" cy=\"532.254\" r=\"14.4\" fill=\"#009af9\" fill-rule=\"evenodd\" fill-opacity=\"1\" stroke=\"#000000\" stroke-opacity=\"1\" stroke-width=\"3.2\"/>\n",
       "<circle clip-path=\"url(#clip982)\" cx=\"1988.39\" cy=\"500.389\" r=\"14.4\" fill=\"#009af9\" fill-rule=\"evenodd\" fill-opacity=\"1\" stroke=\"#000000\" stroke-opacity=\"1\" stroke-width=\"3.2\"/>\n",
       "<circle clip-path=\"url(#clip982)\" cx=\"882.848\" cy=\"588.523\" r=\"14.4\" fill=\"#009af9\" fill-rule=\"evenodd\" fill-opacity=\"1\" stroke=\"#000000\" stroke-opacity=\"1\" stroke-width=\"3.2\"/>\n",
       "<circle clip-path=\"url(#clip982)\" cx=\"531.973\" cy=\"595.183\" r=\"14.4\" fill=\"#009af9\" fill-rule=\"evenodd\" fill-opacity=\"1\" stroke=\"#000000\" stroke-opacity=\"1\" stroke-width=\"3.2\"/>\n",
       "<circle clip-path=\"url(#clip982)\" cx=\"1098.73\" cy=\"656.656\" r=\"14.4\" fill=\"#009af9\" fill-rule=\"evenodd\" fill-opacity=\"1\" stroke=\"#000000\" stroke-opacity=\"1\" stroke-width=\"3.2\"/>\n",
       "<circle clip-path=\"url(#clip982)\" cx=\"1270.05\" cy=\"1049.3\" r=\"14.4\" fill=\"#009af9\" fill-rule=\"evenodd\" fill-opacity=\"1\" stroke=\"#000000\" stroke-opacity=\"1\" stroke-width=\"3.2\"/>\n",
       "<circle clip-path=\"url(#clip982)\" cx=\"1279.09\" cy=\"958.607\" r=\"14.4\" fill=\"#009af9\" fill-rule=\"evenodd\" fill-opacity=\"1\" stroke=\"#000000\" stroke-opacity=\"1\" stroke-width=\"3.2\"/>\n",
       "<circle clip-path=\"url(#clip982)\" cx=\"610.652\" cy=\"546.559\" r=\"14.4\" fill=\"#009af9\" fill-rule=\"evenodd\" fill-opacity=\"1\" stroke=\"#000000\" stroke-opacity=\"1\" stroke-width=\"3.2\"/>\n",
       "<circle clip-path=\"url(#clip982)\" cx=\"1702.02\" cy=\"906.658\" r=\"14.4\" fill=\"#009af9\" fill-rule=\"evenodd\" fill-opacity=\"1\" stroke=\"#000000\" stroke-opacity=\"1\" stroke-width=\"3.2\"/>\n",
       "<circle clip-path=\"url(#clip982)\" cx=\"680.027\" cy=\"474.658\" r=\"14.4\" fill=\"#009af9\" fill-rule=\"evenodd\" fill-opacity=\"1\" stroke=\"#000000\" stroke-opacity=\"1\" stroke-width=\"3.2\"/>\n",
       "<circle clip-path=\"url(#clip982)\" cx=\"1145.7\" cy=\"841.579\" r=\"14.4\" fill=\"#009af9\" fill-rule=\"evenodd\" fill-opacity=\"1\" stroke=\"#000000\" stroke-opacity=\"1\" stroke-width=\"3.2\"/>\n",
       "<circle clip-path=\"url(#clip982)\" cx=\"1265.89\" cy=\"1075.89\" r=\"14.4\" fill=\"#009af9\" fill-rule=\"evenodd\" fill-opacity=\"1\" stroke=\"#000000\" stroke-opacity=\"1\" stroke-width=\"3.2\"/>\n",
       "<circle clip-path=\"url(#clip982)\" cx=\"708.33\" cy=\"359.896\" r=\"14.4\" fill=\"#009af9\" fill-rule=\"evenodd\" fill-opacity=\"1\" stroke=\"#000000\" stroke-opacity=\"1\" stroke-width=\"3.2\"/>\n",
       "<circle clip-path=\"url(#clip982)\" cx=\"1754.76\" cy=\"744.412\" r=\"14.4\" fill=\"#009af9\" fill-rule=\"evenodd\" fill-opacity=\"1\" stroke=\"#000000\" stroke-opacity=\"1\" stroke-width=\"3.2\"/>\n",
       "<circle clip-path=\"url(#clip982)\" cx=\"449.564\" cy=\"665.791\" r=\"14.4\" fill=\"#009af9\" fill-rule=\"evenodd\" fill-opacity=\"1\" stroke=\"#000000\" stroke-opacity=\"1\" stroke-width=\"3.2\"/>\n",
       "<circle clip-path=\"url(#clip982)\" cx=\"744.551\" cy=\"558.489\" r=\"14.4\" fill=\"#009af9\" fill-rule=\"evenodd\" fill-opacity=\"1\" stroke=\"#000000\" stroke-opacity=\"1\" stroke-width=\"3.2\"/>\n",
       "<circle clip-path=\"url(#clip982)\" cx=\"1869.58\" cy=\"597.931\" r=\"14.4\" fill=\"#009af9\" fill-rule=\"evenodd\" fill-opacity=\"1\" stroke=\"#000000\" stroke-opacity=\"1\" stroke-width=\"3.2\"/>\n",
       "<circle clip-path=\"url(#clip982)\" cx=\"1357.28\" cy=\"1002.98\" r=\"14.4\" fill=\"#009af9\" fill-rule=\"evenodd\" fill-opacity=\"1\" stroke=\"#000000\" stroke-opacity=\"1\" stroke-width=\"3.2\"/>\n",
       "<circle clip-path=\"url(#clip982)\" cx=\"1414.43\" cy=\"916.785\" r=\"14.4\" fill=\"#009af9\" fill-rule=\"evenodd\" fill-opacity=\"1\" stroke=\"#000000\" stroke-opacity=\"1\" stroke-width=\"3.2\"/>\n",
       "<circle clip-path=\"url(#clip982)\" cx=\"1392.97\" cy=\"1140.82\" r=\"14.4\" fill=\"#009af9\" fill-rule=\"evenodd\" fill-opacity=\"1\" stroke=\"#000000\" stroke-opacity=\"1\" stroke-width=\"3.2\"/>\n",
       "<circle clip-path=\"url(#clip982)\" cx=\"539.467\" cy=\"371.563\" r=\"14.4\" fill=\"#009af9\" fill-rule=\"evenodd\" fill-opacity=\"1\" stroke=\"#000000\" stroke-opacity=\"1\" stroke-width=\"3.2\"/>\n",
       "<circle clip-path=\"url(#clip982)\" cx=\"1907.06\" cy=\"504.994\" r=\"14.4\" fill=\"#009af9\" fill-rule=\"evenodd\" fill-opacity=\"1\" stroke=\"#000000\" stroke-opacity=\"1\" stroke-width=\"3.2\"/>\n",
       "<circle clip-path=\"url(#clip982)\" cx=\"1703.84\" cy=\"819.703\" r=\"14.4\" fill=\"#009af9\" fill-rule=\"evenodd\" fill-opacity=\"1\" stroke=\"#000000\" stroke-opacity=\"1\" stroke-width=\"3.2\"/>\n",
       "<circle clip-path=\"url(#clip982)\" cx=\"1706.25\" cy=\"1061.8\" r=\"14.4\" fill=\"#009af9\" fill-rule=\"evenodd\" fill-opacity=\"1\" stroke=\"#000000\" stroke-opacity=\"1\" stroke-width=\"3.2\"/>\n",
       "<circle clip-path=\"url(#clip982)\" cx=\"529.259\" cy=\"688.95\" r=\"14.4\" fill=\"#009af9\" fill-rule=\"evenodd\" fill-opacity=\"1\" stroke=\"#000000\" stroke-opacity=\"1\" stroke-width=\"3.2\"/>\n",
       "<circle clip-path=\"url(#clip982)\" cx=\"1984.52\" cy=\"444.444\" r=\"14.4\" fill=\"#009af9\" fill-rule=\"evenodd\" fill-opacity=\"1\" stroke=\"#000000\" stroke-opacity=\"1\" stroke-width=\"3.2\"/>\n",
       "<circle clip-path=\"url(#clip982)\" cx=\"878.049\" cy=\"515.07\" r=\"14.4\" fill=\"#009af9\" fill-rule=\"evenodd\" fill-opacity=\"1\" stroke=\"#000000\" stroke-opacity=\"1\" stroke-width=\"3.2\"/>\n",
       "<circle clip-path=\"url(#clip982)\" cx=\"1982.59\" cy=\"367.703\" r=\"14.4\" fill=\"#009af9\" fill-rule=\"evenodd\" fill-opacity=\"1\" stroke=\"#000000\" stroke-opacity=\"1\" stroke-width=\"3.2\"/>\n",
       "<circle clip-path=\"url(#clip982)\" cx=\"2063.77\" cy=\"650.552\" r=\"14.4\" fill=\"#009af9\" fill-rule=\"evenodd\" fill-opacity=\"1\" stroke=\"#000000\" stroke-opacity=\"1\" stroke-width=\"3.2\"/>\n",
       "<circle clip-path=\"url(#clip982)\" cx=\"1526.09\" cy=\"975.655\" r=\"14.4\" fill=\"#009af9\" fill-rule=\"evenodd\" fill-opacity=\"1\" stroke=\"#000000\" stroke-opacity=\"1\" stroke-width=\"3.2\"/>\n",
       "<circle clip-path=\"url(#clip982)\" cx=\"2024.82\" cy=\"399.992\" r=\"14.4\" fill=\"#009af9\" fill-rule=\"evenodd\" fill-opacity=\"1\" stroke=\"#000000\" stroke-opacity=\"1\" stroke-width=\"3.2\"/>\n",
       "<circle clip-path=\"url(#clip982)\" cx=\"1818.11\" cy=\"709.872\" r=\"14.4\" fill=\"#009af9\" fill-rule=\"evenodd\" fill-opacity=\"1\" stroke=\"#000000\" stroke-opacity=\"1\" stroke-width=\"3.2\"/>\n",
       "<circle clip-path=\"url(#clip982)\" cx=\"878.966\" cy=\"693.133\" r=\"14.4\" fill=\"#009af9\" fill-rule=\"evenodd\" fill-opacity=\"1\" stroke=\"#000000\" stroke-opacity=\"1\" stroke-width=\"3.2\"/>\n",
       "<circle clip-path=\"url(#clip982)\" cx=\"1070.03\" cy=\"740.784\" r=\"14.4\" fill=\"#009af9\" fill-rule=\"evenodd\" fill-opacity=\"1\" stroke=\"#000000\" stroke-opacity=\"1\" stroke-width=\"3.2\"/>\n",
       "<circle clip-path=\"url(#clip982)\" cx=\"1622.89\" cy=\"990.225\" r=\"14.4\" fill=\"#009af9\" fill-rule=\"evenodd\" fill-opacity=\"1\" stroke=\"#000000\" stroke-opacity=\"1\" stroke-width=\"3.2\"/>\n",
       "<circle clip-path=\"url(#clip982)\" cx=\"1126.03\" cy=\"720.306\" r=\"14.4\" fill=\"#009af9\" fill-rule=\"evenodd\" fill-opacity=\"1\" stroke=\"#000000\" stroke-opacity=\"1\" stroke-width=\"3.2\"/>\n",
       "<circle clip-path=\"url(#clip982)\" cx=\"849.736\" cy=\"666.494\" r=\"14.4\" fill=\"#009af9\" fill-rule=\"evenodd\" fill-opacity=\"1\" stroke=\"#000000\" stroke-opacity=\"1\" stroke-width=\"3.2\"/>\n",
       "<circle clip-path=\"url(#clip982)\" cx=\"1128.52\" cy=\"917.393\" r=\"14.4\" fill=\"#009af9\" fill-rule=\"evenodd\" fill-opacity=\"1\" stroke=\"#000000\" stroke-opacity=\"1\" stroke-width=\"3.2\"/>\n",
       "<circle clip-path=\"url(#clip982)\" cx=\"1805.78\" cy=\"858.178\" r=\"14.4\" fill=\"#009af9\" fill-rule=\"evenodd\" fill-opacity=\"1\" stroke=\"#000000\" stroke-opacity=\"1\" stroke-width=\"3.2\"/>\n",
       "<circle clip-path=\"url(#clip982)\" cx=\"721.212\" cy=\"441.314\" r=\"14.4\" fill=\"#009af9\" fill-rule=\"evenodd\" fill-opacity=\"1\" stroke=\"#000000\" stroke-opacity=\"1\" stroke-width=\"3.2\"/>\n",
       "<circle clip-path=\"url(#clip982)\" cx=\"825.26\" cy=\"549.497\" r=\"14.4\" fill=\"#009af9\" fill-rule=\"evenodd\" fill-opacity=\"1\" stroke=\"#000000\" stroke-opacity=\"1\" stroke-width=\"3.2\"/>\n",
       "<circle clip-path=\"url(#clip982)\" cx=\"1612\" cy=\"783.001\" r=\"14.4\" fill=\"#009af9\" fill-rule=\"evenodd\" fill-opacity=\"1\" stroke=\"#000000\" stroke-opacity=\"1\" stroke-width=\"3.2\"/>\n",
       "<circle clip-path=\"url(#clip982)\" cx=\"2083.73\" cy=\"497.533\" r=\"14.4\" fill=\"#009af9\" fill-rule=\"evenodd\" fill-opacity=\"1\" stroke=\"#000000\" stroke-opacity=\"1\" stroke-width=\"3.2\"/>\n",
       "<circle clip-path=\"url(#clip982)\" cx=\"1961.55\" cy=\"669.43\" r=\"14.4\" fill=\"#009af9\" fill-rule=\"evenodd\" fill-opacity=\"1\" stroke=\"#000000\" stroke-opacity=\"1\" stroke-width=\"3.2\"/>\n",
       "<circle clip-path=\"url(#clip982)\" cx=\"1021.48\" cy=\"641.932\" r=\"14.4\" fill=\"#009af9\" fill-rule=\"evenodd\" fill-opacity=\"1\" stroke=\"#000000\" stroke-opacity=\"1\" stroke-width=\"3.2\"/>\n",
       "<circle clip-path=\"url(#clip982)\" cx=\"1935.69\" cy=\"707.878\" r=\"14.4\" fill=\"#009af9\" fill-rule=\"evenodd\" fill-opacity=\"1\" stroke=\"#000000\" stroke-opacity=\"1\" stroke-width=\"3.2\"/>\n",
       "<circle clip-path=\"url(#clip982)\" cx=\"606.552\" cy=\"408.357\" r=\"14.4\" fill=\"#009af9\" fill-rule=\"evenodd\" fill-opacity=\"1\" stroke=\"#000000\" stroke-opacity=\"1\" stroke-width=\"3.2\"/>\n",
       "<circle clip-path=\"url(#clip982)\" cx=\"1240.19\" cy=\"830.727\" r=\"14.4\" fill=\"#009af9\" fill-rule=\"evenodd\" fill-opacity=\"1\" stroke=\"#000000\" stroke-opacity=\"1\" stroke-width=\"3.2\"/>\n",
       "<path clip-path=\"url(#clip982)\" d=\"M147.478 1228.6 L192.484 1168.4 L237.489 1122.34 L282.495 1089.43 L327.501 1067.98 L372.506 1056.08 L417.512 1051.92 L462.518 1054.04 L507.523 1061.32 L552.529 1072.89 L597.535 1088.03 L642.54 1106.09 L687.546 1126.56 L732.552 1149.09 L777.557 1173.55 L822.563 1199.8 L867.569 1227.52 L912.574 1255.95 L957.58 1283.94 L1002.59 1310.15 L1047.59 1333.33 L1092.6 1352.68 L1137.6 1367.87 L1182.61 1379.03 L1227.61 1386.5 L1272.62 1390.7 L1317.63 1391.99 L1362.63 1390.59 L1407.64 1386.69 L1452.64 1380.44 L1497.65 1372.02 L1542.65 1361.61 L1587.66 1349.46 L1632.67 1335.78 L1677.67 1320.76 L1722.68 1304.6 L1767.68 1287.46 L1812.69 1269.53 L1857.69 1251.08 L1902.7 1232.44 L1947.7 1214.12 L1992.71 1196.77 L2037.72 1181.25 L2082.72 1168.58 L2127.73 1159.9 L2172.73 1156.41 L2217.74 1159.23 L2262.74 1169.35 L2307.75 1187.46 L2352.76 1213.98 L2352.76 -222.013 L2307.75 -160.778 L2262.74 -107.223 L2217.74 -61.0004 L2172.73 -21.4716 L2127.73 12.2484 L2082.72 41.195 L2037.72 66.4426 L1992.71 88.9946 L1947.7 109.704 L1902.7 129.222 L1857.69 147.99 L1812.69 166.242 L1767.68 184.033 L1722.68 201.28 L1677.67 217.797 L1632.67 233.332 L1587.66 247.601 L1542.65 260.298 L1497.65 271.102 L1452.64 279.67 L1407.64 285.629 L1362.63 288.585 L1317.63 288.164 L1272.62 284.078 L1227.61 276.221 L1182.61 264.739 L1137.6 250.037 L1092.6 232.696 L1047.59 213.311 L1002.59 192.314 L957.58 169.886 L912.574 146.031 L867.569 120.79 L822.563 94.4988 L777.557 67.9213 L732.552 42.1538 L687.546 18.357 L642.54 -2.54059 L597.535 -20.0241 L552.529 -34.0191 L507.523 -44.8259 L462.518 -53.0599 L417.512 -59.6655 L372.506 -65.9963 L327.501 -73.8819 L282.495 -85.5735 L237.489 -103.499 L192.484 -129.857 L147.478 -166.196  Z\" fill=\"#e26f46\" fill-rule=\"evenodd\" fill-opacity=\"0.5\"/>\n",
       "<polyline clip-path=\"url(#clip982)\" style=\"stroke:#e26f46; stroke-linecap:round; stroke-linejoin:round; stroke-width:16; stroke-opacity:1; fill:none\" points=\"147.478,531.202 192.484,519.27 237.489,509.421 282.495,501.926 327.501,497.049 372.506,495.042 417.512,496.129 462.518,500.491 507.523,508.247 552.529,519.438 597.535,534.005 642.54,551.776 687.546,572.457 732.552,595.624 777.557,620.737 822.563,647.152 867.569,674.153 912.574,700.989 957.58,726.914 1002.59,751.23 1047.59,773.322 1092.6,792.688 1137.6,808.955 1182.61,821.883 1227.61,831.361 1272.62,837.391 1317.63,840.076 1362.63,839.589 1407.64,836.161 1452.64,830.057 1497.65,821.559 1542.65,810.956 1587.66,798.531 1632.67,784.555 1677.67,769.281 1722.68,752.941 1767.68,735.747 1812.69,717.888 1857.69,699.534 1902.7,680.831 1947.7,661.91 1992.71,642.884 2037.72,623.849 2082.72,604.889 2127.73,586.075 2172.73,567.467 2217.74,549.115 2262.74,531.063 2307.75,513.343 2352.76,495.985 \"/>\n",
       "<path clip-path=\"url(#clip980)\" d=\"M1925.76 1438.47 L2279.25 1438.47 L2279.25 1282.95 L1925.76 1282.95  Z\" fill=\"#ffffff\" fill-rule=\"evenodd\" fill-opacity=\"1\"/>\n",
       "<polyline clip-path=\"url(#clip980)\" style=\"stroke:#000000; stroke-linecap:round; stroke-linejoin:round; stroke-width:4; stroke-opacity:1; fill:none\" points=\"1925.76,1438.47 2279.25,1438.47 2279.25,1282.95 1925.76,1282.95 1925.76,1438.47 \"/>\n",
       "<circle clip-path=\"url(#clip980)\" cx=\"2023.77\" cy=\"1334.79\" r=\"20.48\" fill=\"#009af9\" fill-rule=\"evenodd\" fill-opacity=\"1\" stroke=\"#000000\" stroke-opacity=\"1\" stroke-width=\"4.55111\"/>\n",
       "<path clip-path=\"url(#clip980)\" d=\"M2135.62 1354.48 Q2133.82 1359.11 2132.11 1360.52 Q2130.39 1361.94 2127.52 1361.94 L2124.12 1361.94 L2124.12 1358.37 L2126.62 1358.37 Q2128.38 1358.37 2129.35 1357.54 Q2130.32 1356.7 2131.5 1353.6 L2132.27 1351.66 L2121.78 1326.15 L2126.3 1326.15 L2134.4 1346.43 L2142.5 1326.15 L2147.01 1326.15 L2135.62 1354.48 Z\" fill=\"#000000\" fill-rule=\"nonzero\" fill-opacity=\"1\" /><path clip-path=\"url(#clip980)\" d=\"M2157.11 1318.79 L2157.11 1326.15 L2165.88 1326.15 L2165.88 1329.46 L2157.11 1329.46 L2157.11 1343.53 Q2157.11 1346.7 2157.96 1347.61 Q2158.84 1348.51 2161.5 1348.51 L2165.88 1348.51 L2165.88 1352.07 L2161.5 1352.07 Q2156.57 1352.07 2154.7 1350.25 Q2152.82 1348.39 2152.82 1343.53 L2152.82 1329.46 L2149.7 1329.46 L2149.7 1326.15 L2152.82 1326.15 L2152.82 1318.79 L2157.11 1318.79 Z\" fill=\"#000000\" fill-rule=\"nonzero\" fill-opacity=\"1\" /><path clip-path=\"url(#clip980)\" d=\"M2186.5 1330.13 Q2185.79 1329.71 2184.93 1329.53 Q2184.1 1329.32 2183.08 1329.32 Q2179.47 1329.32 2177.52 1331.68 Q2175.6 1334.02 2175.6 1338.42 L2175.6 1352.07 L2171.32 1352.07 L2171.32 1326.15 L2175.6 1326.15 L2175.6 1330.18 Q2176.94 1327.82 2179.1 1326.68 Q2181.25 1325.52 2184.33 1325.52 Q2184.77 1325.52 2185.3 1325.59 Q2185.83 1325.64 2186.48 1325.76 L2186.5 1330.13 Z\" fill=\"#000000\" fill-rule=\"nonzero\" fill-opacity=\"1\" /><path clip-path=\"url(#clip980)\" d=\"M2202.75 1339.04 Q2197.59 1339.04 2195.6 1340.22 Q2193.61 1341.4 2193.61 1344.25 Q2193.61 1346.52 2195.09 1347.86 Q2196.6 1349.18 2199.17 1349.18 Q2202.71 1349.18 2204.84 1346.68 Q2206.99 1344.16 2206.99 1339.99 L2206.99 1339.04 L2202.75 1339.04 M2211.25 1337.28 L2211.25 1352.07 L2206.99 1352.07 L2206.99 1348.14 Q2205.53 1350.5 2203.35 1351.63 Q2201.18 1352.75 2198.03 1352.75 Q2194.05 1352.75 2191.69 1350.52 Q2189.35 1348.28 2189.35 1344.53 Q2189.35 1340.15 2192.27 1337.93 Q2195.21 1335.71 2201.02 1335.71 L2206.99 1335.71 L2206.99 1335.29 Q2206.99 1332.35 2205.04 1330.76 Q2203.12 1329.13 2199.63 1329.13 Q2197.41 1329.13 2195.3 1329.67 Q2193.19 1330.2 2191.25 1331.26 L2191.25 1327.33 Q2193.59 1326.43 2195.79 1325.99 Q2197.98 1325.52 2200.07 1325.52 Q2205.69 1325.52 2208.47 1328.44 Q2211.25 1331.36 2211.25 1337.28 Z\" fill=\"#000000\" fill-rule=\"nonzero\" fill-opacity=\"1\" /><path clip-path=\"url(#clip980)\" d=\"M2220.02 1326.15 L2224.28 1326.15 L2224.28 1352.07 L2220.02 1352.07 L2220.02 1326.15 M2220.02 1316.06 L2224.28 1316.06 L2224.28 1321.45 L2220.02 1321.45 L2220.02 1316.06 Z\" fill=\"#000000\" fill-rule=\"nonzero\" fill-opacity=\"1\" /><path clip-path=\"url(#clip980)\" d=\"M2254.74 1336.43 L2254.74 1352.07 L2250.48 1352.07 L2250.48 1336.57 Q2250.48 1332.88 2249.05 1331.06 Q2247.61 1329.23 2244.74 1329.23 Q2241.29 1329.23 2239.3 1331.43 Q2237.31 1333.63 2237.31 1337.42 L2237.31 1352.07 L2233.03 1352.07 L2233.03 1326.15 L2237.31 1326.15 L2237.31 1330.18 Q2238.84 1327.84 2240.9 1326.68 Q2242.98 1325.52 2245.69 1325.52 Q2250.16 1325.52 2252.45 1328.3 Q2254.74 1331.06 2254.74 1336.43 Z\" fill=\"#000000\" fill-rule=\"nonzero\" fill-opacity=\"1\" /><polyline clip-path=\"url(#clip980)\" style=\"stroke:#e26f46; stroke-linecap:round; stroke-linejoin:round; stroke-width:16; stroke-opacity:1; fill:none\" points=\"1950.26,1386.63 2097.28,1386.63 \"/>\n",
       "<path clip-path=\"url(#clip980)\" d=\"M2135.62 1406.32 Q2133.82 1410.95 2132.11 1412.36 Q2130.39 1413.78 2127.52 1413.78 L2124.12 1413.78 L2124.12 1410.21 L2126.62 1410.21 Q2128.38 1410.21 2129.35 1409.38 Q2130.32 1408.54 2131.5 1405.44 L2132.27 1403.5 L2121.78 1377.99 L2126.3 1377.99 L2134.4 1398.27 L2142.5 1377.99 L2147.01 1377.99 L2135.62 1406.32 Z\" fill=\"#000000\" fill-rule=\"nonzero\" fill-opacity=\"1\" /><path clip-path=\"url(#clip980)\" d=\"M2174.44 1388.27 L2174.44 1403.91 L2170.18 1403.91 L2170.18 1388.41 Q2170.18 1384.72 2168.75 1382.9 Q2167.31 1381.07 2164.44 1381.07 Q2160.99 1381.07 2159 1383.27 Q2157.01 1385.47 2157.01 1389.26 L2157.01 1403.91 L2152.73 1403.91 L2152.73 1367.9 L2157.01 1367.9 L2157.01 1382.02 Q2158.54 1379.68 2160.6 1378.52 Q2162.68 1377.36 2165.39 1377.36 Q2169.86 1377.36 2172.15 1380.14 Q2174.44 1382.9 2174.44 1388.27 Z\" fill=\"#000000\" fill-rule=\"nonzero\" fill-opacity=\"1\" /><path clip-path=\"url(#clip980)\" d=\"M2194.72 1390.88 Q2189.56 1390.88 2187.57 1392.06 Q2185.58 1393.24 2185.58 1396.09 Q2185.58 1398.36 2187.06 1399.7 Q2188.56 1401.02 2191.13 1401.02 Q2194.67 1401.02 2196.8 1398.52 Q2198.96 1396 2198.96 1391.83 L2198.96 1390.88 L2194.72 1390.88 M2203.22 1389.12 L2203.22 1403.91 L2198.96 1403.91 L2198.96 1399.98 Q2197.5 1402.34 2195.32 1403.47 Q2193.15 1404.59 2190 1404.59 Q2186.02 1404.59 2183.66 1402.36 Q2181.32 1400.12 2181.32 1396.37 Q2181.32 1391.99 2184.23 1389.77 Q2187.17 1387.55 2192.98 1387.55 L2198.96 1387.55 L2198.96 1387.13 Q2198.96 1384.19 2197.01 1382.6 Q2195.09 1380.97 2191.6 1380.97 Q2189.37 1380.97 2187.27 1381.51 Q2185.16 1382.04 2183.22 1383.1 L2183.22 1379.17 Q2185.55 1378.27 2187.75 1377.83 Q2189.95 1377.36 2192.04 1377.36 Q2197.66 1377.36 2200.44 1380.28 Q2203.22 1383.2 2203.22 1389.12 Z\" fill=\"#000000\" fill-rule=\"nonzero\" fill-opacity=\"1\" /><path clip-path=\"url(#clip980)\" d=\"M2216.2 1370.63 L2216.2 1377.99 L2224.98 1377.99 L2224.98 1381.3 L2216.2 1381.3 L2216.2 1395.37 Q2216.2 1398.54 2217.06 1399.45 Q2217.94 1400.35 2220.6 1400.35 L2224.98 1400.35 L2224.98 1403.91 L2220.6 1403.91 Q2215.67 1403.91 2213.79 1402.09 Q2211.92 1400.23 2211.92 1395.37 L2211.92 1381.3 L2208.79 1381.3 L2208.79 1377.99 L2211.92 1377.99 L2211.92 1370.63 L2216.2 1370.63 Z\" fill=\"#000000\" fill-rule=\"nonzero\" fill-opacity=\"1\" /></svg>\n"
      ]
     },
     "execution_count": 81,
     "metadata": {},
     "output_type": "execute_result"
    }
   ],
   "source": [
    "la = Laplace(nn; likelihood=likelihood, λ=λ, subset_of_weights=:all)\n",
    "fit!(la, data)\n",
    "plot(la, X, y)"
   ]
  },
  {
   "cell_type": "code",
   "execution_count": 65,
   "id": "bd1ff431-bd9e-4587-8ac1-50e73bc33cf4",
   "metadata": {
    "tags": []
   },
   "outputs": [
    {
     "data": {
      "text/plain": [
       "1-element DataLoader(::Tuple{Matrix{Float64}, Matrix{Float64}}, batchsize=128)\n",
       "  with first element:\n",
       "  (1×128 Matrix{Float64}, 1×128 Matrix{Float64},)"
      ]
     },
     "execution_count": 65,
     "metadata": {},
     "output_type": "execute_result"
    }
   ],
   "source": [
    "dataloader_128 = DataLoader((X, Y), batchsize=128)"
   ]
  },
  {
   "cell_type": "code",
   "execution_count": 82,
   "id": "20aa6f70-69da-49e1-97b9-1edca9d00ce8",
   "metadata": {
    "tags": []
   },
   "outputs": [
    {
     "data": {
      "image/png": "[encoded data removed]",
      "image/svg+xml": [
       "<?xml version=\"1.0\" encoding=\"utf-8\"?>\n",
       "<svg xmlns=\"http://www.w3.org/2000/svg\" xmlns:xlink=\"http://www.w3.org/1999/xlink\" width=\"600\" height=\"400\" viewBox=\"0 0 2400 1600\">\n",
       "<defs>\n",
       "  <clipPath id=\"clip020\">\n",
       "    <rect x=\"0\" y=\"0\" width=\"2400\" height=\"1600\"/>\n",
       "  </clipPath>\n",
       "</defs>\n",
       "<path clip-path=\"url(#clip020)\" d=\"M0 1600 L2400 1600 L2400 0 L0 0  Z\" fill=\"#ffffff\" fill-rule=\"evenodd\" fill-opacity=\"1\"/>\n",
       "<defs>\n",
       "  <clipPath id=\"clip021\">\n",
       "    <rect x=\"480\" y=\"0\" width=\"1681\" height=\"1600\"/>\n",
       "  </clipPath>\n",
       "</defs>\n",
       "<path clip-path=\"url(#clip020)\" d=\"M147.478 1486.45 L2352.76 1486.45 L2352.76 47.2441 L147.478 47.2441  Z\" fill=\"#ffffff\" fill-rule=\"evenodd\" fill-opacity=\"1\"/>\n",
       "<defs>\n",
       "  <clipPath id=\"clip022\">\n",
       "    <rect x=\"147\" y=\"47\" width=\"2206\" height=\"1440\"/>\n",
       "  </clipPath>\n",
       "</defs>\n",
       "<polyline clip-path=\"url(#clip022)\" style=\"stroke:#000000; stroke-linecap:round; stroke-linejoin:round; stroke-width:2; stroke-opacity:0.1; fill:none\" points=\"370.047,1486.45 370.047,47.2441 \"/>\n",
       "<polyline clip-path=\"url(#clip022)\" style=\"stroke:#000000; stroke-linecap:round; stroke-linejoin:round; stroke-width:2; stroke-opacity:0.1; fill:none\" points=\"818.212,1486.45 818.212,47.2441 \"/>\n",
       "<polyline clip-path=\"url(#clip022)\" style=\"stroke:#000000; stroke-linecap:round; stroke-linejoin:round; stroke-width:2; stroke-opacity:0.1; fill:none\" points=\"1266.38,1486.45 1266.38,47.2441 \"/>\n",
       "<polyline clip-path=\"url(#clip022)\" style=\"stroke:#000000; stroke-linecap:round; stroke-linejoin:round; stroke-width:2; stroke-opacity:0.1; fill:none\" points=\"1714.54,1486.45 1714.54,47.2441 \"/>\n",
       "<polyline clip-path=\"url(#clip022)\" style=\"stroke:#000000; stroke-linecap:round; stroke-linejoin:round; stroke-width:2; stroke-opacity:0.1; fill:none\" points=\"2162.71,1486.45 2162.71,47.2441 \"/>\n",
       "<polyline clip-path=\"url(#clip020)\" style=\"stroke:#000000; stroke-linecap:round; stroke-linejoin:round; stroke-width:4; stroke-opacity:1; fill:none\" points=\"147.478,1486.45 2352.76,1486.45 \"/>\n",
       "<polyline clip-path=\"url(#clip020)\" style=\"stroke:#000000; stroke-linecap:round; stroke-linejoin:round; stroke-width:4; stroke-opacity:1; fill:none\" points=\"370.047,1486.45 370.047,1467.55 \"/>\n",
       "<polyline clip-path=\"url(#clip020)\" style=\"stroke:#000000; stroke-linecap:round; stroke-linejoin:round; stroke-width:4; stroke-opacity:1; fill:none\" points=\"818.212,1486.45 818.212,1467.55 \"/>\n",
       "<polyline clip-path=\"url(#clip020)\" style=\"stroke:#000000; stroke-linecap:round; stroke-linejoin:round; stroke-width:4; stroke-opacity:1; fill:none\" points=\"1266.38,1486.45 1266.38,1467.55 \"/>\n",
       "<polyline clip-path=\"url(#clip020)\" style=\"stroke:#000000; stroke-linecap:round; stroke-linejoin:round; stroke-width:4; stroke-opacity:1; fill:none\" points=\"1714.54,1486.45 1714.54,1467.55 \"/>\n",
       "<polyline clip-path=\"url(#clip020)\" style=\"stroke:#000000; stroke-linecap:round; stroke-linejoin:round; stroke-width:4; stroke-opacity:1; fill:none\" points=\"2162.71,1486.45 2162.71,1467.55 \"/>\n",
       "<path clip-path=\"url(#clip020)\" d=\"M370.047 1517.37 Q366.436 1517.37 364.608 1520.93 Q362.802 1524.47 362.802 1531.6 Q362.802 1538.71 364.608 1542.27 Q366.436 1545.82 370.047 1545.82 Q373.682 1545.82 375.487 1542.27 Q377.316 1538.71 377.316 1531.6 Q377.316 1524.47 375.487 1520.93 Q373.682 1517.37 370.047 1517.37 M370.047 1513.66 Q375.858 1513.66 378.913 1518.27 Q381.992 1522.85 381.992 1531.6 Q381.992 1540.33 378.913 1544.94 Q375.858 1549.52 370.047 1549.52 Q364.237 1549.52 361.159 1544.94 Q358.103 1540.33 358.103 1531.6 Q358.103 1522.85 361.159 1518.27 Q364.237 1513.66 370.047 1513.66 Z\" fill=\"#000000\" fill-rule=\"nonzero\" fill-opacity=\"1\" /><path clip-path=\"url(#clip020)\" d=\"M812.865 1544.91 L829.184 1544.91 L829.184 1548.85 L807.24 1548.85 L807.24 1544.91 Q809.902 1542.16 814.485 1537.53 Q819.092 1532.88 820.272 1531.53 Q822.518 1529.01 823.397 1527.27 Q824.3 1525.51 824.3 1523.82 Q824.3 1521.07 822.356 1519.33 Q820.434 1517.6 817.333 1517.6 Q815.133 1517.6 812.68 1518.36 Q810.249 1519.13 807.471 1520.68 L807.471 1515.95 Q810.296 1514.82 812.749 1514.24 Q815.203 1513.66 817.24 1513.66 Q822.61 1513.66 825.805 1516.35 Q828.999 1519.03 828.999 1523.52 Q828.999 1525.65 828.189 1527.57 Q827.402 1529.47 825.295 1532.07 Q824.717 1532.74 821.615 1535.95 Q818.513 1539.15 812.865 1544.91 Z\" fill=\"#000000\" fill-rule=\"nonzero\" fill-opacity=\"1\" /><path clip-path=\"url(#clip020)\" d=\"M1269.39 1518.36 L1257.58 1536.81 L1269.39 1536.81 L1269.39 1518.36 M1268.16 1514.29 L1274.04 1514.29 L1274.04 1536.81 L1278.97 1536.81 L1278.97 1540.7 L1274.04 1540.7 L1274.04 1548.85 L1269.39 1548.85 L1269.39 1540.7 L1253.78 1540.7 L1253.78 1536.19 L1268.16 1514.29 Z\" fill=\"#000000\" fill-rule=\"nonzero\" fill-opacity=\"1\" /><path clip-path=\"url(#clip020)\" d=\"M1714.95 1529.7 Q1711.8 1529.7 1709.95 1531.86 Q1708.12 1534.01 1708.12 1537.76 Q1708.12 1541.49 1709.95 1543.66 Q1711.8 1545.82 1714.95 1545.82 Q1718.09 1545.82 1719.92 1543.66 Q1721.78 1541.49 1721.78 1537.76 Q1721.78 1534.01 1719.92 1531.86 Q1718.09 1529.7 1714.95 1529.7 M1724.23 1515.05 L1724.23 1519.31 Q1722.47 1518.48 1720.66 1518.04 Q1718.88 1517.6 1717.12 1517.6 Q1712.49 1517.6 1710.04 1520.72 Q1707.61 1523.85 1707.26 1530.17 Q1708.63 1528.15 1710.69 1527.09 Q1712.75 1526 1715.22 1526 Q1720.43 1526 1723.44 1529.17 Q1726.47 1532.32 1726.47 1537.76 Q1726.47 1543.08 1723.33 1546.3 Q1720.18 1549.52 1714.95 1549.52 Q1708.95 1549.52 1705.78 1544.94 Q1702.61 1540.33 1702.61 1531.6 Q1702.61 1523.41 1706.5 1518.55 Q1710.39 1513.66 1716.94 1513.66 Q1718.7 1513.66 1720.48 1514.01 Q1722.28 1514.36 1724.23 1515.05 Z\" fill=\"#000000\" fill-rule=\"nonzero\" fill-opacity=\"1\" /><path clip-path=\"url(#clip020)\" d=\"M2162.71 1532.44 Q2159.37 1532.44 2157.45 1534.22 Q2155.55 1536 2155.55 1539.13 Q2155.55 1542.25 2157.45 1544.03 Q2159.37 1545.82 2162.71 1545.82 Q2166.04 1545.82 2167.96 1544.03 Q2169.88 1542.23 2169.88 1539.13 Q2169.88 1536 2167.96 1534.22 Q2166.06 1532.44 2162.71 1532.44 M2158.03 1530.45 Q2155.02 1529.7 2153.33 1527.64 Q2151.66 1525.58 2151.66 1522.62 Q2151.66 1518.48 2154.6 1516.07 Q2157.57 1513.66 2162.71 1513.66 Q2167.87 1513.66 2170.81 1516.07 Q2173.75 1518.48 2173.75 1522.62 Q2173.75 1525.58 2172.06 1527.64 Q2170.39 1529.7 2167.41 1530.45 Q2170.79 1531.23 2172.66 1533.52 Q2174.56 1535.82 2174.56 1539.13 Q2174.56 1544.15 2171.48 1546.83 Q2168.42 1549.52 2162.71 1549.52 Q2156.99 1549.52 2153.91 1546.83 Q2150.85 1544.15 2150.85 1539.13 Q2150.85 1535.82 2152.75 1533.52 Q2154.65 1531.23 2158.03 1530.45 M2156.32 1523.06 Q2156.32 1525.75 2157.98 1527.25 Q2159.67 1528.76 2162.71 1528.76 Q2165.72 1528.76 2167.41 1527.25 Q2169.12 1525.75 2169.12 1523.06 Q2169.12 1520.38 2167.41 1518.87 Q2165.72 1517.37 2162.71 1517.37 Q2159.67 1517.37 2157.98 1518.87 Q2156.32 1520.38 2156.32 1523.06 Z\" fill=\"#000000\" fill-rule=\"nonzero\" fill-opacity=\"1\" /><polyline clip-path=\"url(#clip022)\" style=\"stroke:#000000; stroke-linecap:round; stroke-linejoin:round; stroke-width:2; stroke-opacity:0.1; fill:none\" points=\"147.478,1311.59 2352.76,1311.59 \"/>\n",
       "<polyline clip-path=\"url(#clip022)\" style=\"stroke:#000000; stroke-linecap:round; stroke-linejoin:round; stroke-width:2; stroke-opacity:0.1; fill:none\" points=\"147.478,1033.62 2352.76,1033.62 \"/>\n",
       "<polyline clip-path=\"url(#clip022)\" style=\"stroke:#000000; stroke-linecap:round; stroke-linejoin:round; stroke-width:2; stroke-opacity:0.1; fill:none\" points=\"147.478,755.641 2352.76,755.641 \"/>\n",
       "<polyline clip-path=\"url(#clip022)\" style=\"stroke:#000000; stroke-linecap:round; stroke-linejoin:round; stroke-width:2; stroke-opacity:0.1; fill:none\" points=\"147.478,477.664 2352.76,477.664 \"/>\n",
       "<polyline clip-path=\"url(#clip022)\" style=\"stroke:#000000; stroke-linecap:round; stroke-linejoin:round; stroke-width:2; stroke-opacity:0.1; fill:none\" points=\"147.478,199.687 2352.76,199.687 \"/>\n",
       "<polyline clip-path=\"url(#clip020)\" style=\"stroke:#000000; stroke-linecap:round; stroke-linejoin:round; stroke-width:4; stroke-opacity:1; fill:none\" points=\"147.478,1486.45 147.478,47.2441 \"/>\n",
       "<polyline clip-path=\"url(#clip020)\" style=\"stroke:#000000; stroke-linecap:round; stroke-linejoin:round; stroke-width:4; stroke-opacity:1; fill:none\" points=\"147.478,1311.59 166.376,1311.59 \"/>\n",
       "<polyline clip-path=\"url(#clip020)\" style=\"stroke:#000000; stroke-linecap:round; stroke-linejoin:round; stroke-width:4; stroke-opacity:1; fill:none\" points=\"147.478,1033.62 166.376,1033.62 \"/>\n",
       "<polyline clip-path=\"url(#clip020)\" style=\"stroke:#000000; stroke-linecap:round; stroke-linejoin:round; stroke-width:4; stroke-opacity:1; fill:none\" points=\"147.478,755.641 166.376,755.641 \"/>\n",
       "<polyline clip-path=\"url(#clip020)\" style=\"stroke:#000000; stroke-linecap:round; stroke-linejoin:round; stroke-width:4; stroke-opacity:1; fill:none\" points=\"147.478,477.664 166.376,477.664 \"/>\n",
       "<polyline clip-path=\"url(#clip020)\" style=\"stroke:#000000; stroke-linecap:round; stroke-linejoin:round; stroke-width:4; stroke-opacity:1; fill:none\" points=\"147.478,199.687 166.376,199.687 \"/>\n",
       "<path clip-path=\"url(#clip020)\" d=\"M51.3625 1312.05 L81.0383 1312.05 L81.0383 1315.98 L51.3625 1315.98 L51.3625 1312.05 Z\" fill=\"#000000\" fill-rule=\"nonzero\" fill-opacity=\"1\" /><path clip-path=\"url(#clip020)\" d=\"M95.1586 1324.94 L111.478 1324.94 L111.478 1328.87 L89.5336 1328.87 L89.5336 1324.94 Q92.1956 1322.18 96.7789 1317.56 Q101.385 1312.9 102.566 1311.56 Q104.811 1309.04 105.691 1307.3 Q106.594 1305.54 106.594 1303.85 Q106.594 1301.1 104.649 1299.36 Q102.728 1297.62 99.6261 1297.62 Q97.4271 1297.62 94.9734 1298.39 Q92.5428 1299.15 89.7651 1300.7 L89.7651 1295.98 Q92.5891 1294.85 95.0428 1294.27 Q97.4965 1293.69 99.5335 1293.69 Q104.904 1293.69 108.098 1296.37 Q111.293 1299.06 111.293 1303.55 Q111.293 1305.68 110.483 1307.6 Q109.696 1309.5 107.589 1312.09 Q107.01 1312.76 103.909 1315.98 Q100.807 1319.18 95.1586 1324.94 Z\" fill=\"#000000\" fill-rule=\"nonzero\" fill-opacity=\"1\" /><path clip-path=\"url(#clip020)\" d=\"M50.9921 1034.07 L80.6679 1034.07 L80.6679 1038 L50.9921 1038 L50.9921 1034.07 Z\" fill=\"#000000\" fill-rule=\"nonzero\" fill-opacity=\"1\" /><path clip-path=\"url(#clip020)\" d=\"M91.5706 1046.96 L99.2095 1046.96 L99.2095 1020.6 L90.8993 1022.26 L90.8993 1018 L99.1632 1016.34 L103.839 1016.34 L103.839 1046.96 L111.478 1046.96 L111.478 1050.9 L91.5706 1050.9 L91.5706 1046.96 Z\" fill=\"#000000\" fill-rule=\"nonzero\" fill-opacity=\"1\" /><path clip-path=\"url(#clip020)\" d=\"M99.5335 741.44 Q95.9224 741.44 94.0937 745.004 Q92.2882 748.546 92.2882 755.676 Q92.2882 762.782 94.0937 766.347 Q95.9224 769.889 99.5335 769.889 Q103.168 769.889 104.973 766.347 Q106.802 762.782 106.802 755.676 Q106.802 748.546 104.973 745.004 Q103.168 741.44 99.5335 741.44 M99.5335 737.736 Q105.344 737.736 108.399 742.342 Q111.478 746.926 111.478 755.676 Q111.478 764.402 108.399 769.009 Q105.344 773.592 99.5335 773.592 Q93.7234 773.592 90.6447 769.009 Q87.5892 764.402 87.5892 755.676 Q87.5892 746.926 90.6447 742.342 Q93.7234 737.736 99.5335 737.736 Z\" fill=\"#000000\" fill-rule=\"nonzero\" fill-opacity=\"1\" /><path clip-path=\"url(#clip020)\" d=\"M91.5706 491.009 L99.2095 491.009 L99.2095 464.643 L90.8993 466.31 L90.8993 462.051 L99.1632 460.384 L103.839 460.384 L103.839 491.009 L111.478 491.009 L111.478 494.944 L91.5706 494.944 L91.5706 491.009 Z\" fill=\"#000000\" fill-rule=\"nonzero\" fill-opacity=\"1\" /><path clip-path=\"url(#clip020)\" d=\"M95.1586 213.032 L111.478 213.032 L111.478 216.967 L89.5336 216.967 L89.5336 213.032 Q92.1956 210.277 96.7789 205.648 Q101.385 200.995 102.566 199.653 Q104.811 197.129 105.691 195.393 Q106.594 193.634 106.594 191.944 Q106.594 189.19 104.649 187.453 Q102.728 185.717 99.6261 185.717 Q97.4271 185.717 94.9734 186.481 Q92.5428 187.245 89.7651 188.796 L89.7651 184.074 Q92.5891 182.94 95.0428 182.361 Q97.4965 181.782 99.5335 181.782 Q104.904 181.782 108.098 184.467 Q111.293 187.153 111.293 191.643 Q111.293 193.773 110.483 195.694 Q109.696 197.592 107.589 200.185 Q107.01 200.856 103.909 204.074 Q100.807 207.268 95.1586 213.032 Z\" fill=\"#000000\" fill-rule=\"nonzero\" fill-opacity=\"1\" /><circle clip-path=\"url(#clip022)\" cx=\"1290.19\" cy=\"940.042\" r=\"14.4\" fill=\"#009af9\" fill-rule=\"evenodd\" fill-opacity=\"1\" stroke=\"#000000\" stroke-opacity=\"1\" stroke-width=\"3.2\"/>\n",
       "<circle clip-path=\"url(#clip022)\" cx=\"1717\" cy=\"914.477\" r=\"14.4\" fill=\"#009af9\" fill-rule=\"evenodd\" fill-opacity=\"1\" stroke=\"#000000\" stroke-opacity=\"1\" stroke-width=\"3.2\"/>\n",
       "<circle clip-path=\"url(#clip022)\" cx=\"728.351\" cy=\"500.227\" r=\"14.4\" fill=\"#009af9\" fill-rule=\"evenodd\" fill-opacity=\"1\" stroke=\"#000000\" stroke-opacity=\"1\" stroke-width=\"3.2\"/>\n",
       "<circle clip-path=\"url(#clip022)\" cx=\"873.768\" cy=\"436.09\" r=\"14.4\" fill=\"#009af9\" fill-rule=\"evenodd\" fill-opacity=\"1\" stroke=\"#000000\" stroke-opacity=\"1\" stroke-width=\"3.2\"/>\n",
       "<circle clip-path=\"url(#clip022)\" cx=\"1930.21\" cy=\"492.623\" r=\"14.4\" fill=\"#009af9\" fill-rule=\"evenodd\" fill-opacity=\"1\" stroke=\"#000000\" stroke-opacity=\"1\" stroke-width=\"3.2\"/>\n",
       "<circle clip-path=\"url(#clip022)\" cx=\"1493.68\" cy=\"1017.32\" r=\"14.4\" fill=\"#009af9\" fill-rule=\"evenodd\" fill-opacity=\"1\" stroke=\"#000000\" stroke-opacity=\"1\" stroke-width=\"3.2\"/>\n",
       "<circle clip-path=\"url(#clip022)\" cx=\"710.741\" cy=\"410.472\" r=\"14.4\" fill=\"#009af9\" fill-rule=\"evenodd\" fill-opacity=\"1\" stroke=\"#000000\" stroke-opacity=\"1\" stroke-width=\"3.2\"/>\n",
       "<circle clip-path=\"url(#clip022)\" cx=\"986.884\" cy=\"664.482\" r=\"14.4\" fill=\"#009af9\" fill-rule=\"evenodd\" fill-opacity=\"1\" stroke=\"#000000\" stroke-opacity=\"1\" stroke-width=\"3.2\"/>\n",
       "<circle clip-path=\"url(#clip022)\" cx=\"2127.47\" cy=\"445.906\" r=\"14.4\" fill=\"#009af9\" fill-rule=\"evenodd\" fill-opacity=\"1\" stroke=\"#000000\" stroke-opacity=\"1\" stroke-width=\"3.2\"/>\n",
       "<circle clip-path=\"url(#clip022)\" cx=\"500.91\" cy=\"571.304\" r=\"14.4\" fill=\"#009af9\" fill-rule=\"evenodd\" fill-opacity=\"1\" stroke=\"#000000\" stroke-opacity=\"1\" stroke-width=\"3.2\"/>\n",
       "<circle clip-path=\"url(#clip022)\" cx=\"393.235\" cy=\"757.85\" r=\"14.4\" fill=\"#009af9\" fill-rule=\"evenodd\" fill-opacity=\"1\" stroke=\"#000000\" stroke-opacity=\"1\" stroke-width=\"3.2\"/>\n",
       "<circle clip-path=\"url(#clip022)\" cx=\"885.653\" cy=\"554.681\" r=\"14.4\" fill=\"#009af9\" fill-rule=\"evenodd\" fill-opacity=\"1\" stroke=\"#000000\" stroke-opacity=\"1\" stroke-width=\"3.2\"/>\n",
       "<circle clip-path=\"url(#clip022)\" cx=\"805.859\" cy=\"343.296\" r=\"14.4\" fill=\"#009af9\" fill-rule=\"evenodd\" fill-opacity=\"1\" stroke=\"#000000\" stroke-opacity=\"1\" stroke-width=\"3.2\"/>\n",
       "<circle clip-path=\"url(#clip022)\" cx=\"1307.94\" cy=\"988.662\" r=\"14.4\" fill=\"#009af9\" fill-rule=\"evenodd\" fill-opacity=\"1\" stroke=\"#000000\" stroke-opacity=\"1\" stroke-width=\"3.2\"/>\n",
       "<circle clip-path=\"url(#clip022)\" cx=\"1827.29\" cy=\"763.173\" r=\"14.4\" fill=\"#009af9\" fill-rule=\"evenodd\" fill-opacity=\"1\" stroke=\"#000000\" stroke-opacity=\"1\" stroke-width=\"3.2\"/>\n",
       "<circle clip-path=\"url(#clip022)\" cx=\"1900.2\" cy=\"480.053\" r=\"14.4\" fill=\"#009af9\" fill-rule=\"evenodd\" fill-opacity=\"1\" stroke=\"#000000\" stroke-opacity=\"1\" stroke-width=\"3.2\"/>\n",
       "<circle clip-path=\"url(#clip022)\" cx=\"1273.82\" cy=\"943.805\" r=\"14.4\" fill=\"#009af9\" fill-rule=\"evenodd\" fill-opacity=\"1\" stroke=\"#000000\" stroke-opacity=\"1\" stroke-width=\"3.2\"/>\n",
       "<circle clip-path=\"url(#clip022)\" cx=\"371.56\" cy=\"718.536\" r=\"14.4\" fill=\"#009af9\" fill-rule=\"evenodd\" fill-opacity=\"1\" stroke=\"#000000\" stroke-opacity=\"1\" stroke-width=\"3.2\"/>\n",
       "<circle clip-path=\"url(#clip022)\" cx=\"1664.43\" cy=\"839.217\" r=\"14.4\" fill=\"#009af9\" fill-rule=\"evenodd\" fill-opacity=\"1\" stroke=\"#000000\" stroke-opacity=\"1\" stroke-width=\"3.2\"/>\n",
       "<circle clip-path=\"url(#clip022)\" cx=\"1290.97\" cy=\"858.238\" r=\"14.4\" fill=\"#009af9\" fill-rule=\"evenodd\" fill-opacity=\"1\" stroke=\"#000000\" stroke-opacity=\"1\" stroke-width=\"3.2\"/>\n",
       "<circle clip-path=\"url(#clip022)\" cx=\"1825.56\" cy=\"850.533\" r=\"14.4\" fill=\"#009af9\" fill-rule=\"evenodd\" fill-opacity=\"1\" stroke=\"#000000\" stroke-opacity=\"1\" stroke-width=\"3.2\"/>\n",
       "<circle clip-path=\"url(#clip022)\" cx=\"1544.16\" cy=\"984.255\" r=\"14.4\" fill=\"#009af9\" fill-rule=\"evenodd\" fill-opacity=\"1\" stroke=\"#000000\" stroke-opacity=\"1\" stroke-width=\"3.2\"/>\n",
       "<circle clip-path=\"url(#clip022)\" cx=\"571.934\" cy=\"590.267\" r=\"14.4\" fill=\"#009af9\" fill-rule=\"evenodd\" fill-opacity=\"1\" stroke=\"#000000\" stroke-opacity=\"1\" stroke-width=\"3.2\"/>\n",
       "<circle clip-path=\"url(#clip022)\" cx=\"640.505\" cy=\"325.221\" r=\"14.4\" fill=\"#009af9\" fill-rule=\"evenodd\" fill-opacity=\"1\" stroke=\"#000000\" stroke-opacity=\"1\" stroke-width=\"3.2\"/>\n",
       "<circle clip-path=\"url(#clip022)\" cx=\"1350.13\" cy=\"943.024\" r=\"14.4\" fill=\"#009af9\" fill-rule=\"evenodd\" fill-opacity=\"1\" stroke=\"#000000\" stroke-opacity=\"1\" stroke-width=\"3.2\"/>\n",
       "<circle clip-path=\"url(#clip022)\" cx=\"1484.98\" cy=\"888.247\" r=\"14.4\" fill=\"#009af9\" fill-rule=\"evenodd\" fill-opacity=\"1\" stroke=\"#000000\" stroke-opacity=\"1\" stroke-width=\"3.2\"/>\n",
       "<circle clip-path=\"url(#clip022)\" cx=\"2041.04\" cy=\"406.954\" r=\"14.4\" fill=\"#009af9\" fill-rule=\"evenodd\" fill-opacity=\"1\" stroke=\"#000000\" stroke-opacity=\"1\" stroke-width=\"3.2\"/>\n",
       "<circle clip-path=\"url(#clip022)\" cx=\"2061.9\" cy=\"597.551\" r=\"14.4\" fill=\"#009af9\" fill-rule=\"evenodd\" fill-opacity=\"1\" stroke=\"#000000\" stroke-opacity=\"1\" stroke-width=\"3.2\"/>\n",
       "<circle clip-path=\"url(#clip022)\" cx=\"743.353\" cy=\"528.412\" r=\"14.4\" fill=\"#009af9\" fill-rule=\"evenodd\" fill-opacity=\"1\" stroke=\"#000000\" stroke-opacity=\"1\" stroke-width=\"3.2\"/>\n",
       "<circle clip-path=\"url(#clip022)\" cx=\"491.3\" cy=\"516.967\" r=\"14.4\" fill=\"#009af9\" fill-rule=\"evenodd\" fill-opacity=\"1\" stroke=\"#000000\" stroke-opacity=\"1\" stroke-width=\"3.2\"/>\n",
       "<circle clip-path=\"url(#clip022)\" cx=\"1494.95\" cy=\"1040.68\" r=\"14.4\" fill=\"#009af9\" fill-rule=\"evenodd\" fill-opacity=\"1\" stroke=\"#000000\" stroke-opacity=\"1\" stroke-width=\"3.2\"/>\n",
       "<circle clip-path=\"url(#clip022)\" cx=\"1575.25\" cy=\"1011.99\" r=\"14.4\" fill=\"#009af9\" fill-rule=\"evenodd\" fill-opacity=\"1\" stroke=\"#000000\" stroke-opacity=\"1\" stroke-width=\"3.2\"/>\n",
       "<circle clip-path=\"url(#clip022)\" cx=\"482.861\" cy=\"635.52\" r=\"14.4\" fill=\"#009af9\" fill-rule=\"evenodd\" fill-opacity=\"1\" stroke=\"#000000\" stroke-opacity=\"1\" stroke-width=\"3.2\"/>\n",
       "<circle clip-path=\"url(#clip022)\" cx=\"1457.18\" cy=\"1208.47\" r=\"14.4\" fill=\"#009af9\" fill-rule=\"evenodd\" fill-opacity=\"1\" stroke=\"#000000\" stroke-opacity=\"1\" stroke-width=\"3.2\"/>\n",
       "<circle clip-path=\"url(#clip022)\" cx=\"713.126\" cy=\"493.313\" r=\"14.4\" fill=\"#009af9\" fill-rule=\"evenodd\" fill-opacity=\"1\" stroke=\"#000000\" stroke-opacity=\"1\" stroke-width=\"3.2\"/>\n",
       "<circle clip-path=\"url(#clip022)\" cx=\"946.877\" cy=\"598.718\" r=\"14.4\" fill=\"#009af9\" fill-rule=\"evenodd\" fill-opacity=\"1\" stroke=\"#000000\" stroke-opacity=\"1\" stroke-width=\"3.2\"/>\n",
       "<circle clip-path=\"url(#clip022)\" cx=\"800.33\" cy=\"522.173\" r=\"14.4\" fill=\"#009af9\" fill-rule=\"evenodd\" fill-opacity=\"1\" stroke=\"#000000\" stroke-opacity=\"1\" stroke-width=\"3.2\"/>\n",
       "<circle clip-path=\"url(#clip022)\" cx=\"399.554\" cy=\"698.663\" r=\"14.4\" fill=\"#009af9\" fill-rule=\"evenodd\" fill-opacity=\"1\" stroke=\"#000000\" stroke-opacity=\"1\" stroke-width=\"3.2\"/>\n",
       "<circle clip-path=\"url(#clip022)\" cx=\"1237.05\" cy=\"872.787\" r=\"14.4\" fill=\"#009af9\" fill-rule=\"evenodd\" fill-opacity=\"1\" stroke=\"#000000\" stroke-opacity=\"1\" stroke-width=\"3.2\"/>\n",
       "<circle clip-path=\"url(#clip022)\" cx=\"1986.01\" cy=\"532.335\" r=\"14.4\" fill=\"#009af9\" fill-rule=\"evenodd\" fill-opacity=\"1\" stroke=\"#000000\" stroke-opacity=\"1\" stroke-width=\"3.2\"/>\n",
       "<circle clip-path=\"url(#clip022)\" cx=\"459.51\" cy=\"624.14\" r=\"14.4\" fill=\"#009af9\" fill-rule=\"evenodd\" fill-opacity=\"1\" stroke=\"#000000\" stroke-opacity=\"1\" stroke-width=\"3.2\"/>\n",
       "<circle clip-path=\"url(#clip022)\" cx=\"1793.47\" cy=\"665.759\" r=\"14.4\" fill=\"#009af9\" fill-rule=\"evenodd\" fill-opacity=\"1\" stroke=\"#000000\" stroke-opacity=\"1\" stroke-width=\"3.2\"/>\n",
       "<circle clip-path=\"url(#clip022)\" cx=\"445.421\" cy=\"738.933\" r=\"14.4\" fill=\"#009af9\" fill-rule=\"evenodd\" fill-opacity=\"1\" stroke=\"#000000\" stroke-opacity=\"1\" stroke-width=\"3.2\"/>\n",
       "<circle clip-path=\"url(#clip022)\" cx=\"1539.33\" cy=\"942.868\" r=\"14.4\" fill=\"#009af9\" fill-rule=\"evenodd\" fill-opacity=\"1\" stroke=\"#000000\" stroke-opacity=\"1\" stroke-width=\"3.2\"/>\n",
       "<circle clip-path=\"url(#clip022)\" cx=\"724.402\" cy=\"368.741\" r=\"14.4\" fill=\"#009af9\" fill-rule=\"evenodd\" fill-opacity=\"1\" stroke=\"#000000\" stroke-opacity=\"1\" stroke-width=\"3.2\"/>\n",
       "<circle clip-path=\"url(#clip022)\" cx=\"1919.29\" cy=\"654.857\" r=\"14.4\" fill=\"#009af9\" fill-rule=\"evenodd\" fill-opacity=\"1\" stroke=\"#000000\" stroke-opacity=\"1\" stroke-width=\"3.2\"/>\n",
       "<circle clip-path=\"url(#clip022)\" cx=\"1827.67\" cy=\"712.707\" r=\"14.4\" fill=\"#009af9\" fill-rule=\"evenodd\" fill-opacity=\"1\" stroke=\"#000000\" stroke-opacity=\"1\" stroke-width=\"3.2\"/>\n",
       "<circle clip-path=\"url(#clip022)\" cx=\"2128.67\" cy=\"441.463\" r=\"14.4\" fill=\"#009af9\" fill-rule=\"evenodd\" fill-opacity=\"1\" stroke=\"#000000\" stroke-opacity=\"1\" stroke-width=\"3.2\"/>\n",
       "<circle clip-path=\"url(#clip022)\" cx=\"905.748\" cy=\"626.567\" r=\"14.4\" fill=\"#009af9\" fill-rule=\"evenodd\" fill-opacity=\"1\" stroke=\"#000000\" stroke-opacity=\"1\" stroke-width=\"3.2\"/>\n",
       "<circle clip-path=\"url(#clip022)\" cx=\"374.389\" cy=\"820.81\" r=\"14.4\" fill=\"#009af9\" fill-rule=\"evenodd\" fill-opacity=\"1\" stroke=\"#000000\" stroke-opacity=\"1\" stroke-width=\"3.2\"/>\n",
       "<circle clip-path=\"url(#clip022)\" cx=\"1249.05\" cy=\"940.226\" r=\"14.4\" fill=\"#009af9\" fill-rule=\"evenodd\" fill-opacity=\"1\" stroke=\"#000000\" stroke-opacity=\"1\" stroke-width=\"3.2\"/>\n",
       "<circle clip-path=\"url(#clip022)\" cx=\"878.176\" cy=\"638.294\" r=\"14.4\" fill=\"#009af9\" fill-rule=\"evenodd\" fill-opacity=\"1\" stroke=\"#000000\" stroke-opacity=\"1\" stroke-width=\"3.2\"/>\n",
       "<circle clip-path=\"url(#clip022)\" cx=\"1373.63\" cy=\"875.875\" r=\"14.4\" fill=\"#009af9\" fill-rule=\"evenodd\" fill-opacity=\"1\" stroke=\"#000000\" stroke-opacity=\"1\" stroke-width=\"3.2\"/>\n",
       "<circle clip-path=\"url(#clip022)\" cx=\"1525.53\" cy=\"1149.16\" r=\"14.4\" fill=\"#009af9\" fill-rule=\"evenodd\" fill-opacity=\"1\" stroke=\"#000000\" stroke-opacity=\"1\" stroke-width=\"3.2\"/>\n",
       "<circle clip-path=\"url(#clip022)\" cx=\"1298.41\" cy=\"876.413\" r=\"14.4\" fill=\"#009af9\" fill-rule=\"evenodd\" fill-opacity=\"1\" stroke=\"#000000\" stroke-opacity=\"1\" stroke-width=\"3.2\"/>\n",
       "<circle clip-path=\"url(#clip022)\" cx=\"1037.1\" cy=\"677.877\" r=\"14.4\" fill=\"#009af9\" fill-rule=\"evenodd\" fill-opacity=\"1\" stroke=\"#000000\" stroke-opacity=\"1\" stroke-width=\"3.2\"/>\n",
       "<circle clip-path=\"url(#clip022)\" cx=\"1926.73\" cy=\"657.813\" r=\"14.4\" fill=\"#009af9\" fill-rule=\"evenodd\" fill-opacity=\"1\" stroke=\"#000000\" stroke-opacity=\"1\" stroke-width=\"3.2\"/>\n",
       "<circle clip-path=\"url(#clip022)\" cx=\"1792.5\" cy=\"709.911\" r=\"14.4\" fill=\"#009af9\" fill-rule=\"evenodd\" fill-opacity=\"1\" stroke=\"#000000\" stroke-opacity=\"1\" stroke-width=\"3.2\"/>\n",
       "<circle clip-path=\"url(#clip022)\" cx=\"1919\" cy=\"550.483\" r=\"14.4\" fill=\"#009af9\" fill-rule=\"evenodd\" fill-opacity=\"1\" stroke=\"#000000\" stroke-opacity=\"1\" stroke-width=\"3.2\"/>\n",
       "<circle clip-path=\"url(#clip022)\" cx=\"1889.56\" cy=\"640.38\" r=\"14.4\" fill=\"#009af9\" fill-rule=\"evenodd\" fill-opacity=\"1\" stroke=\"#000000\" stroke-opacity=\"1\" stroke-width=\"3.2\"/>\n",
       "<circle clip-path=\"url(#clip022)\" cx=\"1313.05\" cy=\"982.216\" r=\"14.4\" fill=\"#009af9\" fill-rule=\"evenodd\" fill-opacity=\"1\" stroke=\"#000000\" stroke-opacity=\"1\" stroke-width=\"3.2\"/>\n",
       "<circle clip-path=\"url(#clip022)\" cx=\"2018.8\" cy=\"559.538\" r=\"14.4\" fill=\"#009af9\" fill-rule=\"evenodd\" fill-opacity=\"1\" stroke=\"#000000\" stroke-opacity=\"1\" stroke-width=\"3.2\"/>\n",
       "<circle clip-path=\"url(#clip022)\" cx=\"1687.02\" cy=\"1048.59\" r=\"14.4\" fill=\"#009af9\" fill-rule=\"evenodd\" fill-opacity=\"1\" stroke=\"#000000\" stroke-opacity=\"1\" stroke-width=\"3.2\"/>\n",
       "<circle clip-path=\"url(#clip022)\" cx=\"2087.68\" cy=\"433.352\" r=\"14.4\" fill=\"#009af9\" fill-rule=\"evenodd\" fill-opacity=\"1\" stroke=\"#000000\" stroke-opacity=\"1\" stroke-width=\"3.2\"/>\n",
       "<circle clip-path=\"url(#clip022)\" cx=\"678.337\" cy=\"383.519\" r=\"14.4\" fill=\"#009af9\" fill-rule=\"evenodd\" fill-opacity=\"1\" stroke=\"#000000\" stroke-opacity=\"1\" stroke-width=\"3.2\"/>\n",
       "<circle clip-path=\"url(#clip022)\" cx=\"1414.23\" cy=\"914.599\" r=\"14.4\" fill=\"#009af9\" fill-rule=\"evenodd\" fill-opacity=\"1\" stroke=\"#000000\" stroke-opacity=\"1\" stroke-width=\"3.2\"/>\n",
       "<circle clip-path=\"url(#clip022)\" cx=\"814.305\" cy=\"329.026\" r=\"14.4\" fill=\"#009af9\" fill-rule=\"evenodd\" fill-opacity=\"1\" stroke=\"#000000\" stroke-opacity=\"1\" stroke-width=\"3.2\"/>\n",
       "<circle clip-path=\"url(#clip022)\" cx=\"516.799\" cy=\"448.006\" r=\"14.4\" fill=\"#009af9\" fill-rule=\"evenodd\" fill-opacity=\"1\" stroke=\"#000000\" stroke-opacity=\"1\" stroke-width=\"3.2\"/>\n",
       "<circle clip-path=\"url(#clip022)\" cx=\"673.332\" cy=\"409.799\" r=\"14.4\" fill=\"#009af9\" fill-rule=\"evenodd\" fill-opacity=\"1\" stroke=\"#000000\" stroke-opacity=\"1\" stroke-width=\"3.2\"/>\n",
       "<circle clip-path=\"url(#clip022)\" cx=\"1875.82\" cy=\"571.095\" r=\"14.4\" fill=\"#009af9\" fill-rule=\"evenodd\" fill-opacity=\"1\" stroke=\"#000000\" stroke-opacity=\"1\" stroke-width=\"3.2\"/>\n",
       "<circle clip-path=\"url(#clip022)\" cx=\"1998.62\" cy=\"630.257\" r=\"14.4\" fill=\"#009af9\" fill-rule=\"evenodd\" fill-opacity=\"1\" stroke=\"#000000\" stroke-opacity=\"1\" stroke-width=\"3.2\"/>\n",
       "<circle clip-path=\"url(#clip022)\" cx=\"611.144\" cy=\"560.27\" r=\"14.4\" fill=\"#009af9\" fill-rule=\"evenodd\" fill-opacity=\"1\" stroke=\"#000000\" stroke-opacity=\"1\" stroke-width=\"3.2\"/>\n",
       "<circle clip-path=\"url(#clip022)\" cx=\"1674.03\" cy=\"856.178\" r=\"14.4\" fill=\"#009af9\" fill-rule=\"evenodd\" fill-opacity=\"1\" stroke=\"#000000\" stroke-opacity=\"1\" stroke-width=\"3.2\"/>\n",
       "<circle clip-path=\"url(#clip022)\" cx=\"922.606\" cy=\"572.436\" r=\"14.4\" fill=\"#009af9\" fill-rule=\"evenodd\" fill-opacity=\"1\" stroke=\"#000000\" stroke-opacity=\"1\" stroke-width=\"3.2\"/>\n",
       "<circle clip-path=\"url(#clip022)\" cx=\"1898.25\" cy=\"513.128\" r=\"14.4\" fill=\"#009af9\" fill-rule=\"evenodd\" fill-opacity=\"1\" stroke=\"#000000\" stroke-opacity=\"1\" stroke-width=\"3.2\"/>\n",
       "<circle clip-path=\"url(#clip022)\" cx=\"1874.32\" cy=\"491.656\" r=\"14.4\" fill=\"#009af9\" fill-rule=\"evenodd\" fill-opacity=\"1\" stroke=\"#000000\" stroke-opacity=\"1\" stroke-width=\"3.2\"/>\n",
       "<circle clip-path=\"url(#clip022)\" cx=\"1251.78\" cy=\"1077.27\" r=\"14.4\" fill=\"#009af9\" fill-rule=\"evenodd\" fill-opacity=\"1\" stroke=\"#000000\" stroke-opacity=\"1\" stroke-width=\"3.2\"/>\n",
       "<circle clip-path=\"url(#clip022)\" cx=\"1319.3\" cy=\"1042.43\" r=\"14.4\" fill=\"#009af9\" fill-rule=\"evenodd\" fill-opacity=\"1\" stroke=\"#000000\" stroke-opacity=\"1\" stroke-width=\"3.2\"/>\n",
       "<circle clip-path=\"url(#clip022)\" cx=\"1710.77\" cy=\"830.39\" r=\"14.4\" fill=\"#009af9\" fill-rule=\"evenodd\" fill-opacity=\"1\" stroke=\"#000000\" stroke-opacity=\"1\" stroke-width=\"3.2\"/>\n",
       "<circle clip-path=\"url(#clip022)\" cx=\"502.245\" cy=\"654.572\" r=\"14.4\" fill=\"#009af9\" fill-rule=\"evenodd\" fill-opacity=\"1\" stroke=\"#000000\" stroke-opacity=\"1\" stroke-width=\"3.2\"/>\n",
       "<circle clip-path=\"url(#clip022)\" cx=\"944.967\" cy=\"532.254\" r=\"14.4\" fill=\"#009af9\" fill-rule=\"evenodd\" fill-opacity=\"1\" stroke=\"#000000\" stroke-opacity=\"1\" stroke-width=\"3.2\"/>\n",
       "<circle clip-path=\"url(#clip022)\" cx=\"1988.39\" cy=\"500.389\" r=\"14.4\" fill=\"#009af9\" fill-rule=\"evenodd\" fill-opacity=\"1\" stroke=\"#000000\" stroke-opacity=\"1\" stroke-width=\"3.2\"/>\n",
       "<circle clip-path=\"url(#clip022)\" cx=\"882.848\" cy=\"588.523\" r=\"14.4\" fill=\"#009af9\" fill-rule=\"evenodd\" fill-opacity=\"1\" stroke=\"#000000\" stroke-opacity=\"1\" stroke-width=\"3.2\"/>\n",
       "<circle clip-path=\"url(#clip022)\" cx=\"531.973\" cy=\"595.183\" r=\"14.4\" fill=\"#009af9\" fill-rule=\"evenodd\" fill-opacity=\"1\" stroke=\"#000000\" stroke-opacity=\"1\" stroke-width=\"3.2\"/>\n",
       "<circle clip-path=\"url(#clip022)\" cx=\"1098.73\" cy=\"656.656\" r=\"14.4\" fill=\"#009af9\" fill-rule=\"evenodd\" fill-opacity=\"1\" stroke=\"#000000\" stroke-opacity=\"1\" stroke-width=\"3.2\"/>\n",
       "<circle clip-path=\"url(#clip022)\" cx=\"1270.05\" cy=\"1049.3\" r=\"14.4\" fill=\"#009af9\" fill-rule=\"evenodd\" fill-opacity=\"1\" stroke=\"#000000\" stroke-opacity=\"1\" stroke-width=\"3.2\"/>\n",
       "<circle clip-path=\"url(#clip022)\" cx=\"1279.09\" cy=\"958.607\" r=\"14.4\" fill=\"#009af9\" fill-rule=\"evenodd\" fill-opacity=\"1\" stroke=\"#000000\" stroke-opacity=\"1\" stroke-width=\"3.2\"/>\n",
       "<circle clip-path=\"url(#clip022)\" cx=\"610.652\" cy=\"546.559\" r=\"14.4\" fill=\"#009af9\" fill-rule=\"evenodd\" fill-opacity=\"1\" stroke=\"#000000\" stroke-opacity=\"1\" stroke-width=\"3.2\"/>\n",
       "<circle clip-path=\"url(#clip022)\" cx=\"1702.02\" cy=\"906.658\" r=\"14.4\" fill=\"#009af9\" fill-rule=\"evenodd\" fill-opacity=\"1\" stroke=\"#000000\" stroke-opacity=\"1\" stroke-width=\"3.2\"/>\n",
       "<circle clip-path=\"url(#clip022)\" cx=\"680.027\" cy=\"474.658\" r=\"14.4\" fill=\"#009af9\" fill-rule=\"evenodd\" fill-opacity=\"1\" stroke=\"#000000\" stroke-opacity=\"1\" stroke-width=\"3.2\"/>\n",
       "<circle clip-path=\"url(#clip022)\" cx=\"1145.7\" cy=\"841.579\" r=\"14.4\" fill=\"#009af9\" fill-rule=\"evenodd\" fill-opacity=\"1\" stroke=\"#000000\" stroke-opacity=\"1\" stroke-width=\"3.2\"/>\n",
       "<circle clip-path=\"url(#clip022)\" cx=\"1265.89\" cy=\"1075.89\" r=\"14.4\" fill=\"#009af9\" fill-rule=\"evenodd\" fill-opacity=\"1\" stroke=\"#000000\" stroke-opacity=\"1\" stroke-width=\"3.2\"/>\n",
       "<circle clip-path=\"url(#clip022)\" cx=\"708.33\" cy=\"359.896\" r=\"14.4\" fill=\"#009af9\" fill-rule=\"evenodd\" fill-opacity=\"1\" stroke=\"#000000\" stroke-opacity=\"1\" stroke-width=\"3.2\"/>\n",
       "<circle clip-path=\"url(#clip022)\" cx=\"1754.76\" cy=\"744.412\" r=\"14.4\" fill=\"#009af9\" fill-rule=\"evenodd\" fill-opacity=\"1\" stroke=\"#000000\" stroke-opacity=\"1\" stroke-width=\"3.2\"/>\n",
       "<circle clip-path=\"url(#clip022)\" cx=\"449.564\" cy=\"665.791\" r=\"14.4\" fill=\"#009af9\" fill-rule=\"evenodd\" fill-opacity=\"1\" stroke=\"#000000\" stroke-opacity=\"1\" stroke-width=\"3.2\"/>\n",
       "<circle clip-path=\"url(#clip022)\" cx=\"744.551\" cy=\"558.489\" r=\"14.4\" fill=\"#009af9\" fill-rule=\"evenodd\" fill-opacity=\"1\" stroke=\"#000000\" stroke-opacity=\"1\" stroke-width=\"3.2\"/>\n",
       "<circle clip-path=\"url(#clip022)\" cx=\"1869.58\" cy=\"597.931\" r=\"14.4\" fill=\"#009af9\" fill-rule=\"evenodd\" fill-opacity=\"1\" stroke=\"#000000\" stroke-opacity=\"1\" stroke-width=\"3.2\"/>\n",
       "<circle clip-path=\"url(#clip022)\" cx=\"1357.28\" cy=\"1002.98\" r=\"14.4\" fill=\"#009af9\" fill-rule=\"evenodd\" fill-opacity=\"1\" stroke=\"#000000\" stroke-opacity=\"1\" stroke-width=\"3.2\"/>\n",
       "<circle clip-path=\"url(#clip022)\" cx=\"1414.43\" cy=\"916.785\" r=\"14.4\" fill=\"#009af9\" fill-rule=\"evenodd\" fill-opacity=\"1\" stroke=\"#000000\" stroke-opacity=\"1\" stroke-width=\"3.2\"/>\n",
       "<circle clip-path=\"url(#clip022)\" cx=\"1392.97\" cy=\"1140.82\" r=\"14.4\" fill=\"#009af9\" fill-rule=\"evenodd\" fill-opacity=\"1\" stroke=\"#000000\" stroke-opacity=\"1\" stroke-width=\"3.2\"/>\n",
       "<circle clip-path=\"url(#clip022)\" cx=\"539.467\" cy=\"371.563\" r=\"14.4\" fill=\"#009af9\" fill-rule=\"evenodd\" fill-opacity=\"1\" stroke=\"#000000\" stroke-opacity=\"1\" stroke-width=\"3.2\"/>\n",
       "<circle clip-path=\"url(#clip022)\" cx=\"1907.06\" cy=\"504.994\" r=\"14.4\" fill=\"#009af9\" fill-rule=\"evenodd\" fill-opacity=\"1\" stroke=\"#000000\" stroke-opacity=\"1\" stroke-width=\"3.2\"/>\n",
       "<circle clip-path=\"url(#clip022)\" cx=\"1703.84\" cy=\"819.703\" r=\"14.4\" fill=\"#009af9\" fill-rule=\"evenodd\" fill-opacity=\"1\" stroke=\"#000000\" stroke-opacity=\"1\" stroke-width=\"3.2\"/>\n",
       "<circle clip-path=\"url(#clip022)\" cx=\"1706.25\" cy=\"1061.8\" r=\"14.4\" fill=\"#009af9\" fill-rule=\"evenodd\" fill-opacity=\"1\" stroke=\"#000000\" stroke-opacity=\"1\" stroke-width=\"3.2\"/>\n",
       "<circle clip-path=\"url(#clip022)\" cx=\"529.259\" cy=\"688.95\" r=\"14.4\" fill=\"#009af9\" fill-rule=\"evenodd\" fill-opacity=\"1\" stroke=\"#000000\" stroke-opacity=\"1\" stroke-width=\"3.2\"/>\n",
       "<circle clip-path=\"url(#clip022)\" cx=\"1984.52\" cy=\"444.444\" r=\"14.4\" fill=\"#009af9\" fill-rule=\"evenodd\" fill-opacity=\"1\" stroke=\"#000000\" stroke-opacity=\"1\" stroke-width=\"3.2\"/>\n",
       "<circle clip-path=\"url(#clip022)\" cx=\"878.049\" cy=\"515.07\" r=\"14.4\" fill=\"#009af9\" fill-rule=\"evenodd\" fill-opacity=\"1\" stroke=\"#000000\" stroke-opacity=\"1\" stroke-width=\"3.2\"/>\n",
       "<circle clip-path=\"url(#clip022)\" cx=\"1982.59\" cy=\"367.703\" r=\"14.4\" fill=\"#009af9\" fill-rule=\"evenodd\" fill-opacity=\"1\" stroke=\"#000000\" stroke-opacity=\"1\" stroke-width=\"3.2\"/>\n",
       "<circle clip-path=\"url(#clip022)\" cx=\"2063.77\" cy=\"650.552\" r=\"14.4\" fill=\"#009af9\" fill-rule=\"evenodd\" fill-opacity=\"1\" stroke=\"#000000\" stroke-opacity=\"1\" stroke-width=\"3.2\"/>\n",
       "<circle clip-path=\"url(#clip022)\" cx=\"1526.09\" cy=\"975.655\" r=\"14.4\" fill=\"#009af9\" fill-rule=\"evenodd\" fill-opacity=\"1\" stroke=\"#000000\" stroke-opacity=\"1\" stroke-width=\"3.2\"/>\n",
       "<circle clip-path=\"url(#clip022)\" cx=\"2024.82\" cy=\"399.992\" r=\"14.4\" fill=\"#009af9\" fill-rule=\"evenodd\" fill-opacity=\"1\" stroke=\"#000000\" stroke-opacity=\"1\" stroke-width=\"3.2\"/>\n",
       "<circle clip-path=\"url(#clip022)\" cx=\"1818.11\" cy=\"709.872\" r=\"14.4\" fill=\"#009af9\" fill-rule=\"evenodd\" fill-opacity=\"1\" stroke=\"#000000\" stroke-opacity=\"1\" stroke-width=\"3.2\"/>\n",
       "<circle clip-path=\"url(#clip022)\" cx=\"878.966\" cy=\"693.133\" r=\"14.4\" fill=\"#009af9\" fill-rule=\"evenodd\" fill-opacity=\"1\" stroke=\"#000000\" stroke-opacity=\"1\" stroke-width=\"3.2\"/>\n",
       "<circle clip-path=\"url(#clip022)\" cx=\"1070.03\" cy=\"740.784\" r=\"14.4\" fill=\"#009af9\" fill-rule=\"evenodd\" fill-opacity=\"1\" stroke=\"#000000\" stroke-opacity=\"1\" stroke-width=\"3.2\"/>\n",
       "<circle clip-path=\"url(#clip022)\" cx=\"1622.89\" cy=\"990.225\" r=\"14.4\" fill=\"#009af9\" fill-rule=\"evenodd\" fill-opacity=\"1\" stroke=\"#000000\" stroke-opacity=\"1\" stroke-width=\"3.2\"/>\n",
       "<circle clip-path=\"url(#clip022)\" cx=\"1126.03\" cy=\"720.306\" r=\"14.4\" fill=\"#009af9\" fill-rule=\"evenodd\" fill-opacity=\"1\" stroke=\"#000000\" stroke-opacity=\"1\" stroke-width=\"3.2\"/>\n",
       "<circle clip-path=\"url(#clip022)\" cx=\"849.736\" cy=\"666.494\" r=\"14.4\" fill=\"#009af9\" fill-rule=\"evenodd\" fill-opacity=\"1\" stroke=\"#000000\" stroke-opacity=\"1\" stroke-width=\"3.2\"/>\n",
       "<circle clip-path=\"url(#clip022)\" cx=\"1128.52\" cy=\"917.393\" r=\"14.4\" fill=\"#009af9\" fill-rule=\"evenodd\" fill-opacity=\"1\" stroke=\"#000000\" stroke-opacity=\"1\" stroke-width=\"3.2\"/>\n",
       "<circle clip-path=\"url(#clip022)\" cx=\"1805.78\" cy=\"858.178\" r=\"14.4\" fill=\"#009af9\" fill-rule=\"evenodd\" fill-opacity=\"1\" stroke=\"#000000\" stroke-opacity=\"1\" stroke-width=\"3.2\"/>\n",
       "<circle clip-path=\"url(#clip022)\" cx=\"721.212\" cy=\"441.314\" r=\"14.4\" fill=\"#009af9\" fill-rule=\"evenodd\" fill-opacity=\"1\" stroke=\"#000000\" stroke-opacity=\"1\" stroke-width=\"3.2\"/>\n",
       "<circle clip-path=\"url(#clip022)\" cx=\"825.26\" cy=\"549.497\" r=\"14.4\" fill=\"#009af9\" fill-rule=\"evenodd\" fill-opacity=\"1\" stroke=\"#000000\" stroke-opacity=\"1\" stroke-width=\"3.2\"/>\n",
       "<circle clip-path=\"url(#clip022)\" cx=\"1612\" cy=\"783.001\" r=\"14.4\" fill=\"#009af9\" fill-rule=\"evenodd\" fill-opacity=\"1\" stroke=\"#000000\" stroke-opacity=\"1\" stroke-width=\"3.2\"/>\n",
       "<circle clip-path=\"url(#clip022)\" cx=\"2083.73\" cy=\"497.533\" r=\"14.4\" fill=\"#009af9\" fill-rule=\"evenodd\" fill-opacity=\"1\" stroke=\"#000000\" stroke-opacity=\"1\" stroke-width=\"3.2\"/>\n",
       "<circle clip-path=\"url(#clip022)\" cx=\"1961.55\" cy=\"669.43\" r=\"14.4\" fill=\"#009af9\" fill-rule=\"evenodd\" fill-opacity=\"1\" stroke=\"#000000\" stroke-opacity=\"1\" stroke-width=\"3.2\"/>\n",
       "<circle clip-path=\"url(#clip022)\" cx=\"1021.48\" cy=\"641.932\" r=\"14.4\" fill=\"#009af9\" fill-rule=\"evenodd\" fill-opacity=\"1\" stroke=\"#000000\" stroke-opacity=\"1\" stroke-width=\"3.2\"/>\n",
       "<circle clip-path=\"url(#clip022)\" cx=\"1935.69\" cy=\"707.878\" r=\"14.4\" fill=\"#009af9\" fill-rule=\"evenodd\" fill-opacity=\"1\" stroke=\"#000000\" stroke-opacity=\"1\" stroke-width=\"3.2\"/>\n",
       "<circle clip-path=\"url(#clip022)\" cx=\"606.552\" cy=\"408.357\" r=\"14.4\" fill=\"#009af9\" fill-rule=\"evenodd\" fill-opacity=\"1\" stroke=\"#000000\" stroke-opacity=\"1\" stroke-width=\"3.2\"/>\n",
       "<circle clip-path=\"url(#clip022)\" cx=\"1240.19\" cy=\"830.727\" r=\"14.4\" fill=\"#009af9\" fill-rule=\"evenodd\" fill-opacity=\"1\" stroke=\"#000000\" stroke-opacity=\"1\" stroke-width=\"3.2\"/>\n",
       "<path clip-path=\"url(#clip022)\" d=\"M147.478 1228.6 L192.484 1168.4 L237.489 1122.34 L282.495 1089.43 L327.501 1067.98 L372.506 1056.08 L417.512 1051.92 L462.518 1054.04 L507.523 1061.32 L552.529 1072.89 L597.535 1088.03 L642.54 1106.09 L687.546 1126.56 L732.552 1149.09 L777.557 1173.55 L822.563 1199.8 L867.569 1227.52 L912.574 1255.95 L957.58 1283.94 L1002.59 1310.15 L1047.59 1333.33 L1092.6 1352.68 L1137.6 1367.87 L1182.61 1379.03 L1227.61 1386.5 L1272.62 1390.7 L1317.63 1391.99 L1362.63 1390.59 L1407.64 1386.69 L1452.64 1380.44 L1497.65 1372.02 L1542.65 1361.61 L1587.66 1349.46 L1632.67 1335.78 L1677.67 1320.76 L1722.68 1304.6 L1767.68 1287.46 L1812.69 1269.53 L1857.69 1251.08 L1902.7 1232.44 L1947.7 1214.12 L1992.71 1196.77 L2037.72 1181.25 L2082.72 1168.58 L2127.73 1159.9 L2172.73 1156.41 L2217.74 1159.23 L2262.74 1169.35 L2307.75 1187.46 L2352.76 1213.98 L2352.76 -222.013 L2307.75 -160.778 L2262.74 -107.223 L2217.74 -61.0005 L2172.73 -21.4716 L2127.73 12.2483 L2082.72 41.195 L2037.72 66.4426 L1992.71 88.9946 L1947.7 109.704 L1902.7 129.222 L1857.69 147.99 L1812.69 166.242 L1767.68 184.033 L1722.68 201.28 L1677.67 217.797 L1632.67 233.332 L1587.66 247.601 L1542.65 260.298 L1497.65 271.102 L1452.64 279.67 L1407.64 285.629 L1362.63 288.585 L1317.63 288.164 L1272.62 284.078 L1227.61 276.221 L1182.61 264.739 L1137.6 250.037 L1092.6 232.696 L1047.59 213.311 L1002.59 192.313 L957.58 169.886 L912.574 146.031 L867.569 120.79 L822.563 94.4988 L777.557 67.9213 L732.552 42.1538 L687.546 18.357 L642.54 -2.5406 L597.535 -20.0241 L552.529 -34.0192 L507.523 -44.8259 L462.518 -53.0599 L417.512 -59.6655 L372.506 -65.9964 L327.501 -73.8819 L282.495 -85.5735 L237.489 -103.499 L192.484 -129.857 L147.478 -166.196  Z\" fill=\"#e26f46\" fill-rule=\"evenodd\" fill-opacity=\"0.5\"/>\n",
       "<polyline clip-path=\"url(#clip022)\" style=\"stroke:#e26f46; stroke-linecap:round; stroke-linejoin:round; stroke-width:16; stroke-opacity:1; fill:none\" points=\"147.478,531.202 192.484,519.27 237.489,509.421 282.495,501.926 327.501,497.049 372.506,495.042 417.512,496.129 462.518,500.491 507.523,508.247 552.529,519.438 597.535,534.005 642.54,551.776 687.546,572.457 732.552,595.624 777.557,620.737 822.563,647.152 867.569,674.153 912.574,700.989 957.58,726.914 1002.59,751.23 1047.59,773.322 1092.6,792.688 1137.6,808.955 1182.61,821.883 1227.61,831.361 1272.62,837.391 1317.63,840.076 1362.63,839.589 1407.64,836.161 1452.64,830.057 1497.65,821.559 1542.65,810.956 1587.66,798.531 1632.67,784.555 1677.67,769.281 1722.68,752.941 1767.68,735.747 1812.69,717.888 1857.69,699.534 1902.7,680.831 1947.7,661.91 1992.71,642.884 2037.72,623.849 2082.72,604.889 2127.73,586.075 2172.73,567.467 2217.74,549.115 2262.74,531.063 2307.75,513.343 2352.76,495.985 \"/>\n",
       "<path clip-path=\"url(#clip020)\" d=\"M1925.76 1438.47 L2279.25 1438.47 L2279.25 1282.95 L1925.76 1282.95  Z\" fill=\"#ffffff\" fill-rule=\"evenodd\" fill-opacity=\"1\"/>\n",
       "<polyline clip-path=\"url(#clip020)\" style=\"stroke:#000000; stroke-linecap:round; stroke-linejoin:round; stroke-width:4; stroke-opacity:1; fill:none\" points=\"1925.76,1438.47 2279.25,1438.47 2279.25,1282.95 1925.76,1282.95 1925.76,1438.47 \"/>\n",
       "<circle clip-path=\"url(#clip020)\" cx=\"2023.77\" cy=\"1334.79\" r=\"20.48\" fill=\"#009af9\" fill-rule=\"evenodd\" fill-opacity=\"1\" stroke=\"#000000\" stroke-opacity=\"1\" stroke-width=\"4.55111\"/>\n",
       "<path clip-path=\"url(#clip020)\" d=\"M2135.62 1354.48 Q2133.82 1359.11 2132.11 1360.52 Q2130.39 1361.94 2127.52 1361.94 L2124.12 1361.94 L2124.12 1358.37 L2126.62 1358.37 Q2128.38 1358.37 2129.35 1357.54 Q2130.32 1356.7 2131.5 1353.6 L2132.27 1351.66 L2121.78 1326.15 L2126.3 1326.15 L2134.4 1346.43 L2142.5 1326.15 L2147.01 1326.15 L2135.62 1354.48 Z\" fill=\"#000000\" fill-rule=\"nonzero\" fill-opacity=\"1\" /><path clip-path=\"url(#clip020)\" d=\"M2157.11 1318.79 L2157.11 1326.15 L2165.88 1326.15 L2165.88 1329.46 L2157.11 1329.46 L2157.11 1343.53 Q2157.11 1346.7 2157.96 1347.61 Q2158.84 1348.51 2161.5 1348.51 L2165.88 1348.51 L2165.88 1352.07 L2161.5 1352.07 Q2156.57 1352.07 2154.7 1350.25 Q2152.82 1348.39 2152.82 1343.53 L2152.82 1329.46 L2149.7 1329.46 L2149.7 1326.15 L2152.82 1326.15 L2152.82 1318.79 L2157.11 1318.79 Z\" fill=\"#000000\" fill-rule=\"nonzero\" fill-opacity=\"1\" /><path clip-path=\"url(#clip020)\" d=\"M2186.5 1330.13 Q2185.79 1329.71 2184.93 1329.53 Q2184.1 1329.32 2183.08 1329.32 Q2179.47 1329.32 2177.52 1331.68 Q2175.6 1334.02 2175.6 1338.42 L2175.6 1352.07 L2171.32 1352.07 L2171.32 1326.15 L2175.6 1326.15 L2175.6 1330.18 Q2176.94 1327.82 2179.1 1326.68 Q2181.25 1325.52 2184.33 1325.52 Q2184.77 1325.52 2185.3 1325.59 Q2185.83 1325.64 2186.48 1325.76 L2186.5 1330.13 Z\" fill=\"#000000\" fill-rule=\"nonzero\" fill-opacity=\"1\" /><path clip-path=\"url(#clip020)\" d=\"M2202.75 1339.04 Q2197.59 1339.04 2195.6 1340.22 Q2193.61 1341.4 2193.61 1344.25 Q2193.61 1346.52 2195.09 1347.86 Q2196.6 1349.18 2199.17 1349.18 Q2202.71 1349.18 2204.84 1346.68 Q2206.99 1344.16 2206.99 1339.99 L2206.99 1339.04 L2202.75 1339.04 M2211.25 1337.28 L2211.25 1352.07 L2206.99 1352.07 L2206.99 1348.14 Q2205.53 1350.5 2203.35 1351.63 Q2201.18 1352.75 2198.03 1352.75 Q2194.05 1352.75 2191.69 1350.52 Q2189.35 1348.28 2189.35 1344.53 Q2189.35 1340.15 2192.27 1337.93 Q2195.21 1335.71 2201.02 1335.71 L2206.99 1335.71 L2206.99 1335.29 Q2206.99 1332.35 2205.04 1330.76 Q2203.12 1329.13 2199.63 1329.13 Q2197.41 1329.13 2195.3 1329.67 Q2193.19 1330.2 2191.25 1331.26 L2191.25 1327.33 Q2193.59 1326.43 2195.79 1325.99 Q2197.98 1325.52 2200.07 1325.52 Q2205.69 1325.52 2208.47 1328.44 Q2211.25 1331.36 2211.25 1337.28 Z\" fill=\"#000000\" fill-rule=\"nonzero\" fill-opacity=\"1\" /><path clip-path=\"url(#clip020)\" d=\"M2220.02 1326.15 L2224.28 1326.15 L2224.28 1352.07 L2220.02 1352.07 L2220.02 1326.15 M2220.02 1316.06 L2224.28 1316.06 L2224.28 1321.45 L2220.02 1321.45 L2220.02 1316.06 Z\" fill=\"#000000\" fill-rule=\"nonzero\" fill-opacity=\"1\" /><path clip-path=\"url(#clip020)\" d=\"M2254.74 1336.43 L2254.74 1352.07 L2250.48 1352.07 L2250.48 1336.57 Q2250.48 1332.88 2249.05 1331.06 Q2247.61 1329.23 2244.74 1329.23 Q2241.29 1329.23 2239.3 1331.43 Q2237.31 1333.63 2237.31 1337.42 L2237.31 1352.07 L2233.03 1352.07 L2233.03 1326.15 L2237.31 1326.15 L2237.31 1330.18 Q2238.84 1327.84 2240.9 1326.68 Q2242.98 1325.52 2245.69 1325.52 Q2250.16 1325.52 2252.45 1328.3 Q2254.74 1331.06 2254.74 1336.43 Z\" fill=\"#000000\" fill-rule=\"nonzero\" fill-opacity=\"1\" /><polyline clip-path=\"url(#clip020)\" style=\"stroke:#e26f46; stroke-linecap:round; stroke-linejoin:round; stroke-width:16; stroke-opacity:1; fill:none\" points=\"1950.26,1386.63 2097.28,1386.63 \"/>\n",
       "<path clip-path=\"url(#clip020)\" d=\"M2135.62 1406.32 Q2133.82 1410.95 2132.11 1412.36 Q2130.39 1413.78 2127.52 1413.78 L2124.12 1413.78 L2124.12 1410.21 L2126.62 1410.21 Q2128.38 1410.21 2129.35 1409.38 Q2130.32 1408.54 2131.5 1405.44 L2132.27 1403.5 L2121.78 1377.99 L2126.3 1377.99 L2134.4 1398.27 L2142.5 1377.99 L2147.01 1377.99 L2135.62 1406.32 Z\" fill=\"#000000\" fill-rule=\"nonzero\" fill-opacity=\"1\" /><path clip-path=\"url(#clip020)\" d=\"M2174.44 1388.27 L2174.44 1403.91 L2170.18 1403.91 L2170.18 1388.41 Q2170.18 1384.72 2168.75 1382.9 Q2167.31 1381.07 2164.44 1381.07 Q2160.99 1381.07 2159 1383.27 Q2157.01 1385.47 2157.01 1389.26 L2157.01 1403.91 L2152.73 1403.91 L2152.73 1367.9 L2157.01 1367.9 L2157.01 1382.02 Q2158.54 1379.68 2160.6 1378.52 Q2162.68 1377.36 2165.39 1377.36 Q2169.86 1377.36 2172.15 1380.14 Q2174.44 1382.9 2174.44 1388.27 Z\" fill=\"#000000\" fill-rule=\"nonzero\" fill-opacity=\"1\" /><path clip-path=\"url(#clip020)\" d=\"M2194.72 1390.88 Q2189.56 1390.88 2187.57 1392.06 Q2185.58 1393.24 2185.58 1396.09 Q2185.58 1398.36 2187.06 1399.7 Q2188.56 1401.02 2191.13 1401.02 Q2194.67 1401.02 2196.8 1398.52 Q2198.96 1396 2198.96 1391.83 L2198.96 1390.88 L2194.72 1390.88 M2203.22 1389.12 L2203.22 1403.91 L2198.96 1403.91 L2198.96 1399.98 Q2197.5 1402.34 2195.32 1403.47 Q2193.15 1404.59 2190 1404.59 Q2186.02 1404.59 2183.66 1402.36 Q2181.32 1400.12 2181.32 1396.37 Q2181.32 1391.99 2184.23 1389.77 Q2187.17 1387.55 2192.98 1387.55 L2198.96 1387.55 L2198.96 1387.13 Q2198.96 1384.19 2197.01 1382.6 Q2195.09 1380.97 2191.6 1380.97 Q2189.37 1380.97 2187.27 1381.51 Q2185.16 1382.04 2183.22 1383.1 L2183.22 1379.17 Q2185.55 1378.27 2187.75 1377.83 Q2189.95 1377.36 2192.04 1377.36 Q2197.66 1377.36 2200.44 1380.28 Q2203.22 1383.2 2203.22 1389.12 Z\" fill=\"#000000\" fill-rule=\"nonzero\" fill-opacity=\"1\" /><path clip-path=\"url(#clip020)\" d=\"M2216.2 1370.63 L2216.2 1377.99 L2224.98 1377.99 L2224.98 1381.3 L2216.2 1381.3 L2216.2 1395.37 Q2216.2 1398.54 2217.06 1399.45 Q2217.94 1400.35 2220.6 1400.35 L2224.98 1400.35 L2224.98 1403.91 L2220.6 1403.91 Q2215.67 1403.91 2213.79 1402.09 Q2211.92 1400.23 2211.92 1395.37 L2211.92 1381.3 L2208.79 1381.3 L2208.79 1377.99 L2211.92 1377.99 L2211.92 1370.63 L2216.2 1370.63 Z\" fill=\"#000000\" fill-rule=\"nonzero\" fill-opacity=\"1\" /></svg>\n"
      ],
      "text/html": [
       "<?xml version=\"1.0\" encoding=\"utf-8\"?>\n",
       "<svg xmlns=\"http://www.w3.org/2000/svg\" xmlns:xlink=\"http://www.w3.org/1999/xlink\" width=\"600\" height=\"400\" viewBox=\"0 0 2400 1600\">\n",
       "<defs>\n",
       "  <clipPath id=\"clip070\">\n",
       "    <rect x=\"0\" y=\"0\" width=\"2400\" height=\"1600\"/>\n",
       "  </clipPath>\n",
       "</defs>\n",
       "<path clip-path=\"url(#clip070)\" d=\"M0 1600 L2400 1600 L2400 0 L0 0  Z\" fill=\"#ffffff\" fill-rule=\"evenodd\" fill-opacity=\"1\"/>\n",
       "<defs>\n",
       "  <clipPath id=\"clip071\">\n",
       "    <rect x=\"480\" y=\"0\" width=\"1681\" height=\"1600\"/>\n",
       "  </clipPath>\n",
       "</defs>\n",
       "<path clip-path=\"url(#clip070)\" d=\"M147.478 1486.45 L2352.76 1486.45 L2352.76 47.2441 L147.478 47.2441  Z\" fill=\"#ffffff\" fill-rule=\"evenodd\" fill-opacity=\"1\"/>\n",
       "<defs>\n",
       "  <clipPath id=\"clip072\">\n",
       "    <rect x=\"147\" y=\"47\" width=\"2206\" height=\"1440\"/>\n",
       "  </clipPath>\n",
       "</defs>\n",
       "<polyline clip-path=\"url(#clip072)\" style=\"stroke:#000000; stroke-linecap:round; stroke-linejoin:round; stroke-width:2; stroke-opacity:0.1; fill:none\" points=\"370.047,1486.45 370.047,47.2441 \"/>\n",
       "<polyline clip-path=\"url(#clip072)\" style=\"stroke:#000000; stroke-linecap:round; stroke-linejoin:round; stroke-width:2; stroke-opacity:0.1; fill:none\" points=\"818.212,1486.45 818.212,47.2441 \"/>\n",
       "<polyline clip-path=\"url(#clip072)\" style=\"stroke:#000000; stroke-linecap:round; stroke-linejoin:round; stroke-width:2; stroke-opacity:0.1; fill:none\" points=\"1266.38,1486.45 1266.38,47.2441 \"/>\n",
       "<polyline clip-path=\"url(#clip072)\" style=\"stroke:#000000; stroke-linecap:round; stroke-linejoin:round; stroke-width:2; stroke-opacity:0.1; fill:none\" points=\"1714.54,1486.45 1714.54,47.2441 \"/>\n",
       "<polyline clip-path=\"url(#clip072)\" style=\"stroke:#000000; stroke-linecap:round; stroke-linejoin:round; stroke-width:2; stroke-opacity:0.1; fill:none\" points=\"2162.71,1486.45 2162.71,47.2441 \"/>\n",
       "<polyline clip-path=\"url(#clip070)\" style=\"stroke:#000000; stroke-linecap:round; stroke-linejoin:round; stroke-width:4; stroke-opacity:1; fill:none\" points=\"147.478,1486.45 2352.76,1486.45 \"/>\n",
       "<polyline clip-path=\"url(#clip070)\" style=\"stroke:#000000; stroke-linecap:round; stroke-linejoin:round; stroke-width:4; stroke-opacity:1; fill:none\" points=\"370.047,1486.45 370.047,1467.55 \"/>\n",
       "<polyline clip-path=\"url(#clip070)\" style=\"stroke:#000000; stroke-linecap:round; stroke-linejoin:round; stroke-width:4; stroke-opacity:1; fill:none\" points=\"818.212,1486.45 818.212,1467.55 \"/>\n",
       "<polyline clip-path=\"url(#clip070)\" style=\"stroke:#000000; stroke-linecap:round; stroke-linejoin:round; stroke-width:4; stroke-opacity:1; fill:none\" points=\"1266.38,1486.45 1266.38,1467.55 \"/>\n",
       "<polyline clip-path=\"url(#clip070)\" style=\"stroke:#000000; stroke-linecap:round; stroke-linejoin:round; stroke-width:4; stroke-opacity:1; fill:none\" points=\"1714.54,1486.45 1714.54,1467.55 \"/>\n",
       "<polyline clip-path=\"url(#clip070)\" style=\"stroke:#000000; stroke-linecap:round; stroke-linejoin:round; stroke-width:4; stroke-opacity:1; fill:none\" points=\"2162.71,1486.45 2162.71,1467.55 \"/>\n",
       "<path clip-path=\"url(#clip070)\" d=\"M370.047 1517.37 Q366.436 1517.37 364.608 1520.93 Q362.802 1524.47 362.802 1531.6 Q362.802 1538.71 364.608 1542.27 Q366.436 1545.82 370.047 1545.82 Q373.682 1545.82 375.487 1542.27 Q377.316 1538.71 377.316 1531.6 Q377.316 1524.47 375.487 1520.93 Q373.682 1517.37 370.047 1517.37 M370.047 1513.66 Q375.858 1513.66 378.913 1518.27 Q381.992 1522.85 381.992 1531.6 Q381.992 1540.33 378.913 1544.94 Q375.858 1549.52 370.047 1549.52 Q364.237 1549.52 361.159 1544.94 Q358.103 1540.33 358.103 1531.6 Q358.103 1522.85 361.159 1518.27 Q364.237 1513.66 370.047 1513.66 Z\" fill=\"#000000\" fill-rule=\"nonzero\" fill-opacity=\"1\" /><path clip-path=\"url(#clip070)\" d=\"M812.865 1544.91 L829.184 1544.91 L829.184 1548.85 L807.24 1548.85 L807.24 1544.91 Q809.902 1542.16 814.485 1537.53 Q819.092 1532.88 820.272 1531.53 Q822.518 1529.01 823.397 1527.27 Q824.3 1525.51 824.3 1523.82 Q824.3 1521.07 822.356 1519.33 Q820.434 1517.6 817.333 1517.6 Q815.133 1517.6 812.68 1518.36 Q810.249 1519.13 807.471 1520.68 L807.471 1515.95 Q810.296 1514.82 812.749 1514.24 Q815.203 1513.66 817.24 1513.66 Q822.61 1513.66 825.805 1516.35 Q828.999 1519.03 828.999 1523.52 Q828.999 1525.65 828.189 1527.57 Q827.402 1529.47 825.295 1532.07 Q824.717 1532.74 821.615 1535.95 Q818.513 1539.15 812.865 1544.91 Z\" fill=\"#000000\" fill-rule=\"nonzero\" fill-opacity=\"1\" /><path clip-path=\"url(#clip070)\" d=\"M1269.39 1518.36 L1257.58 1536.81 L1269.39 1536.81 L1269.39 1518.36 M1268.16 1514.29 L1274.04 1514.29 L1274.04 1536.81 L1278.97 1536.81 L1278.97 1540.7 L1274.04 1540.7 L1274.04 1548.85 L1269.39 1548.85 L1269.39 1540.7 L1253.78 1540.7 L1253.78 1536.19 L1268.16 1514.29 Z\" fill=\"#000000\" fill-rule=\"nonzero\" fill-opacity=\"1\" /><path clip-path=\"url(#clip070)\" d=\"M1714.95 1529.7 Q1711.8 1529.7 1709.95 1531.86 Q1708.12 1534.01 1708.12 1537.76 Q1708.12 1541.49 1709.95 1543.66 Q1711.8 1545.82 1714.95 1545.82 Q1718.09 1545.82 1719.92 1543.66 Q1721.78 1541.49 1721.78 1537.76 Q1721.78 1534.01 1719.92 1531.86 Q1718.09 1529.7 1714.95 1529.7 M1724.23 1515.05 L1724.23 1519.31 Q1722.47 1518.48 1720.66 1518.04 Q1718.88 1517.6 1717.12 1517.6 Q1712.49 1517.6 1710.04 1520.72 Q1707.61 1523.85 1707.26 1530.17 Q1708.63 1528.15 1710.69 1527.09 Q1712.75 1526 1715.22 1526 Q1720.43 1526 1723.44 1529.17 Q1726.47 1532.32 1726.47 1537.76 Q1726.47 1543.08 1723.33 1546.3 Q1720.18 1549.52 1714.95 1549.52 Q1708.95 1549.52 1705.78 1544.94 Q1702.61 1540.33 1702.61 1531.6 Q1702.61 1523.41 1706.5 1518.55 Q1710.39 1513.66 1716.94 1513.66 Q1718.7 1513.66 1720.48 1514.01 Q1722.28 1514.36 1724.23 1515.05 Z\" fill=\"#000000\" fill-rule=\"nonzero\" fill-opacity=\"1\" /><path clip-path=\"url(#clip070)\" d=\"M2162.71 1532.44 Q2159.37 1532.44 2157.45 1534.22 Q2155.55 1536 2155.55 1539.13 Q2155.55 1542.25 2157.45 1544.03 Q2159.37 1545.82 2162.71 1545.82 Q2166.04 1545.82 2167.96 1544.03 Q2169.88 1542.23 2169.88 1539.13 Q2169.88 1536 2167.96 1534.22 Q2166.06 1532.44 2162.71 1532.44 M2158.03 1530.45 Q2155.02 1529.7 2153.33 1527.64 Q2151.66 1525.58 2151.66 1522.62 Q2151.66 1518.48 2154.6 1516.07 Q2157.57 1513.66 2162.71 1513.66 Q2167.87 1513.66 2170.81 1516.07 Q2173.75 1518.48 2173.75 1522.62 Q2173.75 1525.58 2172.06 1527.64 Q2170.39 1529.7 2167.41 1530.45 Q2170.79 1531.23 2172.66 1533.52 Q2174.56 1535.82 2174.56 1539.13 Q2174.56 1544.15 2171.48 1546.83 Q2168.42 1549.52 2162.71 1549.52 Q2156.99 1549.52 2153.91 1546.83 Q2150.85 1544.15 2150.85 1539.13 Q2150.85 1535.82 2152.75 1533.52 Q2154.65 1531.23 2158.03 1530.45 M2156.32 1523.06 Q2156.32 1525.75 2157.98 1527.25 Q2159.67 1528.76 2162.71 1528.76 Q2165.72 1528.76 2167.41 1527.25 Q2169.12 1525.75 2169.12 1523.06 Q2169.12 1520.38 2167.41 1518.87 Q2165.72 1517.37 2162.71 1517.37 Q2159.67 1517.37 2157.98 1518.87 Q2156.32 1520.38 2156.32 1523.06 Z\" fill=\"#000000\" fill-rule=\"nonzero\" fill-opacity=\"1\" /><polyline clip-path=\"url(#clip072)\" style=\"stroke:#000000; stroke-linecap:round; stroke-linejoin:round; stroke-width:2; stroke-opacity:0.1; fill:none\" points=\"147.478,1311.59 2352.76,1311.59 \"/>\n",
       "<polyline clip-path=\"url(#clip072)\" style=\"stroke:#000000; stroke-linecap:round; stroke-linejoin:round; stroke-width:2; stroke-opacity:0.1; fill:none\" points=\"147.478,1033.62 2352.76,1033.62 \"/>\n",
       "<polyline clip-path=\"url(#clip072)\" style=\"stroke:#000000; stroke-linecap:round; stroke-linejoin:round; stroke-width:2; stroke-opacity:0.1; fill:none\" points=\"147.478,755.641 2352.76,755.641 \"/>\n",
       "<polyline clip-path=\"url(#clip072)\" style=\"stroke:#000000; stroke-linecap:round; stroke-linejoin:round; stroke-width:2; stroke-opacity:0.1; fill:none\" points=\"147.478,477.664 2352.76,477.664 \"/>\n",
       "<polyline clip-path=\"url(#clip072)\" style=\"stroke:#000000; stroke-linecap:round; stroke-linejoin:round; stroke-width:2; stroke-opacity:0.1; fill:none\" points=\"147.478,199.687 2352.76,199.687 \"/>\n",
       "<polyline clip-path=\"url(#clip070)\" style=\"stroke:#000000; stroke-linecap:round; stroke-linejoin:round; stroke-width:4; stroke-opacity:1; fill:none\" points=\"147.478,1486.45 147.478,47.2441 \"/>\n",
       "<polyline clip-path=\"url(#clip070)\" style=\"stroke:#000000; stroke-linecap:round; stroke-linejoin:round; stroke-width:4; stroke-opacity:1; fill:none\" points=\"147.478,1311.59 166.376,1311.59 \"/>\n",
       "<polyline clip-path=\"url(#clip070)\" style=\"stroke:#000000; stroke-linecap:round; stroke-linejoin:round; stroke-width:4; stroke-opacity:1; fill:none\" points=\"147.478,1033.62 166.376,1033.62 \"/>\n",
       "<polyline clip-path=\"url(#clip070)\" style=\"stroke:#000000; stroke-linecap:round; stroke-linejoin:round; stroke-width:4; stroke-opacity:1; fill:none\" points=\"147.478,755.641 166.376,755.641 \"/>\n",
       "<polyline clip-path=\"url(#clip070)\" style=\"stroke:#000000; stroke-linecap:round; stroke-linejoin:round; stroke-width:4; stroke-opacity:1; fill:none\" points=\"147.478,477.664 166.376,477.664 \"/>\n",
       "<polyline clip-path=\"url(#clip070)\" style=\"stroke:#000000; stroke-linecap:round; stroke-linejoin:round; stroke-width:4; stroke-opacity:1; fill:none\" points=\"147.478,199.687 166.376,199.687 \"/>\n",
       "<path clip-path=\"url(#clip070)\" d=\"M51.3625 1312.05 L81.0383 1312.05 L81.0383 1315.98 L51.3625 1315.98 L51.3625 1312.05 Z\" fill=\"#000000\" fill-rule=\"nonzero\" fill-opacity=\"1\" /><path clip-path=\"url(#clip070)\" d=\"M95.1586 1324.94 L111.478 1324.94 L111.478 1328.87 L89.5336 1328.87 L89.5336 1324.94 Q92.1956 1322.18 96.7789 1317.56 Q101.385 1312.9 102.566 1311.56 Q104.811 1309.04 105.691 1307.3 Q106.594 1305.54 106.594 1303.85 Q106.594 1301.1 104.649 1299.36 Q102.728 1297.62 99.6261 1297.62 Q97.4271 1297.62 94.9734 1298.39 Q92.5428 1299.15 89.7651 1300.7 L89.7651 1295.98 Q92.5891 1294.85 95.0428 1294.27 Q97.4965 1293.69 99.5335 1293.69 Q104.904 1293.69 108.098 1296.37 Q111.293 1299.06 111.293 1303.55 Q111.293 1305.68 110.483 1307.6 Q109.696 1309.5 107.589 1312.09 Q107.01 1312.76 103.909 1315.98 Q100.807 1319.18 95.1586 1324.94 Z\" fill=\"#000000\" fill-rule=\"nonzero\" fill-opacity=\"1\" /><path clip-path=\"url(#clip070)\" d=\"M50.9921 1034.07 L80.6679 1034.07 L80.6679 1038 L50.9921 1038 L50.9921 1034.07 Z\" fill=\"#000000\" fill-rule=\"nonzero\" fill-opacity=\"1\" /><path clip-path=\"url(#clip070)\" d=\"M91.5706 1046.96 L99.2095 1046.96 L99.2095 1020.6 L90.8993 1022.26 L90.8993 1018 L99.1632 1016.34 L103.839 1016.34 L103.839 1046.96 L111.478 1046.96 L111.478 1050.9 L91.5706 1050.9 L91.5706 1046.96 Z\" fill=\"#000000\" fill-rule=\"nonzero\" fill-opacity=\"1\" /><path clip-path=\"url(#clip070)\" d=\"M99.5335 741.44 Q95.9224 741.44 94.0937 745.004 Q92.2882 748.546 92.2882 755.676 Q92.2882 762.782 94.0937 766.347 Q95.9224 769.889 99.5335 769.889 Q103.168 769.889 104.973 766.347 Q106.802 762.782 106.802 755.676 Q106.802 748.546 104.973 745.004 Q103.168 741.44 99.5335 741.44 M99.5335 737.736 Q105.344 737.736 108.399 742.342 Q111.478 746.926 111.478 755.676 Q111.478 764.402 108.399 769.009 Q105.344 773.592 99.5335 773.592 Q93.7234 773.592 90.6447 769.009 Q87.5892 764.402 87.5892 755.676 Q87.5892 746.926 90.6447 742.342 Q93.7234 737.736 99.5335 737.736 Z\" fill=\"#000000\" fill-rule=\"nonzero\" fill-opacity=\"1\" /><path clip-path=\"url(#clip070)\" d=\"M91.5706 491.009 L99.2095 491.009 L99.2095 464.643 L90.8993 466.31 L90.8993 462.051 L99.1632 460.384 L103.839 460.384 L103.839 491.009 L111.478 491.009 L111.478 494.944 L91.5706 494.944 L91.5706 491.009 Z\" fill=\"#000000\" fill-rule=\"nonzero\" fill-opacity=\"1\" /><path clip-path=\"url(#clip070)\" d=\"M95.1586 213.032 L111.478 213.032 L111.478 216.967 L89.5336 216.967 L89.5336 213.032 Q92.1956 210.277 96.7789 205.648 Q101.385 200.995 102.566 199.653 Q104.811 197.129 105.691 195.393 Q106.594 193.634 106.594 191.944 Q106.594 189.19 104.649 187.453 Q102.728 185.717 99.6261 185.717 Q97.4271 185.717 94.9734 186.481 Q92.5428 187.245 89.7651 188.796 L89.7651 184.074 Q92.5891 182.94 95.0428 182.361 Q97.4965 181.782 99.5335 181.782 Q104.904 181.782 108.098 184.467 Q111.293 187.153 111.293 191.643 Q111.293 193.773 110.483 195.694 Q109.696 197.592 107.589 200.185 Q107.01 200.856 103.909 204.074 Q100.807 207.268 95.1586 213.032 Z\" fill=\"#000000\" fill-rule=\"nonzero\" fill-opacity=\"1\" /><circle clip-path=\"url(#clip072)\" cx=\"1290.19\" cy=\"940.042\" r=\"14.4\" fill=\"#009af9\" fill-rule=\"evenodd\" fill-opacity=\"1\" stroke=\"#000000\" stroke-opacity=\"1\" stroke-width=\"3.2\"/>\n",
       "<circle clip-path=\"url(#clip072)\" cx=\"1717\" cy=\"914.477\" r=\"14.4\" fill=\"#009af9\" fill-rule=\"evenodd\" fill-opacity=\"1\" stroke=\"#000000\" stroke-opacity=\"1\" stroke-width=\"3.2\"/>\n",
       "<circle clip-path=\"url(#clip072)\" cx=\"728.351\" cy=\"500.227\" r=\"14.4\" fill=\"#009af9\" fill-rule=\"evenodd\" fill-opacity=\"1\" stroke=\"#000000\" stroke-opacity=\"1\" stroke-width=\"3.2\"/>\n",
       "<circle clip-path=\"url(#clip072)\" cx=\"873.768\" cy=\"436.09\" r=\"14.4\" fill=\"#009af9\" fill-rule=\"evenodd\" fill-opacity=\"1\" stroke=\"#000000\" stroke-opacity=\"1\" stroke-width=\"3.2\"/>\n",
       "<circle clip-path=\"url(#clip072)\" cx=\"1930.21\" cy=\"492.623\" r=\"14.4\" fill=\"#009af9\" fill-rule=\"evenodd\" fill-opacity=\"1\" stroke=\"#000000\" stroke-opacity=\"1\" stroke-width=\"3.2\"/>\n",
       "<circle clip-path=\"url(#clip072)\" cx=\"1493.68\" cy=\"1017.32\" r=\"14.4\" fill=\"#009af9\" fill-rule=\"evenodd\" fill-opacity=\"1\" stroke=\"#000000\" stroke-opacity=\"1\" stroke-width=\"3.2\"/>\n",
       "<circle clip-path=\"url(#clip072)\" cx=\"710.741\" cy=\"410.472\" r=\"14.4\" fill=\"#009af9\" fill-rule=\"evenodd\" fill-opacity=\"1\" stroke=\"#000000\" stroke-opacity=\"1\" stroke-width=\"3.2\"/>\n",
       "<circle clip-path=\"url(#clip072)\" cx=\"986.884\" cy=\"664.482\" r=\"14.4\" fill=\"#009af9\" fill-rule=\"evenodd\" fill-opacity=\"1\" stroke=\"#000000\" stroke-opacity=\"1\" stroke-width=\"3.2\"/>\n",
       "<circle clip-path=\"url(#clip072)\" cx=\"2127.47\" cy=\"445.906\" r=\"14.4\" fill=\"#009af9\" fill-rule=\"evenodd\" fill-opacity=\"1\" stroke=\"#000000\" stroke-opacity=\"1\" stroke-width=\"3.2\"/>\n",
       "<circle clip-path=\"url(#clip072)\" cx=\"500.91\" cy=\"571.304\" r=\"14.4\" fill=\"#009af9\" fill-rule=\"evenodd\" fill-opacity=\"1\" stroke=\"#000000\" stroke-opacity=\"1\" stroke-width=\"3.2\"/>\n",
       "<circle clip-path=\"url(#clip072)\" cx=\"393.235\" cy=\"757.85\" r=\"14.4\" fill=\"#009af9\" fill-rule=\"evenodd\" fill-opacity=\"1\" stroke=\"#000000\" stroke-opacity=\"1\" stroke-width=\"3.2\"/>\n",
       "<circle clip-path=\"url(#clip072)\" cx=\"885.653\" cy=\"554.681\" r=\"14.4\" fill=\"#009af9\" fill-rule=\"evenodd\" fill-opacity=\"1\" stroke=\"#000000\" stroke-opacity=\"1\" stroke-width=\"3.2\"/>\n",
       "<circle clip-path=\"url(#clip072)\" cx=\"805.859\" cy=\"343.296\" r=\"14.4\" fill=\"#009af9\" fill-rule=\"evenodd\" fill-opacity=\"1\" stroke=\"#000000\" stroke-opacity=\"1\" stroke-width=\"3.2\"/>\n",
       "<circle clip-path=\"url(#clip072)\" cx=\"1307.94\" cy=\"988.662\" r=\"14.4\" fill=\"#009af9\" fill-rule=\"evenodd\" fill-opacity=\"1\" stroke=\"#000000\" stroke-opacity=\"1\" stroke-width=\"3.2\"/>\n",
       "<circle clip-path=\"url(#clip072)\" cx=\"1827.29\" cy=\"763.173\" r=\"14.4\" fill=\"#009af9\" fill-rule=\"evenodd\" fill-opacity=\"1\" stroke=\"#000000\" stroke-opacity=\"1\" stroke-width=\"3.2\"/>\n",
       "<circle clip-path=\"url(#clip072)\" cx=\"1900.2\" cy=\"480.053\" r=\"14.4\" fill=\"#009af9\" fill-rule=\"evenodd\" fill-opacity=\"1\" stroke=\"#000000\" stroke-opacity=\"1\" stroke-width=\"3.2\"/>\n",
       "<circle clip-path=\"url(#clip072)\" cx=\"1273.82\" cy=\"943.805\" r=\"14.4\" fill=\"#009af9\" fill-rule=\"evenodd\" fill-opacity=\"1\" stroke=\"#000000\" stroke-opacity=\"1\" stroke-width=\"3.2\"/>\n",
       "<circle clip-path=\"url(#clip072)\" cx=\"371.56\" cy=\"718.536\" r=\"14.4\" fill=\"#009af9\" fill-rule=\"evenodd\" fill-opacity=\"1\" stroke=\"#000000\" stroke-opacity=\"1\" stroke-width=\"3.2\"/>\n",
       "<circle clip-path=\"url(#clip072)\" cx=\"1664.43\" cy=\"839.217\" r=\"14.4\" fill=\"#009af9\" fill-rule=\"evenodd\" fill-opacity=\"1\" stroke=\"#000000\" stroke-opacity=\"1\" stroke-width=\"3.2\"/>\n",
       "<circle clip-path=\"url(#clip072)\" cx=\"1290.97\" cy=\"858.238\" r=\"14.4\" fill=\"#009af9\" fill-rule=\"evenodd\" fill-opacity=\"1\" stroke=\"#000000\" stroke-opacity=\"1\" stroke-width=\"3.2\"/>\n",
       "<circle clip-path=\"url(#clip072)\" cx=\"1825.56\" cy=\"850.533\" r=\"14.4\" fill=\"#009af9\" fill-rule=\"evenodd\" fill-opacity=\"1\" stroke=\"#000000\" stroke-opacity=\"1\" stroke-width=\"3.2\"/>\n",
       "<circle clip-path=\"url(#clip072)\" cx=\"1544.16\" cy=\"984.255\" r=\"14.4\" fill=\"#009af9\" fill-rule=\"evenodd\" fill-opacity=\"1\" stroke=\"#000000\" stroke-opacity=\"1\" stroke-width=\"3.2\"/>\n",
       "<circle clip-path=\"url(#clip072)\" cx=\"571.934\" cy=\"590.267\" r=\"14.4\" fill=\"#009af9\" fill-rule=\"evenodd\" fill-opacity=\"1\" stroke=\"#000000\" stroke-opacity=\"1\" stroke-width=\"3.2\"/>\n",
       "<circle clip-path=\"url(#clip072)\" cx=\"640.505\" cy=\"325.221\" r=\"14.4\" fill=\"#009af9\" fill-rule=\"evenodd\" fill-opacity=\"1\" stroke=\"#000000\" stroke-opacity=\"1\" stroke-width=\"3.2\"/>\n",
       "<circle clip-path=\"url(#clip072)\" cx=\"1350.13\" cy=\"943.024\" r=\"14.4\" fill=\"#009af9\" fill-rule=\"evenodd\" fill-opacity=\"1\" stroke=\"#000000\" stroke-opacity=\"1\" stroke-width=\"3.2\"/>\n",
       "<circle clip-path=\"url(#clip072)\" cx=\"1484.98\" cy=\"888.247\" r=\"14.4\" fill=\"#009af9\" fill-rule=\"evenodd\" fill-opacity=\"1\" stroke=\"#000000\" stroke-opacity=\"1\" stroke-width=\"3.2\"/>\n",
       "<circle clip-path=\"url(#clip072)\" cx=\"2041.04\" cy=\"406.954\" r=\"14.4\" fill=\"#009af9\" fill-rule=\"evenodd\" fill-opacity=\"1\" stroke=\"#000000\" stroke-opacity=\"1\" stroke-width=\"3.2\"/>\n",
       "<circle clip-path=\"url(#clip072)\" cx=\"2061.9\" cy=\"597.551\" r=\"14.4\" fill=\"#009af9\" fill-rule=\"evenodd\" fill-opacity=\"1\" stroke=\"#000000\" stroke-opacity=\"1\" stroke-width=\"3.2\"/>\n",
       "<circle clip-path=\"url(#clip072)\" cx=\"743.353\" cy=\"528.412\" r=\"14.4\" fill=\"#009af9\" fill-rule=\"evenodd\" fill-opacity=\"1\" stroke=\"#000000\" stroke-opacity=\"1\" stroke-width=\"3.2\"/>\n",
       "<circle clip-path=\"url(#clip072)\" cx=\"491.3\" cy=\"516.967\" r=\"14.4\" fill=\"#009af9\" fill-rule=\"evenodd\" fill-opacity=\"1\" stroke=\"#000000\" stroke-opacity=\"1\" stroke-width=\"3.2\"/>\n",
       "<circle clip-path=\"url(#clip072)\" cx=\"1494.95\" cy=\"1040.68\" r=\"14.4\" fill=\"#009af9\" fill-rule=\"evenodd\" fill-opacity=\"1\" stroke=\"#000000\" stroke-opacity=\"1\" stroke-width=\"3.2\"/>\n",
       "<circle clip-path=\"url(#clip072)\" cx=\"1575.25\" cy=\"1011.99\" r=\"14.4\" fill=\"#009af9\" fill-rule=\"evenodd\" fill-opacity=\"1\" stroke=\"#000000\" stroke-opacity=\"1\" stroke-width=\"3.2\"/>\n",
       "<circle clip-path=\"url(#clip072)\" cx=\"482.861\" cy=\"635.52\" r=\"14.4\" fill=\"#009af9\" fill-rule=\"evenodd\" fill-opacity=\"1\" stroke=\"#000000\" stroke-opacity=\"1\" stroke-width=\"3.2\"/>\n",
       "<circle clip-path=\"url(#clip072)\" cx=\"1457.18\" cy=\"1208.47\" r=\"14.4\" fill=\"#009af9\" fill-rule=\"evenodd\" fill-opacity=\"1\" stroke=\"#000000\" stroke-opacity=\"1\" stroke-width=\"3.2\"/>\n",
       "<circle clip-path=\"url(#clip072)\" cx=\"713.126\" cy=\"493.313\" r=\"14.4\" fill=\"#009af9\" fill-rule=\"evenodd\" fill-opacity=\"1\" stroke=\"#000000\" stroke-opacity=\"1\" stroke-width=\"3.2\"/>\n",
       "<circle clip-path=\"url(#clip072)\" cx=\"946.877\" cy=\"598.718\" r=\"14.4\" fill=\"#009af9\" fill-rule=\"evenodd\" fill-opacity=\"1\" stroke=\"#000000\" stroke-opacity=\"1\" stroke-width=\"3.2\"/>\n",
       "<circle clip-path=\"url(#clip072)\" cx=\"800.33\" cy=\"522.173\" r=\"14.4\" fill=\"#009af9\" fill-rule=\"evenodd\" fill-opacity=\"1\" stroke=\"#000000\" stroke-opacity=\"1\" stroke-width=\"3.2\"/>\n",
       "<circle clip-path=\"url(#clip072)\" cx=\"399.554\" cy=\"698.663\" r=\"14.4\" fill=\"#009af9\" fill-rule=\"evenodd\" fill-opacity=\"1\" stroke=\"#000000\" stroke-opacity=\"1\" stroke-width=\"3.2\"/>\n",
       "<circle clip-path=\"url(#clip072)\" cx=\"1237.05\" cy=\"872.787\" r=\"14.4\" fill=\"#009af9\" fill-rule=\"evenodd\" fill-opacity=\"1\" stroke=\"#000000\" stroke-opacity=\"1\" stroke-width=\"3.2\"/>\n",
       "<circle clip-path=\"url(#clip072)\" cx=\"1986.01\" cy=\"532.335\" r=\"14.4\" fill=\"#009af9\" fill-rule=\"evenodd\" fill-opacity=\"1\" stroke=\"#000000\" stroke-opacity=\"1\" stroke-width=\"3.2\"/>\n",
       "<circle clip-path=\"url(#clip072)\" cx=\"459.51\" cy=\"624.14\" r=\"14.4\" fill=\"#009af9\" fill-rule=\"evenodd\" fill-opacity=\"1\" stroke=\"#000000\" stroke-opacity=\"1\" stroke-width=\"3.2\"/>\n",
       "<circle clip-path=\"url(#clip072)\" cx=\"1793.47\" cy=\"665.759\" r=\"14.4\" fill=\"#009af9\" fill-rule=\"evenodd\" fill-opacity=\"1\" stroke=\"#000000\" stroke-opacity=\"1\" stroke-width=\"3.2\"/>\n",
       "<circle clip-path=\"url(#clip072)\" cx=\"445.421\" cy=\"738.933\" r=\"14.4\" fill=\"#009af9\" fill-rule=\"evenodd\" fill-opacity=\"1\" stroke=\"#000000\" stroke-opacity=\"1\" stroke-width=\"3.2\"/>\n",
       "<circle clip-path=\"url(#clip072)\" cx=\"1539.33\" cy=\"942.868\" r=\"14.4\" fill=\"#009af9\" fill-rule=\"evenodd\" fill-opacity=\"1\" stroke=\"#000000\" stroke-opacity=\"1\" stroke-width=\"3.2\"/>\n",
       "<circle clip-path=\"url(#clip072)\" cx=\"724.402\" cy=\"368.741\" r=\"14.4\" fill=\"#009af9\" fill-rule=\"evenodd\" fill-opacity=\"1\" stroke=\"#000000\" stroke-opacity=\"1\" stroke-width=\"3.2\"/>\n",
       "<circle clip-path=\"url(#clip072)\" cx=\"1919.29\" cy=\"654.857\" r=\"14.4\" fill=\"#009af9\" fill-rule=\"evenodd\" fill-opacity=\"1\" stroke=\"#000000\" stroke-opacity=\"1\" stroke-width=\"3.2\"/>\n",
       "<circle clip-path=\"url(#clip072)\" cx=\"1827.67\" cy=\"712.707\" r=\"14.4\" fill=\"#009af9\" fill-rule=\"evenodd\" fill-opacity=\"1\" stroke=\"#000000\" stroke-opacity=\"1\" stroke-width=\"3.2\"/>\n",
       "<circle clip-path=\"url(#clip072)\" cx=\"2128.67\" cy=\"441.463\" r=\"14.4\" fill=\"#009af9\" fill-rule=\"evenodd\" fill-opacity=\"1\" stroke=\"#000000\" stroke-opacity=\"1\" stroke-width=\"3.2\"/>\n",
       "<circle clip-path=\"url(#clip072)\" cx=\"905.748\" cy=\"626.567\" r=\"14.4\" fill=\"#009af9\" fill-rule=\"evenodd\" fill-opacity=\"1\" stroke=\"#000000\" stroke-opacity=\"1\" stroke-width=\"3.2\"/>\n",
       "<circle clip-path=\"url(#clip072)\" cx=\"374.389\" cy=\"820.81\" r=\"14.4\" fill=\"#009af9\" fill-rule=\"evenodd\" fill-opacity=\"1\" stroke=\"#000000\" stroke-opacity=\"1\" stroke-width=\"3.2\"/>\n",
       "<circle clip-path=\"url(#clip072)\" cx=\"1249.05\" cy=\"940.226\" r=\"14.4\" fill=\"#009af9\" fill-rule=\"evenodd\" fill-opacity=\"1\" stroke=\"#000000\" stroke-opacity=\"1\" stroke-width=\"3.2\"/>\n",
       "<circle clip-path=\"url(#clip072)\" cx=\"878.176\" cy=\"638.294\" r=\"14.4\" fill=\"#009af9\" fill-rule=\"evenodd\" fill-opacity=\"1\" stroke=\"#000000\" stroke-opacity=\"1\" stroke-width=\"3.2\"/>\n",
       "<circle clip-path=\"url(#clip072)\" cx=\"1373.63\" cy=\"875.875\" r=\"14.4\" fill=\"#009af9\" fill-rule=\"evenodd\" fill-opacity=\"1\" stroke=\"#000000\" stroke-opacity=\"1\" stroke-width=\"3.2\"/>\n",
       "<circle clip-path=\"url(#clip072)\" cx=\"1525.53\" cy=\"1149.16\" r=\"14.4\" fill=\"#009af9\" fill-rule=\"evenodd\" fill-opacity=\"1\" stroke=\"#000000\" stroke-opacity=\"1\" stroke-width=\"3.2\"/>\n",
       "<circle clip-path=\"url(#clip072)\" cx=\"1298.41\" cy=\"876.413\" r=\"14.4\" fill=\"#009af9\" fill-rule=\"evenodd\" fill-opacity=\"1\" stroke=\"#000000\" stroke-opacity=\"1\" stroke-width=\"3.2\"/>\n",
       "<circle clip-path=\"url(#clip072)\" cx=\"1037.1\" cy=\"677.877\" r=\"14.4\" fill=\"#009af9\" fill-rule=\"evenodd\" fill-opacity=\"1\" stroke=\"#000000\" stroke-opacity=\"1\" stroke-width=\"3.2\"/>\n",
       "<circle clip-path=\"url(#clip072)\" cx=\"1926.73\" cy=\"657.813\" r=\"14.4\" fill=\"#009af9\" fill-rule=\"evenodd\" fill-opacity=\"1\" stroke=\"#000000\" stroke-opacity=\"1\" stroke-width=\"3.2\"/>\n",
       "<circle clip-path=\"url(#clip072)\" cx=\"1792.5\" cy=\"709.911\" r=\"14.4\" fill=\"#009af9\" fill-rule=\"evenodd\" fill-opacity=\"1\" stroke=\"#000000\" stroke-opacity=\"1\" stroke-width=\"3.2\"/>\n",
       "<circle clip-path=\"url(#clip072)\" cx=\"1919\" cy=\"550.483\" r=\"14.4\" fill=\"#009af9\" fill-rule=\"evenodd\" fill-opacity=\"1\" stroke=\"#000000\" stroke-opacity=\"1\" stroke-width=\"3.2\"/>\n",
       "<circle clip-path=\"url(#clip072)\" cx=\"1889.56\" cy=\"640.38\" r=\"14.4\" fill=\"#009af9\" fill-rule=\"evenodd\" fill-opacity=\"1\" stroke=\"#000000\" stroke-opacity=\"1\" stroke-width=\"3.2\"/>\n",
       "<circle clip-path=\"url(#clip072)\" cx=\"1313.05\" cy=\"982.216\" r=\"14.4\" fill=\"#009af9\" fill-rule=\"evenodd\" fill-opacity=\"1\" stroke=\"#000000\" stroke-opacity=\"1\" stroke-width=\"3.2\"/>\n",
       "<circle clip-path=\"url(#clip072)\" cx=\"2018.8\" cy=\"559.538\" r=\"14.4\" fill=\"#009af9\" fill-rule=\"evenodd\" fill-opacity=\"1\" stroke=\"#000000\" stroke-opacity=\"1\" stroke-width=\"3.2\"/>\n",
       "<circle clip-path=\"url(#clip072)\" cx=\"1687.02\" cy=\"1048.59\" r=\"14.4\" fill=\"#009af9\" fill-rule=\"evenodd\" fill-opacity=\"1\" stroke=\"#000000\" stroke-opacity=\"1\" stroke-width=\"3.2\"/>\n",
       "<circle clip-path=\"url(#clip072)\" cx=\"2087.68\" cy=\"433.352\" r=\"14.4\" fill=\"#009af9\" fill-rule=\"evenodd\" fill-opacity=\"1\" stroke=\"#000000\" stroke-opacity=\"1\" stroke-width=\"3.2\"/>\n",
       "<circle clip-path=\"url(#clip072)\" cx=\"678.337\" cy=\"383.519\" r=\"14.4\" fill=\"#009af9\" fill-rule=\"evenodd\" fill-opacity=\"1\" stroke=\"#000000\" stroke-opacity=\"1\" stroke-width=\"3.2\"/>\n",
       "<circle clip-path=\"url(#clip072)\" cx=\"1414.23\" cy=\"914.599\" r=\"14.4\" fill=\"#009af9\" fill-rule=\"evenodd\" fill-opacity=\"1\" stroke=\"#000000\" stroke-opacity=\"1\" stroke-width=\"3.2\"/>\n",
       "<circle clip-path=\"url(#clip072)\" cx=\"814.305\" cy=\"329.026\" r=\"14.4\" fill=\"#009af9\" fill-rule=\"evenodd\" fill-opacity=\"1\" stroke=\"#000000\" stroke-opacity=\"1\" stroke-width=\"3.2\"/>\n",
       "<circle clip-path=\"url(#clip072)\" cx=\"516.799\" cy=\"448.006\" r=\"14.4\" fill=\"#009af9\" fill-rule=\"evenodd\" fill-opacity=\"1\" stroke=\"#000000\" stroke-opacity=\"1\" stroke-width=\"3.2\"/>\n",
       "<circle clip-path=\"url(#clip072)\" cx=\"673.332\" cy=\"409.799\" r=\"14.4\" fill=\"#009af9\" fill-rule=\"evenodd\" fill-opacity=\"1\" stroke=\"#000000\" stroke-opacity=\"1\" stroke-width=\"3.2\"/>\n",
       "<circle clip-path=\"url(#clip072)\" cx=\"1875.82\" cy=\"571.095\" r=\"14.4\" fill=\"#009af9\" fill-rule=\"evenodd\" fill-opacity=\"1\" stroke=\"#000000\" stroke-opacity=\"1\" stroke-width=\"3.2\"/>\n",
       "<circle clip-path=\"url(#clip072)\" cx=\"1998.62\" cy=\"630.257\" r=\"14.4\" fill=\"#009af9\" fill-rule=\"evenodd\" fill-opacity=\"1\" stroke=\"#000000\" stroke-opacity=\"1\" stroke-width=\"3.2\"/>\n",
       "<circle clip-path=\"url(#clip072)\" cx=\"611.144\" cy=\"560.27\" r=\"14.4\" fill=\"#009af9\" fill-rule=\"evenodd\" fill-opacity=\"1\" stroke=\"#000000\" stroke-opacity=\"1\" stroke-width=\"3.2\"/>\n",
       "<circle clip-path=\"url(#clip072)\" cx=\"1674.03\" cy=\"856.178\" r=\"14.4\" fill=\"#009af9\" fill-rule=\"evenodd\" fill-opacity=\"1\" stroke=\"#000000\" stroke-opacity=\"1\" stroke-width=\"3.2\"/>\n",
       "<circle clip-path=\"url(#clip072)\" cx=\"922.606\" cy=\"572.436\" r=\"14.4\" fill=\"#009af9\" fill-rule=\"evenodd\" fill-opacity=\"1\" stroke=\"#000000\" stroke-opacity=\"1\" stroke-width=\"3.2\"/>\n",
       "<circle clip-path=\"url(#clip072)\" cx=\"1898.25\" cy=\"513.128\" r=\"14.4\" fill=\"#009af9\" fill-rule=\"evenodd\" fill-opacity=\"1\" stroke=\"#000000\" stroke-opacity=\"1\" stroke-width=\"3.2\"/>\n",
       "<circle clip-path=\"url(#clip072)\" cx=\"1874.32\" cy=\"491.656\" r=\"14.4\" fill=\"#009af9\" fill-rule=\"evenodd\" fill-opacity=\"1\" stroke=\"#000000\" stroke-opacity=\"1\" stroke-width=\"3.2\"/>\n",
       "<circle clip-path=\"url(#clip072)\" cx=\"1251.78\" cy=\"1077.27\" r=\"14.4\" fill=\"#009af9\" fill-rule=\"evenodd\" fill-opacity=\"1\" stroke=\"#000000\" stroke-opacity=\"1\" stroke-width=\"3.2\"/>\n",
       "<circle clip-path=\"url(#clip072)\" cx=\"1319.3\" cy=\"1042.43\" r=\"14.4\" fill=\"#009af9\" fill-rule=\"evenodd\" fill-opacity=\"1\" stroke=\"#000000\" stroke-opacity=\"1\" stroke-width=\"3.2\"/>\n",
       "<circle clip-path=\"url(#clip072)\" cx=\"1710.77\" cy=\"830.39\" r=\"14.4\" fill=\"#009af9\" fill-rule=\"evenodd\" fill-opacity=\"1\" stroke=\"#000000\" stroke-opacity=\"1\" stroke-width=\"3.2\"/>\n",
       "<circle clip-path=\"url(#clip072)\" cx=\"502.245\" cy=\"654.572\" r=\"14.4\" fill=\"#009af9\" fill-rule=\"evenodd\" fill-opacity=\"1\" stroke=\"#000000\" stroke-opacity=\"1\" stroke-width=\"3.2\"/>\n",
       "<circle clip-path=\"url(#clip072)\" cx=\"944.967\" cy=\"532.254\" r=\"14.4\" fill=\"#009af9\" fill-rule=\"evenodd\" fill-opacity=\"1\" stroke=\"#000000\" stroke-opacity=\"1\" stroke-width=\"3.2\"/>\n",
       "<circle clip-path=\"url(#clip072)\" cx=\"1988.39\" cy=\"500.389\" r=\"14.4\" fill=\"#009af9\" fill-rule=\"evenodd\" fill-opacity=\"1\" stroke=\"#000000\" stroke-opacity=\"1\" stroke-width=\"3.2\"/>\n",
       "<circle clip-path=\"url(#clip072)\" cx=\"882.848\" cy=\"588.523\" r=\"14.4\" fill=\"#009af9\" fill-rule=\"evenodd\" fill-opacity=\"1\" stroke=\"#000000\" stroke-opacity=\"1\" stroke-width=\"3.2\"/>\n",
       "<circle clip-path=\"url(#clip072)\" cx=\"531.973\" cy=\"595.183\" r=\"14.4\" fill=\"#009af9\" fill-rule=\"evenodd\" fill-opacity=\"1\" stroke=\"#000000\" stroke-opacity=\"1\" stroke-width=\"3.2\"/>\n",
       "<circle clip-path=\"url(#clip072)\" cx=\"1098.73\" cy=\"656.656\" r=\"14.4\" fill=\"#009af9\" fill-rule=\"evenodd\" fill-opacity=\"1\" stroke=\"#000000\" stroke-opacity=\"1\" stroke-width=\"3.2\"/>\n",
       "<circle clip-path=\"url(#clip072)\" cx=\"1270.05\" cy=\"1049.3\" r=\"14.4\" fill=\"#009af9\" fill-rule=\"evenodd\" fill-opacity=\"1\" stroke=\"#000000\" stroke-opacity=\"1\" stroke-width=\"3.2\"/>\n",
       "<circle clip-path=\"url(#clip072)\" cx=\"1279.09\" cy=\"958.607\" r=\"14.4\" fill=\"#009af9\" fill-rule=\"evenodd\" fill-opacity=\"1\" stroke=\"#000000\" stroke-opacity=\"1\" stroke-width=\"3.2\"/>\n",
       "<circle clip-path=\"url(#clip072)\" cx=\"610.652\" cy=\"546.559\" r=\"14.4\" fill=\"#009af9\" fill-rule=\"evenodd\" fill-opacity=\"1\" stroke=\"#000000\" stroke-opacity=\"1\" stroke-width=\"3.2\"/>\n",
       "<circle clip-path=\"url(#clip072)\" cx=\"1702.02\" cy=\"906.658\" r=\"14.4\" fill=\"#009af9\" fill-rule=\"evenodd\" fill-opacity=\"1\" stroke=\"#000000\" stroke-opacity=\"1\" stroke-width=\"3.2\"/>\n",
       "<circle clip-path=\"url(#clip072)\" cx=\"680.027\" cy=\"474.658\" r=\"14.4\" fill=\"#009af9\" fill-rule=\"evenodd\" fill-opacity=\"1\" stroke=\"#000000\" stroke-opacity=\"1\" stroke-width=\"3.2\"/>\n",
       "<circle clip-path=\"url(#clip072)\" cx=\"1145.7\" cy=\"841.579\" r=\"14.4\" fill=\"#009af9\" fill-rule=\"evenodd\" fill-opacity=\"1\" stroke=\"#000000\" stroke-opacity=\"1\" stroke-width=\"3.2\"/>\n",
       "<circle clip-path=\"url(#clip072)\" cx=\"1265.89\" cy=\"1075.89\" r=\"14.4\" fill=\"#009af9\" fill-rule=\"evenodd\" fill-opacity=\"1\" stroke=\"#000000\" stroke-opacity=\"1\" stroke-width=\"3.2\"/>\n",
       "<circle clip-path=\"url(#clip072)\" cx=\"708.33\" cy=\"359.896\" r=\"14.4\" fill=\"#009af9\" fill-rule=\"evenodd\" fill-opacity=\"1\" stroke=\"#000000\" stroke-opacity=\"1\" stroke-width=\"3.2\"/>\n",
       "<circle clip-path=\"url(#clip072)\" cx=\"1754.76\" cy=\"744.412\" r=\"14.4\" fill=\"#009af9\" fill-rule=\"evenodd\" fill-opacity=\"1\" stroke=\"#000000\" stroke-opacity=\"1\" stroke-width=\"3.2\"/>\n",
       "<circle clip-path=\"url(#clip072)\" cx=\"449.564\" cy=\"665.791\" r=\"14.4\" fill=\"#009af9\" fill-rule=\"evenodd\" fill-opacity=\"1\" stroke=\"#000000\" stroke-opacity=\"1\" stroke-width=\"3.2\"/>\n",
       "<circle clip-path=\"url(#clip072)\" cx=\"744.551\" cy=\"558.489\" r=\"14.4\" fill=\"#009af9\" fill-rule=\"evenodd\" fill-opacity=\"1\" stroke=\"#000000\" stroke-opacity=\"1\" stroke-width=\"3.2\"/>\n",
       "<circle clip-path=\"url(#clip072)\" cx=\"1869.58\" cy=\"597.931\" r=\"14.4\" fill=\"#009af9\" fill-rule=\"evenodd\" fill-opacity=\"1\" stroke=\"#000000\" stroke-opacity=\"1\" stroke-width=\"3.2\"/>\n",
       "<circle clip-path=\"url(#clip072)\" cx=\"1357.28\" cy=\"1002.98\" r=\"14.4\" fill=\"#009af9\" fill-rule=\"evenodd\" fill-opacity=\"1\" stroke=\"#000000\" stroke-opacity=\"1\" stroke-width=\"3.2\"/>\n",
       "<circle clip-path=\"url(#clip072)\" cx=\"1414.43\" cy=\"916.785\" r=\"14.4\" fill=\"#009af9\" fill-rule=\"evenodd\" fill-opacity=\"1\" stroke=\"#000000\" stroke-opacity=\"1\" stroke-width=\"3.2\"/>\n",
       "<circle clip-path=\"url(#clip072)\" cx=\"1392.97\" cy=\"1140.82\" r=\"14.4\" fill=\"#009af9\" fill-rule=\"evenodd\" fill-opacity=\"1\" stroke=\"#000000\" stroke-opacity=\"1\" stroke-width=\"3.2\"/>\n",
       "<circle clip-path=\"url(#clip072)\" cx=\"539.467\" cy=\"371.563\" r=\"14.4\" fill=\"#009af9\" fill-rule=\"evenodd\" fill-opacity=\"1\" stroke=\"#000000\" stroke-opacity=\"1\" stroke-width=\"3.2\"/>\n",
       "<circle clip-path=\"url(#clip072)\" cx=\"1907.06\" cy=\"504.994\" r=\"14.4\" fill=\"#009af9\" fill-rule=\"evenodd\" fill-opacity=\"1\" stroke=\"#000000\" stroke-opacity=\"1\" stroke-width=\"3.2\"/>\n",
       "<circle clip-path=\"url(#clip072)\" cx=\"1703.84\" cy=\"819.703\" r=\"14.4\" fill=\"#009af9\" fill-rule=\"evenodd\" fill-opacity=\"1\" stroke=\"#000000\" stroke-opacity=\"1\" stroke-width=\"3.2\"/>\n",
       "<circle clip-path=\"url(#clip072)\" cx=\"1706.25\" cy=\"1061.8\" r=\"14.4\" fill=\"#009af9\" fill-rule=\"evenodd\" fill-opacity=\"1\" stroke=\"#000000\" stroke-opacity=\"1\" stroke-width=\"3.2\"/>\n",
       "<circle clip-path=\"url(#clip072)\" cx=\"529.259\" cy=\"688.95\" r=\"14.4\" fill=\"#009af9\" fill-rule=\"evenodd\" fill-opacity=\"1\" stroke=\"#000000\" stroke-opacity=\"1\" stroke-width=\"3.2\"/>\n",
       "<circle clip-path=\"url(#clip072)\" cx=\"1984.52\" cy=\"444.444\" r=\"14.4\" fill=\"#009af9\" fill-rule=\"evenodd\" fill-opacity=\"1\" stroke=\"#000000\" stroke-opacity=\"1\" stroke-width=\"3.2\"/>\n",
       "<circle clip-path=\"url(#clip072)\" cx=\"878.049\" cy=\"515.07\" r=\"14.4\" fill=\"#009af9\" fill-rule=\"evenodd\" fill-opacity=\"1\" stroke=\"#000000\" stroke-opacity=\"1\" stroke-width=\"3.2\"/>\n",
       "<circle clip-path=\"url(#clip072)\" cx=\"1982.59\" cy=\"367.703\" r=\"14.4\" fill=\"#009af9\" fill-rule=\"evenodd\" fill-opacity=\"1\" stroke=\"#000000\" stroke-opacity=\"1\" stroke-width=\"3.2\"/>\n",
       "<circle clip-path=\"url(#clip072)\" cx=\"2063.77\" cy=\"650.552\" r=\"14.4\" fill=\"#009af9\" fill-rule=\"evenodd\" fill-opacity=\"1\" stroke=\"#000000\" stroke-opacity=\"1\" stroke-width=\"3.2\"/>\n",
       "<circle clip-path=\"url(#clip072)\" cx=\"1526.09\" cy=\"975.655\" r=\"14.4\" fill=\"#009af9\" fill-rule=\"evenodd\" fill-opacity=\"1\" stroke=\"#000000\" stroke-opacity=\"1\" stroke-width=\"3.2\"/>\n",
       "<circle clip-path=\"url(#clip072)\" cx=\"2024.82\" cy=\"399.992\" r=\"14.4\" fill=\"#009af9\" fill-rule=\"evenodd\" fill-opacity=\"1\" stroke=\"#000000\" stroke-opacity=\"1\" stroke-width=\"3.2\"/>\n",
       "<circle clip-path=\"url(#clip072)\" cx=\"1818.11\" cy=\"709.872\" r=\"14.4\" fill=\"#009af9\" fill-rule=\"evenodd\" fill-opacity=\"1\" stroke=\"#000000\" stroke-opacity=\"1\" stroke-width=\"3.2\"/>\n",
       "<circle clip-path=\"url(#clip072)\" cx=\"878.966\" cy=\"693.133\" r=\"14.4\" fill=\"#009af9\" fill-rule=\"evenodd\" fill-opacity=\"1\" stroke=\"#000000\" stroke-opacity=\"1\" stroke-width=\"3.2\"/>\n",
       "<circle clip-path=\"url(#clip072)\" cx=\"1070.03\" cy=\"740.784\" r=\"14.4\" fill=\"#009af9\" fill-rule=\"evenodd\" fill-opacity=\"1\" stroke=\"#000000\" stroke-opacity=\"1\" stroke-width=\"3.2\"/>\n",
       "<circle clip-path=\"url(#clip072)\" cx=\"1622.89\" cy=\"990.225\" r=\"14.4\" fill=\"#009af9\" fill-rule=\"evenodd\" fill-opacity=\"1\" stroke=\"#000000\" stroke-opacity=\"1\" stroke-width=\"3.2\"/>\n",
       "<circle clip-path=\"url(#clip072)\" cx=\"1126.03\" cy=\"720.306\" r=\"14.4\" fill=\"#009af9\" fill-rule=\"evenodd\" fill-opacity=\"1\" stroke=\"#000000\" stroke-opacity=\"1\" stroke-width=\"3.2\"/>\n",
       "<circle clip-path=\"url(#clip072)\" cx=\"849.736\" cy=\"666.494\" r=\"14.4\" fill=\"#009af9\" fill-rule=\"evenodd\" fill-opacity=\"1\" stroke=\"#000000\" stroke-opacity=\"1\" stroke-width=\"3.2\"/>\n",
       "<circle clip-path=\"url(#clip072)\" cx=\"1128.52\" cy=\"917.393\" r=\"14.4\" fill=\"#009af9\" fill-rule=\"evenodd\" fill-opacity=\"1\" stroke=\"#000000\" stroke-opacity=\"1\" stroke-width=\"3.2\"/>\n",
       "<circle clip-path=\"url(#clip072)\" cx=\"1805.78\" cy=\"858.178\" r=\"14.4\" fill=\"#009af9\" fill-rule=\"evenodd\" fill-opacity=\"1\" stroke=\"#000000\" stroke-opacity=\"1\" stroke-width=\"3.2\"/>\n",
       "<circle clip-path=\"url(#clip072)\" cx=\"721.212\" cy=\"441.314\" r=\"14.4\" fill=\"#009af9\" fill-rule=\"evenodd\" fill-opacity=\"1\" stroke=\"#000000\" stroke-opacity=\"1\" stroke-width=\"3.2\"/>\n",
       "<circle clip-path=\"url(#clip072)\" cx=\"825.26\" cy=\"549.497\" r=\"14.4\" fill=\"#009af9\" fill-rule=\"evenodd\" fill-opacity=\"1\" stroke=\"#000000\" stroke-opacity=\"1\" stroke-width=\"3.2\"/>\n",
       "<circle clip-path=\"url(#clip072)\" cx=\"1612\" cy=\"783.001\" r=\"14.4\" fill=\"#009af9\" fill-rule=\"evenodd\" fill-opacity=\"1\" stroke=\"#000000\" stroke-opacity=\"1\" stroke-width=\"3.2\"/>\n",
       "<circle clip-path=\"url(#clip072)\" cx=\"2083.73\" cy=\"497.533\" r=\"14.4\" fill=\"#009af9\" fill-rule=\"evenodd\" fill-opacity=\"1\" stroke=\"#000000\" stroke-opacity=\"1\" stroke-width=\"3.2\"/>\n",
       "<circle clip-path=\"url(#clip072)\" cx=\"1961.55\" cy=\"669.43\" r=\"14.4\" fill=\"#009af9\" fill-rule=\"evenodd\" fill-opacity=\"1\" stroke=\"#000000\" stroke-opacity=\"1\" stroke-width=\"3.2\"/>\n",
       "<circle clip-path=\"url(#clip072)\" cx=\"1021.48\" cy=\"641.932\" r=\"14.4\" fill=\"#009af9\" fill-rule=\"evenodd\" fill-opacity=\"1\" stroke=\"#000000\" stroke-opacity=\"1\" stroke-width=\"3.2\"/>\n",
       "<circle clip-path=\"url(#clip072)\" cx=\"1935.69\" cy=\"707.878\" r=\"14.4\" fill=\"#009af9\" fill-rule=\"evenodd\" fill-opacity=\"1\" stroke=\"#000000\" stroke-opacity=\"1\" stroke-width=\"3.2\"/>\n",
       "<circle clip-path=\"url(#clip072)\" cx=\"606.552\" cy=\"408.357\" r=\"14.4\" fill=\"#009af9\" fill-rule=\"evenodd\" fill-opacity=\"1\" stroke=\"#000000\" stroke-opacity=\"1\" stroke-width=\"3.2\"/>\n",
       "<circle clip-path=\"url(#clip072)\" cx=\"1240.19\" cy=\"830.727\" r=\"14.4\" fill=\"#009af9\" fill-rule=\"evenodd\" fill-opacity=\"1\" stroke=\"#000000\" stroke-opacity=\"1\" stroke-width=\"3.2\"/>\n",
       "<path clip-path=\"url(#clip072)\" d=\"M147.478 1228.6 L192.484 1168.4 L237.489 1122.34 L282.495 1089.43 L327.501 1067.98 L372.506 1056.08 L417.512 1051.92 L462.518 1054.04 L507.523 1061.32 L552.529 1072.89 L597.535 1088.03 L642.54 1106.09 L687.546 1126.56 L732.552 1149.09 L777.557 1173.55 L822.563 1199.8 L867.569 1227.52 L912.574 1255.95 L957.58 1283.94 L1002.59 1310.15 L1047.59 1333.33 L1092.6 1352.68 L1137.6 1367.87 L1182.61 1379.03 L1227.61 1386.5 L1272.62 1390.7 L1317.63 1391.99 L1362.63 1390.59 L1407.64 1386.69 L1452.64 1380.44 L1497.65 1372.02 L1542.65 1361.61 L1587.66 1349.46 L1632.67 1335.78 L1677.67 1320.76 L1722.68 1304.6 L1767.68 1287.46 L1812.69 1269.53 L1857.69 1251.08 L1902.7 1232.44 L1947.7 1214.12 L1992.71 1196.77 L2037.72 1181.25 L2082.72 1168.58 L2127.73 1159.9 L2172.73 1156.41 L2217.74 1159.23 L2262.74 1169.35 L2307.75 1187.46 L2352.76 1213.98 L2352.76 -222.013 L2307.75 -160.778 L2262.74 -107.223 L2217.74 -61.0005 L2172.73 -21.4716 L2127.73 12.2483 L2082.72 41.195 L2037.72 66.4426 L1992.71 88.9946 L1947.7 109.704 L1902.7 129.222 L1857.69 147.99 L1812.69 166.242 L1767.68 184.033 L1722.68 201.28 L1677.67 217.797 L1632.67 233.332 L1587.66 247.601 L1542.65 260.298 L1497.65 271.102 L1452.64 279.67 L1407.64 285.629 L1362.63 288.585 L1317.63 288.164 L1272.62 284.078 L1227.61 276.221 L1182.61 264.739 L1137.6 250.037 L1092.6 232.696 L1047.59 213.311 L1002.59 192.313 L957.58 169.886 L912.574 146.031 L867.569 120.79 L822.563 94.4988 L777.557 67.9213 L732.552 42.1538 L687.546 18.357 L642.54 -2.5406 L597.535 -20.0241 L552.529 -34.0192 L507.523 -44.8259 L462.518 -53.0599 L417.512 -59.6655 L372.506 -65.9964 L327.501 -73.8819 L282.495 -85.5735 L237.489 -103.499 L192.484 -129.857 L147.478 -166.196  Z\" fill=\"#e26f46\" fill-rule=\"evenodd\" fill-opacity=\"0.5\"/>\n",
       "<polyline clip-path=\"url(#clip072)\" style=\"stroke:#e26f46; stroke-linecap:round; stroke-linejoin:round; stroke-width:16; stroke-opacity:1; fill:none\" points=\"147.478,531.202 192.484,519.27 237.489,509.421 282.495,501.926 327.501,497.049 372.506,495.042 417.512,496.129 462.518,500.491 507.523,508.247 552.529,519.438 597.535,534.005 642.54,551.776 687.546,572.457 732.552,595.624 777.557,620.737 822.563,647.152 867.569,674.153 912.574,700.989 957.58,726.914 1002.59,751.23 1047.59,773.322 1092.6,792.688 1137.6,808.955 1182.61,821.883 1227.61,831.361 1272.62,837.391 1317.63,840.076 1362.63,839.589 1407.64,836.161 1452.64,830.057 1497.65,821.559 1542.65,810.956 1587.66,798.531 1632.67,784.555 1677.67,769.281 1722.68,752.941 1767.68,735.747 1812.69,717.888 1857.69,699.534 1902.7,680.831 1947.7,661.91 1992.71,642.884 2037.72,623.849 2082.72,604.889 2127.73,586.075 2172.73,567.467 2217.74,549.115 2262.74,531.063 2307.75,513.343 2352.76,495.985 \"/>\n",
       "<path clip-path=\"url(#clip070)\" d=\"M1925.76 1438.47 L2279.25 1438.47 L2279.25 1282.95 L1925.76 1282.95  Z\" fill=\"#ffffff\" fill-rule=\"evenodd\" fill-opacity=\"1\"/>\n",
       "<polyline clip-path=\"url(#clip070)\" style=\"stroke:#000000; stroke-linecap:round; stroke-linejoin:round; stroke-width:4; stroke-opacity:1; fill:none\" points=\"1925.76,1438.47 2279.25,1438.47 2279.25,1282.95 1925.76,1282.95 1925.76,1438.47 \"/>\n",
       "<circle clip-path=\"url(#clip070)\" cx=\"2023.77\" cy=\"1334.79\" r=\"20.48\" fill=\"#009af9\" fill-rule=\"evenodd\" fill-opacity=\"1\" stroke=\"#000000\" stroke-opacity=\"1\" stroke-width=\"4.55111\"/>\n",
       "<path clip-path=\"url(#clip070)\" d=\"M2135.62 1354.48 Q2133.82 1359.11 2132.11 1360.52 Q2130.39 1361.94 2127.52 1361.94 L2124.12 1361.94 L2124.12 1358.37 L2126.62 1358.37 Q2128.38 1358.37 2129.35 1357.54 Q2130.32 1356.7 2131.5 1353.6 L2132.27 1351.66 L2121.78 1326.15 L2126.3 1326.15 L2134.4 1346.43 L2142.5 1326.15 L2147.01 1326.15 L2135.62 1354.48 Z\" fill=\"#000000\" fill-rule=\"nonzero\" fill-opacity=\"1\" /><path clip-path=\"url(#clip070)\" d=\"M2157.11 1318.79 L2157.11 1326.15 L2165.88 1326.15 L2165.88 1329.46 L2157.11 1329.46 L2157.11 1343.53 Q2157.11 1346.7 2157.96 1347.61 Q2158.84 1348.51 2161.5 1348.51 L2165.88 1348.51 L2165.88 1352.07 L2161.5 1352.07 Q2156.57 1352.07 2154.7 1350.25 Q2152.82 1348.39 2152.82 1343.53 L2152.82 1329.46 L2149.7 1329.46 L2149.7 1326.15 L2152.82 1326.15 L2152.82 1318.79 L2157.11 1318.79 Z\" fill=\"#000000\" fill-rule=\"nonzero\" fill-opacity=\"1\" /><path clip-path=\"url(#clip070)\" d=\"M2186.5 1330.13 Q2185.79 1329.71 2184.93 1329.53 Q2184.1 1329.32 2183.08 1329.32 Q2179.47 1329.32 2177.52 1331.68 Q2175.6 1334.02 2175.6 1338.42 L2175.6 1352.07 L2171.32 1352.07 L2171.32 1326.15 L2175.6 1326.15 L2175.6 1330.18 Q2176.94 1327.82 2179.1 1326.68 Q2181.25 1325.52 2184.33 1325.52 Q2184.77 1325.52 2185.3 1325.59 Q2185.83 1325.64 2186.48 1325.76 L2186.5 1330.13 Z\" fill=\"#000000\" fill-rule=\"nonzero\" fill-opacity=\"1\" /><path clip-path=\"url(#clip070)\" d=\"M2202.75 1339.04 Q2197.59 1339.04 2195.6 1340.22 Q2193.61 1341.4 2193.61 1344.25 Q2193.61 1346.52 2195.09 1347.86 Q2196.6 1349.18 2199.17 1349.18 Q2202.71 1349.18 2204.84 1346.68 Q2206.99 1344.16 2206.99 1339.99 L2206.99 1339.04 L2202.75 1339.04 M2211.25 1337.28 L2211.25 1352.07 L2206.99 1352.07 L2206.99 1348.14 Q2205.53 1350.5 2203.35 1351.63 Q2201.18 1352.75 2198.03 1352.75 Q2194.05 1352.75 2191.69 1350.52 Q2189.35 1348.28 2189.35 1344.53 Q2189.35 1340.15 2192.27 1337.93 Q2195.21 1335.71 2201.02 1335.71 L2206.99 1335.71 L2206.99 1335.29 Q2206.99 1332.35 2205.04 1330.76 Q2203.12 1329.13 2199.63 1329.13 Q2197.41 1329.13 2195.3 1329.67 Q2193.19 1330.2 2191.25 1331.26 L2191.25 1327.33 Q2193.59 1326.43 2195.79 1325.99 Q2197.98 1325.52 2200.07 1325.52 Q2205.69 1325.52 2208.47 1328.44 Q2211.25 1331.36 2211.25 1337.28 Z\" fill=\"#000000\" fill-rule=\"nonzero\" fill-opacity=\"1\" /><path clip-path=\"url(#clip070)\" d=\"M2220.02 1326.15 L2224.28 1326.15 L2224.28 1352.07 L2220.02 1352.07 L2220.02 1326.15 M2220.02 1316.06 L2224.28 1316.06 L2224.28 1321.45 L2220.02 1321.45 L2220.02 1316.06 Z\" fill=\"#000000\" fill-rule=\"nonzero\" fill-opacity=\"1\" /><path clip-path=\"url(#clip070)\" d=\"M2254.74 1336.43 L2254.74 1352.07 L2250.48 1352.07 L2250.48 1336.57 Q2250.48 1332.88 2249.05 1331.06 Q2247.61 1329.23 2244.74 1329.23 Q2241.29 1329.23 2239.3 1331.43 Q2237.31 1333.63 2237.31 1337.42 L2237.31 1352.07 L2233.03 1352.07 L2233.03 1326.15 L2237.31 1326.15 L2237.31 1330.18 Q2238.84 1327.84 2240.9 1326.68 Q2242.98 1325.52 2245.69 1325.52 Q2250.16 1325.52 2252.45 1328.3 Q2254.74 1331.06 2254.74 1336.43 Z\" fill=\"#000000\" fill-rule=\"nonzero\" fill-opacity=\"1\" /><polyline clip-path=\"url(#clip070)\" style=\"stroke:#e26f46; stroke-linecap:round; stroke-linejoin:round; stroke-width:16; stroke-opacity:1; fill:none\" points=\"1950.26,1386.63 2097.28,1386.63 \"/>\n",
       "<path clip-path=\"url(#clip070)\" d=\"M2135.62 1406.32 Q2133.82 1410.95 2132.11 1412.36 Q2130.39 1413.78 2127.52 1413.78 L2124.12 1413.78 L2124.12 1410.21 L2126.62 1410.21 Q2128.38 1410.21 2129.35 1409.38 Q2130.32 1408.54 2131.5 1405.44 L2132.27 1403.5 L2121.78 1377.99 L2126.3 1377.99 L2134.4 1398.27 L2142.5 1377.99 L2147.01 1377.99 L2135.62 1406.32 Z\" fill=\"#000000\" fill-rule=\"nonzero\" fill-opacity=\"1\" /><path clip-path=\"url(#clip070)\" d=\"M2174.44 1388.27 L2174.44 1403.91 L2170.18 1403.91 L2170.18 1388.41 Q2170.18 1384.72 2168.75 1382.9 Q2167.31 1381.07 2164.44 1381.07 Q2160.99 1381.07 2159 1383.27 Q2157.01 1385.47 2157.01 1389.26 L2157.01 1403.91 L2152.73 1403.91 L2152.73 1367.9 L2157.01 1367.9 L2157.01 1382.02 Q2158.54 1379.68 2160.6 1378.52 Q2162.68 1377.36 2165.39 1377.36 Q2169.86 1377.36 2172.15 1380.14 Q2174.44 1382.9 2174.44 1388.27 Z\" fill=\"#000000\" fill-rule=\"nonzero\" fill-opacity=\"1\" /><path clip-path=\"url(#clip070)\" d=\"M2194.72 1390.88 Q2189.56 1390.88 2187.57 1392.06 Q2185.58 1393.24 2185.58 1396.09 Q2185.58 1398.36 2187.06 1399.7 Q2188.56 1401.02 2191.13 1401.02 Q2194.67 1401.02 2196.8 1398.52 Q2198.96 1396 2198.96 1391.83 L2198.96 1390.88 L2194.72 1390.88 M2203.22 1389.12 L2203.22 1403.91 L2198.96 1403.91 L2198.96 1399.98 Q2197.5 1402.34 2195.32 1403.47 Q2193.15 1404.59 2190 1404.59 Q2186.02 1404.59 2183.66 1402.36 Q2181.32 1400.12 2181.32 1396.37 Q2181.32 1391.99 2184.23 1389.77 Q2187.17 1387.55 2192.98 1387.55 L2198.96 1387.55 L2198.96 1387.13 Q2198.96 1384.19 2197.01 1382.6 Q2195.09 1380.97 2191.6 1380.97 Q2189.37 1380.97 2187.27 1381.51 Q2185.16 1382.04 2183.22 1383.1 L2183.22 1379.17 Q2185.55 1378.27 2187.75 1377.83 Q2189.95 1377.36 2192.04 1377.36 Q2197.66 1377.36 2200.44 1380.28 Q2203.22 1383.2 2203.22 1389.12 Z\" fill=\"#000000\" fill-rule=\"nonzero\" fill-opacity=\"1\" /><path clip-path=\"url(#clip070)\" d=\"M2216.2 1370.63 L2216.2 1377.99 L2224.98 1377.99 L2224.98 1381.3 L2216.2 1381.3 L2216.2 1395.37 Q2216.2 1398.54 2217.06 1399.45 Q2217.94 1400.35 2220.6 1400.35 L2224.98 1400.35 L2224.98 1403.91 L2220.6 1403.91 Q2215.67 1403.91 2213.79 1402.09 Q2211.92 1400.23 2211.92 1395.37 L2211.92 1381.3 L2208.79 1381.3 L2208.79 1377.99 L2211.92 1377.99 L2211.92 1370.63 L2216.2 1370.63 Z\" fill=\"#000000\" fill-rule=\"nonzero\" fill-opacity=\"1\" /></svg>\n"
      ]
     },
     "execution_count": 82,
     "metadata": {},
     "output_type": "execute_result"
    }
   ],
   "source": [
    "la_b = Laplace(nn; likelihood=likelihood, λ=λ, subset_of_weights=:all)\n",
    "fit!(la_b, dataloader_128)\n",
    "plot(la_b, X, y)"
   ]
  },
  {
   "cell_type": "code",
   "execution_count": 77,
   "id": "a383df86-8d1e-4f51-97aa-29d2d653ed15",
   "metadata": {
    "tags": []
   },
   "outputs": [
    {
     "data": {
      "text/plain": [
       "true"
      ]
     },
     "execution_count": 77,
     "metadata": {},
     "output_type": "execute_result"
    }
   ],
   "source": [
    "isapprox(la_b.H, la.H, atol=.005)"
   ]
  },
  {
   "cell_type": "code",
   "execution_count": null,
   "id": "92b3ee16-ee78-44be-9407-c369c26f3b70",
   "metadata": {},
   "outputs": [],
   "source": []
  }
 ],
 "metadata": {
  "kernelspec": {
   "display_name": "Julia 1.9.0",
   "language": "julia",
   "name": "julia-1.9"
  },
  "language_info": {
   "file_extension": ".jl",
   "mimetype": "application/julia",
   "name": "julia",
   "version": "1.9.0"
  }
 },
 "nbformat": 4,
 "nbformat_minor": 5
}
