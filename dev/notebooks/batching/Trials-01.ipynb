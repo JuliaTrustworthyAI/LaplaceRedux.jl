{
 "cells": [
  {
   "cell_type": "markdown",
   "id": "782c431a-e579-49e8-b2ba-3bf6ef351778",
   "metadata": {},
   "source": [
    "## Zygote self-autodifferentiability"
   ]
  },
  {
   "cell_type": "code",
   "execution_count": 1,
   "id": "4e24e83a-de46-464a-856b-d2c972da3a56",
   "metadata": {
    "tags": []
   },
   "outputs": [],
   "source": [
    "using Zygote"
   ]
  },
  {
   "cell_type": "code",
   "execution_count": 53,
   "id": "28e3aa65-dd2a-4e5e-93a9-a384e24507f4",
   "metadata": {
    "tags": []
   },
   "outputs": [
    {
     "data": {
      "text/plain": [
       "fj (generic function with 1 method)"
      ]
     },
     "execution_count": 53,
     "metadata": {},
     "output_type": "execute_result"
    }
   ],
   "source": [
    "function fj(x, bias)\n",
    "    jacc = Zygote.jacobian(x->x.^2, x)\n",
    "    jac = jacc[1]\n",
    "    # @info jacc\n",
    "    @info \"jac\" jac\n",
    "    return jac * x .+ bias\n",
    "end"
   ]
  },
  {
   "cell_type": "code",
   "execution_count": 52,
   "id": "43c5126f-9b56-4f60-84d7-e2fcf069ccca",
   "metadata": {
    "tags": []
   },
   "outputs": [
    {
     "data": {
      "text/plain": [
       "fg (generic function with 1 method)"
      ]
     },
     "execution_count": 52,
     "metadata": {},
     "output_type": "execute_result"
    }
   ],
   "source": [
    "function fg(x, bias)\n",
    "    grad = Zygote.gradient(x->sum(x.^2), x)[1]\n",
    "    @info \"grad\" grad\n",
    "    return grad .* x .+ bias\n",
    "end"
   ]
  },
  {
   "cell_type": "code",
   "execution_count": 54,
   "id": "42d54201-f1a8-4e6c-9ccb-3fadcebe8b94",
   "metadata": {
    "tags": []
   },
   "outputs": [
    {
     "name": "stderr",
     "output_type": "stream",
     "text": [
      "\u001b[36m\u001b[1m┌ \u001b[22m\u001b[39m\u001b[36m\u001b[1mInfo: \u001b[22m\u001b[39mjac\n",
      "\u001b[36m\u001b[1m│ \u001b[22m\u001b[39m  jac =\n",
      "\u001b[36m\u001b[1m│ \u001b[22m\u001b[39m   3×3 Matrix{Float64}:\n",
      "\u001b[36m\u001b[1m│ \u001b[22m\u001b[39m    2.0  0.0  0.0\n",
      "\u001b[36m\u001b[1m│ \u001b[22m\u001b[39m    0.0  4.0  0.0\n",
      "\u001b[36m\u001b[1m└ \u001b[22m\u001b[39m    0.0  0.0  6.0\n"
     ]
    },
    {
     "data": {
      "text/plain": [
       "3-element Vector{Float64}:\n",
       "  2.0\n",
       "  8.0\n",
       " 18.0"
      ]
     },
     "execution_count": 54,
     "metadata": {},
     "output_type": "execute_result"
    }
   ],
   "source": [
    "x = [1., 2., 3.]\n",
    "b = [0., 0., 0.]"
   ]
  },
  {
   "cell_type": "code",
   "execution_count": 99,
   "id": "c1811905-dd3a-431b-b4fa-8dae1281e91a",
   "metadata": {
    "tags": []
   },
   "outputs": [
    {
     "data": {
      "text/plain": [
       "altjacobian (generic function with 2 methods)"
      ]
     },
     "execution_count": 99,
     "metadata": {},
     "output_type": "execute_result"
    }
   ],
   "source": [
    "function altjacobian(f, arg, outdim)\n",
    "   (reduce(vcat, map(outidx -> gradient(x -> f(x)[outidx], arg)[1]', range(1, outdim))), ) \n",
    "end"
   ]
  },
  {
   "cell_type": "code",
   "execution_count": null,
   "id": "76a06687-ebfe-4e84-b3a9-71525e4bd881",
   "metadata": {},
   "outputs": [],
   "source": [
    "for i in range(1,3)\n",
    "    @info Zygote.gradient()\n",
    "end"
   ]
  },
  {
   "cell_type": "code",
   "execution_count": 85,
   "id": "41a4b67f-0093-4689-9c01-c616314794d4",
   "metadata": {
    "tags": []
   },
   "outputs": [
    {
     "data": {
      "text/plain": [
       "f (generic function with 2 methods)"
      ]
     },
     "execution_count": 85,
     "metadata": {},
     "output_type": "execute_result"
    }
   ],
   "source": [
    "function f(x)\n",
    "    @info \"f run\"\n",
    "    [x[1]^2, x[2] + x[3]]\n",
    "end"
   ]
  },
  {
   "cell_type": "code",
   "execution_count": 68,
   "id": "1df9f9b9-82f9-4547-9f74-a3753a9084f4",
   "metadata": {
    "tags": []
   },
   "outputs": [
    {
     "data": {
      "text/plain": [
       "2-element Vector{Int64}:\n",
       " 4\n",
       " 7"
      ]
     },
     "execution_count": 68,
     "metadata": {},
     "output_type": "execute_result"
    }
   ],
   "source": [
    "f([2,3,4])"
   ]
  },
  {
   "cell_type": "code",
   "execution_count": 105,
   "id": "8085f84e-5065-4633-8ef8-fcf442602700",
   "metadata": {
    "tags": []
   },
   "outputs": [
    {
     "name": "stderr",
     "output_type": "stream",
     "text": [
      "\u001b[36m\u001b[1m[ \u001b[22m\u001b[39m\u001b[36m\u001b[1mInfo: \u001b[22m\u001b[39mf run\n"
     ]
    },
    {
     "data": {
      "text/plain": [
       "([4.0 0.0 0.0; 0.0 1.0 1.0],)"
      ]
     },
     "execution_count": 105,
     "metadata": {},
     "output_type": "execute_result"
    }
   ],
   "source": [
    "jacobian(f, [2.,3.,4.])"
   ]
  },
  {
   "cell_type": "code",
   "execution_count": 104,
   "id": "77ce19c9-83d6-4d4c-b6f1-cccd4f392f3c",
   "metadata": {
    "tags": []
   },
   "outputs": [
    {
     "name": "stderr",
     "output_type": "stream",
     "text": [
      "\u001b[36m\u001b[1m[ \u001b[22m\u001b[39m\u001b[36m\u001b[1mInfo: \u001b[22m\u001b[39mf run\n",
      "\u001b[36m\u001b[1m[ \u001b[22m\u001b[39m\u001b[36m\u001b[1mInfo: \u001b[22m\u001b[39mf run\n"
     ]
    },
    {
     "data": {
      "text/plain": [
       "([4.0 0.0 0.0; 0.0 1.0 1.0],)"
      ]
     },
     "execution_count": 104,
     "metadata": {},
     "output_type": "execute_result"
    }
   ],
   "source": [
    "altjacobian(f, [2.,3.,4.], 2)"
   ]
  },
  {
   "cell_type": "code",
   "execution_count": 87,
   "id": "cfccc454-5732-4560-8f49-374240986272",
   "metadata": {
    "tags": []
   },
   "outputs": [
    {
     "name": "stderr",
     "output_type": "stream",
     "text": [
      "\u001b[36m\u001b[1m[ \u001b[22m\u001b[39m\u001b[36m\u001b[1mInfo: \u001b[22m\u001b[39mf run\n"
     ]
    },
    {
     "data": {
      "text/plain": [
       "3-element Vector{Float64}:\n",
       " 4.0\n",
       " 0.0\n",
       " 0.0"
      ]
     },
     "execution_count": 87,
     "metadata": {},
     "output_type": "execute_result"
    }
   ],
   "source": [
    "g = gradient(x -> f(x)[1], [2,3,4])[1]"
   ]
  },
  {
   "cell_type": "code",
   "execution_count": 88,
   "id": "f1788ebe-34c8-4a3e-8ece-13436d03c892",
   "metadata": {
    "tags": []
   },
   "outputs": [
    {
     "name": "stderr",
     "output_type": "stream",
     "text": [
      "\u001b[36m\u001b[1m[ \u001b[22m\u001b[39m\u001b[36m\u001b[1mInfo: \u001b[22m\u001b[39mf run\n",
      "\u001b[36m\u001b[1m[ \u001b[22m\u001b[39m\u001b[36m\u001b[1mInfo: \u001b[22m\u001b[39mf run\n"
     ]
    },
    {
     "data": {
      "text/plain": [
       "2×3 Matrix{Float64}:\n",
       " 4.0  0.0  0.0\n",
       " 0.0  1.0  1.0"
      ]
     },
     "execution_count": 88,
     "metadata": {},
     "output_type": "execute_result"
    }
   ],
   "source": [
    "arg = [2,3,4]\n"
   ]
  },
  {
   "cell_type": "code",
   "execution_count": 96,
   "id": "8041aefc-5724-4b8a-8cdf-53c4a425f7d7",
   "metadata": {
    "tags": []
   },
   "outputs": [
    {
     "data": {
      "text/plain": [
       "2×2 Matrix{Int64}:\n",
       " 1  3\n",
       " 2  4"
      ]
     },
     "execution_count": 96,
     "metadata": {},
     "output_type": "execute_result"
    }
   ],
   "source": [
    "xx = reduce(hcat, [[1, 2], [3, 4]])"
   ]
  },
  {
   "cell_type": "code",
   "execution_count": 98,
   "id": "be8e30c6-8ec7-49a4-a96d-55f46738fca6",
   "metadata": {
    "tags": []
   },
   "outputs": [
    {
     "data": {
      "text/plain": [
       "4-element Vector{Int64}:\n",
       " 0\n",
       " 0\n",
       " 0\n",
       " 0"
      ]
     },
     "execution_count": 98,
     "metadata": {},
     "output_type": "execute_result"
    }
   ],
   "source": [
    "jacobian(x -> xx, 0)[1]"
   ]
  },
  {
   "cell_type": "code",
   "execution_count": 63,
   "id": "cf27e339-5ddb-4c91-928c-33a5cd4f2e62",
   "metadata": {
    "tags": []
   },
   "outputs": [
    {
     "data": {
      "text/plain": [
       "(1,)"
      ]
     },
     "execution_count": 63,
     "metadata": {},
     "output_type": "execute_result"
    }
   ],
   "source": [
    "altjacobian(1,1)"
   ]
  },
  {
   "cell_type": "code",
   "execution_count": null,
   "id": "3d601630-08cc-40b4-a863-c7838d323443",
   "metadata": {},
   "outputs": [],
   "source": [
    "fj(x, b)"
   ]
  },
  {
   "cell_type": "code",
   "execution_count": 55,
   "id": "e1eb1b35-e854-44dc-bf58-468198233c60",
   "metadata": {
    "tags": []
   },
   "outputs": [
    {
     "name": "stderr",
     "output_type": "stream",
     "text": [
      "\u001b[36m\u001b[1m┌ \u001b[22m\u001b[39m\u001b[36m\u001b[1mInfo: \u001b[22m\u001b[39mgrad\n",
      "\u001b[36m\u001b[1m│ \u001b[22m\u001b[39m  grad =\n",
      "\u001b[36m\u001b[1m│ \u001b[22m\u001b[39m   3-element Vector{Float64}:\n",
      "\u001b[36m\u001b[1m│ \u001b[22m\u001b[39m    2.0\n",
      "\u001b[36m\u001b[1m│ \u001b[22m\u001b[39m    4.0\n",
      "\u001b[36m\u001b[1m└ \u001b[22m\u001b[39m    6.0\n"
     ]
    },
    {
     "data": {
      "text/plain": [
       "3-element Vector{Float64}:\n",
       "  2.0\n",
       "  8.0\n",
       " 18.0"
      ]
     },
     "execution_count": 55,
     "metadata": {},
     "output_type": "execute_result"
    }
   ],
   "source": [
    "fg(x, [0, 0, 0])"
   ]
  },
  {
   "cell_type": "code",
   "execution_count": 56,
   "id": "f6de832b-8982-4d51-a812-1b950c75fac8",
   "metadata": {
    "tags": []
   },
   "outputs": [
    {
     "name": "stderr",
     "output_type": "stream",
     "text": [
      "\u001b[36m\u001b[1m[ \u001b[22m\u001b[39m\u001b[36m\u001b[1mInfo: \u001b[22m\u001b[39m([2.0 0.0 0.0; 0.0 4.0 0.0; 0.0 0.0 6.0],)\n",
      "\u001b[36m\u001b[1m[ \u001b[22m\u001b[39m\u001b[36m\u001b[1mInfo: \u001b[22m\u001b[39m[2.0 0.0 0.0; 0.0 4.0 0.0; 0.0 0.0 6.0]\n"
     ]
    },
    {
     "ename": "LoadError",
     "evalue": "Mutating arrays is not supported -- called copyto!(SubArray{Float64, 1, Matrix{Float64}, Tuple{Int64, Base.Slice{Base.OneTo{Int64}}}, true}, ...)\nThis error occurs when you ask Zygote to differentiate operations that change\nthe elements of arrays in place (e.g. setting values with x .= ...)\n\nPossible fixes:\n- avoid mutating operations (preferred)\n- or read the documentation and solutions for this error\n  https://fluxml.ai/Zygote.jl/latest/limitations\n",
     "output_type": "error",
     "traceback": [
      "Mutating arrays is not supported -- called copyto!(SubArray{Float64, 1, Matrix{Float64}, Tuple{Int64, Base.Slice{Base.OneTo{Int64}}}, true}, ...)\nThis error occurs when you ask Zygote to differentiate operations that change\nthe elements of arrays in place (e.g. setting values with x .= ...)\n\nPossible fixes:\n- avoid mutating operations (preferred)\n- or read the documentation and solutions for this error\n  https://fluxml.ai/Zygote.jl/latest/limitations\n",
      "",
      "Stacktrace:",
      "  [1] error(s::String)",
      "    @ Base ./error.jl:35",
      "  [2] _throw_mutation_error(f::Function, args::SubArray{Float64, 1, Matrix{Float64}, Tuple{Int64, Base.Slice{Base.OneTo{Int64}}}, true})",
      "    @ Zygote ~/.julia/packages/Zygote/HTsWj/src/lib/array.jl:88",
      "  [3] (::Zygote.var\"#555#556\"{SubArray{Float64, 1, Matrix{Float64}, Tuple{Int64, Base.Slice{Base.OneTo{Int64}}}, true}})(#unused#::Nothing)",
      "    @ Zygote ~/.julia/packages/Zygote/HTsWj/src/lib/array.jl:103",
      "  [4] (::Zygote.var\"#2653#back#557\"{Zygote.var\"#555#556\"{SubArray{Float64, 1, Matrix{Float64}, Tuple{Int64, Base.Slice{Base.OneTo{Int64}}}, true}}})(Δ::Nothing)",
      "    @ Zygote ~/.julia/packages/ZygoteRules/OgCVT/src/adjoint.jl:71",
      "  [5] Pullback",
      "    @ ~/.julia/packages/Zygote/HTsWj/src/lib/grad.jl:171 [inlined]",
      "  [6] (::Zygote.Pullback{Tuple{typeof(Zygote._gradcopy!), SubArray{Float64, 1, Matrix{Float64}, Tuple{Int64, Base.Slice{Base.OneTo{Int64}}}, true}, Vector{Float64}}, Tuple{Zygote.var\"#2653#back#557\"{Zygote.var\"#555#556\"{SubArray{Float64, 1, Matrix{Float64}, Tuple{Int64, Base.Slice{Base.OneTo{Int64}}}, true}}}}})(Δ::Nothing)",
      "    @ Zygote ~/.julia/packages/Zygote/HTsWj/src/compiler/interface2.jl:0",
      "  [7] Pullback",
      "    @ ~/.julia/packages/Zygote/HTsWj/src/lib/grad.jl:153 [inlined]",
      "  [8] (::Zygote.Pullback{Tuple{typeof(withjacobian), var\"#9#10\", Vector{Float64}}, Any})(Δ::NamedTuple{(:val, :grad), Tuple{Nothing, Tuple{Matrix{Float64}}}})",
      "    @ Zygote ~/.julia/packages/Zygote/HTsWj/src/compiler/interface2.jl:0",
      "  [9] #287",
      "    @ ~/.julia/packages/Zygote/HTsWj/src/lib/lib.jl:206 [inlined]",
      " [10] #2157#back",
      "    @ ~/.julia/packages/ZygoteRules/OgCVT/src/adjoint.jl:71 [inlined]",
      " [11] Pullback",
      "    @ ~/.julia/packages/Zygote/HTsWj/src/lib/grad.jl:128 [inlined]",
      " [12] (::Zygote.Pullback{Tuple{typeof(jacobian), var\"#9#10\", Vector{Float64}}, Tuple{Zygote.var\"#2001#back#200\"{typeof(identity)}, Zygote.var\"#2157#back#289\"{Zygote.var\"#287#288\"{Tuple{Tuple{Nothing}, Tuple{Nothing}}, Zygote.Pullback{Tuple{typeof(withjacobian), var\"#9#10\", Vector{Float64}}, Any}}}, Zygote.var\"#2168#back#299\"{Zygote.var\"#back#298\"{:grad, Zygote.Context{false}, NamedTuple{(:val, :grad), Tuple{Vector{Float64}, Tuple{Matrix{Float64}}}}, Tuple{Matrix{Float64}}}}}})(Δ::Tuple{Matrix{Float64}})",
      "    @ Zygote ~/.julia/packages/Zygote/HTsWj/src/compiler/interface2.jl:0",
      " [13] Pullback",
      "    @ ./In[10]:2 [inlined]",
      " [14] (::Zygote.Pullback{Tuple{typeof(f), Vector{Float64}, Vector{Float64}}, Any})(Δ::FillArrays.Fill{Float64, 1, Tuple{Base.OneTo{Int64}}})",
      "    @ Zygote ~/.julia/packages/Zygote/HTsWj/src/compiler/interface2.jl:0",
      " [15] Pullback",
      "    @ ./In[56]:1 [inlined]",
      " [16] (::Zygote.Pullback{Tuple{var\"#27#28\", Vector{Float64}}, Tuple{Zygote.Pullback{Tuple{typeof(f), Vector{Float64}, Vector{Float64}}, Any}, Zygote.var\"#1974#back#190\"{Zygote.var\"#186#189\"{Zygote.Context{false}, GlobalRef, Vector{Float64}}}, Zygote.var\"#3011#back#778\"{Zygote.var\"#772#776\"{Vector{Float64}}}}})(Δ::Float64)",
      "    @ Zygote ~/.julia/packages/Zygote/HTsWj/src/compiler/interface2.jl:0",
      " [17] (::Zygote.var\"#75#76\"{Zygote.Pullback{Tuple{var\"#27#28\", Vector{Float64}}, Tuple{Zygote.Pullback{Tuple{typeof(f), Vector{Float64}, Vector{Float64}}, Any}, Zygote.var\"#1974#back#190\"{Zygote.var\"#186#189\"{Zygote.Context{false}, GlobalRef, Vector{Float64}}}, Zygote.var\"#3011#back#778\"{Zygote.var\"#772#776\"{Vector{Float64}}}}}})(Δ::Float64)",
      "    @ Zygote ~/.julia/packages/Zygote/HTsWj/src/compiler/interface.jl:45",
      " [18] gradient(f::Function, args::Vector{Float64})",
      "    @ Zygote ~/.julia/packages/Zygote/HTsWj/src/compiler/interface.jl:97",
      " [19] top-level scope",
      "    @ In[56]:1"
     ]
    }
   ],
   "source": [
    "Zygote.gradient(b -> sum(fj(x,b)), rand(3))"
   ]
  },
  {
   "cell_type": "code",
   "execution_count": 57,
   "id": "524b07bb-60d5-4c5d-97fd-608e0abecca8",
   "metadata": {
    "tags": []
   },
   "outputs": [
    {
     "name": "stderr",
     "output_type": "stream",
     "text": [
      "\u001b[36m\u001b[1m┌ \u001b[22m\u001b[39m\u001b[36m\u001b[1mInfo: \u001b[22m\u001b[39mgrad\n",
      "\u001b[36m\u001b[1m│ \u001b[22m\u001b[39m  grad =\n",
      "\u001b[36m\u001b[1m│ \u001b[22m\u001b[39m   3-element Vector{Float64}:\n",
      "\u001b[36m\u001b[1m│ \u001b[22m\u001b[39m    2.0\n",
      "\u001b[36m\u001b[1m│ \u001b[22m\u001b[39m    4.0\n",
      "\u001b[36m\u001b[1m└ \u001b[22m\u001b[39m    6.0\n"
     ]
    },
    {
     "data": {
      "text/plain": [
       "(Fill(1.0, 3),)"
      ]
     },
     "execution_count": 57,
     "metadata": {},
     "output_type": "execute_result"
    }
   ],
   "source": [
    "Zygote.gradient(b -> sum(fg(x,b)), rand(3))"
   ]
  },
  {
   "cell_type": "code",
   "execution_count": 60,
   "id": "43b3ca4b-3c3f-401c-953f-38801167e131",
   "metadata": {
    "tags": []
   },
   "outputs": [
    {
     "name": "stderr",
     "output_type": "stream",
     "text": [
      "\u001b[36m\u001b[1m┌ \u001b[22m\u001b[39m\u001b[36m\u001b[1mInfo: \u001b[22m\u001b[39mgrad\n",
      "\u001b[36m\u001b[1m│ \u001b[22m\u001b[39m  grad =\n",
      "\u001b[36m\u001b[1m│ \u001b[22m\u001b[39m   3-element Vector{Float64}:\n",
      "\u001b[36m\u001b[1m│ \u001b[22m\u001b[39m    0.8113012203912522\n",
      "\u001b[36m\u001b[1m│ \u001b[22m\u001b[39m    0.8916525522283958\n",
      "\u001b[36m\u001b[1m└ \u001b[22m\u001b[39m    0.25571020915909703\n"
     ]
    },
    {
     "data": {
      "text/plain": [
       "([1.6226024407825044, 1.7833051044567916, 0.5114204183181941],)"
      ]
     },
     "execution_count": 60,
     "metadata": {},
     "output_type": "execute_result"
    }
   ],
   "source": [
    "Zygote.gradient(x -> sum(fg(x,b)), rand(3))"
   ]
  },
  {
   "cell_type": "code",
   "execution_count": 61,
   "id": "b7fb2ebb-7106-4169-991e-63e64a06a3c5",
   "metadata": {
    "tags": []
   },
   "outputs": [
    {
     "name": "stderr",
     "output_type": "stream",
     "text": [
      "\u001b[36m\u001b[1m┌ \u001b[22m\u001b[39m\u001b[36m\u001b[1mInfo: \u001b[22m\u001b[39mjac\n",
      "\u001b[36m\u001b[1m│ \u001b[22m\u001b[39m  jac =\n",
      "\u001b[36m\u001b[1m│ \u001b[22m\u001b[39m   3×3 Matrix{Float64}:\n",
      "\u001b[36m\u001b[1m│ \u001b[22m\u001b[39m    1.29859  0.0       0.0\n",
      "\u001b[36m\u001b[1m│ \u001b[22m\u001b[39m    0.0      0.470737  0.0\n",
      "\u001b[36m\u001b[1m└ \u001b[22m\u001b[39m    0.0      0.0       1.56187\n"
     ]
    },
    {
     "ename": "LoadError",
     "evalue": "Mutating arrays is not supported -- called copyto!(SubArray{Float64, 1, Matrix{Float64}, Tuple{Int64, Base.Slice{Base.OneTo{Int64}}}, true}, ...)\nThis error occurs when you ask Zygote to differentiate operations that change\nthe elements of arrays in place (e.g. setting values with x .= ...)\n\nPossible fixes:\n- avoid mutating operations (preferred)\n- or read the documentation and solutions for this error\n  https://fluxml.ai/Zygote.jl/latest/limitations\n",
     "output_type": "error",
     "traceback": [
      "Mutating arrays is not supported -- called copyto!(SubArray{Float64, 1, Matrix{Float64}, Tuple{Int64, Base.Slice{Base.OneTo{Int64}}}, true}, ...)\nThis error occurs when you ask Zygote to differentiate operations that change\nthe elements of arrays in place (e.g. setting values with x .= ...)\n\nPossible fixes:\n- avoid mutating operations (preferred)\n- or read the documentation and solutions for this error\n  https://fluxml.ai/Zygote.jl/latest/limitations\n",
      "",
      "Stacktrace:",
      "  [1] error(s::String)",
      "    @ Base ./error.jl:35",
      "  [2] _throw_mutation_error(f::Function, args::SubArray{Float64, 1, Matrix{Float64}, Tuple{Int64, Base.Slice{Base.OneTo{Int64}}}, true})",
      "    @ Zygote ~/.julia/packages/Zygote/HTsWj/src/lib/array.jl:88",
      "  [3] (::Zygote.var\"#555#556\"{SubArray{Float64, 1, Matrix{Float64}, Tuple{Int64, Base.Slice{Base.OneTo{Int64}}}, true}})(#unused#::Nothing)",
      "    @ Zygote ~/.julia/packages/Zygote/HTsWj/src/lib/array.jl:103",
      "  [4] (::Zygote.var\"#2653#back#557\"{Zygote.var\"#555#556\"{SubArray{Float64, 1, Matrix{Float64}, Tuple{Int64, Base.Slice{Base.OneTo{Int64}}}, true}}})(Δ::Nothing)",
      "    @ Zygote ~/.julia/packages/ZygoteRules/OgCVT/src/adjoint.jl:71",
      "  [5] Pullback",
      "    @ ~/.julia/packages/Zygote/HTsWj/src/lib/grad.jl:171 [inlined]",
      "  [6] (::Zygote.Pullback{Tuple{typeof(Zygote._gradcopy!), SubArray{Float64, 1, Matrix{Float64}, Tuple{Int64, Base.Slice{Base.OneTo{Int64}}}, true}, Vector{Float64}}, Tuple{Zygote.var\"#2653#back#557\"{Zygote.var\"#555#556\"{SubArray{Float64, 1, Matrix{Float64}, Tuple{Int64, Base.Slice{Base.OneTo{Int64}}}, true}}}}})(Δ::Nothing)",
      "    @ Zygote ~/.julia/packages/Zygote/HTsWj/src/compiler/interface2.jl:0",
      "  [7] Pullback",
      "    @ ~/.julia/packages/Zygote/HTsWj/src/lib/grad.jl:153 [inlined]",
      "  [8] (::Zygote.Pullback{Tuple{typeof(withjacobian), var\"#25#26\", Vector{Float64}}, Any})(Δ::NamedTuple{(:val, :grad), Tuple{Nothing, Tuple{Matrix{Float64}}}})",
      "    @ Zygote ~/.julia/packages/Zygote/HTsWj/src/compiler/interface2.jl:0",
      "  [9] #287",
      "    @ ~/.julia/packages/Zygote/HTsWj/src/lib/lib.jl:206 [inlined]",
      " [10] #2157#back",
      "    @ ~/.julia/packages/ZygoteRules/OgCVT/src/adjoint.jl:71 [inlined]",
      " [11] Pullback",
      "    @ ~/.julia/packages/Zygote/HTsWj/src/lib/grad.jl:128 [inlined]",
      " [12] (::Zygote.Pullback{Tuple{typeof(jacobian), var\"#25#26\", Vector{Float64}}, Tuple{Zygote.var\"#2001#back#200\"{typeof(identity)}, Zygote.var\"#2157#back#289\"{Zygote.var\"#287#288\"{Tuple{Tuple{Nothing}, Tuple{Nothing}}, Zygote.Pullback{Tuple{typeof(withjacobian), var\"#25#26\", Vector{Float64}}, Any}}}, Zygote.var\"#2168#back#299\"{Zygote.var\"#back#298\"{:grad, Zygote.Context{false}, NamedTuple{(:val, :grad), Tuple{Vector{Float64}, Tuple{Matrix{Float64}}}}, Tuple{Matrix{Float64}}}}}})(Δ::Tuple{Matrix{Float64}})",
      "    @ Zygote ~/.julia/packages/Zygote/HTsWj/src/compiler/interface2.jl:0",
      " [13] Pullback",
      "    @ ./In[53]:2 [inlined]",
      " [14] (::Zygote.Pullback{Tuple{typeof(fj), Vector{Float64}, Vector{Float64}}, Any})(Δ::FillArrays.Fill{Float64, 1, Tuple{Base.OneTo{Int64}}})",
      "    @ Zygote ~/.julia/packages/Zygote/HTsWj/src/compiler/interface2.jl:0",
      " [15] Pullback",
      "    @ ./In[61]:1 [inlined]",
      " [16] (::Zygote.Pullback{Tuple{var\"#33#34\", Vector{Float64}}, Tuple{Zygote.Pullback{Tuple{typeof(fj), Vector{Float64}, Vector{Float64}}, Any}, Zygote.var\"#1974#back#190\"{Zygote.var\"#186#189\"{Zygote.Context{false}, GlobalRef, Vector{Float64}}}, Zygote.var\"#3011#back#778\"{Zygote.var\"#772#776\"{Vector{Float64}}}}})(Δ::Float64)",
      "    @ Zygote ~/.julia/packages/Zygote/HTsWj/src/compiler/interface2.jl:0",
      " [17] (::Zygote.var\"#75#76\"{Zygote.Pullback{Tuple{var\"#33#34\", Vector{Float64}}, Tuple{Zygote.Pullback{Tuple{typeof(fj), Vector{Float64}, Vector{Float64}}, Any}, Zygote.var\"#1974#back#190\"{Zygote.var\"#186#189\"{Zygote.Context{false}, GlobalRef, Vector{Float64}}}, Zygote.var\"#3011#back#778\"{Zygote.var\"#772#776\"{Vector{Float64}}}}}})(Δ::Float64)",
      "    @ Zygote ~/.julia/packages/Zygote/HTsWj/src/compiler/interface.jl:45",
      " [18] gradient(f::Function, args::Vector{Float64})",
      "    @ Zygote ~/.julia/packages/Zygote/HTsWj/src/compiler/interface.jl:97",
      " [19] top-level scope",
      "    @ In[61]:1"
     ]
    }
   ],
   "source": [
    "Zygote.gradient(x -> sum(fj(x,b)), rand(3))"
   ]
  },
  {
   "cell_type": "markdown",
   "id": "057fdd6c-55f6-4675-b29a-c5540895c859",
   "metadata": {},
   "source": [
    "## Zygote diff-ability wrt array elements"
   ]
  },
  {
   "cell_type": "code",
   "execution_count": 41,
   "id": "4ac3d37b-eff8-419f-afaa-d1a384fbc448",
   "metadata": {
    "tags": []
   },
   "outputs": [
    {
     "data": {
      "text/plain": [
       "Grads(...)"
      ]
     },
     "execution_count": 41,
     "metadata": {},
     "output_type": "execute_result"
    }
   ],
   "source": [
    "x = [1 2 3; 4 5 6]; y = [2, 3]; z = [1, 10, 100];\n",
    "# x .* y .* z'\n",
    "ps = Params([x[2,3]])\n",
    "g = gradient(ps) do\n",
    "    sum(x .* y .* z')\n",
    "end\n",
    "x[2,3]"
   ]
  },
  {
   "cell_type": "code",
   "execution_count": 34,
   "id": "2450ce53-fafc-40ad-b1c6-38d7d3fd4bdb",
   "metadata": {
    "tags": []
   },
   "outputs": [
    {
     "data": {
      "text/plain": [
       "2×3 Matrix{Float64}:\n",
       " 2.0  20.0  200.0\n",
       " 3.0  30.0  300.0"
      ]
     },
     "execution_count": 34,
     "metadata": {},
     "output_type": "execute_result"
    }
   ],
   "source": [
    "g[x]"
   ]
  },
  {
   "cell_type": "code",
   "execution_count": 42,
   "id": "89387019-afae-4493-9097-60c5dfdf943f",
   "metadata": {
    "tags": []
   },
   "outputs": [
    {
     "ename": "LoadError",
     "evalue": "Only reference types can be differentiated with `Params`.",
     "output_type": "error",
     "traceback": [
      "Only reference types can be differentiated with `Params`.",
      "",
      "Stacktrace:",
      " [1] error(s::String)",
      "   @ Base ./error.jl:35",
      " [2] getindex(gs::Zygote.Grads, x::Int64)",
      "   @ Zygote ~/.julia/packages/Zygote/HTsWj/src/compiler/interface.jl:306",
      " [3] top-level scope",
      "   @ In[42]:1"
     ]
    }
   ],
   "source": [
    "g[x[2,3]]"
   ]
  },
  {
   "cell_type": "markdown",
   "id": "4de96d4a-df01-4999-8217-08604aee0edb",
   "metadata": {},
   "source": [
    "## Testing DataLoader with existing code"
   ]
  },
  {
   "cell_type": "code",
   "execution_count": 2,
   "id": "20b636e9-ae4c-462c-a832-a9e70c19c2a1",
   "metadata": {
    "tags": []
   },
   "outputs": [
    {
     "name": "stderr",
     "output_type": "stream",
     "text": [
      "\u001b[32m\u001b[1m  Activating\u001b[22m\u001b[39m project at `~/Builds/navimakarov/LaplaceRedux.jl/dev/notebooks/batching`\n",
      "\u001b[36m\u001b[1m[ \u001b[22m\u001b[39m\u001b[36m\u001b[1mInfo: \u001b[22m\u001b[39mPrecompiling LaplaceRedux [c52c1a26-f7c5-402b-80be-ba1e638ad478]\n"
     ]
    }
   ],
   "source": [
    "using Pkg\n",
    "Pkg.activate(\".\")\n",
    "using LaplaceRedux\n",
    "using LaplaceRedux.Curvature\n",
    "using LaplaceRedux.Data\n",
    "using Flux\n",
    "using Flux.Optimise: update!, Adam\n",
    "using Plots\n",
    "using Statistics\n",
    "using MLUtils\n",
    "using Zygote"
   ]
  },
  {
   "cell_type": "code",
   "execution_count": 14,
   "id": "25990c81-5ddf-4620-aaa6-240704f07584",
   "metadata": {
    "tags": []
   },
   "outputs": [],
   "source": [
    "using Printf"
   ]
  },
  {
   "cell_type": "code",
   "execution_count": 3,
   "id": "98810d45-df41-4189-af33-eceb945983d4",
   "metadata": {
    "tags": []
   },
   "outputs": [
    {
     "data": {
      "text/plain": [
       "Dict{Symbol, Any} with 6 entries:\n",
       "  :loss_fun   => :mse\n",
       "  :y          => [-0.344228, -0.370612, -1.11407, 0.428024, 1.01891, 0.873884, …\n",
       "  :likelihood => :regression\n",
       "  :X          => [2.85613 5.53733 … 3.82445 7.88191]\n",
       "  :outdim     => 1\n",
       "  :data       => ([[2.85613], [5.53733], [4.73424], [0.0317065], [6.99611], [1.…"
      ]
     },
     "execution_count": 3,
     "metadata": {},
     "output_type": "execute_result"
    }
   ],
   "source": [
    "# SETUP\n",
    "n = 100\n",
    "data_dict = Dict()\n",
    "\n",
    "x, y = LaplaceRedux.Data.toy_data_regression(n)\n",
    "xs = [[x] for x in x]\n",
    "X, Y = reduce(hcat, x), reduce(hcat, y)\n",
    "\n",
    "data = DataLoader((X, Y), batchsize=10)\n",
    "data = (xs, y)\n",
    "data_dict[:regression_batched] = Dict(\n",
    "    :data => data,\n",
    "    :X => X,\n",
    "    :y => y,\n",
    "    :outdim => 1,\n",
    "    :loss_fun => :mse,\n",
    "    :likelihood => :regression,\n",
    ")"
   ]
  },
  {
   "cell_type": "code",
   "execution_count": 4,
   "id": "ecf389b9-2bfd-4238-91de-48c125c53a8e",
   "metadata": {
    "tags": []
   },
   "outputs": [
    {
     "data": {
      "text/plain": [
       "1×100 Matrix{Float64}:\n",
       " 2.85613  5.53733  4.73424  0.0317065  …  0.180992  3.50997  3.82445  7.88191"
      ]
     },
     "execution_count": 4,
     "metadata": {},
     "output_type": "execute_result"
    }
   ],
   "source": [
    "X"
   ]
  },
  {
   "cell_type": "code",
   "execution_count": 5,
   "id": "e41fe641-c208-457c-8093-230258356904",
   "metadata": {
    "tags": []
   },
   "outputs": [
    {
     "data": {
      "text/plain": [
       "1×100 Matrix{Float64}:\n",
       " -0.344228  -0.370612  -1.11407  0.428024  …  -0.319035  -0.486046  1.15617"
      ]
     },
     "execution_count": 5,
     "metadata": {},
     "output_type": "execute_result"
    }
   ],
   "source": [
    "Y"
   ]
  },
  {
   "cell_type": "code",
   "execution_count": 6,
   "id": "16f8e4cd-2753-478b-865c-2c9a65ef84f9",
   "metadata": {
    "tags": []
   },
   "outputs": [
    {
     "data": {
      "text/plain": [
       "([[2.856128872283577], [5.537331466810513], [4.734241912459685], [0.031706454326374534], [6.996114951607334], [1.986970160166325], [5.226487900156541], [6.686459400925848], [0.7696094365586825], [2.4956235946892225]  …  [7.843331518852967], [7.80868826001129], [3.6558813812863873], [2.8342965447662083], [1.7265732151723308], [2.0089341703500363], [0.18099236599084723], [3.509967639585949], [3.824445815777045], [7.88191302005383]], [-0.3442284213370052, -0.37061232355719426, -1.1140693420880072, 0.42802381685031493, 1.0189074043673512, 0.8738844385395848, -0.7425932777379045, 0.5659882963879675, 0.7661597365301299, 0.33045324958400596  …  0.8874072339482918, 1.107776540584737, -0.12527467098425588, 0.17993933852086846, 0.6825647337117049, 0.8380037937263951, -0.1063438859820143, -0.3190350202962423, -0.4860458976700808, 1.1561717805666376])"
      ]
     },
     "execution_count": 6,
     "metadata": {},
     "output_type": "execute_result"
    }
   ],
   "source": [
    "data"
   ]
  },
  {
   "cell_type": "code",
   "execution_count": 7,
   "id": "0a9754ea-bdd6-43a8-9809-a9eb84730803",
   "metadata": {
    "tags": []
   },
   "outputs": [
    {
     "data": {
      "text/plain": [
       "1×100 Matrix{Float64}:\n",
       " -0.344228  -0.370612  -1.11407  0.428024  …  -0.319035  -0.486046  1.15617"
      ]
     },
     "execution_count": 7,
     "metadata": {},
     "output_type": "execute_result"
    }
   ],
   "source": [
    "reduce(hcat, y)"
   ]
  },
  {
   "cell_type": "code",
   "execution_count": 18,
   "id": "203e381e-7722-48eb-926e-3c45e533d7b9",
   "metadata": {
    "tags": []
   },
   "outputs": [
    {
     "name": "stdout",
     "output_type": "stream",
     "text": [
      "nn(x) = Float32[-1.5544128]\n",
      "size(nn(x)) = (1,)\n",
      "y = [3.442203160906069]\n",
      "size(y) = (1,)\n"
     ]
    }
   ],
   "source": [
    "for d in data\n",
    "    x, y = d\n",
    "    # # Assert on batching\n",
    "    # @assert size(x)[end] == 10\n",
    "    # @assert size(x)[end] == 10\n",
    "    # @sho\n",
    "    @show nn(x)\n",
    "    @show size(nn(x))\n",
    "    @show y\n",
    "    @show size(y)\n",
    "    break\n",
    "end"
   ]
  },
  {
   "cell_type": "code",
   "execution_count": 20,
   "id": "9fb46886-e222-4f5e-bb86-0cfede404088",
   "metadata": {
    "tags": []
   },
   "outputs": [
    {
     "name": "stdout",
     "output_type": "stream",
     "text": [
      "Epoch 20\n",
      "avg_loss(data) = 0.47958887092330776\n",
      "Epoch 40\n",
      "avg_loss(data) = 0.460304999590861\n",
      "Epoch 60\n",
      "avg_loss(data) = 0.44862867281201035\n",
      "Epoch 80\n",
      "avg_loss(data) = 0.43855325948960605\n",
      "Epoch 100\n",
      "avg_loss(data) = 0.4290016212301053\n",
      "Epoch 120\n",
      "avg_loss(data) = 0.41926886910985195\n",
      "Epoch 140\n",
      "avg_loss(data) = 0.408848600026218\n",
      "Epoch 160\n",
      "avg_loss(data) = 0.39744309134030464\n",
      "Epoch 180\n",
      "avg_loss(data) = 0.3848304815342198\n",
      "Epoch 200\n",
      "avg_loss(data) = 0.37080906916117684\n"
     ]
    }
   ],
   "source": [
    "# Here we have \"zip\" code copied from the laplace.jl tests\n",
    "\n",
    "# Regression:\n",
    "x, y = LaplaceRedux.Data.toy_data_regression(n)\n",
    "xs = [[x] for x in x]\n",
    "X = hcat(xs...)\n",
    "Y = reduce(hcat, y)\n",
    "data = zip(xs, y)\n",
    "data_dict[:regression] = Dict(\n",
    "    :data => data,\n",
    "    :X => X,\n",
    "    :y => y,\n",
    "    :outdim => 1,\n",
    "    :loss_fun => :mse,\n",
    "    :likelihood => :regression,\n",
    ")\n",
    "\n",
    "val = data_dict[:regression]\n",
    "\n",
    "# Unpack:\n",
    "data = val[:data]\n",
    "X = val[:X]\n",
    "y = val[:y]\n",
    "outdim = val[:outdim]\n",
    "loss_fun = val[:loss_fun]\n",
    "likelihood = val[:likelihood]\n",
    "\n",
    "# Neural network:\n",
    "n_hidden = 32\n",
    "D = size(X, 1)\n",
    "nn = Chain(Dense(D, n_hidden, σ), Dense(n_hidden, outdim))\n",
    "λ = 0.01\n",
    "sqnorm(x) = sum(abs2, x)\n",
    "weight_regularization(λ=λ) = 1 / 2 * λ^2 * sum(sqnorm, Flux.params(nn))\n",
    "# loss(x, y) = getfield(Flux.Losses, loss_fun)(nn(x), y) + weight_regularization()\n",
    "# loss(x, y; kwargs...) = getfield(Flux.Losses, loss_fun)(nn(x), y; kwargs...) + weight_regularization()\n",
    "# loss(x, y) = getfield(Flux.Losses, loss_fun)(nn(x), y, agg=sum) + weight_regularization()\n",
    "loss(x, y) = Flux.Losses.mse(nn(x), y, agg=sum) + weight_regularization()\n",
    "\n",
    "opt = Adam()\n",
    "epochs = 200\n",
    "avg_loss(data) = mean(map(d -> loss(d[1], d[2]), data))\n",
    "show_every = epochs / 10\n",
    "\n",
    "for epoch in 1:epochs\n",
    "    for d in data\n",
    "        gs = gradient(Flux.params(nn)) do\n",
    "            l = loss(d...)\n",
    "        end\n",
    "        update!(opt, Flux.params(nn), gs)\n",
    "    end\n",
    "    if epoch % show_every == 0\n",
    "        println(\"Epoch \" * string(epoch))\n",
    "        @show avg_loss(data)\n",
    "    end\n",
    "end\n"
   ]
  },
  {
   "cell_type": "code",
   "execution_count": 21,
   "id": "c2e1477d-e613-434b-9eba-290528d65656",
   "metadata": {
    "tags": []
   },
   "outputs": [
    {
     "name": "stdout",
     "output_type": "stream",
     "text": [
      "d = ([1.5186001837180747], 1.416467373036089)\n",
      "𝐠 = Float32[-0.9289522, -0.8615771, -0.8382, -0.88793516, -0.84210926, -0.9821358, -0.8604416, -0.9554039, -0.9553931, -0.8985097, -1.0504608, -0.8462123, -0.8677115, -0.8496738, -0.8519306, -0.94858015, -0.85304314, -0.8515612, -0.8436406, -0.71268433, -0.8508788, -0.83975476, -0.8623053, -0.836081, -0.85093224, -1.062802, -0.6611468, -0.8943466, -0.9445808, -0.93941104, -0.8526369, -0.83690953, -1.7239571]\n",
      "size(𝐠) = (33,)\n",
      "\n",
      "d = ([1.4801243856810737], 0.9774972249274897)\n",
      "𝐠 = Float32[-0.44384444, -0.4080974, -0.3970624, -0.41717914, -0.39179286, -0.4584994, -0.40756315, -0.44575372, -0.45641667, -0.42218632, -0.4911285, -0.4008473, -0.4146996, -0.39910263, -0.40014133, -0.45317903, -0.4006915, -0.4033772, -0.39961475, -0.34076646, -0.39964852, -0.39442405, -0.40844324, -0.3960434, -0.39967158, -0.49707192, -0.31614763, -0.41662255, -0.4405738, -0.44881868, -0.40047657, -0.38928595, -0.8131273]\n",
      "size(𝐠) = (33,)\n",
      "\n",
      "d = ([4.208273000358545], -1.5428932310435566)\n",
      "𝐠 = Float32[0.38684052, 0.9836641, 0.95122236, 1.7976173, 2.3763316, 2.4168868, 0.9817007, 2.4084039, 0.39164922, 1.8090954, 2.4367065, 0.96175677, 0.37396798, 1.7475384, 1.7565452, 0.39032492, 1.7525873, 0.9680888, 0.96219105, 0.3340904, 1.7542756, 1.7329046, 0.9842101, 0.95229936, 1.7548184, 2.4356117, 0.31878495, 2.3945024, 2.407316, 0.38876075, 1.7571303, 2.378798, 2.7643533]\n",
      "size(𝐠) = (33,)\n",
      "\n",
      "d = ([5.954717320519284], -0.19485862528721773)\n",
      "𝐠 = Float32[0.01837318, 0.11600978, 0.11185375, 0.309034, 0.40478638, 0.40474543, 0.11572318, 0.40465692, 0.018085811, 0.31022796, 0.4048195, 0.113151826, 0.018867107, 0.30286014, 0.30456775, 0.018152956, 0.30354407, 0.113864236, 0.11356879, 0.019278537, 0.30420086, 0.3008986, 0.116037086, 0.112352185, 0.30431437, 0.40432742, 0.019155895, 0.40502888, 0.40485892, 0.018261544, 0.30460587, 0.4051613, 0.4245619]\n",
      "size(𝐠) = (33,)\n",
      "\n",
      "d = ([5.283593596185405], -0.4881066660601899)\n",
      "𝐠 = Float32[0.054654848, 0.2408692, 0.23247847, 0.554906, 0.7362713, 0.738746, 0.2403183, 0.7380543, 0.05442038, 0.5575347, 0.7401616, 0.23513965, 0.054756854, 0.54225326, 0.5452575, 0.054464377, 0.54360414, 0.23665617, 0.2356953, 0.052960712, 0.54457766, 0.5383628, 0.24095818, 0.23319954, 0.5447717, 0.7392918, 0.05176017, 0.7378081, 0.7383238, 0.054567974, 0.54536396, 0.737073, 0.79346144]\n",
      "size(𝐠) = (33,)\n",
      "\n",
      "d = ([1.682994214539547], 0.8363763711980164)\n",
      "𝐠 = Float32[-0.35838795, -0.34564766, -0.3361328, -0.36881244, -0.3640657, -0.418653, -0.34517887, -0.40826535, -0.36876348, -0.37305927, -0.44502914, -0.3393838, -0.33443698, -0.3532964, -0.3543133, -0.36608368, -0.35467365, -0.34154224, -0.3384057, -0.27428642, -0.35387167, -0.34924552, -0.3459362, -0.33533955, -0.35390124, -0.44961596, -0.25441167, -0.38462216, -0.4041316, -0.3624882, -0.35459414, -0.36215132, -0.7043768]\n",
      "size(𝐠) = (33,)\n",
      "\n",
      "d = ([4.397497532009077], -0.8893598234967055)\n",
      "𝐠 = Float32[0.18071966, 0.50450516, 0.48769003, 0.96022284, 1.2741189, 1.2914532, 0.50347257, 1.2877334, 0.18247394, 0.9660535, 1.3000507, 0.49312806, 0.1757172, 0.9343718, 0.93927205, 0.18198003, 0.937004, 0.49636802, 0.4935069, 0.15901299, 0.93806374, 0.92675084, 0.50477004, 0.48840183, 0.93836355, 1.2991855, 0.15232143, 1.2821015, 1.2874398, 0.18142456, 0.9395599, 1.2755171, 1.4566678]\n",
      "size(𝐠) = (33,)\n",
      "\n",
      "d = ([5.08383789517891], -0.985684120419628)\n",
      "𝐠 = Float32[0.1372375, 0.5444382, 0.5256468, 1.2013118, 1.5972633, 1.6052133, 0.5432227, 1.6031985, 0.13710007, 1.2073421, 1.6095321, 0.5316333, 0.13652389, 1.1728506, 1.179291, 0.1370967, 1.1758567, 0.53508097, 0.53269017, 0.12998459, 1.1778079, 1.1641831, 0.5446596, 0.5270746, 1.1782197, 1.6077337, 0.12643778, 1.6016723, 1.6036528, 0.13719691, 1.1795484, 1.5990521, 1.7396926]\n",
      "size(𝐠) = (33,)\n",
      "\n",
      "d = ([5.2322660712355615], -0.4998796141354617)\n",
      "𝐠 = Float32[0.0573253, 0.24587776, 0.23733248, 0.56019926, 0.7437606, 0.74654627, 0.24531886, 0.7457902, 0.05712813, 0.5628931, 0.74811536, 0.24004583, 0.057327133, 0.54729885, 0.5503247, 0.057161987, 0.5486724, 0.2415963, 0.24058974, 0.05522119, 0.549637, 0.5433421, 0.24597096, 0.23804492, 0.5498319, 0.74724543, 0.05390324, 0.7454326, 0.74604857, 0.05725339, 0.55043536, 0.7445771, 0.80361795]\n",
      "size(𝐠) = (33,)\n",
      "\n",
      "d = ([5.606116898768351], -0.3923971255445249)\n",
      "𝐠 = Float32[0.038496878, 0.20145771, 0.19434078, 0.49763006, 0.65683883, 0.65773946, 0.20097923, 0.6573895, 0.038123477, 0.49977136, 0.65835595, 0.19658156, 0.03902305, 0.48697457, 0.48970157, 0.03820684, 0.48813245, 0.19783619, 0.19716871, 0.03873921, 0.4891004, 0.4836466, 0.20151952, 0.19506787, 0.48927918, 0.65755326, 0.038159255, 0.6576556, 0.65768695, 0.038353536, 0.48977998, 0.6575079, 0.69766736]\n",
      "size(𝐠) = (33,)\n",
      "\n",
      "d = ([5.60212143933698], -0.9667123861641418)\n",
      "𝐠 = Float32[0.10208824, 0.5330946, 0.514265, 1.3156837, 1.736749, 1.7391663, 0.531829, 1.7382333, 0.101104885, 1.321352, 1.7408144, 0.52019405, 0.10346832, 1.2874894, 1.2946986, 0.10132424, 1.2905525, 0.52351457, 0.52174366, 0.10268217, 1.2931087, 1.2786855, 0.5332585, 0.5161849, 1.2935812, 1.738692, 0.101134986, 1.738924, 1.7390186, 0.10171082, 1.2949063, 1.7385199, 1.8450023]\n",
      "size(𝐠) = (33,)\n",
      "\n",
      "d = ([5.619775534825586], -0.8369248015848767)\n",
      "𝐠 = Float32[0.08697303, 0.45848203, 0.44227588, 1.1358701, 1.4988765, 1.5008273, 0.45739138, 1.5000507, 0.08610926, 1.1407375, 1.5021816, 0.44737682, 0.08820603, 1.1116136, 1.1178409, 0.0863027, 1.1142515, 0.45023066, 0.44872507, 0.08766248, 1.1164694, 1.1040328, 0.45862135, 0.4439428, 1.1168778, 1.5003489, 0.08637921, 1.5006953, 1.5007333, 0.086641185, 1.1180182, 1.5003983, 1.5911703]\n",
      "size(𝐠) = (33,)\n",
      "\n",
      "d = ([0.8990700284053288], 0.8516655066120846)\n",
      "𝐠 = Float32[-0.053679712, -0.04422935, -0.043096256, -0.04000238, -0.03178468, -0.039325498, -0.044177238, -0.037858997, -0.055041052, -0.0405407, -0.0431798, -0.04348913, -0.050467443, -0.038121745, -0.038187817, -0.05469349, -0.038282506, -0.04375662, -0.043334052, -0.041975643, -0.038142797, -0.037646793, -0.044268124, -0.042962827, -0.038141917, -0.043964665, -0.03905234, -0.034495182, -0.037234537, -0.054220613, -0.038225003, -0.03146086, -0.08285191]\n",
      "size(𝐠) = (33,)\n",
      "\n",
      "d = ([6.762009220994319], 0.2246529015879637)\n",
      "𝐠 = Float32[-0.0020450216, -0.02004751, -0.019308971, -0.06363751, -0.081468016, -0.08132644, -0.019993555, -0.08134036, -0.0019845976, -0.06382586, -0.08126656, -0.019535271, -0.00216548, -0.062560715, -0.06291317, -0.001999149, -0.06268557, -0.019653346, -0.019640582, -0.0023700937, -0.06284127, -0.06220442, -0.020048656, -0.019428626, -0.06286532, -0.08117836, -0.0024044293, -0.081452966, -0.081380375, -0.0020212648, -0.062916696, -0.08152477, -0.08374652]\n",
      "size(𝐠) = (33,)\n",
      "\n",
      "d = ([6.285807667782557], 0.1473741420851248)\n",
      "𝐠 = Float32[-0.004476221, -0.03382999, -0.03260317, -0.096829325, -0.1257297, -0.12560247, -0.033743344, -0.12560092, -0.004380734, -0.09716571, -0.12556371, -0.03298339, -0.004654386, -0.0950206, -0.095557585, -0.0044034524, -0.09522472, -0.033187933, -0.033127535, -0.0048906025, -0.095444776, -0.09443637, -0.03383555, -0.03277128, -0.09548089, -0.12541589, -0.0049006343, -0.1257525, -0.1256651, -0.0044389004, -0.09556665, -0.12583429, -0.13061613]\n",
      "size(𝐠) = (33,)\n",
      "\n",
      "d = ([2.5070369662114205], 0.2938798929384658)\n",
      "𝐠 = Float32[-0.09936692, -0.12246465, -0.11885847, -0.15560767, -0.17977121, -0.19486429, -0.12227417, -0.19199902, -0.10220275, -0.1571088, -0.20193833, -0.12007109, -0.09283773, -0.14983271, -0.15040986, -0.10146178, -0.15036651, -0.120853096, -0.119833045, -0.076624416, -0.15021604, -0.14827006, -0.12255872, -0.118691325, -0.15024258, -0.20288238, -0.071303435, -0.18571757, -0.19099195, -0.10048462, -0.15050334, -0.17946552, -0.27486458]\n",
      "size(𝐠) = (33,)\n",
      "\n",
      "d = ([6.967885118879204], 0.4537563909447423)\n",
      "𝐠 = Float32[-0.00950789, -0.10433573, -0.10046829, -0.34637514, -0.44054696, -0.4397101, -0.10404908, -0.4398068, -0.009193216, -0.3473289, -0.43933824, -0.10164741, -0.010148008, -0.34076402, -0.34267712, -0.009269218, -0.3414224, -0.10225413, -0.10224145, -0.011306215, -0.3422914, -0.33888763, -0.10433669, -0.10113724, -0.34242266, -0.43888256, -0.011531978, -0.44042313, -0.44001585, -0.009383916, -0.34269112, -0.4408292, -0.4512345]\n",
      "size(𝐠) = (33,)\n",
      "\n",
      "d = ([5.110411626809149], -0.758242286307165)\n",
      "𝐠 = Float32[0.10001486, 0.40233684, 0.3884327, 0.8928688, 1.1868984, 1.1925278, 0.40143573, 1.1910856, 0.09987127, 0.8973167, 1.1956035, 0.39285967, 0.09958761, 0.87182206, 0.87661564, 0.0998798, 0.87404823, 0.3954056, 0.39366007, 0.09501423, 0.8755145, 0.8654045, 0.40249854, 0.38950753, 0.87582123, 1.1942565, 0.09247933, 1.1900594, 1.1914377, 0.099968225, 0.87680423, 1.1882235, 1.2908095]\n",
      "size(𝐠) = (33,)\n",
      "\n",
      "d = ([3.263924561103572], -0.8225751015840762)\n",
      "𝐠 = Float32[0.37579247, 0.6200571, 0.6007733, 0.92569166, 1.1660665, 1.2181396, 0.6189736, 1.2080339, 0.38467032, 0.9331857, 1.2425642, 0.6071598, 0.35480472, 0.8953125, 0.8993811, 0.3823213, 0.89822966, 0.6111589, 0.60655653, 0.30045044, 0.8982092, 0.88681054, 0.6204824, 0.60055137, 0.8984295, 1.2444681, 0.28198597, 1.1875031, 1.2051699, 0.3792967, 0.8998149, 1.1662259, 1.5316935]\n",
      "size(𝐠) = (33,)\n",
      "\n",
      "d = ([2.7082851343524554], 0.23954117365051386)\n",
      "𝐠 = Float32[-0.09858455, -0.13054971, -0.1266466, -0.17313299, -0.2056944, -0.22043994, -0.1303401, -0.21763127, -0.10131041, -0.17472906, -0.2273338, -0.12795384, -0.09228488, -0.16690977, -0.16758652, -0.10059609, -0.16749081, -0.12879051, -0.12773187, -0.07655398, -0.16736954, -0.16521081, -0.1306474, -0.12650152, -0.16740245, -0.22816822, -0.07136533, -0.21156818, -0.2166866, -0.099658884, -0.16768417, -0.20547035, -0.30037588]\n",
      "size(𝐠) = (33,)\n",
      "\n",
      "d = ([6.101251006272722], -0.006345162437992297)\n",
      "𝐠 = Float32[0.0040361304, 0.02759118, 0.026597254, 0.07587199, 0.09901188, 0.098956995, 0.027521905, 0.098945335, 0.003962851, 0.07615179, 0.09895125, 0.02690663, 0.0041675465, 0.0744004, 0.07482052, 0.003980138, 0.07456476, 0.027074952, 0.02701388, 0.0043111756, 0.07473117, 0.073929444, 0.027596818, 0.026723951, 0.074759245, 0.0988323, 0.0042996886, 0.09905091, 0.09899557, 0.0040075774, 0.074828856, 0.09909949, 0.10338328]\n",
      "size(𝐠) = (33,)\n",
      "\n",
      "d = ([5.933777292638416], -0.7200075337688022)\n",
      "𝐠 = Float32[0.0644276, 0.4022186, 0.38782072, 1.0666026, 1.3977956, 1.3977548, 0.40122718, 1.397427, 0.06344306, 1.0707507, 1.3980634, 0.39231995, 0.06610771, 1.0452043, 1.0510957, 0.063672714, 1.047572, 0.39479217, 0.39374897, 0.0674311, 1.0498282, 1.0384127, 0.40231505, 0.38953206, 1.0502194, 1.3963622, 0.06696674, 1.3986781, 1.3981222, 0.06404534, 1.0512295, 1.3990984, 1.4670789]\n",
      "size(𝐠) = (33,)\n",
      "\n",
      "d = ([2.538567235270114], 0.35702406868867176)\n",
      "𝐠 = Float32[-0.15069216, -0.1877672, -0.1822247, -0.24018727, -0.2787753, -0.30161834, -0.18747367, -0.29728004, -0.1549749, -0.24248806, -0.3123192, -0.18408728, -0.1408271, -0.23131758, -0.23221616, -0.15385537, -0.23213875, -0.18528701, -0.18372934, -0.11631455, -0.2319167, -0.22891423, -0.18791085, -0.18197577, -0.2319584, -0.31372735, -0.10826502, -0.28779042, -0.29576498, -0.1523801, -0.23235907, -0.27832973, -0.42306098]\n",
      "size(𝐠) = (33,)\n",
      "\n",
      "d = ([0.07198732596893986], -0.3880518113355723)\n",
      "𝐠 = Float32[2.263545, 1.6983947, 1.6583906, 1.2912942, 0.7631585, 1.0320112, 1.6966883, 0.97782737, 2.307722, 1.3115253, 1.1807443, 1.6724689, 2.155692, 1.223618, 1.2239772, 2.2965825, 1.2291826, 1.6822901, 1.6655936, 1.8465881, 1.222659, 1.2071005, 1.6999217, 1.6522609, 1.2224699, 1.21508, 1.7326622, 0.85482526, 0.95376295, 2.2812245, 1.2254254, 0.75049186, 2.9344475]\n",
      "size(𝐠) = (33,)\n",
      "\n",
      "d = ([2.480317109065238], 0.262575063070758)\n",
      "𝐠 = Float32[-0.07081016, -0.086470604, -0.08392956, -0.10925044, -0.12571055, -0.13648316, -0.08633669, -0.13443875, -0.072837695, -0.110310666, -0.14153466, -0.08478448, -0.06614365, -0.10517881, -0.10558103, -0.07230813, -0.10555468, -0.085336335, -0.08461366, -0.054561157, -0.105445065, -0.10407837, -0.08653725, -0.0838087, -0.105463415, -0.14221662, -0.05076168, -0.12994859, -0.13371634, -0.0716093, -0.10564719, -0.12548566, -0.19344655]\n",
      "size(𝐠) = (33,)\n",
      "\n",
      "d = ([7.941571239112478], 1.748944810416194)\n",
      "𝐠 = Float32[-0.027159754, -0.5084087, -0.48909977, -2.0872722, -2.5713675, -2.566308, -0.506878, -2.5670798, -0.02580821, -2.0912406, -2.5637624, -0.49484444, -0.030100632, -2.0599294, -2.0711293, -0.026136382, -2.0633278, -0.4975931, -0.4988402, -0.036504705, -2.068979, -2.0503037, -0.5082909, -0.4934645, -2.0697646, -2.561735, -0.038205612, -2.5702293, -2.568024, -0.026623044, -2.0710902, -2.5724332, -2.6032007]\n",
      "size(𝐠) = (33,)\n",
      "\n",
      "d = ([2.550608220378499], 0.6584706157225232)\n",
      "𝐠 = Float32[-0.3662992, -0.4583482, -0.44480634, -0.58781034, -0.68343943, -0.7389211, -0.4576303, -0.7283824, -0.3766923, -0.59342587, -0.76490664, -0.44935605, -0.3423549, -0.5661448, -0.56835115, -0.373975, -0.56815183, -0.45228532, -0.44848883, -0.28284252, -0.56761783, -0.5602711, -0.45869836, -0.4442055, -0.5677207, -0.76830745, -0.26329476, -0.70534986, -0.72471124, -0.37039536, -0.5686995, -0.68237334, -1.0342366]\n",
      "size(𝐠) = (33,)\n",
      "\n",
      "d = ([6.069892086556522], 0.03029378236086855)\n",
      "𝐠 = Float32[0.00071668345, 0.004816609, 0.0046433005, 0.013155234, 0.017181411, 0.017173432, 0.0048045577, 0.017171059, 0.0007040578, 0.013204237, 0.017173262, 0.004697286, 0.00073914404, 0.012898455, 0.01297127, 0.0007070311, 0.012927083, 0.004726712, 0.004715704, 0.0007626, 0.01295575, 0.012816403, 0.004817625, 0.004665112, 0.01296061, 0.017152563, 0.00075996196, 0.01718889, 0.017179754, 0.0007117668, 0.012972752, 0.017196769, 0.01795659]\n",
      "size(𝐠) = (33,)\n",
      "\n",
      "d = ([1.6191618806194228], 0.9014697627213694)\n",
      "𝐠 = Float32[-0.40598634, -0.38550392, -0.37495083, -0.4058276, -0.39456257, -0.4561762, -0.3849868, -0.44443795, -0.41767108, -0.4105625, -0.48605657, -0.37856096, -0.37898064, -0.3885941, -0.38967946, -0.41465592, -0.39011908, -0.38096294, -0.3774465, -0.3109624, -0.3891955, -0.38410714, -0.38582733, -0.37404114, -0.38922495, -0.4913319, -0.2884386, -0.41768092, -0.43973425, -0.41060558, -0.38999385, -0.3923506, -0.7800108]\n",
      "size(𝐠) = (33,)\n",
      "\n",
      "d = ([3.190573925422692], 0.27452743353116565)\n",
      "𝐠 = Float32[-0.1611911, -0.2579194, -0.24993807, -0.37906966, -0.47452196, -0.49715406, -0.25747362, -0.4927765, -0.16510497, -0.3821928, -0.50775594, -0.25258535, -0.15197761, -0.36647615, -0.36811998, -0.16407093, -0.36768094, -0.25424796, -0.25230843, -0.12827848, -0.36764047, -0.36296335, -0.2580986, -0.24981897, -0.36772844, -0.5086527, -0.12027043, -0.4837951, -0.4915004, -0.16273545, -0.3683022, -0.47452673, -0.63104594]\n",
      "size(𝐠) = (33,)\n",
      "\n",
      "d = ([3.5434406227510404], -0.7756416112650704)\n",
      "𝐠 = Float32[0.28029498, 0.52210975, 0.5055697, 0.82743955, 1.0635726, 1.1001545, 0.5211595, 1.0929449, 0.2861276, 0.8336977, 1.1174388, 0.5110162, 0.26621798, 0.80153924, 0.8053492, 0.28457388, 0.80406207, 0.5143873, 0.5107147, 0.22854273, 0.8042997, 0.79419845, 0.5224494, 0.50559574, 0.80451435, 1.1182879, 0.21542297, 1.0789284, 1.0911531, 0.2826014, 0.80569977, 1.0641396, 1.3384942]\n",
      "size(𝐠) = (33,)\n",
      "\n",
      "d = ([3.1521717806617273], -0.10338867991107391)\n",
      "𝐠 = Float32[0.037075672, 0.058389068, 0.05658697, 0.08511534, 0.10618136, 0.11142092, 0.058288723, 0.110409126, 0.03798811, 0.08582304, 0.11387398, 0.057185166, 0.03493212, 0.08226953, 0.08263595, 0.037747223, 0.082541235, 0.057561435, 0.057119437, 0.029436609, 0.08252832, 0.08147708, 0.0584299, 0.056556866, 0.08254782, 0.114089645, 0.027584461, 0.10832304, 0.11011002, 0.037435647, 0.08267741, 0.106174976, 0.14214768]\n",
      "size(𝐠) = (33,)\n",
      "\n",
      "d = ([3.8943193940633147], -0.8538756140985393)\n",
      "𝐠 = Float32[0.24070849, 0.52652794, 0.509479, 0.89954174, 1.1772007, 1.2056237, 0.5255211, 1.1998708, 0.24471533, 0.905772, 1.219252, 0.5150521, 0.23063514, 0.87304544, 0.87739426, 0.24363428, 0.8756735, 0.51844966, 0.5150242, 0.20197076, 0.87625444, 0.86541426, 0.52684486, 0.50978893, 0.8765091, 1.2192823, 0.19154845, 1.1894939, 1.1987592, 0.24229893, 0.8777274, 1.1782192, 1.415985]\n",
      "size(𝐠) = (33,)\n",
      "\n",
      "d = ([5.625592307045189], -0.6456018735752034)\n",
      "𝐠 = Float32[0.065895535, 0.3484561, 0.3361361, 0.86437285, 1.1404833, 1.1419342, 0.3476267, 1.14135, 0.06523463, 0.8680703, 1.1429477, 0.34001336, 0.06684404, 0.84593534, 0.8506749, 0.06538279, 0.847941, 0.34218192, 0.34104192, 0.066463806, 0.8496316, 0.8401714, 0.34856158, 0.33740693, 0.84994245, 1.1415529, 0.06550026, 1.1418527, 1.1418707, 0.065641545, 0.85080934, 1.1416396, 1.2104272]\n",
      "size(𝐠) = (33,)\n",
      "\n",
      "d = ([7.036772291528733], 1.239199179196218)\n",
      "𝐠 = Float32[-0.039936736, -0.4551181, -0.4382147, -1.5337449, -1.9464234, -1.9426512, -0.45385915, -1.9431037, -0.03856761, -1.5378656, -1.9409529, -0.44335952, -0.04273883, -1.509261, -1.5177221, -0.038898535, -1.5121454, -0.4459942, -0.44601843, -0.047901653, -1.5160226, -1.5010443, -0.45511478, -0.44120067, -1.5166042, -1.9389722, -0.048946664, -1.9458262, -1.944015, -0.039396986, -1.5177766, -1.9476352, -1.9914483]\n",
      "size(𝐠) = (33,)\n",
      "\n",
      "d = ([1.251827476631946], 1.3665899663432135)\n",
      "𝐠 = Float32[-0.8204829, -0.7191806, -0.7001327, -0.7006135, -0.6187948, -0.7394952, -0.7182767, -0.716295, -0.84291804, -0.709416, -0.7994751, -0.70669407, -0.768157, -0.6692506, -0.6707732, -0.8371597, -0.67197716, -0.7111123, -0.7043771, -0.6335248, -0.6699598, -0.66121155, -0.7197993, -0.69818264, -0.66997796, -0.8109265, -0.5881873, -0.66312224, -0.706671, -0.829373, -0.6713702, -0.6139684, -1.3979446]\n",
      "size(𝐠) = (33,)\n",
      "\n",
      "d = ([1.2004779957499734], 0.8271817060765656)\n",
      "𝐠 = Float32[-0.16469908, -0.14294212, -0.13917415, -0.13775258, -0.119904436, -0.14399457, -0.1427641, -0.13935706, -0.16916029, -0.13950093, -0.15601167, -0.14047332, -0.15427808, -0.13154134, -0.13183059, -0.16801612, -0.13207997, -0.1413496, -0.1400066, -0.12736937, -0.13167131, -0.12995268, -0.14306547, -0.13877991, -0.13167396, -0.1583289, -0.11828181, -0.12872441, -0.13742521, -0.16646753, -0.1319495, -0.118929476, -0.2763336]\n",
      "size(𝐠) = (33,)\n",
      "\n",
      "d = ([5.181193155687874], -1.5061124102244448)\n",
      "𝐠 = Float32[0.20703608, 0.864423, 0.83445114, 1.9478698, 2.5875835, 2.5983183, 0.8624701, 2.5954797, 0.20649837, 1.9573768, 2.6042826, 0.8439788, 0.20666733, 1.9025719, 1.9130672, 0.20657669, 1.9073814, 0.8494379, 0.84580994, 0.19827409, 1.9106711, 1.8887124, 0.86475897, 0.83687365, 1.9113455, 2.601291, 0.19330713, 2.5938358, 2.5963266, 0.20684493, 1.913463, 2.590446, 2.8033104]\n",
      "size(𝐠) = (33,)\n",
      "\n",
      "d = ([2.828842102347698], 0.6630355079550974)\n",
      "𝐠 = Float32[-0.37730458, -0.52269953, -0.5069328, -0.711213, -0.85770595, -0.91345555, -0.5218444, -0.90280646, -0.3874799, -0.71759105, -0.93950516, -0.5122007, -0.35371184, -0.68613994, -0.6890008, -0.38480842, -0.6884952, -0.5155569, -0.511391, -0.29449442, -0.6881069, -0.6792583, -0.5230841, -0.506434, -0.6882498, -0.9424464, -0.27487648, -0.88006365, -0.89933103, -0.38131544, -0.6893868, -0.8570473, -1.2209563]\n",
      "size(𝐠) = (33,)\n",
      "\n",
      "d = ([4.174230415827559], -0.9005855735817224)\n",
      "𝐠 = Float32[0.2117636, 0.5296115, 0.51217854, 0.9608012, 1.2690363, 1.291561, 0.52855927, 1.2868686, 0.21449685, 0.96699125, 1.3025429, 0.5178434, 0.20451067, 0.93387085, 0.93866783, 0.21374632, 0.93658113, 0.5212538, 0.5180483, 0.18229203, 0.9374541, 0.9260138, 0.5299083, 0.51272875, 0.9377425, 1.3020153, 0.17382175, 1.2790843, 1.2862296, 0.21285413, 0.93898517, 1.2703357, 1.4811836]\n",
      "size(𝐠) = (33,)\n",
      "\n",
      "d = ([1.2838073362986027], 0.8255135410259004)\n",
      "𝐠 = Float32[-0.19913088, -0.17565194, -0.170986, -0.17227489, -0.15352252, -0.18291631, -0.1754299, -0.17727162, -0.20460646, -0.17442565, -0.19748896, -0.17259228, -0.18637191, -0.16459781, -0.16498, -0.2032004, -0.16526625, -0.17367283, -0.1720312, -0.15361428, -0.16477948, -0.16262731, -0.17580277, -0.17051484, -0.16478467, -0.2002537, -0.14260218, -0.16433805, -0.17493635, -0.20130013, -0.16512564, -0.15235636, -0.34260464]\n",
      "size(𝐠) = (33,)\n",
      "\n",
      "d = ([3.6443765836947035], -0.14816078582974435)\n",
      "𝐠 = Float32[0.010989505, 0.021419317, 0.020736385, 0.034686312, 0.044851553, 0.046249393, 0.021379767, 0.045972034, 0.01120576, 0.034942176, 0.046912212, 0.020960795, 0.010462499, 0.03361922, 0.033781357, 0.011147976, 0.0337237, 0.021099104, 0.020951595, 0.009030743, 0.033737365, 0.03331539, 0.021432959, 0.020740712, 0.033746608, 0.046936773, 0.008526693, 0.045442943, 0.04590711, 0.011075095, 0.03379551, 0.044880528, 0.055664197]\n",
      "size(𝐠) = (33,)\n",
      "\n",
      "d = ([0.15520288566060536], 0.31583585672467845)\n",
      "𝐠 = Float32[1.1279259, 0.851842, 0.8315999, 0.6590446, 0.40238652, 0.5391337, 0.850972, 0.5116824, 1.1506345, 0.6692189, 0.6141411, 0.83871305, 1.0726888, 0.6248666, 0.62514716, 1.1449014, 0.62768775, 0.8436637, 0.8353045, 0.9157788, 0.62446654, 0.61649644, 0.85260683, 0.82856965, 0.6243788, 0.6312604, 0.8583863, 0.44926348, 0.49953043, 1.137007, 0.625873, 0.39598244, 1.4832635]\n",
      "size(𝐠) = (33,)\n",
      "\n",
      "d = ([6.703552213459928], 0.6890248498810972)\n",
      "𝐠 = Float32[-0.026426809, -0.25090536, -0.24167892, -0.7863936, -1.0085616, -1.0068697, -0.25023407, -1.007025, -0.025672628, -0.7887685, -1.0061668, -0.24451004, -0.027920695, -0.7729228, -0.7772806, -0.025854073, -0.7744795, -0.24599297, -0.245797, -0.030405382, -0.7763886, -0.7684788, -0.25092307, -0.24314523, -0.7766854, -1.0050619, -0.03079886, -1.0084087, -1.0075245, -0.026130473, -0.77732766, -1.0092804, -1.0379317]\n",
      "size(𝐠) = (33,)\n",
      "\n",
      "d = ([2.9130986711098936], 0.6780633640392749)\n",
      "𝐠 = Float32[-0.38455996, -0.55030584, -0.5336049, -0.7623334, -0.9282997, -0.98456085, -0.5493938, -0.9737887, -0.39472276, -0.76903796, -1.0108501, -0.53917557, -0.3609307, -0.7358232, -0.7389482, -0.39205092, -0.73832405, -0.54271287, -0.5383823, -0.30135742, -0.73798823, -0.7285198, -0.5507057, -0.53314126, -0.7381472, -1.01366, -0.2815484, -0.9509712, -0.9703529, -0.38856643, -0.7393507, -0.9277775, -1.2992139]\n",
      "size(𝐠) = (33,)\n",
      "\n",
      "d = ([6.784550104581328], 0.44794175688710913)\n",
      "𝐠 = Float32[-0.0125062475, -0.12412236, -0.1195466, -0.39594302, -0.5065248, -0.5056337, -0.12378753, -0.5057233, -0.012131867, -0.39710578, -0.5052544, -0.120947905, -0.013254381, -0.38927507, -0.39146745, -0.012222061, -0.39004922, -0.12167797, -0.12160588, -0.014535002, -0.3910208, -0.3870662, -0.124128796, -0.1202934, -0.3911705, -0.50470865, -0.014754247, -0.5064251, -0.5059713, -0.012359022, -0.39148873, -0.5068745, -0.5204724]\n",
      "size(𝐠) = (33,)\n",
      "\n",
      "d = ([4.767644151344966], -0.9691505722528924)\n",
      "𝐠 = Float32[0.16066122, 0.5409197, 0.5225363, 1.1148906, 1.4839137, 1.4962049, 0.53975856, 1.4933773, 0.16131456, 1.12101, 1.5025439, 0.5284339, 0.15810044, 1.0868545, 1.0927157, 0.16110487, 1.0897658, 0.53188527, 0.5291803, 0.14694162, 1.0913254, 1.078444, 0.54117024, 0.52364624, 1.0916932, 1.501094, 0.14189762, 1.4900227, 1.4935243, 0.16093326, 1.0929968, 1.485605, 1.648544]\n",
      "size(𝐠) = (33,)\n",
      "\n",
      "d = ([0.2549878226635327], 0.5538352809696105)\n",
      "𝐠 = Float32[0.7108327, 0.5414772, 0.52847457, 0.42777634, 0.27137342, 0.35960826, 0.5409131, 0.34197763, 0.72566867, 0.43426353, 0.40751904, 0.53303564, 0.67490256, 0.40587303, 0.40612966, 0.7219175, 0.4076894, 0.5362011, 0.5309007, 0.57390094, 0.40568203, 0.40048698, 0.5419623, 0.5265833, 0.40563172, 0.41830203, 0.537288, 0.30181637, 0.33420563, 0.7167602, 0.4065907, 0.26727414, 0.95176387]\n",
      "size(𝐠) = (33,)\n",
      "\n",
      "d = ([7.913119822997649], 0.8560482508134599)\n",
      "𝐠 = Float32[-0.0088420445, -0.16295487, -0.1567697, -0.6648646, -0.8198302, -0.8182104, -0.16246548, -0.8184564, -0.008406314, -0.66614336, -0.8173976, -0.15861122, -0.009788673, -0.6560995, -0.6596713, -0.008512109, -0.657187, -0.15949437, -0.15988134, -0.011841766, -0.65898466, -0.65301853, -0.16291828, -0.15815805, -0.659235, -0.81674534, -0.012384135, -0.8194676, -0.8187603, -0.008669048, -0.6596597, -0.8201746, -0.8301811]\n",
      "size(𝐠) = (33,)\n",
      "\n",
      "d = ([3.4171956901257223], -0.09046599187179363)\n",
      "𝐠 = Float32[0.002018071, 0.0035559128, 0.0034441862, 0.0054853475, 0.006991565, 0.0072627063, 0.003549558, 0.00720967, 0.0020627517, 0.0055281394, 0.0073903333, 0.0034810724, 0.0019113448, 0.0053099175, 0.0053346725, 0.0020508887, 0.005326895, 0.0035040248, 0.0034783753, 0.0016303229, 0.005327719, 0.00526048, 0.0035582837, 0.0034437005, 0.0053290897, 0.007398362, 0.0015336416, 0.007104342, 0.0071956096, 0.0020357228, 0.005337106, 0.006994152, 0.008963523]\n",
      "size(𝐠) = (33,)\n",
      "\n",
      "d = ([2.9064206505139056], -0.11895048671723976)\n",
      "𝐠 = Float32[0.08866942, 0.12655714, 0.12271818, 0.17506918, 0.21302451, 0.2260076, 0.1263476, 0.22352225, 0.09101668, 0.17661127, 0.23207416, 0.12399885, 0.08321319, 0.1689745, 0.1696911, 0.09039965, 0.16954926, 0.12481228, 0.123815335, 0.06946231, 0.16947067, 0.16729593, 0.12664919, 0.12261042, 0.1695071, 0.23272552, 0.064891376, 0.21825427, 0.22272807, 0.089594774, 0.16978373, 0.21290134, 0.29853484]\n",
      "size(𝐠) = (33,)\n",
      "\n",
      "d = ([3.819541310733582], -1.2015686761784825)\n",
      "𝐠 = Float32[0.37779626, 0.79800105, 0.77227896, 1.3416662, 1.750194, 1.7958856, 0.7964908, 1.7866969, 0.38444036, 1.3511372, 1.8177135, 0.78070045, 0.36126906, 1.3016264, 1.3080509, 0.38265362, 1.3055824, 0.7858514, 0.78056693, 0.31495917, 1.3063502, 1.2901342, 0.7984899, 0.7726551, 1.3067236, 1.8180077, 0.29829717, 1.7698171, 1.7848015, 0.38043094, 1.3085628, 1.751608, 2.1240287]\n",
      "size(𝐠) = (33,)\n",
      "\n",
      "d = ([1.4302671527551825], 0.9873534774379223)\n",
      "𝐠 = Float32[-0.438532, -0.3988115, -0.3880757, -0.40341836, -0.37400258, -0.43964082, -0.39829403, -0.42708448, -0.45087007, -0.40830934, -0.47185266, -0.39176145, -0.40989515, -0.38581228, -0.38678944, -0.44769505, -0.3873561, -0.39422908, -0.39053893, -0.33704358, -0.38631457, -0.38126516, -0.39915064, -0.38706073, -0.38633433, -0.4777832, -0.31273067, -0.3983638, -0.42195714, -0.44341516, -0.38711783, -0.3714989, -0.7903016]\n",
      "size(𝐠) = (33,)\n",
      "\n",
      "d = ([6.214994055514212], 0.12004215511237117)\n",
      "𝐠 = Float32[-0.0037652834, -0.027380915, -0.026390458, -0.0771751, -0.10040603, -0.10032067, -0.027311316, -0.10031563, -0.0036895534, -0.07744947, -0.1002987, -0.02669794, -0.0039046442, -0.07571248, -0.07614028, -0.003707519, -0.075876884, -0.02686407, -0.026810657, -0.0040782318, -0.07604999, -0.07524172, -0.02738584, -0.026522541, -0.0760787, -0.10017958, -0.004079187, -0.10043188, -0.10036685, -0.0037357162, -0.07614798, -0.1004916, -0.10450394]\n",
      "size(𝐠) = (33,)\n",
      "\n",
      "d = ([1.972942021682905], 0.9411117546408734)\n",
      "𝐠 = Float32[-0.5278223, -0.54980165, -0.53428894, -0.6237653, -0.65609753, -0.7372713, -0.54901814, -0.7218796, -0.543328, -0.6305249, -0.775935, -0.53955996, -0.49216536, -0.59863055, -0.6005747, -0.5393067, -0.60089344, -0.54302496, -0.53816426, -0.40348163, -0.5998152, -0.59198606, -0.55024916, -0.53319615, -0.59988636, -0.78216547, -0.37438664, -0.68716425, -0.71596885, -0.5339415, -0.6010131, -0.65359885, -1.1580487]\n",
      "size(𝐠) = (33,)\n",
      "\n",
      "d = ([2.023571829686187], 0.6490916035644761)\n",
      "𝐠 = Float32[-0.2749318, -0.29056114, -0.28232846, -0.3332039, -0.35405502, -0.39635903, -0.29014355, -0.3883403, -0.28301206, -0.33677608, -0.4164663, -0.2851231, -0.2563572, -0.31987956, -0.3209381, -0.28091505, -0.32108217, -0.28695694, -0.2844009, -0.21021013, -0.32053137, -0.31634948, -0.29079655, -0.28176713, -0.3205712, -0.41965893, -0.19508155, -0.3702906, -0.38528234, -0.27811998, -0.321169, -0.35278845, -0.61561525]\n",
      "size(𝐠) = (33,)\n",
      "\n",
      "d = ([5.719055775233269], -0.16349638724007892)\n",
      "𝐠 = Float32[0.014158132, 0.07872192, 0.07592789, 0.19926684, 0.2624191, 0.26263595, 0.07853251, 0.26252615, 0.013993667, 0.20009522, 0.26280984, 0.076805316, 0.01441158, 0.19509417, 0.19618966, 0.014031137, 0.19555041, 0.077293485, 0.07705189, 0.014440182, 0.19595021, 0.19378372, 0.07874427, 0.07622934, 0.19602236, 0.2624884, 0.014263835, 0.26268357, 0.26265013, 0.014094683, 0.19621874, 0.26267892, 0.27750638]\n",
      "size(𝐠) = (33,)\n",
      "\n",
      "d = ([0.29229995709706635], 0.10435118875291335)\n",
      "𝐠 = Float32[1.3565074, 1.0368836, 1.0118878, 0.82558817, 0.5311705, 0.70099235, 1.0357955, 0.6671175, 1.3851924, 0.8380243, 0.79285985, 1.02065, 1.2871492, 0.7835183, 0.7840668, 1.3779355, 0.7870132, 1.0267246, 1.016585, 1.0929321, 0.7831986, 0.7731575, 1.0378119, 1.0082917, 0.78310645, 0.81342614, 1.0227607, 0.5899042, 0.6522091, 1.3679644, 0.7849493, 0.5233062, 1.8290331]\n",
      "size(𝐠) = (33,)\n",
      "\n",
      "d = ([0.9488958084323134], 0.3804058533711201)\n",
      "𝐠 = Float32[0.52493656, 0.43594277, 0.42472085, 0.39843544, 0.3216028, 0.39589718, 0.43542433, 0.381475, 0.538411, 0.40374622, 0.43371066, 0.42860815, 0.4931983, 0.3798311, 0.3805195, 0.5349682, 0.38142523, 0.43125087, 0.42709637, 0.4096452, 0.38006902, 0.37512285, 0.436324, 0.42342362, 0.380063, 0.44134483, 0.38098034, 0.34838995, 0.37535417, 0.53028816, 0.38088548, 0.31843966, 0.82082427]\n",
      "size(𝐠) = (33,)\n",
      "\n",
      "d = ([6.476948075714971], 0.5966208368909092)\n",
      "𝐠 = Float32[-0.028428394, -0.23845956, -0.22975503, -0.71145874, -0.9187341, -0.91747296, -0.23783633, -0.91754174, -0.02772825, -0.71377903, -0.9170013, -0.23244056, -0.029775932, -0.6986821, -0.7026291, -0.027895853, -0.70013964, -0.23386805, -0.23355046, -0.031801194, -0.70180994, -0.69451535, -0.23848866, -0.23103458, -0.7020771, -0.9159519, -0.032023765, -0.9187398, -0.9180073, -0.028154016, -0.7026844, -0.9194477, -0.9500229]\n",
      "size(𝐠) = (33,)\n",
      "\n",
      "d = ([6.424134857969059], -0.14317098420755942)\n",
      "𝐠 = Float32[0.01576523, 0.12848194, 0.12380026, 0.37896025, 0.49012494, 0.48949596, 0.128148, 0.48952177, 0.01539132, 0.38021812, 0.48926958, 0.12524648, 0.01647927, 0.37208003, 0.37418246, 0.015480692, 0.37286258, 0.1260178, 0.12583046, 0.017520867, 0.3737447, 0.3698422, 0.12849914, 0.12447555, 0.37388673, 0.48870495, 0.017619433, 0.4901496, 0.489771, 0.015618797, 0.37421352, 0.49051312, 0.50743717]\n",
      "size(𝐠) = (33,)\n",
      "\n",
      "d = ([7.562998973402297], 1.053049485113909)\n",
      "𝐠 = Float32[-0.018968415, -0.2885076, -0.2776433, -1.0904748, -1.3602495, -1.3574761, -0.28766838, -1.3578718, -0.018146848, -1.0928842, -1.3561327, -0.28090698, -0.020716364, -1.0749409, -1.0808759, -0.018346138, -1.0768285, -0.28251562, -0.2829271, -0.02430653, -1.0797158, -1.0695822, -0.28846842, -0.27987215, -1.0801289, -1.3549294, -0.025184404, -1.3596754, -1.3584318, -0.018643076, -1.080878, -1.3609219, -1.3821237]\n",
      "size(𝐠) = (33,)\n",
      "\n",
      "d = ([3.0391414414663602], 0.045835725786946724)\n",
      "𝐠 = Float32[-0.028181767, -0.042388182, -0.04109019, -0.060318653, -0.07443667, -0.07849005, -0.042316567, -0.07771073, -0.028900962, -0.06083375, -0.08038537, -0.041522037, -0.026501248, -0.058263898, -0.058517832, -0.028711483, -0.05845896, -0.041794907, -0.041467916, -0.022230187, -0.0584417, -0.057694618, -0.04241838, -0.041061707, -0.05845494, -0.08056969, -0.020800674, -0.076082155, -0.07747142, -0.02846539, -0.058548365, -0.07441558, -0.10169825]\n",
      "size(𝐠) = (33,)\n",
      "\n",
      "d = ([6.36882092330521], 0.11996526999438636)\n",
      "𝐠 = Float32[-0.0013503805, -0.010678092, -0.010289737, -0.03111912, -0.0403121, -0.040264472, -0.0106505025, -0.0402656, -0.0013196412, -0.031224318, -0.0402482, -0.010409861, -0.0014085689, -0.030547654, -0.030720284, -0.0013269759, -0.03061245, -0.010474151, -0.010457178, -0.0014905492, -0.030684214, -0.030362299, -0.010679653, -0.010344631, -0.030695857, -0.040201362, -0.0014967981, -0.040316135, -0.04028615, -0.0013383515, -0.030722981, -0.040344674, -0.041791484]\n",
      "size(𝐠) = (33,)\n",
      "\n",
      "d = ([4.26094069641639], -1.0508893771604328)\n",
      "𝐠 = Float32[0.24078953, 0.62828714, 0.6075042, 1.161237, 1.5369331, 1.5615958, 0.62702423, 1.5564029, 0.2436032, 1.1685494, 1.573695, 0.6142452, 0.23314475, 1.1291918, 1.1350411, 0.2428244, 1.1324315, 0.6182872, 0.6145762, 0.20901872, 1.1335763, 1.1198046, 0.62863064, 0.60824686, 1.1339303, 1.5728856, 0.19965647, 1.5480615, 1.5558035, 0.24191481, 1.1354107, 1.5385584, 1.7789246]\n",
      "size(𝐠) = (33,)\n",
      "\n",
      "d = ([2.7940500679983984], 0.6114889202008573)\n",
      "𝐠 = Float32[-0.34505656, -0.4717677, -0.45757344, -0.6371752, -0.76521176, -0.8163885, -0.47099996, -0.8066214, -0.35443392, -0.6429352, -0.8403035, -0.46231928, -0.32333612, -0.6145857, -0.6171281, -0.35197335, -0.6167039, -0.46534678, -0.46156764, -0.26890686, -0.6163279, -0.6083952, -0.47211647, -0.45710167, -0.616454, -0.8430612, -0.25089997, -0.7856953, -0.80340505, -0.3487527, -0.61747783, -0.76455563, -1.0971743]\n",
      "size(𝐠) = (33,)\n",
      "\n",
      "d = ([7.279701288414808], 1.1714468194027705)\n",
      "𝐠 = Float32[-0.029414898, -0.38299158, -0.36867192, -1.3608464, -1.7134111, -1.7099468, -0.38190684, -1.7104051, -0.028283633, -1.3641927, -1.7083259, -0.37300426, -0.031775374, -1.3402275, -1.3476948, -0.028557647, -1.3426912, -0.37518495, -0.37544498, -0.03637313, -1.3462142, -1.3332196, -0.3829664, -0.3713888, -1.3467307, -1.7066864, -0.037405293, -1.7127671, -1.7111652, -0.02896796, -1.3477212, -1.7143725, -1.7469218]\n",
      "size(𝐠) = (33,)\n",
      "\n",
      "d = ([0.09653142718449637], 0.40671394765071434)\n",
      "𝐠 = Float32[1.0235163, 0.76940024, 0.7512304, 0.58799154, 0.35087833, 0.47319463, 0.7686235, 0.44857207, 1.043678, 0.59716386, 0.5406909, 0.75762194, 0.97434735, 0.5572705, 0.55745983, 1.0385925, 0.5597994, 0.7620778, 0.75451785, 0.83380014, 0.55685747, 0.549765, 0.7700917, 0.7484652, 0.55677366, 0.5562207, 0.7821158, 0.39264917, 0.43764696, 1.0315832, 0.55811566, 0.34512544, 1.3323882]\n",
      "size(𝐠) = (33,)\n",
      "\n",
      "d = ([2.1095044626390163], 0.8236013455855404)\n",
      "𝐠 = Float32[-0.44585174, -0.48327398, -0.46948406, -0.56438327, -0.6097563, -0.67836624, -0.4825694, -0.66536593, -0.45894617, -0.5703234, -0.7108692, -0.47415733, -0.4157632, -0.54210687, -0.5439563, -0.45554382, -0.5441259, -0.4772147, -0.4730005, -0.34111694, -0.54326445, -0.53618294, -0.48366216, -0.46859702, -0.5433373, -0.715896, -0.31666723, -0.63621145, -0.66046965, -0.4510168, -0.5443378, -0.607805, -1.0342506]\n",
      "size(𝐠) = (33,)\n",
      "\n",
      "d = ([5.627427482493566], -0.7831778522342734)\n",
      "𝐠 = Float32[0.08080463, 0.42771646, 0.41259292, 1.0614058, 1.4004048, 1.4021735, 0.42669806, 1.401459, 0.079991676, 1.0659435, 1.4034114, 0.41735226, 0.08197329, 1.0387735, 1.0445938, 0.08017402, 1.0412358, 0.42001393, 0.41861635, 0.081519276, 1.0433128, 1.0316976, 0.42784575, 0.41415426, 1.0436946, 1.4016986, 0.08034111, 1.4020809, 1.4020989, 0.0804922, 1.0447587, 1.4018239, 1.4861804]\n",
      "size(𝐠) = (33,)\n",
      "\n",
      "d = ([3.247025209898595], 0.19293058058923493)\n",
      "𝐠 = Float32[-0.121907376, -0.19972005, -0.19351585, -0.29709095, -0.37371105, -0.39065638, -0.19937195, -0.38737044, -0.12480622, -0.2995059, -0.398602, -0.1955713, -0.1150614, -0.28731352, -0.28861532, -0.12403947, -0.28825155, -0.19685929, -0.19537233, -0.097360454, -0.28823927, -0.28457925, -0.19985746, -0.19343956, -0.28830957, -0.39923376, -0.09135496, -0.38067916, -0.38643295, -0.123051494, -0.28875536, -0.3737515, -0.49226645]\n",
      "size(𝐠) = (33,)\n",
      "\n",
      "d = ([5.97975992772056], -0.330217377193415)\n",
      "𝐠 = Float32[0.029963257, 0.19177258, 0.18489577, 0.5136364, 0.67236876, 0.6722445, 0.19129747, 0.6721098, 0.02948174, 0.5156053, 0.67233795, 0.18704239, 0.03079768, 0.5034266, 0.50626594, 0.02959446, 0.5045592, 0.18821877, 0.1877412, 0.031535354, 0.505657, 0.5001787, 0.1918167, 0.18572932, 0.50584584, 0.67152184, 0.031354565, 0.67274636, 0.6724466, 0.029776089, 0.50632805, 0.6729868, 0.7046533]\n",
      "size(𝐠) = (33,)\n",
      "\n",
      "d = ([7.4247979996240865], 1.0900608585866547)\n",
      "𝐠 = Float32[-0.023030212, -0.32470885, -0.3125228, -1.1908481, -1.492239, -1.4891951, -0.32377642, -1.4896151, -0.02208718, -1.1936216, -1.4877441, -0.31619632, -0.02501831, -1.1733642, -1.179873, -0.022315796, -1.1754712, -0.31802586, -0.3183698, -0.029002415, -1.178592, -1.1673765, -0.32467595, -0.3149309, -1.1790435, -1.4863712, -0.02994006, -1.4916369, -1.4902532, -0.022657208, -1.1798851, -1.4930241, -1.51864]\n",
      "size(𝐠) = (33,)\n",
      "\n",
      "d = ([3.6934781104179555], -0.4824304216608587)\n",
      "𝐠 = Float32[0.13658215, 0.2722165, 0.2635103, 0.445483, 0.5775712, 0.59471345, 0.2717103, 0.5913001, 0.139192, 0.44872904, 0.6028575, 0.26636818, 0.13018875, 0.43189383, 0.43399078, 0.13849352, 0.4332277, 0.26812586, 0.26627108, 0.11267991, 0.43342578, 0.42801592, 0.27238804, 0.26358563, 0.433546, 0.60310835, 0.10648056, 0.5848528, 0.59052634, 0.13761558, 0.43416923, 0.57797295, 0.7121654]\n",
      "size(𝐠) = (33,)\n",
      "\n",
      "d = ([6.925460013192927], 1.0005345887070167)\n",
      "𝐠 = Float32[-0.033964626, -0.3641467, -0.35066548, -1.1977835, -1.525501, -1.5226451, -0.36315042, -1.5229663, -0.03286534, -1.2011317, -1.521387, -0.35477996, -0.0361921, -1.1782042, -1.1848242, -0.033130713, -1.180496, -0.35690325, -0.35682, -0.040174965, -1.1834865, -1.1716712, -0.3641537, -0.3529668, -1.1839402, -1.5197935, -0.040931612, -1.5250988, -1.523696, -0.03353171, -1.1848763, -1.5264957, -1.5636101]\n",
      "size(𝐠) = (33,)\n",
      "\n",
      "d = ([0.4914695025826692], 0.35251040704728887)\n",
      "𝐠 = Float32[0.8613384, 0.67206764, 0.6555313, 0.5579442, 0.38620433, 0.4987399, 0.67133456, 0.47649097, 0.88080126, 0.5660492, 0.5584388, 0.66130745, 0.8146743, 0.5302405, 0.53079885, 0.87586266, 0.53256345, 0.6652887, 0.65875715, 0.6866062, 0.53019774, 0.52336156, 0.6726661, 0.6532933, 0.5301524, 0.57141775, 0.6411178, 0.4256271, 0.46679106, 0.86909825, 0.5313693, 0.38109437, 1.2085382]\n",
      "size(𝐠) = (33,)\n",
      "\n",
      "d = ([2.343307753746755], 0.8557355053080764)\n",
      "𝐠 = Float32[-0.49874854, -0.5817246, -0.5648114, -0.7138978, -0.80385625, -0.8802279, -0.58084327, -0.86575156, -0.513227, -0.7210391, -0.916148, -0.570517, -0.46546826, -0.6867158, -0.6892409, -0.5094527, -0.6892081, -0.57421863, -0.56927556, -0.3829864, -0.68835694, -0.6794133, -0.5821802, -0.5639018, -0.68846697, -0.9212722, -0.3559725, -0.8336796, -0.86050326, -0.5044562, -0.68969154, -0.8020314, -1.2799996]\n",
      "size(𝐠) = (33,)\n",
      "\n",
      "d = ([1.680891800033458], 1.022620638112119)\n",
      "𝐠 = Float32[-0.5474115, -0.5276767, -0.5131537, -0.56279063, -0.5552733, -0.63864213, -0.5269613, -0.6227769, -0.56325656, -0.56927395, -0.67893, -0.5181161, -0.51083326, -0.53910655, -0.5406568, -0.5591643, -0.5412086, -0.521411, -0.5166218, -0.41896224, -0.53998303, -0.5329238, -0.5281173, -0.51194155, -0.540028, -0.68593955, -0.3886045, -0.5866645, -0.61646193, -0.5536733, -0.5410856, -0.55234724, -1.0750705]\n",
      "size(𝐠) = (33,)\n",
      "\n",
      "d = ([2.617405863813566], 0.5112854802389979)\n",
      "𝐠 = Float32[-0.269283, -0.34502426, -0.33477876, -0.44880596, -0.5267684, -0.56735736, -0.34447807, -0.55963945, -0.27684727, -0.4530295, -0.58635056, -0.33821642, -0.25183555, -0.43243808, -0.43415263, -0.27486765, -0.43395942, -0.34042415, -0.33759138, -0.20839676, -0.43359166, -0.42798758, -0.34528556, -0.33435538, -0.43367302, -0.588759, -0.19410643, -0.54285604, -0.55698913, -0.2722642, -0.43441316, -0.52605546, -0.78495395]\n",
      "size(𝐠) = (33,)\n",
      "\n",
      "d = ([1.4227369683732585], 0.793185828838602)\n",
      "𝐠 = Float32[-0.22002792, -0.19977245, -0.1943983, -0.20175919, -0.18667838, -0.21959026, -0.19951354, -0.21329315, -0.22621177, -0.204209, -0.2357498, -0.19624358, -0.20567237, -0.19294445, -0.19343106, -0.22462061, -0.1937171, -0.19747931, -0.19562984, -0.1691359, -0.19319372, -0.1906686, -0.19994241, -0.19388846, -0.1932034, -0.23872964, -0.15693827, -0.19888803, -0.21071996, -0.22247547, -0.19359563, -0.1854203, -0.3955524]\n",
      "size(𝐠) = (33,)\n",
      "\n",
      "d = ([5.806737902794445], -0.64754414947737)\n",
      "𝐠 = Float32[0.06124811, 0.3570157, 0.34429955, 0.9210289, 1.2106065, 1.2111514, 0.35614812, 1.2107419, 0.06044513, 0.92475575, 1.2117201, 0.3482848, 0.062547795, 0.9020757, 0.90715003, 0.06063016, 0.9041582, 0.35049102, 0.34946403, 0.063128345, 0.9060481, 0.8960976, 0.35711068, 0.3457283, 0.90638345, 1.2102388, 0.062493917, 1.2116276, 1.2113284, 0.060937386, 0.9072766, 1.2117769, 1.2761166]\n",
      "size(𝐠) = (33,)\n",
      "\n",
      "d = ([4.725620584777873], -0.7593782526072989)\n",
      "𝐠 = Float32[0.12257141, 0.40388057, 0.39018375, 0.82493806, 1.097882, 1.1075451, 0.40301815, 1.1053435, 0.12315057, 0.82951915, 1.1125023, 0.3945819, 0.120448515, 0.80403024, 0.80835426, 0.122970186, 0.8061966, 0.39716113, 0.39510974, 0.11159836, 0.8073243, 0.79777074, 0.40407053, 0.39098248, 0.80759495, 1.1114585, 0.10766616, 1.1026334, 1.1054186, 0.12281062, 0.8085665, 1.0991325, 1.223273]\n",
      "size(𝐠) = (33,)\n",
      "\n",
      "d = ([1.5015105643364048], 0.7573830699309905)\n",
      "𝐠 = Float32[-0.21200122, -0.19586463, -0.19055831, -0.20112953, -0.18992515, -0.22184037, -0.19560726, -0.21574526, -0.21802272, -0.20353316, -0.23743004, -0.19237761, -0.19804914, -0.19244139, -0.19294795, -0.21647157, -0.19320583, -0.19359282, -0.19178988, -0.16269788, -0.19271001, -0.19019066, -0.19603036, -0.19007333, -0.19272166, -0.24025653, -0.15093715, -0.20181946, -0.2132733, -0.21438332, -0.19310868, -0.18873362, -0.39117506]\n",
      "size(𝐠) = (33,)\n",
      "\n",
      "d = ([1.1813537696468757], 1.3621837860038744)\n",
      "𝐠 = Float32[-0.79747677, -0.6896365, -0.67148983, -0.6619258, -0.5730007, -0.68938684, -0.6887806, -0.6669686, -0.8189993, -0.67035866, -0.74752903, -0.6777489, -0.74717236, -0.63199943, -0.63337106, -0.81348103, -0.63459235, -0.6819731, -0.67548615, -0.61710083, -0.632607, -0.6243514, -0.6902322, -0.669576, -0.63261795, -0.75878155, -0.573125, -0.61556345, -0.65761566, -0.80600965, -0.6339452, -0.56826997, -1.3304894]\n",
      "size(𝐠) = (33,)\n",
      "\n",
      "d = ([0.975125961916091], 0.4993099915143233)\n",
      "𝐠 = Float32[0.35713527, 0.29785535, 0.29016876, 0.27373567, 0.2227636, 0.2735017, 0.29749936, 0.2636615, 0.36635932, 0.27736592, 0.29926914, 0.29283014, 0.33542874, 0.261, 0.26148385, 0.3640016, 0.26209265, 0.29463795, 0.29180327, 0.27840748, 0.26117355, 0.2577734, 0.29811546, 0.28928897, 0.26117042, 0.30444753, 0.25887948, 0.24108703, 0.25949284, 0.360798, 0.26173365, 0.2206135, 0.56234735]\n",
      "size(𝐠) = (33,)\n",
      "\n",
      "d = ([2.3140650325152476], 0.7602380061719494)\n",
      "𝐠 = Float32[-0.42121845, -0.48664153, -0.4725254, -0.5935157, -0.6650606, -0.7296275, -0.4859078, -0.7173906, -0.43347374, -0.5994911, -0.76001835, -0.47729018, -0.3930527, -0.5708145, -0.57289505, -0.43028033, -0.5728929, -0.4803847, -0.4762354, -0.3232547, -0.572161, -0.5647236, -0.48702398, -0.47174755, -0.57225066, -0.76440156, -0.30039907, -0.6902343, -0.71293145, -0.42604998, -0.573273, -0.66347855, -1.0670322]\n",
      "size(𝐠) = (33,)\n",
      "\n",
      "d = ([3.0690902490760363], -0.0906220001620631)\n",
      "𝐠 = Float32[0.042613305, 0.06487258, 0.0628819, 0.09290547, 0.11499194, 0.12109385, 0.06476247, 0.119919375, 0.043690894, 0.09369328, 0.12394781, 0.063543804, 0.040091977, 0.08975621, 0.09014971, 0.04340684, 0.09005564, 0.06396154, 0.063463554, 0.033670116, 0.090032384, 0.088882536, 0.06491857, 0.062840976, 0.090053014, 0.124218486, 0.03151699, 0.1174735, 0.119562194, 0.0430383, 0.090196274, 0.114966474, 0.15624395]\n",
      "size(𝐠) = (33,)\n",
      "\n",
      "d = ([1.8901195376666378], 0.9425072420274562)\n",
      "𝐠 = Float32[-0.5141893, -0.5234026, -0.5087369, -0.5834929, -0.6032636, -0.68221366, -0.52266705, -0.66723263, -0.5292626, -0.5899277, -0.719958, -0.513728, -0.4794988, -0.55968696, -0.5614472, -0.525358, -0.5618215, -0.5170185, -0.5123546, -0.3930302, -0.56073993, -0.55341625, -0.5238319, -0.5076494, -0.56080097, -0.7261827, -0.36461842, -0.63334155, -0.6614163, -0.52014, -0.56186706, -0.60072964, -1.091975]\n",
      "size(𝐠) = (33,)\n",
      "\n",
      "d = ([6.512401459777125], 0.4222586955265656)\n",
      "𝐠 = Float32[-0.017108675, -0.14631473, -0.14096744, -0.43991518, -0.56748253, -0.56667185, -0.14593089, -0.5667223, -0.016676847, -0.44133294, -0.56636196, -0.14261581, -0.01794394, -0.43207294, -0.4345133, -0.016780313, -0.43296936, -0.14349, -0.14330763, -0.019222664, -0.43400794, -0.42951077, -0.14633141, -0.14176343, -0.4341733, -0.5657177, -0.019374968, -0.56747013, -0.56700915, -0.016939366, -0.43454617, -0.5679176, -0.58634126]\n",
      "size(𝐠) = (33,)\n",
      "\n",
      "d = ([5.372743635395196], -0.9378646526174487)\n",
      "𝐠 = Float32[0.111305065, 0.5142716, 0.49628538, 1.2078048, 1.6005937, 1.60498, 0.513083, 1.6036769, 0.110662356, 1.2133783, 1.6075711, 0.50197846, 0.11187083, 1.1807358, 1.1872998, 0.110793546, 1.1836399, 0.5052073, 0.5032501, 0.10897506, 1.1858256, 1.1723769, 0.5144529, 0.49791142, 1.1862513, 1.6056536, 0.10673354, 1.6035168, 1.6043092, 0.11106305, 1.1875198, 1.6023088, 1.7174934]\n",
      "size(𝐠) = (33,)\n",
      "\n",
      "d = ([5.818640844002239], -0.8774988670520649)\n",
      "𝐠 = Float32[0.08283351, 0.48594624, 0.46862954, 1.2568803, 1.6516081, 1.652272, 0.48476374, 1.6517304, 0.081730716, 1.2619472, 1.6530069, 0.47405517, 0.08462876, 1.231077, 1.2380035, 0.081985176, 1.2339139, 0.47705668, 0.47567156, 0.08549868, 1.2365006, 1.2229337, 0.48607427, 0.4705857, 1.2369587, 1.6509867, 0.08466465, 1.6529661, 1.6525328, 0.082406625, 1.2381747, 1.6531996, 1.7402503]\n",
      "size(𝐠) = (33,)\n",
      "\n",
      "d = ([4.916013703304221], -0.8094854655456643)\n",
      "𝐠 = Float32[0.11949595, 0.43434432, 0.41947338, 0.9243153, 1.2301127, 1.2382398, 0.43339446, 1.2362952, 0.11970061, 0.9291822, 1.2425216, 0.42422858, 0.1181847, 0.9017092, 0.90661657, 0.11961577, 0.90407544, 0.42699075, 0.42494115, 0.11107837, 0.90546894, 0.89487976, 0.43453416, 0.4204798, 0.9057798, 1.241221, 0.10762752, 1.2343341, 1.2365358, 0.119588, 0.9068329, 1.2315097, 1.3532885]\n",
      "size(𝐠) = (33,)\n",
      "\n",
      "d = ([3.6213117755100788], -0.5491005391467966)\n",
      "𝐠 = Float32[0.1728096, 0.33332565, 0.32271346, 0.537128, 0.6936355, 0.7157507, 0.33271223, 0.7113695, 0.17625572, 0.5411129, 0.726228, 0.3262023, 0.16443114, 0.5205381, 0.52304035, 0.17533563, 0.5221605, 0.32835466, 0.32604778, 0.14175029, 0.5223591, 0.5158194, 0.333539, 0.3227691, 0.5225013, 0.7266461, 0.13378617, 0.7029746, 0.7103292, 0.17417324, 0.5232614, 0.6940666, 0.8635407]\n",
      "size(𝐠) = (33,)\n",
      "\n",
      "d = ([0.6842790769238389], 0.6104474764688338)\n",
      "𝐠 = Float32[0.38242123, 0.30551627, 0.2978521, 0.26411724, 0.19554198, 0.2473804, 0.30517045, 0.23721461, 0.39157993, 0.26781908, 0.27438617, 0.30051985, 0.36063337, 0.2513342, 0.25168154, 0.38924918, 0.25241584, 0.30234814, 0.2994006, 0.30192894, 0.25139073, 0.24813464, 0.30578643, 0.29687837, 0.2513768, 0.28008422, 0.281398, 0.21392588, 0.2328283, 0.38606673, 0.25193986, 0.1932427, 0.55997324]\n",
      "size(𝐠) = (33,)\n",
      "\n",
      "d = ([7.2797874279439405], 1.054178368948895)\n",
      "𝐠 = Float32[-0.025463501, -0.33155882, -0.3191622, -1.1781176, -1.4833373, -1.4803381, -0.33061975, -1.4807348, -0.024484167, -1.1810144, -1.4789349, -0.32291272, -0.02750699, -1.1602676, -1.1667323, -0.02472137, -1.1624004, -0.32480052, -0.3250257, -0.03148736, -1.1654505, -1.1542009, -0.33153704, -0.32151425, -1.1658976, -1.4775155, -0.032380953, -1.4827797, -1.4813926, -0.025076589, -1.1667551, -1.4841694, -1.5123464]\n",
      "size(𝐠) = (33,)\n",
      "\n",
      "d = ([4.490828795721963], -1.2012608475571012)\n",
      "𝐠 = Float32[0.2435206, 0.71231383, 0.68845206, 1.3832268, 1.8377463, 1.8599714, 0.71083796, 1.8551316, 0.24554685, 1.3914176, 1.8710877, 0.69615346, 0.2374778, 1.3466166, 1.3537341, 0.2449668, 1.350363, 0.70072156, 0.6967992, 0.21631524, 1.3519968, 1.3357766, 0.71267694, 0.6895702, 1.3524354, 1.8696743, 0.20762353, 1.8481451, 1.8548852, 0.2443385, 1.3541316, 1.839798, 2.0846055]\n",
      "size(𝐠) = (33,)\n",
      "\n",
      "d = ([7.886541573489708], 1.354520990414298)\n",
      "𝐠 = Float32[-0.019968623, -0.36268994, -0.3489313, -1.4712249, -1.815721, -1.8121204, -0.3616033, -1.8126653, -0.018993594, -1.4740855, -1.8103184, -0.35303053, -0.02208372, -1.451714, -1.4596264, -0.019230327, -1.4541311, -0.35500062, -0.35583544, -0.026653573, -1.4581037, -1.4448658, -0.362611, -0.35199934, -1.4586577, -1.8088615, -0.027854629, -1.8149188, -1.813344, -0.019581573, -1.459603, -1.8164935, -1.8390707]\n",
      "size(𝐠) = (33,)\n",
      "\n",
      "d = ([0.8436252736489598], 0.8033074946864318)\n",
      "𝐠 = Float32[0.037064772, 0.03028262, 0.029510977, 0.027070956, 0.021130329, 0.02629218, 0.030247303, 0.025286242, 0.03799169, 0.027439129, 0.028943207, 0.029778792, 0.034873113, 0.02578861, 0.025831008, 0.037755236, 0.02589794, 0.02996145, 0.02967135, 0.02905178, 0.025800712, 0.025465507, 0.030309228, 0.029418254, 0.025799902, 0.029488148, 0.027039915, 0.022979334, 0.024856359, 0.037433226, 0.02585651, 0.02090665, 0.056405384]\n",
      "size(𝐠) = (33,)\n",
      "\n",
      "d = ([5.736945860891658], 0.059536644561661634)\n",
      "𝐠 = Float32[-0.008184112, -0.045945257, -0.04431336, -0.11675146, -0.15369415, -0.15380888, -0.045834485, -0.15374719, -0.008086553, -0.11723416, -0.15390445, -0.044825636, -0.008336138, -0.11431532, -0.11495748, -0.008108837, -0.114581965, -0.04511034, -0.04497114, -0.008365031, -0.114817314, -0.11354958, -0.045958135, -0.044490922, -0.11485964, -0.1537162, -0.008266555, -0.15384372, -0.1538202, -0.008146448, -0.11497433, -0.15384561, -0.16242197]\n",
      "size(𝐠) = (33,)\n",
      "\n",
      "d = ([4.238043239940401], -0.7916115421017871)\n",
      "𝐠 = Float32[0.17315868, 0.44677138, 0.43201178, 0.821698, 1.0869895, 1.104908, 0.4458761, 1.1011461, 0.17523842, 0.82690376, 1.1136836, 0.43680143, 0.1675456, 0.798929, 0.8030585, 0.17466407, 0.80122817, 0.43967646, 0.43702024, 0.14997709, 0.80202156, 0.79226625, 0.44701728, 0.43252292, 0.8022711, 1.1131418, 0.1431926, 1.0950495, 1.1006906, 0.17398986, 0.8033226, 1.0881301, 1.2608662]\n",
      "size(𝐠) = (33,)\n",
      "\n"
     ]
    },
    {
     "ename": "LoadError",
     "evalue": "InterruptException:",
     "output_type": "error",
     "traceback": [
      "InterruptException:",
      "",
      "Stacktrace:",
      " [1] plot(la::Laplace, X::Matrix{Float64}, y::Vector{Float64}; link_approx::Symbol, target::Nothing, colorbar::Bool, title::String, length_out::Int64, zoom::Int64, xlims::Nothing, ylims::Nothing, linewidth::Float64, lw::Int64, kwargs::Base.Pairs{Symbol, Union{}, Tuple{}, NamedTuple{(), Tuple{}}})",
      "   @ LaplaceRedux ~/Builds/navimakarov/LaplaceRedux.jl/src/plotting.jl:62",
      " [2] top-level scope",
      "   @ In[21]:7"
     ]
    }
   ],
   "source": [
    "data = val[:data]\n",
    "# Fit unbatched LA\n",
    "if outdim == 1\n",
    "    la = Laplace(nn; likelihood=likelihood, λ=λ, subset_of_weights=:last_layer)\n",
    "    fit!(la, data)\n",
    "    # optimize_prior!(la; verbose=true)\n",
    "    plot(la, X, y, title=\"batchsize=N/A\")                              # standard\n",
    "    # savefig(@sprintf(\"fig-01-%02d.png\", 0))\n",
    "    # plot(la, X, y; xlims=(-5, 5), ylims=(-5, 5))  # lims\n",
    "    # plot(la, X, y; link_approx=:plugin)         # plugin approximation\n",
    "end"
   ]
  },
  {
   "cell_type": "code",
   "execution_count": 162,
   "id": "ddd443fd-cc0a-4974-8e0f-9b19213084dd",
   "metadata": {
    "tags": []
   },
   "outputs": [
    {
     "data": {
      "text/plain": [
       "(1, 100)"
      ]
     },
     "execution_count": 162,
     "metadata": {},
     "output_type": "execute_result"
    }
   ],
   "source": [
    "size(X)"
   ]
  },
  {
   "cell_type": "code",
   "execution_count": 131,
   "id": "adeca19e-4941-4783-9ef9-eac5d75e5361",
   "metadata": {
    "tags": []
   },
   "outputs": [
    {
     "data": {
      "text/plain": [
       "loss (generic function with 1 method)"
      ]
     },
     "execution_count": 131,
     "metadata": {},
     "output_type": "execute_result"
    }
   ],
   "source": [
    "loss(x, y) = Flux.Losses.mse(nn(x), y, agg=sum) + weight_regularization()"
   ]
  },
  {
   "cell_type": "code",
   "execution_count": 16,
   "id": "8452b6b4-b84d-4f6f-b25b-52f4d1bb482d",
   "metadata": {
    "tags": []
   },
   "outputs": [
    {
     "name": "stdout",
     "output_type": "stream",
     "text": [
      "loss(x_1, y_1) = 1.3200361396132145\n",
      "loss(x_2, y_2) = 0.4799823299249575\n",
      "loss(x_1, y_1) + loss(x_2, y_2) = 1.800018469538172\n",
      "loss(x_b, y_b) = 1.798705642858483\n"
     ]
    },
    {
     "data": {
      "text/plain": [
       "1.798705642858483"
      ]
     },
     "execution_count": 16,
     "metadata": {},
     "output_type": "execute_result"
    }
   ],
   "source": [
    "# The loss function should be summative\n",
    "# The loss of the batch is the sum of losses of its part\n",
    "x_1 = [1.5261694931931657]\n",
    "y_1 = [1.5517179074064962]\n",
    "x_2 = [5.795661372040879]\n",
    "y_2 = [-0.6585143352250986]\n",
    "x_b = hcat(x_1, x_2)\n",
    "y_b = hcat(y_1, y_2)\n",
    "@show loss(x_1, y_1)\n",
    "@show loss(x_2, y_2)\n",
    "@show loss(x_1, y_1) + loss(x_2, y_2)\n",
    "@show loss(x_b, y_b)"
   ]
  },
  {
   "cell_type": "code",
   "execution_count": 18,
   "id": "f44b826e-4d8c-439f-bfbe-f4ee928eaf2f",
   "metadata": {
    "tags": []
   },
   "outputs": [
    {
     "name": "stdout",
     "output_type": "stream",
     "text": [
      "d = ([1.8683807456478103 3.043110314601826], [0.8256904061703494 0.12421756603816148])\n",
      "𝐠 = Float32[-0.62440234, -1.0722754, -0.62052757, -0.7423202, -0.70960826, -0.72810006, -0.76226383, -0.75171643, -0.5064017, -0.7872902, -0.45742273, -0.9252133, -0.9557519, -0.59977037, -0.7731659, -1.0434592, -0.75062907, -0.7276266, -0.48974162, -0.7663008, -0.6112185, -0.7055156, -0.70109034, -0.9831177, -1.1655618, -0.81173587, -0.76441526, -0.7809913, -0.5757925, -0.79878426, -0.7657864, -0.76568085, -1.5365226]\n",
      "size(𝐠) = (33,)\n",
      "\n",
      "d = ([1.8683807456478103], [0.8256904061703494])\n",
      "𝐠 = Float32[-0.5104282, -0.7385333, -0.5071917, -0.55763745, -0.5333504, -0.5470956, -0.5341573, -0.5647484, -0.41213793, -0.55287856, -0.3715398, -0.615899, -0.64141333, -0.48986048, -0.5422926, -0.7144764, -0.56391877, -0.5467677, -0.39829504, -0.5371365, -0.49942675, -0.49233288, -0.5271255, -0.6641744, -0.81553173, -0.5711514, -0.53575194, -0.54816467, -0.46989283, -0.56467885, -0.5750663, -0.5366797, -1.1152413]\n",
      "size(𝐠) = (33,)\n",
      "\n",
      "d = ([3.043110314601826], [0.12421756603816148])\n",
      "𝐠 = Float32[-0.11397418, -0.33374193, -0.113335796, -0.18468268, -0.1762578, -0.18100439, -0.22810645, -0.18696797, -0.09426379, -0.23441155, -0.085882895, -0.30931407, -0.31433836, -0.10990985, -0.23087321, -0.32898256, -0.18671022, -0.18085885, -0.09144659, -0.22916423, -0.11179177, -0.21318266, -0.17396478, -0.31894314, -0.35002983, -0.24058437, -0.22866325, -0.23282652, -0.105899654, -0.2341053, -0.19072007, -0.22900103, -0.4212812]\n",
      "size(𝐠) = (33,)\n",
      "\n"
     ]
    },
    {
     "ename": "LoadError",
     "evalue": "AssertionError: isapprox(H_1 + H_2, H_batch, atol = 0.05)",
     "output_type": "error",
     "traceback": [
      "AssertionError: isapprox(H_1 + H_2, H_batch, atol = 0.05)",
      "",
      "Stacktrace:",
      " [1] fit!(la::Laplace, data::DataLoader{Tuple{Matrix{Float64}, Matrix{Float64}}, Random._GLOBAL_RNG, Val{nothing}}; override::Bool, batchsize::Int64)",
      "   @ LaplaceRedux ~/Builds/navimakarov/LaplaceRedux.jl/src/laplace.jl:159",
      " [2] fit!(la::Laplace, data::DataLoader{Tuple{Matrix{Float64}, Matrix{Float64}}, Random._GLOBAL_RNG, Val{nothing}})",
      "   @ LaplaceRedux ~/Builds/navimakarov/LaplaceRedux.jl/src/laplace.jl:126",
      " [3] top-level scope",
      "   @ In[18]:11"
     ]
    }
   ],
   "source": [
    "# Now batch the same data, repeat the procedure\n",
    "\n",
    "# X = reduce(hcat, x)\n",
    "Y = reduce(hcat, y)\n",
    "\n",
    "b = 50\n",
    "data = DataLoader((X, Y), batchsize=b)\n",
    "# Fit LA\n",
    "if outdim == 1\n",
    "    la = Laplace(nn; likelihood=likelihood, λ=λ, subset_of_weights=:last_layer)\n",
    "    fit!(la, data)\n",
    "    # optimize_prior!(la; verbose=false)\n",
    "    plot(la, X, y, title=\"batchsize=$b\")                              # standard\n",
    "    # savefig(@sprintf(\"fig-%02d.png\", batchsize))\n",
    "    # plot(la, X, y; xlims=(-5, 5), ylims=(-5, 5))  # lims\n",
    "    # plot(la, X, y; link_approx=:plugin)         # plugin approximation\n",
    "end"
   ]
  },
  {
   "cell_type": "code",
   "execution_count": 167,
   "id": "02b1937c-640e-46c4-bd9a-5839aecede08",
   "metadata": {
    "tags": []
   },
   "outputs": [
    {
     "data": {
      "text/plain": [
       "33-element Vector{Float32}:\n",
       " -1.5193033\n",
       " -1.5851523\n",
       " -2.04893\n",
       " -1.5471814\n",
       " -1.5022987\n",
       " -1.2056206\n",
       " -1.4960097\n",
       " -1.6127374\n",
       " -1.528202\n",
       " -1.5929381\n",
       " -1.4918164\n",
       " -1.5876769\n",
       " -1.599696\n",
       "  ⋮\n",
       " -1.6216621\n",
       " -1.0841335\n",
       " -1.6034269\n",
       " -1.4396887\n",
       " -2.1658235\n",
       " -1.8749877\n",
       " -1.4993583\n",
       " -1.8684943\n",
       " -1.8874115\n",
       " -1.5460135\n",
       " -1.5593024\n",
       " -3.1463819"
      ]
     },
     "execution_count": 167,
     "metadata": {},
     "output_type": "execute_result"
    }
   ],
   "source": [
    "g_1 = Float32[-0.52817833, -0.43119496, -0.5210522, -0.4708877, -0.45764622, -0.42256445, -0.45563537, -0.43949524, -0.53112304, -0.43344456, -0.4039374, -0.43194032, -0.43552247, -0.4571392, -0.43146086, -0.4209185, -0.36306658, -0.42193952, -0.49689957, -0.47045025, -0.40221792, -0.44249928, -0.38054764, -0.43663415, -0.4390404, -0.56177676, -0.46146542, -0.45663112, -0.45890695, -0.4663252, -0.47067362, -0.423838, -0.9058165]\n",
    "g_2 = Float32[-0.9911245, -1.1539569, -1.5278772, -1.0762932, -1.044652, -0.78305584, -1.0403739, -1.1732417, -0.99707854, -1.1594931, -1.0878786, -1.1557361, -1.1641731, -1.0437337, -1.1544219, -1.3352259, -0.67081517, -1.1303514, -0.92817104, -1.0751797, -0.7444584, -1.1791624, -0.7035855, -1.1667923, -1.0006479, -1.6040461, -1.4135218, -1.0427268, -1.4095868, -1.4210858, -1.0753393, -1.1354641, -2.2405646]\n",
    "g_batch = Float32[-1.5193033, -1.5851523, -2.04893, -1.5471814, -1.5022987, -1.2056206, -1.4960097, -1.6127374, -1.528202, -1.5929381, -1.4918164, -1.5876769, -1.599696, -1.5008733, -1.5858833, -1.7561449, -1.033882, -1.5522914, -1.425071, -1.5456303, -1.1466767, -1.6216621, -1.0841335, -1.6034269, -1.4396887, -2.1658235, -1.8749877, -1.4993583, -1.8684943, -1.8874115, -1.5460135, -1.5593024, -3.1463819]"
   ]
  },
  {
   "cell_type": "code",
   "execution_count": 174,
   "id": "d423cc50-c493-4cc7-b18f-664020a06c54",
   "metadata": {
    "tags": []
   },
   "outputs": [
    {
     "data": {
      "text/plain": [
       "33×33 Matrix{Float32}:\n",
       " 0.52349   0.609495  0.806992  0.568475  …  0.567971  0.599728  1.18342\n",
       " 0.427368  0.49758   0.658813  0.464092     0.463681  0.489606  0.96612\n",
       " 0.516428  0.601272  0.796104  0.560805     0.560308  0.591636  1.16745\n",
       " 0.466708  0.543384  0.719459  0.506813     0.506364  0.534676  1.05505\n",
       " 0.453584  0.528104  0.699227  0.492562     0.492125  0.519641  1.02539\n",
       " 0.418814  0.487621  0.645627  0.454803  …  0.4544    0.479807  0.946783\n",
       " 0.451591  0.525784  0.696155  0.490397     0.489963  0.517358  1.02088\n",
       " 0.435594  0.507159  0.671495  0.473026     0.472607  0.499031  0.984717\n",
       " 0.526409  0.612893  0.811491  0.571644     0.571137  0.603071  1.19002\n",
       " 0.429598  0.500176  0.66225   0.466513     0.4661    0.492161  0.971161\n",
       " 0.400352  0.466126  0.617167  0.434755  …  0.43437   0.458656  0.905048\n",
       " 0.428107  0.498441  0.659952  0.464894     0.464482  0.490453  0.96779\n",
       " 0.431657  0.502574  0.665425  0.46875      0.468334  0.49452   0.975816\n",
       " ⋮                                       ⋱  ⋮                   \n",
       " 0.438572  0.510625  0.676085  0.476259     0.475837  0.502442  0.991448\n",
       " 0.37717   0.439136  0.58143   0.409581     0.409218  0.432098  0.852642\n",
       " 0.432759  0.503857  0.667123  0.469946     0.46953   0.495782  0.978307\n",
       " 0.435144  0.506634  0.6708    0.472536     0.472117  0.498515  0.983698\n",
       " 0.556791  0.648266  0.858326  0.604637  …  0.604101  0.637877  1.2587\n",
       " 0.45737   0.532511  0.705063  0.496672     0.496232  0.523977  1.03394\n",
       " 0.452578  0.526933  0.697676  0.491469     0.491033  0.518488  1.02311\n",
       " 0.454834  0.529559  0.701153  0.493918     0.493481  0.521072  1.02821\n",
       " 0.462186  0.538119  0.712488  0.501903     0.501458  0.529495  1.04483\n",
       " 0.466496  0.543137  0.719131  0.506583  …  0.506134  0.534433  1.05457\n",
       " 0.420076  0.489091  0.647572  0.456174     0.45577   0.481253  0.949636\n",
       " 0.897777  1.04527   1.38398   0.974924     0.97406   1.02852   2.02954"
      ]
     },
     "execution_count": 174,
     "metadata": {},
     "output_type": "execute_result"
    }
   ],
   "source": [
    "g_1 * g_2'"
   ]
  },
  {
   "cell_type": "code",
   "execution_count": 176,
   "id": "6ce70cbe-2e18-4329-91d6-e840cacf2e98",
   "metadata": {
    "tags": []
   },
   "outputs": [
    {
     "data": {
      "text/plain": [
       "33×33 adjoint(::Matrix{Float32}) with eltype Float32:\n",
       " 0.52349   0.609495  0.806992  0.568475  …  0.567971  0.599728  1.18342\n",
       " 0.427368  0.49758   0.658813  0.464092     0.463681  0.489606  0.96612\n",
       " 0.516428  0.601272  0.796104  0.560805     0.560308  0.591636  1.16745\n",
       " 0.466708  0.543384  0.719459  0.506813     0.506364  0.534676  1.05505\n",
       " 0.453584  0.528104  0.699227  0.492562     0.492125  0.519641  1.02539\n",
       " 0.418814  0.487621  0.645627  0.454803  …  0.4544    0.479807  0.946783\n",
       " 0.451591  0.525784  0.696155  0.490397     0.489963  0.517358  1.02088\n",
       " 0.435594  0.507159  0.671495  0.473026     0.472607  0.499031  0.984717\n",
       " 0.526409  0.612893  0.811491  0.571644     0.571137  0.603071  1.19002\n",
       " 0.429598  0.500176  0.66225   0.466513     0.4661    0.492161  0.971161\n",
       " 0.400352  0.466126  0.617167  0.434755  …  0.43437   0.458656  0.905048\n",
       " 0.428107  0.498441  0.659952  0.464894     0.464482  0.490453  0.96779\n",
       " 0.431657  0.502574  0.665425  0.46875      0.468334  0.49452   0.975816\n",
       " ⋮                                       ⋱  ⋮                   \n",
       " 0.438572  0.510625  0.676085  0.476259     0.475837  0.502442  0.991448\n",
       " 0.37717   0.439136  0.58143   0.409581     0.409218  0.432098  0.852642\n",
       " 0.432759  0.503857  0.667123  0.469946     0.46953   0.495782  0.978307\n",
       " 0.435144  0.506634  0.6708    0.472536     0.472117  0.498515  0.983698\n",
       " 0.556791  0.648266  0.858326  0.604637  …  0.604101  0.637877  1.2587\n",
       " 0.45737   0.532511  0.705063  0.496672     0.496232  0.523977  1.03394\n",
       " 0.452578  0.526933  0.697676  0.491469     0.491033  0.518488  1.02311\n",
       " 0.454834  0.529559  0.701153  0.493918     0.493481  0.521072  1.02821\n",
       " 0.462186  0.538119  0.712488  0.501903     0.501458  0.529495  1.04483\n",
       " 0.466496  0.543137  0.719131  0.506583  …  0.506134  0.534433  1.05457\n",
       " 0.420076  0.489091  0.647572  0.456174     0.45577   0.481253  0.949636\n",
       " 0.897777  1.04527   1.38398   0.974924     0.97406   1.02852   2.02954"
      ]
     },
     "execution_count": 176,
     "metadata": {},
     "output_type": "execute_result"
    }
   ],
   "source": [
    "(g_2 * g_1')'"
   ]
  },
  {
   "cell_type": "code",
   "execution_count": 172,
   "id": "15184b47-c530-481f-abfa-41fcec7eda7b",
   "metadata": {
    "tags": []
   },
   "outputs": [
    {
     "data": {
      "text/plain": [
       "true"
      ]
     },
     "execution_count": 172,
     "metadata": {},
     "output_type": "execute_result"
    }
   ],
   "source": [
    "isapprox(g_1 + g_2, g_batch, atol=.00005)"
   ]
  },
  {
   "cell_type": "code",
   "execution_count": 59,
   "id": "f45ee3d2-93de-4824-8938-da50e6d10dd1",
   "metadata": {
    "tags": []
   },
   "outputs": [
    {
     "name": "stdout",
     "output_type": "stream",
     "text": [
      "x = [5.175778702715506 7.783548482579036]\n",
      "[x[1]] = [5.175778702715506]\n",
      "y = [-1.2076412794280516 0.7338655322191958]\n"
     ]
    }
   ],
   "source": [
    "for d in data\n",
    "    x, y = d\n",
    "    @show x\n",
    "    @show [x[1]]\n",
    "    @show y\n",
    "    break\n",
    "end"
   ]
  },
  {
   "cell_type": "code",
   "execution_count": 158,
   "id": "fe4c2c14-0dcf-4b90-86a1-7fce36fea170",
   "metadata": {
    "tags": []
   },
   "outputs": [],
   "source": [
    "# Plotting confidence range progression for increasing batchsizes\n",
    "# Save to a series of PNG images, which can be merged to a gif via imagemagick\n",
    "for batchsize in range(1, 1)\n",
    "    # Now batch the same data, repeat the procedure\n",
    "    Y = reduce(hcat, y)\n",
    "    data = DataLoader((X, Y), batchsize=batchsize)\n",
    "    # Fit LA\n",
    "    if outdim == 1\n",
    "        la = Laplace(nn; likelihood=likelihood, λ=λ, subset_of_weights=:last_layer)\n",
    "        fit!(la, data)\n",
    "        # optimize_prior!(la; verbose=true, show_every=10_000)\n",
    "        plot(la, X, y, title=\"batchsize=$batchsize\")                              # standard\n",
    "        savefig(@sprintf(\"fig-01-%02d.png\", batchsize))\n",
    "        # plot(la, X, y; xlims=(-5, 5), ylims=(-5, 5))  # lims\n",
    "        # plot(la, X, y; link_approx=:plugin)         # plugin approximation\n",
    "    end\n",
    "end"
   ]
  },
  {
   "cell_type": "code",
   "execution_count": null,
   "id": "e0febbac-12ed-46df-a1fe-34990a15e2cf",
   "metadata": {},
   "outputs": [],
   "source": [
    "\n",
    "    # lossf = la.curvature.loss_fun\n",
    "    # x_1 = [1.5261694931931657]\n",
    "    # y_1 = [1.5517179074064962]\n",
    "    # x_2 = [5.795661372040879]\n",
    "    # y_2 = [-0.6585143352250986]\n",
    "    # x_b = hcat(x_1, x_2)\n",
    "    # y_b = hcat(y_1, y_2)\n",
    "    # @show lossf(x_1, y_1)\n",
    "    # @show lossf(x_2, y_2)\n",
    "    # @show lossf(x_1, y_1) + lossf(x_2, y_2)\n",
    "    # @show lossf(x_b, y_b)\n",
    "    # @assert isapprox(lossf(x_1, y_1) + lossf(x_2, y_2), lossf(x_b, y_b), atol=.05)\n",
    "        # x, y = d\n",
    "        # if length(size(x)) == 2 && size(x, 2) == 2\n",
    "        #     # @show x\n",
    "        #     # @show y\n",
    "        #     # @show [x[1]]\n",
    "        #     # @show [y[1]]\n",
    "        #     loss_1, H_1 = hessian_approximation(la, ([x[1]], [y[1]]))\n",
    "        #     loss_2, H_2 = hessian_approximation(la, ([x[2]], [y[2]]))\n",
    "        #     @assert isapprox(loss_1 + loss_2, loss_batch, atol=.05) \"$loss_1 + $loss_2 == $(loss_1 + loss_2) != $loss_batch\"\n",
    "        #     @assert isapprox(H_1 + H_2, H_batch, atol=.05) # || isapprox(.5H_1 + .5H_2, H_batch, atol=3)\n",
    "        # end\n",
    "        # @show H_1\n",
    "        # @show H_2\n",
    "        # @show H_batch\n",
    "        # @assert isapprox(.5H_1 + .5H_2, H_batch, atol=3) || isapprox(H_1 + H_2, H_batch, atol=3)"
   ]
  },
  {
   "cell_type": "code",
   "execution_count": 25,
   "id": "46ffe554-4f0c-43f4-bf2e-9be5a0f73ec3",
   "metadata": {
    "tags": []
   },
   "outputs": [
    {
     "data": {
      "text/plain": [
       "(:data, :batchsize, :buffer, :partial, :shuffle, :parallel, :collate, :rng)"
      ]
     },
     "execution_count": 25,
     "metadata": {},
     "output_type": "execute_result"
    }
   ],
   "source": [
    "fieldnames(DataLoader)"
   ]
  }
 ],
 "metadata": {
  "kernelspec": {
   "display_name": "Julia 1.9.0",
   "language": "julia",
   "name": "julia-1.9"
  },
  "language_info": {
   "file_extension": ".jl",
   "mimetype": "application/julia",
   "name": "julia",
   "version": "1.9.0"
  }
 },
 "nbformat": 4,
 "nbformat_minor": 5
}
