{
 "cells": [
  {
   "cell_type": "markdown",
   "id": "782c431a-e579-49e8-b2ba-3bf6ef351778",
   "metadata": {},
   "source": [
    "## Zygote self-autodifferentiability"
   ]
  },
  {
   "cell_type": "code",
   "execution_count": 1,
   "id": "4e24e83a-de46-464a-856b-d2c972da3a56",
   "metadata": {
    "tags": []
   },
   "outputs": [],
   "source": [
    "using Zygote"
   ]
  },
  {
   "cell_type": "code",
   "execution_count": 53,
   "id": "28e3aa65-dd2a-4e5e-93a9-a384e24507f4",
   "metadata": {
    "tags": []
   },
   "outputs": [
    {
     "data": {
      "text/plain": [
       "fj (generic function with 1 method)"
      ]
     },
     "execution_count": 53,
     "metadata": {},
     "output_type": "execute_result"
    }
   ],
   "source": [
    "function fj(x, bias)\n",
    "    jacc = Zygote.jacobian(x->x.^2, x)\n",
    "    jac = jacc[1]\n",
    "    # @info jacc\n",
    "    @info \"jac\" jac\n",
    "    return jac * x .+ bias\n",
    "end"
   ]
  },
  {
   "cell_type": "code",
   "execution_count": 52,
   "id": "43c5126f-9b56-4f60-84d7-e2fcf069ccca",
   "metadata": {
    "tags": []
   },
   "outputs": [
    {
     "data": {
      "text/plain": [
       "fg (generic function with 1 method)"
      ]
     },
     "execution_count": 52,
     "metadata": {},
     "output_type": "execute_result"
    }
   ],
   "source": [
    "function fg(x, bias)\n",
    "    grad = Zygote.gradient(x->sum(x.^2), x)[1]\n",
    "    @info \"grad\" grad\n",
    "    return grad .* x .+ bias\n",
    "end"
   ]
  },
  {
   "cell_type": "code",
   "execution_count": 54,
   "id": "42d54201-f1a8-4e6c-9ccb-3fadcebe8b94",
   "metadata": {
    "tags": []
   },
   "outputs": [
    {
     "name": "stderr",
     "output_type": "stream",
     "text": [
      "\u001b[36m\u001b[1m┌ \u001b[22m\u001b[39m\u001b[36m\u001b[1mInfo: \u001b[22m\u001b[39mjac\n",
      "\u001b[36m\u001b[1m│ \u001b[22m\u001b[39m  jac =\n",
      "\u001b[36m\u001b[1m│ \u001b[22m\u001b[39m   3×3 Matrix{Float64}:\n",
      "\u001b[36m\u001b[1m│ \u001b[22m\u001b[39m    2.0  0.0  0.0\n",
      "\u001b[36m\u001b[1m│ \u001b[22m\u001b[39m    0.0  4.0  0.0\n",
      "\u001b[36m\u001b[1m└ \u001b[22m\u001b[39m    0.0  0.0  6.0\n"
     ]
    },
    {
     "data": {
      "text/plain": [
       "3-element Vector{Float64}:\n",
       "  2.0\n",
       "  8.0\n",
       " 18.0"
      ]
     },
     "execution_count": 54,
     "metadata": {},
     "output_type": "execute_result"
    }
   ],
   "source": [
    "x = [1., 2., 3.]\n",
    "b = [0., 0., 0.]"
   ]
  },
  {
   "cell_type": "code",
   "execution_count": 99,
   "id": "c1811905-dd3a-431b-b4fa-8dae1281e91a",
   "metadata": {
    "tags": []
   },
   "outputs": [
    {
     "data": {
      "text/plain": [
       "altjacobian (generic function with 2 methods)"
      ]
     },
     "execution_count": 99,
     "metadata": {},
     "output_type": "execute_result"
    }
   ],
   "source": [
    "function altjacobian(f, arg, outdim)\n",
    "   (reduce(vcat, map(outidx -> gradient(x -> f(x)[outidx], arg)[1]', range(1, outdim))), ) \n",
    "end"
   ]
  },
  {
   "cell_type": "code",
   "execution_count": null,
   "id": "76a06687-ebfe-4e84-b3a9-71525e4bd881",
   "metadata": {},
   "outputs": [],
   "source": [
    "for i in range(1,3)\n",
    "    @info Zygote.gradient()\n",
    "end"
   ]
  },
  {
   "cell_type": "code",
   "execution_count": 85,
   "id": "41a4b67f-0093-4689-9c01-c616314794d4",
   "metadata": {
    "tags": []
   },
   "outputs": [
    {
     "data": {
      "text/plain": [
       "f (generic function with 2 methods)"
      ]
     },
     "execution_count": 85,
     "metadata": {},
     "output_type": "execute_result"
    }
   ],
   "source": [
    "function f(x)\n",
    "    @info \"f run\"\n",
    "    [x[1]^2, x[2] + x[3]]\n",
    "end"
   ]
  },
  {
   "cell_type": "code",
   "execution_count": 68,
   "id": "1df9f9b9-82f9-4547-9f74-a3753a9084f4",
   "metadata": {
    "tags": []
   },
   "outputs": [
    {
     "data": {
      "text/plain": [
       "2-element Vector{Int64}:\n",
       " 4\n",
       " 7"
      ]
     },
     "execution_count": 68,
     "metadata": {},
     "output_type": "execute_result"
    }
   ],
   "source": [
    "f([2,3,4])"
   ]
  },
  {
   "cell_type": "code",
   "execution_count": 105,
   "id": "8085f84e-5065-4633-8ef8-fcf442602700",
   "metadata": {
    "tags": []
   },
   "outputs": [
    {
     "name": "stderr",
     "output_type": "stream",
     "text": [
      "\u001b[36m\u001b[1m[ \u001b[22m\u001b[39m\u001b[36m\u001b[1mInfo: \u001b[22m\u001b[39mf run\n"
     ]
    },
    {
     "data": {
      "text/plain": [
       "([4.0 0.0 0.0; 0.0 1.0 1.0],)"
      ]
     },
     "execution_count": 105,
     "metadata": {},
     "output_type": "execute_result"
    }
   ],
   "source": [
    "jacobian(f, [2.,3.,4.])"
   ]
  },
  {
   "cell_type": "code",
   "execution_count": 104,
   "id": "77ce19c9-83d6-4d4c-b6f1-cccd4f392f3c",
   "metadata": {
    "tags": []
   },
   "outputs": [
    {
     "name": "stderr",
     "output_type": "stream",
     "text": [
      "\u001b[36m\u001b[1m[ \u001b[22m\u001b[39m\u001b[36m\u001b[1mInfo: \u001b[22m\u001b[39mf run\n",
      "\u001b[36m\u001b[1m[ \u001b[22m\u001b[39m\u001b[36m\u001b[1mInfo: \u001b[22m\u001b[39mf run\n"
     ]
    },
    {
     "data": {
      "text/plain": [
       "([4.0 0.0 0.0; 0.0 1.0 1.0],)"
      ]
     },
     "execution_count": 104,
     "metadata": {},
     "output_type": "execute_result"
    }
   ],
   "source": [
    "altjacobian(f, [2.,3.,4.], 2)"
   ]
  },
  {
   "cell_type": "code",
   "execution_count": 87,
   "id": "cfccc454-5732-4560-8f49-374240986272",
   "metadata": {
    "tags": []
   },
   "outputs": [
    {
     "name": "stderr",
     "output_type": "stream",
     "text": [
      "\u001b[36m\u001b[1m[ \u001b[22m\u001b[39m\u001b[36m\u001b[1mInfo: \u001b[22m\u001b[39mf run\n"
     ]
    },
    {
     "data": {
      "text/plain": [
       "3-element Vector{Float64}:\n",
       " 4.0\n",
       " 0.0\n",
       " 0.0"
      ]
     },
     "execution_count": 87,
     "metadata": {},
     "output_type": "execute_result"
    }
   ],
   "source": [
    "g = gradient(x -> f(x)[1], [2,3,4])[1]"
   ]
  },
  {
   "cell_type": "code",
   "execution_count": 88,
   "id": "f1788ebe-34c8-4a3e-8ece-13436d03c892",
   "metadata": {
    "tags": []
   },
   "outputs": [
    {
     "name": "stderr",
     "output_type": "stream",
     "text": [
      "\u001b[36m\u001b[1m[ \u001b[22m\u001b[39m\u001b[36m\u001b[1mInfo: \u001b[22m\u001b[39mf run\n",
      "\u001b[36m\u001b[1m[ \u001b[22m\u001b[39m\u001b[36m\u001b[1mInfo: \u001b[22m\u001b[39mf run\n"
     ]
    },
    {
     "data": {
      "text/plain": [
       "2×3 Matrix{Float64}:\n",
       " 4.0  0.0  0.0\n",
       " 0.0  1.0  1.0"
      ]
     },
     "execution_count": 88,
     "metadata": {},
     "output_type": "execute_result"
    }
   ],
   "source": [
    "arg = [2,3,4]\n"
   ]
  },
  {
   "cell_type": "code",
   "execution_count": 96,
   "id": "8041aefc-5724-4b8a-8cdf-53c4a425f7d7",
   "metadata": {
    "tags": []
   },
   "outputs": [
    {
     "data": {
      "text/plain": [
       "2×2 Matrix{Int64}:\n",
       " 1  3\n",
       " 2  4"
      ]
     },
     "execution_count": 96,
     "metadata": {},
     "output_type": "execute_result"
    }
   ],
   "source": [
    "xx = reduce(hcat, [[1, 2], [3, 4]])"
   ]
  },
  {
   "cell_type": "code",
   "execution_count": 98,
   "id": "be8e30c6-8ec7-49a4-a96d-55f46738fca6",
   "metadata": {
    "tags": []
   },
   "outputs": [
    {
     "data": {
      "text/plain": [
       "4-element Vector{Int64}:\n",
       " 0\n",
       " 0\n",
       " 0\n",
       " 0"
      ]
     },
     "execution_count": 98,
     "metadata": {},
     "output_type": "execute_result"
    }
   ],
   "source": [
    "jacobian(x -> xx, 0)[1]"
   ]
  },
  {
   "cell_type": "code",
   "execution_count": 63,
   "id": "cf27e339-5ddb-4c91-928c-33a5cd4f2e62",
   "metadata": {
    "tags": []
   },
   "outputs": [
    {
     "data": {
      "text/plain": [
       "(1,)"
      ]
     },
     "execution_count": 63,
     "metadata": {},
     "output_type": "execute_result"
    }
   ],
   "source": [
    "altjacobian(1,1)"
   ]
  },
  {
   "cell_type": "code",
   "execution_count": null,
   "id": "3d601630-08cc-40b4-a863-c7838d323443",
   "metadata": {},
   "outputs": [],
   "source": [
    "fj(x, b)"
   ]
  },
  {
   "cell_type": "code",
   "execution_count": 55,
   "id": "e1eb1b35-e854-44dc-bf58-468198233c60",
   "metadata": {
    "tags": []
   },
   "outputs": [
    {
     "name": "stderr",
     "output_type": "stream",
     "text": [
      "\u001b[36m\u001b[1m┌ \u001b[22m\u001b[39m\u001b[36m\u001b[1mInfo: \u001b[22m\u001b[39mgrad\n",
      "\u001b[36m\u001b[1m│ \u001b[22m\u001b[39m  grad =\n",
      "\u001b[36m\u001b[1m│ \u001b[22m\u001b[39m   3-element Vector{Float64}:\n",
      "\u001b[36m\u001b[1m│ \u001b[22m\u001b[39m    2.0\n",
      "\u001b[36m\u001b[1m│ \u001b[22m\u001b[39m    4.0\n",
      "\u001b[36m\u001b[1m└ \u001b[22m\u001b[39m    6.0\n"
     ]
    },
    {
     "data": {
      "text/plain": [
       "3-element Vector{Float64}:\n",
       "  2.0\n",
       "  8.0\n",
       " 18.0"
      ]
     },
     "execution_count": 55,
     "metadata": {},
     "output_type": "execute_result"
    }
   ],
   "source": [
    "fg(x, [0, 0, 0])"
   ]
  },
  {
   "cell_type": "code",
   "execution_count": 56,
   "id": "f6de832b-8982-4d51-a812-1b950c75fac8",
   "metadata": {
    "tags": []
   },
   "outputs": [
    {
     "name": "stderr",
     "output_type": "stream",
     "text": [
      "\u001b[36m\u001b[1m[ \u001b[22m\u001b[39m\u001b[36m\u001b[1mInfo: \u001b[22m\u001b[39m([2.0 0.0 0.0; 0.0 4.0 0.0; 0.0 0.0 6.0],)\n",
      "\u001b[36m\u001b[1m[ \u001b[22m\u001b[39m\u001b[36m\u001b[1mInfo: \u001b[22m\u001b[39m[2.0 0.0 0.0; 0.0 4.0 0.0; 0.0 0.0 6.0]\n"
     ]
    },
    {
     "ename": "LoadError",
     "evalue": "Mutating arrays is not supported -- called copyto!(SubArray{Float64, 1, Matrix{Float64}, Tuple{Int64, Base.Slice{Base.OneTo{Int64}}}, true}, ...)\nThis error occurs when you ask Zygote to differentiate operations that change\nthe elements of arrays in place (e.g. setting values with x .= ...)\n\nPossible fixes:\n- avoid mutating operations (preferred)\n- or read the documentation and solutions for this error\n  https://fluxml.ai/Zygote.jl/latest/limitations\n",
     "output_type": "error",
     "traceback": [
      "Mutating arrays is not supported -- called copyto!(SubArray{Float64, 1, Matrix{Float64}, Tuple{Int64, Base.Slice{Base.OneTo{Int64}}}, true}, ...)\nThis error occurs when you ask Zygote to differentiate operations that change\nthe elements of arrays in place (e.g. setting values with x .= ...)\n\nPossible fixes:\n- avoid mutating operations (preferred)\n- or read the documentation and solutions for this error\n  https://fluxml.ai/Zygote.jl/latest/limitations\n",
      "",
      "Stacktrace:",
      "  [1] error(s::String)",
      "    @ Base ./error.jl:35",
      "  [2] _throw_mutation_error(f::Function, args::SubArray{Float64, 1, Matrix{Float64}, Tuple{Int64, Base.Slice{Base.OneTo{Int64}}}, true})",
      "    @ Zygote ~/.julia/packages/Zygote/HTsWj/src/lib/array.jl:88",
      "  [3] (::Zygote.var\"#555#556\"{SubArray{Float64, 1, Matrix{Float64}, Tuple{Int64, Base.Slice{Base.OneTo{Int64}}}, true}})(#unused#::Nothing)",
      "    @ Zygote ~/.julia/packages/Zygote/HTsWj/src/lib/array.jl:103",
      "  [4] (::Zygote.var\"#2653#back#557\"{Zygote.var\"#555#556\"{SubArray{Float64, 1, Matrix{Float64}, Tuple{Int64, Base.Slice{Base.OneTo{Int64}}}, true}}})(Δ::Nothing)",
      "    @ Zygote ~/.julia/packages/ZygoteRules/OgCVT/src/adjoint.jl:71",
      "  [5] Pullback",
      "    @ ~/.julia/packages/Zygote/HTsWj/src/lib/grad.jl:171 [inlined]",
      "  [6] (::Zygote.Pullback{Tuple{typeof(Zygote._gradcopy!), SubArray{Float64, 1, Matrix{Float64}, Tuple{Int64, Base.Slice{Base.OneTo{Int64}}}, true}, Vector{Float64}}, Tuple{Zygote.var\"#2653#back#557\"{Zygote.var\"#555#556\"{SubArray{Float64, 1, Matrix{Float64}, Tuple{Int64, Base.Slice{Base.OneTo{Int64}}}, true}}}}})(Δ::Nothing)",
      "    @ Zygote ~/.julia/packages/Zygote/HTsWj/src/compiler/interface2.jl:0",
      "  [7] Pullback",
      "    @ ~/.julia/packages/Zygote/HTsWj/src/lib/grad.jl:153 [inlined]",
      "  [8] (::Zygote.Pullback{Tuple{typeof(withjacobian), var\"#9#10\", Vector{Float64}}, Any})(Δ::NamedTuple{(:val, :grad), Tuple{Nothing, Tuple{Matrix{Float64}}}})",
      "    @ Zygote ~/.julia/packages/Zygote/HTsWj/src/compiler/interface2.jl:0",
      "  [9] #287",
      "    @ ~/.julia/packages/Zygote/HTsWj/src/lib/lib.jl:206 [inlined]",
      " [10] #2157#back",
      "    @ ~/.julia/packages/ZygoteRules/OgCVT/src/adjoint.jl:71 [inlined]",
      " [11] Pullback",
      "    @ ~/.julia/packages/Zygote/HTsWj/src/lib/grad.jl:128 [inlined]",
      " [12] (::Zygote.Pullback{Tuple{typeof(jacobian), var\"#9#10\", Vector{Float64}}, Tuple{Zygote.var\"#2001#back#200\"{typeof(identity)}, Zygote.var\"#2157#back#289\"{Zygote.var\"#287#288\"{Tuple{Tuple{Nothing}, Tuple{Nothing}}, Zygote.Pullback{Tuple{typeof(withjacobian), var\"#9#10\", Vector{Float64}}, Any}}}, Zygote.var\"#2168#back#299\"{Zygote.var\"#back#298\"{:grad, Zygote.Context{false}, NamedTuple{(:val, :grad), Tuple{Vector{Float64}, Tuple{Matrix{Float64}}}}, Tuple{Matrix{Float64}}}}}})(Δ::Tuple{Matrix{Float64}})",
      "    @ Zygote ~/.julia/packages/Zygote/HTsWj/src/compiler/interface2.jl:0",
      " [13] Pullback",
      "    @ ./In[10]:2 [inlined]",
      " [14] (::Zygote.Pullback{Tuple{typeof(f), Vector{Float64}, Vector{Float64}}, Any})(Δ::FillArrays.Fill{Float64, 1, Tuple{Base.OneTo{Int64}}})",
      "    @ Zygote ~/.julia/packages/Zygote/HTsWj/src/compiler/interface2.jl:0",
      " [15] Pullback",
      "    @ ./In[56]:1 [inlined]",
      " [16] (::Zygote.Pullback{Tuple{var\"#27#28\", Vector{Float64}}, Tuple{Zygote.Pullback{Tuple{typeof(f), Vector{Float64}, Vector{Float64}}, Any}, Zygote.var\"#1974#back#190\"{Zygote.var\"#186#189\"{Zygote.Context{false}, GlobalRef, Vector{Float64}}}, Zygote.var\"#3011#back#778\"{Zygote.var\"#772#776\"{Vector{Float64}}}}})(Δ::Float64)",
      "    @ Zygote ~/.julia/packages/Zygote/HTsWj/src/compiler/interface2.jl:0",
      " [17] (::Zygote.var\"#75#76\"{Zygote.Pullback{Tuple{var\"#27#28\", Vector{Float64}}, Tuple{Zygote.Pullback{Tuple{typeof(f), Vector{Float64}, Vector{Float64}}, Any}, Zygote.var\"#1974#back#190\"{Zygote.var\"#186#189\"{Zygote.Context{false}, GlobalRef, Vector{Float64}}}, Zygote.var\"#3011#back#778\"{Zygote.var\"#772#776\"{Vector{Float64}}}}}})(Δ::Float64)",
      "    @ Zygote ~/.julia/packages/Zygote/HTsWj/src/compiler/interface.jl:45",
      " [18] gradient(f::Function, args::Vector{Float64})",
      "    @ Zygote ~/.julia/packages/Zygote/HTsWj/src/compiler/interface.jl:97",
      " [19] top-level scope",
      "    @ In[56]:1"
     ]
    }
   ],
   "source": [
    "Zygote.gradient(b -> sum(fj(x,b)), rand(3))"
   ]
  },
  {
   "cell_type": "code",
   "execution_count": 57,
   "id": "524b07bb-60d5-4c5d-97fd-608e0abecca8",
   "metadata": {
    "tags": []
   },
   "outputs": [
    {
     "name": "stderr",
     "output_type": "stream",
     "text": [
      "\u001b[36m\u001b[1m┌ \u001b[22m\u001b[39m\u001b[36m\u001b[1mInfo: \u001b[22m\u001b[39mgrad\n",
      "\u001b[36m\u001b[1m│ \u001b[22m\u001b[39m  grad =\n",
      "\u001b[36m\u001b[1m│ \u001b[22m\u001b[39m   3-element Vector{Float64}:\n",
      "\u001b[36m\u001b[1m│ \u001b[22m\u001b[39m    2.0\n",
      "\u001b[36m\u001b[1m│ \u001b[22m\u001b[39m    4.0\n",
      "\u001b[36m\u001b[1m└ \u001b[22m\u001b[39m    6.0\n"
     ]
    },
    {
     "data": {
      "text/plain": [
       "(Fill(1.0, 3),)"
      ]
     },
     "execution_count": 57,
     "metadata": {},
     "output_type": "execute_result"
    }
   ],
   "source": [
    "Zygote.gradient(b -> sum(fg(x,b)), rand(3))"
   ]
  },
  {
   "cell_type": "code",
   "execution_count": 60,
   "id": "43b3ca4b-3c3f-401c-953f-38801167e131",
   "metadata": {
    "tags": []
   },
   "outputs": [
    {
     "name": "stderr",
     "output_type": "stream",
     "text": [
      "\u001b[36m\u001b[1m┌ \u001b[22m\u001b[39m\u001b[36m\u001b[1mInfo: \u001b[22m\u001b[39mgrad\n",
      "\u001b[36m\u001b[1m│ \u001b[22m\u001b[39m  grad =\n",
      "\u001b[36m\u001b[1m│ \u001b[22m\u001b[39m   3-element Vector{Float64}:\n",
      "\u001b[36m\u001b[1m│ \u001b[22m\u001b[39m    0.8113012203912522\n",
      "\u001b[36m\u001b[1m│ \u001b[22m\u001b[39m    0.8916525522283958\n",
      "\u001b[36m\u001b[1m└ \u001b[22m\u001b[39m    0.25571020915909703\n"
     ]
    },
    {
     "data": {
      "text/plain": [
       "([1.6226024407825044, 1.7833051044567916, 0.5114204183181941],)"
      ]
     },
     "execution_count": 60,
     "metadata": {},
     "output_type": "execute_result"
    }
   ],
   "source": [
    "Zygote.gradient(x -> sum(fg(x,b)), rand(3))"
   ]
  },
  {
   "cell_type": "code",
   "execution_count": 61,
   "id": "b7fb2ebb-7106-4169-991e-63e64a06a3c5",
   "metadata": {
    "tags": []
   },
   "outputs": [
    {
     "name": "stderr",
     "output_type": "stream",
     "text": [
      "\u001b[36m\u001b[1m┌ \u001b[22m\u001b[39m\u001b[36m\u001b[1mInfo: \u001b[22m\u001b[39mjac\n",
      "\u001b[36m\u001b[1m│ \u001b[22m\u001b[39m  jac =\n",
      "\u001b[36m\u001b[1m│ \u001b[22m\u001b[39m   3×3 Matrix{Float64}:\n",
      "\u001b[36m\u001b[1m│ \u001b[22m\u001b[39m    1.29859  0.0       0.0\n",
      "\u001b[36m\u001b[1m│ \u001b[22m\u001b[39m    0.0      0.470737  0.0\n",
      "\u001b[36m\u001b[1m└ \u001b[22m\u001b[39m    0.0      0.0       1.56187\n"
     ]
    },
    {
     "ename": "LoadError",
     "evalue": "Mutating arrays is not supported -- called copyto!(SubArray{Float64, 1, Matrix{Float64}, Tuple{Int64, Base.Slice{Base.OneTo{Int64}}}, true}, ...)\nThis error occurs when you ask Zygote to differentiate operations that change\nthe elements of arrays in place (e.g. setting values with x .= ...)\n\nPossible fixes:\n- avoid mutating operations (preferred)\n- or read the documentation and solutions for this error\n  https://fluxml.ai/Zygote.jl/latest/limitations\n",
     "output_type": "error",
     "traceback": [
      "Mutating arrays is not supported -- called copyto!(SubArray{Float64, 1, Matrix{Float64}, Tuple{Int64, Base.Slice{Base.OneTo{Int64}}}, true}, ...)\nThis error occurs when you ask Zygote to differentiate operations that change\nthe elements of arrays in place (e.g. setting values with x .= ...)\n\nPossible fixes:\n- avoid mutating operations (preferred)\n- or read the documentation and solutions for this error\n  https://fluxml.ai/Zygote.jl/latest/limitations\n",
      "",
      "Stacktrace:",
      "  [1] error(s::String)",
      "    @ Base ./error.jl:35",
      "  [2] _throw_mutation_error(f::Function, args::SubArray{Float64, 1, Matrix{Float64}, Tuple{Int64, Base.Slice{Base.OneTo{Int64}}}, true})",
      "    @ Zygote ~/.julia/packages/Zygote/HTsWj/src/lib/array.jl:88",
      "  [3] (::Zygote.var\"#555#556\"{SubArray{Float64, 1, Matrix{Float64}, Tuple{Int64, Base.Slice{Base.OneTo{Int64}}}, true}})(#unused#::Nothing)",
      "    @ Zygote ~/.julia/packages/Zygote/HTsWj/src/lib/array.jl:103",
      "  [4] (::Zygote.var\"#2653#back#557\"{Zygote.var\"#555#556\"{SubArray{Float64, 1, Matrix{Float64}, Tuple{Int64, Base.Slice{Base.OneTo{Int64}}}, true}}})(Δ::Nothing)",
      "    @ Zygote ~/.julia/packages/ZygoteRules/OgCVT/src/adjoint.jl:71",
      "  [5] Pullback",
      "    @ ~/.julia/packages/Zygote/HTsWj/src/lib/grad.jl:171 [inlined]",
      "  [6] (::Zygote.Pullback{Tuple{typeof(Zygote._gradcopy!), SubArray{Float64, 1, Matrix{Float64}, Tuple{Int64, Base.Slice{Base.OneTo{Int64}}}, true}, Vector{Float64}}, Tuple{Zygote.var\"#2653#back#557\"{Zygote.var\"#555#556\"{SubArray{Float64, 1, Matrix{Float64}, Tuple{Int64, Base.Slice{Base.OneTo{Int64}}}, true}}}}})(Δ::Nothing)",
      "    @ Zygote ~/.julia/packages/Zygote/HTsWj/src/compiler/interface2.jl:0",
      "  [7] Pullback",
      "    @ ~/.julia/packages/Zygote/HTsWj/src/lib/grad.jl:153 [inlined]",
      "  [8] (::Zygote.Pullback{Tuple{typeof(withjacobian), var\"#25#26\", Vector{Float64}}, Any})(Δ::NamedTuple{(:val, :grad), Tuple{Nothing, Tuple{Matrix{Float64}}}})",
      "    @ Zygote ~/.julia/packages/Zygote/HTsWj/src/compiler/interface2.jl:0",
      "  [9] #287",
      "    @ ~/.julia/packages/Zygote/HTsWj/src/lib/lib.jl:206 [inlined]",
      " [10] #2157#back",
      "    @ ~/.julia/packages/ZygoteRules/OgCVT/src/adjoint.jl:71 [inlined]",
      " [11] Pullback",
      "    @ ~/.julia/packages/Zygote/HTsWj/src/lib/grad.jl:128 [inlined]",
      " [12] (::Zygote.Pullback{Tuple{typeof(jacobian), var\"#25#26\", Vector{Float64}}, Tuple{Zygote.var\"#2001#back#200\"{typeof(identity)}, Zygote.var\"#2157#back#289\"{Zygote.var\"#287#288\"{Tuple{Tuple{Nothing}, Tuple{Nothing}}, Zygote.Pullback{Tuple{typeof(withjacobian), var\"#25#26\", Vector{Float64}}, Any}}}, Zygote.var\"#2168#back#299\"{Zygote.var\"#back#298\"{:grad, Zygote.Context{false}, NamedTuple{(:val, :grad), Tuple{Vector{Float64}, Tuple{Matrix{Float64}}}}, Tuple{Matrix{Float64}}}}}})(Δ::Tuple{Matrix{Float64}})",
      "    @ Zygote ~/.julia/packages/Zygote/HTsWj/src/compiler/interface2.jl:0",
      " [13] Pullback",
      "    @ ./In[53]:2 [inlined]",
      " [14] (::Zygote.Pullback{Tuple{typeof(fj), Vector{Float64}, Vector{Float64}}, Any})(Δ::FillArrays.Fill{Float64, 1, Tuple{Base.OneTo{Int64}}})",
      "    @ Zygote ~/.julia/packages/Zygote/HTsWj/src/compiler/interface2.jl:0",
      " [15] Pullback",
      "    @ ./In[61]:1 [inlined]",
      " [16] (::Zygote.Pullback{Tuple{var\"#33#34\", Vector{Float64}}, Tuple{Zygote.Pullback{Tuple{typeof(fj), Vector{Float64}, Vector{Float64}}, Any}, Zygote.var\"#1974#back#190\"{Zygote.var\"#186#189\"{Zygote.Context{false}, GlobalRef, Vector{Float64}}}, Zygote.var\"#3011#back#778\"{Zygote.var\"#772#776\"{Vector{Float64}}}}})(Δ::Float64)",
      "    @ Zygote ~/.julia/packages/Zygote/HTsWj/src/compiler/interface2.jl:0",
      " [17] (::Zygote.var\"#75#76\"{Zygote.Pullback{Tuple{var\"#33#34\", Vector{Float64}}, Tuple{Zygote.Pullback{Tuple{typeof(fj), Vector{Float64}, Vector{Float64}}, Any}, Zygote.var\"#1974#back#190\"{Zygote.var\"#186#189\"{Zygote.Context{false}, GlobalRef, Vector{Float64}}}, Zygote.var\"#3011#back#778\"{Zygote.var\"#772#776\"{Vector{Float64}}}}}})(Δ::Float64)",
      "    @ Zygote ~/.julia/packages/Zygote/HTsWj/src/compiler/interface.jl:45",
      " [18] gradient(f::Function, args::Vector{Float64})",
      "    @ Zygote ~/.julia/packages/Zygote/HTsWj/src/compiler/interface.jl:97",
      " [19] top-level scope",
      "    @ In[61]:1"
     ]
    }
   ],
   "source": [
    "Zygote.gradient(x -> sum(fj(x,b)), rand(3))"
   ]
  },
  {
   "cell_type": "markdown",
   "id": "057fdd6c-55f6-4675-b29a-c5540895c859",
   "metadata": {},
   "source": [
    "## Zygote diff-ability wrt array elements"
   ]
  },
  {
   "cell_type": "code",
   "execution_count": 41,
   "id": "4ac3d37b-eff8-419f-afaa-d1a384fbc448",
   "metadata": {
    "tags": []
   },
   "outputs": [
    {
     "data": {
      "text/plain": [
       "Grads(...)"
      ]
     },
     "execution_count": 41,
     "metadata": {},
     "output_type": "execute_result"
    }
   ],
   "source": [
    "x = [1 2 3; 4 5 6]; y = [2, 3]; z = [1, 10, 100];\n",
    "# x .* y .* z'\n",
    "ps = Params([x[2,3]])\n",
    "g = gradient(ps) do\n",
    "    sum(x .* y .* z')\n",
    "end\n",
    "x[2,3]"
   ]
  },
  {
   "cell_type": "code",
   "execution_count": 34,
   "id": "2450ce53-fafc-40ad-b1c6-38d7d3fd4bdb",
   "metadata": {
    "tags": []
   },
   "outputs": [
    {
     "data": {
      "text/plain": [
       "2×3 Matrix{Float64}:\n",
       " 2.0  20.0  200.0\n",
       " 3.0  30.0  300.0"
      ]
     },
     "execution_count": 34,
     "metadata": {},
     "output_type": "execute_result"
    }
   ],
   "source": [
    "g[x]"
   ]
  },
  {
   "cell_type": "code",
   "execution_count": 42,
   "id": "89387019-afae-4493-9097-60c5dfdf943f",
   "metadata": {
    "tags": []
   },
   "outputs": [
    {
     "ename": "LoadError",
     "evalue": "Only reference types can be differentiated with `Params`.",
     "output_type": "error",
     "traceback": [
      "Only reference types can be differentiated with `Params`.",
      "",
      "Stacktrace:",
      " [1] error(s::String)",
      "   @ Base ./error.jl:35",
      " [2] getindex(gs::Zygote.Grads, x::Int64)",
      "   @ Zygote ~/.julia/packages/Zygote/HTsWj/src/compiler/interface.jl:306",
      " [3] top-level scope",
      "   @ In[42]:1"
     ]
    }
   ],
   "source": [
    "g[x[2,3]]"
   ]
  },
  {
   "cell_type": "markdown",
   "id": "4de96d4a-df01-4999-8217-08604aee0edb",
   "metadata": {},
   "source": [
    "## Testing DataLoader with existing code"
   ]
  },
  {
   "cell_type": "code",
   "execution_count": 1,
   "id": "20b636e9-ae4c-462c-a832-a9e70c19c2a1",
   "metadata": {
    "tags": []
   },
   "outputs": [
    {
     "name": "stderr",
     "output_type": "stream",
     "text": [
      "\u001b[32m\u001b[1m  Activating\u001b[22m\u001b[39m project at `~/Builds/navimakarov/LaplaceRedux.jl/dev/notebooks/batching`\n"
     ]
    }
   ],
   "source": [
    "using Pkg\n",
    "Pkg.activate(\".\")\n",
    "using LaplaceRedux\n",
    "using LaplaceRedux.Curvature\n",
    "using LaplaceRedux.Data\n",
    "using Flux\n",
    "using Flux.Optimise: update!, Adam\n",
    "using Plots\n",
    "using Statistics\n",
    "using MLUtils\n",
    "using Zygote"
   ]
  },
  {
   "cell_type": "code",
   "execution_count": 12,
   "id": "98810d45-df41-4189-af33-eceb945983d4",
   "metadata": {
    "tags": []
   },
   "outputs": [
    {
     "data": {
      "text/plain": [
       "Dict{Symbol, Any} with 6 entries:\n",
       "  :loss_fun   => :mse\n",
       "  :y          => [0.604458, -0.276429, 0.185929, 0.269064, 1.23586, -0.626247, …\n",
       "  :likelihood => :regression\n",
       "  :X          => [0.590667 3.4422 … 2.14491 1.3144]\n",
       "  :outdim     => 1\n",
       "  :data       => ([[0.590667], [3.4422], [0.205944], [0.0737931], [1.99856], [3…"
      ]
     },
     "execution_count": 12,
     "metadata": {},
     "output_type": "execute_result"
    }
   ],
   "source": [
    "# SETUP\n",
    "n = 100\n",
    "data_dict = Dict()\n",
    "\n",
    "# Regression batched:\n",
    "x, y = LaplaceRedux.Data.toy_data_regression(n)\n",
    "xs = [[x] for x in x]\n",
    "X, Y = reduce(hcat, x), reduce(hcat, y)\n",
    "\n",
    "data = DataLoader((X, Y), batchsize=10)\n",
    "data = (xs, y)\n",
    "data_dict[:regression_batched] = Dict(\n",
    "    :data => data,\n",
    "    :X => X,\n",
    "    :y => y,\n",
    "    :outdim => 1,\n",
    "    :loss_fun => :mse,\n",
    "    :likelihood => :regression,\n",
    ")"
   ]
  },
  {
   "cell_type": "code",
   "execution_count": 5,
   "id": "ecf389b9-2bfd-4238-91de-48c125c53a8e",
   "metadata": {
    "tags": []
   },
   "outputs": [
    {
     "data": {
      "text/plain": [
       "1×100 Matrix{Float64}:\n",
       " 6.2507  4.97587  4.48094  1.67  …  0.495325  4.22701  3.12035  7.23925"
      ]
     },
     "execution_count": 5,
     "metadata": {},
     "output_type": "execute_result"
    }
   ],
   "source": [
    "X"
   ]
  },
  {
   "cell_type": "code",
   "execution_count": 4,
   "id": "e41fe641-c208-457c-8093-230258356904",
   "metadata": {
    "tags": []
   },
   "outputs": [
    {
     "data": {
      "text/plain": [
       "1×100 Matrix{Float64}:\n",
       " 0.436515  -0.625754  -1.29171  0.439809  …  -0.60571  -0.0255798  0.998537"
      ]
     },
     "execution_count": 4,
     "metadata": {},
     "output_type": "execute_result"
    }
   ],
   "source": [
    "Y"
   ]
  },
  {
   "cell_type": "code",
   "execution_count": 7,
   "id": "16f8e4cd-2753-478b-865c-2c9a65ef84f9",
   "metadata": {
    "tags": []
   },
   "outputs": [
    {
     "data": {
      "text/plain": [
       "10-element DataLoader(::Tuple{Matrix{Float64}, Matrix{Float64}}, batchsize=10)\n",
       "  with first element:\n",
       "  (1×10 Matrix{Float64}, 1×10 Matrix{Float64},)"
      ]
     },
     "execution_count": 7,
     "metadata": {},
     "output_type": "execute_result"
    }
   ],
   "source": [
    "data"
   ]
  },
  {
   "cell_type": "code",
   "execution_count": 145,
   "id": "0a9754ea-bdd6-43a8-9809-a9eb84730803",
   "metadata": {
    "tags": []
   },
   "outputs": [
    {
     "data": {
      "text/plain": [
       "1×10 Matrix{Float64}:\n",
       " -0.675062  -1.38496  -0.84902  -1.02599  …  -0.210813  1.18098  0.0332229"
      ]
     },
     "execution_count": 145,
     "metadata": {},
     "output_type": "execute_result"
    }
   ],
   "source": [
    "reduce(hcat, y)"
   ]
  },
  {
   "cell_type": "code",
   "execution_count": 140,
   "id": "3cb6c860-16e1-419d-b809-8c1a2289458c",
   "metadata": {
    "tags": []
   },
   "outputs": [
    {
     "data": {
      "text/plain": [
       "Matrix{Float32}\u001b[90m (alias for \u001b[39m\u001b[90mArray{Float32, 2}\u001b[39m\u001b[90m)\u001b[39m"
      ]
     },
     "execution_count": 140,
     "metadata": {},
     "output_type": "execute_result"
    }
   ],
   "source": [
    "typeof(nn(x))"
   ]
  },
  {
   "cell_type": "code",
   "execution_count": 135,
   "id": "5ae2ee03-a4fb-4443-8d72-3b2d34557f8c",
   "metadata": {
    "tags": []
   },
   "outputs": [
    {
     "data": {
      "text/plain": [
       "1×10 Matrix{Float32}:\n",
       " -0.496463  -0.531433  -0.493528  -0.51279  …  -0.469021  -0.40483  -0.254351"
      ]
     },
     "execution_count": 135,
     "metadata": {},
     "output_type": "execute_result"
    }
   ],
   "source": [
    "nnx = nn(x)"
   ]
  },
  {
   "cell_type": "code",
   "execution_count": 137,
   "id": "4524f6fc-44be-470b-a183-67a77c511038",
   "metadata": {
    "tags": []
   },
   "outputs": [
    {
     "data": {
      "text/plain": [
       "(1, 10)"
      ]
     },
     "execution_count": 137,
     "metadata": {},
     "output_type": "execute_result"
    }
   ],
   "source": [
    "size(nnx)"
   ]
  },
  {
   "cell_type": "code",
   "execution_count": 18,
   "id": "203e381e-7722-48eb-926e-3c45e533d7b9",
   "metadata": {
    "tags": []
   },
   "outputs": [
    {
     "name": "stdout",
     "output_type": "stream",
     "text": [
      "nn(x) = Float32[-1.5544128]\n",
      "size(nn(x)) = (1,)\n",
      "y = [3.442203160906069]\n",
      "size(y) = (1,)\n"
     ]
    }
   ],
   "source": [
    "for d in data\n",
    "    x, y = d\n",
    "    # # Assert on batching\n",
    "    # @assert size(x)[end] == 10\n",
    "    # @assert size(x)[end] == 10\n",
    "    # @sho\n",
    "    @show nn(x)\n",
    "    @show size(nn(x))\n",
    "    @show y\n",
    "    @show size(y)\n",
    "    break\n",
    "end"
   ]
  },
  {
   "cell_type": "code",
   "execution_count": 136,
   "id": "9fb46886-e222-4f5e-bb86-0cfede404088",
   "metadata": {
    "tags": []
   },
   "outputs": [
    {
     "name": "stdout",
     "output_type": "stream",
     "text": [
      "Epoch 20\n",
      "avg_loss(data) = 0.5183304577653728\n",
      "Epoch 40\n",
      "avg_loss(data) = 0.49096486112199406\n",
      "Epoch 60\n",
      "avg_loss(data) = 0.47714176549877707\n",
      "Epoch 80\n",
      "avg_loss(data) = 0.46774219217521074\n",
      "Epoch 100\n",
      "avg_loss(data) = 0.4591247429787631\n",
      "Epoch 120\n",
      "avg_loss(data) = 0.45029180242439104\n",
      "Epoch 140\n",
      "avg_loss(data) = 0.4409879624804595\n",
      "Epoch 160\n",
      "avg_loss(data) = 0.43108512387503894\n",
      "Epoch 180\n",
      "avg_loss(data) = 0.42045859958327\n",
      "Epoch 200\n",
      "avg_loss(data) = 0.40896995681616233\n"
     ]
    }
   ],
   "source": [
    "# Here we have \"zip\" code copied from the laplace.jl tests\n",
    "\n",
    "# Regression:\n",
    "x, y = LaplaceRedux.Data.toy_data_regression(n)\n",
    "xs = [[x] for x in x]\n",
    "X = hcat(xs...)\n",
    "Y = reduce(hcat, y)\n",
    "data = zip(xs, y)\n",
    "data_dict[:regression] = Dict(\n",
    "    :data => data,\n",
    "    :X => X,\n",
    "    :y => y,\n",
    "    :outdim => 1,\n",
    "    :loss_fun => :mse,\n",
    "    :likelihood => :regression,\n",
    ")\n",
    "\n",
    "val = data_dict[:regression]\n",
    "\n",
    "# Unpack:\n",
    "data = val[:data]\n",
    "X = val[:X]\n",
    "y = val[:y]\n",
    "outdim = val[:outdim]\n",
    "loss_fun = val[:loss_fun]\n",
    "likelihood = val[:likelihood]\n",
    "\n",
    "# Neural network:\n",
    "n_hidden = 32\n",
    "D = size(X, 1)\n",
    "nn = Chain(Dense(D, n_hidden, σ), Dense(n_hidden, outdim))\n",
    "λ = 0.01\n",
    "sqnorm(x) = sum(abs2, x)\n",
    "weight_regularization(λ=λ) = 1 / 2 * λ^2 * sum(sqnorm, Flux.params(nn))\n",
    "# loss(x, y) = getfield(Flux.Losses, loss_fun)(nn(x), y) + weight_regularization()\n",
    "# loss(x, y; kwargs...) = getfield(Flux.Losses, loss_fun)(nn(x), y; kwargs...) + weight_regularization()\n",
    "# loss(x, y) = getfield(Flux.Losses, loss_fun)(nn(x), y, agg=sum) + weight_regularization()\n",
    "loss(x, y) = Flux.Losses.mse(nn(x), y, agg=sum) + weight_regularization()\n",
    "\n",
    "opt = Adam()\n",
    "epochs = 200\n",
    "avg_loss(data) = mean(map(d -> loss(d[1], d[2]), data))\n",
    "show_every = epochs / 10\n",
    "\n",
    "for epoch in 1:epochs\n",
    "    for d in data\n",
    "        gs = gradient(Flux.params(nn)) do\n",
    "            l = loss(d...)\n",
    "        end\n",
    "        update!(opt, Flux.params(nn), gs)\n",
    "    end\n",
    "    if epoch % show_every == 0\n",
    "        println(\"Epoch \" * string(epoch))\n",
    "        @show avg_loss(data)\n",
    "    end\n",
    "end\n"
   ]
  },
  {
   "cell_type": "code",
   "execution_count": 161,
   "id": "c2e1477d-e613-434b-9eba-290528d65656",
   "metadata": {
    "tags": []
   },
   "outputs": [
    {
     "data": {
      "text/plain": [
       "\"/home/vd/Builds/navimakarov/LaplaceRedux.jl/dev/notebooks/batching/fig-01-00.png\""
      ]
     },
     "execution_count": 161,
     "metadata": {},
     "output_type": "execute_result"
    }
   ],
   "source": [
    "# Fit unbatched LA\n",
    "if outdim == 1\n",
    "    la = Laplace(nn; likelihood=likelihood, λ=λ, subset_of_weights=:last_layer)\n",
    "    fit!(la, data)\n",
    "    # optimize_prior!(la; verbose=true)\n",
    "    plot(la, X, y, title=\"batchsize=N/A\")                              # standard\n",
    "    savefig(@sprintf(\"fig-01-%02d.png\", 0))\n",
    "    # plot(la, X, y; xlims=(-5, 5), ylims=(-5, 5))  # lims\n",
    "    # plot(la, X, y; link_approx=:plugin)         # plugin approximation\n",
    "end"
   ]
  },
  {
   "cell_type": "code",
   "execution_count": 162,
   "id": "ddd443fd-cc0a-4974-8e0f-9b19213084dd",
   "metadata": {
    "tags": []
   },
   "outputs": [
    {
     "data": {
      "text/plain": [
       "(1, 100)"
      ]
     },
     "execution_count": 162,
     "metadata": {},
     "output_type": "execute_result"
    }
   ],
   "source": [
    "size(X)"
   ]
  },
  {
   "cell_type": "code",
   "execution_count": 42,
   "id": "7bf440eb-648b-426c-9a34-cc7a1a9d045a",
   "metadata": {
    "tags": []
   },
   "outputs": [],
   "source": [
    "using Printf"
   ]
  },
  {
   "cell_type": "code",
   "execution_count": 131,
   "id": "adeca19e-4941-4783-9ef9-eac5d75e5361",
   "metadata": {
    "tags": []
   },
   "outputs": [
    {
     "data": {
      "text/plain": [
       "loss (generic function with 1 method)"
      ]
     },
     "execution_count": 131,
     "metadata": {},
     "output_type": "execute_result"
    }
   ],
   "source": [
    "loss(x, y) = Flux.Losses.mse(nn(x), y, agg=sum) + weight_regularization()"
   ]
  },
  {
   "cell_type": "code",
   "execution_count": 134,
   "id": "8452b6b4-b84d-4f6f-b25b-52f4d1bb482d",
   "metadata": {
    "tags": []
   },
   "outputs": [
    {
     "name": "stdout",
     "output_type": "stream",
     "text": [
      "loss(x_1, y_1) = 1.2346902412711558\n",
      "loss(x_2, y_2) = 0.3298519739905986\n",
      "loss(x_1, y_1) + loss(x_2, y_2) = 1.5645422152617545\n",
      "loss(x_b, y_b) = 1.5630184623774577\n"
     ]
    },
    {
     "data": {
      "text/plain": [
       "1.5630184623774577"
      ]
     },
     "execution_count": 134,
     "metadata": {},
     "output_type": "execute_result"
    }
   ],
   "source": [
    "# The loss function should be summative\n",
    "# The loss of the batch is the sum of losses of its part\n",
    "x_1 = [1.5261694931931657]\n",
    "y_1 = [1.5517179074064962]\n",
    "x_2 = [5.795661372040879]\n",
    "y_2 = [-0.6585143352250986]\n",
    "x_b = hcat(x_1, x_2)\n",
    "y_b = hcat(y_1, y_2)\n",
    "@show loss(x_1, y_1)\n",
    "@show loss(x_2, y_2)\n",
    "@show loss(x_1, y_1) + loss(x_2, y_2)\n",
    "@show loss(x_b, y_b)"
   ]
  },
  {
   "cell_type": "code",
   "execution_count": 173,
   "id": "f44b826e-4d8c-439f-bfbe-f4ee928eaf2f",
   "metadata": {
    "tags": []
   },
   "outputs": [
    {
     "name": "stdout",
     "output_type": "stream",
     "text": [
      "d = ([1.2715212289774493 2.0476179114531954], [0.9257148467376903 1.2434332632351088])\n",
      "𝐠 = Float32[-1.5193033, -1.5851523, -2.04893, -1.5471814, -1.5022987, -1.2056206, -1.4960097, -1.6127374, -1.528202, -1.5929381, -1.4918164, -1.5876769, -1.599696, -1.5008733, -1.5858833, -1.7561449, -1.033882, -1.5522914, -1.425071, -1.5456303, -1.1466767, -1.6216621, -1.0841335, -1.6034269, -1.4396887, -2.1658235, -1.8749877, -1.4993583, -1.8684943, -1.8874115, -1.5460135, -1.5593024, -3.1463819]\n",
      "size(𝐠) = (33,)\n",
      "\n",
      "d = ([1.2715212289774493], [0.9257148467376903])\n",
      "𝐠 = Float32[-0.52817833, -0.43119496, -0.5210522, -0.4708877, -0.45764622, -0.42256445, -0.45563537, -0.43949524, -0.53112304, -0.43344456, -0.4039374, -0.43194032, -0.43552247, -0.4571392, -0.43146086, -0.4209185, -0.36306658, -0.42193952, -0.49689957, -0.47045025, -0.40221792, -0.44249928, -0.38054764, -0.43663415, -0.4390404, -0.56177676, -0.46146542, -0.45663112, -0.45890695, -0.4663252, -0.47067362, -0.423838, -0.9058165]\n",
      "size(𝐠) = (33,)\n",
      "\n",
      "d = ([2.0476179114531954], [1.2434332632351088])\n",
      "𝐠 = Float32[-0.9911245, -1.1539569, -1.5278772, -1.0762932, -1.044652, -0.78305584, -1.0403739, -1.1732417, -0.99707854, -1.1594931, -1.0878786, -1.1557361, -1.1641731, -1.0437337, -1.1544219, -1.3352259, -0.67081517, -1.1303514, -0.92817104, -1.0751797, -0.7444584, -1.1791624, -0.7035855, -1.1667923, -1.0006479, -1.6040461, -1.4135218, -1.0427268, -1.4095868, -1.4210858, -1.0753393, -1.1354641, -2.2405646]\n",
      "size(𝐠) = (33,)\n",
      "\n"
     ]
    },
    {
     "ename": "LoadError",
     "evalue": "AssertionError: isapprox(H_1 + H_2, H_batch, atol = 0.05)",
     "output_type": "error",
     "traceback": [
      "AssertionError: isapprox(H_1 + H_2, H_batch, atol = 0.05)",
      "",
      "Stacktrace:",
      " [1] fit!(la::Laplace, data::DataLoader{Tuple{Matrix{Float64}, Matrix{Float64}}, Random._GLOBAL_RNG, Val{nothing}}; override::Bool, batchsize::Int64)",
      "   @ LaplaceRedux ~/Builds/navimakarov/LaplaceRedux.jl/src/laplace.jl:159",
      " [2] fit!(la::Laplace, data::DataLoader{Tuple{Matrix{Float64}, Matrix{Float64}}, Random._GLOBAL_RNG, Val{nothing}})",
      "   @ LaplaceRedux ~/Builds/navimakarov/LaplaceRedux.jl/src/laplace.jl:126",
      " [3] top-level scope",
      "   @ In[173]:11"
     ]
    }
   ],
   "source": [
    "# Now batch the same data, repeat the procedure\n",
    "\n",
    "# X = reduce(hcat, x)\n",
    "Y = reduce(hcat, y)\n",
    "\n",
    "b = 2\n",
    "data = DataLoader((X, Y), batchsize=b)\n",
    "# Fit LA\n",
    "if outdim == 1\n",
    "    la = Laplace(nn; likelihood=likelihood, λ=λ, subset_of_weights=:last_layer)\n",
    "    fit!(la, data)\n",
    "    # optimize_prior!(la; verbose=false)\n",
    "    plot(la, X, y, title=\"batchsize=$b\")                              # standard\n",
    "    # savefig(@sprintf(\"fig-%02d.png\", batchsize))\n",
    "    # plot(la, X, y; xlims=(-5, 5), ylims=(-5, 5))  # lims\n",
    "    # plot(la, X, y; link_approx=:plugin)         # plugin approximation\n",
    "end"
   ]
  },
  {
   "cell_type": "code",
   "execution_count": 167,
   "id": "02b1937c-640e-46c4-bd9a-5839aecede08",
   "metadata": {
    "tags": []
   },
   "outputs": [
    {
     "data": {
      "text/plain": [
       "33-element Vector{Float32}:\n",
       " -1.5193033\n",
       " -1.5851523\n",
       " -2.04893\n",
       " -1.5471814\n",
       " -1.5022987\n",
       " -1.2056206\n",
       " -1.4960097\n",
       " -1.6127374\n",
       " -1.528202\n",
       " -1.5929381\n",
       " -1.4918164\n",
       " -1.5876769\n",
       " -1.599696\n",
       "  ⋮\n",
       " -1.6216621\n",
       " -1.0841335\n",
       " -1.6034269\n",
       " -1.4396887\n",
       " -2.1658235\n",
       " -1.8749877\n",
       " -1.4993583\n",
       " -1.8684943\n",
       " -1.8874115\n",
       " -1.5460135\n",
       " -1.5593024\n",
       " -3.1463819"
      ]
     },
     "execution_count": 167,
     "metadata": {},
     "output_type": "execute_result"
    }
   ],
   "source": [
    "g_1 = Float32[-0.52817833, -0.43119496, -0.5210522, -0.4708877, -0.45764622, -0.42256445, -0.45563537, -0.43949524, -0.53112304, -0.43344456, -0.4039374, -0.43194032, -0.43552247, -0.4571392, -0.43146086, -0.4209185, -0.36306658, -0.42193952, -0.49689957, -0.47045025, -0.40221792, -0.44249928, -0.38054764, -0.43663415, -0.4390404, -0.56177676, -0.46146542, -0.45663112, -0.45890695, -0.4663252, -0.47067362, -0.423838, -0.9058165]\n",
    "g_2 = Float32[-0.9911245, -1.1539569, -1.5278772, -1.0762932, -1.044652, -0.78305584, -1.0403739, -1.1732417, -0.99707854, -1.1594931, -1.0878786, -1.1557361, -1.1641731, -1.0437337, -1.1544219, -1.3352259, -0.67081517, -1.1303514, -0.92817104, -1.0751797, -0.7444584, -1.1791624, -0.7035855, -1.1667923, -1.0006479, -1.6040461, -1.4135218, -1.0427268, -1.4095868, -1.4210858, -1.0753393, -1.1354641, -2.2405646]\n",
    "g_batch = Float32[-1.5193033, -1.5851523, -2.04893, -1.5471814, -1.5022987, -1.2056206, -1.4960097, -1.6127374, -1.528202, -1.5929381, -1.4918164, -1.5876769, -1.599696, -1.5008733, -1.5858833, -1.7561449, -1.033882, -1.5522914, -1.425071, -1.5456303, -1.1466767, -1.6216621, -1.0841335, -1.6034269, -1.4396887, -2.1658235, -1.8749877, -1.4993583, -1.8684943, -1.8874115, -1.5460135, -1.5593024, -3.1463819]"
   ]
  },
  {
   "cell_type": "code",
   "execution_count": 174,
   "id": "d423cc50-c493-4cc7-b18f-664020a06c54",
   "metadata": {
    "tags": []
   },
   "outputs": [
    {
     "data": {
      "text/plain": [
       "33×33 Matrix{Float32}:\n",
       " 0.52349   0.609495  0.806992  0.568475  …  0.567971  0.599728  1.18342\n",
       " 0.427368  0.49758   0.658813  0.464092     0.463681  0.489606  0.96612\n",
       " 0.516428  0.601272  0.796104  0.560805     0.560308  0.591636  1.16745\n",
       " 0.466708  0.543384  0.719459  0.506813     0.506364  0.534676  1.05505\n",
       " 0.453584  0.528104  0.699227  0.492562     0.492125  0.519641  1.02539\n",
       " 0.418814  0.487621  0.645627  0.454803  …  0.4544    0.479807  0.946783\n",
       " 0.451591  0.525784  0.696155  0.490397     0.489963  0.517358  1.02088\n",
       " 0.435594  0.507159  0.671495  0.473026     0.472607  0.499031  0.984717\n",
       " 0.526409  0.612893  0.811491  0.571644     0.571137  0.603071  1.19002\n",
       " 0.429598  0.500176  0.66225   0.466513     0.4661    0.492161  0.971161\n",
       " 0.400352  0.466126  0.617167  0.434755  …  0.43437   0.458656  0.905048\n",
       " 0.428107  0.498441  0.659952  0.464894     0.464482  0.490453  0.96779\n",
       " 0.431657  0.502574  0.665425  0.46875      0.468334  0.49452   0.975816\n",
       " ⋮                                       ⋱  ⋮                   \n",
       " 0.438572  0.510625  0.676085  0.476259     0.475837  0.502442  0.991448\n",
       " 0.37717   0.439136  0.58143   0.409581     0.409218  0.432098  0.852642\n",
       " 0.432759  0.503857  0.667123  0.469946     0.46953   0.495782  0.978307\n",
       " 0.435144  0.506634  0.6708    0.472536     0.472117  0.498515  0.983698\n",
       " 0.556791  0.648266  0.858326  0.604637  …  0.604101  0.637877  1.2587\n",
       " 0.45737   0.532511  0.705063  0.496672     0.496232  0.523977  1.03394\n",
       " 0.452578  0.526933  0.697676  0.491469     0.491033  0.518488  1.02311\n",
       " 0.454834  0.529559  0.701153  0.493918     0.493481  0.521072  1.02821\n",
       " 0.462186  0.538119  0.712488  0.501903     0.501458  0.529495  1.04483\n",
       " 0.466496  0.543137  0.719131  0.506583  …  0.506134  0.534433  1.05457\n",
       " 0.420076  0.489091  0.647572  0.456174     0.45577   0.481253  0.949636\n",
       " 0.897777  1.04527   1.38398   0.974924     0.97406   1.02852   2.02954"
      ]
     },
     "execution_count": 174,
     "metadata": {},
     "output_type": "execute_result"
    }
   ],
   "source": [
    "g_1 * g_2'"
   ]
  },
  {
   "cell_type": "code",
   "execution_count": 176,
   "id": "6ce70cbe-2e18-4329-91d6-e840cacf2e98",
   "metadata": {
    "tags": []
   },
   "outputs": [
    {
     "data": {
      "text/plain": [
       "33×33 adjoint(::Matrix{Float32}) with eltype Float32:\n",
       " 0.52349   0.609495  0.806992  0.568475  …  0.567971  0.599728  1.18342\n",
       " 0.427368  0.49758   0.658813  0.464092     0.463681  0.489606  0.96612\n",
       " 0.516428  0.601272  0.796104  0.560805     0.560308  0.591636  1.16745\n",
       " 0.466708  0.543384  0.719459  0.506813     0.506364  0.534676  1.05505\n",
       " 0.453584  0.528104  0.699227  0.492562     0.492125  0.519641  1.02539\n",
       " 0.418814  0.487621  0.645627  0.454803  …  0.4544    0.479807  0.946783\n",
       " 0.451591  0.525784  0.696155  0.490397     0.489963  0.517358  1.02088\n",
       " 0.435594  0.507159  0.671495  0.473026     0.472607  0.499031  0.984717\n",
       " 0.526409  0.612893  0.811491  0.571644     0.571137  0.603071  1.19002\n",
       " 0.429598  0.500176  0.66225   0.466513     0.4661    0.492161  0.971161\n",
       " 0.400352  0.466126  0.617167  0.434755  …  0.43437   0.458656  0.905048\n",
       " 0.428107  0.498441  0.659952  0.464894     0.464482  0.490453  0.96779\n",
       " 0.431657  0.502574  0.665425  0.46875      0.468334  0.49452   0.975816\n",
       " ⋮                                       ⋱  ⋮                   \n",
       " 0.438572  0.510625  0.676085  0.476259     0.475837  0.502442  0.991448\n",
       " 0.37717   0.439136  0.58143   0.409581     0.409218  0.432098  0.852642\n",
       " 0.432759  0.503857  0.667123  0.469946     0.46953   0.495782  0.978307\n",
       " 0.435144  0.506634  0.6708    0.472536     0.472117  0.498515  0.983698\n",
       " 0.556791  0.648266  0.858326  0.604637  …  0.604101  0.637877  1.2587\n",
       " 0.45737   0.532511  0.705063  0.496672     0.496232  0.523977  1.03394\n",
       " 0.452578  0.526933  0.697676  0.491469     0.491033  0.518488  1.02311\n",
       " 0.454834  0.529559  0.701153  0.493918     0.493481  0.521072  1.02821\n",
       " 0.462186  0.538119  0.712488  0.501903     0.501458  0.529495  1.04483\n",
       " 0.466496  0.543137  0.719131  0.506583  …  0.506134  0.534433  1.05457\n",
       " 0.420076  0.489091  0.647572  0.456174     0.45577   0.481253  0.949636\n",
       " 0.897777  1.04527   1.38398   0.974924     0.97406   1.02852   2.02954"
      ]
     },
     "execution_count": 176,
     "metadata": {},
     "output_type": "execute_result"
    }
   ],
   "source": [
    "(g_2 * g_1')'"
   ]
  },
  {
   "cell_type": "code",
   "execution_count": 172,
   "id": "15184b47-c530-481f-abfa-41fcec7eda7b",
   "metadata": {
    "tags": []
   },
   "outputs": [
    {
     "data": {
      "text/plain": [
       "true"
      ]
     },
     "execution_count": 172,
     "metadata": {},
     "output_type": "execute_result"
    }
   ],
   "source": [
    "isapprox(g_1 + g_2, g_batch, atol=.00005)"
   ]
  },
  {
   "cell_type": "code",
   "execution_count": 59,
   "id": "f45ee3d2-93de-4824-8938-da50e6d10dd1",
   "metadata": {
    "tags": []
   },
   "outputs": [
    {
     "name": "stdout",
     "output_type": "stream",
     "text": [
      "x = [5.175778702715506 7.783548482579036]\n",
      "[x[1]] = [5.175778702715506]\n",
      "y = [-1.2076412794280516 0.7338655322191958]\n"
     ]
    }
   ],
   "source": [
    "for d in data\n",
    "    x, y = d\n",
    "    @show x\n",
    "    @show [x[1]]\n",
    "    @show y\n",
    "    break\n",
    "end"
   ]
  },
  {
   "cell_type": "code",
   "execution_count": 158,
   "id": "fe4c2c14-0dcf-4b90-86a1-7fce36fea170",
   "metadata": {
    "tags": []
   },
   "outputs": [],
   "source": [
    "# Plotting confidence range progression for increasing batchsizes\n",
    "# Save to a series of PNG images, which can be merged to a gif via imagemagick\n",
    "for batchsize in range(1, 1)\n",
    "    # Now batch the same data, repeat the procedure\n",
    "    Y = reduce(hcat, y)\n",
    "    data = DataLoader((X, Y), batchsize=batchsize)\n",
    "    # Fit LA\n",
    "    if outdim == 1\n",
    "        la = Laplace(nn; likelihood=likelihood, λ=λ, subset_of_weights=:last_layer)\n",
    "        fit!(la, data)\n",
    "        # optimize_prior!(la; verbose=true, show_every=10_000)\n",
    "        plot(la, X, y, title=\"batchsize=$batchsize\")                              # standard\n",
    "        savefig(@sprintf(\"fig-01-%02d.png\", batchsize))\n",
    "        # plot(la, X, y; xlims=(-5, 5), ylims=(-5, 5))  # lims\n",
    "        # plot(la, X, y; link_approx=:plugin)         # plugin approximation\n",
    "    end\n",
    "end"
   ]
  }
 ],
 "metadata": {
  "kernelspec": {
   "display_name": "Julia 1.9.0",
   "language": "julia",
   "name": "julia-1.9"
  },
  "language_info": {
   "file_extension": ".jl",
   "mimetype": "application/julia",
   "name": "julia",
   "version": "1.9.0"
  }
 },
 "nbformat": 4,
 "nbformat_minor": 5
}
