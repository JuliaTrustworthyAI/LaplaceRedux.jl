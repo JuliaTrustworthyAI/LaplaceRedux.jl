{
 "cells": [
  {
   "attachments": {},
   "cell_type": "markdown",
   "metadata": {},
   "source": [
    "# Decoding a neural network from a JSON file to Python, then encoding the hessian from laplace.py to a JSON"
   ]
  },
  {
   "attachments": {},
   "cell_type": "markdown",
   "metadata": {},
   "source": []
  },
  {
   "cell_type": "code",
   "execution_count": 1,
   "metadata": {},
   "outputs": [],
   "source": [
    "# imports\n",
    "from laplace import Laplace\n",
    "\n",
    "import numpy as np\n",
    "import pandas as pd\n",
    "import torch\n",
    "\n",
    "import json\n",
    "\n",
    "import torch.nn as nn\n",
    "from torch.utils.data import TensorDataset, DataLoader\n",
    "\n",
    "torch.manual_seed(43)\n",
    "torch.set_printoptions(sci_mode=False)"
   ]
  },
  {
   "cell_type": "code",
   "execution_count": 72,
   "metadata": {},
   "outputs": [
    {
     "data": {
      "text/plain": [
       "tensor([[1., 0., 0., 0.],\n",
       "        [1., 0., 0., 0.],\n",
       "        [1., 0., 0., 0.],\n",
       "        [1., 0., 0., 0.],\n",
       "        [1., 0., 0., 0.],\n",
       "        [1., 0., 0., 0.],\n",
       "        [1., 0., 0., 0.],\n",
       "        [1., 0., 0., 0.],\n",
       "        [1., 0., 0., 0.],\n",
       "        [1., 0., 0., 0.],\n",
       "        [1., 0., 0., 0.],\n",
       "        [1., 0., 0., 0.],\n",
       "        [0., 1., 0., 0.],\n",
       "        [0., 1., 0., 0.],\n",
       "        [0., 1., 0., 0.],\n",
       "        [0., 1., 0., 0.],\n",
       "        [0., 1., 0., 0.],\n",
       "        [0., 1., 0., 0.],\n",
       "        [0., 1., 0., 0.],\n",
       "        [0., 1., 0., 0.],\n",
       "        [0., 1., 0., 0.],\n",
       "        [0., 1., 0., 0.],\n",
       "        [0., 1., 0., 0.],\n",
       "        [0., 1., 0., 0.],\n",
       "        [0., 0., 1., 0.],\n",
       "        [0., 0., 1., 0.],\n",
       "        [0., 0., 1., 0.],\n",
       "        [0., 0., 1., 0.],\n",
       "        [0., 0., 1., 0.],\n",
       "        [0., 0., 1., 0.],\n",
       "        [0., 0., 1., 0.],\n",
       "        [0., 0., 1., 0.],\n",
       "        [0., 0., 1., 0.],\n",
       "        [0., 0., 1., 0.],\n",
       "        [0., 0., 1., 0.],\n",
       "        [0., 0., 1., 0.],\n",
       "        [0., 0., 0., 1.],\n",
       "        [0., 0., 0., 1.],\n",
       "        [0., 0., 0., 1.],\n",
       "        [0., 0., 0., 1.],\n",
       "        [0., 0., 0., 1.],\n",
       "        [0., 0., 0., 1.],\n",
       "        [0., 0., 0., 1.],\n",
       "        [0., 0., 0., 1.],\n",
       "        [0., 0., 0., 1.],\n",
       "        [0., 0., 0., 1.],\n",
       "        [0., 0., 0., 1.],\n",
       "        [0., 0., 0., 1.]])"
      ]
     },
     "execution_count": 72,
     "metadata": {},
     "output_type": "execute_result"
    }
   ],
   "source": [
    "# Import data from csv\n",
    "\n",
    "# Load data from CSV file using pandas\n",
    "df = pd.read_csv('data.csv')\n",
    "\n",
    "# Split the dataframe into x and y tensors\n",
    "x = torch.from_numpy(df[['x1', 'x2']].to_numpy()).to(torch.float32)\n",
    "y = torch.from_numpy(df['y'].to_numpy(dtype=int))\n",
    "\n",
    "X = x.T\n",
    "\n",
    "y_indices = y - 1\n",
    "y_indices = y_indices.long()\n",
    "y_train = nn.functional.one_hot(y_indices, num_classes=len(torch.unique(y))).float()\n",
    "y_train"
   ]
  },
  {
   "cell_type": "code",
   "execution_count": 73,
   "metadata": {},
   "outputs": [],
   "source": [
    "# Init model\n",
    "\n",
    "data = list(zip(x, y_train))\n",
    "n_hidden = 15\n",
    "D = X.shape[0]  # == 2\n",
    "out_dim = y_train.shape[1]  # == 4\n",
    "model = nn.Sequential(\n",
    "    nn.Linear(D, n_hidden),\n",
    "    nn.Sigmoid(),\n",
    "    nn.Linear(n_hidden, out_dim)\n",
    ")\n",
    "\n",
    "loss_fn = nn.CrossEntropyLoss()"
   ]
  },
  {
   "cell_type": "code",
   "execution_count": 74,
   "metadata": {},
   "outputs": [
    {
     "data": {
      "text/plain": [
       "[{'bias': [3.3988118,\n",
       "   3.5933194,\n",
       "   2.9422352,\n",
       "   3.3322582,\n",
       "   3.3399665,\n",
       "   3.6317368,\n",
       "   3.5383172,\n",
       "   3.3447003,\n",
       "   3.5671725,\n",
       "   3.1051874,\n",
       "   3.601897,\n",
       "   3.2274942,\n",
       "   3.4626565,\n",
       "   3.2945428,\n",
       "   3.2137966],\n",
       "  'weight': [[-0.4472613,\n",
       "    -0.36524177,\n",
       "    -0.49843046,\n",
       "    -0.4671523,\n",
       "    -0.45563155,\n",
       "    -0.4199196,\n",
       "    -0.37798968,\n",
       "    -0.46011707,\n",
       "    -0.38260448,\n",
       "    -0.5449862,\n",
       "    -0.3152714,\n",
       "    -0.50319517,\n",
       "    -0.462592,\n",
       "    -0.42082742,\n",
       "    -0.47164235],\n",
       "   [-0.42735013,\n",
       "    -0.34834513,\n",
       "    -0.47763515,\n",
       "    -0.44645718,\n",
       "    -0.4354668,\n",
       "    -0.40082324,\n",
       "    -0.36067995,\n",
       "    -0.4397303,\n",
       "    -0.36509258,\n",
       "    -0.5209345,\n",
       "    -0.29996133,\n",
       "    -0.48096442,\n",
       "    -0.44180417,\n",
       "    -0.40227932,\n",
       "    -0.45106304]]},\n",
       " {'bias': [3.843687, 3.8287387, 3.8443809, 3.8220103],\n",
       "  'weight': [[3.599201, 3.2941632, 3.9565911, 3.8795183],\n",
       "   [3.7613833, 4.164982, 4.4525414, 4.509027],\n",
       "   [3.7834215, 3.9831934, 3.702734, 3.7160733],\n",
       "   [4.5212874, 4.1562057, 3.5352004, 4.1731434],\n",
       "   [4.1194124, 4.150908, 4.0993605, 4.155383],\n",
       "   [4.0963755, 3.7866473, 4.3342094, 3.350418],\n",
       "   [4.3611526, 4.4257474, 3.8550608, 4.229198],\n",
       "   [3.6030118, 4.631763, 4.6526275, 3.6275592],\n",
       "   [4.3541307, 3.9901497, 3.7778132, 4.3373165],\n",
       "   [4.1400285, 4.138745, 4.248427, 3.878867],\n",
       "   [4.0799475, 3.9445257, 4.3708663, 4.472785],\n",
       "   [4.3128195, 4.218238, 4.2683964, 3.5684328],\n",
       "   [4.242009, 3.3450198, 3.7067444, 4.1024203],\n",
       "   [4.308883, 3.6744497, 3.6443272, 4.2593226],\n",
       "   [4.0724077, 4.1896043, 4.4765778, 4.2531934]]}]"
      ]
     },
     "execution_count": 74,
     "metadata": {},
     "output_type": "execute_result"
    }
   ],
   "source": [
    "with open('nn.json') as fin:\n",
    "    nn_json_str = fin.read()\n",
    "    nn_json = json.loads(nn_json_str)\n",
    "\n",
    "nn_json"
   ]
  },
  {
   "attachments": {},
   "cell_type": "markdown",
   "metadata": {},
   "source": []
  },
  {
   "cell_type": "code",
   "execution_count": 75,
   "metadata": {},
   "outputs": [],
   "source": [
    "assert len(model.state_dict()) == 2 * len(nn_json)\n",
    "iter_states = iter(model.state_dict())\n",
    "\n",
    "# for layer in model.state_dict():\n",
    "#     print(layer)\n",
    "for layer_read in nn_json:\n",
    "    state_w = next(iter_states)\n",
    "    state_b = next(iter_states)\n",
    "    tensor_w = torch.tensor(layer_read['weight']).T\n",
    "    tensor_b = torch.tensor(layer_read['bias']).T\n",
    "    model.state_dict()[state_w].data.copy_(tensor_w)\n",
    "    model.state_dict()[state_b].data.copy_(tensor_b)"
   ]
  },
  {
   "cell_type": "code",
   "execution_count": 76,
   "metadata": {},
   "outputs": [
    {
     "data": {
      "text/plain": [
       "tensor([ True,  True, False,  True,  True, False,  True,  True,  True,  True,\n",
       "         True,  True, False, False, False, False, False, False, False, False,\n",
       "        False, False, False, False, False, False, False, False, False, False,\n",
       "        False, False, False, False, False, False, False, False, False, False,\n",
       "        False, False, False, False, False, False, False, False])"
      ]
     },
     "execution_count": 76,
     "metadata": {},
     "output_type": "execute_result"
    }
   ],
   "source": [
    "y_hat = torch.argmax(torch.softmax(model.forward(x), dim=1), dim=1) + 1\n",
    "\n",
    "y_hat == y"
   ]
  }
 ],
 "metadata": {
  "kernelspec": {
   "display_name": ".venv",
   "language": "python",
   "name": "python3"
  },
  "language_info": {
   "codemirror_mode": {
    "name": "ipython",
    "version": 3
   },
   "file_extension": ".py",
   "mimetype": "text/x-python",
   "name": "python",
   "nbconvert_exporter": "python",
   "pygments_lexer": "ipython3",
   "version": "3.8.10"
  },
  "orig_nbformat": 4
 },
 "nbformat": 4,
 "nbformat_minor": 2
}
