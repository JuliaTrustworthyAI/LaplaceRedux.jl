{
 "cells": [
  {
   "attachments": {},
   "cell_type": "markdown",
   "metadata": {},
   "source": [
    "# Decoding a neural network from a JSON file to Python, then encoding the hessian from laplace.py to a JSON"
   ]
  },
  {
   "attachments": {},
   "cell_type": "markdown",
   "metadata": {},
   "source": []
  },
  {
   "cell_type": "code",
   "execution_count": 4,
   "metadata": {},
   "outputs": [
    {
     "name": "stdout",
     "output_type": "stream",
     "text": [
      "Collecting laplace-torch\n",
      "  Using cached laplace_torch-0.1a2-py3-none-any.whl (45 kB)\n",
      "Collecting torch (from laplace-torch)\n",
      "  Using cached torch-2.0.1-cp311-cp311-win_amd64.whl (172.3 MB)\n",
      "Collecting torchvision (from laplace-torch)\n",
      "  Using cached torchvision-0.15.2-cp311-cp311-win_amd64.whl (1.2 MB)\n",
      "Collecting torchaudio (from laplace-torch)\n",
      "  Using cached torchaudio-2.0.2-cp311-cp311-win_amd64.whl (2.1 MB)\n",
      "Collecting backpack-for-pytorch (from laplace-torch)\n",
      "  Using cached backpack_for_pytorch-1.5.2-py3-none-any.whl (183 kB)\n",
      "Collecting asdfghjkl (from laplace-torch)\n",
      "  Using cached asdfghjkl-0.1a2-py3-none-any.whl (38 kB)\n",
      "Requirement already satisfied: filelock in c:\\users\\adeli\\onedrive\\desktop\\facultate\\2nd year\\q4 - software project\\laplaceredux.jl\\.venv\\lib\\site-packages (from torch->laplace-torch) (3.12.0)\n",
      "Requirement already satisfied: typing-extensions in c:\\users\\adeli\\onedrive\\desktop\\facultate\\2nd year\\q4 - software project\\laplaceredux.jl\\.venv\\lib\\site-packages (from torch->laplace-torch) (4.6.3)\n",
      "Requirement already satisfied: sympy in c:\\users\\adeli\\onedrive\\desktop\\facultate\\2nd year\\q4 - software project\\laplaceredux.jl\\.venv\\lib\\site-packages (from torch->laplace-torch) (1.12)\n",
      "Requirement already satisfied: networkx in c:\\users\\adeli\\onedrive\\desktop\\facultate\\2nd year\\q4 - software project\\laplaceredux.jl\\.venv\\lib\\site-packages (from torch->laplace-torch) (3.1)\n",
      "Requirement already satisfied: jinja2 in c:\\users\\adeli\\onedrive\\desktop\\facultate\\2nd year\\q4 - software project\\laplaceredux.jl\\.venv\\lib\\site-packages (from torch->laplace-torch) (3.1.2)\n",
      "INFO: pip is looking at multiple versions of backpack-for-pytorch to determine which version is compatible with other requirements. This could take a while.\n",
      "Collecting backpack-for-pytorch (from laplace-torch)\n",
      "  Using cached backpack_for_pytorch-1.5.1-py3-none-any.whl (182 kB)\n",
      "  Using cached backpack_for_pytorch-1.5.0-py3-none-any.whl (182 kB)\n",
      "  Using cached backpack_for_pytorch-1.4.0-py3-none-any.whl (174 kB)\n",
      "  Using cached backpack_for_pytorch-1.3.0-py3-none-any.whl (119 kB)\n",
      "  Using cached backpack_for_pytorch-1.2.0-py3-none-any.whl (160 kB)\n",
      "  Using cached backpack_for_pytorch-1.1.1-py3-none-any.whl (109 kB)\n",
      "  Using cached backpack_for_pytorch-1.1.0-py3-none-any.whl (98 kB)\n",
      "Collecting opt-einsum<3.0.0,>=2.3.2 (from backpack-for-pytorch->laplace-torch)\n",
      "  Using cached opt_einsum-2.3.2.tar.gz (59 kB)\n",
      "  Installing build dependencies: started\n",
      "  Installing build dependencies: finished with status 'done'\n",
      "  Getting requirements to build wheel: started\n",
      "  Getting requirements to build wheel: finished with status 'done'\n",
      "  Preparing metadata (pyproject.toml): started\n",
      "  Preparing metadata (pyproject.toml): finished with status 'done'\n",
      "INFO: pip is looking at multiple versions of backpack-for-pytorch to determine which version is compatible with other requirements. This could take a while.\n",
      "Collecting backpack-for-pytorch (from laplace-torch)\n",
      "  Using cached backpack_for_pytorch-1.0.1-py3-none-any.whl (91 kB)\n",
      "Collecting pytest<5.0.0,>=4.0.1 (from backpack-for-pytorch->laplace-torch)\n",
      "  Using cached pytest-4.6.11-py2.py3-none-any.whl (231 kB)\n",
      "Collecting pytest-benchmark<4.0.0,>=3.2.2 (from backpack-for-pytorch->laplace-torch)\n",
      "  Using cached pytest_benchmark-3.4.1-py2.py3-none-any.whl (50 kB)\n",
      "Collecting backpack-for-pytorch (from laplace-torch)\n",
      "  Using cached backpack_for_pytorch-1.0.0-py3-none-any.whl (4.2 kB)\n",
      "Collecting laplace-torch\n",
      "  Using cached laplace_torch-0.1a1-py3-none-any.whl (30 kB)\n",
      "INFO: This is taking longer than usual. You might need to provide the dependency resolver with stricter constraints to reduce runtime. See https://pip.pypa.io/warnings/backtracking for guidance. If you want to abort this run, press Ctrl + C.\n",
      "\n",
      "The conflict is caused by:\n",
      "    laplace-torch 0.1a1 depends on torch\n",
      "    asdfghjkl 0.1a2 depends on torch>=1.7.0\n",
      "    backpack-for-pytorch 1.5.2 depends on torch<2.0.0 and >=1.9.0\n",
      "    laplace-torch 0.1a1 depends on torch\n",
      "    asdfghjkl 0.1a2 depends on torch>=1.7.0\n",
      "    backpack-for-pytorch 1.5.1 depends on torch<1.13.0 and >=1.9.0\n",
      "    laplace-torch 0.1a1 depends on torch\n",
      "    asdfghjkl 0.1a2 depends on torch>=1.7.0\n",
      "    backpack-for-pytorch 1.5.0 depends on torch<2.0.0 and >=1.9.0\n",
      "    laplace-torch 0.1a1 depends on torch\n",
      "    asdfghjkl 0.1a2 depends on torch>=1.7.0\n",
      "    backpack-for-pytorch 1.4.0 depends on torch<2.0.0 and >=1.9.0\n",
      "    laplace-torch 0.1a1 depends on torch\n",
      "    asdfghjkl 0.1a2 depends on torch>=1.7.0\n",
      "    backpack-for-pytorch 1.3.0 depends on torch<2.0.0 and >=1.6.0\n",
      "    laplace-torch 0.1a1 depends on torch\n",
      "    asdfghjkl 0.1a2 depends on torch>=1.7.0\n",
      "    backpack-for-pytorch 1.2.0 depends on torch<2.0.0 and >=1.6.0\n",
      "    laplace-torch 0.1a1 depends on torch\n",
      "    asdfghjkl 0.1a2 depends on torch>=1.7.0\n",
      "    backpack-for-pytorch 1.1.1 depends on torch<2.0.0 and >=1.4.0\n",
      "    laplace-torch 0.1a1 depends on torch\n",
      "    asdfghjkl 0.1a2 depends on torch>=1.7.0\n",
      "    backpack-for-pytorch 1.1.0 depends on torch<2.0.0 and >=1.3.0\n",
      "    laplace-torch 0.1a1 depends on torch\n",
      "    asdfghjkl 0.1a2 depends on torch>=1.7.0\n",
      "    backpack-for-pytorch 1.0.1 depends on torch<2.0.0 and >=1.1.0\n",
      "    laplace-torch 0.1a1 depends on torch\n",
      "    asdfghjkl 0.1a2 depends on torch>=1.7.0\n",
      "    backpack-for-pytorch 1.0.0 depends on torch<2.0.0 and >=1.1.0\n",
      "\n",
      "To fix this you could try to:\n",
      "1. loosen the range of package versions you've specified\n",
      "2. remove package versions to allow pip attempt to solve the dependency conflict\n",
      "\n"
     ]
    },
    {
     "name": "stderr",
     "output_type": "stream",
     "text": [
      "ERROR: Cannot install laplace-torch and laplace-torch==0.1a1 because these package versions have conflicting dependencies.\n",
      "ERROR: ResolutionImpossible: for help visit https://pip.pypa.io/en/latest/topics/dependency-resolution/#dealing-with-dependency-conflicts\n"
     ]
    }
   ],
   "source": [
    "!pip install laplace-torch"
   ]
  },
  {
   "cell_type": "code",
   "execution_count": 2,
   "metadata": {},
   "outputs": [
    {
     "ename": "ModuleNotFoundError",
     "evalue": "No module named 'torch'",
     "output_type": "error",
     "traceback": [
      "\u001b[1;31m---------------------------------------------------------------------------\u001b[0m",
      "\u001b[1;31mModuleNotFoundError\u001b[0m                       Traceback (most recent call last)",
      "Cell \u001b[1;32mIn[2], line 6\u001b[0m\n\u001b[0;32m      4\u001b[0m \u001b[38;5;28;01mimport\u001b[39;00m \u001b[38;5;21;01mnumpy\u001b[39;00m \u001b[38;5;28;01mas\u001b[39;00m \u001b[38;5;21;01mnp\u001b[39;00m\n\u001b[0;32m      5\u001b[0m \u001b[38;5;28;01mimport\u001b[39;00m \u001b[38;5;21;01mpandas\u001b[39;00m \u001b[38;5;28;01mas\u001b[39;00m \u001b[38;5;21;01mpd\u001b[39;00m\n\u001b[1;32m----> 6\u001b[0m \u001b[38;5;28;01mimport\u001b[39;00m \u001b[38;5;21;01mtorch\u001b[39;00m\n\u001b[0;32m      8\u001b[0m \u001b[38;5;28;01mimport\u001b[39;00m \u001b[38;5;21;01mjson\u001b[39;00m\n\u001b[0;32m     10\u001b[0m \u001b[38;5;28;01mimport\u001b[39;00m \u001b[38;5;21;01mtorch\u001b[39;00m\u001b[38;5;21;01m.\u001b[39;00m\u001b[38;5;21;01mnn\u001b[39;00m \u001b[38;5;28;01mas\u001b[39;00m \u001b[38;5;21;01mnn\u001b[39;00m\n",
      "\u001b[1;31mModuleNotFoundError\u001b[0m: No module named 'torch'"
     ]
    }
   ],
   "source": [
    "# imports\n",
    "from laplace import Laplace\n",
    "\n",
    "import numpy as np\n",
    "import pandas as pd\n",
    "import torch\n",
    "\n",
    "import json\n",
    "\n",
    "import torch.nn as nn\n",
    "from torch.utils.data import TensorDataset, DataLoader\n",
    "\n",
    "torch.manual_seed(43)\n",
    "torch.set_printoptions(sci_mode=False)"
   ]
  },
  {
   "attachments": {},
   "cell_type": "markdown",
   "metadata": {},
   "source": []
  }
 ],
 "metadata": {
  "kernelspec": {
   "display_name": "Python 3 (ipykernel)",
   "language": "python",
   "name": "python3"
  },
  "language_info": {
   "codemirror_mode": {
    "name": "ipython",
    "version": 3
   },
   "file_extension": ".py",
   "mimetype": "text/x-python",
   "name": "python",
   "nbconvert_exporter": "python",
   "pygments_lexer": "ipython3",
   "version": "3.11.2"
  }
 },
 "nbformat": 4,
 "nbformat_minor": 4
}
