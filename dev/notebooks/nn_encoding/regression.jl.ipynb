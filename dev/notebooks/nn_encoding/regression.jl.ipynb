{
 "cells": [
  {
   "cell_type": "code",
   "execution_count": 1,
   "metadata": {},
   "outputs": [],
   "source": [
    "using Pkg; Pkg.activate(\".\")\n",
    "# Import libraries\n",
    "using Flux, Plots, Random, Statistics, LaplaceRedux, MLUtils"
   ]
  },
  {
   "cell_type": "code",
   "execution_count": null,
   "metadata": {},
   "outputs": [],
   "source": [
    "using LaplaceRedux.Data\n",
    "n = 300       # number of observations\n",
    "σtrue = 0.30  # true observational noise\n",
    "x, y = Data.toy_data_regression(n;noise=σtrue)\n",
    "xs = [[x] for x in x]\n",
    "X = permutedims(x)\n",
    "\n",
    "dl = DataLoader((x,y), batchsize=5)"
   ]
  },
  {
   "cell_type": "code",
   "execution_count": null,
   "metadata": {},
   "outputs": [],
   "source": [
    "data = zip(xs,y)\n",
    "n_hidden = 50\n",
    "D = size(X,1)\n",
    "nn = Chain(\n",
    "    Dense(D, n_hidden, tanh),\n",
    "    Dense(n_hidden, 1)\n",
    ")  \n",
    "loss(x, y) = Flux.Losses.mse(nn(x), y)"
   ]
  },
  {
   "cell_type": "code",
   "execution_count": null,
   "metadata": {},
   "outputs": [],
   "source": [
    "using Flux.Optimise: update!, Adam\n",
    "opt = Adam(1e-3)\n",
    "epochs = 1000\n",
    "avg_loss(data) = mean(map(d -> loss(d[1],d[2]), data))\n",
    "show_every = epochs/10\n",
    "\n",
    "for epoch = 1:epochs\n",
    "  for d in data\n",
    "    gs = gradient(Flux.params(nn)) do\n",
    "      l = loss(d...)\n",
    "    end\n",
    "    update!(opt, Flux.params(nn), gs)\n",
    "  end\n",
    "  if epoch % show_every == 0\n",
    "    println(\"Epoch \" * string(epoch))\n",
    "    @show avg_loss(data)\n",
    "  end\n",
    "end"
   ]
  },
  {
   "cell_type": "code",
   "execution_count": 12,
   "metadata": {},
   "outputs": [],
   "source": [
    "la = Laplace(nn; likelihood=:regression, hessian_structure=:full, subset_of_weights=:all, backend=:EmpiricalFisher)\n",
    "fit!(la, data)\n",
    "la.H"
   ]
  }
 ],
 "metadata": {
  "kernelspec": {
   "display_name": "Julia 1.8.5",
   "language": "julia",
   "name": "julia-1.8"
  },
  "language_info": {
   "file_extension": ".jl",
   "mimetype": "application/julia",
   "name": "julia",
   "version": "1.8.5"
  },
  "orig_nbformat": 4
 },
 "nbformat": 4,
 "nbformat_minor": 2
}
