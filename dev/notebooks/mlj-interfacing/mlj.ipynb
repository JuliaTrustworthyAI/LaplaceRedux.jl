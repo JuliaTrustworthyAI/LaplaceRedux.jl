{
 "cells": [
  {
   "cell_type": "code",
   "execution_count": 1,
   "metadata": {},
   "outputs": [
    {
     "name": "stderr",
     "output_type": "stream",
     "text": [
      "\u001b[32m\u001b[1m  Activating\u001b[22m\u001b[39m project at `c:\\Users\\marka\\Documents\\VSCode\\Julia\\LaplaceRedux.jl`\n"
     ]
    },
    {
     "name": "stderr",
     "output_type": "stream",
     "text": [
      "WARNING: using ProgressMeter.update! in module LaplaceRedux conflicts with an existing identifier.\n"
     ]
    }
   ],
   "source": [
    "using Pkg\n",
    "Pkg.activate(\"../../..\")\n",
    "using LaplaceRedux\n",
    "import Random\n",
    "import Random.seed!\n",
    "using MLJ\n",
    "using MLJBase"
   ]
  },
  {
   "cell_type": "code",
   "execution_count": 2,
   "metadata": {},
   "outputs": [],
   "source": [
    "seed!(1234)\n",
    "N = 300\n",
    "X = MLJBase.table(rand(Float32, N, 4));\n",
    "ycont = 2*X.x1 - X.x3 + 0.1*rand(N)\n",
    "m, M = minimum(ycont), maximum(ycont)   \n",
    "_, a, b, _ = range(m, stop=M, length=4) |> collect\n",
    "y = map(ycont) do η\n",
    "    if η < 0.9*a\n",
    "        'a'\n",
    "    elseif η < 1.1*b\n",
    "        'b'\n",
    "    else\n",
    "        'c'\n",
    "    end\n",
    "end |> categorical;\n"
   ]
  },
  {
   "cell_type": "code",
   "execution_count": 3,
   "metadata": {},
   "outputs": [
    {
     "data": {
      "text/plain": [
       "untrained Machine; caches model-specific representations of data\n",
       "  model: LaplaceApproximation(builder = MLP(hidden = (32, 32, 32), …), …)\n",
       "  args: \n",
       "    1:\tSource @596 ⏎ Table{AbstractVector{Continuous}}\n",
       "    2:\tSource @811 ⏎ AbstractVector{Multiclass{3}}\n"
      ]
     },
     "metadata": {},
     "output_type": "display_data"
    }
   ],
   "source": [
    "la = LaplaceApproximation()\n",
    "mach = machine(la, X, y)"
   ]
  },
  {
   "cell_type": "code",
   "execution_count": 4,
   "metadata": {},
   "outputs": [
    {
     "name": "stderr",
     "output_type": "stream",
     "text": [
      "┌ Info: Training machine(LaplaceApproximation(builder = MLP(hidden = (32, 32, 32), …), …), …).\n",
      "└ @ MLJBase C:\\Users\\marka\\.julia\\packages\\MLJBase\\5cxU0\\src\\machines.jl:492\n",
      "\r\u001b[33mOptimising neural net:  18%[====>                    ]  ETA: 0:00:56\u001b[39m\u001b[K"
     ]
    },
    {
     "name": "stderr",
     "output_type": "stream",
     "text": [
      "\r\u001b[33mOptimising neural net:  36%[=========>               ]  ETA: 0:00:23\u001b[39m\u001b[K"
     ]
    },
    {
     "name": "stderr",
     "output_type": "stream",
     "text": [
      "\r\u001b[33mOptimising neural net:  45%[===========>             ]  ETA: 0:00:16\u001b[39m\u001b[K"
     ]
    },
    {
     "name": "stderr",
     "output_type": "stream",
     "text": [
      "\r\u001b[33mOptimising neural net:  55%[=============>           ]  ETA: 0:00:11\u001b[39m\u001b[K"
     ]
    },
    {
     "name": "stderr",
     "output_type": "stream",
     "text": [
      "\r\u001b[33mOptimising neural net:  64%[===============>         ]  ETA: 0:00:08\u001b[39m\u001b[K"
     ]
    },
    {
     "name": "stderr",
     "output_type": "stream",
     "text": [
      "\r\u001b[33mOptimising neural net:  73%[==================>      ]  ETA: 0:00:05\u001b[39m\u001b[K"
     ]
    },
    {
     "name": "stderr",
     "output_type": "stream",
     "text": [
      "\r\u001b[33mOptimising neural net:  82%[====================>    ]  ETA: 0:00:03\u001b[39m\u001b[K"
     ]
    },
    {
     "name": "stderr",
     "output_type": "stream",
     "text": [
      "\r\u001b[33mOptimising neural net:  91%[======================>  ]  ETA: 0:00:01\u001b[39m\u001b[K"
     ]
    },
    {
     "name": "stderr",
     "output_type": "stream",
     "text": [
      "\r\u001b[33mOptimising neural net: 100%[=========================] Time: 0:00:14\u001b[39m\u001b[K\n"
     ]
    },
    {
     "name": "stdout",
     "output_type": "stream",
     "text": [
      "Vector{"
     ]
    },
    {
     "name": "stdout",
     "output_type": "stream",
     "text": [
      "Float32}"
     ]
    },
    {
     "name": "stdout",
     "output_type": "stream",
     "text": [
      "\n",
      "Vector{Float32}\n",
      "Vector{Float32}\n",
      "Vector{Float32}"
     ]
    },
    {
     "name": "stdout",
     "output_type": "stream",
     "text": [
      "\n",
      "Vector{Float32}\n",
      "Vector{Float32}\n",
      "Vector{Float32}"
     ]
    },
    {
     "name": "stdout",
     "output_type": "stream",
     "text": [
      "\n",
      "Vector{Float32}\n",
      "Vector{Float32}"
     ]
    },
    {
     "name": "stdout",
     "output_type": "stream",
     "text": [
      "\n",
      "Vector{Float32}\n",
      "Vector{Float32}\n",
      "Vector{Float32}"
     ]
    },
    {
     "name": "stdout",
     "output_type": "stream",
     "text": [
      "\n",
      "Vector{Float32}\n",
      "Vector{Float32}\n",
      "Vector{Float32}\n"
     ]
    },
    {
     "name": "stdout",
     "output_type": "stream",
     "text": [
      "Vector{Float32}\n",
      "Vector{Float32}\n"
     ]
    },
    {
     "name": "stdout",
     "output_type": "stream",
     "text": [
      "Vector{Float32}\n",
      "Vector{Float32}\n",
      "Vector{Float32}\n"
     ]
    },
    {
     "name": "stdout",
     "output_type": "stream",
     "text": [
      "Vector{Float32}\n",
      "Vector{Float32}\n",
      "Vector{Float32}\n"
     ]
    },
    {
     "name": "stdout",
     "output_type": "stream",
     "text": [
      "Vector{Float32}\n",
      "Vector{Float32}"
     ]
    },
    {
     "name": "stdout",
     "output_type": "stream",
     "text": [
      "\n",
      "Vector{Float32}\n",
      "Vector{Float32}\n"
     ]
    },
    {
     "name": "stdout",
     "output_type": "stream",
     "text": [
      "Vector{Float32}\n",
      "Vector{Float32}\n",
      "Vector{Float32}"
     ]
    },
    {
     "name": "stdout",
     "output_type": "stream",
     "text": [
      "\n",
      "Vector{Float32}\n",
      "Vector{"
     ]
    },
    {
     "name": "stdout",
     "output_type": "stream",
     "text": [
      "Float32}\n",
      "Vector{Float32}\n",
      "Vector{Float32}"
     ]
    },
    {
     "name": "stdout",
     "output_type": "stream",
     "text": [
      "\n",
      "Vector{Float32}\n",
      "Vector{Float32}"
     ]
    },
    {
     "name": "stdout",
     "output_type": "stream",
     "text": [
      "\n",
      "Vector{Float32}\n",
      "Vector{Float32}\n",
      "Vector{Float32}\n",
      "Vector{"
     ]
    },
    {
     "name": "stdout",
     "output_type": "stream",
     "text": [
      "Float32}\n",
      "Vector{Float32}\n",
      "Vector{Float32}\n",
      "Vector{Float32}\n"
     ]
    },
    {
     "name": "stdout",
     "output_type": "stream",
     "text": [
      "Vector{Float32}\n",
      "Vector{Float32}\n",
      "Vector{Float32}\n",
      "Vector{Float32}\n"
     ]
    },
    {
     "name": "stdout",
     "output_type": "stream",
     "text": [
      "Vector{Float32}\n",
      "Vector{Float32}\n",
      "Vector{Float32}\n",
      "Vector{Float32}\n"
     ]
    },
    {
     "name": "stdout",
     "output_type": "stream",
     "text": [
      "Vector{Float32}\n",
      "Vector{Float32}\n",
      "Vector{Float32}\n"
     ]
    },
    {
     "name": "stdout",
     "output_type": "stream",
     "text": [
      "Vector{Float32}\n",
      "Vector{Float32}\n"
     ]
    },
    {
     "name": "stdout",
     "output_type": "stream",
     "text": [
      "Vector{Float32}\n",
      "Vector{Float32}\n",
      "Vector{Float32}\n"
     ]
    },
    {
     "name": "stdout",
     "output_type": "stream",
     "text": [
      "Vector{Float32}\n",
      "Vector{Float32}\n",
      "Vector{Float32}\n",
      "Vector"
     ]
    },
    {
     "name": "stdout",
     "output_type": "stream",
     "text": [
      "{Float32}\n",
      "Vector{Float32}\n",
      "Vector{Float32}\n",
      "Vector{Float32}\n"
     ]
    },
    {
     "name": "stdout",
     "output_type": "stream",
     "text": [
      "Vector{Float32}\n",
      "Vector{Float32}\n",
      "Vector{Float32}\n",
      "Vector{Float32}\n"
     ]
    },
    {
     "name": "stdout",
     "output_type": "stream",
     "text": [
      "Vector{Float32}\n",
      "Vector{Float32}\n",
      "Vector{Float32}\n",
      "Vector{Float32}\n"
     ]
    },
    {
     "name": "stdout",
     "output_type": "stream",
     "text": [
      "Vector{Float32}\n",
      "Vector{Float32}\n",
      "Vector{Float32}\n",
      "Vector{Float32}\n"
     ]
    },
    {
     "name": "stdout",
     "output_type": "stream",
     "text": [
      "Vector{Float32}\n",
      "Vector{Float32}\n",
      "Vector{Float32}\n",
      "Vector{Float32}"
     ]
    },
    {
     "name": "stdout",
     "output_type": "stream",
     "text": [
      "\n",
      "Vector{Float32}\n",
      "Vector{Float32}\n"
     ]
    },
    {
     "name": "stdout",
     "output_type": "stream",
     "text": [
      "Vector{Float32}\n",
      "Vector{Float32}\n",
      "Vector{Float32}\n"
     ]
    },
    {
     "name": "stdout",
     "output_type": "stream",
     "text": [
      "Vector{Float32}\n",
      "Vector{Float32}\n",
      "Vector{Float32}\n"
     ]
    },
    {
     "name": "stdout",
     "output_type": "stream",
     "text": [
      "Vector{Float32}\n",
      "Vector{Float32}\n",
      "Vector{Float32}"
     ]
    },
    {
     "name": "stdout",
     "output_type": "stream",
     "text": [
      "\n",
      "Vector{Float32}\n",
      "Vector{Float32}\n",
      "Vector{Float32}\n",
      "Vector{Float32}"
     ]
    },
    {
     "name": "stdout",
     "output_type": "stream",
     "text": [
      "\n",
      "Vector{Float32}\n",
      "Vector{Float32}\n",
      "Vector{Float32}\n"
     ]
    },
    {
     "name": "stdout",
     "output_type": "stream",
     "text": [
      "Vector{Float32}\n",
      "Vector{Float32}\n",
      "Vector{Float32}\n"
     ]
    },
    {
     "name": "stdout",
     "output_type": "stream",
     "text": [
      "Vector{Float32}\n",
      "Vector{Float32}\n"
     ]
    },
    {
     "name": "stdout",
     "output_type": "stream",
     "text": [
      "Vector{Float32}\n",
      "Vector{Float32}\n",
      "Vector{Float32}\n"
     ]
    },
    {
     "name": "stdout",
     "output_type": "stream",
     "text": [
      "Vector{Float32}\n",
      "Vector{Float32}\n",
      "Vector{Float32}\n",
      "Vector{Float32}\n"
     ]
    },
    {
     "name": "stdout",
     "output_type": "stream",
     "text": [
      "Vector{Float32}\n",
      "Vector{Float32}\n"
     ]
    },
    {
     "name": "stdout",
     "output_type": "stream",
     "text": [
      "Vector{Float32}\n",
      "Vector{Float32}\n",
      "Vector{Float32}\n"
     ]
    },
    {
     "name": "stdout",
     "output_type": "stream",
     "text": [
      "Vector{Float32}\n",
      "Vector{Float32}\n",
      "Vector{Float32}\n"
     ]
    },
    {
     "name": "stdout",
     "output_type": "stream",
     "text": [
      "Vector{Float32}\n",
      "Vector{Float32}\n",
      "Vector{Float32}\n",
      "Vector{Float32}\n"
     ]
    },
    {
     "name": "stdout",
     "output_type": "stream",
     "text": [
      "Vector{Float32}\n",
      "Vector{Float32}\n",
      "Vector{Float32}\n"
     ]
    },
    {
     "name": "stdout",
     "output_type": "stream",
     "text": [
      "Vector{Float32}\n",
      "Vector{Float32}\n",
      "Vector{Float32}\n",
      "Vector{Float32}"
     ]
    },
    {
     "name": "stdout",
     "output_type": "stream",
     "text": [
      "\n",
      "Vector{Float32}\n",
      "Vector{Float32}\n",
      "Vector{Float32}"
     ]
    },
    {
     "name": "stdout",
     "output_type": "stream",
     "text": [
      "\n",
      "Vector{Float32}\n",
      "Vector{Float32}\n",
      "Vector{Float32}\n",
      "Vector{Float32}\n"
     ]
    },
    {
     "name": "stdout",
     "output_type": "stream",
     "text": [
      "Vector{Float32}\n",
      "Vector{Float32}\n",
      "Vector{Float32}\n",
      "Vector{Float32}\n"
     ]
    },
    {
     "name": "stdout",
     "output_type": "stream",
     "text": [
      "Vector{Float32}\n",
      "Vector{Float32}"
     ]
    },
    {
     "name": "stdout",
     "output_type": "stream",
     "text": [
      "\n",
      "Vector{Float32}\n",
      "Vector{Float32}\n",
      "Vector{Float32}\n",
      "Vector{Float32}\n"
     ]
    },
    {
     "name": "stdout",
     "output_type": "stream",
     "text": [
      "Vector{Float32}\n",
      "Vector{Float32}\n",
      "Vector{Float32}\n"
     ]
    },
    {
     "name": "stdout",
     "output_type": "stream",
     "text": [
      "Vector{Float32}\n",
      "Vector{Float32}\n",
      "Vector{Float32}\n",
      "Vector{Float32}"
     ]
    },
    {
     "name": "stdout",
     "output_type": "stream",
     "text": [
      "\n",
      "Vector{Float32}\n",
      "Vector{Float32}\n",
      "Vector{Float32}\n",
      "Vector{Float32}"
     ]
    },
    {
     "name": "stdout",
     "output_type": "stream",
     "text": [
      "\n",
      "Vector{Float32}\n",
      "Vector{Float32}"
     ]
    },
    {
     "name": "stdout",
     "output_type": "stream",
     "text": [
      "\n",
      "Vector{Float32}\n",
      "Vector{Float32}\n",
      "Vector{Float32}\n"
     ]
    },
    {
     "name": "stdout",
     "output_type": "stream",
     "text": [
      "Vector{Float32}\n",
      "Vector{Float32}\n",
      "Vector{Float32}\n"
     ]
    },
    {
     "name": "stdout",
     "output_type": "stream",
     "text": [
      "Vector{Float32}\n",
      "Vector{Float32}\n",
      "Vector{Float32}\n",
      "Vector{Float32}\n"
     ]
    },
    {
     "name": "stdout",
     "output_type": "stream",
     "text": [
      "Vector{Float32}\n",
      "Vector{Float32}\n"
     ]
    },
    {
     "name": "stdout",
     "output_type": "stream",
     "text": [
      "Vector{Float32}\n",
      "Vector{Float32}\n",
      "Vector{Float32}"
     ]
    },
    {
     "name": "stdout",
     "output_type": "stream",
     "text": [
      "\n",
      "Vector{Float32}\n",
      "Vector{Float32}"
     ]
    },
    {
     "name": "stdout",
     "output_type": "stream",
     "text": [
      "\n",
      "Vector{Float32}\n",
      "Vector{Float32}\n",
      "Vector{Float32}\n",
      "Vector{Float32}"
     ]
    },
    {
     "name": "stdout",
     "output_type": "stream",
     "text": [
      "\n",
      "Vector{Float32}\n",
      "Vector{Float32}\n",
      "Vector{Float32}\n"
     ]
    },
    {
     "name": "stdout",
     "output_type": "stream",
     "text": [
      "Vector{Float32}\n",
      "Vector{Float32}\n",
      "Vector{Float32}\n",
      "Vector{Float32}"
     ]
    },
    {
     "name": "stdout",
     "output_type": "stream",
     "text": [
      "\n",
      "Vector{Float32}\n",
      "Vector{Float32}\n"
     ]
    },
    {
     "name": "stdout",
     "output_type": "stream",
     "text": [
      "Vector{Float32}\n",
      "Vector{Float32}\n",
      "Vector{Float32}\n",
      "Vector"
     ]
    },
    {
     "name": "stdout",
     "output_type": "stream",
     "text": [
      "{Float32}\n",
      "Vector{Float32}\n",
      "Vector{Float32}\n",
      "Vector{Float32}\n"
     ]
    },
    {
     "name": "stdout",
     "output_type": "stream",
     "text": [
      "Vector{Float32}\n",
      "Vector{Float32}\n",
      "Vector{Float32}"
     ]
    },
    {
     "name": "stdout",
     "output_type": "stream",
     "text": [
      "\n",
      "Vector{Float32}\n",
      "Vector{Float32}\n"
     ]
    },
    {
     "name": "stdout",
     "output_type": "stream",
     "text": [
      "Vector{Float32}\n",
      "Vector{Float32}\n",
      "Vector{Float32}\n"
     ]
    },
    {
     "name": "stdout",
     "output_type": "stream",
     "text": [
      "Vector{Float32}\n",
      "Vector{Float32}"
     ]
    },
    {
     "name": "stdout",
     "output_type": "stream",
     "text": [
      "\n",
      "Vector{Float32}\n",
      "Vector{Float32}\n",
      "Vector{Float32}"
     ]
    },
    {
     "name": "stdout",
     "output_type": "stream",
     "text": [
      "\n",
      "Vector{Float32}\n",
      "Vector{Float32}\n",
      "Vector{Float32}\n"
     ]
    },
    {
     "name": "stdout",
     "output_type": "stream",
     "text": [
      "Vector{Float32}\n",
      "Vector{Float32}\n",
      "Vector{Float32}\n",
      "Vector{Float32}\n"
     ]
    },
    {
     "name": "stdout",
     "output_type": "stream",
     "text": [
      "Vector{Float32}\n",
      "Vector{Float32}\n",
      "Vector{Float32}\n",
      "Vector{Float32}"
     ]
    },
    {
     "name": "stdout",
     "output_type": "stream",
     "text": [
      "\n",
      "Vector{Float32}\n",
      "Vector{Float32}\n",
      "Vector{Float32}\n",
      "Vector{Float32}\n"
     ]
    },
    {
     "name": "stdout",
     "output_type": "stream",
     "text": [
      "Vector{Float32}\n",
      "Vector{Float32}\n",
      "Vector{Float32}"
     ]
    },
    {
     "name": "stdout",
     "output_type": "stream",
     "text": [
      "\n",
      "Vector{Float32}\n",
      "Vector{Float32}\n",
      "Vector{Float32}\n"
     ]
    },
    {
     "name": "stdout",
     "output_type": "stream",
     "text": [
      "Vector{Float32}\n",
      "Vector{Float32}\n",
      "Vector{Float32}\n"
     ]
    },
    {
     "name": "stdout",
     "output_type": "stream",
     "text": [
      "Vector{Float32}\n",
      "Vector{Float32}\n",
      "Vector{Float32}\n"
     ]
    },
    {
     "name": "stdout",
     "output_type": "stream",
     "text": [
      "Vector{Float32}\n",
      "Vector{Float32}\n",
      "Vector{Float32}\n"
     ]
    },
    {
     "name": "stdout",
     "output_type": "stream",
     "text": [
      "Vector{Float32}\n",
      "Vector{Float32}\n",
      "Vector{Float32}\n"
     ]
    },
    {
     "name": "stdout",
     "output_type": "stream",
     "text": [
      "Vector{Float32}\n",
      "Vector{Float32}\n",
      "Vector{Float32}\n"
     ]
    },
    {
     "name": "stdout",
     "output_type": "stream",
     "text": [
      "Vector{Float32}\n",
      "Vector{Float32}\n",
      "Vector{Float32}"
     ]
    },
    {
     "name": "stdout",
     "output_type": "stream",
     "text": [
      "\n",
      "Vector{Float32}\n",
      "Vector{Float32}\n",
      "Vector{Float32}\n",
      "Vector"
     ]
    },
    {
     "name": "stdout",
     "output_type": "stream",
     "text": [
      "{Float32}\n",
      "Vector{Float32}\n",
      "Vector{Float32}\n"
     ]
    },
    {
     "name": "stdout",
     "output_type": "stream",
     "text": [
      "Vector{Float32}\n",
      "Vector{Float32}\n",
      "Vector{Float32}\n"
     ]
    },
    {
     "name": "stdout",
     "output_type": "stream",
     "text": [
      "Vector{Float32}\n",
      "Vector{Float32}\n",
      "Vector{Float32}\n",
      "Vector{Float32}"
     ]
    },
    {
     "name": "stdout",
     "output_type": "stream",
     "text": [
      "\n",
      "Vector{Float32}\n",
      "Vector{Float32}\n",
      "Vector{Float32}\n"
     ]
    },
    {
     "name": "stdout",
     "output_type": "stream",
     "text": [
      "Vector{Float32}\n",
      "Vector{Float32}\n",
      "Vector{Float32}\n",
      "Vector{Float32}\n"
     ]
    },
    {
     "name": "stdout",
     "output_type": "stream",
     "text": [
      "Vector{Float32}\n",
      "Vector{Float32}\n",
      "Vector{Float32}\n",
      "Vector{Float32}\n"
     ]
    },
    {
     "name": "stdout",
     "output_type": "stream",
     "text": [
      "Vector{Float32}\n",
      "Vector{Float32}\n",
      "Vector{Float32}"
     ]
    },
    {
     "name": "stdout",
     "output_type": "stream",
     "text": [
      "\n",
      "Vector{Float32}\n",
      "Vector{Float32}\n",
      "Vector{Float32}\n",
      "Vector{Float32}\n"
     ]
    },
    {
     "name": "stdout",
     "output_type": "stream",
     "text": [
      "Vector{Float32}\n",
      "Vector{Float32}\n",
      "Vector{Float32}\n"
     ]
    },
    {
     "name": "stdout",
     "output_type": "stream",
     "text": [
      "Vector{Float32}\n",
      "Vector{Float32}\n",
      "Vector"
     ]
    },
    {
     "name": "stdout",
     "output_type": "stream",
     "text": [
      "{Float32}\n",
      "Vector{Float32}\n",
      "Vector{Float32}\n",
      "Vector{Float32"
     ]
    },
    {
     "name": "stdout",
     "output_type": "stream",
     "text": [
      "}\n",
      "Vector{Float32}\n",
      "Vector{Float32}\n",
      "Vector{Float32}\n"
     ]
    },
    {
     "name": "stdout",
     "output_type": "stream",
     "text": [
      "Vector{Float32}\n",
      "Vector{Float32}\n",
      "Vector{Float32}\n"
     ]
    },
    {
     "name": "stdout",
     "output_type": "stream",
     "text": [
      "Vector{Float32}\n",
      "Vector{Float32}\n",
      "Vector{Float32}\n",
      "Vector{Float32}"
     ]
    },
    {
     "name": "stdout",
     "output_type": "stream",
     "text": [
      "\n"
     ]
    },
    {
     "data": {
      "text/plain": [
       "trained Machine; caches model-specific representations of data\n",
       "  model: LaplaceApproximation(builder = MLP(hidden = (32, 32, 32), …), …)\n",
       "  args: \n",
       "    1:\tSource @596 ⏎ Table{AbstractVector{Continuous}}\n",
       "    2:\tSource @811 ⏎ AbstractVector{Multiclass{3}}\n"
      ]
     },
     "metadata": {},
     "output_type": "display_data"
    }
   ],
   "source": [
    "MLJ.fit!(mach)"
   ]
  },
  {
   "cell_type": "code",
   "execution_count": 6,
   "metadata": {},
   "outputs": [
    {
     "name": "stderr",
     "output_type": "stream",
     "text": [
      "┌ Warning: Layer with Float32 parameters got Float64 input.\n",
      "│   The input will be converted, but any earlier layers may be very slow.\n",
      "│   layer = Dense(4 => 32, swish)\n",
      "│   summary(x) = 4-element Vector{Float64}\n",
      "└ @ Flux C:\\Users\\marka\\.julia\\packages\\Flux\\EHgZm\\src\\layers\\stateless.jl:60\n",
      "┌ Warning: No `CategoricalValue` found from which to extract a complete pool of classes. Creating a new pool (ordered=false). You can:\n",
      "│  (i) specify `pool=missing` to suppress this warning; or\n",
      "│  (ii) use an existing pool by specifying `pool=c` where `c` is a `CategoricalArray`, `CategoricalValue` or CategoricalPool`.\n",
      "│ In case (i) specify `ordered=true` if samples are to be `OrderedFactor`. \n",
      "└ @ CategoricalDistributions C:\\Users\\marka\\.julia\\packages\\CategoricalDistributions\\4BYAU\\src\\types.jl:439\n"
     ]
    },
    {
     "data": {
      "text/plain": [
       "UnivariateFinite{Multiclass{3}}(class_1=>0.508, class_2=>0.267, class_3=>0.225)"
      ]
     },
     "metadata": {},
     "output_type": "display_data"
    }
   ],
   "source": [
    "MLJ.predict(mach, [0.1, 0.2, 0.3, 0.4])"
   ]
  }
 ],
 "metadata": {
  "kernelspec": {
   "display_name": "Julia 1.9.0",
   "language": "julia",
   "name": "julia-1.9"
  },
  "language_info": {
   "file_extension": ".jl",
   "mimetype": "application/julia",
   "name": "julia",
   "version": "1.9.0"
  },
  "orig_nbformat": 4
 },
 "nbformat": 4,
 "nbformat_minor": 2
}
