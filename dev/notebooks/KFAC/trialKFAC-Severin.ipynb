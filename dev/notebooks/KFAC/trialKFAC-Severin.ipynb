{
 "cells": [
  {
   "cell_type": "markdown",
   "metadata": {},
   "source": [
    "# Trials for KFAC\n",
    "## Generic setup (regression task)"
   ]
  },
  {
   "cell_type": "code",
   "execution_count": null,
   "metadata": {
    "tags": []
   },
   "outputs": [],
   "source": [
    "using Pkg\n",
    "Pkg.activate(\".\")\n",
    "using LaplaceRedux\n",
    "using LaplaceRedux.Curvature\n",
    "using LaplaceRedux.Data\n",
    "using Flux\n",
    "using Flux.Optimise: update!, Adam\n",
    "using Plots\n",
    "using Statistics\n",
    "using MLUtils\n",
    "using Zygote\n",
    "using Printf\n",
    "using NNlib\n",
    "using BenchmarkTools\n",
    "using Tullio"
   ]
  },
  {
   "cell_type": "code",
   "execution_count": null,
   "metadata": {
    "tags": []
   },
   "outputs": [],
   "source": [
    "# Init data\n",
    "n = 2000\n",
    "data_dict = Dict()\n",
    "bsize = 10\n",
    "\n",
    "x, y = LaplaceRedux.Data.toy_data_regression(n)\n",
    "xs = [[x] for x in x]\n",
    "X, Y = reduce(hcat, x), reduce(hcat, y)\n",
    "\n",
    "# dataloader = DataLoader((X, Y), batchsize=bsize)\n",
    "data = zip(xs, y)\n",
    "data_dict[:regression] = Dict(\n",
    "    :data => data,\n",
    "    :X => X,\n",
    "    :y => y,\n",
    "    :outdim => 1,\n",
    "    :loss_fun => :mse,\n",
    "    :likelihood => :regression,\n",
    ")"
   ]
  },
  {
   "cell_type": "code",
   "execution_count": 1,
   "metadata": {
    "tags": []
   },
   "outputs": [
    {
     "ename": "LoadError",
     "evalue": "UndefVarError: `data_dict` not defined",
     "output_type": "error",
     "traceback": [
      "UndefVarError: `data_dict` not defined",
      "",
      "Stacktrace:",
      " [1] top-level scope",
      "   @ In[1]:3"
     ]
    }
   ],
   "source": [
    "# Train a NN model\n",
    "\n",
    "val = data_dict[:regression]\n",
    "\n",
    "# Unpack:\n",
    "data = val[:data]\n",
    "X = val[:X]\n",
    "y = val[:y]\n",
    "outdim = val[:outdim]\n",
    "loss_fun = val[:loss_fun]\n",
    "likelihood = val[:likelihood]\n",
    "\n",
    "# Neural network:\n",
    "n_hidden = 32\n",
    "D = size(X, 1)\n",
    "nn = Chain(Dense(D, n_hidden, σ), Dense(n_hidden, outdim))\n",
    "λ = 0.01\n",
    "sqnorm(x) = sum(abs2, x)\n",
    "weight_regularization(λ=λ) = 1 / 2 * λ^2 * sum(sqnorm, Flux.params(nn))\n",
    "loss(x, y) = getfield(Flux.Losses, loss_fun)(nn(x), y) + weight_regularization()\n",
    "\n",
    "\n",
    "opt = Adam()\n",
    "epochs = 200\n",
    "avg_loss(data) = mean(map(d -> loss(d[1], d[2]), data))\n",
    "show_every = epochs / 10\n",
    "\n",
    "for epoch in 1:epochs\n",
    "    for d in data\n",
    "        gs = gradient(Flux.params(nn)) do\n",
    "            l = loss(d...)\n",
    "        end\n",
    "        update!(opt, Flux.params(nn), gs)\n",
    "    end\n",
    "    if epoch % show_every == 0\n",
    "        println(\"Epoch \" * string(epoch))\n",
    "        @show avg_loss(data)\n",
    "    end\n",
    "end\n",
    "\n",
    "H_facs = nothing"
   ]
  },
  {
   "cell_type": "markdown",
   "metadata": {},
   "source": [
    "## Kron"
   ]
  },
  {
   "cell_type": "code",
   "execution_count": 2,
   "metadata": {
    "tags": []
   },
   "outputs": [
    {
     "data": {
      "text/plain": [
       "Kron1"
      ]
     },
     "execution_count": 2,
     "metadata": {},
     "output_type": "execute_result"
    }
   ],
   "source": [
    "mutable struct Kron1\n",
    "#    kfacs :: Union{Vector{Tuple{AbstractArray, AbstractArray}},Vector{Matrix},Nothing}\n",
    "    kfacs :: Vector{Tuple{AbstractArray, AbstractArray}}\n",
    "end\n",
    "\n",
    "Kron = Kron1\n",
    "    \n",
    "# mutable struct KronDecomposed\n",
    "#     eigenvectors :: Union{AbstractArray,Nothing}\n",
    "#     eigenvalues :: Union{AbstractArray,Nothing}\n",
    "#     damping :: Bool\n",
    "# end\n"
   ]
  },
  {
   "cell_type": "markdown",
   "metadata": {},
   "source": [
    "### Addition"
   ]
  },
  {
   "cell_type": "code",
   "execution_count": 17,
   "metadata": {
    "tags": []
   },
   "outputs": [
    {
     "data": {
      "text/plain": [
       "== (generic function with 185 methods)"
      ]
     },
     "execution_count": 17,
     "metadata": {},
     "output_type": "execute_result"
    }
   ],
   "source": [
    "import Base: +, ==, *\n",
    "\n",
    "function (+)(l::Kron, r::Kron)\n",
    "    @assert length(l.kfacs) == length(r.kfacs)\n",
    "    kfacs = [Tuple(Hi + Hj for (Hi, Hj) in zip(Fi, Fj))\n",
    "                for (Fi, Fj) in zip(l.kfacs, r.kfacs)]\n",
    "    return Kron(kfacs)\n",
    "end\n",
    "\n",
    "function (==)(l::Kron, r::Kron)\n",
    "    return l.kfacs == r.kfacs\n",
    "end\n",
    "\n",
    "# H = [[Fi + Fj for (Fi, Fj) in zip(Fi_row, Fj_row)] for (Fi_row, Fj_row) in zip(H.kfacs, H_batch.kfacs)]\n",
    "#        kfacs = [[Hi.add(Hj) for Hi, Hj in zip(Fi, Fj)]\n",
    "#                 for Fi, Fj in zip(self.kfacs, other.kfacs)]"
   ]
  },
  {
   "cell_type": "markdown",
   "metadata": {},
   "source": [
    "### Tests"
   ]
  },
  {
   "cell_type": "code",
   "execution_count": 9,
   "metadata": {
    "tags": []
   },
   "outputs": [],
   "source": [
    "using Test"
   ]
  },
  {
   "cell_type": "code",
   "execution_count": 10,
   "metadata": {
    "tags": []
   },
   "outputs": [
    {
     "data": {
      "text/plain": [
       "\u001b[32m\u001b[1mTest Passed\u001b[22m\u001b[39m"
      ]
     },
     "execution_count": 10,
     "metadata": {},
     "output_type": "execute_result"
    }
   ],
   "source": [
    "left = Kron([([1 2], [3 4])])\n",
    "right = Kron([([5 6], [7 8])])\n",
    "total = left + right\n",
    "@test total.kfacs == [([6 8], [10 12])]"
   ]
  },
  {
   "cell_type": "code",
   "execution_count": 16,
   "metadata": {
    "tags": []
   },
   "outputs": [
    {
     "data": {
      "text/plain": [
       "\u001b[32m\u001b[1mTest Passed\u001b[22m\u001b[39m"
      ]
     },
     "execution_count": 16,
     "metadata": {},
     "output_type": "execute_result"
    }
   ],
   "source": [
    "left = Kron([([1 2], [3 4]), ([11 12], [13 14])])\n",
    "right = Kron([([5 6], [7 8]), ([15 16], [17 18])])\n",
    "total = left + right\n",
    "@test total.kfacs == [([6 8], [10 12]), ([26 28], [30 32])]"
   ]
  },
  {
   "cell_type": "code",
   "execution_count": 13,
   "metadata": {
    "tags": []
   },
   "outputs": [
    {
     "data": {
      "text/plain": [
       "\u001b[32m\u001b[1mTest Passed\u001b[22m\u001b[39m"
      ]
     },
     "execution_count": 13,
     "metadata": {},
     "output_type": "execute_result"
    }
   ],
   "source": [
    "left = Kron([])\n",
    "total = left + left\n",
    "@test total == left"
   ]
  },
  {
   "cell_type": "code",
   "execution_count": 15,
   "metadata": {
    "tags": []
   },
   "outputs": [
    {
     "data": {
      "text/plain": [
       "\u001b[32m\u001b[1mTest Passed\u001b[22m\u001b[39m\n",
       "      Thrown: AssertionError"
      ]
     },
     "execution_count": 15,
     "metadata": {},
     "output_type": "execute_result"
    }
   ],
   "source": [
    "left = Kron([([1 2], [3 4]), ([], [])])\n",
    "right = Kron([([5 6], [7 8])])\n",
    "@test_throws AssertionError left + right"
   ]
  },
  {
   "cell_type": "code",
   "execution_count": 8,
   "metadata": {
    "tags": []
   },
   "outputs": [
    {
     "data": {
      "text/plain": [
       "3-element Vector{Tuple{Int64, Int64}}:\n",
       " (1, 4)\n",
       " (2, 5)\n",
       " (3, 6)"
      ]
     },
     "execution_count": 8,
     "metadata": {},
     "output_type": "execute_result"
    }
   ],
   "source": [
    "collect(zip([1, 2, 3], [4, 5, 6, 7]))"
   ]
  },
  {
   "cell_type": "markdown",
   "metadata": {
    "tags": []
   },
   "source": [
    "### Scaling"
   ]
  },
  {
   "cell_type": "code",
   "execution_count": 31,
   "metadata": {
    "tags": []
   },
   "outputs": [
    {
     "data": {
      "text/plain": [
       "* (generic function with 311 methods)"
      ]
     },
     "execution_count": 31,
     "metadata": {},
     "output_type": "execute_result"
    }
   ],
   "source": [
    "function (*)(l::Real, r::Kron)\n",
    "        kfacs = [Tuple(^(l, 1/length(F)) * Hi for Hi in F) for F in r.kfacs]\n",
    "        return Kron(kfacs)\n",
    "end\n",
    "\n",
    "(*)(l::Kron, r::Real) = (*)(r, l)"
   ]
  },
  {
   "cell_type": "markdown",
   "metadata": {},
   "source": [
    "### Tests"
   ]
  },
  {
   "cell_type": "code",
   "execution_count": 38,
   "metadata": {
    "tags": []
   },
   "outputs": [
    {
     "data": {
      "text/plain": [
       "\u001b[32m\u001b[1mTest Passed\u001b[22m\u001b[39m"
      ]
     },
     "execution_count": 38,
     "metadata": {},
     "output_type": "execute_result"
    }
   ],
   "source": [
    "left = 4\n",
    "right = Kron([([5 6], [7 8])])\n",
    "@test left * right == right * left\n",
    "@test (left * right).kfacs == [([10 12], [14 16])]"
   ]
  },
  {
   "cell_type": "code",
   "execution_count": 34,
   "metadata": {
    "tags": []
   },
   "outputs": [
    {
     "data": {
      "text/plain": [
       "Kron1(Tuple{AbstractArray, AbstractArray}[([10.0 12.0], [14.0 16.0])])"
      ]
     },
     "execution_count": 34,
     "metadata": {},
     "output_type": "execute_result"
    }
   ],
   "source": [
    "left * right"
   ]
  },
  {
   "cell_type": "code",
   "execution_count": null,
   "metadata": {},
   "outputs": [],
   "source": []
  },
  {
   "cell_type": "markdown",
   "metadata": {},
   "source": [
    "## Andrei's code"
   ]
  },
  {
   "cell_type": "code",
   "execution_count": 19,
   "metadata": {
    "tags": []
   },
   "outputs": [
    {
     "data": {
      "text/plain": [
       "Real"
      ]
     },
     "execution_count": 19,
     "metadata": {},
     "output_type": "execute_result"
    }
   ],
   "source": [
    "Real"
   ]
  },
  {
   "cell_type": "code",
   "execution_count": 7,
   "metadata": {
    "tags": []
   },
   "outputs": [
    {
     "data": {
      "text/plain": [
       "init (generic function with 1 method)"
      ]
     },
     "execution_count": 7,
     "metadata": {},
     "output_type": "execute_result"
    }
   ],
   "source": [
    "function init(model)\n",
    "    kfacs = []\n",
    "\n",
    "    for p in Flux.params(model)\n",
    "        if ndims(p) == 1  # bias\n",
    "            P = size(p, 1)\n",
    "            push!(kfacs, [zeros(P, P)])\n",
    "        elseif 4 >= ndims(p) >= 2  # fully connected or conv\n",
    "            if ndims(p) == 2  # fully connected\n",
    "                P_in, P_out = size(p)\n",
    "            elseif ndims(p) > 2\n",
    "                P_in, P_out = size(p, 1), prod(size(p)[2:end])\n",
    "            end\n",
    "            \n",
    "            push!(kfacs, [\n",
    "                zeros(P_in, P_in),\n",
    "                zeros(P_out, P_out)\n",
    "            ])\n",
    "        else\n",
    "            error(\"Invalid parameter shape in network.\")\n",
    "        end\n",
    "    end\n",
    "    # @show kfacs\n",
    "    # @show get_array_sizes(kfacs)\n",
    "    # @show print_arrays(kfacs)\n",
    "    return Kron(kfacs)\n",
    "end"
   ]
  },
  {
   "cell_type": "code",
   "execution_count": 8,
   "metadata": {},
   "outputs": [
    {
     "data": {
      "text/plain": [
       "fitBeta (generic function with 1 method)"
      ]
     },
     "metadata": {},
     "output_type": "display_data"
    }
   ],
   "source": [
    "function fitBeta(la::Laplace, data; batched::Bool=false, batchsize::Int, override::Bool=true)\n",
    "    if override\n",
    "        H = init(la.model)          \n",
    "        loss = 0.0\n",
    "        n_data = 0\n",
    "    end\n",
    "\n",
    "    # Training:\n",
    "    for d in data\n",
    "        x, y = d\n",
    "        loss_batch, H_batch =_curv_closure(la.curvature, x, y, length(data))\n",
    "        loss += loss_batch\n",
    "        @show(H_batch)\n",
    "        @show(H)\n",
    "        H = [[Fi + Fj for (Fi, Fj) in zip(Fi_row, Fj_row)] for (Fi_row, Fj_row) in zip(H.kfacs, H_batch.kfacs)]\n",
    "        n_data += batchsize\n",
    "    end\n",
    "\n",
    "    # Store output:\n",
    "    la.loss = loss                                                           # Loss\n",
    "    la.H = H                                                                 # Hessian\n",
    "    la.P = posterior_precision(la)                                           # posterior precision\n",
    "    la.Σ = posterior_covariance(la)                                          # posterior covariance\n",
    "    return la.n_data = n_data                                                # number of observations\n",
    "end"
   ]
  },
  {
   "cell_type": "code",
   "execution_count": 45,
   "metadata": {},
   "outputs": [
    {
     "data": {
      "text/plain": [
       "fitAux (generic function with 3 methods)"
      ]
     },
     "metadata": {},
     "output_type": "display_data"
    }
   ],
   "source": [
    "# fitting kron\n",
    "function fitAux(la, train_loader, override=true, damping=false)\n",
    "    if override\n",
    "        H_facs = nothing\n",
    "    end\n",
    "\n",
    "    if !isnothing(H_facs)\n",
    "        n_data_old = la.n_data\n",
    "        n_data_new = length(train_loader)\n",
    "        la.H = init(la.model) # re-init H non-decomposed\n",
    "        # discount previous Kronecker factors to sum up properly together with new ones\n",
    "        H_facs = _rescale_factors(H_facs, n_data_old / (n_data_old + n_data_new))\n",
    "    end\n",
    "\n",
    "    fitBeta(la, train_loader, batched=false, batchsize=1, override=override)\n",
    "\n",
    "    if isnothing(H_facs)\n",
    "        H_facs =la.H\n",
    "    else\n",
    "        # discount new factors that were computed assuming N = n_data_new\n",
    "        la.H = _rescale_factors(la.H, n_data_new / (n_data_new + n_data_old))\n",
    "        H_facs += la.H\n",
    "    end\n",
    "    # Decompose to self.H for all required quantities but keep H_facs for further inference\n",
    "    la.H = decompose(la.H_facs, damping=damping)\n",
    "end"
   ]
  },
  {
   "cell_type": "code",
   "execution_count": 46,
   "metadata": {},
   "outputs": [
    {
     "data": {
      "text/plain": [
       "_curv_closure (generic function with 1 method)"
      ]
     },
     "metadata": {},
     "output_type": "display_data"
    }
   ],
   "source": [
    "function _curv_closure(curvature, x, y, N)\n",
    "    return kron(curvature, x, y, N) #la.backend.kron(X, y, N=N)\n",
    "end"
   ]
  },
  {
   "cell_type": "code",
   "execution_count": 47,
   "metadata": {},
   "outputs": [
    {
     "data": {
      "text/plain": [
       "posterior_precision (generic function with 3 methods)"
      ]
     },
     "metadata": {},
     "output_type": "display_data"
    }
   ],
   "source": [
    "function posterior_precision(la::Laplace, H=la.H, P₀=la.P₀)\n",
    "    @assert !isnothing(H) \"Hessian not available. Either no value supplied or Laplace Approximation has not yet been estimated.\"\n",
    "    return H .+ P₀\n",
    "end"
   ]
  },
  {
   "cell_type": "code",
   "execution_count": 48,
   "metadata": {},
   "outputs": [
    {
     "data": {
      "text/plain": [
       "posterior_covariance (generic function with 2 methods)"
      ]
     },
     "metadata": {},
     "output_type": "display_data"
    }
   ],
   "source": [
    "function posterior_covariance(la::Laplace, P=posterior_precision(la))\n",
    "    @assert !isnothing(P) \"Posterior precision not available. Either no value supplied or Laplace Approximation has not yet been estimated.\"\n",
    "    return inv(P)\n",
    "end"
   ]
  },
  {
   "cell_type": "code",
   "execution_count": 49,
   "metadata": {},
   "outputs": [
    {
     "data": {
      "text/plain": [
       "kron (generic function with 1 method)"
      ]
     },
     "metadata": {},
     "output_type": "display_data"
    }
   ],
   "source": [
    "function kron(curvature, x, y, N)\n",
    "    #context = ifelse(self.stochastic, KFAC, KFLR)\n",
    "    loss = curvature.factor * curvature.loss_fun(x, y)\n",
    "    𝐠 = gradient(() -> curvature.loss_fun(x, y), Flux.params(curvature.model))\n",
    "    𝐠 = reduce(vcat, [vec(𝐠[i]') for i in curvature.params])  \n",
    "    # backpack(context()) do\n",
    "    #     backward(loss)\n",
    "    # end\n",
    "    kron = Kron(𝐠)\n",
    "    @show(kron)\n",
    "    kron = _rescale_kron_factors(kron, length(y), N)\n",
    "    return curvature.factor * loss, kron#curvature.factor * detach(loss), curvature.factor * kron\n",
    "end"
   ]
  },
  {
   "cell_type": "code",
   "execution_count": 50,
   "metadata": {},
   "outputs": [
    {
     "data": {
      "text/plain": [
       "decompose (generic function with 2 methods)"
      ]
     },
     "metadata": {},
     "output_type": "display_data"
    }
   ],
   "source": [
    "function decompose(kron,damping=false)\n",
    "    \"\"\"\n",
    "    Eigendecompose Kronecker factors and turn into `KronDecomposed`.\n",
    "    \n",
    "    Parameters\n",
    "    ----------\n",
    "    damping : bool\n",
    "        use damping\n",
    "\n",
    "    Returns\n",
    "    -------\n",
    "    kron_decomposed : KronDecomposed\n",
    "    \"\"\"\n",
    "    eigvecs = []\n",
    "    eigvals = []\n",
    "    for F in kron.kfacs\n",
    "        Qs = []\n",
    "        ls = []\n",
    "        for Hi in F\n",
    "            l, Q = symeig(Hi)\n",
    "            push!(Qs, Q)\n",
    "            push!(ls, l)\n",
    "        push!(eigvecs, Qs)\n",
    "        push!(eigvals, ls)\n",
    "        end\n",
    "    end\n",
    "    return KronDecomposed(eigvecs, eigvals, damping=damping)\n",
    "end"
   ]
  },
  {
   "cell_type": "code",
   "execution_count": 51,
   "metadata": {},
   "outputs": [
    {
     "data": {
      "text/plain": [
       "_rescale_factors (generic function with 1 method)"
      ]
     },
     "metadata": {},
     "output_type": "display_data"
    }
   ],
   "source": [
    "function _rescale_factors(kron, factor)\n",
    "    for F in kron.kfacs\n",
    "        if length(F) == 2\n",
    "            F[1] *= factor\n",
    "        end\n",
    "    end\n",
    "    return kron\n",
    "end"
   ]
  },
  {
   "cell_type": "code",
   "execution_count": 52,
   "metadata": {},
   "outputs": [
    {
     "data": {
      "text/plain": [
       "_rescale_kron_factors (generic function with 1 method)"
      ]
     },
     "metadata": {},
     "output_type": "display_data"
    }
   ],
   "source": [
    "function _rescale_kron_factors(kron, M, N)\n",
    "    # Renormalize Kronecker factor to sum up correctly over N data points with batches of M\n",
    "    # for M=N (full-batch) just M/N=1\n",
    "    for F in kron.kfacs\n",
    "        if length(F) == 2\n",
    "            F[1] *= M/N\n",
    "        end\n",
    "    end\n",
    "    return kron\n",
    "end"
   ]
  },
  {
   "cell_type": "code",
   "execution_count": 7,
   "metadata": {
    "tags": []
   },
   "outputs": [
    {
     "ename": "LoadError",
     "evalue": "syntax: invalid iteration specification",
     "output_type": "error",
     "traceback": [
      "syntax: invalid iteration specification",
      "",
      "Stacktrace:",
      " [1] top-level scope",
      "   @ In[7]:2"
     ]
    }
   ],
   "source": [
    "function _get_kron_factors(la)\n",
    "    return Kron([p.kfac for p la.model.parameters])\n",
    "end"
   ]
  },
  {
   "cell_type": "code",
   "execution_count": 54,
   "metadata": {},
   "outputs": [
    {
     "data": {
      "text/plain": [
       "200-element DataLoader(::Tuple{Matrix{Float64}, Matrix{Float64}}, batchsize=10)\n",
       "  with first element:\n",
       "  (1×10 Matrix{Float64}, 1×10 Matrix{Float64},)"
      ]
     },
     "metadata": {},
     "output_type": "display_data"
    }
   ],
   "source": [
    "# dataloader = DataLoader((X, Y), batchsize=10)"
   ]
  },
  {
   "cell_type": "code",
   "execution_count": 55,
   "metadata": {},
   "outputs": [
    {
     "data": {
      "text/plain": [
       "fit_la (generic function with 1 method)"
      ]
     },
     "metadata": {},
     "output_type": "display_data"
    }
   ],
   "source": [
    "# function fit_la(nn, dataloader, X, y)\n",
    "#     la_b = Laplace(nn; likelihood=:regression, λ=λ, subset_of_weights=:all)\n",
    "#     fitAux(la_b, dataloader)\n",
    "#     plot(la_b, X, y )\n",
    "# end"
   ]
  },
  {
   "cell_type": "code",
   "execution_count": 6,
   "metadata": {
    "tags": []
   },
   "outputs": [],
   "source": [
    "# fit_la(nn, dataloader, X, y)"
   ]
  }
 ],
 "metadata": {
  "kernelspec": {
   "display_name": "Julia 1.9.0",
   "language": "julia",
   "name": "julia-1.9"
  },
  "language_info": {
   "file_extension": ".jl",
   "mimetype": "application/julia",
   "name": "julia",
   "version": "1.9.0"
  }
 },
 "nbformat": 4,
 "nbformat_minor": 4
}
