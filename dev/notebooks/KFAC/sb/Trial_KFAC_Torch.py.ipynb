{
 "cells": [
  {
   "cell_type": "code",
   "execution_count": 50,
   "id": "06cda3e8-b174-46cf-9b31-7f65aa0384ef",
   "metadata": {
    "tags": []
   },
   "outputs": [],
   "source": [
    "from laplace import Laplace\n",
    "\n",
    "import numpy as np\n",
    "import pandas as pd\n",
    "import torch\n",
    "\n",
    "import matplotlib.pyplot as plt\n",
    "import numpy as np\n",
    "\n",
    "import json\n",
    "\n",
    "import torch.nn as nn\n",
    "from torch.utils.data import TensorDataset, DataLoader\n",
    "\n",
    "torch.manual_seed(43)\n",
    "torch.set_printoptions(sci_mode=False)"
   ]
  },
  {
   "cell_type": "markdown",
   "id": "9c327925-1c14-4617-8088-d388cc976601",
   "metadata": {},
   "source": [
    "## Import data and network"
   ]
  },
  {
   "cell_type": "code",
   "execution_count": 4,
   "id": "937cd4cd-ac12-4cc9-a2b4-1b22996a9b27",
   "metadata": {
    "tags": []
   },
   "outputs": [],
   "source": [
    "import torch\n",
    "import pandas as pd"
   ]
  },
  {
   "cell_type": "code",
   "execution_count": 10,
   "id": "b559d1fd-3a62-42e3-9299-4187d20aa2e6",
   "metadata": {
    "tags": []
   },
   "outputs": [],
   "source": [
    "X_df = pd.read_csv('X.csv')\n",
    "Y_df = pd.read_csv('Y.csv')"
   ]
  },
  {
   "cell_type": "code",
   "execution_count": 27,
   "id": "5f303fe7-a382-47fa-903d-093c1d26c640",
   "metadata": {
    "tags": []
   },
   "outputs": [],
   "source": [
    "x = torch.from_numpy(X_df.to_numpy()).to(torch.float32)\n",
    "y = torch.from_numpy(Y_df.to_numpy()).to(torch.float32)"
   ]
  },
  {
   "cell_type": "code",
   "execution_count": 28,
   "id": "3992c2d4-4453-47d0-b19c-d062d307e515",
   "metadata": {
    "tags": []
   },
   "outputs": [
    {
     "name": "stdout",
     "output_type": "stream",
     "text": [
      "torch.Size([32, 2])\n",
      "torch.Size([32])\n",
      "torch.Size([1, 32])\n",
      "torch.Size([1])\n"
     ]
    }
   ],
   "source": [
    "# Shape of the model\n",
    "in_dim = 2\n",
    "h_dim = 32\n",
    "out_dim = 1\n",
    "model = nn.Sequential(\n",
    "    nn.Linear(in_dim, h_dim),\n",
    "    nn.Sigmoid(),\n",
    "    nn.Linear(h_dim, out_dim)\n",
    ")\n",
    "\n",
    "# Read nn weights from file\n",
    "with open('nn.json') as fin:\n",
    "    nn_json_str = fin.read()\n",
    "    nn_json = json.loads(nn_json_str)\n",
    "    \n",
    "assert len(model.state_dict()) == 2 * len(nn_json)\n",
    "iter_states = iter(model.state_dict())\n",
    "\n",
    "for layer_json in nn_json:\n",
    "    state_w = next(iter_states)\n",
    "    state_b = next(iter_states)\n",
    "    tensor_w = torch.tensor(layer_json['weight']).T\n",
    "    tensor_b = torch.tensor(layer_json['bias']).T\n",
    "    model.state_dict()[state_w].data.copy_(tensor_w)\n",
    "    model.state_dict()[state_b].data.copy_(tensor_b)\n",
    "    \n",
    "ps = [model.state_dict()[layer].data for layer in model.state_dict()]\n",
    "for p in ps:\n",
    "    print(p.shape)"
   ]
  },
  {
   "cell_type": "code",
   "execution_count": 29,
   "id": "fffd7d04-6c44-449c-9ace-b99389955d0f",
   "metadata": {
    "tags": []
   },
   "outputs": [],
   "source": [
    "# y_hat = torch.argmax(torch.softmax(model.forward(x), dim=1), dim=1) + 1"
   ]
  },
  {
   "cell_type": "code",
   "execution_count": 40,
   "id": "6d93f0cd-983d-47f8-aa0c-144a7864172c",
   "metadata": {
    "tags": []
   },
   "outputs": [],
   "source": [
    "yhat = torch.special.expit(model(x))"
   ]
  },
  {
   "cell_type": "code",
   "execution_count": 48,
   "id": "b5b12423-5de8-474f-948a-450bcaeece97",
   "metadata": {
    "tags": []
   },
   "outputs": [
    {
     "name": "stdout",
     "output_type": "stream",
     "text": [
      "False\n"
     ]
    },
    {
     "data": {
      "text/plain": [
       "True"
      ]
     },
     "execution_count": 48,
     "metadata": {},
     "output_type": "execute_result"
    }
   ],
   "source": [
    "print(all(torch.round(yhat) == y))\n",
    "all(torch.round(yhat[1000:]) == y[1000:])"
   ]
  },
  {
   "cell_type": "markdown",
   "id": "f347fc2e-2b8e-437b-ac48-c76ee9a55b11",
   "metadata": {},
   "source": [
    "## Compute exact Hessian (sancheck)"
   ]
  },
  {
   "cell_type": "code",
   "execution_count": null,
   "id": "9f81a3eb-a149-4d63-ac12-ae60195ce366",
   "metadata": {},
   "outputs": [],
   "source": [
    "# too hard :/"
   ]
  },
  {
   "cell_type": "markdown",
   "id": "7f9399eb-ca92-4886-8620-78b53a198d1d",
   "metadata": {},
   "source": [
    "## Compute emp. Fisher"
   ]
  },
  {
   "cell_type": "code",
   "execution_count": 51,
   "id": "eb3e4f06-9aff-41b7-a471-e7d5121d43db",
   "metadata": {
    "tags": []
   },
   "outputs": [
    {
     "data": {
      "image/png": "[encoded data removed]",
      "text/plain": [
       "<Figure size 640x480 with 1 Axes>"
      ]
     },
     "metadata": {},
     "output_type": "display_data"
    }
   ],
   "source": [
    "a = np.random.random((16, 16))\n",
    "plt.imshow(a, cmap='hot', interpolation='nearest')\n",
    "plt.show()"
   ]
  },
  {
   "cell_type": "code",
   "execution_count": 58,
   "id": "a1354f0b-9f28-4c12-a980-003740146280",
   "metadata": {
    "tags": []
   },
   "outputs": [],
   "source": [
    "def colplot(H):\n",
    "    plt.imshow(H, cmap='seismic', interpolation='nearest')\n",
    "    plt.show()"
   ]
  },
  {
   "cell_type": "code",
   "execution_count": 81,
   "id": "603fb832-d7af-4e33-994b-0c0df1506836",
   "metadata": {
    "tags": []
   },
   "outputs": [
    {
     "data": {
      "image/png": "[encoded data removed]",
      "text/plain": [
       "<Figure size 640x480 with 1 Axes>"
      ]
     },
     "metadata": {},
     "output_type": "display_data"
    }
   ],
   "source": [
    "colplot(la.H)"
   ]
  },
  {
   "cell_type": "code",
   "execution_count": 63,
   "id": "aa12a17b-1482-427c-93c0-d02daaa29b6b",
   "metadata": {
    "tags": []
   },
   "outputs": [
    {
     "data": {
      "text/plain": [
       "tensor([[0., 0., 0.,  ..., 0., 0., 0.],\n",
       "        [0., 0., 0.,  ..., 0., 0., 0.],\n",
       "        [0., 0., 0.,  ..., 0., 0., 0.],\n",
       "        ...,\n",
       "        [0., 0., 0.,  ..., 0., 0., 0.],\n",
       "        [0., 0., 0.,  ..., 0., 0., 0.],\n",
       "        [0., 0., 0.,  ..., 0., 0., 0.]])"
      ]
     },
     "execution_count": 63,
     "metadata": {},
     "output_type": "execute_result"
    }
   ],
   "source": [
    "la.H"
   ]
  },
  {
   "cell_type": "code",
   "execution_count": 79,
   "id": "4f72f65f-aaee-497e-b90b-f3475c73e2ac",
   "metadata": {
    "tags": []
   },
   "outputs": [],
   "source": [
    "%%capture\n",
    "la = Laplace(model, 'classification',\n",
    "             subset_of_weights='all',\n",
    "             hessian_structure='full',\n",
    "             backend=AsdlEF)\n",
    "\n",
    "la.fit(DataLoader(TensorDataset(x, y), batch_size=1))"
   ]
  },
  {
   "cell_type": "code",
   "execution_count": 80,
   "id": "c37912cd-ac46-4301-8850-9264f3442588",
   "metadata": {
    "tags": []
   },
   "outputs": [
    {
     "data": {
      "text/plain": [
       "tensor([[0., 0., 0.,  ..., 0., 0., 0.],\n",
       "        [0., 0., 0.,  ..., 0., 0., 0.],\n",
       "        [0., 0., 0.,  ..., 0., 0., 0.],\n",
       "        ...,\n",
       "        [0., 0., 0.,  ..., 0., 0., 0.],\n",
       "        [0., 0., 0.,  ..., 0., 0., 0.],\n",
       "        [0., 0., 0.,  ..., 0., 0., 0.]])"
      ]
     },
     "execution_count": 80,
     "metadata": {},
     "output_type": "execute_result"
    }
   ],
   "source": [
    "la.H"
   ]
  },
  {
   "cell_type": "code",
   "execution_count": 76,
   "id": "e3f8e4e2-2897-4766-89de-1ad452688d00",
   "metadata": {
    "tags": []
   },
   "outputs": [
    {
     "name": "stdout",
     "output_type": "stream",
     "text": [
      "The autoreload extension is already loaded. To reload it, use:\n",
      "  %reload_ext autoreload\n"
     ]
    }
   ],
   "source": [
    "%load_ext autoreload\n",
    "%autoreload 2"
   ]
  },
  {
   "cell_type": "code",
   "execution_count": 77,
   "id": "68aaab33-f8d5-4ab2-94a4-1eccf3b1fa86",
   "metadata": {
    "tags": []
   },
   "outputs": [],
   "source": [
    "from laplace.curvature.asdl import AsdlEF"
   ]
  },
  {
   "cell_type": "code",
   "execution_count": 70,
   "id": "6a606906-56ca-4f5a-90f9-261332c1b46b",
   "metadata": {
    "tags": []
   },
   "outputs": [
    {
     "data": {
      "text/plain": [
       "laplace.curvature.asdl.AsdlEF"
      ]
     },
     "execution_count": 70,
     "metadata": {},
     "output_type": "execute_result"
    }
   ],
   "source": []
  },
  {
   "cell_type": "code",
   "execution_count": 62,
   "id": "2b7f3c06-7330-49cc-9c96-3f1bbb11766f",
   "metadata": {
    "tags": []
   },
   "outputs": [
    {
     "data": {
      "text/plain": [
       "(tensor([[ 2.8030,  3.2438],\n",
       "         [ 1.1935,  2.3909],\n",
       "         [ 4.2797,  4.7876],\n",
       "         ...,\n",
       "         [-1.1883,  2.1863],\n",
       "         [-2.0793,  3.3348],\n",
       "         [-3.2632,  4.9258]]),\n",
       " tensor([[1.],\n",
       "         [1.],\n",
       "         [1.],\n",
       "         ...,\n",
       "         [0.],\n",
       "         [0.],\n",
       "         [0.]]))"
      ]
     },
     "execution_count": 62,
     "metadata": {},
     "output_type": "execute_result"
    }
   ],
   "source": [
    "x, y"
   ]
  },
  {
   "cell_type": "markdown",
   "id": "89c405ce-0a9d-4dcc-bebf-35e542a739fb",
   "metadata": {
    "tags": []
   },
   "source": [
    "## Compute KFAC Fisher"
   ]
  },
  {
   "cell_type": "code",
   "execution_count": null,
   "id": "4935c96a-f467-4097-8c67-6f4df5f45979",
   "metadata": {},
   "outputs": [],
   "source": []
  }
 ],
 "metadata": {
  "kernelspec": {
   "display_name": "kern-laplace",
   "language": "python",
   "name": "kern-laplace"
  },
  "language_info": {
   "codemirror_mode": {
    "name": "ipython",
    "version": 3
   },
   "file_extension": ".py",
   "mimetype": "text/x-python",
   "name": "python",
   "nbconvert_exporter": "python",
   "pygments_lexer": "ipython3",
   "version": "3.8.16"
  }
 },
 "nbformat": 4,
 "nbformat_minor": 5
}
