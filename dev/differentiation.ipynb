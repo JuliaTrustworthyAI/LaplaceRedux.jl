{
 "cells": [
  {
   "attachments": {},
   "cell_type": "markdown",
   "metadata": {},
   "source": [
    "# Testing auto-differentiation of 'predict' method with Zygote.jl"
   ]
  },
  {
   "attachments": {},
   "cell_type": "markdown",
   "metadata": {},
   "source": [
    "### Model training"
   ]
  },
  {
   "cell_type": "code",
   "execution_count": 1,
   "metadata": {},
   "outputs": [],
   "source": [
    "using Flux\n",
    "using Flux: gradient\n",
    "using LaplaceRedux\n",
    "using LinearAlgebra\n",
    "using Plots\n",
    "using Statistics\n",
    "using Zygote"
   ]
  },
  {
   "cell_type": "code",
   "execution_count": 2,
   "metadata": {},
   "outputs": [
    {
     "data": {
      "text/plain": [
       "zip([[1.9764911120630078, 3.3717046727909303], [1.5332334806460381, 2.2662470458201316], [4.725243619579621, 4.204196347650017], [2.0083142882646943, 2.296103599511355], [1.958251319885264, 1.4851211060165728], [0.5619834594606763, 4.134177719906611], [2.4360879530273456, 2.3849194625184746], [1.8028451988923122, 4.147546828141051], [1.8745491789968307, 1.617996622434847], [3.930201611931094, 2.316269660069935]  …  [-4.6311543853533435, 0.6343874555132953], [-4.274038323559923, 4.59304836638103], [-3.771188128971133, 4.662353946596249], [-3.7280445187317484, 0.9794305041900631], [-1.4746184224882306, 0.9617826016649691], [-4.46504078899859, 4.683960261166934], [-3.3131271526472847, 2.23542332925627], [-4.74821639591856, 3.6909095250509742], [-2.958593637582241, 1.624040141184154], [-1.880016563903081, 0.7108182904283715]], [1.0, 1.0, 1.0, 1.0, 1.0, 1.0, 1.0, 1.0, 1.0, 1.0  …  0.0, 0.0, 0.0, 0.0, 0.0, 0.0, 0.0, 0.0, 0.0, 0.0])"
      ]
     },
     "metadata": {},
     "output_type": "display_data"
    }
   ],
   "source": [
    "xs, ys = LaplaceRedux.Data.toy_data_non_linear(200)\n",
    "X = hcat(xs...) # bring into tabular format\n",
    "data = zip(xs,ys)"
   ]
  },
  {
   "cell_type": "code",
   "execution_count": 3,
   "metadata": {},
   "outputs": [
    {
     "data": {
      "text/plain": [
       "loss (generic function with 1 method)"
      ]
     },
     "metadata": {},
     "output_type": "display_data"
    }
   ],
   "source": [
    "n_hidden = 10\n",
    "D = size(X,1)\n",
    "nn = Chain(\n",
    "    Dense(D, n_hidden, σ),\n",
    "    Dense(n_hidden, 1)\n",
    ")  \n",
    "loss(x, y) = Flux.Losses.logitbinarycrossentropy(nn(x), y) "
   ]
  },
  {
   "cell_type": "code",
   "execution_count": 4,
   "metadata": {},
   "outputs": [
    {
     "name": "stderr",
     "output_type": "stream",
     "text": [
      "┌ Warning: Layer with Float32 parameters got Float64 input.\n",
      "│   The input will be converted, but any earlier layers may be very slow.\n",
      "│   layer = Dense(2 => 10, σ)\n",
      "│   summary(x) = 2-element Vector{Float64}\n",
      "└ @ Flux C:\\Users\\marka\\.julia\\packages\\Flux\\EHgZm\\src\\layers\\stateless.jl:60\n"
     ]
    },
    {
     "name": "stdout",
     "output_type": "stream",
     "text": [
      "Epoch 10\n"
     ]
    },
    {
     "name": "stdout",
     "output_type": "stream",
     "text": [
      "avg_loss(data) = 0.6340207658335566\n",
      "Epoch 20\n",
      "avg_loss(data) = 0.5270081588625908\n"
     ]
    },
    {
     "name": "stdout",
     "output_type": "stream",
     "text": [
      "Epoch 30\n",
      "avg_loss(data) = 0.40069789480417967\n",
      "Epoch 40\n",
      "avg_loss(data) = 0.2957423364371061"
     ]
    },
    {
     "name": "stdout",
     "output_type": "stream",
     "text": [
      "\n",
      "Epoch 50\n",
      "avg_loss(data) = 0.22082882829010486\n",
      "Epoch 60\n",
      "avg_loss(data) = 0.1701394403912127\n"
     ]
    },
    {
     "name": "stdout",
     "output_type": "stream",
     "text": [
      "Epoch 70\n",
      "avg_loss(data) = 0.1354304112866521\n",
      "Epoch 80\n",
      "avg_loss(data) = 0.1106710666231811"
     ]
    },
    {
     "name": "stdout",
     "output_type": "stream",
     "text": [
      "\n",
      "Epoch 90\n",
      "avg_loss(data) = 0.09226567465811968\n",
      "Epoch 100\n",
      "avg_loss(data) = 0.0781312698451802\n"
     ]
    }
   ],
   "source": [
    "using Flux.Optimise: update!, Adam\n",
    "opt = Adam(1e-3)\n",
    "epochs = 100\n",
    "avg_loss(data) = mean(map(d -> loss(d[1],d[2]), data))\n",
    "show_every = epochs/10\n",
    "\n",
    "for epoch = 1:epochs\n",
    "  for d in data\n",
    "    gs = gradient(Flux.params(nn)) do\n",
    "      l = loss(d...)\n",
    "    end\n",
    "    update!(opt, Flux.params(nn), gs)\n",
    "  end\n",
    "  if epoch % show_every == 0\n",
    "    println(\"Epoch \" * string(epoch))\n",
    "    @show avg_loss(data)\n",
    "  end\n",
    "end"
   ]
  },
  {
   "cell_type": "code",
   "execution_count": 5,
   "metadata": {},
   "outputs": [
    {
     "data": {
      "text/plain": [
       "200"
      ]
     },
     "metadata": {},
     "output_type": "display_data"
    }
   ],
   "source": [
    "la = Laplace(nn; likelihood=:classification, subset_of_weights=:all)\n",
    "fit!(la, data)"
   ]
  },
  {
   "attachments": {},
   "cell_type": "markdown",
   "metadata": {},
   "source": [
    "### Auto-differentiation testing"
   ]
  },
  {
   "cell_type": "code",
   "execution_count": 6,
   "metadata": {},
   "outputs": [
    {
     "ename": "ErrorException",
     "evalue": "Mutating arrays is not supported -- called copyto!(SubArray{Float32, 1, Matrix{Float32}, Tuple{Int64, Base.Slice{Base.OneTo{Int64}}}, true}, ...)\nThis error occurs when you ask Zygote to differentiate operations that change\nthe elements of arrays in place (e.g. setting values with x .= ...)\n\nPossible fixes:\n- avoid mutating operations (preferred)\n- or read the documentation and solutions for this error\n  https://fluxml.ai/Zygote.jl/latest/limitations\n",
     "output_type": "error",
     "traceback": [
      "Mutating arrays is not supported -- called copyto!(SubArray{Float32, 1, Matrix{Float32}, Tuple{Int64, Base.Slice{Base.OneTo{Int64}}}, true}, ...)\n",
      "This error occurs when you ask Zygote to differentiate operations that change\n",
      "the elements of arrays in place (e.g. setting values with x .= ...)\n",
      "\n",
      "Possible fixes:\n",
      "- avoid mutating operations (preferred)\n",
      "- or read the documentation and solutions for this error\n",
      "  https://fluxml.ai/Zygote.jl/latest/limitations\n",
      "\n",
      "\n",
      "Stacktrace:\n",
      "  [1] error(s::String)\n",
      "    @ Base .\\error.jl:35\n",
      "  [2] _throw_mutation_error(f::Function, args::SubArray{Float32, 1, Matrix{Float32}, Tuple{Int64, Base.Slice{Base.OneTo{Int64}}}, true})\n",
      "    @ Zygote C:\\Users\\marka\\.julia\\packages\\Zygote\\SuKWp\\src\\lib\\array.jl:88\n",
      "  [3] (::Zygote.var\"#554#555\"{SubArray{Float32, 1, Matrix{Float32}, Tuple{Int64, Base.Slice{Base.OneTo{Int64}}}, true}})(#unused#::Nothing)\n",
      "    @ Zygote C:\\Users\\marka\\.julia\\packages\\Zygote\\SuKWp\\src\\lib\\array.jl:103\n",
      "  [4] (::Zygote.var\"#2630#back#556\"{Zygote.var\"#554#555\"{SubArray{Float32, 1, Matrix{Float32}, Tuple{Int64, Base.Slice{Base.OneTo{Int64}}}, true}}})(Δ::Nothing)\n",
      "    @ Zygote C:\\Users\\marka\\.julia\\packages\\ZygoteRules\\OgCVT\\src\\adjoint.jl:71\n",
      "  [5] Pullback\n",
      "    @ C:\\Users\\marka\\.julia\\packages\\Zygote\\SuKWp\\src\\lib\\grad.jl:171 [inlined]\n",
      "  [6] (::Zygote.Pullback{Tuple{typeof(Zygote._gradcopy!), SubArray{Float32, 1, Matrix{Float32}, Tuple{Int64, Base.Slice{Base.OneTo{Int64}}}, true}, Vector{Float32}}, Tuple{Zygote.var\"#2630#back#556\"{Zygote.var\"#554#555\"{SubArray{Float32, 1, Matrix{Float32}, Tuple{Int64, Base.Slice{Base.OneTo{Int64}}}, true}}}}})(Δ::Nothing)\n",
      "    @ Zygote C:\\Users\\marka\\.julia\\packages\\Zygote\\SuKWp\\src\\compiler\\interface2.jl:0\n",
      "  [7] Pullback\n",
      "    @ C:\\Users\\marka\\.julia\\packages\\Zygote\\SuKWp\\src\\lib\\grad.jl:215 [inlined]\n",
      "  [8] (::Zygote.Pullback{Tuple{typeof(withjacobian), LaplaceRedux.Curvature.var\"#1#3\"{Matrix{Float64}, Chain{Tuple{Dense{typeof(σ), Matrix{Float32}, Vector{Float32}}, Dense{typeof(identity), Matrix{Float32}, Vector{Float32}}}}}, Params{Zygote.Buffer{Any, Vector{Any}}}}, Any})(Δ::NamedTuple{(:val, :grad), Tuple{Nothing, NamedTuple{(:grads, :params), Tuple{IdDict{Any, Any}, Nothing}}}})\n",
      "    @ Zygote C:\\Users\\marka\\.julia\\packages\\Zygote\\SuKWp\\src\\compiler\\interface2.jl:0\n",
      "  [9] Pullback\n",
      "    @ C:\\Users\\marka\\.julia\\packages\\Zygote\\SuKWp\\src\\lib\\grad.jl:200 [inlined]\n",
      " [10] (::Zygote.Pullback{Tuple{typeof(jacobian), LaplaceRedux.Curvature.var\"#1#3\"{Matrix{Float64}, Chain{Tuple{Dense{typeof(σ), Matrix{Float32}, Vector{Float32}}, Dense{typeof(identity), Matrix{Float32}, Vector{Float32}}}}}, Params{Zygote.Buffer{Any, Vector{Any}}}}, Tuple{Zygote.Pullback{Tuple{typeof(withjacobian), LaplaceRedux.Curvature.var\"#1#3\"{Matrix{Float64}, Chain{Tuple{Dense{typeof(σ), Matrix{Float32}, Vector{Float32}}, Dense{typeof(identity), Matrix{Float32}, Vector{Float32}}}}}, Params{Zygote.Buffer{Any, Vector{Any}}}}, Any}, Zygote.var\"#2149#back#299\"{Zygote.var\"#back#298\"{:grad, Zygote.Context{false}, NamedTuple{(:val, :grad), Tuple{Vector{Float32}, Zygote.Grads}}, Zygote.Grads}}, Zygote.var\"#1923#back#173\"{Zygote.var\"#169#172\"}}})(Δ::NamedTuple{(:grads, :params), Tuple{IdDict{Any, Any}, Nothing}})\n",
      "    @ Zygote C:\\Users\\marka\\.julia\\packages\\Zygote\\SuKWp\\src\\compiler\\interface2.jl:0\n",
      " [11] Pullback\n",
      "    @ c:\\Users\\marka\\Documents\\VSCode\\Julia\\LaplaceRedux.jl\\src\\curvature\\functions.jl:19 [inlined]\n",
      " [12] (::Zygote.Pullback{Tuple{typeof(LaplaceRedux.Curvature.jacobians), LaplaceRedux.Curvature.EmpiricalFisher, Matrix{Float64}}, Any})(Δ::Tuple{Matrix{Float32}, Matrix{Float32}})\n",
      "    @ Zygote C:\\Users\\marka\\.julia\\packages\\Zygote\\SuKWp\\src\\compiler\\interface2.jl:0\n",
      " [13] Pullback\n",
      "    @ c:\\Users\\marka\\Documents\\VSCode\\Julia\\LaplaceRedux.jl\\src\\laplace.jl:153 [inlined]\n",
      " [14] (::Zygote.Pullback{Tuple{typeof(LaplaceRedux.glm_predictive_distribution), Laplace, Matrix{Float64}}, Tuple{Zygote.var\"#back#242\"{Zygote.var\"#1998#back#209\"{Zygote.var\"#back#207\"{2, 2, Zygote.Context{false}, Matrix{Float32}}}}, Zygote.var\"#1982#back#200\"{typeof(identity)}, Zygote.var\"#1998#back#209\"{Zygote.var\"#back#207\"{2, 2, Zygote.Context{false}, Int64}}, Zygote.ZBack{ChainRules.var\"#size_pullback#917\"}, Zygote.var\"#back#241\"{Zygote.var\"#1998#back#209\"{Zygote.var\"#back#207\"{2, 1, Zygote.Context{false}, Matrix{Float32}}}}, Zygote.var\"#1998#back#209\"{Zygote.var\"#back#207\"{2, 1, Zygote.Context{false}, Matrix{Float32}}}, Zygote.var\"#1982#back#200\"{typeof(identity)}, Zygote.var\"#2149#back#299\"{Zygote.var\"#back#298\"{:curvature, Zygote.Context{false}, Laplace, LaplaceRedux.Curvature.EmpiricalFisher}}, Zygote.var\"#1998#back#209\"{Zygote.var\"#back#207\"{2, 1, Zygote.Context{false}, Matrix{Float32}}}, Zygote.Pullback{Tuple{typeof(LaplaceRedux.functional_variance), Laplace, Matrix{Float32}}, Tuple{Zygote.var\"#2841#back#683\"{Zygote.var\"#map_back#677\"{LaplaceRedux.var\"#14#15\"{Matrix{Float64}}, 1, Tuple{Vector{SubArray{Float32, 1, Matrix{Float32}, Tuple{Base.Slice{Base.OneTo{Int64}}, Int64}, true}}}, Tuple{Tuple{Base.OneTo{Int64}}}, Vector{Tuple{Float64, Zygote.Pullback{Tuple{LaplaceRedux.var\"#14#15\"{Matrix{Float64}}, SubArray{Float32, 1, Matrix{Float32}, Tuple{Base.Slice{Base.OneTo{Int64}}, Int64}, true}}, Tuple{Zygote.ZBack{typeof(ChainRules._adjoint_vec_pullback)}, Zygote.var\"#2149#back#299\"{Zygote.var\"#back#298\"{:Σ, Zygote.Context{false}, LaplaceRedux.var\"#14#15\"{Matrix{Float64}}, Matrix{Float64}}}, Zygote.Pullback{Tuple{typeof(*), Adjoint{Float32, SubArray{Float32, 1, Matrix{Float32}, Tuple{Base.Slice{Base.OneTo{Int64}}, Int64}, true}}, Matrix{Float64}, SubArray{Float32, 1, Matrix{Float32}, Tuple{Base.Slice{Base.OneTo{Int64}}, Int64}, true}}, Tuple{Zygote.ZBack{ChainRules.var\"#times_pullback#1480\"{Adjoint{Float32, SubArray{Float32, 1, Matrix{Float32}, Tuple{Base.Slice{Base.OneTo{Int64}}, Int64}, true}}, Matrix{Float64}, ChainRulesCore.ProjectTo{AbstractArray, NamedTuple{(:element, :axes), Tuple{ChainRulesCore.ProjectTo{Float64, NamedTuple{(), Tuple{}}}, Tuple{Base.OneTo{Int64}, Base.OneTo{Int64}}}}}, ChainRulesCore.ProjectTo{Adjoint, NamedTuple{(:parent,), Tuple{ChainRulesCore.ProjectTo{AbstractArray, NamedTuple{(:element, :axes), Tuple{ChainRulesCore.ProjectTo{Float32, NamedTuple{(), Tuple{}}}, Tuple{Base.OneTo{Int64}}}}}}}}}}, Zygote.ZBack{ChainRules.var\"#times_pullback#1480\"{Adjoint{Float64, Vector{Float64}}, SubArray{Float32, 1, Matrix{Float32}, Tuple{Base.Slice{Base.OneTo{Int64}}, Int64}, true}, ChainRulesCore.ProjectTo{AbstractArray, NamedTuple{(:element, :axes), Tuple{ChainRulesCore.ProjectTo{Float32, NamedTuple{(), Tuple{}}}, Tuple{Base.OneTo{Int64}}}}}, ChainRulesCore.ProjectTo{Adjoint, NamedTuple{(:parent,), Tuple{ChainRulesCore.ProjectTo{AbstractArray, NamedTuple{(:element, :axes), Tuple{ChainRulesCore.ProjectTo{Float64, NamedTuple{(), Tuple{}}}, Tuple{Base.OneTo{Int64}}}}}}}}}}}}}}}}}}, Zygote.ZBack{ChainRules.var\"#allcols#1621\"{Matrix{Float32}}}, Zygote.var\"#2176#back#309\"{Zygote.Jnew{LaplaceRedux.var\"#14#15\"{Matrix{Float64}}, Nothing, false}}, Zygote.Pullback{Tuple{typeof(LaplaceRedux.posterior_covariance), Laplace}, Tuple{Zygote.Pullback{Tuple{typeof(LaplaceRedux.posterior_precision), Laplace}, Tuple{Zygote.var\"#2149#back#299\"{Zygote.var\"#back#298\"{:H, Zygote.Context{false}, Laplace, Matrix{Float64}}}, Zygote.Pullback{Tuple{typeof(LaplaceRedux.posterior_precision), Laplace, Matrix{Float64}}, Tuple{Zygote.Pullback{Tuple{typeof(LaplaceRedux.posterior_precision), Laplace, Matrix{Float64}, Diagonal{Float64, Vector{Float64}}}, Any}, Zygote.var\"#2149#back#299\"{Zygote.var\"#back#298\"{:P₀, Zygote.Context{false}, Laplace, Diagonal{Float64, Vector{Float64}}}}}}}}, Zygote.Pullback{Tuple{typeof(LaplaceRedux.posterior_covariance), Laplace, Matrix{Float64}}, Any}}}}}, Zygote.Pullback{Tuple{typeof(LaplaceRedux.Curvature.jacobians), LaplaceRedux.Curvature.EmpiricalFisher, Matrix{Float64}}, Any}, Zygote.var\"#2138#back#289\"{Zygote.var\"#287#288\"{Tuple{Tuple{Nothing}, Tuple{Nothing, Nothing}}, Zygote.var\"#2760#back#620\"{Zygote.var\"#614#618\"{Vector{Float64}, Tuple{Int64, Int64}}}}}}})(Δ::Tuple{Matrix{Float32}, Matrix{Float64}})\n",
      "    @ Zygote C:\\Users\\marka\\.julia\\packages\\Zygote\\SuKWp\\src\\compiler\\interface2.jl:0\n",
      " [15] Pullback\n",
      "    @ c:\\Users\\marka\\Documents\\VSCode\\Julia\\LaplaceRedux.jl\\src\\laplace.jl:191 [inlined]\n",
      " [16] (::Zygote.Pullback{Tuple{LaplaceRedux.var\"##predict#16\", Symbol, typeof(predict), Laplace, Matrix{Float64}}, Any})(Δ::Matrix{Float64})\n",
      "    @ Zygote C:\\Users\\marka\\.julia\\packages\\Zygote\\SuKWp\\src\\compiler\\interface2.jl:0\n",
      " [17] Pullback\n",
      "    @ c:\\Users\\marka\\Documents\\VSCode\\Julia\\LaplaceRedux.jl\\src\\laplace.jl:190 [inlined]\n",
      " [18] Pullback\n",
      "    @ c:\\Users\\marka\\Documents\\VSCode\\Julia\\LaplaceRedux.jl\\notebooks\\differentiation.ipynb:2 [inlined]\n",
      " [19] (::Zygote.Pullback{Tuple{typeof(f), Matrix{Float64}}, Tuple{Zygote.var\"#1955#back#190\"{Zygote.var\"#186#189\"{Zygote.Context{false}, GlobalRef, Laplace}}, Zygote.Pullback{Tuple{typeof(predict), Laplace, Matrix{Float64}}, Tuple{Zygote.Pullback{Tuple{LaplaceRedux.var\"##predict#16\", Symbol, typeof(predict), Laplace, Matrix{Float64}}, Any}}}}})(Δ::Matrix{Float64})\n",
      "    @ Zygote C:\\Users\\marka\\.julia\\packages\\Zygote\\SuKWp\\src\\compiler\\interface2.jl:0\n",
      " [20] #287\n",
      "    @ C:\\Users\\marka\\.julia\\packages\\Zygote\\SuKWp\\src\\lib\\lib.jl:206 [inlined]\n",
      " [21] (::Zygote.var\"#2138#back#289\"{Zygote.var\"#287#288\"{Tuple{Tuple{Nothing}}, Zygote.Pullback{Tuple{typeof(f), Matrix{Float64}}, Tuple{Zygote.var\"#1955#back#190\"{Zygote.var\"#186#189\"{Zygote.Context{false}, GlobalRef, Laplace}}, Zygote.Pullback{Tuple{typeof(predict), Laplace, Matrix{Float64}}, Tuple{Zygote.Pullback{Tuple{LaplaceRedux.var\"##predict#16\", Symbol, typeof(predict), Laplace, Matrix{Float64}}, Any}}}}}}})(Δ::Matrix{Float64})\n",
      "    @ Zygote C:\\Users\\marka\\.julia\\packages\\ZygoteRules\\OgCVT\\src\\adjoint.jl:71\n",
      " [22] Pullback\n",
      "    @ .\\operators.jl:1035 [inlined]\n",
      " [23] (::Zygote.Pullback{Tuple{Base.var\"##_#95\", Base.Pairs{Symbol, Union{}, Tuple{}, NamedTuple{(), Tuple{}}}, ComposedFunction{typeof(Zygote._jvec), typeof(f)}, Matrix{Float64}}, Any})(Δ::Vector{Float64})\n",
      "    @ Zygote C:\\Users\\marka\\.julia\\packages\\Zygote\\SuKWp\\src\\compiler\\interface2.jl:0\n",
      " [24] (::Zygote.var\"#287#288\"{Tuple{Tuple{Nothing, Nothing}, Tuple{Nothing}}, Zygote.Pullback{Tuple{Base.var\"##_#95\", Base.Pairs{Symbol, Union{}, Tuple{}, NamedTuple{(), Tuple{}}}, ComposedFunction{typeof(Zygote._jvec), typeof(f)}, Matrix{Float64}}, Any}})(Δ::Vector{Float64})\n",
      "    @ Zygote C:\\Users\\marka\\.julia\\packages\\Zygote\\SuKWp\\src\\lib\\lib.jl:206\n",
      " [25] #2138#back\n",
      "    @ C:\\Users\\marka\\.julia\\packages\\ZygoteRules\\OgCVT\\src\\adjoint.jl:71 [inlined]\n",
      " [26] Pullback\n",
      "    @ .\\operators.jl:1033 [inlined]\n",
      " [27] (::Zygote.Pullback{Tuple{ComposedFunction{typeof(Zygote._jvec), typeof(f)}, Matrix{Float64}}, Tuple{Zygote.var\"#2138#back#289\"{Zygote.var\"#287#288\"{Tuple{Tuple{Nothing, Nothing}, Tuple{Nothing}}, Zygote.Pullback{Tuple{Base.var\"##_#95\", Base.Pairs{Symbol, Union{}, Tuple{}, NamedTuple{(), Tuple{}}}, ComposedFunction{typeof(Zygote._jvec), typeof(f)}, Matrix{Float64}}, Any}}}, Zygote.Pullback{Tuple{Type{NamedTuple}}, Tuple{}}, Zygote.var\"#2331#back#414\"{Zygote.var\"#pairs_namedtuple_pullback#413\"{(), NamedTuple{(), Tuple{}}}}, Zygote.var\"#1982#back#200\"{typeof(identity)}}})(Δ::Vector{Float64})\n",
      "    @ Zygote C:\\Users\\marka\\.julia\\packages\\Zygote\\SuKWp\\src\\compiler\\interface2.jl:0\n",
      " [28] (::Zygote.var\"#75#76\"{Zygote.Pullback{Tuple{ComposedFunction{typeof(Zygote._jvec), typeof(f)}, Matrix{Float64}}, Tuple{Zygote.var\"#2138#back#289\"{Zygote.var\"#287#288\"{Tuple{Tuple{Nothing, Nothing}, Tuple{Nothing}}, Zygote.Pullback{Tuple{Base.var\"##_#95\", Base.Pairs{Symbol, Union{}, Tuple{}, NamedTuple{(), Tuple{}}}, ComposedFunction{typeof(Zygote._jvec), typeof(f)}, Matrix{Float64}}, Any}}}, Zygote.Pullback{Tuple{Type{NamedTuple}}, Tuple{}}, Zygote.var\"#2331#back#414\"{Zygote.var\"#pairs_namedtuple_pullback#413\"{(), NamedTuple{(), Tuple{}}}}, Zygote.var\"#1982#back#200\"{typeof(identity)}}}})(Δ::Vector{Float64})\n",
      "    @ Zygote C:\\Users\\marka\\.julia\\packages\\Zygote\\SuKWp\\src\\compiler\\interface.jl:45\n",
      " [29] withjacobian(f::Function, args::Matrix{Float64})\n",
      "    @ Zygote C:\\Users\\marka\\.julia\\packages\\Zygote\\SuKWp\\src\\lib\\grad.jl:150\n",
      " [30] jacobian(f::Function, args::Matrix{Float64})\n",
      "    @ Zygote C:\\Users\\marka\\.julia\\packages\\Zygote\\SuKWp\\src\\lib\\grad.jl:128\n",
      " [31] top-level scope\n",
      "    @ c:\\Users\\marka\\Documents\\VSCode\\Julia\\LaplaceRedux.jl\\notebooks\\differentiation.ipynb:4"
     ]
    }
   ],
   "source": [
    "# Define the function to be differentiated:\n",
    "f(x) = predict(la, x)\n",
    "# Differentiate it\n",
    "J = jacobian(f, X)\n",
    "println(J)"
   ]
  },
  {
   "attachments": {},
   "cell_type": "markdown",
   "metadata": {},
   "source": [
    "Through testing it has determined that the issue arises in nested use of Zygote, the use of `jacobian` in `jacobians` causes the issue. Jacobian moditifies the input arguments and therefore cannot be auto differentiated by Zygote. The [issue](https://github.com/FluxML/Zygote.jl/issues/953) of nested use of Zygote is still open.\n",
    "\n",
    "Cloning the inpute does not solve the issue, since the Zygote operates on the principle of reducing the function to the rules it can differentiate.\n",
    "\n",
    "Potential solutions:\n",
    "- Use of ForwardDiff.jl or Tracker.jl instead of Zygote.jl"
   ]
  }
 ],
 "metadata": {
  "kernelspec": {
   "display_name": "Julia 1.8.5",
   "language": "julia",
   "name": "julia-1.8"
  },
  "language_info": {
   "file_extension": ".jl",
   "mimetype": "application/julia",
   "name": "julia",
   "version": "1.8.5"
  },
  "orig_nbformat": 4
 },
 "nbformat": 4,
 "nbformat_minor": 2
}
