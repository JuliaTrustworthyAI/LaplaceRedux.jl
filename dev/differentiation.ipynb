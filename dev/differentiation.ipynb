{
 "cells": [
  {
   "attachments": {},
   "cell_type": "markdown",
   "metadata": {},
   "source": [
    "# Testing auto-differentiation of 'predict' method with Zygote.jl"
   ]
  },
  {
   "attachments": {},
   "cell_type": "markdown",
   "metadata": {},
   "source": [
    "### Model training"
   ]
  },
  {
   "cell_type": "code",
   "execution_count": 1,
   "metadata": {},
   "outputs": [
    {
     "name": "stderr",
     "output_type": "stream",
     "text": [
      "\u001b[32m\u001b[1m  Activating\u001b[22m\u001b[39m project at `c:\\Users\\adeli\\OneDrive\\Desktop\\facultate\\2nd year\\Q4 - Software Project\\LaplaceRedux.jl`"
     ]
    },
    {
     "name": "stderr",
     "output_type": "stream",
     "text": [
      "\n"
     ]
    }
   ],
   "source": [
    "import Pkg\n",
    "Pkg.activate(\"..\")"
   ]
  },
  {
   "cell_type": "code",
   "execution_count": 2,
   "metadata": {},
   "outputs": [],
   "source": [
    "using Flux\n",
    "using Flux: gradient\n",
    "using LaplaceRedux\n",
    "using LinearAlgebra\n",
    "using Plots\n",
    "using Statistics\n",
    "using Zygote"
   ]
  },
  {
   "cell_type": "code",
   "execution_count": 3,
   "metadata": {},
   "outputs": [
    {
     "data": {
      "text/plain": [
       "zip([[4.338278116518445, 4.346693861446744], [2.8895835101181366, 1.7724345503535346], [3.739171091869821, 4.806615763634292], [4.337448020194199, 2.8944493856125795], [4.385091999501366, 2.5993427745986546], [2.7179316296161153, 2.8763590202009115], [3.5510805948447106, 1.6071687255427378], [1.4107487578626614, 4.983832408881889], [2.3605816307989596, 0.8674613631761962], [1.1013194117557412, 4.54187896317418]  …  [-2.550765116941494, 0.7740255640038612], [-0.5689853766305939, 1.3681924968295949], [-3.0460870747317834, 1.4464977379569337], [-1.063558386399754, 0.9274420027171966], [-4.4029158762727105, 3.848201539780249], [-0.6533137738238128, 4.233217775766718], [-3.6867505640722884, 1.6399698341521611], [-4.115231059170212, 3.76570439406163], [-2.578551728943534, 3.09341159804621], [-1.127438275921857, 4.951438444293736]], [1.0, 1.0, 1.0, 1.0, 1.0, 1.0, 1.0, 1.0, 1.0, 1.0  …  0.0, 0.0, 0.0, 0.0, 0.0, 0.0, 0.0, 0.0, 0.0, 0.0])"
      ]
     },
     "metadata": {},
     "output_type": "display_data"
    }
   ],
   "source": [
    "xs, ys = LaplaceRedux.Data.toy_data_non_linear(200)\n",
    "X = hcat(xs...) # bring into tabular format\n",
    "data = zip(xs,ys)"
   ]
  },
  {
   "cell_type": "code",
   "execution_count": 4,
   "metadata": {},
   "outputs": [
    {
     "name": "stdout",
     "output_type": "stream",
     "text": [
      "2"
     ]
    },
    {
     "name": "stdout",
     "output_type": "stream",
     "text": [
      "\n",
      "Params(["
     ]
    },
    {
     "name": "stdout",
     "output_type": "stream",
     "text": [
      "Float32[0.62904763 -0.70134413; -0.23880176 0.59262556; 0.3062421 0.5838169; 0.41295835 0.3022863; -0.006728744 -0.48023972; 0.19677833 -0.15735787; -0.43431535 0.13617066; -0.37613237 -0.6355162; -0.5772489 0.5006516; 0.50735825 -0.57346106], "
     ]
    },
    {
     "name": "stdout",
     "output_type": "stream",
     "text": [
      "Float32[0.0, 0.0, 0.0, 0.0, 0.0, 0.0, 0.0, 0.0, 0.0, 0.0], Float32[-0.47486153 0.24279788 0.027775105 -0.2827202 0.54958683 -0.32948235 0.19193204 0.18896899 0.1997307 0.33355826], Float32[0.0]])"
     ]
    },
    {
     "data": {
      "text/plain": [
       "loss (generic function with 1 method)"
      ]
     },
     "metadata": {},
     "output_type": "display_data"
    }
   ],
   "source": [
    "n_hidden = 10\n",
    "D = size(X,1)\n",
    "nn = Chain(\n",
    "    Dense(D, n_hidden, σ),\n",
    "    Dense(n_hidden, 1)\n",
    ")\n",
    "loss(x, y) = Flux.Losses.logitbinarycrossentropy(nn(x), y) "
   ]
  },
  {
   "cell_type": "code",
   "execution_count": 5,
   "metadata": {},
   "outputs": [
    {
     "name": "stderr",
     "output_type": "stream",
     "text": [
      "┌ Warning: Layer with Float32 parameters got Float64 input.\n",
      "│   The input will be converted, but any earlier layers may be very slow.\n",
      "│   layer = Dense(2 => 10, σ)\n",
      "│   summary(x) = 2-element Vector{Float64}\n",
      "└ @ Flux C:\\Users\\adeli\\.julia\\packages\\Flux\\FWgS0\\src\\layers\\stateless.jl:50\n"
     ]
    },
    {
     "name": "stdout",
     "output_type": "stream",
     "text": [
      "Epoch 10\n"
     ]
    },
    {
     "name": "stdout",
     "output_type": "stream",
     "text": [
      "avg_loss(data) = 0.6624461008608341\n"
     ]
    },
    {
     "name": "stdout",
     "output_type": "stream",
     "text": [
      "Epoch 20\n",
      "avg_loss(data) = 0.5739905554056167\n"
     ]
    },
    {
     "name": "stdout",
     "output_type": "stream",
     "text": [
      "Epoch 30\n",
      "avg_loss(data) = 0.4420832905173302\n"
     ]
    },
    {
     "name": "stdout",
     "output_type": "stream",
     "text": [
      "Epoch 40\n",
      "avg_loss(data) = 0.32007293075323107"
     ]
    },
    {
     "name": "stdout",
     "output_type": "stream",
     "text": [
      "\n",
      "Epoch 50\n",
      "avg_loss(data) = 0.23157783426344394\n"
     ]
    },
    {
     "name": "stdout",
     "output_type": "stream",
     "text": [
      "Epoch 60\n",
      "avg_loss(data) = 0.17378534894436598\n"
     ]
    },
    {
     "name": "stdout",
     "output_type": "stream",
     "text": [
      "Epoch 70\n",
      "avg_loss(data) = 0.13618229190818965\n"
     ]
    },
    {
     "name": "stdout",
     "output_type": "stream",
     "text": [
      "Epoch 80\n",
      "avg_loss(data) = 0.11063698114827275"
     ]
    },
    {
     "name": "stdout",
     "output_type": "stream",
     "text": [
      "\n",
      "Epoch 90\n",
      "avg_loss(data) = 0.09237604660913348"
     ]
    },
    {
     "name": "stdout",
     "output_type": "stream",
     "text": [
      "\n",
      "Epoch 100\n",
      "avg_loss(data) = 0.07880439629778266\n"
     ]
    }
   ],
   "source": [
    "using Flux.Optimise: update!, Adam\n",
    "opt = Adam(1e-3)\n",
    "epochs = 100\n",
    "avg_loss(data) = mean(map(d -> loss(d[1],d[2]), data))\n",
    "show_every = epochs/10\n",
    "\n",
    "for epoch = 1:epochs\n",
    "  for d in data\n",
    "    gs = gradient(Flux.params(nn)) do\n",
    "      l = loss(d...)\n",
    "    end\n",
    "    update!(opt, Flux.params(nn), gs)\n",
    "  end\n",
    "  if epoch % show_every == 0\n",
    "    println(\"Epoch \" * string(epoch))\n",
    "    @show avg_loss(data)\n",
    "  end\n",
    "end"
   ]
  },
  {
   "cell_type": "code",
   "execution_count": 6,
   "metadata": {},
   "outputs": [
    {
     "data": {
      "text/plain": [
       "200"
      ]
     },
     "metadata": {},
     "output_type": "display_data"
    }
   ],
   "source": [
    "la = Laplace(nn; likelihood=:classification, subset_of_weights=:all)\n",
    "fit!(la, data)"
   ]
  },
  {
   "attachments": {},
   "cell_type": "markdown",
   "metadata": {},
   "source": [
    "### Auto-differentiation testing"
   ]
  },
  {
   "cell_type": "code",
   "execution_count": 8,
   "metadata": {},
   "outputs": [
    {
     "ename": "MethodError",
     "evalue": "MethodError: no method matching transform_jacobians(::LaplaceRedux.Curvature.EmpiricalFisher, ::Tuple{})\nClosest candidates are:\n  transform_jacobians(::LaplaceRedux.Curvature.CurvatureInterface, !Matched::Zygote.Grads) at c:\\Users\\adeli\\OneDrive\\Desktop\\facultate\\2nd year\\Q4 - Software Project\\LaplaceRedux.jl\\src\\curvature\\functions.jl:15",
     "output_type": "error",
     "traceback": [
      "MethodError: no method matching transform_jacobians(::LaplaceRedux.Curvature.EmpiricalFisher, ::Tuple{})\n",
      "Closest candidates are:\n",
      "  transform_jacobians(::LaplaceRedux.Curvature.CurvatureInterface, !Matched::Zygote.Grads) at c:\\Users\\adeli\\OneDrive\\Desktop\\facultate\\2nd year\\Q4 - Software Project\\LaplaceRedux.jl\\src\\curvature\\functions.jl:15\n",
      "\n",
      "Stacktrace:\n",
      "  [1] macro expansion\n",
      "    @ C:\\Users\\adeli\\.julia\\packages\\Zygote\\SuKWp\\src\\compiler\\interface2.jl:0 [inlined]\n",
      "  [2] _pullback(::Zygote.Context{false}, ::typeof(LaplaceRedux.Curvature.transform_jacobians), ::LaplaceRedux.Curvature.EmpiricalFisher, ::Tuple{})\n",
      "    @ Zygote C:\\Users\\adeli\\.julia\\packages\\Zygote\\SuKWp\\src\\compiler\\interface2.jl:9\n",
      "  [3] _pullback\n",
      "    @ c:\\Users\\adeli\\OneDrive\\Desktop\\facultate\\2nd year\\Q4 - Software Project\\LaplaceRedux.jl\\src\\curvature\\functions.jl:43 [inlined]\n",
      "  [4] _pullback(::Zygote.Context{false}, ::typeof(LaplaceRedux.Curvature.jacobians), ::LaplaceRedux.Curvature.EmpiricalFisher, ::Matrix{Float64})\n",
      "    @ Zygote C:\\Users\\adeli\\.julia\\packages\\Zygote\\SuKWp\\src\\compiler\\interface2.jl:0\n",
      "  [5] _pullback\n",
      "    @ c:\\Users\\adeli\\OneDrive\\Desktop\\facultate\\2nd year\\Q4 - Software Project\\LaplaceRedux.jl\\src\\laplace.jl:161 [inlined]\n",
      "  [6] _pullback(::Zygote.Context{false}, ::typeof(glm_predictive_distribution), ::Laplace, ::Matrix{Float64})\n",
      "    @ Zygote C:\\Users\\adeli\\.julia\\packages\\Zygote\\SuKWp\\src\\compiler\\interface2.jl:0\n",
      "  [7] _pullback\n",
      "    @ c:\\Users\\adeli\\OneDrive\\Desktop\\facultate\\2nd year\\Q4 - Software Project\\LaplaceRedux.jl\\src\\laplace.jl:198 [inlined]\n",
      "  [8] _pullback(::Zygote.Context{false}, ::LaplaceRedux.var\"##predict#18\", ::Symbol, ::typeof(predict), ::Laplace, ::Matrix{Float64})\n",
      "    @ Zygote C:\\Users\\adeli\\.julia\\packages\\Zygote\\SuKWp\\src\\compiler\\interface2.jl:0\n",
      "  [9] _pullback\n",
      "    @ c:\\Users\\adeli\\OneDrive\\Desktop\\facultate\\2nd year\\Q4 - Software Project\\LaplaceRedux.jl\\src\\laplace.jl:197 [inlined]\n",
      " [10] _pullback(::Zygote.Context{false}, ::typeof(predict), ::Laplace, ::Matrix{Float64})\n",
      "    @ Zygote C:\\Users\\adeli\\.julia\\packages\\Zygote\\SuKWp\\src\\compiler\\interface2.jl:0\n",
      " [11] _pullback\n",
      "    @ c:\\Users\\adeli\\OneDrive\\Desktop\\facultate\\2nd year\\Q4 - Software Project\\LaplaceRedux.jl\\dev\\differentiation.ipynb:2 [inlined]\n",
      " [12] _pullback(ctx::Zygote.Context{false}, f::typeof(f), args::Matrix{Float64})\n",
      "    @ Zygote C:\\Users\\adeli\\.julia\\packages\\Zygote\\SuKWp\\src\\compiler\\interface2.jl:0\n",
      " [13] _apply\n",
      "    @ .\\boot.jl:816 [inlined]\n",
      " [14] adjoint\n",
      "    @ C:\\Users\\adeli\\.julia\\packages\\Zygote\\SuKWp\\src\\lib\\lib.jl:203 [inlined]\n",
      " [15] _pullback\n",
      "    @ C:\\Users\\adeli\\.julia\\packages\\ZygoteRules\\OgCVT\\src\\adjoint.jl:66 [inlined]\n",
      " [16] _pullback\n",
      "    @ .\\operators.jl:1035 [inlined]\n",
      " [17] _pullback(::Zygote.Context{false}, ::Base.var\"##_#95\", ::Base.Pairs{Symbol, Union{}, Tuple{}, NamedTuple{(), Tuple{}}}, ::ComposedFunction{typeof(Zygote._jvec), typeof(f)}, ::Matrix{Float64})\n",
      "    @ Zygote C:\\Users\\adeli\\.julia\\packages\\Zygote\\SuKWp\\src\\compiler\\interface2.jl:0\n",
      " [18] _apply(::Function, ::Vararg{Any})\n",
      "    @ Core .\\boot.jl:816\n",
      " [19] adjoint\n",
      "    @ C:\\Users\\adeli\\.julia\\packages\\Zygote\\SuKWp\\src\\lib\\lib.jl:203 [inlined]\n",
      " [20] _pullback\n",
      "    @ C:\\Users\\adeli\\.julia\\packages\\ZygoteRules\\OgCVT\\src\\adjoint.jl:66 [inlined]\n",
      " [21] _pullback\n",
      "    @ .\\operators.jl:1033 [inlined]\n",
      " [22] _pullback(ctx::Zygote.Context{false}, f::ComposedFunction{typeof(Zygote._jvec), typeof(f)}, args::Matrix{Float64})\n",
      "    @ Zygote C:\\Users\\adeli\\.julia\\packages\\Zygote\\SuKWp\\src\\compiler\\interface2.jl:0\n",
      " [23] pullback(f::Function, cx::Zygote.Context{false}, args::Matrix{Float64})\n",
      "    @ Zygote C:\\Users\\adeli\\.julia\\packages\\Zygote\\SuKWp\\src\\compiler\\interface.jl:44\n",
      " [24] pullback\n",
      "    @ C:\\Users\\adeli\\.julia\\packages\\Zygote\\SuKWp\\src\\compiler\\interface.jl:42 [inlined]\n",
      " [25] withjacobian(f::Function, args::Matrix{Float64})\n",
      "    @ Zygote C:\\Users\\adeli\\.julia\\packages\\Zygote\\SuKWp\\src\\lib\\grad.jl:141\n",
      " [26] jacobian(f::Function, args::Matrix{Float64})\n",
      "    @ Zygote C:\\Users\\adeli\\.julia\\packages\\Zygote\\SuKWp\\src\\lib\\grad.jl:128\n",
      " [27] top-level scope\n",
      "    @ c:\\Users\\adeli\\OneDrive\\Desktop\\facultate\\2nd year\\Q4 - Software Project\\LaplaceRedux.jl\\dev\\differentiation.ipynb:4"
     ]
    }
   ],
   "source": [
    "# Define the function to be differentiated:\n",
    "f(x) = predict(la, x)\n",
    "# Differentiate it\n",
    "J = jacobian(f, X)\n",
    "println(J)"
   ]
  },
  {
   "attachments": {},
   "cell_type": "markdown",
   "metadata": {},
   "source": [
    "Through testing it has determined that the issue arises in nested use of Zygote, the use of `jacobian` in `jacobians` causes the issue. Jacobian moditifies the input arguments and therefore cannot be auto differentiated by Zygote. The [issue](https://github.com/FluxML/Zygote.jl/issues/953) of nested use of Zygote is still open.\n",
    "\n",
    "Cloning the inpute does not solve the issue, since the Zygote operates on the principle of reducing the function to the rules it can differentiate.\n",
    "\n",
    "Potential solutions:\n",
    "- Use of ForwardDiff.jl or Tracker.jl instead of Zygote.jl"
   ]
  }
 ],
 "metadata": {
  "kernelspec": {
   "display_name": "Julia 1.8.5",
   "language": "julia",
   "name": "julia-1.8"
  },
  "language_info": {
   "file_extension": ".jl",
   "mimetype": "application/julia",
   "name": "julia",
   "version": "1.8.5"
  },
  "orig_nbformat": 4
 },
 "nbformat": 4,
 "nbformat_minor": 2
}
