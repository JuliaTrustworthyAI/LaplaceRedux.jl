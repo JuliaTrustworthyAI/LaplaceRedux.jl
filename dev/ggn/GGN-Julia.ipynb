{
 "cells": [
  {
   "cell_type": "code",
   "execution_count": 1,
   "id": "c5f678e5-35f4-4c84-991f-8672ad4e136e",
   "metadata": {},
   "outputs": [
    {
     "name": "stderr",
     "output_type": "stream",
     "text": [
      "\u001b[32m\u001b[1m  Activating\u001b[22m\u001b[39m project at `C:\\Users\\Lenovo\\Desktop\\SP\\LaplaceRedux.jl\\dev`\n"
     ]
    },
    {
     "data": {
      "text/plain": [
       "100-element Vector{Vector{Bool}}:\n",
       " [1, 0, 0, 0]\n",
       " [1, 0, 0, 0]\n",
       " [1, 0, 0, 0]\n",
       " [1, 0, 0, 0]\n",
       " [1, 0, 0, 0]\n",
       " [1, 0, 0, 0]\n",
       " [1, 0, 0, 0]\n",
       " [1, 0, 0, 0]\n",
       " [1, 0, 0, 0]\n",
       " [1, 0, 0, 0]\n",
       " [1, 0, 0, 0]\n",
       " [1, 0, 0, 0]\n",
       " [1, 0, 0, 0]\n",
       " ⋮\n",
       " [0, 0, 0, 1]\n",
       " [0, 0, 0, 1]\n",
       " [0, 0, 0, 1]\n",
       " [0, 0, 0, 1]\n",
       " [0, 0, 0, 1]\n",
       " [0, 0, 0, 1]\n",
       " [0, 0, 0, 1]\n",
       " [0, 0, 0, 1]\n",
       " [0, 0, 0, 1]\n",
       " [0, 0, 0, 1]\n",
       " [0, 0, 0, 1]\n",
       " [0, 0, 0, 1]"
      ]
     },
     "execution_count": 1,
     "metadata": {},
     "output_type": "execute_result"
    }
   ],
   "source": [
    "using Pkg\n",
    "Pkg.activate(\"..\")\n",
    "\n",
    "using Flux\n",
    "\n",
    "using CSV\n",
    "using DataFrames\n",
    "\n",
    "using Random\n",
    "Random.seed!(42)\n",
    "\n",
    "df = CSV.read(\"data1.csv\", DataFrame)\n",
    "x = Matrix(df[:, 1:2])\n",
    "x = [x[i, :] for i in 1:size(x, 1)]\n",
    "y = df[:, 3]\n",
    "\n",
    "X = hcat(x...)\n",
    "y_train = Flux.onehotbatch(y, unique(y))\n",
    "y_train = Flux.unstack(y_train',1)"
   ]
  },
  {
   "cell_type": "code",
   "execution_count": 2,
   "id": "e540b5f5-fe42-4edc-ba5c-42967c5bdc79",
   "metadata": {},
   "outputs": [
    {
     "data": {
      "text/plain": [
       "loss (generic function with 1 method)"
      ]
     },
     "execution_count": 2,
     "metadata": {},
     "output_type": "execute_result"
    }
   ],
   "source": [
    "data = zip(x,y_train)\n",
    "n_hidden = 3\n",
    "D = size(X,1)\n",
    "out_dim = length(unique(y))\n",
    "nn = Chain(\n",
    "    Dense(D, n_hidden, σ),\n",
    "    Dense(n_hidden, out_dim)\n",
    ")  \n",
    "loss(x, y) = Flux.Losses.logitcrossentropy(nn(x), y)"
   ]
  },
  {
   "cell_type": "code",
   "execution_count": null,
   "id": "ffc0e47a-aff2-4614-bc18-a29682848bc4",
   "metadata": {},
   "outputs": [],
   "source": [
    "using Flux.Optimise: update!, Adam\n",
    "using Statistics\n",
    "opt = Adam()\n",
    "epochs = 200\n",
    "avg_loss(data) = mean(map(d -> loss(d[1],d[2]), data))\n",
    "show_every = epochs/10\n",
    "\n",
    "for epoch = 1:epochs\n",
    "    for d in data\n",
    "        gs = gradient(Flux.params(nn)) do\n",
    "            l = loss(d...)\n",
    "        end\n",
    "        update!(opt, Flux.params(nn), gs)\n",
    "    end\n",
    "    if epoch % show_every == 0\n",
    "        println(\"Epoch \" * string(epoch))\n",
    "        @show avg_loss(data)\n",
    "    end\n",
    "end"
   ]
  },
  {
   "cell_type": "code",
   "execution_count": 3,
   "id": "099d5c00-aecf-429e-b62f-6e4a0e3172df",
   "metadata": {},
   "outputs": [
    {
     "data": {
      "text/plain": [
       "4-element Vector{Float64}:\n",
       "  1.5361\n",
       " -1.5164\n",
       " -1.587\n",
       "  1.806"
      ]
     },
     "execution_count": 3,
     "metadata": {},
     "output_type": "execute_result"
    }
   ],
   "source": [
    "py_layer1 = [[-2.7541,  0.5183],\n",
    "         [ 3.5415,  0.1424],\n",
    "         [ 0.1192, -4.3529]]\n",
    "\n",
    "py_layer1 = hcat(py_layer1...)\n",
    "py_layer1 = py_layer1'\n",
    "\n",
    "py_layer2 = [-0.9672,  1.5726, -2.0302]\n",
    "\n",
    "py_layer3 = [[-5.3452,  2.9503, -8.0299],\n",
    "         [ 0.5926, -7.3648,  4.3767],\n",
    "         [ -5.9890,  0.3879,  3.8754],\n",
    "         [ 3.0135, -6.8771, -7.4405]]\n",
    "py_layer3 = hcat(py_layer3...)\n",
    "py_layer3 = py_layer3'\n",
    "\n",
    "py_layer4 = [ 1.5361, -1.5164, -1.5870,  1.8060]"
   ]
  },
  {
   "cell_type": "code",
   "execution_count": 4,
   "id": "7d07d742-03b1-45a7-8988-c6bd6d7345c6",
   "metadata": {},
   "outputs": [
    {
     "data": {
      "text/plain": [
       "4-element Vector{Float32}:\n",
       "  1.5361\n",
       " -1.5164\n",
       " -1.587\n",
       "  1.806"
      ]
     },
     "execution_count": 4,
     "metadata": {},
     "output_type": "execute_result"
    }
   ],
   "source": [
    "Flux.params(nn)[1] .= py_layer1\n",
    "Flux.params(nn)[2] .= py_layer2\n",
    "Flux.params(nn)[3] .= py_layer3\n",
    "Flux.params(nn)[4] .= py_layer4"
   ]
  },
  {
   "cell_type": "code",
   "execution_count": null,
   "id": "9b8d1d73-22c2-4236-9491-d5d12fbd11fe",
   "metadata": {},
   "outputs": [
    {
     "name": "stderr",
     "output_type": "stream",
     "text": [
      "\u001b[36m\u001b[1m[ \u001b[22m\u001b[39m\u001b[36m\u001b[1mInfo: \u001b[22m\u001b[39mPrecompiling LaplaceRedux [c52c1a26-f7c5-402b-80be-ba1e638ad478]\n"
     ]
    }
   ],
   "source": [
    "using LaplaceRedux\n",
    "la = Laplace(nn; likelihood=:classification)\n",
    "fit!(la, data)\n",
    "optimize_prior!(la; verbose=true, n_steps=100)"
   ]
  },
  {
   "cell_type": "code",
   "execution_count": null,
   "id": "51853029-99ba-4f6d-b864-0009fc103db6",
   "metadata": {},
   "outputs": [],
   "source": [
    "using Plots\n",
    "_labels = sort(unique(y))\n",
    "plt_list = []\n",
    "for target in _labels\n",
    "    plt = plot(la, X, y; target=target, clim=(0,1))\n",
    "    push!(plt_list, plt)\n",
    "end\n",
    "plot(plt_list...)"
   ]
  },
  {
   "cell_type": "code",
   "execution_count": null,
   "id": "22628493-de09-4111-818a-bb828ed7be44",
   "metadata": {},
   "outputs": [],
   "source": [
    "predictions_probit = reduce(hcat, predict(la, X))\n",
    "predictions_probit = reshape(predictions_probit, 4, 100)"
   ]
  },
  {
   "cell_type": "code",
   "execution_count": null,
   "id": "63350652-dffc-4601-95ae-78a6e12ac2b9",
   "metadata": {},
   "outputs": [],
   "source": [
    "_labels = sort(unique(y))\n",
    "plt_list = []\n",
    "for target in _labels\n",
    "    plt = plot(la, X, y; target=target, clim=(0,1), link_approx=:plugin)\n",
    "    push!(plt_list, plt)\n",
    "end\n",
    "plot(plt_list...)"
   ]
  },
  {
   "cell_type": "code",
   "execution_count": null,
   "id": "4a42ecac-e8ca-4a0e-b965-750d280f4936",
   "metadata": {},
   "outputs": [],
   "source": [
    "predictions_plugin = reduce(hcat, predict(la, X, link_approx=:plugin))\n",
    "predictions_plugin = reshape(predictions_plugin, 4, 100)"
   ]
  },
  {
   "cell_type": "code",
   "execution_count": null,
   "id": "a669e61e-f943-4e09-9d37-47c2d421a306",
   "metadata": {},
   "outputs": [],
   "source": [
    "@show la.H"
   ]
  },
  {
   "cell_type": "code",
   "execution_count": null,
   "id": "8ee91723-1605-46ce-b101-97180b14a156",
   "metadata": {},
   "outputs": [],
   "source": []
  }
 ],
 "metadata": {
  "kernelspec": {
   "display_name": "Julia 1.8.5",
   "language": "julia",
   "name": "julia-1.8"
  },
  "language_info": {
   "file_extension": ".jl",
   "mimetype": "application/julia",
   "name": "julia",
   "version": "1.8.5"
  }
 },
 "nbformat": 4,
 "nbformat_minor": 5
}
