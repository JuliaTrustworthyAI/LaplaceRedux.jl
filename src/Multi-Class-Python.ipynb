{
 "cells": [
  {
   "cell_type": "code",
   "execution_count": 1,
   "id": "91563b1a-ecf7-4505-a59e-70e012ba8194",
   "metadata": {},
   "outputs": [],
   "source": [
    "from laplace import Laplace"
   ]
  },
  {
   "cell_type": "code",
   "execution_count": 13,
   "id": "f421c514-5587-4858-a5fa-0ac562c7c659",
   "metadata": {},
   "outputs": [],
   "source": [
    "import pandas as pd\n",
    "import torch\n",
    "\n",
    "import torch.nn as nn\n",
    "from torch.utils.data import TensorDataset, DataLoader\n",
    "\n",
    "# Load data from CSV file using pandas\n",
    "df = pd.read_csv('data1.csv')\n",
    "\n",
    "# Split the dataframe into x and y tensors\n",
    "x = torch.from_numpy(df[['x1', 'x2']].to_numpy())\n",
    "y = torch.from_numpy(df['y'].to_numpy(dtype=int))"
   ]
  },
  {
   "cell_type": "code",
   "execution_count": 27,
   "id": "70ef594b-5286-4098-a228-a1effcd46771",
   "metadata": {},
   "outputs": [
    {
     "name": "stderr",
     "output_type": "stream",
     "text": [
      "C:\\Users\\Lenovo\\AppData\\Local\\Temp\\ipykernel_19352\\1740726160.py:1: UserWarning: To copy construct from a tensor, it is recommended to use sourceTensor.clone().detach() or sourceTensor.clone().detach().requires_grad_(True), rather than torch.tensor(sourceTensor).\n",
      "  X = torch.tensor(x.T).float().T\n",
      "C:\\Users\\Lenovo\\AppData\\Local\\Temp\\ipykernel_19352\\1740726160.py:4: UserWarning: To copy construct from a tensor, it is recommended to use sourceTensor.clone().detach() or sourceTensor.clone().detach().requires_grad_(True), rather than torch.tensor(sourceTensor).\n",
      "  y_unique = torch.unique(torch.tensor(y))\n",
      "C:\\Users\\Lenovo\\AppData\\Local\\Temp\\ipykernel_19352\\1740726160.py:5: UserWarning: To copy construct from a tensor, it is recommended to use sourceTensor.clone().detach() or sourceTensor.clone().detach().requires_grad_(True), rather than torch.tensor(sourceTensor).\n",
      "  y_indices = torch.searchsorted(y_unique, torch.tensor(y))\n"
     ]
    }
   ],
   "source": [
    "X = torch.tensor(x.T).float().T\n",
    "\n",
    "# Convert y to a tensor of indices and one-hot encode it\n",
    "y_unique = torch.unique(torch.tensor(y))\n",
    "y_indices = torch.searchsorted(y_unique, torch.tensor(y))\n",
    "y_train = nn.functional.one_hot(y_indices, num_classes=len(y_unique)).float()\n"
   ]
  },
  {
   "cell_type": "code",
   "execution_count": 28,
   "id": "38efd010-fddb-438a-b086-d817ca685a1c",
   "metadata": {},
   "outputs": [],
   "source": [
    "# Define neural network\n",
    "n_hidden = 3\n",
    "D = X.shape[1]\n",
    "out_dim = y_train.shape[1]\n",
    "model = nn.Sequential(\n",
    "    nn.Linear(D, n_hidden),\n",
    "    nn.Sigmoid(),\n",
    "    nn.Linear(n_hidden, out_dim)\n",
    ")"
   ]
  },
  {
   "cell_type": "code",
   "execution_count": 29,
   "id": "98d4c1b7-9dd9-4e4e-bbde-5c6fcfa6f7ad",
   "metadata": {},
   "outputs": [],
   "source": [
    "# Define loss function and optimizer\n",
    "criterion = nn.CrossEntropyLoss()\n",
    "optimizer = torch.optim.Adam(model.parameters())"
   ]
  },
  {
   "cell_type": "code",
   "execution_count": 31,
   "id": "38ac53e7-7fb0-4456-9d3b-a80a2f3ca1c7",
   "metadata": {},
   "outputs": [],
   "source": [
    "# Create DataLoader for batch processing\n",
    "batch_size = 10\n",
    "data = TensorDataset(X, y_train)\n",
    "loader = DataLoader(data, batch_size=batch_size, shuffle=True)"
   ]
  },
  {
   "cell_type": "code",
   "execution_count": 36,
   "id": "a2e66f99-2410-477f-b30f-eebbac5abf66",
   "metadata": {},
   "outputs": [
    {
     "name": "stderr",
     "output_type": "stream",
     "text": [
      "C:\\Users\\Lenovo\\AppData\\Local\\Temp\\ipykernel_19352\\3827255648.py:6: UserWarning: torch.range is deprecated and will be removed in a future release because its behavior is inconsistent with Python's range builtin. Instead, use torch.arange, which produces values in [start, end).\n",
      "  for epoch in range(1, epochs+1):\n"
     ]
    },
    {
     "name": "stdout",
     "output_type": "stream",
     "text": [
      "Epoch  tensor(10.)\n",
      "Avg loss:  tensor(0.0416, grad_fn=<NllLossBackward0>)\n",
      "Epoch  tensor(20.)\n",
      "Avg loss:  tensor(0.0398, grad_fn=<NllLossBackward0>)\n",
      "Epoch  tensor(30.)\n",
      "Avg loss:  tensor(0.0382, grad_fn=<NllLossBackward0>)\n",
      "Epoch  tensor(40.)\n",
      "Avg loss:  tensor(0.0366, grad_fn=<NllLossBackward0>)\n",
      "Epoch  tensor(50.)\n",
      "Avg loss:  tensor(0.0351, grad_fn=<NllLossBackward0>)\n",
      "Epoch  tensor(60.)\n",
      "Avg loss:  tensor(0.0337, grad_fn=<NllLossBackward0>)\n",
      "Epoch  tensor(70.)\n",
      "Avg loss:  tensor(0.0323, grad_fn=<NllLossBackward0>)\n",
      "Epoch  tensor(80.)\n",
      "Avg loss:  tensor(0.0310, grad_fn=<NllLossBackward0>)\n",
      "Epoch  tensor(90.)\n",
      "Avg loss:  tensor(0.0298, grad_fn=<NllLossBackward0>)\n",
      "Epoch  tensor(100.)\n",
      "Avg loss:  tensor(0.0286, grad_fn=<NllLossBackward0>)\n"
     ]
    }
   ],
   "source": [
    "# Train the model\n",
    "epochs = 100\n",
    "avg_loss = lambda data: nn.functional.cross_entropy(model(data[0]), torch.argmax(data[1], dim=1))\n",
    "show_every = epochs // 10\n",
    "\n",
    "for epoch in range(1, epochs+1):\n",
    "    for x_batch, y_batch in loader:\n",
    "        optimizer.zero_grad()\n",
    "        y_pred = model(x_batch)\n",
    "        loss = criterion(y_pred, torch.argmax(y_batch, dim=1))\n",
    "        loss.backward()\n",
    "        optimizer.step()\n",
    "    \n",
    "    if epoch % show_every == 0:\n",
    "        print(\"Epoch \", epoch)\n",
    "        print(\"Avg loss: \", avg_loss((X, y_train)))\n"
   ]
  },
  {
   "cell_type": "code",
   "execution_count": null,
   "id": "b4b95a56-8936-4f47-be79-6a9007d2fd53",
   "metadata": {},
   "outputs": [],
   "source": []
  }
 ],
 "metadata": {
  "kernelspec": {
   "display_name": "Python 3 (ipykernel)",
   "language": "python",
   "name": "python3"
  },
  "language_info": {
   "codemirror_mode": {
    "name": "ipython",
    "version": 3
   },
   "file_extension": ".py",
   "mimetype": "text/x-python",
   "name": "python",
   "nbconvert_exporter": "python",
   "pygments_lexer": "ipython3",
   "version": "3.9.13"
  }
 },
 "nbformat": 4,
 "nbformat_minor": 5
}
