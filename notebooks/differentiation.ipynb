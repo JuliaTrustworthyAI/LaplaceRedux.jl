{
 "cells": [
  {
   "attachments": {},
   "cell_type": "markdown",
   "metadata": {},
   "source": [
    "# Testing auto-differentiation of 'predict' method with Zygote.jl"
   ]
  },
  {
   "attachments": {},
   "cell_type": "markdown",
   "metadata": {},
   "source": [
    "### Model training"
   ]
  },
  {
   "cell_type": "code",
   "execution_count": 1,
   "metadata": {},
   "outputs": [],
   "source": [
    "using Flux\n",
    "using Flux: gradient\n",
    "using LaplaceRedux\n",
    "using LinearAlgebra\n",
    "using Plots\n",
    "using Statistics\n",
    "using Zygote"
   ]
  },
  {
   "cell_type": "code",
   "execution_count": 2,
   "metadata": {},
   "outputs": [
    {
     "data": {
      "text/plain": [
       "zip([[2.4177043251742587, 3.3822464490006237], [3.344195795224136, 1.7956153312866672], [2.431025263630579, 1.2883291750343913], [3.9303446068532852, 2.913062292981182], [2.6335060160501667, 0.6855425646071571], [0.9062028080279618, 4.264888516133536], [4.264443590829248, 3.6939625467394523], [1.9358462289445266, 1.7102901247254312], [2.311307115529128, 3.578834692139374], [2.212254835201132, 0.5513742316947359]  …  [-3.623518811438702, 0.989759235246586], [-1.500649952385222, 2.6954184532806806], [-4.339850006249561, 4.551783996179579], [-2.838156550164357, 1.2674937551668863], [-3.197823528615125, 2.417845746426911], [-2.5268154328821404, 3.269254255270586], [-4.913119736316474, 2.340094758991834], [-3.626175607034501, 2.411300658133167], [-3.43273893161647, 2.9706734590606994], [-4.325570267317931, 0.9129242368778023]], [1.0, 1.0, 1.0, 1.0, 1.0, 1.0, 1.0, 1.0, 1.0, 1.0  …  0.0, 0.0, 0.0, 0.0, 0.0, 0.0, 0.0, 0.0, 0.0, 0.0])"
      ]
     },
     "metadata": {},
     "output_type": "display_data"
    }
   ],
   "source": [
    "xs, ys = LaplaceRedux.Data.toy_data_non_linear(200)\n",
    "X = hcat(xs...) # bring into tabular format\n",
    "data = zip(xs,ys)"
   ]
  },
  {
   "cell_type": "code",
   "execution_count": 3,
   "metadata": {},
   "outputs": [
    {
     "data": {
      "text/plain": [
       "loss (generic function with 1 method)"
      ]
     },
     "metadata": {},
     "output_type": "display_data"
    }
   ],
   "source": [
    "n_hidden = 10\n",
    "D = size(X,1)\n",
    "nn = Chain(\n",
    "    Dense(D, n_hidden, σ),\n",
    "    Dense(n_hidden, 1)\n",
    ")  \n",
    "loss(x, y) = Flux.Losses.logitbinarycrossentropy(nn(x), y) "
   ]
  },
  {
   "cell_type": "code",
   "execution_count": 4,
   "metadata": {},
   "outputs": [
    {
     "name": "stdout",
     "output_type": "stream",
     "text": [
      "Epoch 10"
     ]
    },
    {
     "name": "stderr",
     "output_type": "stream",
     "text": [
      "┌ Warning: Layer with Float32 parameters got Float64 input.\n",
      "│   The input will be converted, but any earlier layers may be very slow.\n",
      "│   layer = Dense(2 => 10, σ)\n",
      "│   summary(x) = 2-element Vector{Float64}\n",
      "└ @ Flux C:\\Users\\marka\\.julia\\packages\\Flux\\EHgZm\\src\\layers\\stateless.jl:60\n"
     ]
    },
    {
     "name": "stdout",
     "output_type": "stream",
     "text": [
      "\n",
      "avg_loss(data) = 0.6086040003970266"
     ]
    },
    {
     "name": "stdout",
     "output_type": "stream",
     "text": [
      "\n",
      "Epoch 20\n",
      "avg_loss(data) = 0.49154122805222866\n"
     ]
    },
    {
     "name": "stdout",
     "output_type": "stream",
     "text": [
      "Epoch 30\n",
      "avg_loss(data) = 0.36414230475202203"
     ]
    },
    {
     "name": "stdout",
     "output_type": "stream",
     "text": [
      "\n",
      "Epoch 40\n",
      "avg_loss(data) = 0.2641954865306616\n"
     ]
    },
    {
     "name": "stdout",
     "output_type": "stream",
     "text": [
      "Epoch 50\n",
      "avg_loss(data) = 0.1967995231412351"
     ]
    },
    {
     "name": "stdout",
     "output_type": "stream",
     "text": [
      "\n",
      "Epoch 60\n",
      "avg_loss(data) = 0.1526863269135356\n"
     ]
    },
    {
     "name": "stdout",
     "output_type": "stream",
     "text": [
      "Epoch 70\n",
      "avg_loss(data) = 0.12315487658604979\n",
      "Epoch 80\n",
      "avg_loss(data) = 0.10255790121853352\n"
     ]
    },
    {
     "name": "stdout",
     "output_type": "stream",
     "text": [
      "Epoch 90\n",
      "avg_loss(data) = 0.08756980057340115"
     ]
    },
    {
     "name": "stdout",
     "output_type": "stream",
     "text": [
      "\n",
      "Epoch 100\n",
      "avg_loss(data) = 0.07624356346204877\n"
     ]
    }
   ],
   "source": [
    "using Flux.Optimise: update!, Adam\n",
    "opt = Adam(1e-3)\n",
    "epochs = 100\n",
    "avg_loss(data) = mean(map(d -> loss(d[1],d[2]), data))\n",
    "show_every = epochs/10\n",
    "\n",
    "for epoch = 1:epochs\n",
    "  for d in data\n",
    "    gs = gradient(Flux.params(nn)) do\n",
    "      l = loss(d...)\n",
    "    end\n",
    "    update!(opt, Flux.params(nn), gs)\n",
    "  end\n",
    "  if epoch % show_every == 0\n",
    "    println(\"Epoch \" * string(epoch))\n",
    "    @show avg_loss(data)\n",
    "  end\n",
    "end"
   ]
  },
  {
   "cell_type": "code",
   "execution_count": 5,
   "metadata": {},
   "outputs": [
    {
     "data": {
      "text/plain": [
       "200"
      ]
     },
     "metadata": {},
     "output_type": "display_data"
    }
   ],
   "source": [
    "la = Laplace(nn; likelihood=:classification, subset_of_weights=:all)\n",
    "fit!(la, data)"
   ]
  },
  {
   "attachments": {},
   "cell_type": "markdown",
   "metadata": {},
   "source": [
    "### Auto-differentiation testing"
   ]
  },
  {
   "cell_type": "code",
   "execution_count": 6,
   "metadata": {},
   "outputs": [
    {
     "ename": "MethodError",
     "evalue": "MethodError: no method matching size(::Params{Zygote.Buffer{Any, Vector{Any}}})\nClosest candidates are:\n  size(!Matched::Union{QR, LinearAlgebra.QRCompactWY, QRPivoted}) at C:\\Users\\marka\\AppData\\Local\\Programs\\Julia-1.8.5\\share\\julia\\stdlib\\v1.8\\LinearAlgebra\\src\\qr.jl:581\n  size(!Matched::Union{QR, LinearAlgebra.QRCompactWY, QRPivoted}, !Matched::Integer) at C:\\Users\\marka\\AppData\\Local\\Programs\\Julia-1.8.5\\share\\julia\\stdlib\\v1.8\\LinearAlgebra\\src\\qr.jl:580\n  size(!Matched::Union{Cholesky, CholeskyPivoted}) at C:\\Users\\marka\\AppData\\Local\\Programs\\Julia-1.8.5\\share\\julia\\stdlib\\v1.8\\LinearAlgebra\\src\\cholesky.jl:514\n  ...",
     "output_type": "error",
     "traceback": [
      "MethodError: no method matching size(::Params{Zygote.Buffer{Any, Vector{Any}}})\n",
      "Closest candidates are:\n",
      "  size(!Matched::Union{QR, LinearAlgebra.QRCompactWY, QRPivoted}) at C:\\Users\\marka\\AppData\\Local\\Programs\\Julia-1.8.5\\share\\julia\\stdlib\\v1.8\\LinearAlgebra\\src\\qr.jl:581\n",
      "  size(!Matched::Union{QR, LinearAlgebra.QRCompactWY, QRPivoted}, !Matched::Integer) at C:\\Users\\marka\\AppData\\Local\\Programs\\Julia-1.8.5\\share\\julia\\stdlib\\v1.8\\LinearAlgebra\\src\\qr.jl:580\n",
      "  size(!Matched::Union{Cholesky, CholeskyPivoted}) at C:\\Users\\marka\\AppData\\Local\\Programs\\Julia-1.8.5\\share\\julia\\stdlib\\v1.8\\LinearAlgebra\\src\\cholesky.jl:514\n",
      "  ...\n",
      "\n",
      "Stacktrace:\n",
      "  [1] axes\n",
      "    @ .\\abstractarray.jl:95 [inlined]\n",
      "  [2] _tryaxes(x::Params{Zygote.Buffer{Any, Vector{Any}}})\n",
      "    @ Zygote C:\\Users\\marka\\.julia\\packages\\Zygote\\SuKWp\\src\\lib\\array.jl:188\n",
      "  [3] map\n",
      "    @ .\\tuple.jl:221 [inlined]\n",
      "  [4] ∇map(cx::Zygote.Context{false}, f::LaplaceRedux.Curvature.var\"#1#4\", args::Params{Zygote.Buffer{Any, Vector{Any}}})\n",
      "    @ Zygote C:\\Users\\marka\\.julia\\packages\\Zygote\\SuKWp\\src\\lib\\array.jl:203\n",
      "  [5] _pullback(cx::Zygote.Context{false}, #unused#::typeof(collect), g::Base.Generator{Params{Zygote.Buffer{Any, Vector{Any}}}, LaplaceRedux.Curvature.var\"#1#4\"})\n",
      "    @ Zygote C:\\Users\\marka\\.julia\\packages\\Zygote\\SuKWp\\src\\lib\\array.jl:244\n",
      "  [6] _pullback\n",
      "    @ c:\\Users\\marka\\Documents\\VSCode\\Julia\\LaplaceRedux.jl\\src\\curvature\\functions.jl:21 [inlined]\n",
      "  [7] _pullback(::Zygote.Context{false}, ::typeof(LaplaceRedux.Curvature.jacobians), ::LaplaceRedux.Curvature.EmpiricalFisher, ::Matrix{Float64})\n",
      "    @ Zygote C:\\Users\\marka\\.julia\\packages\\Zygote\\SuKWp\\src\\compiler\\interface2.jl:0\n",
      "  [8] _pullback\n",
      "    @ c:\\Users\\marka\\Documents\\VSCode\\Julia\\LaplaceRedux.jl\\src\\laplace.jl:153 [inlined]\n",
      "  [9] _pullback(::Zygote.Context{false}, ::typeof(LaplaceRedux.glm_predictive_distribution), ::Laplace, ::Matrix{Float64})\n",
      "    @ Zygote C:\\Users\\marka\\.julia\\packages\\Zygote\\SuKWp\\src\\compiler\\interface2.jl:0\n",
      " [10] _pullback\n",
      "    @ c:\\Users\\marka\\Documents\\VSCode\\Julia\\LaplaceRedux.jl\\src\\laplace.jl:191 [inlined]\n",
      " [11] _pullback(::Zygote.Context{false}, ::LaplaceRedux.var\"##predict#16\", ::Symbol, ::typeof(predict), ::Laplace, ::Matrix{Float64})\n",
      "    @ Zygote C:\\Users\\marka\\.julia\\packages\\Zygote\\SuKWp\\src\\compiler\\interface2.jl:0\n",
      " [12] _pullback\n",
      "    @ c:\\Users\\marka\\Documents\\VSCode\\Julia\\LaplaceRedux.jl\\src\\laplace.jl:190 [inlined]\n",
      " [13] _pullback(::Zygote.Context{false}, ::typeof(predict), ::Laplace, ::Matrix{Float64})\n",
      "    @ Zygote C:\\Users\\marka\\.julia\\packages\\Zygote\\SuKWp\\src\\compiler\\interface2.jl:0\n",
      " [14] _pullback\n",
      "    @ c:\\Users\\marka\\Documents\\VSCode\\Julia\\LaplaceRedux.jl\\notebooks\\differentiation.ipynb:1 [inlined]\n",
      " [15] _pullback(ctx::Zygote.Context{false}, f::typeof(f), args::Matrix{Float64})\n",
      "    @ Zygote C:\\Users\\marka\\.julia\\packages\\Zygote\\SuKWp\\src\\compiler\\interface2.jl:0\n",
      " [16] _apply\n",
      "    @ .\\boot.jl:816 [inlined]\n",
      " [17] adjoint\n",
      "    @ C:\\Users\\marka\\.julia\\packages\\Zygote\\SuKWp\\src\\lib\\lib.jl:203 [inlined]\n",
      " [18] _pullback\n",
      "    @ C:\\Users\\marka\\.julia\\packages\\ZygoteRules\\OgCVT\\src\\adjoint.jl:66 [inlined]\n",
      " [19] _pullback\n",
      "    @ .\\operators.jl:1035 [inlined]\n",
      " [20] _pullback(::Zygote.Context{false}, ::Base.var\"##_#95\", ::Base.Pairs{Symbol, Union{}, Tuple{}, NamedTuple{(), Tuple{}}}, ::ComposedFunction{typeof(Zygote._jvec), typeof(f)}, ::Matrix{Float64})\n",
      "    @ Zygote C:\\Users\\marka\\.julia\\packages\\Zygote\\SuKWp\\src\\compiler\\interface2.jl:0\n",
      " [21] _apply(::Function, ::Vararg{Any})\n",
      "    @ Core .\\boot.jl:816\n",
      " [22] adjoint\n",
      "    @ C:\\Users\\marka\\.julia\\packages\\Zygote\\SuKWp\\src\\lib\\lib.jl:203 [inlined]\n",
      " [23] _pullback\n",
      "    @ C:\\Users\\marka\\.julia\\packages\\ZygoteRules\\OgCVT\\src\\adjoint.jl:66 [inlined]\n",
      " [24] _pullback\n",
      "    @ .\\operators.jl:1033 [inlined]\n",
      " [25] _pullback(ctx::Zygote.Context{false}, f::ComposedFunction{typeof(Zygote._jvec), typeof(f)}, args::Matrix{Float64})\n",
      "    @ Zygote C:\\Users\\marka\\.julia\\packages\\Zygote\\SuKWp\\src\\compiler\\interface2.jl:0\n",
      " [26] pullback(f::Function, cx::Zygote.Context{false}, args::Matrix{Float64})\n",
      "    @ Zygote C:\\Users\\marka\\.julia\\packages\\Zygote\\SuKWp\\src\\compiler\\interface.jl:44\n",
      " [27] pullback\n",
      "    @ C:\\Users\\marka\\.julia\\packages\\Zygote\\SuKWp\\src\\compiler\\interface.jl:42 [inlined]\n",
      " [28] withjacobian(f::Function, args::Matrix{Float64})\n",
      "    @ Zygote C:\\Users\\marka\\.julia\\packages\\Zygote\\SuKWp\\src\\lib\\grad.jl:141\n",
      " [29] jacobian(f::Function, args::Matrix{Float64})\n",
      "    @ Zygote C:\\Users\\marka\\.julia\\packages\\Zygote\\SuKWp\\src\\lib\\grad.jl:128\n",
      " [30] top-level scope\n",
      "    @ c:\\Users\\marka\\Documents\\VSCode\\Julia\\LaplaceRedux.jl\\notebooks\\differentiation.ipynb:2"
     ]
    }
   ],
   "source": [
    "# Define the function to be differentiated:\n",
    "f(x) = predict(la, x)\n",
    "# Differentiate it\n",
    "J = jacobian(f, X)\n",
    "println(J)"
   ]
  },
  {
   "attachments": {},
   "cell_type": "markdown",
   "metadata": {},
   "source": [
    "Through testing it has determined that the issue arises in nested use of Zygote, the use of `jacobian` in `jacobians` causes the issue. Jacobian moditifies the input arguments and therefore cannot be auto differentiated by Zygote.\n",
    "\n",
    "Cloning the inpute does not solve the issue, since the Zygote operates on the principle of reducing the function to the rules it can differentiate. The [issue](https://github.com/FluxML/Zygote.jl/issues/953) of nested use of Zygote is still open."
   ]
  }
 ],
 "metadata": {
  "kernelspec": {
   "display_name": "Julia 1.8.5",
   "language": "julia",
   "name": "julia-1.8"
  },
  "language_info": {
   "file_extension": ".jl",
   "mimetype": "application/julia",
   "name": "julia",
   "version": "1.8.5"
  },
  "orig_nbformat": 4
 },
 "nbformat": 4,
 "nbformat_minor": 2
}
