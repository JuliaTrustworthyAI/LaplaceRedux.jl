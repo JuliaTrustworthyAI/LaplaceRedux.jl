{
  "cells": [
    {
      "cell_type": "raw",
      "metadata": {},
      "source": [
        "---\n",
        "title: Effortless Bayesian Deep Learning in Julia through Laplace\n",
        "keywords:\n",
        "  - Julia\n",
        "  - Probabilistic Machine Learning\n",
        "  - Laplace Approximation\n",
        "  - Deep Learning\n",
        "  - Artificial Intelligence\n",
        "authors:\n",
        "  - name: Patrick Altmeyer\n",
        "    orcid: 0000-0003-4726-8613\n",
        "    affiliation:\n",
        "      - name: Delft University of Technology\n",
        "date: 17 November 2023\n",
        "bibliography: ref.bib\n",
        "format:\n",
        "  pat-alt/juliacon-proceedings-pdf:\n",
        "    keep-tex: true\n",
        "execute:\n",
        "  eval: false\n",
        "  echo: false\n",
        "---"
      ],
      "id": "1d7295bd"
    },
    {
      "cell_type": "markdown",
      "metadata": {},
      "source": [
        "{{< include body.qmd >}}"
      ],
      "id": "bd0c2435"
    }
  ],
  "metadata": {
    "kernelspec": {
      "name": "julia-1.9",
      "language": "julia",
      "display_name": "Julia 1.9.3"
    }
  },
  "nbformat": 4,
  "nbformat_minor": 5
}